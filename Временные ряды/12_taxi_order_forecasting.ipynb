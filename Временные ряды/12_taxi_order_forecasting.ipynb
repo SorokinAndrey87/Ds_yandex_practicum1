{
 "cells": [
  {
   "cell_type": "markdown",
   "metadata": {
    "tags": []
   },
   "source": [
    "# Проект Временные ряды"
   ]
  },
  {
   "cell_type": "markdown",
   "metadata": {},
   "source": [
    "## Прогнозирование заказов такси"
   ]
  },
  {
   "cell_type": "markdown",
   "metadata": {},
   "source": [
    "**Описание проекта**\n",
    "* Компания «Чётенькое такси» собрала исторические данные о заказах такси в аэропортах.\n",
    "* Чтобы привлекать больше водителей в период пиковой нагрузки, нужно спрогнозировать количество заказов такси на следующий час. \n",
    "* Постройте модель для такого предсказания.\n",
    "* Значение метрики **RMSE** на тестовой выборке должно быть не больше **48**."
   ]
  },
  {
   "cell_type": "markdown",
   "metadata": {},
   "source": [
    "**План работы**\n",
    "1. **Подготовка**\n",
    "2. **Анализ**\n",
    "3. **Обучение**\n",
    "4. **Тестирование**\n",
    "5. **Вывод**"
   ]
  },
  {
   "cell_type": "markdown",
   "metadata": {},
   "source": [
    "## 1.Подготовка"
   ]
  },
  {
   "cell_type": "code",
   "execution_count": 1,
   "metadata": {
    "tags": []
   },
   "outputs": [],
   "source": [
    "import pandas as pd\n",
    "import numpy as np\n",
    "import matplotlib.pyplot as plt\n",
    "import seaborn as sns\n",
    "from IPython.display import display\n",
    "from statsmodels.tsa.seasonal import seasonal_decompose\n",
    "from sklearn.model_selection import train_test_split, cross_val_score, GridSearchCV\n",
    "from sklearn.linear_model import LinearRegression\n",
    "from catboost import CatBoostRegressor\n",
    "from lightgbm import LGBMRegressor\n",
    "from sklearn.tree import DecisionTreeRegressor\n",
    "from sklearn.metrics import mean_squared_error\n",
    "from sklearn.metrics import make_scorer\n",
    "from sklearn.metrics import mean_squared_error as mse\n",
    "import os\n",
    "import warnings\n",
    "warnings.filterwarnings('ignore')\n",
    "%matplotlib inline"
   ]
  },
  {
   "cell_type": "code",
   "execution_count": 2,
   "metadata": {
    "tags": []
   },
   "outputs": [],
   "source": [
    "try:\n",
    "    df = pd.read_csv('/datasets/taxi.csv', index_col='datetime', parse_dates=[0])\n",
    "except:\n",
    "    df = pd.read_csv('C:/Users/copok/Documents/Проекты/Яндекс практикум/12. Предсказание такси/taxi.csv',\\\n",
    "                     index_col='datetime', parse_dates=[0])\n"
   ]
  },
  {
   "cell_type": "code",
   "execution_count": 3,
   "metadata": {
    "tags": []
   },
   "outputs": [],
   "source": [
    "def get_data_info(data):\n",
    "    display(data.sample(5))\n",
    "    print('-'*50)\n",
    "    display(data.info()) \n",
    "    print('-'*50)\n",
    "    display(data.describe())"
   ]
  },
  {
   "cell_type": "code",
   "execution_count": 4,
   "metadata": {
    "tags": []
   },
   "outputs": [
    {
     "data": {
      "text/html": [
       "<div>\n",
       "<style scoped>\n",
       "    .dataframe tbody tr th:only-of-type {\n",
       "        vertical-align: middle;\n",
       "    }\n",
       "\n",
       "    .dataframe tbody tr th {\n",
       "        vertical-align: top;\n",
       "    }\n",
       "\n",
       "    .dataframe thead th {\n",
       "        text-align: right;\n",
       "    }\n",
       "</style>\n",
       "<table border=\"1\" class=\"dataframe\">\n",
       "  <thead>\n",
       "    <tr style=\"text-align: right;\">\n",
       "      <th></th>\n",
       "      <th>num_orders</th>\n",
       "    </tr>\n",
       "    <tr>\n",
       "      <th>datetime</th>\n",
       "      <th></th>\n",
       "    </tr>\n",
       "  </thead>\n",
       "  <tbody>\n",
       "    <tr>\n",
       "      <th>2018-07-24 12:10:00</th>\n",
       "      <td>19</td>\n",
       "    </tr>\n",
       "    <tr>\n",
       "      <th>2018-04-18 18:10:00</th>\n",
       "      <td>4</td>\n",
       "    </tr>\n",
       "    <tr>\n",
       "      <th>2018-05-31 10:20:00</th>\n",
       "      <td>12</td>\n",
       "    </tr>\n",
       "    <tr>\n",
       "      <th>2018-03-31 04:40:00</th>\n",
       "      <td>11</td>\n",
       "    </tr>\n",
       "    <tr>\n",
       "      <th>2018-03-19 01:40:00</th>\n",
       "      <td>23</td>\n",
       "    </tr>\n",
       "  </tbody>\n",
       "</table>\n",
       "</div>"
      ],
      "text/plain": [
       "                     num_orders\n",
       "datetime                       \n",
       "2018-07-24 12:10:00          19\n",
       "2018-04-18 18:10:00           4\n",
       "2018-05-31 10:20:00          12\n",
       "2018-03-31 04:40:00          11\n",
       "2018-03-19 01:40:00          23"
      ]
     },
     "metadata": {},
     "output_type": "display_data"
    },
    {
     "name": "stdout",
     "output_type": "stream",
     "text": [
      "--------------------------------------------------\n",
      "<class 'pandas.core.frame.DataFrame'>\n",
      "DatetimeIndex: 26496 entries, 2018-03-01 00:00:00 to 2018-08-31 23:50:00\n",
      "Data columns (total 1 columns):\n",
      " #   Column      Non-Null Count  Dtype\n",
      "---  ------      --------------  -----\n",
      " 0   num_orders  26496 non-null  int64\n",
      "dtypes: int64(1)\n",
      "memory usage: 414.0 KB\n"
     ]
    },
    {
     "data": {
      "text/plain": [
       "None"
      ]
     },
     "metadata": {},
     "output_type": "display_data"
    },
    {
     "name": "stdout",
     "output_type": "stream",
     "text": [
      "--------------------------------------------------\n"
     ]
    },
    {
     "data": {
      "text/html": [
       "<div>\n",
       "<style scoped>\n",
       "    .dataframe tbody tr th:only-of-type {\n",
       "        vertical-align: middle;\n",
       "    }\n",
       "\n",
       "    .dataframe tbody tr th {\n",
       "        vertical-align: top;\n",
       "    }\n",
       "\n",
       "    .dataframe thead th {\n",
       "        text-align: right;\n",
       "    }\n",
       "</style>\n",
       "<table border=\"1\" class=\"dataframe\">\n",
       "  <thead>\n",
       "    <tr style=\"text-align: right;\">\n",
       "      <th></th>\n",
       "      <th>num_orders</th>\n",
       "    </tr>\n",
       "  </thead>\n",
       "  <tbody>\n",
       "    <tr>\n",
       "      <th>count</th>\n",
       "      <td>26496.000000</td>\n",
       "    </tr>\n",
       "    <tr>\n",
       "      <th>mean</th>\n",
       "      <td>14.070463</td>\n",
       "    </tr>\n",
       "    <tr>\n",
       "      <th>std</th>\n",
       "      <td>9.211330</td>\n",
       "    </tr>\n",
       "    <tr>\n",
       "      <th>min</th>\n",
       "      <td>0.000000</td>\n",
       "    </tr>\n",
       "    <tr>\n",
       "      <th>25%</th>\n",
       "      <td>8.000000</td>\n",
       "    </tr>\n",
       "    <tr>\n",
       "      <th>50%</th>\n",
       "      <td>13.000000</td>\n",
       "    </tr>\n",
       "    <tr>\n",
       "      <th>75%</th>\n",
       "      <td>19.000000</td>\n",
       "    </tr>\n",
       "    <tr>\n",
       "      <th>max</th>\n",
       "      <td>119.000000</td>\n",
       "    </tr>\n",
       "  </tbody>\n",
       "</table>\n",
       "</div>"
      ],
      "text/plain": [
       "         num_orders\n",
       "count  26496.000000\n",
       "mean      14.070463\n",
       "std        9.211330\n",
       "min        0.000000\n",
       "25%        8.000000\n",
       "50%       13.000000\n",
       "75%       19.000000\n",
       "max      119.000000"
      ]
     },
     "metadata": {},
     "output_type": "display_data"
    }
   ],
   "source": [
    "get_data_info(df)"
   ]
  },
  {
   "cell_type": "markdown",
   "metadata": {},
   "source": [
    "Проверим индекс на монотонность"
   ]
  },
  {
   "cell_type": "code",
   "execution_count": 5,
   "metadata": {},
   "outputs": [
    {
     "data": {
      "text/plain": [
       "True"
      ]
     },
     "execution_count": 5,
     "metadata": {},
     "output_type": "execute_result"
    }
   ],
   "source": [
    "df.index.is_monotonic_increasing"
   ]
  },
  {
   "cell_type": "markdown",
   "metadata": {},
   "source": [
    "**Данные загрузили. Теперь выполним их ресемплирование по одному часу.**"
   ]
  },
  {
   "cell_type": "markdown",
   "metadata": {},
   "source": [
    "Поскольку предсказываем количество заказов такси на следующий час, аггрегируем суммы значений."
   ]
  },
  {
   "cell_type": "code",
   "execution_count": 6,
   "metadata": {},
   "outputs": [],
   "source": [
    "df = df.sort_index()\n",
    "df = df.resample('1H').sum()"
   ]
  },
  {
   "cell_type": "code",
   "execution_count": 7,
   "metadata": {},
   "outputs": [
    {
     "data": {
      "text/plain": [
       "'Временной промежуток данных: 2018-03-01 00:00:00 - 2018-08-31 23:00:00'"
      ]
     },
     "execution_count": 7,
     "metadata": {},
     "output_type": "execute_result"
    }
   ],
   "source": [
    "f\"Временной промежуток данных: {df.index.min()} - {df.index.max()}\""
   ]
  },
  {
   "cell_type": "markdown",
   "metadata": {},
   "source": [
    "## 2.Анализ"
   ]
  },
  {
   "cell_type": "markdown",
   "metadata": {},
   "source": [
    "* **Разложим данные на три составляющие: тренд, сезонность и остаток.**\n",
    "* Построим графики последнего месяца временного ряда и проанализируем данные."
   ]
  },
  {
   "cell_type": "code",
   "execution_count": 8,
   "metadata": {},
   "outputs": [
    {
     "data": {
      "image/png": "[encoded data removed]",
      "text/plain": [
       "<Figure size 800x1200 with 3 Axes>"
      ]
     },
     "metadata": {},
     "output_type": "display_data"
    }
   ],
   "source": [
    "decomposed = seasonal_decompose(df['2018-08':'2018-08'])\n",
    "plt.figure(figsize=(8, 12))\n",
    "plt.subplot(311)\n",
    "\n",
    "# Чтобы график корректно отобразился, указываем его\n",
    "# оси ax, равными plt.gca() (англ. get current axis,\n",
    "# получить текущие оси)\n",
    "\n",
    "decomposed.trend.plot(ax=plt.gca())\n",
    "plt.title('Trend')\n",
    "plt.subplot(312)\n",
    "\n",
    "decomposed.seasonal.plot(ax=plt.gca())\n",
    "plt.title('Seasonality')\n",
    "plt.subplot(313)\n",
    "\n",
    "decomposed.resid.plot(ax=plt.gca())\n",
    "plt.title('Residuals')\n",
    "plt.tight_layout()"
   ]
  },
  {
   "cell_type": "markdown",
   "metadata": {},
   "source": [
    "* Трэнд показывает линейный рост количества заказов со временем. Построим тренд для всего временного ряда, чтобы увидеть полную картину.\n",
    "* Распределение сезонной части выглядит статическим в интервале суток. Ночью такси почти не заказывают, пик ближе к вечеру.\n",
    "* Случайная часть также имеет постоянной среднее значение, но периодически возникают большие всплески (объясняются повышенным спросом на такси по выходным и праздникам)\n"
   ]
  },
  {
   "cell_type": "code",
   "execution_count": 9,
   "metadata": {},
   "outputs": [
    {
     "data": {
      "image/png": "[encoded data removed]",
      "text/plain": [
       "<Figure size 1200x500 with 1 Axes>"
      ]
     },
     "metadata": {},
     "output_type": "display_data"
    }
   ],
   "source": [
    "decomposed = seasonal_decompose(df)\n",
    "plt.figure(figsize=(12, 5))\n",
    "decomposed.trend.plot()\n",
    "plt.title('Trend');"
   ]
  },
  {
   "cell_type": "markdown",
   "metadata": {},
   "source": [
    "* Трэнд имеет более сложную зависимость от времени (квадраичная или экспоненциальная, сложно оценить по днной выборке). Для нашей задачи будем считать его линейным (предсказания нам нужны всего на час вперёд).\n",
    "* Также заметим, что линия тренда имеет некоторый шум. Возможно, для предсказания будет необходимо применить скользящее среднее с окном в несколько десятков часов."
   ]
  },
  {
   "cell_type": "markdown",
   "metadata": {},
   "source": [
    "## 3.Обучение"
   ]
  },
  {
   "cell_type": "markdown",
   "metadata": {},
   "source": [
    "**В качестве baseline модели будем предсказывать новые значения предыдущими**"
   ]
  },
  {
   "cell_type": "code",
   "execution_count": 10,
   "metadata": {},
   "outputs": [
    {
     "name": "stdout",
     "output_type": "stream",
     "text": [
      "RMSE baseline модели: 53.37\n"
     ]
    }
   ],
   "source": [
    "train, test = train_test_split(df, shuffle=False, test_size=0.2)\n",
    "train = train.dropna()\n",
    "pred_previous = test.shift()\n",
    "pred_previous.iloc[0] = train.iloc[-1]\n",
    "rmse_base =  mean_squared_error(test['num_orders'], pred_previous) ** 0.5\n",
    "print(\"RMSE baseline модели:\", round(rmse_base, 2))"
   ]
  },
  {
   "cell_type": "markdown",
   "metadata": {},
   "source": [
    "Проверим предсказания по среднему значению"
   ]
  },
  {
   "cell_type": "code",
   "execution_count": 11,
   "metadata": {},
   "outputs": [
    {
     "name": "stdout",
     "output_type": "stream",
     "text": [
      "RMSE baseline модели: 74.42015786913375\n"
     ]
    }
   ],
   "source": [
    "pred_mean = np.ones(test.shape) * train['num_orders'].mean()\n",
    "print(\"RMSE baseline модели:\", mean_squared_error(test['num_orders'], pred_mean) ** 0.5)"
   ]
  },
  {
   "cell_type": "markdown",
   "metadata": {},
   "source": [
    "Предсказания по предыдущему значению показывают лучший результат. Возьмём их в качестве baseline."
   ]
  },
  {
   "cell_type": "markdown",
   "metadata": {},
   "source": [
    "**Напишем функцию `make_features` для создания обучающих признаков.** "
   ]
  },
  {
   "cell_type": "code",
   "execution_count": 12,
   "metadata": {},
   "outputs": [],
   "source": [
    "#Обучим различные модели и добавим модели и рассчитанный RMSE в массив\n",
    "train_models = []"
   ]
  },
  {
   "cell_type": "code",
   "execution_count": 13,
   "metadata": {},
   "outputs": [],
   "source": [
    "def RMSE(target,predictions):\n",
    "    MSE = mean_squared_error(target, predictions)\n",
    "    return MSE ** 0.5\n",
    "RMSE_score = make_scorer(RMSE, greater_is_better=False)"
   ]
  },
  {
   "cell_type": "code",
   "execution_count": 14,
   "metadata": {},
   "outputs": [],
   "source": [
    "def make_features(data, max_lag, rolling_mean_size):\n",
    "    df['month'] = df.index.month\n",
    "    df['day'] = df.index.day\n",
    "    df['dayofweek'] = df.index.dayofweek\n",
    "    df['hour'] = df.index.dayofweek\n",
    "    # вычислим отстающие значения\n",
    "    # добавим новый аргумент max_lag, который задаст максимальный размер отставания. \n",
    "    # новые признаки назовем: 'lag_1', 'lag_2' — и до величины max_lag.\n",
    "    for lag in range(1, max_lag + 1):\n",
    "        df['lag_{}'.format(lag)] = df['num_orders'].shift(lag)# \n",
    "    # вычислим скользящее среднее и добавим его как признак 'rolling_mean'.\n",
    "    df['rolling_mean'] = df['num_orders'].shift().rolling(rolling_mean_size).mean()\n",
    "    return df"
   ]
  },
  {
   "cell_type": "code",
   "execution_count": 15,
   "metadata": {},
   "outputs": [],
   "source": [
    "# зададим отстающие признаки 20, а скользящее среднее 10\n",
    "df = make_features(df, 40, 20)"
   ]
  },
  {
   "cell_type": "code",
   "execution_count": 16,
   "metadata": {},
   "outputs": [
    {
     "data": {
      "text/plain": [
       "(3934, 46)"
      ]
     },
     "metadata": {},
     "output_type": "display_data"
    },
    {
     "data": {
      "text/plain": [
       "(442, 46)"
      ]
     },
     "metadata": {},
     "output_type": "display_data"
    },
    {
     "name": "stdout",
     "output_type": "stream",
     "text": [
      "2018-03-02 16:00:00 2018-08-13 13:00:00\n",
      "2018-08-13 14:00:00 2018-08-31 23:00:00\n"
     ]
    }
   ],
   "source": [
    "# разделим выборки на обучающую и тестовую\n",
    "train, test = train_test_split(df, shuffle=False, test_size=0.1)\n",
    "train = train.dropna()\n",
    "\n",
    "X_train = train.drop(['num_orders'], axis=1)\n",
    "y_train = train['num_orders']\n",
    " \n",
    "X_test = test.drop(['num_orders'], axis=1)\n",
    "y_test = test['num_orders']\n",
    "\n",
    "# проверим размер выборок\n",
    "display(train.shape)\n",
    "display(test.shape)\n",
    "# проверим корректность деления\n",
    "print(train.index.min(), train.index.max())\n",
    "print(test.index.min(), test.index.max())"
   ]
  },
  {
   "cell_type": "markdown",
   "metadata": {},
   "source": [
    "### Модель линейной регрессии"
   ]
  },
  {
   "cell_type": "code",
   "execution_count": 17,
   "metadata": {},
   "outputs": [
    {
     "name": "stdout",
     "output_type": "stream",
     "text": [
      "CPU times: total: 46.9 ms\n",
      "Wall time: 20.5 ms\n"
     ]
    },
    {
     "data": {
      "text/plain": [
       "'RMSE для линейной модели на обучающей выборке: 25.04'"
      ]
     },
     "execution_count": 17,
     "metadata": {},
     "output_type": "execute_result"
    }
   ],
   "source": [
    "%%time\n",
    "LR_model = LinearRegression()\n",
    " \n",
    "LR_model.fit(X_train, y_train)\n",
    "train_pred = LR_model.predict(X_train)\n",
    "LR_rmse = mean_squared_error(y_train, train_pred)**0.5\n",
    "f\"RMSE для линейной модели на обучающей выборке: {round(LR_rmse, 2)}\""
   ]
  },
  {
   "cell_type": "markdown",
   "metadata": {},
   "source": [
    "### DecisionTree"
   ]
  },
  {
   "cell_type": "code",
   "execution_count": 18,
   "metadata": {},
   "outputs": [],
   "source": [
    "DT_model = DecisionTreeRegressor(random_state=42)\n",
    "treeregressor_params = {'max_depth':range (1,10), 'min_samples_split':range(2,6), 'min_samples_leaf':range(1,10)}"
   ]
  },
  {
   "cell_type": "code",
   "execution_count": 19,
   "metadata": {},
   "outputs": [
    {
     "name": "stdout",
     "output_type": "stream",
     "text": [
      "CPU times: total: 5.64 s\n",
      "Wall time: 31.4 s\n"
     ]
    },
    {
     "data": {
      "text/plain": [
       "{'max_depth': 5, 'min_samples_leaf': 6, 'min_samples_split': 2}"
      ]
     },
     "execution_count": 19,
     "metadata": {},
     "output_type": "execute_result"
    }
   ],
   "source": [
    "%%time\n",
    "DT_model = GridSearchCV(DT_model , param_grid = treeregressor_params, cv=5,\n",
    "                                            scoring = RMSE_score, n_jobs=-1)\n",
    "DT_model.fit(X_train,y_train)\n",
    "DT_model.best_params_"
   ]
  },
  {
   "cell_type": "code",
   "execution_count": 20,
   "metadata": {},
   "outputs": [
    {
     "name": "stdout",
     "output_type": "stream",
     "text": [
      "CPU times: total: 93.8 ms\n",
      "Wall time: 92 ms\n"
     ]
    }
   ],
   "source": [
    "%%time\n",
    "DT_train = DecisionTreeRegressor(**DT_model.best_params_).fit(X_train, y_train)"
   ]
  },
  {
   "cell_type": "code",
   "execution_count": 21,
   "metadata": {},
   "outputs": [
    {
     "name": "stdout",
     "output_type": "stream",
     "text": [
      "CPU times: total: 31.2 ms\n",
      "Wall time: 6.07 ms\n"
     ]
    }
   ],
   "source": [
    "%%time\n",
    "DT_pred = DT_train.predict(X_train)"
   ]
  },
  {
   "cell_type": "code",
   "execution_count": 22,
   "metadata": {},
   "outputs": [
    {
     "data": {
      "text/plain": [
       "'RMSE для DecisionTreeRegressor на обучающей выборке: 25.38'"
      ]
     },
     "execution_count": 22,
     "metadata": {},
     "output_type": "execute_result"
    }
   ],
   "source": [
    "DT_rmse = np.sqrt(mse(y_train, DT_pred))\n",
    "f\"RMSE для DecisionTreeRegressor на обучающей выборке: {round(DT_rmse, 2)}\""
   ]
  },
  {
   "cell_type": "markdown",
   "metadata": {},
   "source": [
    "### CatBoost"
   ]
  },
  {
   "cell_type": "code",
   "execution_count": 23,
   "metadata": {},
   "outputs": [],
   "source": [
    "catboost_params = {\n",
    "    'learning_rate': [0.1],\n",
    "    'iterations': [50, 100, 200],\n",
    "    'max_depth': [2, 4, 6]\n",
    "}\n",
    "catboost_model = CatBoostRegressor(random_state=42,silent=True)"
   ]
  },
  {
   "cell_type": "code",
   "execution_count": 24,
   "metadata": {},
   "outputs": [
    {
     "name": "stdout",
     "output_type": "stream",
     "text": [
      "CPU times: total: 8.06 s\n",
      "Wall time: 16.3 s\n"
     ]
    },
    {
     "data": {
      "text/plain": [
       "{'iterations': 200, 'learning_rate': 0.1, 'max_depth': 6}"
      ]
     },
     "execution_count": 24,
     "metadata": {},
     "output_type": "execute_result"
    }
   ],
   "source": [
    "%%time\n",
    "cat_model = GridSearchCV(catboost_model, param_grid = catboost_params, cv = 5, n_jobs=-1, scoring=RMSE_score)\\\n",
    "                                                                                         .fit(X_train, y_train)\n",
    "\n",
    "cat_model.best_params_"
   ]
  },
  {
   "cell_type": "code",
   "execution_count": 25,
   "metadata": {},
   "outputs": [
    {
     "name": "stdout",
     "output_type": "stream",
     "text": [
      "CPU times: total: 7.78 s\n",
      "Wall time: 1.22 s\n"
     ]
    }
   ],
   "source": [
    "%%time\n",
    "cat_train = CatBoostRegressor(**cat_model.best_params_,  logging_level='Silent').fit(X_train, y_train)"
   ]
  },
  {
   "cell_type": "code",
   "execution_count": 26,
   "metadata": {},
   "outputs": [
    {
     "name": "stdout",
     "output_type": "stream",
     "text": [
      "CPU times: total: 0 ns\n",
      "Wall time: 5.05 ms\n"
     ]
    }
   ],
   "source": [
    "%%time\n",
    "cat_pred = cat_train.predict(X_train)"
   ]
  },
  {
   "cell_type": "code",
   "execution_count": 27,
   "metadata": {},
   "outputs": [
    {
     "data": {
      "text/plain": [
       "'RMSE для CatBoostRegressor на обучающей выборке: 16.22'"
      ]
     },
     "execution_count": 27,
     "metadata": {},
     "output_type": "execute_result"
    }
   ],
   "source": [
    "cat_rmse = np.sqrt(mse(y_train,cat_pred))\n",
    "f\"RMSE для CatBoostRegressor на обучающей выборке: {round(cat_rmse, 2)}\""
   ]
  },
  {
   "cell_type": "code",
   "execution_count": 28,
   "metadata": {},
   "outputs": [],
   "source": [
    "model = pd.DataFrame([['Baseline', round(rmse_base, 2)],\n",
    "                      ['Linear Regression', round(LR_rmse, 2)],\n",
    "                      ['DecisionTree', round(DT_rmse, 2)],\n",
    "                      ['CatBoost', round(cat_rmse, 2)]],\n",
    "                    columns = ['model', 'RMSE'])"
   ]
  },
  {
   "cell_type": "code",
   "execution_count": 29,
   "metadata": {},
   "outputs": [
    {
     "data": {
      "text/html": [
       "<div>\n",
       "<style scoped>\n",
       "    .dataframe tbody tr th:only-of-type {\n",
       "        vertical-align: middle;\n",
       "    }\n",
       "\n",
       "    .dataframe tbody tr th {\n",
       "        vertical-align: top;\n",
       "    }\n",
       "\n",
       "    .dataframe thead th {\n",
       "        text-align: right;\n",
       "    }\n",
       "</style>\n",
       "<table border=\"1\" class=\"dataframe\">\n",
       "  <thead>\n",
       "    <tr style=\"text-align: right;\">\n",
       "      <th></th>\n",
       "      <th>model</th>\n",
       "      <th>RMSE</th>\n",
       "    </tr>\n",
       "  </thead>\n",
       "  <tbody>\n",
       "    <tr>\n",
       "      <th>3</th>\n",
       "      <td>CatBoost</td>\n",
       "      <td>16.22</td>\n",
       "    </tr>\n",
       "    <tr>\n",
       "      <th>1</th>\n",
       "      <td>Linear Regression</td>\n",
       "      <td>25.04</td>\n",
       "    </tr>\n",
       "    <tr>\n",
       "      <th>2</th>\n",
       "      <td>DecisionTree</td>\n",
       "      <td>25.38</td>\n",
       "    </tr>\n",
       "    <tr>\n",
       "      <th>0</th>\n",
       "      <td>Baseline</td>\n",
       "      <td>53.37</td>\n",
       "    </tr>\n",
       "  </tbody>\n",
       "</table>\n",
       "</div>"
      ],
      "text/plain": [
       "               model   RMSE\n",
       "3           CatBoost  16.22\n",
       "1  Linear Regression  25.04\n",
       "2       DecisionTree  25.38\n",
       "0           Baseline  53.37"
      ]
     },
     "execution_count": 29,
     "metadata": {},
     "output_type": "execute_result"
    }
   ],
   "source": [
    "model.sort_values('RMSE')"
   ]
  },
  {
   "cell_type": "markdown",
   "metadata": {},
   "source": [
    "## 4.Тестирование"
   ]
  },
  {
   "cell_type": "code",
   "execution_count": 30,
   "metadata": {},
   "outputs": [
    {
     "name": "stdout",
     "output_type": "stream",
     "text": [
      "CPU times: total: 0 ns\n",
      "Wall time: 5.97 ms\n"
     ]
    }
   ],
   "source": [
    "%%time\n",
    "test_cat_pred = cat_train.predict(X_test)"
   ]
  },
  {
   "cell_type": "code",
   "execution_count": 31,
   "metadata": {},
   "outputs": [
    {
     "data": {
      "text/plain": [
       "'RMSE для CatBoostRegressor тестовой выборке: 42.68'"
      ]
     },
     "execution_count": 31,
     "metadata": {},
     "output_type": "execute_result"
    }
   ],
   "source": [
    "test_cat_rmse = np.sqrt(mse(y_test,test_cat_pred))\n",
    "f\"RMSE для CatBoostRegressor тестовой выборке: {round(test_cat_rmse , 2)}\""
   ]
  },
  {
   "cell_type": "markdown",
   "metadata": {},
   "source": [
    "## 5.Вывод"
   ]
  },
  {
   "cell_type": "markdown",
   "metadata": {},
   "source": [
    "* Загрузили данные\n",
    "* Выполним  ресемплирование по одному часу.\n",
    "* При анализе данных разложили данные на три составляющие: тренд, сезонность и остаток.\n",
    "  * Трэнд показывает линейный рост количества заказов со временем. Построим тренд для всего временного ряда, чтобы увидеть полную картину.\n",
    "    * Трэнд имеет более сложную зависимость от времени (квадраичная или экспоненциальная, сложно оценить по днной выборке). Для нашей задачи будем считать его линейным (предсказания нам нужны всего на час вперёд).\n",
    "    * Также заметим, что линия тренда имеет некоторый шум. Возможно, для предсказания будет необходимо применить скользящее среднее с окном в несколько десятков часов.\n",
    "  * Распределение сезонной части выглядит статическим в интервале суток. Ночью такси почти не заказывают, пик ближе к вечеру.\n",
    "  * Случайная часть также имеет постоянной среднее значение, но периодически возникают большие всплески (объясняются повышенным спросом на такси по выходным и праздникам)\n",
    "  \n",
    "\n",
    "* Написали функцию **`make_features`** для создания обучающих признаков. \n",
    "* Подобрали гиперпараметры и обучили несколько разных моделей.\n",
    "* Лучший результат показала модель **`CatBoost`**\n",
    "* Протестировали выборку на этой модели \n",
    "\n",
    "\n",
    "* Получили значение **`RMSE`** **42.68**, что соответствует условию задачи.\n",
    "\n"
   ]
  },
  {
   "cell_type": "code",
   "execution_count": null,
   "metadata": {},
   "outputs": [],
   "source": []
  }
 ],
 "metadata": {
  "ExecuteTimeLog": [
   {
    "duration": 1564,
    "start_time": "2023-03-10T11:36:34.251Z"
   },
   {
    "duration": 113,
    "start_time": "2023-03-10T11:36:53.935Z"
   },
   {
    "duration": 143,
    "start_time": "2023-03-10T11:37:12.745Z"
   },
   {
    "duration": 47,
    "start_time": "2023-03-10T11:37:17.463Z"
   },
   {
    "duration": 10,
    "start_time": "2023-03-10T11:37:23.374Z"
   },
   {
    "duration": 4,
    "start_time": "2023-03-10T11:38:43.321Z"
   },
   {
    "duration": 32,
    "start_time": "2023-03-10T11:38:54.632Z"
   },
   {
    "duration": 4,
    "start_time": "2023-03-10T11:40:03.595Z"
   },
   {
    "duration": 23,
    "start_time": "2023-03-10T11:40:05.641Z"
   },
   {
    "duration": 9,
    "start_time": "2023-03-10T11:43:14.314Z"
   },
   {
    "duration": 9,
    "start_time": "2023-03-10T11:43:23.734Z"
   },
   {
    "duration": 4,
    "start_time": "2023-03-10T11:43:33.469Z"
   },
   {
    "duration": 886,
    "start_time": "2023-03-10T11:46:02.719Z"
   },
   {
    "duration": 254,
    "start_time": "2023-03-10T11:48:57.882Z"
   },
   {
    "duration": 176,
    "start_time": "2023-03-10T11:49:07.586Z"
   },
   {
    "duration": 684,
    "start_time": "2023-03-10T11:50:14.272Z"
   },
   {
    "duration": 874,
    "start_time": "2023-03-10T11:51:22.741Z"
   },
   {
    "duration": 291,
    "start_time": "2023-03-10T11:53:06.252Z"
   },
   {
    "duration": 5,
    "start_time": "2023-03-10T11:54:29.463Z"
   },
   {
    "duration": 47,
    "start_time": "2023-03-10T11:54:29.967Z"
   },
   {
    "duration": 3,
    "start_time": "2023-03-10T11:54:30.241Z"
   },
   {
    "duration": 23,
    "start_time": "2023-03-10T11:54:30.482Z"
   },
   {
    "duration": 8,
    "start_time": "2023-03-10T11:54:31.677Z"
   },
   {
    "duration": 4,
    "start_time": "2023-03-10T11:54:31.980Z"
   },
   {
    "duration": 763,
    "start_time": "2023-03-10T11:54:33.993Z"
   },
   {
    "duration": 206,
    "start_time": "2023-03-10T11:54:52.393Z"
   },
   {
    "duration": 777,
    "start_time": "2023-03-10T11:55:15.174Z"
   },
   {
    "duration": 5,
    "start_time": "2023-03-10T11:55:21.041Z"
   },
   {
    "duration": 45,
    "start_time": "2023-03-10T11:55:21.273Z"
   },
   {
    "duration": 3,
    "start_time": "2023-03-10T11:55:21.486Z"
   },
   {
    "duration": 24,
    "start_time": "2023-03-10T11:55:21.724Z"
   },
   {
    "duration": 7,
    "start_time": "2023-03-10T11:55:22.518Z"
   },
   {
    "duration": 4,
    "start_time": "2023-03-10T11:55:22.871Z"
   },
   {
    "duration": 882,
    "start_time": "2023-03-10T11:55:23.943Z"
   },
   {
    "duration": 222,
    "start_time": "2023-03-10T11:55:38.423Z"
   },
   {
    "duration": 204,
    "start_time": "2023-03-10T11:55:48.954Z"
   },
   {
    "duration": 308,
    "start_time": "2023-03-10T11:56:33.249Z"
   },
   {
    "duration": 742,
    "start_time": "2023-03-10T11:56:56.372Z"
   },
   {
    "duration": 762,
    "start_time": "2023-03-10T11:57:25.790Z"
   },
   {
    "duration": 530,
    "start_time": "2023-03-10T11:57:34.898Z"
   },
   {
    "duration": 9,
    "start_time": "2023-03-10T12:00:23.592Z"
   },
   {
    "duration": 5,
    "start_time": "2023-03-10T12:00:51.721Z"
   },
   {
    "duration": 63,
    "start_time": "2023-03-10T12:01:07.526Z"
   },
   {
    "duration": 4,
    "start_time": "2023-03-10T12:05:02.338Z"
   },
   {
    "duration": 672,
    "start_time": "2023-03-10T12:14:07.017Z"
   },
   {
    "duration": 705,
    "start_time": "2023-03-10T12:15:20.191Z"
   },
   {
    "duration": 11,
    "start_time": "2023-03-10T12:18:47.958Z"
   },
   {
    "duration": 11,
    "start_time": "2023-03-10T12:19:52.072Z"
   },
   {
    "duration": 118,
    "start_time": "2023-03-10T12:20:00.443Z"
   },
   {
    "duration": 8,
    "start_time": "2023-03-10T12:20:26.579Z"
   },
   {
    "duration": 20,
    "start_time": "2023-03-10T12:20:38.931Z"
   },
   {
    "duration": 11,
    "start_time": "2023-03-10T12:22:18.602Z"
   },
   {
    "duration": 4,
    "start_time": "2023-03-10T12:23:33.299Z"
   },
   {
    "duration": 10,
    "start_time": "2023-03-10T12:23:33.916Z"
   },
   {
    "duration": 11,
    "start_time": "2023-03-10T12:23:40.098Z"
   },
   {
    "duration": 10,
    "start_time": "2023-03-10T12:29:17.751Z"
   },
   {
    "duration": 12,
    "start_time": "2023-03-10T12:29:23.239Z"
   },
   {
    "duration": 50,
    "start_time": "2023-03-10T12:30:50.747Z"
   },
   {
    "duration": 114,
    "start_time": "2023-03-10T12:31:50.993Z"
   },
   {
    "duration": 85,
    "start_time": "2023-03-10T12:34:18.915Z"
   },
   {
    "duration": 109,
    "start_time": "2023-03-10T12:37:23.483Z"
   },
   {
    "duration": 8,
    "start_time": "2023-03-10T12:38:02.417Z"
   },
   {
    "duration": 56,
    "start_time": "2023-03-10T12:39:09.084Z"
   },
   {
    "duration": 44,
    "start_time": "2023-03-10T12:39:09.722Z"
   },
   {
    "duration": 3,
    "start_time": "2023-03-10T12:39:09.990Z"
   },
   {
    "duration": 21,
    "start_time": "2023-03-10T12:39:10.177Z"
   },
   {
    "duration": 4,
    "start_time": "2023-03-10T12:39:10.548Z"
   },
   {
    "duration": 6,
    "start_time": "2023-03-10T12:39:11.111Z"
   },
   {
    "duration": 4,
    "start_time": "2023-03-10T12:39:11.297Z"
   },
   {
    "duration": 656,
    "start_time": "2023-03-10T12:39:11.912Z"
   },
   {
    "duration": 198,
    "start_time": "2023-03-10T12:39:12.570Z"
   },
   {
    "duration": 9,
    "start_time": "2023-03-10T12:39:14.739Z"
   },
   {
    "duration": 11,
    "start_time": "2023-03-10T12:39:14.749Z"
   },
   {
    "duration": 4,
    "start_time": "2023-03-10T12:39:14.865Z"
   },
   {
    "duration": 28,
    "start_time": "2023-03-10T12:39:14.870Z"
   },
   {
    "duration": 11,
    "start_time": "2023-03-10T12:39:14.899Z"
   },
   {
    "duration": 62,
    "start_time": "2023-03-10T12:39:15.120Z"
   },
   {
    "duration": 3,
    "start_time": "2023-03-10T12:39:15.655Z"
   },
   {
    "duration": 16,
    "start_time": "2023-03-10T12:40:02.430Z"
   },
   {
    "duration": 5,
    "start_time": "2023-03-10T12:40:48.575Z"
   },
   {
    "duration": 48,
    "start_time": "2023-03-10T12:40:49.335Z"
   },
   {
    "duration": 3,
    "start_time": "2023-03-10T12:40:49.611Z"
   },
   {
    "duration": 21,
    "start_time": "2023-03-10T12:40:49.821Z"
   },
   {
    "duration": 4,
    "start_time": "2023-03-10T12:40:50.234Z"
   },
   {
    "duration": 6,
    "start_time": "2023-03-10T12:40:50.867Z"
   },
   {
    "duration": 4,
    "start_time": "2023-03-10T12:40:51.092Z"
   },
   {
    "duration": 701,
    "start_time": "2023-03-10T12:40:51.728Z"
   },
   {
    "duration": 309,
    "start_time": "2023-03-10T12:40:52.431Z"
   },
   {
    "duration": 10,
    "start_time": "2023-03-10T12:40:53.068Z"
   },
   {
    "duration": 4,
    "start_time": "2023-03-10T12:40:53.487Z"
   },
   {
    "duration": 2,
    "start_time": "2023-03-10T12:40:54.154Z"
   },
   {
    "duration": 4,
    "start_time": "2023-03-10T12:40:54.352Z"
   },
   {
    "duration": 2,
    "start_time": "2023-03-10T12:40:57.917Z"
   },
   {
    "duration": 4,
    "start_time": "2023-03-10T12:40:58.186Z"
   },
   {
    "duration": 16,
    "start_time": "2023-03-10T12:40:58.419Z"
   },
   {
    "duration": 13,
    "start_time": "2023-03-10T12:40:59.327Z"
   },
   {
    "duration": 188,
    "start_time": "2023-03-10T12:41:00.593Z"
   },
   {
    "duration": 4,
    "start_time": "2023-03-10T12:41:03.693Z"
   },
   {
    "duration": 89,
    "start_time": "2023-03-10T12:41:44.414Z"
   },
   {
    "duration": 96,
    "start_time": "2023-03-10T12:41:44.504Z"
   },
   {
    "duration": 6,
    "start_time": "2023-03-10T12:41:44.601Z"
   },
   {
    "duration": 9,
    "start_time": "2023-03-10T12:41:44.608Z"
   },
   {
    "duration": 133,
    "start_time": "2023-03-10T12:42:57.201Z"
   },
   {
    "duration": 4,
    "start_time": "2023-03-10T12:42:59.355Z"
   },
   {
    "duration": 40498,
    "start_time": "2023-03-10T12:42:59.653Z"
   },
   {
    "duration": 35,
    "start_time": "2023-03-10T12:43:40.152Z"
   },
   {
    "duration": 5,
    "start_time": "2023-03-10T12:43:40.188Z"
   },
   {
    "duration": 10,
    "start_time": "2023-03-10T12:43:40.195Z"
   },
   {
    "duration": 5,
    "start_time": "2023-03-10T12:44:21.139Z"
   },
   {
    "duration": 4,
    "start_time": "2023-03-10T12:44:39.848Z"
   },
   {
    "duration": 3,
    "start_time": "2023-03-10T12:45:17.140Z"
   },
   {
    "duration": 31227,
    "start_time": "2023-03-10T12:45:58.233Z"
   },
   {
    "duration": 1515,
    "start_time": "2023-03-10T12:46:34.587Z"
   },
   {
    "duration": 6,
    "start_time": "2023-03-10T12:46:49.550Z"
   },
   {
    "duration": 9,
    "start_time": "2023-03-10T12:48:01.555Z"
   },
   {
    "duration": 4,
    "start_time": "2023-03-10T12:48:11.313Z"
   },
   {
    "duration": 3,
    "start_time": "2023-03-10T12:49:16.141Z"
   },
   {
    "duration": 494029,
    "start_time": "2023-03-10T12:49:16.403Z"
   },
   {
    "duration": 78,
    "start_time": "2023-03-10T12:57:30.434Z"
   },
   {
    "duration": 72,
    "start_time": "2023-03-10T12:57:30.587Z"
   },
   {
    "duration": 0,
    "start_time": "2023-03-10T12:57:30.669Z"
   },
   {
    "duration": 0,
    "start_time": "2023-03-10T12:57:30.670Z"
   },
   {
    "duration": 0,
    "start_time": "2023-03-10T12:57:30.672Z"
   },
   {
    "duration": 1416,
    "start_time": "2023-03-10T12:57:45.435Z"
   },
   {
    "duration": 45,
    "start_time": "2023-03-10T12:57:46.853Z"
   },
   {
    "duration": 3,
    "start_time": "2023-03-10T12:57:46.900Z"
   },
   {
    "duration": 29,
    "start_time": "2023-03-10T12:57:46.905Z"
   },
   {
    "duration": 3,
    "start_time": "2023-03-10T12:57:46.936Z"
   },
   {
    "duration": 11,
    "start_time": "2023-03-10T12:57:46.941Z"
   },
   {
    "duration": 4,
    "start_time": "2023-03-10T12:57:46.954Z"
   },
   {
    "duration": 767,
    "start_time": "2023-03-10T12:57:46.979Z"
   },
   {
    "duration": 187,
    "start_time": "2023-03-10T12:57:47.748Z"
   },
   {
    "duration": 10,
    "start_time": "2023-03-10T12:57:47.937Z"
   },
   {
    "duration": 8,
    "start_time": "2023-03-10T12:57:47.948Z"
   },
   {
    "duration": 5,
    "start_time": "2023-03-10T12:57:47.957Z"
   },
   {
    "duration": 16,
    "start_time": "2023-03-10T12:57:47.964Z"
   },
   {
    "duration": 13,
    "start_time": "2023-03-10T12:57:47.981Z"
   },
   {
    "duration": 32,
    "start_time": "2023-03-10T12:57:47.995Z"
   },
   {
    "duration": 15,
    "start_time": "2023-03-10T12:57:48.028Z"
   },
   {
    "duration": 285,
    "start_time": "2023-03-10T12:57:48.045Z"
   },
   {
    "duration": 3,
    "start_time": "2023-03-10T12:57:48.332Z"
   },
   {
    "duration": 40944,
    "start_time": "2023-03-10T12:57:48.336Z"
   },
   {
    "duration": 33,
    "start_time": "2023-03-10T12:58:29.282Z"
   },
   {
    "duration": 6,
    "start_time": "2023-03-10T12:58:29.316Z"
   },
   {
    "duration": 12,
    "start_time": "2023-03-10T12:58:29.324Z"
   },
   {
    "duration": 6,
    "start_time": "2023-03-10T12:58:29.338Z"
   },
   {
    "duration": 31017,
    "start_time": "2023-03-10T12:58:29.346Z"
   },
   {
    "duration": 1677,
    "start_time": "2023-03-10T12:59:00.365Z"
   },
   {
    "duration": 5,
    "start_time": "2023-03-10T12:59:02.044Z"
   },
   {
    "duration": 83,
    "start_time": "2023-03-10T12:59:02.050Z"
   },
   {
    "duration": 46,
    "start_time": "2023-03-10T12:59:02.136Z"
   },
   {
    "duration": 49615,
    "start_time": "2023-03-10T12:59:02.184Z"
   },
   {
    "duration": 76,
    "start_time": "2023-03-10T12:59:51.800Z"
   },
   {
    "duration": 74,
    "start_time": "2023-03-10T12:59:51.878Z"
   },
   {
    "duration": 10,
    "start_time": "2023-03-10T12:59:51.954Z"
   },
   {
    "duration": 0,
    "start_time": "2023-03-10T12:59:51.965Z"
   },
   {
    "duration": 1425,
    "start_time": "2023-03-10T12:59:55.007Z"
   },
   {
    "duration": 46,
    "start_time": "2023-03-10T12:59:56.434Z"
   },
   {
    "duration": 3,
    "start_time": "2023-03-10T12:59:56.481Z"
   },
   {
    "duration": 40,
    "start_time": "2023-03-10T12:59:56.486Z"
   },
   {
    "duration": 4,
    "start_time": "2023-03-10T12:59:56.528Z"
   },
   {
    "duration": 23,
    "start_time": "2023-03-10T12:59:56.534Z"
   },
   {
    "duration": 5,
    "start_time": "2023-03-10T12:59:56.559Z"
   },
   {
    "duration": 825,
    "start_time": "2023-03-10T12:59:56.565Z"
   },
   {
    "duration": 199,
    "start_time": "2023-03-10T12:59:57.392Z"
   },
   {
    "duration": 9,
    "start_time": "2023-03-10T12:59:57.592Z"
   },
   {
    "duration": 14,
    "start_time": "2023-03-10T12:59:57.602Z"
   },
   {
    "duration": 5,
    "start_time": "2023-03-10T12:59:57.618Z"
   },
   {
    "duration": 6,
    "start_time": "2023-03-10T12:59:57.624Z"
   },
   {
    "duration": 5,
    "start_time": "2023-03-10T12:59:57.632Z"
   },
   {
    "duration": 25,
    "start_time": "2023-03-10T12:59:57.638Z"
   },
   {
    "duration": 18,
    "start_time": "2023-03-10T12:59:57.664Z"
   },
   {
    "duration": 105,
    "start_time": "2023-03-10T12:59:57.684Z"
   },
   {
    "duration": 90,
    "start_time": "2023-03-10T12:59:57.790Z"
   },
   {
    "duration": 40580,
    "start_time": "2023-03-10T12:59:57.882Z"
   },
   {
    "duration": 36,
    "start_time": "2023-03-10T13:00:38.463Z"
   },
   {
    "duration": 5,
    "start_time": "2023-03-10T13:00:38.501Z"
   },
   {
    "duration": 7,
    "start_time": "2023-03-10T13:00:38.507Z"
   },
   {
    "duration": 4,
    "start_time": "2023-03-10T13:00:38.516Z"
   },
   {
    "duration": 34675,
    "start_time": "2023-03-10T13:00:38.521Z"
   },
   {
    "duration": 1494,
    "start_time": "2023-03-10T13:01:13.197Z"
   },
   {
    "duration": 6,
    "start_time": "2023-03-10T13:01:14.694Z"
   },
   {
    "duration": 5,
    "start_time": "2023-03-10T13:01:14.702Z"
   },
   {
    "duration": 5,
    "start_time": "2023-03-10T13:01:14.709Z"
   },
   {
    "duration": 167660,
    "start_time": "2023-03-10T13:01:14.715Z"
   },
   {
    "duration": 111,
    "start_time": "2023-03-10T13:04:02.376Z"
   },
   {
    "duration": 105,
    "start_time": "2023-03-10T13:04:02.491Z"
   },
   {
    "duration": 10,
    "start_time": "2023-03-10T13:04:02.597Z"
   },
   {
    "duration": 135803,
    "start_time": "2023-03-10T13:06:10.495Z"
   },
   {
    "duration": 129,
    "start_time": "2023-03-10T13:08:26.302Z"
   },
   {
    "duration": 9,
    "start_time": "2023-03-10T13:08:26.432Z"
   },
   {
    "duration": 14,
    "start_time": "2023-03-10T13:08:45.503Z"
   },
   {
    "duration": 5,
    "start_time": "2023-03-10T13:08:46.520Z"
   },
   {
    "duration": 49844,
    "start_time": "2023-03-10T13:10:29.342Z"
   },
   {
    "duration": 1727,
    "start_time": "2023-03-10T13:11:19.194Z"
   },
   {
    "duration": 7,
    "start_time": "2023-03-10T13:11:20.922Z"
   },
   {
    "duration": 9,
    "start_time": "2023-03-10T13:11:20.931Z"
   },
   {
    "duration": 74,
    "start_time": "2023-03-10T13:15:29.435Z"
   },
   {
    "duration": 69,
    "start_time": "2023-03-10T13:15:53.191Z"
   },
   {
    "duration": 4,
    "start_time": "2023-03-10T13:16:29.895Z"
   },
   {
    "duration": 7,
    "start_time": "2023-03-10T13:16:36.447Z"
   },
   {
    "duration": 4,
    "start_time": "2023-03-10T13:16:53.123Z"
   },
   {
    "duration": 7,
    "start_time": "2023-03-10T13:16:54.493Z"
   },
   {
    "duration": 8,
    "start_time": "2023-03-10T13:17:21.906Z"
   },
   {
    "duration": 12,
    "start_time": "2023-03-10T13:24:48.617Z"
   },
   {
    "duration": 6,
    "start_time": "2023-03-10T13:24:49.739Z"
   },
   {
    "duration": 5,
    "start_time": "2023-03-10T13:24:52.637Z"
   },
   {
    "duration": 14,
    "start_time": "2023-03-10T13:24:52.902Z"
   },
   {
    "duration": 13,
    "start_time": "2023-03-10T13:24:55.800Z"
   },
   {
    "duration": 10,
    "start_time": "2023-03-10T13:25:34.397Z"
   },
   {
    "duration": 8,
    "start_time": "2023-03-10T13:25:36.488Z"
   },
   {
    "duration": 4,
    "start_time": "2023-03-10T13:25:42.764Z"
   },
   {
    "duration": 5,
    "start_time": "2023-03-10T13:25:56.469Z"
   },
   {
    "duration": 5,
    "start_time": "2023-03-10T13:25:57.219Z"
   },
   {
    "duration": 5,
    "start_time": "2023-03-10T13:26:14.970Z"
   },
   {
    "duration": 5,
    "start_time": "2023-03-10T13:26:15.224Z"
   },
   {
    "duration": 4,
    "start_time": "2023-03-10T13:29:03.348Z"
   },
   {
    "duration": 4,
    "start_time": "2023-03-10T13:29:50.501Z"
   },
   {
    "duration": 4,
    "start_time": "2023-03-10T13:29:50.819Z"
   },
   {
    "duration": 9,
    "start_time": "2023-03-10T13:32:18.206Z"
   },
   {
    "duration": 5,
    "start_time": "2023-03-10T13:32:18.488Z"
   },
   {
    "duration": 18,
    "start_time": "2023-03-10T13:33:07.188Z"
   },
   {
    "duration": 14,
    "start_time": "2023-03-10T13:33:07.502Z"
   },
   {
    "duration": 101,
    "start_time": "2023-03-10T13:33:08.287Z"
   },
   {
    "duration": 3,
    "start_time": "2023-03-10T13:33:12.051Z"
   },
   {
    "duration": 67881,
    "start_time": "2023-03-10T13:33:12.306Z"
   },
   {
    "duration": 53,
    "start_time": "2023-03-10T13:34:20.189Z"
   },
   {
    "duration": 7,
    "start_time": "2023-03-10T13:34:20.243Z"
   },
   {
    "duration": 28,
    "start_time": "2023-03-10T13:34:20.252Z"
   },
   {
    "duration": 4,
    "start_time": "2023-03-10T13:34:20.281Z"
   },
   {
    "duration": 50090,
    "start_time": "2023-03-10T13:34:20.286Z"
   },
   {
    "duration": 2495,
    "start_time": "2023-03-10T13:35:10.377Z"
   },
   {
    "duration": 6,
    "start_time": "2023-03-10T13:35:12.874Z"
   },
   {
    "duration": 8,
    "start_time": "2023-03-10T13:35:12.881Z"
   },
   {
    "duration": 6,
    "start_time": "2023-03-10T13:35:12.891Z"
   },
   {
    "duration": 12,
    "start_time": "2023-03-10T13:35:12.898Z"
   },
   {
    "duration": 7,
    "start_time": "2023-03-10T13:35:12.911Z"
   },
   {
    "duration": 9,
    "start_time": "2023-03-10T13:35:12.920Z"
   },
   {
    "duration": 1349,
    "start_time": "2023-03-10T13:45:56.812Z"
   },
   {
    "duration": 47,
    "start_time": "2023-03-10T13:45:58.162Z"
   },
   {
    "duration": 2,
    "start_time": "2023-03-10T13:45:58.211Z"
   },
   {
    "duration": 33,
    "start_time": "2023-03-10T13:45:58.215Z"
   },
   {
    "duration": 3,
    "start_time": "2023-03-10T13:45:58.249Z"
   },
   {
    "duration": 8,
    "start_time": "2023-03-10T13:45:58.254Z"
   },
   {
    "duration": 3,
    "start_time": "2023-03-10T13:45:58.264Z"
   },
   {
    "duration": 758,
    "start_time": "2023-03-10T13:45:58.268Z"
   },
   {
    "duration": 198,
    "start_time": "2023-03-10T13:45:59.028Z"
   },
   {
    "duration": 8,
    "start_time": "2023-03-10T13:45:59.228Z"
   },
   {
    "duration": 3,
    "start_time": "2023-03-10T13:45:59.238Z"
   },
   {
    "duration": 4,
    "start_time": "2023-03-10T13:45:59.243Z"
   },
   {
    "duration": 4,
    "start_time": "2023-03-10T13:45:59.248Z"
   },
   {
    "duration": 4,
    "start_time": "2023-03-10T13:45:59.254Z"
   },
   {
    "duration": 45,
    "start_time": "2023-03-10T13:45:59.259Z"
   },
   {
    "duration": 14,
    "start_time": "2023-03-10T13:45:59.306Z"
   },
   {
    "duration": 161,
    "start_time": "2023-03-10T13:45:59.322Z"
   },
   {
    "duration": 3,
    "start_time": "2023-03-10T13:45:59.485Z"
   },
   {
    "duration": 69140,
    "start_time": "2023-03-10T13:45:59.490Z"
   },
   {
    "duration": 57,
    "start_time": "2023-03-10T13:47:08.632Z"
   },
   {
    "duration": 5,
    "start_time": "2023-03-10T13:47:08.691Z"
   },
   {
    "duration": 6,
    "start_time": "2023-03-10T13:47:08.697Z"
   },
   {
    "duration": 7,
    "start_time": "2023-03-10T13:47:08.704Z"
   },
   {
    "duration": 48278,
    "start_time": "2023-03-10T13:47:08.712Z"
   },
   {
    "duration": 2232,
    "start_time": "2023-03-10T13:47:56.991Z"
   },
   {
    "duration": 6,
    "start_time": "2023-03-10T13:47:59.224Z"
   },
   {
    "duration": 14,
    "start_time": "2023-03-10T13:47:59.231Z"
   },
   {
    "duration": 4,
    "start_time": "2023-03-10T13:47:59.247Z"
   },
   {
    "duration": 20,
    "start_time": "2023-03-10T13:47:59.252Z"
   },
   {
    "duration": 9,
    "start_time": "2023-03-10T13:47:59.273Z"
   },
   {
    "duration": 11,
    "start_time": "2023-03-10T13:47:59.284Z"
   }
  ],
  "kernelspec": {
   "display_name": "Python 3 (ipykernel)",
   "language": "python",
   "name": "python3"
  },
  "language_info": {
   "codemirror_mode": {
    "name": "ipython",
    "version": 3
   },
   "file_extension": ".py",
   "mimetype": "text/x-python",
   "name": "python",
   "nbconvert_exporter": "python",
   "pygments_lexer": "ipython3",
   "version": "3.10.9"
  },
  "toc": {
   "base_numbering": 1,
   "nav_menu": {},
   "number_sections": true,
   "sideBar": true,
   "skip_h1_title": true,
   "title_cell": "Содержание",
   "title_sidebar": "Contents",
   "toc_cell": true,
   "toc_position": {},
   "toc_section_display": true,
   "toc_window_display": false
  }
 },
 "nbformat": 4,
 "nbformat_minor": 4
}
