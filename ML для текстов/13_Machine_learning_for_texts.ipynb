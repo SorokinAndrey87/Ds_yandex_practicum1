{
 "cells": [
  {
   "cell_type": "markdown",
   "id": "d3b7031c-3d35-4630-92a4-56a814a797d6",
   "metadata": {},
   "source": [
    "# Проект. Машинное обучение для текстов"
   ]
  },
  {
   "cell_type": "markdown",
   "id": "d28bbdf5-b551-4d10-91b1-c271badf999d",
   "metadata": {},
   "source": [
    "## Проект для «Викишоп»"
   ]
  },
  {
   "cell_type": "markdown",
   "id": "82188466-dcc8-487e-b9a5-10a1de01730c",
   "metadata": {},
   "source": [
    "**Описание проекта**\n",
    "* Интернет-магазин «Викишоп» запускает новый сервис. \n",
    "* Теперь пользователи могут редактировать и дополнять описания товаров, как в вики-сообществах. \n",
    "* То есть клиенты предлагают свои правки и комментируют изменения других. Магазину нужен инструмент, который будет искать токсичные комментарии и отправлять их на модерацию. \n",
    "* Обучите модель классифицировать комментарии на позитивные и негативные. \n",
    "* В вашем распоряжении набор данных с разметкой о токсичности правок.\n",
    "\n",
    "* Постройте модель со значением метрики качества **F1** не меньше **0.75**. "
   ]
  },
  {
   "cell_type": "markdown",
   "id": "bf2066f1-aa59-4046-a6dd-dd6ffd75da11",
   "metadata": {},
   "source": [
    "**План работы**\n",
    "* **Загрузка и подготовка данных**\n",
    "* **Обучение**\n",
    "* **Тестирование¶**\n",
    "* **Вывод**"
   ]
  },
  {
   "cell_type": "markdown",
   "id": "85a64c21-fcab-4c9e-b379-86413b0b652d",
   "metadata": {},
   "source": [
    "## Загрузка и подготовка данных"
   ]
  },
  {
   "cell_type": "code",
   "execution_count": 1,
   "id": "8f0b85e3-35d6-4b91-a7d8-147317826558",
   "metadata": {},
   "outputs": [
    {
     "name": "stdout",
     "output_type": "stream",
     "text": [
      "Requirement already satisfied: nltk in c:\\users\\copok\\anaconda3\\lib\\site-packages (3.8.1)\n",
      "Requirement already satisfied: joblib in c:\\users\\copok\\anaconda3\\lib\\site-packages (from nltk) (1.2.0)\n",
      "Requirement already satisfied: click in c:\\users\\copok\\anaconda3\\lib\\site-packages (from nltk) (8.0.4)\n",
      "Requirement already satisfied: regex>=2021.8.3 in c:\\users\\copok\\anaconda3\\lib\\site-packages (from nltk) (2023.10.3)\n",
      "Requirement already satisfied: tqdm in c:\\users\\copok\\anaconda3\\lib\\site-packages (from nltk) (4.65.0)\n",
      "Requirement already satisfied: colorama in c:\\users\\copok\\anaconda3\\lib\\site-packages (from click->nltk) (0.4.6)\n",
      "Note: you may need to restart the kernel to use updated packages.\n"
     ]
    }
   ],
   "source": [
    "pip install nltk"
   ]
  },
  {
   "cell_type": "code",
   "execution_count": 2,
   "id": "e1bbb46c-9e49-44f9-b73b-5dd10573ce7e",
   "metadata": {},
   "outputs": [
    {
     "name": "stderr",
     "output_type": "stream",
     "text": [
      "[nltk_data] Downloading package omw-1.4 to\n",
      "[nltk_data]     C:\\Users\\copok\\AppData\\Roaming\\nltk_data...\n",
      "[nltk_data]   Package omw-1.4 is already up-to-date!\n",
      "[nltk_data] Downloading package averaged_perceptron_tagger to\n",
      "[nltk_data]     C:\\Users\\copok\\AppData\\Roaming\\nltk_data...\n",
      "[nltk_data]   Package averaged_perceptron_tagger is already up-to-\n",
      "[nltk_data]       date!\n"
     ]
    }
   ],
   "source": [
    "import pandas as pd\n",
    "import matplotlib.pyplot as plt\n",
    "import os\n",
    "import re\n",
    "import lightgbm as lgb\n",
    "\n",
    "\n",
    "import nltk\n",
    "nltk.download('omw-1.4')\n",
    "nltk.download('averaged_perceptron_tagger')\n",
    "from nltk.stem import WordNetLemmatizer\n",
    "from nltk.corpus import stopwords as nltk_stopwords\n",
    "from nltk.corpus import wordnet\n",
    "\n",
    "from sklearn.feature_extraction.text import TfidfVectorizer \n",
    "from sklearn.model_selection import RandomizedSearchCV\n",
    "from sklearn.model_selection import train_test_split\n",
    "from sklearn.linear_model import LogisticRegression\n",
    "from sklearn.tree import DecisionTreeClassifier\n",
    "from sklearn.metrics import f1_score\n",
    "\n",
    "import warnings\n",
    "warnings.filterwarnings(\"ignore\")"
   ]
  },
  {
   "cell_type": "code",
   "execution_count": 27,
   "id": "3f81e660-9de7-412a-a148-e3f82c9beae6",
   "metadata": {
    "tags": []
   },
   "outputs": [],
   "source": [
    "from sklearn.feature_extraction.text import TfidfVectorizer\n",
    "from spacy.lang.en.stop_words import STOP_WORDS\n",
    "\n",
    "\n",
    "tfidf_text_vectorizer = TfidfVectorizer(stop_words=list(STOP_WORDS))"
   ]
  },
  {
   "cell_type": "code",
   "execution_count": 3,
   "id": "fb18a8b6-585d-4129-a686-afbf778a28d1",
   "metadata": {},
   "outputs": [],
   "source": [
    "pth1 = 'C:/Users/copok/Documents/Проекты/Яндекс практикум/13 Проект для «Викишоп»/toxic_comments.csv'\n",
    "pth2 = '/datasets/toxic_comments.csv'\n",
    "\n",
    "if os.path.exists(pth1):\n",
    "    df = pd.read_csv(pth1, index_col=0)\n",
    "elif os.path.exists(pth2):\n",
    "    df= pd.read_csv(pth2, index_col=0)\n",
    "else:\n",
    "    print('Something is wrong')"
   ]
  },
  {
   "cell_type": "code",
   "execution_count": 4,
   "id": "2bcb2eee-13ba-4ce3-a83f-deb0e6199e47",
   "metadata": {},
   "outputs": [],
   "source": [
    "def get_data_info(data):\n",
    "    display(data.sample(5))\n",
    "    print('-'*50)\n",
    "    display(data.info()) \n",
    "    print('-'*50)\n",
    "    print('Количество дубликатов:', sum(data.duplicated()))"
   ]
  },
  {
   "cell_type": "code",
   "execution_count": 5,
   "id": "0986073c-40b1-4852-b6bf-8a0900714f64",
   "metadata": {},
   "outputs": [
    {
     "data": {
      "text/html": [
       "<div>\n",
       "<style scoped>\n",
       "    .dataframe tbody tr th:only-of-type {\n",
       "        vertical-align: middle;\n",
       "    }\n",
       "\n",
       "    .dataframe tbody tr th {\n",
       "        vertical-align: top;\n",
       "    }\n",
       "\n",
       "    .dataframe thead th {\n",
       "        text-align: right;\n",
       "    }\n",
       "</style>\n",
       "<table border=\"1\" class=\"dataframe\">\n",
       "  <thead>\n",
       "    <tr style=\"text-align: right;\">\n",
       "      <th></th>\n",
       "      <th>text</th>\n",
       "      <th>toxic</th>\n",
       "    </tr>\n",
       "  </thead>\n",
       "  <tbody>\n",
       "    <tr>\n",
       "      <th>29141</th>\n",
       "      <td>Certified...? \\n\\nCertified.Crybaby sounds mor...</td>\n",
       "      <td>0</td>\n",
       "    </tr>\n",
       "    <tr>\n",
       "      <th>56008</th>\n",
       "      <td>You fake bastard.  This site is a fraud!</td>\n",
       "      <td>1</td>\n",
       "    </tr>\n",
       "    <tr>\n",
       "      <th>151174</th>\n",
       "      <td>\"\\n\\n baiting Paul \\n\\nI don't think its entir...</td>\n",
       "      <td>0</td>\n",
       "    </tr>\n",
       "    <tr>\n",
       "      <th>59011</th>\n",
       "      <td>you're a dick. feel free to delete my wikipedi...</td>\n",
       "      <td>1</td>\n",
       "    </tr>\n",
       "    <tr>\n",
       "      <th>2561</th>\n",
       "      <td>duplicate\\ncheck this out Image:Liakhoff.JPG a...</td>\n",
       "      <td>0</td>\n",
       "    </tr>\n",
       "  </tbody>\n",
       "</table>\n",
       "</div>"
      ],
      "text/plain": [
       "                                                     text  toxic\n",
       "29141   Certified...? \\n\\nCertified.Crybaby sounds mor...      0\n",
       "56008            You fake bastard.  This site is a fraud!      1\n",
       "151174  \"\\n\\n baiting Paul \\n\\nI don't think its entir...      0\n",
       "59011   you're a dick. feel free to delete my wikipedi...      1\n",
       "2561    duplicate\\ncheck this out Image:Liakhoff.JPG a...      0"
      ]
     },
     "metadata": {},
     "output_type": "display_data"
    },
    {
     "name": "stdout",
     "output_type": "stream",
     "text": [
      "--------------------------------------------------\n",
      "<class 'pandas.core.frame.DataFrame'>\n",
      "Index: 159292 entries, 0 to 159450\n",
      "Data columns (total 2 columns):\n",
      " #   Column  Non-Null Count   Dtype \n",
      "---  ------  --------------   ----- \n",
      " 0   text    159292 non-null  object\n",
      " 1   toxic   159292 non-null  int64 \n",
      "dtypes: int64(1), object(1)\n",
      "memory usage: 3.6+ MB\n"
     ]
    },
    {
     "data": {
      "text/plain": [
       "None"
      ]
     },
     "metadata": {},
     "output_type": "display_data"
    },
    {
     "name": "stdout",
     "output_type": "stream",
     "text": [
      "--------------------------------------------------\n",
      "Количество дубликатов: 0\n"
     ]
    }
   ],
   "source": [
    "get_data_info(df)"
   ]
  },
  {
   "cell_type": "code",
   "execution_count": 6,
   "id": "5c67a0fe-5e8d-44c9-8406-7bc2802b9aca",
   "metadata": {},
   "outputs": [
    {
     "name": "stdout",
     "output_type": "stream",
     "text": [
      "0: 143106\n",
      "1: 16186\n"
     ]
    }
   ],
   "source": [
    "print(\"0:\",df[df.toxic==0]['text'].count())\n",
    "print(\"1:\",df[df.toxic==1]['text'].count())"
   ]
  },
  {
   "cell_type": "code",
   "execution_count": 7,
   "id": "39d50b13-10d0-4c7e-877e-2223d1a46877",
   "metadata": {},
   "outputs": [
    {
     "data": {
      "image/png": "[encoded data removed]",
      "text/plain": [
       "<Figure size 800x600 with 1 Axes>"
      ]
     },
     "metadata": {},
     "output_type": "display_data"
    }
   ],
   "source": [
    "df.toxic.value_counts().plot(kind='pie', autopct='%1.1f%%', shadow=True, figsize=(8,6))\n",
    "plt.legend(['Позитивный','токсичный'])\n",
    "plt.title('Распределение комментариев в выборке')\n",
    "plt.tight_layout()\n",
    "plt.axis('off');"
   ]
  },
  {
   "cell_type": "markdown",
   "id": "46f95c09-839c-4014-9e4d-1fb81e76414d",
   "metadata": {},
   "source": [
    "* Видим, что у нас Позитивных комментариев больше, чем токсичных. \n",
    "* Так же помним, что комментарии были выгружены с какими-то спец.символами и числами. \n",
    "* Очистим их с помощью регулярных выражений и лемматизируем."
   ]
  },
  {
   "cell_type": "code",
   "execution_count": 8,
   "id": "5b1afc80-1cac-490a-a976-3de6421eae2e",
   "metadata": {},
   "outputs": [],
   "source": [
    "# инициализируем Wordnet Lemmatizer\n",
    "lemmatizer = WordNetLemmatizer()"
   ]
  },
  {
   "cell_type": "code",
   "execution_count": 9,
   "id": "c25ba90d-359d-4402-a9a3-ab6637160cbe",
   "metadata": {},
   "outputs": [],
   "source": [
    "# напишем функцию для pos-тегов - маркировки частей речи\n",
    "def get_wordnet_pos(word):\n",
    "    tag = nltk.pos_tag([word])[0][1][0].upper()\n",
    "    tag_dict = {\"J\": wordnet.ADJ,\n",
    "                \"N\": wordnet.NOUN,\n",
    "                \"V\": wordnet.VERB,\n",
    "                \"R\": wordnet.ADV}\n",
    "    return tag_dict.get(tag, wordnet.NOUN)"
   ]
  },
  {
   "cell_type": "code",
   "execution_count": 10,
   "id": "86dd10e8-e733-4d38-bd3f-d5b0b8fddcd4",
   "metadata": {},
   "outputs": [],
   "source": [
    "# напишем функцию для очистки и лемматизации текста с маркированными частями речи\n",
    "def clear_text(text):\n",
    "    reg = re.sub(r'[^a-zA-Z]', ' ', text)\n",
    "    clear = reg.split() \n",
    "    lemm = []\n",
    "    # в цикле лемматизируем очищенный текст\n",
    "    for i in range(len(clear)):\n",
    "        lemm.append(lemmatizer.lemmatize(clear[i], get_wordnet_pos(clear[i])))\n",
    "    return \" \".join(lemm)"
   ]
  },
  {
   "cell_type": "code",
   "execution_count": 11,
   "id": "300a04e8-09eb-4bd5-9119-31b21dbd44b2",
   "metadata": {},
   "outputs": [
    {
     "name": "stdout",
     "output_type": "stream",
     "text": [
      "CPU times: total: 56min 9s\n",
      "Wall time: 56min 35s\n"
     ]
    }
   ],
   "source": [
    "%%time\n",
    "df['lemm_text'] = df['text'].apply(clear_text)"
   ]
  },
  {
   "cell_type": "code",
   "execution_count": 12,
   "id": "2873651e-8312-4a7c-acf4-dfe9a48b705b",
   "metadata": {},
   "outputs": [
    {
     "data": {
      "text/html": [
       "<div>\n",
       "<style scoped>\n",
       "    .dataframe tbody tr th:only-of-type {\n",
       "        vertical-align: middle;\n",
       "    }\n",
       "\n",
       "    .dataframe tbody tr th {\n",
       "        vertical-align: top;\n",
       "    }\n",
       "\n",
       "    .dataframe thead th {\n",
       "        text-align: right;\n",
       "    }\n",
       "</style>\n",
       "<table border=\"1\" class=\"dataframe\">\n",
       "  <thead>\n",
       "    <tr style=\"text-align: right;\">\n",
       "      <th></th>\n",
       "      <th>text</th>\n",
       "      <th>toxic</th>\n",
       "      <th>lemm_text</th>\n",
       "    </tr>\n",
       "  </thead>\n",
       "  <tbody>\n",
       "    <tr>\n",
       "      <th>0</th>\n",
       "      <td>Explanation\\nWhy the edits made under my usern...</td>\n",
       "      <td>0</td>\n",
       "      <td>Explanation Why the edits make under my userna...</td>\n",
       "    </tr>\n",
       "    <tr>\n",
       "      <th>1</th>\n",
       "      <td>D'aww! He matches this background colour I'm s...</td>\n",
       "      <td>0</td>\n",
       "      <td>D aww He match this background colour I m seem...</td>\n",
       "    </tr>\n",
       "    <tr>\n",
       "      <th>2</th>\n",
       "      <td>Hey man, I'm really not trying to edit war. It...</td>\n",
       "      <td>0</td>\n",
       "      <td>Hey man I m really not try to edit war It s ju...</td>\n",
       "    </tr>\n",
       "    <tr>\n",
       "      <th>3</th>\n",
       "      <td>\"\\nMore\\nI can't make any real suggestions on ...</td>\n",
       "      <td>0</td>\n",
       "      <td>More I can t make any real suggestion on impro...</td>\n",
       "    </tr>\n",
       "    <tr>\n",
       "      <th>4</th>\n",
       "      <td>You, sir, are my hero. Any chance you remember...</td>\n",
       "      <td>0</td>\n",
       "      <td>You sir be my hero Any chance you remember wha...</td>\n",
       "    </tr>\n",
       "    <tr>\n",
       "      <th>...</th>\n",
       "      <td>...</td>\n",
       "      <td>...</td>\n",
       "      <td>...</td>\n",
       "    </tr>\n",
       "    <tr>\n",
       "      <th>159446</th>\n",
       "      <td>\":::::And for the second time of asking, when ...</td>\n",
       "      <td>0</td>\n",
       "      <td>And for the second time of ask when your view ...</td>\n",
       "    </tr>\n",
       "    <tr>\n",
       "      <th>159447</th>\n",
       "      <td>You should be ashamed of yourself \\n\\nThat is ...</td>\n",
       "      <td>0</td>\n",
       "      <td>You should be ashamed of yourself That be a ho...</td>\n",
       "    </tr>\n",
       "    <tr>\n",
       "      <th>159448</th>\n",
       "      <td>Spitzer \\n\\nUmm, theres no actual article for ...</td>\n",
       "      <td>0</td>\n",
       "      <td>Spitzer Umm there no actual article for prosti...</td>\n",
       "    </tr>\n",
       "    <tr>\n",
       "      <th>159449</th>\n",
       "      <td>And it looks like it was actually you who put ...</td>\n",
       "      <td>0</td>\n",
       "      <td>And it look like it be actually you who put on...</td>\n",
       "    </tr>\n",
       "    <tr>\n",
       "      <th>159450</th>\n",
       "      <td>\"\\nAnd ... I really don't think you understand...</td>\n",
       "      <td>0</td>\n",
       "      <td>And I really don t think you understand I come...</td>\n",
       "    </tr>\n",
       "  </tbody>\n",
       "</table>\n",
       "<p>159292 rows × 3 columns</p>\n",
       "</div>"
      ],
      "text/plain": [
       "                                                     text  toxic  \\\n",
       "0       Explanation\\nWhy the edits made under my usern...      0   \n",
       "1       D'aww! He matches this background colour I'm s...      0   \n",
       "2       Hey man, I'm really not trying to edit war. It...      0   \n",
       "3       \"\\nMore\\nI can't make any real suggestions on ...      0   \n",
       "4       You, sir, are my hero. Any chance you remember...      0   \n",
       "...                                                   ...    ...   \n",
       "159446  \":::::And for the second time of asking, when ...      0   \n",
       "159447  You should be ashamed of yourself \\n\\nThat is ...      0   \n",
       "159448  Spitzer \\n\\nUmm, theres no actual article for ...      0   \n",
       "159449  And it looks like it was actually you who put ...      0   \n",
       "159450  \"\\nAnd ... I really don't think you understand...      0   \n",
       "\n",
       "                                                lemm_text  \n",
       "0       Explanation Why the edits make under my userna...  \n",
       "1       D aww He match this background colour I m seem...  \n",
       "2       Hey man I m really not try to edit war It s ju...  \n",
       "3       More I can t make any real suggestion on impro...  \n",
       "4       You sir be my hero Any chance you remember wha...  \n",
       "...                                                   ...  \n",
       "159446  And for the second time of ask when your view ...  \n",
       "159447  You should be ashamed of yourself That be a ho...  \n",
       "159448  Spitzer Umm there no actual article for prosti...  \n",
       "159449  And it look like it be actually you who put on...  \n",
       "159450  And I really don t think you understand I come...  \n",
       "\n",
       "[159292 rows x 3 columns]"
      ]
     },
     "execution_count": 12,
     "metadata": {},
     "output_type": "execute_result"
    }
   ],
   "source": [
    "df"
   ]
  },
  {
   "cell_type": "code",
   "execution_count": 18,
   "id": "e4e30b5f-b01e-4021-8db9-51f29b8266a8",
   "metadata": {
    "tags": []
   },
   "outputs": [
    {
     "data": {
      "text/plain": [
       "0         Explanation Why the edits make under my userna...\n",
       "1         D aww He match this background colour I m seem...\n",
       "2         Hey man I m really not try to edit war It s ju...\n",
       "3         More I can t make any real suggestion on impro...\n",
       "4         You sir be my hero Any chance you remember wha...\n",
       "                                ...                        \n",
       "159446    And for the second time of ask when your view ...\n",
       "159447    You should be ashamed of yourself That be a ho...\n",
       "159448    Spitzer Umm there no actual article for prosti...\n",
       "159449    And it look like it be actually you who put on...\n",
       "159450    And I really don t think you understand I come...\n",
       "Name: lemm_text, Length: 159292, dtype: object"
      ]
     },
     "execution_count": 18,
     "metadata": {},
     "output_type": "execute_result"
    }
   ],
   "source": [
    "df['lemm_text']"
   ]
  },
  {
   "cell_type": "markdown",
   "id": "38c39ef6-52a8-4af2-a95d-80bd806693c4",
   "metadata": {},
   "source": [
    "Разделим датасет на тестовую и тренировочную выборку"
   ]
  },
  {
   "cell_type": "code",
   "execution_count": 19,
   "id": "67a65872-61a8-4a7f-91c0-5dd677e74576",
   "metadata": {},
   "outputs": [
    {
     "data": {
      "text/plain": [
       "4627      I don t mean to intrude but I have notice the ...\n",
       "23562     God or whoever whatever I now decree you the c...\n",
       "128516    Can we keep this neat and sequential We have a...\n",
       "31151     Here s what you say May Rama block expires Jun...\n",
       "41257     Sir Giggsy have often say that he like to keep...\n",
       "                                ...                        \n",
       "54776     Indeed BigDunc that page rightly say that para...\n",
       "75640     I m not try to make a point or anything except...\n",
       "71266     Forgive my cruddy formattingI m still relative...\n",
       "55812     Talk Grasshopper Scouts I move your comment fr...\n",
       "11556                                  Oppose WP COMMONNAME\n",
       "Name: lemm_text, Length: 127433, dtype: object"
      ]
     },
     "execution_count": 19,
     "metadata": {},
     "output_type": "execute_result"
    }
   ],
   "source": [
    "X_train, X_test, y_train, y_test = train_test_split(\n",
    "    df.drop('toxic', axis=1),\n",
    "    df['toxic'],\n",
    "    test_size=0.2,\n",
    "    random_state=12345,\n",
    "    stratify=df['toxic'] # стратифицируем текст, чтобы выборки были более сбалансированы\n",
    ")\n",
    "\n",
    "# вытаскиваем корпусы\n",
    "corpus_train = X_train['lemm_text']\n",
    "corpus_test = X_test['lemm_text']\n",
    "corpus_train"
   ]
  },
  {
   "cell_type": "code",
   "execution_count": 20,
   "id": "58fba631-a5f4-467f-a977-86a423416b2a",
   "metadata": {},
   "outputs": [
    {
     "name": "stdout",
     "output_type": "stream",
     "text": [
      "Размер тренировочного корпуса: 127433\n",
      "Размер тестого корпуса: 31859\n"
     ]
    }
   ],
   "source": [
    "print(f\"Размер тренировочного корпуса: {len(corpus_train)}\")\n",
    "print(f\"Размер тестого корпуса: {len(corpus_test)}\")"
   ]
  },
  {
   "cell_type": "markdown",
   "id": "069d240f-9957-4445-9b24-d86d4bebe239",
   "metadata": {},
   "source": [
    "**TF-IDF**"
   ]
  },
  {
   "cell_type": "code",
   "execution_count": 21,
   "id": "3e9e34b3-0bf6-4f9c-a475-362808a1a2eb",
   "metadata": {},
   "outputs": [
    {
     "name": "stderr",
     "output_type": "stream",
     "text": [
      "[nltk_data] Downloading package stopwords to\n",
      "[nltk_data]     C:\\Users\\copok\\AppData\\Roaming\\nltk_data...\n",
      "[nltk_data]   Package stopwords is already up-to-date!\n"
     ]
    }
   ],
   "source": [
    "nltk.download('stopwords')\n",
    "stopwords = set(nltk_stopwords.words('english'))"
   ]
  },
  {
   "cell_type": "code",
   "execution_count": 28,
   "id": "8584cee4-3050-4c88-b534-81180c223533",
   "metadata": {},
   "outputs": [
    {
     "name": "stdout",
     "output_type": "stream",
     "text": [
      "Размер матрицы: (127433, 139857)\n",
      "Размер матрицы: (31859, 139857)\n"
     ]
    }
   ],
   "source": [
    "count_tf_idf = TfidfVectorizer(stop_words=list(STOP_WORDS))    # подгружаем счетчик и задаём стоп-слова\n",
    "tf_idf_train = count_tf_idf.fit_transform(corpus_train) # обучаем и трансформируем\n",
    "tf_idf_test = count_tf_idf.transform(corpus_test)       # трансформируем тестовую без обучения\n",
    "\n",
    "print(\"Размер матрицы:\", tf_idf_train.shape)\n",
    "print(\"Размер матрицы:\", tf_idf_test.shape)"
   ]
  },
  {
   "cell_type": "markdown",
   "id": "25fdd6bf-ee29-4361-a6bd-b57d334619ad",
   "metadata": {},
   "source": [
    "Обработка данных выполнена, TF-IDF подсчитано, можно приступить к обучению модели:"
   ]
  },
  {
   "cell_type": "markdown",
   "id": "ce0e8a05-0881-40d0-8684-632cbe680e57",
   "metadata": {},
   "source": [
    "## Обучение"
   ]
  },
  {
   "cell_type": "markdown",
   "id": "d4f4109f-553b-4404-b6e2-99f202a92bb2",
   "metadata": {},
   "source": [
    "### LogisticRegression"
   ]
  },
  {
   "cell_type": "code",
   "execution_count": 29,
   "id": "4f996b61-e5fd-423b-9461-9a91deae7364",
   "metadata": {},
   "outputs": [],
   "source": [
    "parm_LR = {\n",
    "    \"penalty\": ['l1', 'l2'],\n",
    "    \"class_weight\": ['balanced', 'none'],\n",
    "}\n",
    "\n",
    "LR_model = LogisticRegression(random_state=12345, max_iter=1000)"
   ]
  },
  {
   "cell_type": "code",
   "execution_count": 30,
   "id": "4f88c922-d9bf-4ef7-87b1-d5f3bd41e602",
   "metadata": {},
   "outputs": [
    {
     "name": "stdout",
     "output_type": "stream",
     "text": [
      "Fitting 4 folds for each of 4 candidates, totalling 16 fits\n",
      "{'penalty': 'l2', 'class_weight': 'balanced'}\n",
      "0.7453514258464415\n",
      "CPU times: total: 25.5 s\n",
      "Wall time: 21.3 s\n"
     ]
    }
   ],
   "source": [
    "%%time\n",
    "LR_model = RandomizedSearchCV(estimator = LR_model, param_distributions = parm_LR,\\\n",
    "                              scoring='f1', n_jobs=-1,cv=4, verbose=2).fit(tf_idf_train, y_train)\n",
    "print(LR_model.best_params_)\n",
    "print(LR_model.best_score_)"
   ]
  },
  {
   "cell_type": "code",
   "execution_count": 31,
   "id": "0889d686-86b7-4eb0-a5a3-10a88901244f",
   "metadata": {},
   "outputs": [
    {
     "name": "stdout",
     "output_type": "stream",
     "text": [
      "CPU times: total: 15.6 ms\n",
      "Wall time: 16.2 ms\n"
     ]
    }
   ],
   "source": [
    "%%time\n",
    "LR_pred_train = LR_model.predict(tf_idf_train)"
   ]
  },
  {
   "cell_type": "code",
   "execution_count": 32,
   "id": "778abcd0-c3d7-4dab-a43c-1b82088ad110",
   "metadata": {},
   "outputs": [
    {
     "name": "stdout",
     "output_type": "stream",
     "text": [
      "CPU times: total: 188 ms\n",
      "Wall time: 47.3 ms\n"
     ]
    },
    {
     "data": {
      "text/plain": [
       "'F1 для LogisticRegression на обучающей выборке: 0.83'"
      ]
     },
     "execution_count": 32,
     "metadata": {},
     "output_type": "execute_result"
    }
   ],
   "source": [
    "%%time\n",
    "f1_train_lr = f1_score(y_train, LR_pred_train)\n",
    "f\"F1 для LogisticRegression на обучающей выборке: {round(f1_train_lr, 2)}\""
   ]
  },
  {
   "cell_type": "markdown",
   "id": "a763793e-b1f6-4700-93bc-fd566217020d",
   "metadata": {},
   "source": [
    "### DecisionTreeClassifier"
   ]
  },
  {
   "cell_type": "code",
   "execution_count": 33,
   "id": "1dfbed1a-f891-4ea4-ba4f-ad6e500e76bd",
   "metadata": {},
   "outputs": [],
   "source": [
    "parm_DT = {\n",
    "    \"max_depth\": range(2, 20)\n",
    "}\n",
    "\n",
    "DT_model = DecisionTreeClassifier(random_state=12345)"
   ]
  },
  {
   "cell_type": "code",
   "execution_count": 34,
   "id": "35ea5d76-5727-4cb0-a808-6ff0b7df13b7",
   "metadata": {},
   "outputs": [
    {
     "name": "stdout",
     "output_type": "stream",
     "text": [
      "Fitting 4 folds for each of 10 candidates, totalling 40 fits\n",
      "{'max_depth': 19}\n",
      "0.6463243594605205\n",
      "CPU times: total: 24.3 s\n",
      "Wall time: 5min 6s\n"
     ]
    }
   ],
   "source": [
    "%%time\n",
    "DT_model = RandomizedSearchCV(estimator = DT_model, param_distributions=parm_DT,\\\n",
    "                              scoring='f1', n_jobs=-1,cv=4, verbose=2).fit(tf_idf_train, y_train)\n",
    "print(DT_model.best_params_)\n",
    "print(DT_model.best_score_)"
   ]
  },
  {
   "cell_type": "code",
   "execution_count": 35,
   "id": "83e856a4-9f24-413c-b0f3-f96ff7a84780",
   "metadata": {},
   "outputs": [
    {
     "name": "stdout",
     "output_type": "stream",
     "text": [
      "CPU times: total: 156 ms\n",
      "Wall time: 163 ms\n"
     ]
    }
   ],
   "source": [
    "%%time\n",
    "DT_pred_train = DT_model.predict(tf_idf_train)"
   ]
  },
  {
   "cell_type": "code",
   "execution_count": 36,
   "id": "ca9a0d8e-23d3-4746-8bc2-fa5f86ba7bf6",
   "metadata": {},
   "outputs": [
    {
     "name": "stdout",
     "output_type": "stream",
     "text": [
      "CPU times: total: 62.5 ms\n",
      "Wall time: 52.6 ms\n"
     ]
    },
    {
     "data": {
      "text/plain": [
       "'F1 для DecisionTreeClassifier на обучающей выборке: 0.7'"
      ]
     },
     "execution_count": 36,
     "metadata": {},
     "output_type": "execute_result"
    }
   ],
   "source": [
    "%%time\n",
    "f1_train_dt = f1_score(y_train, DT_pred_train)\n",
    "f\"F1 для DecisionTreeClassifier на обучающей выборке: {round(f1_train_dt, 2)}\""
   ]
  },
  {
   "cell_type": "markdown",
   "id": "85a7a724-b4b4-4762-8cf0-728c5a57ce25",
   "metadata": {},
   "source": [
    "### lightgbm"
   ]
  },
  {
   "cell_type": "code",
   "execution_count": 37,
   "id": "2c39808e-1191-4a37-84dd-7340d9c37904",
   "metadata": {},
   "outputs": [],
   "source": [
    "param_lgbm = {\n",
    "    'max_depth': [15, 30],\n",
    "    'learning_rate': [0.1, 0.3]\n",
    "}\n",
    "\n",
    "lgbm_model = lgb.LGBMClassifier(random_state=12345, boosting_type='gbdt', n_jobs=-1)"
   ]
  },
  {
   "cell_type": "code",
   "execution_count": 38,
   "id": "da25d501-ee16-486b-9d3a-413982402cfc",
   "metadata": {},
   "outputs": [
    {
     "name": "stdout",
     "output_type": "stream",
     "text": [
      "Fitting 4 folds for each of 4 candidates, totalling 16 fits\n",
      "{'max_depth': 30, 'learning_rate': 0.3}\n",
      "0.7610308992700657\n",
      "CPU times: total: 2min 18s\n",
      "Wall time: 3min 31s\n"
     ]
    }
   ],
   "source": [
    "%%time\n",
    "lgbm_model = RandomizedSearchCV(estimator =lgbm_model, param_distributions=param_lgbm,\\\n",
    "                              scoring='f1', n_jobs=-1,cv=4, verbose=2).fit(tf_idf_train, y_train)\n",
    "print(lgbm_model.best_params_)\n",
    "print(lgbm_model.best_score_)"
   ]
  },
  {
   "cell_type": "code",
   "execution_count": 39,
   "id": "8637af65-ab63-4b59-a994-9bce3eb1445a",
   "metadata": {},
   "outputs": [
    {
     "name": "stdout",
     "output_type": "stream",
     "text": [
      "CPU times: total: 6.25 s\n",
      "Wall time: 893 ms\n"
     ]
    }
   ],
   "source": [
    "%%time\n",
    "lgbm_pred_train = lgbm_model.predict(tf_idf_train)"
   ]
  },
  {
   "cell_type": "code",
   "execution_count": 40,
   "id": "dd5c6dbd-8ea7-4f2f-9d6c-7dd3d538fa8c",
   "metadata": {},
   "outputs": [
    {
     "name": "stdout",
     "output_type": "stream",
     "text": [
      "CPU times: total: 250 ms\n",
      "Wall time: 62.4 ms\n"
     ]
    },
    {
     "data": {
      "text/plain": [
       "'F1 для LGBMClassifier на обучающей выборке: 0.85'"
      ]
     },
     "execution_count": 40,
     "metadata": {},
     "output_type": "execute_result"
    }
   ],
   "source": [
    "%%time\n",
    "f1_train_lgbm = f1_score(y_train, lgbm_pred_train)\n",
    "f\"F1 для LGBMClassifier на обучающей выборке: {round(f1_train_lgbm, 2)}\""
   ]
  },
  {
   "cell_type": "markdown",
   "id": "3e4886ce-b145-4551-a898-109fac04f464",
   "metadata": {},
   "source": [
    "**Посмотрим на результат**"
   ]
  },
  {
   "cell_type": "code",
   "execution_count": 41,
   "id": "bd1b1213-b8a0-4d24-876f-5c474e3e338f",
   "metadata": {},
   "outputs": [],
   "source": [
    "model = pd.DataFrame([\n",
    "                      ['LogisticRegression', round(LR_model.best_score_, 2), round(f1_train_lr, 2)],\n",
    "                      ['DecisionTree', round(DT_model.best_score_, 2), round(f1_train_dt, 2)],\n",
    "                      ['lightgbm', round(lgbm_model.best_score_, 2), round(f1_train_lgbm, 2)]],\n",
    "                    columns = ['model', 'F1_model', 'F1_train'])"
   ]
  },
  {
   "cell_type": "code",
   "execution_count": 42,
   "id": "6214dc71-2c0a-4de5-8970-3e8343d816b1",
   "metadata": {},
   "outputs": [
    {
     "data": {
      "text/html": [
       "<div>\n",
       "<style scoped>\n",
       "    .dataframe tbody tr th:only-of-type {\n",
       "        vertical-align: middle;\n",
       "    }\n",
       "\n",
       "    .dataframe tbody tr th {\n",
       "        vertical-align: top;\n",
       "    }\n",
       "\n",
       "    .dataframe thead th {\n",
       "        text-align: right;\n",
       "    }\n",
       "</style>\n",
       "<table border=\"1\" class=\"dataframe\">\n",
       "  <thead>\n",
       "    <tr style=\"text-align: right;\">\n",
       "      <th></th>\n",
       "      <th>model</th>\n",
       "      <th>F1_model</th>\n",
       "      <th>F1_train</th>\n",
       "    </tr>\n",
       "  </thead>\n",
       "  <tbody>\n",
       "    <tr>\n",
       "      <th>0</th>\n",
       "      <td>LogisticRegression</td>\n",
       "      <td>0.75</td>\n",
       "      <td>0.83</td>\n",
       "    </tr>\n",
       "    <tr>\n",
       "      <th>1</th>\n",
       "      <td>DecisionTree</td>\n",
       "      <td>0.65</td>\n",
       "      <td>0.70</td>\n",
       "    </tr>\n",
       "    <tr>\n",
       "      <th>2</th>\n",
       "      <td>lightgbm</td>\n",
       "      <td>0.76</td>\n",
       "      <td>0.85</td>\n",
       "    </tr>\n",
       "  </tbody>\n",
       "</table>\n",
       "</div>"
      ],
      "text/plain": [
       "                model  F1_model  F1_train\n",
       "0  LogisticRegression      0.75      0.83\n",
       "1        DecisionTree      0.65      0.70\n",
       "2            lightgbm      0.76      0.85"
      ]
     },
     "execution_count": 42,
     "metadata": {},
     "output_type": "execute_result"
    }
   ],
   "source": [
    "model"
   ]
  },
  {
   "cell_type": "markdown",
   "id": "a03e3da1-cd73-45b3-a218-ae4559c4a57b",
   "metadata": {},
   "source": [
    "* Исходя из полученных значений метрики **`F1`**\n",
    "* Лучший результат метрики **`F1`** у **`lightgbm`** модели как просто у модели так и на тренировочной выборке \n",
    "* Проведем тестирование"
   ]
  },
  {
   "cell_type": "markdown",
   "id": "00266409-8cab-4a4f-95fc-30dac0aaa7d6",
   "metadata": {},
   "source": [
    "## Тестирование"
   ]
  },
  {
   "cell_type": "code",
   "execution_count": 43,
   "id": "8204dfd4-186e-4e42-b20c-8c7277a09575",
   "metadata": {},
   "outputs": [
    {
     "name": "stdout",
     "output_type": "stream",
     "text": [
      "CPU times: total: 1.77 s\n",
      "Wall time: 254 ms\n"
     ]
    }
   ],
   "source": [
    "%%time\n",
    "test_pred_lgbm = lgbm_model.predict(tf_idf_test)"
   ]
  },
  {
   "cell_type": "code",
   "execution_count": 44,
   "id": "da8fb152-4b72-4b09-ad9c-9e3eb8f9df57",
   "metadata": {},
   "outputs": [
    {
     "data": {
      "text/plain": [
       "'F1 для тестовой выборке: 0.77'"
      ]
     },
     "execution_count": 44,
     "metadata": {},
     "output_type": "execute_result"
    }
   ],
   "source": [
    "test_f1 =f1_score(y_test,test_pred_lgbm )\n",
    "f\"F1 для тестовой выборке: {round(test_f1 , 2)}\""
   ]
  },
  {
   "cell_type": "markdown",
   "id": "fb56b233-2198-4f6c-b818-fd3d0913707e",
   "metadata": {},
   "source": [
    "## Вывод"
   ]
  },
  {
   "cell_type": "markdown",
   "id": "358e49bc-5781-47cb-ba6a-7cc2c3c63013",
   "metadata": {},
   "source": [
    "* Загрузили данные\n",
    "* Выполнили  очистку данные с помощью регулярных выражений и лемматизиро.\n",
    "* Выполнили  лемматизацию.\n",
    "* Спомощью **`TF-IDF`** убрали стоп слава и создали мешки.\n",
    "* Провели обучение разных моделей\n",
    "* Лучшая модель **`lgb.LGBMClassifier`** значение F1 на тестовой выборки **`0.85`**\n",
    "* Провели тестирование\n",
    "  * Получили результа **`F1`** = **0.77**\n",
    "* **Условие задания Вполнено 0.75 < 0.77**  "
   ]
  },
  {
   "cell_type": "code",
   "execution_count": null,
   "id": "d9e79a70",
   "metadata": {},
   "outputs": [],
   "source": []
  }
 ],
 "metadata": {
  "kernelspec": {
   "display_name": "Python 3 (ipykernel)",
   "language": "python",
   "name": "python3"
  },
  "language_info": {
   "codemirror_mode": {
    "name": "ipython",
    "version": 3
   },
   "file_extension": ".py",
   "mimetype": "text/x-python",
   "name": "python",
   "nbconvert_exporter": "python",
   "pygments_lexer": "ipython3",
   "version": "3.10.9"
  },
  "toc": {
   "base_numbering": 1,
   "nav_menu": {},
   "number_sections": true,
   "sideBar": true,
   "skip_h1_title": true,
   "title_cell": "Table of Contents",
   "title_sidebar": "Contents",
   "toc_cell": false,
   "toc_position": {},
   "toc_section_display": true,
   "toc_window_display": false
  }
 },
 "nbformat": 4,
 "nbformat_minor": 5
}
