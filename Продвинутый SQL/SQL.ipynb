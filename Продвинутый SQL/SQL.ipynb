{
 "cells": [
  {
   "cell_type": "markdown",
   "id": "948dd337-1711-4fb9-8bfc-ab67153018f7",
   "metadata": {},
   "source": [
    "# Исследование базы данных сервиса Stackoverflow"
   ]
  },
  {
   "cell_type": "markdown",
   "id": "7199af6d-65e1-4ad5-b713-7f02dcf726f2",
   "metadata": {},
   "source": [
    "В этом исследовании работа идёт с базой данных `StackOverflow` — сервиса вопросов и ответов о программировании. `StackOverflow` похож на социальную сеть — пользователи сервиса задают вопросы, отвечают на посты, оставляют комментарии и ставят оценки другим ответам. Я исследовал предоставленные данные, сформировал требуемые выгрузки данных с помощью SQL, посчитал различные продуктовые метрики и визуализировал их."
   ]
  },
  {
   "cell_type": "markdown",
   "id": "662de135-2ca5-412e-bba3-57b761dbfce9",
   "metadata": {},
   "source": [
    "Работа проходила на тренажере в `Яндекс практикум`и проверялась автоматически."
   ]
  },
  {
   "cell_type": "markdown",
   "id": "48e8249b-593c-43ce-b2fb-20ef922572e7",
   "metadata": {},
   "source": [
    "1.Посчитайте, сколько компаний закрылось."
   ]
  },
  {
   "cell_type": "code",
   "execution_count": null,
   "id": "d8fb1414-2efd-4f0f-9942-cdf6e2c0fdc0",
   "metadata": {},
   "outputs": [],
   "source": [
    "SELECT COUNT(id)\n",
    "FROM company\n",
    "WHERE status ='closed'"
   ]
  },
  {
   "cell_type": "markdown",
   "id": "e8234d44-323c-41d1-a384-c0984b3d9102",
   "metadata": {},
   "source": [
    "2.Отобразите количество привлечённых средств для новостных компаний США. Используйте данные из таблицы `company`. Отсортируйте таблицу по убыванию значений в поле `funding_total` ."
   ]
  },
  {
   "cell_type": "code",
   "execution_count": null,
   "id": "4fab0159-2293-4bfc-85f4-4e7e51862afb",
   "metadata": {},
   "outputs": [],
   "source": [
    "SELECT funding_total\n",
    "FROM company\n",
    "WHERE country_code = 'USA' AND category_code = 'news'\n",
    "ORDER BY funding_total DESC;"
   ]
  },
  {
   "cell_type": "markdown",
   "id": "958f1ecf-9171-4a29-b667-f051ba22950d",
   "metadata": {},
   "source": [
    "3.Найдите общую сумму сделок по покупке одних компаний другими в долларах. Отберите сделки, которые осуществлялись только за наличные с 2011 по 2013 год включительно."
   ]
  },
  {
   "cell_type": "code",
   "execution_count": null,
   "id": "8d17a7c6-a307-47cf-8322-76bf0f3f707a",
   "metadata": {},
   "outputs": [],
   "source": [
    "SELECT SUM(price_amount)\n",
    "FROM acquisition\n",
    "WHERE term_code = 'cash' AND\n",
    "      CAST(acquired_at AS DATE) BETWEEN '2011-01-01' AND '2013-12-31';\n",
    "      "
   ]
  },
  {
   "cell_type": "markdown",
   "id": "ffdf094d-533c-4cd6-b34a-fd06e3866720",
   "metadata": {},
   "source": [
    "4.Отобразите имя, фамилию и названия аккаунтов людей в твиттере, у которых названия аккаунтов начинаются на `'Silver'`."
   ]
  },
  {
   "cell_type": "code",
   "execution_count": null,
   "id": "cce15aca-34a8-466d-a80b-0787c6787365",
   "metadata": {},
   "outputs": [],
   "source": [
    "SELECT first_name,\n",
    "       last_name,\n",
    "       twitter_username\n",
    "FROM people\n",
    "WHERE twitter_username LIKE 'Silver%'"
   ]
  },
  {
   "cell_type": "markdown",
   "id": "65e171a7-c38e-4595-bc75-124486954f77",
   "metadata": {},
   "source": [
    "5.Выведите на экран всю информацию о людях, у которых названия аккаунтов в твиттере содержат подстроку `'money'`, а фамилия начинается на `'K'`."
   ]
  },
  {
   "cell_type": "code",
   "execution_count": null,
   "id": "b2573693-fdde-490c-929c-6c3795e62f9a",
   "metadata": {},
   "outputs": [],
   "source": [
    "SELECT * \n",
    "       \n",
    "FROM people\n",
    "WHERE twitter_username LIKE '%money%' AND\n",
    "      last_name LIKE 'K%'"
   ]
  },
  {
   "cell_type": "markdown",
   "id": "03930531-6ea9-49db-8c4c-a5640c68d509",
   "metadata": {},
   "source": [
    "6.Для каждой страны отобразите общую сумму привлечённых инвестиций, которые получили компании, зарегистрированные в этой стране. Страну, в которой зарегистрирована компания, можно определить по коду страны. Отсортируйте данные по убыванию суммы."
   ]
  },
  {
   "cell_type": "code",
   "execution_count": null,
   "id": "be3a3b60-5a51-4433-af6d-279543fab1ea",
   "metadata": {},
   "outputs": [],
   "source": [
    "SELECT country_code,\n",
    "       SUM(funding_total)\n",
    "FROM company\n",
    "GROUP BY country_code\n",
    "ORDER BY  SUM(funding_total) DESC;"
   ]
  },
  {
   "cell_type": "markdown",
   "id": "fd4bd258-f907-4ccf-9840-23127dfd7773",
   "metadata": {},
   "source": [
    "7.Составьте таблицу, в которую войдёт дата проведения раунда, а также минимальное и максимальное значения суммы инвестиций, привлечённых в эту дату.\n",
    "Оставьте в итоговой таблице только те записи, в которых минимальное значение суммы инвестиций не равно нулю и не равно максимальному значению."
   ]
  },
  {
   "cell_type": "code",
   "execution_count": null,
   "id": "5a1ac734-7caf-404a-aaa7-ef82453dc246",
   "metadata": {},
   "outputs": [],
   "source": [
    "SELECT funded_at,\n",
    "      MIN(raised_amount) AS min_investment,\n",
    "      MAX(raised_amount) AS max_investment\n",
    "FROM funding_round\n",
    "GROUP BY funded_at\n",
    "HAVING MIN(raised_amount) <> 0\n",
    "   AND MIN(raised_amount) <> MAX(raised_amount)"
   ]
  },
  {
   "cell_type": "markdown",
   "id": "38ef826d-ae14-4b5f-9050-5b8dc6626783",
   "metadata": {},
   "source": [
    "8.Создайте поле с категориями:\n",
    "* Для фондов, которые инвестируют в 100 и более компаний, назначьте категорию `high_activity`.\n",
    "* Для фондов, которые инвестируют в 20 и более компаний до 100, назначьте категорию `middle_activity`.\n",
    "* Если количество инвестируемых компаний фонда не достигает 20, назначьте категорию `low_activity`.\n",
    "\n",
    "Отобразите все поля таблицы `fund` и новое поле с категориями."
   ]
  },
  {
   "cell_type": "code",
   "execution_count": null,
   "id": "8c9a09c5-ee8a-45f1-ac4b-6748e1edee18",
   "metadata": {},
   "outputs": [],
   "source": [
    "SELECT *,\n",
    "       CASE\n",
    "           WHEN invested_companies > 100 THEN 'high_activity'\n",
    "           WHEN invested_companies BETWEEN 20 AND 100 THEN 'middle_activity'\n",
    "           WHEN invested_companies < 20 THEN 'low_activity'\n",
    "       END    \n",
    "FROM fund;"
   ]
  },
  {
   "cell_type": "markdown",
   "id": "42b6fa9e-be53-48b1-bc58-ee27546ab265",
   "metadata": {},
   "source": [
    "9.Для каждой из категорий, назначенных в предыдущем задании, посчитайте округлённое до ближайшего целого числа среднее количество инвестиционных раундов, в которых фонд принимал участие. Выведите на экран категории и среднее число инвестиционных раундов. Отсортируйте таблицу по возрастанию среднего."
   ]
  },
  {
   "cell_type": "code",
   "execution_count": null,
   "id": "3cdd57fb-3566-453a-8b64-14bbd7f22e72",
   "metadata": {},
   "outputs": [],
   "source": [
    "SELECT \n",
    "       CASE\n",
    "           WHEN invested_companies>=100 THEN 'high_activity'\n",
    "           WHEN invested_companies>=20 THEN 'middle_activity'\n",
    "           ELSE 'low_activity'\n",
    "       END AS activity,\n",
    "       ROUND(AVG(investment_rounds))\n",
    "FROM fund\n",
    "GROUP BY activity\n",
    "ORDER BY AVG(investment_rounds);\n"
   ]
  },
  {
   "cell_type": "markdown",
   "id": "7fcb1aae-48c0-49ff-81fa-d60fd5e9930b",
   "metadata": {},
   "source": [
    "10.Проанализируйте, в каких странах находятся фонды, которые чаще всего инвестируют в стартапы. \n",
    "\n",
    "* Для каждой страны посчитайте минимальное, максимальное и среднее число компаний, в которые инвестировали фонды этой страны, основанные с 2010 по 2012 год включительно. Исключите страны с фондами, у которых минимальное число компаний, получивших инвестиции, равно нулю. \n",
    "* Выгрузите десять самых активных стран-инвесторов: отсортируйте таблицу по среднему количеству компаний от большего к меньшему. Затем добавьте сортировку по коду страны в лексикографическом порядке."
   ]
  },
  {
   "cell_type": "code",
   "execution_count": null,
   "id": "b6592c8f-850d-4a74-9dc7-38d9d4fb0bbf",
   "metadata": {},
   "outputs": [],
   "source": [
    "SELECT f.country_code,\n",
    "       MIN(f.invested_companies) AS min_invested_companies,\n",
    "       MAX(f.invested_companies) AS max_invested_companies,\n",
    "       AVG(f.invested_companies) AS avg_invested_companies\n",
    "FROM fund f\n",
    "WHERE EXTRACT('year' FROM f.founded_at) BETWEEN 2010 AND 2012\n",
    "GROUP BY f.country_code\n",
    "HAVING MIN(f.invested_companies) > 0\n",
    "ORDER BY avg_invested_companies DESC, f.country_code ASC\n",
    "LIMIT 10;"
   ]
  },
  {
   "cell_type": "markdown",
   "id": "52a31c49-c937-4553-8732-1d4182689ec5",
   "metadata": {},
   "source": [
    "11.Отобразите имя и фамилию всех сотрудников стартапов. Добавьте поле с названием учебного заведения, которое окончил сотрудник, если эта информация известна."
   ]
  },
  {
   "cell_type": "code",
   "execution_count": null,
   "id": "ad61d51b-ea56-40d2-9b1a-4bc22e77b263",
   "metadata": {},
   "outputs": [],
   "source": [
    "SELECT p.first_name,\n",
    "       p.last_name,\n",
    "       e.instituition\n",
    "FROM people AS p\n",
    "LEFT JOIN education AS e ON p.id = e.person_id"
   ]
  },
  {
   "cell_type": "markdown",
   "id": "47dd221d-30b3-43e7-8d14-b4ec85a4a3c2",
   "metadata": {},
   "source": [
    "12.Для каждой компании найдите количество учебных заведений, которые окончили её сотрудники. Выведите название компании и число уникальных названий учебных заведений. Составьте топ-5 компаний по количеству университетов."
   ]
  },
  {
   "cell_type": "code",
   "execution_count": null,
   "id": "9e502ca0-f0d8-4d01-9fdf-55a152791eac",
   "metadata": {},
   "outputs": [],
   "source": [
    "WITH comp as\n",
    "(SELECT c.id,\n",
    "       COUNT(DISTINCT e.instituition) AS count_instit\n",
    "FROM company AS c\n",
    "LEFT JOIN people AS p ON c.id = p.company_id\n",
    "LEFT JOIN education AS e ON p.id = e.person_id\n",
    "GROUP BY c.id)\n",
    "\n",
    "SELECT c.name,\n",
    "       count_instit\n",
    "FROM comp\n",
    "JOIN company as c ON comp.id = c.id\n",
    "ORDER BY count_instit DESC\n",
    "LIMIT 5;"
   ]
  },
  {
   "cell_type": "markdown",
   "id": "4aea30b8-a2c9-4dc9-ad5a-0244b7c97bce",
   "metadata": {},
   "source": [
    "13.Составьте список с уникальными названиями закрытых компаний, для которых первый раунд финансирования оказался последним."
   ]
  },
  {
   "cell_type": "code",
   "execution_count": null,
   "id": "66867d9b-7a4a-4303-a2c2-96cbc7e2cf09",
   "metadata": {},
   "outputs": [],
   "source": [
    "SELECT name\n",
    "FROM company\n",
    "WHERE status = 'closed'\n",
    "  AND id IN (SELECT company_id \n",
    "             FROM funding_round\n",
    "             WHERE is_first_round = 1\n",
    "                AND is_last_round = 1);"
   ]
  },
  {
   "cell_type": "markdown",
   "id": "9c25d3e0-8bca-461a-b3b6-359d7349127c",
   "metadata": {},
   "source": [
    "14.Составьте список уникальных номеров сотрудников, которые работают в компаниях, отобранных в предыдущем задании."
   ]
  },
  {
   "cell_type": "code",
   "execution_count": null,
   "id": "8f83384b-83a1-4b22-97a3-7f2b7e46dec4",
   "metadata": {},
   "outputs": [],
   "source": [
    "WITH comp AS(SELECT id\n",
    "             FROM company\n",
    "             WHERE status = 'closed'\n",
    "               AND id IN (SELECT company_id \n",
    "                          FROM funding_round\n",
    "                          WHERE is_first_round = 1\n",
    "                            AND is_last_round = 1))\n",
    "\n",
    "SELECT DISTINCT p.id\n",
    "FROM comp\n",
    "JOIN people AS p ON comp.id = p.company_id"
   ]
  },
  {
   "cell_type": "markdown",
   "id": "4ea59398-3a44-432a-911e-d46e35f3a524",
   "metadata": {},
   "source": [
    "15.Составьте таблицу, куда войдут уникальные пары с номерами сотрудников из предыдущей задачи и учебным заведением, которое окончил сотрудник."
   ]
  },
  {
   "cell_type": "code",
   "execution_count": null,
   "id": "36f85f95-550f-4096-89ab-decfbf7928fc",
   "metadata": {},
   "outputs": [],
   "source": [
    "WITH comp AS(SELECT id\n",
    "             FROM company\n",
    "             WHERE status = 'closed'\n",
    "               AND id IN (SELECT company_id \n",
    "                          FROM funding_round\n",
    "                          WHERE is_first_round = 1\n",
    "                            AND is_last_round = 1))\n",
    "\n",
    "SELECT DISTINCT p.id,\n",
    "       e.instituition\n",
    "FROM comp\n",
    "JOIN people AS p ON comp.id = p.company_id\n",
    "JOIN education AS e ON p.id = e.person_id;\n",
    " "
   ]
  },
  {
   "cell_type": "markdown",
   "id": "ff186636-af2d-483d-b604-828918842312",
   "metadata": {},
   "source": [
    "16.Посчитайте количество учебных заведений для каждого сотрудника из предыдущего задания. При подсчёте учитывайте, что некоторые сотрудники могли окончить одно и то же заведение дважды."
   ]
  },
  {
   "cell_type": "code",
   "execution_count": null,
   "id": "88cdf85d-b903-4f89-8a52-49e54bff5491",
   "metadata": {},
   "outputs": [],
   "source": [
    "WITH comp AS(SELECT id\n",
    "             FROM company\n",
    "             WHERE status = 'closed'\n",
    "               AND id IN (SELECT company_id \n",
    "                          FROM funding_round\n",
    "                          WHERE is_first_round = 1\n",
    "                            AND is_last_round = 1))\n",
    "\n",
    "SELECT DISTINCT p.id,\n",
    "       COUNT(e.instituition)\n",
    "       \n",
    "FROM comp\n",
    "JOIN people AS p ON comp.id = p.company_id\n",
    "JOIN education AS e ON p.id = e.person_id\n",
    "GROUP BY p.id;"
   ]
  },
  {
   "cell_type": "markdown",
   "id": "f4ddc9df-cf7c-4c70-aa4a-f49e39e68d32",
   "metadata": {},
   "source": [
    "17.Дополните предыдущий запрос и выведите среднее число учебных заведений (всех, не только уникальных), которые окончили сотрудники разных компаний. Нужно вывести только одну запись, группировка здесь не понадобится."
   ]
  },
  {
   "cell_type": "code",
   "execution_count": null,
   "id": "a85294eb-3048-4321-a8ad-52f74bab01bf",
   "metadata": {},
   "outputs": [],
   "source": [
    "WITH \n",
    "comp AS (SELECT id\n",
    "         FROM company\n",
    "         WHERE status = 'closed'\n",
    "          AND id IN (SELECT company_id \n",
    "                     FROM funding_round\n",
    "                     WHERE is_first_round = 1\n",
    "                      AND is_last_round = 1)),\n",
    "count_isnt AS (SELECT DISTINCT p.id,\n",
    "                      COUNT(e.instituition) AS num_institutions\n",
    "               FROM comp\n",
    "               JOIN people AS p ON comp.id = p.company_id\n",
    "               JOIN education AS e ON p.id = e.person_id\n",
    "               GROUP BY p.id)\n",
    "       \n",
    "SELECT AVG(num_institutions) AS avg_num_institutions\n",
    "FROM count_isnt;"
   ]
  },
  {
   "cell_type": "markdown",
   "id": "4534a3b9-306c-4d4f-aabd-2871443c1888",
   "metadata": {},
   "source": [
    "18.Напишите похожий запрос: выведите среднее число учебных заведений (всех, не только уникальных), которые окончили сотрудники `Facebook*`.\n",
    "\n",
    "`*(сервис, запрещённый на территории РФ)`"
   ]
  },
  {
   "cell_type": "code",
   "execution_count": null,
   "id": "0d195322-c0a5-4442-8ee2-a17fcae9030d",
   "metadata": {},
   "outputs": [],
   "source": [
    "WITH \n",
    "comp AS (SELECT id\n",
    "         FROM company\n",
    "         WHERE name = 'Facebook'\n",
    "          ),\n",
    "count_isnt AS (SELECT DISTINCT p.id,\n",
    "                      COUNT(e.instituition) AS num_institutions\n",
    "               FROM comp\n",
    "               JOIN people AS p ON comp.id = p.company_id\n",
    "               JOIN education AS e ON p.id = e.person_id\n",
    "               GROUP BY p.id)\n",
    "       \n",
    "SELECT AVG(num_institutions) AS avg_num_institutions\n",
    "FROM count_isnt;"
   ]
  },
  {
   "cell_type": "markdown",
   "id": "3c459fb5-115c-4e1d-ba6b-fc5a67333a8f",
   "metadata": {},
   "source": [
    "19.Составьте таблицу из полей:\n",
    "* `name_of_fund` — название фонда;\n",
    "* `name_of_company` — название компании;\n",
    "* `amount` — сумма инвестиций, которую привлекла компания в раунде.\n",
    "\n",
    "В таблицу войдут данные о компаниях, в истории которых было больше шести важных этапов, а раунды финансирования проходили с 2012 по 2013 год включительно."
   ]
  },
  {
   "cell_type": "code",
   "execution_count": null,
   "id": "b1b4d725-5e48-4ce4-ba89-59d08c9ba49f",
   "metadata": {},
   "outputs": [],
   "source": [
    "SELECT f.name AS name_of_fund,\n",
    "       c.name AS name_of_company,\n",
    "       fr.raised_amount AS amount\n",
    "FROM investment AS i\n",
    "JOIN company AS c ON i.company_id = c.id\n",
    "JOIN fund AS f ON i.fund_id = f.id\n",
    "JOIN funding_round AS fr ON i.funding_round_id = fr.id\n",
    "WHERE c.milestones > 6\n",
    "  AND EXTRACT('year' FROM i.created_at) BETWEEN 2012 AND 2013;\n"
   ]
  },
  {
   "cell_type": "markdown",
   "id": "c22d6ff3-06c5-4849-abca-48947ddef611",
   "metadata": {},
   "source": [
    "20.Выгрузите таблицу, в которой будут такие поля:\n",
    "* название компании-покупателя;\n",
    "* сумма сделки;\n",
    "* название компании, которую купили;\n",
    "* сумма инвестиций, вложенных в купленную компанию;\n",
    "* доля, которая отображает, во сколько раз сумма покупки превысила сумму вложенных в компанию инвестиций, округлённая до ближайшего целого числа.\n",
    "\n",
    "Не учитывайте те сделки, в которых сумма покупки равна нулю. Если сумма инвестиций в компанию равна нулю, исключите такую компанию из таблицы. \n",
    "\n",
    "Отсортируйте таблицу по сумме сделки от большей к меньшей, а затем по названию купленной компании в лексикографическом порядке. Ограничьте таблицу первыми десятью записями."
   ]
  },
  {
   "cell_type": "code",
   "execution_count": null,
   "id": "bc87937d-ec36-437e-9c29-f978ff3e9623",
   "metadata": {},
   "outputs": [],
   "source": [
    "SELECT co.name as buyer,\n",
    "       ac.price_amount,\n",
    "       c.name,\n",
    "       c.funding_total,\n",
    "       ROUND(ac.price_amount/c.funding_total) AS attitude\n",
    "FROM acquisition AS ac\n",
    "JOIN company AS c ON  ac.acquired_company_id = c.id \n",
    "JOIN company as co ON ac.acquiring_company_id = co.id \n",
    "WHERE ac.price_amount <> 0 AND c.funding_total <> 0\n",
    "ORDER BY ac.price_amount DESC,c.name\n",
    "LIMIT 10;\n"
   ]
  },
  {
   "cell_type": "markdown",
   "id": "0e5fd34b-077d-4f5d-81b3-527ad8349350",
   "metadata": {},
   "source": [
    "21.Выгрузите таблицу, в которую войдут названия компаний из категории social, получившие финансирование с 2010 по 2013 год включительно. Проверьте, что сумма инвестиций не равна нулю. Выведите также номер месяца, в котором проходил раунд финансирования."
   ]
  },
  {
   "cell_type": "code",
   "execution_count": null,
   "id": "61533b79-a820-456e-9b80-0c64e1d9bacd",
   "metadata": {},
   "outputs": [],
   "source": [
    "SELECT c.name, \n",
    "       EXTRACT(MONTH FROM f.funded_at) as month\n",
    "FROM company c\n",
    "JOIN funding_round f ON c.id = f.company_id\n",
    "WHERE c.category_code = 'social'\n",
    "AND f.funded_at BETWEEN '2010-01-01' AND '2013-12-31'\n",
    "AND f.raised_amount > 0\n",
    "ORDER BY f.funded_at ASC"
   ]
  },
  {
   "cell_type": "markdown",
   "id": "bf561141-0f45-40d1-bfc2-bd219907f708",
   "metadata": {},
   "source": [
    "22.Отберите данные по месяцам с 2010 по 2013 год, когда проходили инвестиционные раунды. Сгруппируйте данные по номеру месяца и получите таблицу, в которой будут поля:\n",
    "* номер месяца, в котором проходили раунды;\n",
    "* количество уникальных названий фондов из США, которые инвестировали в этом месяце;\n",
    "* количество компаний, купленных за этот месяц;\n",
    "* общая сумма сделок по покупкам в этом месяце."
   ]
  },
  {
   "cell_type": "code",
   "execution_count": null,
   "id": "d20c3bf3-1f9f-4790-8255-aa9a7a130d89",
   "metadata": {},
   "outputs": [],
   "source": [
    "WITH funds AS \n",
    "(SELECT \n",
    "    COUNT(DISTINCT fu.name) AS funds_count,\n",
    "    EXTRACT(MONTH FROM funded_at::DATE) AS MONTH\n",
    "    --fr.raised_amount as round_cash\n",
    "FROM investment AS inv\n",
    "FULL OUTER JOIN funding_round AS fr ON inv.funding_round_id = fr.id\n",
    "FULL OUTER JOIN fund AS fu ON inv.fund_id = fu.id\n",
    "WHERE fr.funded_at::DATE BETWEEN '2010-01-01'::DATE AND '2013-12-31'::DATE\n",
    "AND fu.country_code = 'USA'\n",
    "GROUP BY MONTH\n",
    "ORDER BY MONTH\n",
    "),\n",
    " \n",
    "aq AS (SELECT \n",
    "    EXTRACT(MONTH FROM acquired_at::DATE) AS MONTH,\n",
    "    COUNT(acquired_company_id),\n",
    "    SUM(price_amount)\n",
    "  \n",
    "FROM acquisition\n",
    "WHERE acquired_at::DATE BETWEEN '2010-01-01'::DATE AND '2013-12-31'::DATE\n",
    "GROUP BY MONTH)\n",
    " \n",
    "SELECT\n",
    "    aq.month,\n",
    "    funds.funds_count,\n",
    "    aq.count AS company_count,\n",
    "    aq.sum AS prices_sum\n",
    "FROM funds AS funds\n",
    "JOIN aq ON aq.month = funds.month"
   ]
  },
  {
   "cell_type": "markdown",
   "id": "17a699cc-e516-441f-a6df-fe973633a92b",
   "metadata": {},
   "source": [
    "23.Составьте сводную таблицу и выведите среднюю сумму инвестиций для стран, в которых есть стартапы, зарегистрированные в 2011, 2012 и 2013 годах. Данные за каждый год должны быть в отдельном поле. Отсортируйте таблицу по среднему значению инвестиций за 2011 год от большего к меньшему."
   ]
  },
  {
   "cell_type": "code",
   "execution_count": null,
   "id": "3599180b-7142-48de-9cb0-7f87f71a7681",
   "metadata": {},
   "outputs": [],
   "source": [
    "WITH\n",
    "t2011 AS (SELECT country_code,\n",
    "                AVG(funding_total) AS avg_investments\n",
    "          FROM company\n",
    "          WHERE EXTRACT(YEAR FROM founded_at) = 2011\n",
    "          GROUP BY country_code),\n",
    "t2012 AS (SELECT country_code,\n",
    "                 AVG(funding_total) AS avg_investments\n",
    "          FROM company\n",
    "          WHERE EXTRACT(YEAR FROM founded_at) = 2012\n",
    "          GROUP BY country_code),\n",
    "t2013 AS (SELECT country_code,\n",
    "                AVG(funding_total) AS avg_investments\n",
    "          FROM company\n",
    "          WHERE EXTRACT(YEAR FROM founded_at) = 2013\n",
    "          GROUP BY country_code)\n",
    "\n",
    "SELECT t2011.country_code,\n",
    "       t2011.avg_investments AS avg_2011,\n",
    "       t2012.avg_investments AS avg_2012,\n",
    "       t2013.avg_investments AS avg_2013\n",
    "FROM t2011 \n",
    "LEFT JOIN t2012 ON t2011.country_code = t2012.country_code\n",
    "LEFT JOIN t2013 ON t2012.country_code = t2013.country_code\n",
    "WHERE t2011.avg_investments IS NOT NULL\n",
    "    AND t2012.avg_investments IS NOT NULL\n",
    "    AND t2013.avg_investments IS NOT NULL\n",
    "ORDER BY 2 DESC\n"
   ]
  },
  {
   "cell_type": "code",
   "execution_count": null,
   "id": "b038fb4c-6da5-441e-9d90-dd45bd452b66",
   "metadata": {},
   "outputs": [],
   "source": []
  }
 ],
 "metadata": {
  "kernelspec": {
   "display_name": "Python 3 (ipykernel)",
   "language": "python",
   "name": "python3"
  },
  "language_info": {
   "codemirror_mode": {
    "name": "ipython",
    "version": 3
   },
   "file_extension": ".py",
   "mimetype": "text/x-python",
   "name": "python",
   "nbconvert_exporter": "python",
   "pygments_lexer": "ipython3",
   "version": "3.10.9"
  }
 },
 "nbformat": 4,
 "nbformat_minor": 5
}
