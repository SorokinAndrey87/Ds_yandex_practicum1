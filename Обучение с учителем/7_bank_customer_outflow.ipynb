{
 "cells": [
  {
   "cell_type": "markdown",
   "id": "bf9ad08c-e64c-41cc-a4c1-d1ad20c6de24",
   "metadata": {},
   "source": [
    "# Проект по теме \"Обучение с учителем\""
   ]
  },
  {
   "cell_type": "markdown",
   "id": "e3df3c63-e4ff-4dd4-a970-f3472a659077",
   "metadata": {},
   "source": [
    "## Отток клиентов банка"
   ]
  },
  {
   "cell_type": "markdown",
   "id": "734b3e3d-2044-4774-9157-36d8fa36e1f3",
   "metadata": {},
   "source": [
    "**Цели и задачи:**\n",
    "* Проанализировать исторические данные о поведении клиентов банка, расторжении договоров. \n",
    "* Спрогнозировать уход клиента из банка.\n",
    "* Построить модель классификации, метрика качества **f1** (минимальное значение **0.59**)\n",
    "* Измерить **AUC-ROC**, сравнить её значение с **f1-мерой**."
   ]
  },
  {
   "cell_type": "markdown",
   "id": "5df23171-c99e-4b32-a796-e10cb14344e5",
   "metadata": {},
   "source": [
    "**План выполнения работы:**\n",
    "* Подготовка данных\n",
    "  * 1.1 Загрузка данных\n",
    "  * 1.2 Подготовка признаков\n",
    "  * 1.3 Преобразование признака Tenure\n",
    "* Исследование задачи\n",
    "  * 2.1 Решающее дерево\n",
    "  * 2.2 Случайный лес\n",
    "  * 2.3 Логистическая регрессия\n",
    "* Борьба с дисбалансом\n",
    "  * 3.1 Взвешивание классов\n",
    "  * 3.2 Upsampling и Downsampling\n",
    "* Тестирование модели\n",
    "* Общий вывод\n"
   ]
  },
  {
   "cell_type": "markdown",
   "id": "ad9514cd-e95a-41fd-9e95-13db028b1ab3",
   "metadata": {},
   "source": [
    "**Описание данных:**\n",
    "Исторические данные о поведении клиентов и расторжении договоров с банком.\n",
    "Источник данных: https://www.kaggle.com/barelydedicated/bank-customer-churn-modeling\n",
    "\n",
    "**Признаки**\n",
    "* `RowNumber` — индекс строки в данных\n",
    "* `CustomerId` — уникальный идентификатор клиента\n",
    "* `Surname` — фамилия\n",
    "* `CreditScore` — кредитный рейтинг\n",
    "* `Geography` — страна проживания\n",
    "* `Gender` — пол\n",
    "* `Age` — возраст\n",
    "* `Tenure` — количество недвижимости у клиента\n",
    "* `Balance` — баланс на счёте\n",
    "* `NumOfProducts` — количество продуктов банка, используемых клиентом\n",
    "* `HasCrCard` — наличие кредитной карты\n",
    "* `IsActiveMember` — активность клиента\n",
    "* `EstimatedSalary` — предполагаемая зарплата\n",
    "\n",
    "**Целевой признак**\n",
    "* `Exited` — факт ухода клиента"
   ]
  },
  {
   "cell_type": "markdown",
   "id": "9c637879-ad4c-4416-b0e2-070b07b8cc65",
   "metadata": {},
   "source": [
    "# 1.Изучение и подготовка данных"
   ]
  },
  {
   "cell_type": "markdown",
   "id": "048779fa-fa79-48ee-a853-1b18928d6f8a",
   "metadata": {},
   "source": [
    "### 1.1 Загрузка данных"
   ]
  },
  {
   "cell_type": "code",
   "execution_count": 1,
   "id": "d6d04f58-02ff-410d-939b-30c3ce6e3f11",
   "metadata": {},
   "outputs": [],
   "source": [
    "import pandas as pd # импорт библиотеки pandas \n",
    "import matplotlib.pyplot as plt # импорт библиотеки matplotlib\n",
    "import seaborn as sns # импорт библиотеки seaborn\n",
    "import numpy as np # импорт библиотеки nump\n",
    "from scipy import stats as st # импорт библиотеки scipy\n",
    "import random\n",
    "\n",
    "\n",
    "from sklearn.metrics import accuracy_score # импорт метрики из библиотеки sklearn \n",
    "from sklearn.model_selection import train_test_split # импорт разделителя\n",
    "from sklearn.tree import DecisionTreeClassifier # импорт дерева решений\n",
    "from sklearn.ensemble import RandomForestClassifier # импорт классификатора случайного леса\n",
    "from sklearn.linear_model import LogisticRegression # импорт линейной регрессии \n",
    "from sklearn.preprocessing import StandardScaler # стандартизация\n",
    "from sklearn.metrics import precision_recall_curve, classification_report # импорт метрик\n",
    "from sklearn.metrics import precision_score, recall_score, f1_score, roc_auc_score, roc_curve # импорт метрик\n",
    "from sklearn.utils import shuffle # импорт шаффла для перемешивания\n",
    "\n",
    "import os\n",
    "import time\n",
    "from tqdm import tqdm # импорт библиотеки tqdm для просмотра прогресса обучения модели\n",
    "\n",
    "from sklearn.preprocessing import OneHotEncoder\n",
    "from sklearn.compose import make_column_transformer"
   ]
  },
  {
   "cell_type": "code",
   "execution_count": 2,
   "id": "d9f64296-8437-4580-80ee-f4d44d163398",
   "metadata": {},
   "outputs": [],
   "source": [
    "#df = pd.read_csv('C:/Users/copok/Documents/Проекты/Отток клиентов/Churn.csv')"
   ]
  },
  {
   "cell_type": "code",
   "execution_count": 3,
   "id": "f8a5a362-6a16-4c9d-a38a-f45bad37fe98",
   "metadata": {},
   "outputs": [],
   "source": [
    "pth1 = 'C:/Users/copok/Documents/Проекты/Яндекс практикум/7 Отток клиентов/Churn.csv'\n",
    "pth2 = '/datasets/Churn.csv'\n",
    "\n",
    "if os.path.exists(pth1):\n",
    "    df = pd.read_csv(pth1)\n",
    "elif os.path.exists(pth2):\n",
    "    df= pd.read_csv(pth2)\n",
    "else:\n",
    "    print('Something is wrong')"
   ]
  },
  {
   "cell_type": "code",
   "execution_count": 4,
   "id": "2b8930cc-3cc8-435f-bd7a-f9f397eab43d",
   "metadata": {},
   "outputs": [],
   "source": [
    "#df = pd.read_csv('/datasets/Churn.csv') Documents/Проекты/Яндекс практикум/7 Отток клиентов/Churn.csv"
   ]
  },
  {
   "cell_type": "code",
   "execution_count": 5,
   "id": "ca20e570-afe6-44ca-93b1-60c48d4e570a",
   "metadata": {},
   "outputs": [
    {
     "data": {
      "text/html": [
       "<div>\n",
       "<style scoped>\n",
       "    .dataframe tbody tr th:only-of-type {\n",
       "        vertical-align: middle;\n",
       "    }\n",
       "\n",
       "    .dataframe tbody tr th {\n",
       "        vertical-align: top;\n",
       "    }\n",
       "\n",
       "    .dataframe thead th {\n",
       "        text-align: right;\n",
       "    }\n",
       "</style>\n",
       "<table border=\"1\" class=\"dataframe\">\n",
       "  <thead>\n",
       "    <tr style=\"text-align: right;\">\n",
       "      <th></th>\n",
       "      <th>RowNumber</th>\n",
       "      <th>CustomerId</th>\n",
       "      <th>Surname</th>\n",
       "      <th>CreditScore</th>\n",
       "      <th>Geography</th>\n",
       "      <th>Gender</th>\n",
       "      <th>Age</th>\n",
       "      <th>Tenure</th>\n",
       "      <th>Balance</th>\n",
       "      <th>NumOfProducts</th>\n",
       "      <th>HasCrCard</th>\n",
       "      <th>IsActiveMember</th>\n",
       "      <th>EstimatedSalary</th>\n",
       "      <th>Exited</th>\n",
       "    </tr>\n",
       "  </thead>\n",
       "  <tbody>\n",
       "    <tr>\n",
       "      <th>0</th>\n",
       "      <td>1</td>\n",
       "      <td>15634602</td>\n",
       "      <td>Hargrave</td>\n",
       "      <td>619</td>\n",
       "      <td>France</td>\n",
       "      <td>Female</td>\n",
       "      <td>42</td>\n",
       "      <td>2.0</td>\n",
       "      <td>0.00</td>\n",
       "      <td>1</td>\n",
       "      <td>1</td>\n",
       "      <td>1</td>\n",
       "      <td>101348.88</td>\n",
       "      <td>1</td>\n",
       "    </tr>\n",
       "    <tr>\n",
       "      <th>1</th>\n",
       "      <td>2</td>\n",
       "      <td>15647311</td>\n",
       "      <td>Hill</td>\n",
       "      <td>608</td>\n",
       "      <td>Spain</td>\n",
       "      <td>Female</td>\n",
       "      <td>41</td>\n",
       "      <td>1.0</td>\n",
       "      <td>83807.86</td>\n",
       "      <td>1</td>\n",
       "      <td>0</td>\n",
       "      <td>1</td>\n",
       "      <td>112542.58</td>\n",
       "      <td>0</td>\n",
       "    </tr>\n",
       "    <tr>\n",
       "      <th>2</th>\n",
       "      <td>3</td>\n",
       "      <td>15619304</td>\n",
       "      <td>Onio</td>\n",
       "      <td>502</td>\n",
       "      <td>France</td>\n",
       "      <td>Female</td>\n",
       "      <td>42</td>\n",
       "      <td>8.0</td>\n",
       "      <td>159660.80</td>\n",
       "      <td>3</td>\n",
       "      <td>1</td>\n",
       "      <td>0</td>\n",
       "      <td>113931.57</td>\n",
       "      <td>1</td>\n",
       "    </tr>\n",
       "    <tr>\n",
       "      <th>3</th>\n",
       "      <td>4</td>\n",
       "      <td>15701354</td>\n",
       "      <td>Boni</td>\n",
       "      <td>699</td>\n",
       "      <td>France</td>\n",
       "      <td>Female</td>\n",
       "      <td>39</td>\n",
       "      <td>1.0</td>\n",
       "      <td>0.00</td>\n",
       "      <td>2</td>\n",
       "      <td>0</td>\n",
       "      <td>0</td>\n",
       "      <td>93826.63</td>\n",
       "      <td>0</td>\n",
       "    </tr>\n",
       "    <tr>\n",
       "      <th>4</th>\n",
       "      <td>5</td>\n",
       "      <td>15737888</td>\n",
       "      <td>Mitchell</td>\n",
       "      <td>850</td>\n",
       "      <td>Spain</td>\n",
       "      <td>Female</td>\n",
       "      <td>43</td>\n",
       "      <td>2.0</td>\n",
       "      <td>125510.82</td>\n",
       "      <td>1</td>\n",
       "      <td>1</td>\n",
       "      <td>1</td>\n",
       "      <td>79084.10</td>\n",
       "      <td>0</td>\n",
       "    </tr>\n",
       "    <tr>\n",
       "      <th>5</th>\n",
       "      <td>6</td>\n",
       "      <td>15574012</td>\n",
       "      <td>Chu</td>\n",
       "      <td>645</td>\n",
       "      <td>Spain</td>\n",
       "      <td>Male</td>\n",
       "      <td>44</td>\n",
       "      <td>8.0</td>\n",
       "      <td>113755.78</td>\n",
       "      <td>2</td>\n",
       "      <td>1</td>\n",
       "      <td>0</td>\n",
       "      <td>149756.71</td>\n",
       "      <td>1</td>\n",
       "    </tr>\n",
       "    <tr>\n",
       "      <th>6</th>\n",
       "      <td>7</td>\n",
       "      <td>15592531</td>\n",
       "      <td>Bartlett</td>\n",
       "      <td>822</td>\n",
       "      <td>France</td>\n",
       "      <td>Male</td>\n",
       "      <td>50</td>\n",
       "      <td>7.0</td>\n",
       "      <td>0.00</td>\n",
       "      <td>2</td>\n",
       "      <td>1</td>\n",
       "      <td>1</td>\n",
       "      <td>10062.80</td>\n",
       "      <td>0</td>\n",
       "    </tr>\n",
       "    <tr>\n",
       "      <th>7</th>\n",
       "      <td>8</td>\n",
       "      <td>15656148</td>\n",
       "      <td>Obinna</td>\n",
       "      <td>376</td>\n",
       "      <td>Germany</td>\n",
       "      <td>Female</td>\n",
       "      <td>29</td>\n",
       "      <td>4.0</td>\n",
       "      <td>115046.74</td>\n",
       "      <td>4</td>\n",
       "      <td>1</td>\n",
       "      <td>0</td>\n",
       "      <td>119346.88</td>\n",
       "      <td>1</td>\n",
       "    </tr>\n",
       "    <tr>\n",
       "      <th>8</th>\n",
       "      <td>9</td>\n",
       "      <td>15792365</td>\n",
       "      <td>He</td>\n",
       "      <td>501</td>\n",
       "      <td>France</td>\n",
       "      <td>Male</td>\n",
       "      <td>44</td>\n",
       "      <td>4.0</td>\n",
       "      <td>142051.07</td>\n",
       "      <td>2</td>\n",
       "      <td>0</td>\n",
       "      <td>1</td>\n",
       "      <td>74940.50</td>\n",
       "      <td>0</td>\n",
       "    </tr>\n",
       "    <tr>\n",
       "      <th>9</th>\n",
       "      <td>10</td>\n",
       "      <td>15592389</td>\n",
       "      <td>H?</td>\n",
       "      <td>684</td>\n",
       "      <td>France</td>\n",
       "      <td>Male</td>\n",
       "      <td>27</td>\n",
       "      <td>2.0</td>\n",
       "      <td>134603.88</td>\n",
       "      <td>1</td>\n",
       "      <td>1</td>\n",
       "      <td>1</td>\n",
       "      <td>71725.73</td>\n",
       "      <td>0</td>\n",
       "    </tr>\n",
       "  </tbody>\n",
       "</table>\n",
       "</div>"
      ],
      "text/plain": [
       "   RowNumber  CustomerId   Surname  CreditScore Geography  Gender  Age  \\\n",
       "0          1    15634602  Hargrave          619    France  Female   42   \n",
       "1          2    15647311      Hill          608     Spain  Female   41   \n",
       "2          3    15619304      Onio          502    France  Female   42   \n",
       "3          4    15701354      Boni          699    France  Female   39   \n",
       "4          5    15737888  Mitchell          850     Spain  Female   43   \n",
       "5          6    15574012       Chu          645     Spain    Male   44   \n",
       "6          7    15592531  Bartlett          822    France    Male   50   \n",
       "7          8    15656148    Obinna          376   Germany  Female   29   \n",
       "8          9    15792365        He          501    France    Male   44   \n",
       "9         10    15592389        H?          684    France    Male   27   \n",
       "\n",
       "   Tenure    Balance  NumOfProducts  HasCrCard  IsActiveMember  \\\n",
       "0     2.0       0.00              1          1               1   \n",
       "1     1.0   83807.86              1          0               1   \n",
       "2     8.0  159660.80              3          1               0   \n",
       "3     1.0       0.00              2          0               0   \n",
       "4     2.0  125510.82              1          1               1   \n",
       "5     8.0  113755.78              2          1               0   \n",
       "6     7.0       0.00              2          1               1   \n",
       "7     4.0  115046.74              4          1               0   \n",
       "8     4.0  142051.07              2          0               1   \n",
       "9     2.0  134603.88              1          1               1   \n",
       "\n",
       "   EstimatedSalary  Exited  \n",
       "0        101348.88       1  \n",
       "1        112542.58       0  \n",
       "2        113931.57       1  \n",
       "3         93826.63       0  \n",
       "4         79084.10       0  \n",
       "5        149756.71       1  \n",
       "6         10062.80       0  \n",
       "7        119346.88       1  \n",
       "8         74940.50       0  \n",
       "9         71725.73       0  "
      ]
     },
     "metadata": {},
     "output_type": "display_data"
    },
    {
     "name": "stdout",
     "output_type": "stream",
     "text": [
      "<class 'pandas.core.frame.DataFrame'>\n",
      "RangeIndex: 10000 entries, 0 to 9999\n",
      "Data columns (total 14 columns):\n",
      " #   Column           Non-Null Count  Dtype  \n",
      "---  ------           --------------  -----  \n",
      " 0   RowNumber        10000 non-null  int64  \n",
      " 1   CustomerId       10000 non-null  int64  \n",
      " 2   Surname          10000 non-null  object \n",
      " 3   CreditScore      10000 non-null  int64  \n",
      " 4   Geography        10000 non-null  object \n",
      " 5   Gender           10000 non-null  object \n",
      " 6   Age              10000 non-null  int64  \n",
      " 7   Tenure           9091 non-null   float64\n",
      " 8   Balance          10000 non-null  float64\n",
      " 9   NumOfProducts    10000 non-null  int64  \n",
      " 10  HasCrCard        10000 non-null  int64  \n",
      " 11  IsActiveMember   10000 non-null  int64  \n",
      " 12  EstimatedSalary  10000 non-null  float64\n",
      " 13  Exited           10000 non-null  int64  \n",
      "dtypes: float64(3), int64(8), object(3)\n",
      "memory usage: 1.1+ MB\n"
     ]
    }
   ],
   "source": [
    "display(df.head(10))\n",
    "df.info()"
   ]
  },
  {
   "cell_type": "markdown",
   "id": "3b480a4c-80d6-4b77-8492-569e1fd8f0f7",
   "metadata": {},
   "source": [
    "**Из исходных данных изветсно:**\n",
    "* **`RowNumber`** — индекс строки в данных\n",
    "* **`CustomerId`** — уникальный идентификатор клиента\n",
    "* **`Surname`** — фамилия\n",
    "* **`CreditScore`** — кредитный рейтинг\n",
    "* **`Geography`** — страна проживания\n",
    "* **`Gender`** — пол\n",
    "* **`Age`** — возраст\n",
    "* **`Tenure`** — сколько лет человек является клиентом банка\n",
    "* **`Balance`** — баланс на счёте\n",
    "* **`NumOfProducts`** — количество продуктов банка, используемых клиентом\n",
    "* **`HasCrCard`** — наличие кредитной карты\n",
    "* **`IsActiveMember`** — активность клиента\n",
    "* **`EstimatedSalary`** — предполагаемая зарплата\n",
    "* **`Exited`** — факт ухода клиента"
   ]
  },
  {
   "cell_type": "markdown",
   "id": "ad76bd8b-0f2d-4b56-a83a-524878117a97",
   "metadata": {},
   "source": [
    "### 1.2 Подготовка данных "
   ]
  },
  {
   "cell_type": "markdown",
   "id": "e65e3a58-f163-4487-aea8-5e5ee978df95",
   "metadata": {},
   "source": [
    "**Изменим название колонок - отформатируем в стандартный формат:**"
   ]
  },
  {
   "cell_type": "code",
   "execution_count": 6,
   "id": "dc005681-8b35-48a6-aecd-2b369feed934",
   "metadata": {},
   "outputs": [],
   "source": [
    "df.columns = df.columns.str.lower()"
   ]
  },
  {
   "cell_type": "code",
   "execution_count": 7,
   "id": "4b057f23-0a1d-4fb0-810e-046bbc948f19",
   "metadata": {},
   "outputs": [],
   "source": [
    "df = df.rename(columns={'rownumber':'row_number', \n",
    "                        'customerid':'customer_id',  \n",
    "                        'creditscore':'credit_score', \n",
    "                        'numofproducts':'num_of_products', \n",
    "                        'hascrcard':'has_crcard',\n",
    "                        'isactivemember':'is_active_member', \n",
    "                        'estimatedsalary':'estimated_salary', \n",
    "                       })"
   ]
  },
  {
   "cell_type": "code",
   "execution_count": 8,
   "id": "802de3b9-bfe5-4772-9d3c-92708509ea96",
   "metadata": {},
   "outputs": [
    {
     "data": {
      "text/html": [
       "<div>\n",
       "<style scoped>\n",
       "    .dataframe tbody tr th:only-of-type {\n",
       "        vertical-align: middle;\n",
       "    }\n",
       "\n",
       "    .dataframe tbody tr th {\n",
       "        vertical-align: top;\n",
       "    }\n",
       "\n",
       "    .dataframe thead th {\n",
       "        text-align: right;\n",
       "    }\n",
       "</style>\n",
       "<table border=\"1\" class=\"dataframe\">\n",
       "  <thead>\n",
       "    <tr style=\"text-align: right;\">\n",
       "      <th></th>\n",
       "      <th>row_number</th>\n",
       "      <th>customer_id</th>\n",
       "      <th>surname</th>\n",
       "      <th>credit_score</th>\n",
       "      <th>geography</th>\n",
       "      <th>gender</th>\n",
       "      <th>age</th>\n",
       "      <th>tenure</th>\n",
       "      <th>balance</th>\n",
       "      <th>num_of_products</th>\n",
       "      <th>has_crcard</th>\n",
       "      <th>is_active_member</th>\n",
       "      <th>estimated_salary</th>\n",
       "      <th>exited</th>\n",
       "    </tr>\n",
       "  </thead>\n",
       "  <tbody>\n",
       "    <tr>\n",
       "      <th>0</th>\n",
       "      <td>1</td>\n",
       "      <td>15634602</td>\n",
       "      <td>Hargrave</td>\n",
       "      <td>619</td>\n",
       "      <td>France</td>\n",
       "      <td>Female</td>\n",
       "      <td>42</td>\n",
       "      <td>2.0</td>\n",
       "      <td>0.00</td>\n",
       "      <td>1</td>\n",
       "      <td>1</td>\n",
       "      <td>1</td>\n",
       "      <td>101348.88</td>\n",
       "      <td>1</td>\n",
       "    </tr>\n",
       "    <tr>\n",
       "      <th>1</th>\n",
       "      <td>2</td>\n",
       "      <td>15647311</td>\n",
       "      <td>Hill</td>\n",
       "      <td>608</td>\n",
       "      <td>Spain</td>\n",
       "      <td>Female</td>\n",
       "      <td>41</td>\n",
       "      <td>1.0</td>\n",
       "      <td>83807.86</td>\n",
       "      <td>1</td>\n",
       "      <td>0</td>\n",
       "      <td>1</td>\n",
       "      <td>112542.58</td>\n",
       "      <td>0</td>\n",
       "    </tr>\n",
       "    <tr>\n",
       "      <th>2</th>\n",
       "      <td>3</td>\n",
       "      <td>15619304</td>\n",
       "      <td>Onio</td>\n",
       "      <td>502</td>\n",
       "      <td>France</td>\n",
       "      <td>Female</td>\n",
       "      <td>42</td>\n",
       "      <td>8.0</td>\n",
       "      <td>159660.80</td>\n",
       "      <td>3</td>\n",
       "      <td>1</td>\n",
       "      <td>0</td>\n",
       "      <td>113931.57</td>\n",
       "      <td>1</td>\n",
       "    </tr>\n",
       "    <tr>\n",
       "      <th>3</th>\n",
       "      <td>4</td>\n",
       "      <td>15701354</td>\n",
       "      <td>Boni</td>\n",
       "      <td>699</td>\n",
       "      <td>France</td>\n",
       "      <td>Female</td>\n",
       "      <td>39</td>\n",
       "      <td>1.0</td>\n",
       "      <td>0.00</td>\n",
       "      <td>2</td>\n",
       "      <td>0</td>\n",
       "      <td>0</td>\n",
       "      <td>93826.63</td>\n",
       "      <td>0</td>\n",
       "    </tr>\n",
       "    <tr>\n",
       "      <th>4</th>\n",
       "      <td>5</td>\n",
       "      <td>15737888</td>\n",
       "      <td>Mitchell</td>\n",
       "      <td>850</td>\n",
       "      <td>Spain</td>\n",
       "      <td>Female</td>\n",
       "      <td>43</td>\n",
       "      <td>2.0</td>\n",
       "      <td>125510.82</td>\n",
       "      <td>1</td>\n",
       "      <td>1</td>\n",
       "      <td>1</td>\n",
       "      <td>79084.10</td>\n",
       "      <td>0</td>\n",
       "    </tr>\n",
       "  </tbody>\n",
       "</table>\n",
       "</div>"
      ],
      "text/plain": [
       "   row_number  customer_id   surname  credit_score geography  gender  age  \\\n",
       "0           1     15634602  Hargrave           619    France  Female   42   \n",
       "1           2     15647311      Hill           608     Spain  Female   41   \n",
       "2           3     15619304      Onio           502    France  Female   42   \n",
       "3           4     15701354      Boni           699    France  Female   39   \n",
       "4           5     15737888  Mitchell           850     Spain  Female   43   \n",
       "\n",
       "   tenure    balance  num_of_products  has_crcard  is_active_member  \\\n",
       "0     2.0       0.00                1           1                 1   \n",
       "1     1.0   83807.86                1           0                 1   \n",
       "2     8.0  159660.80                3           1                 0   \n",
       "3     1.0       0.00                2           0                 0   \n",
       "4     2.0  125510.82                1           1                 1   \n",
       "\n",
       "   estimated_salary  exited  \n",
       "0         101348.88       1  \n",
       "1         112542.58       0  \n",
       "2         113931.57       1  \n",
       "3          93826.63       0  \n",
       "4          79084.10       0  "
      ]
     },
     "execution_count": 8,
     "metadata": {},
     "output_type": "execute_result"
    }
   ],
   "source": [
    "df.head()"
   ]
  },
  {
   "cell_type": "markdown",
   "id": "e5e2db84-fef9-489f-a525-8913362f8793",
   "metadata": {},
   "source": [
    "* **Отбросим те столбцы, которые никак не связаны с расчетом модели машинного обучения (являются либо персональными данными пользователя, либо идентификаторами):**\n",
    "  * **`row_number`** — индекс строки в данных\n",
    "  * **`customer_id`** — уникальный идентификатор клиента\n",
    "  * **`surname`** — фамилия"
   ]
  },
  {
   "cell_type": "code",
   "execution_count": 9,
   "id": "e3b294fb-4245-47f4-978d-6ecf047ec5e3",
   "metadata": {},
   "outputs": [],
   "source": [
    "df = df.drop(['surname', 'row_number', 'customer_id'], axis=1)"
   ]
  },
  {
   "cell_type": "markdown",
   "id": "73f6f661-fc76-4b1b-8ab8-8490c70c6577",
   "metadata": {},
   "source": [
    "**Проверим наличие дубликатов:**"
   ]
  },
  {
   "cell_type": "code",
   "execution_count": 10,
   "id": "a496f8c6-ed9a-489c-9cec-c2446e8f8ad1",
   "metadata": {},
   "outputs": [
    {
     "data": {
      "text/plain": [
       "0"
      ]
     },
     "execution_count": 10,
     "metadata": {},
     "output_type": "execute_result"
    }
   ],
   "source": [
    "df.duplicated().sum()"
   ]
  },
  {
   "cell_type": "markdown",
   "id": "066e51d9-0363-4b0e-afa5-1a5b313e9056",
   "metadata": {},
   "source": [
    "**Проверим пропущенные значения:**"
   ]
  },
  {
   "cell_type": "code",
   "execution_count": 11,
   "id": "f803dcc1-c216-4839-94fe-b3b6b0b5604d",
   "metadata": {},
   "outputs": [
    {
     "data": {
      "text/plain": [
       "credit_score          0\n",
       "geography             0\n",
       "gender                0\n",
       "age                   0\n",
       "tenure              909\n",
       "balance               0\n",
       "num_of_products       0\n",
       "has_crcard            0\n",
       "is_active_member      0\n",
       "estimated_salary      0\n",
       "exited                0\n",
       "dtype: int64"
      ]
     },
     "execution_count": 11,
     "metadata": {},
     "output_type": "execute_result"
    }
   ],
   "source": [
    "df.isna().sum()"
   ]
  },
  {
   "cell_type": "markdown",
   "id": "404cc08f-23da-4696-978d-bfb64fd6bbc7",
   "metadata": {},
   "source": [
    "* Отсутствует **909** значений в столбце **`tenure`**, прежде, чем обучать модель, необходимо заполнить пропуски или удалить строки без значений."
   ]
  },
  {
   "cell_type": "markdown",
   "id": "7609904d-3de8-4020-b2bf-a6bd00ebade2",
   "metadata": {},
   "source": [
    "**Проверим взаимосвязь наличия пропусков:**"
   ]
  },
  {
   "cell_type": "code",
   "execution_count": 12,
   "id": "ce70431c-15e7-48f4-b871-7d07fc9d74c1",
   "metadata": {},
   "outputs": [
    {
     "data": {
      "text/html": [
       "<div>\n",
       "<style scoped>\n",
       "    .dataframe tbody tr th:only-of-type {\n",
       "        vertical-align: middle;\n",
       "    }\n",
       "\n",
       "    .dataframe tbody tr th {\n",
       "        vertical-align: top;\n",
       "    }\n",
       "\n",
       "    .dataframe thead th {\n",
       "        text-align: right;\n",
       "    }\n",
       "</style>\n",
       "<table border=\"1\" class=\"dataframe\">\n",
       "  <thead>\n",
       "    <tr style=\"text-align: right;\">\n",
       "      <th></th>\n",
       "      <th>credit_score</th>\n",
       "      <th>geography</th>\n",
       "      <th>gender</th>\n",
       "      <th>age</th>\n",
       "      <th>tenure</th>\n",
       "      <th>balance</th>\n",
       "      <th>num_of_products</th>\n",
       "      <th>has_crcard</th>\n",
       "      <th>is_active_member</th>\n",
       "      <th>estimated_salary</th>\n",
       "      <th>exited</th>\n",
       "    </tr>\n",
       "  </thead>\n",
       "  <tbody>\n",
       "    <tr>\n",
       "      <th>30</th>\n",
       "      <td>591</td>\n",
       "      <td>Spain</td>\n",
       "      <td>Female</td>\n",
       "      <td>39</td>\n",
       "      <td>NaN</td>\n",
       "      <td>0.00</td>\n",
       "      <td>3</td>\n",
       "      <td>1</td>\n",
       "      <td>0</td>\n",
       "      <td>140469.38</td>\n",
       "      <td>1</td>\n",
       "    </tr>\n",
       "    <tr>\n",
       "      <th>48</th>\n",
       "      <td>550</td>\n",
       "      <td>Germany</td>\n",
       "      <td>Male</td>\n",
       "      <td>38</td>\n",
       "      <td>NaN</td>\n",
       "      <td>103391.38</td>\n",
       "      <td>1</td>\n",
       "      <td>0</td>\n",
       "      <td>1</td>\n",
       "      <td>90878.13</td>\n",
       "      <td>0</td>\n",
       "    </tr>\n",
       "    <tr>\n",
       "      <th>51</th>\n",
       "      <td>585</td>\n",
       "      <td>Germany</td>\n",
       "      <td>Male</td>\n",
       "      <td>36</td>\n",
       "      <td>NaN</td>\n",
       "      <td>146050.97</td>\n",
       "      <td>2</td>\n",
       "      <td>0</td>\n",
       "      <td>0</td>\n",
       "      <td>86424.57</td>\n",
       "      <td>0</td>\n",
       "    </tr>\n",
       "    <tr>\n",
       "      <th>53</th>\n",
       "      <td>655</td>\n",
       "      <td>Germany</td>\n",
       "      <td>Male</td>\n",
       "      <td>41</td>\n",
       "      <td>NaN</td>\n",
       "      <td>125561.97</td>\n",
       "      <td>1</td>\n",
       "      <td>0</td>\n",
       "      <td>0</td>\n",
       "      <td>164040.94</td>\n",
       "      <td>1</td>\n",
       "    </tr>\n",
       "    <tr>\n",
       "      <th>60</th>\n",
       "      <td>742</td>\n",
       "      <td>Germany</td>\n",
       "      <td>Male</td>\n",
       "      <td>35</td>\n",
       "      <td>NaN</td>\n",
       "      <td>136857.00</td>\n",
       "      <td>1</td>\n",
       "      <td>0</td>\n",
       "      <td>0</td>\n",
       "      <td>84509.57</td>\n",
       "      <td>0</td>\n",
       "    </tr>\n",
       "    <tr>\n",
       "      <th>...</th>\n",
       "      <td>...</td>\n",
       "      <td>...</td>\n",
       "      <td>...</td>\n",
       "      <td>...</td>\n",
       "      <td>...</td>\n",
       "      <td>...</td>\n",
       "      <td>...</td>\n",
       "      <td>...</td>\n",
       "      <td>...</td>\n",
       "      <td>...</td>\n",
       "      <td>...</td>\n",
       "    </tr>\n",
       "    <tr>\n",
       "      <th>9944</th>\n",
       "      <td>744</td>\n",
       "      <td>Germany</td>\n",
       "      <td>Male</td>\n",
       "      <td>41</td>\n",
       "      <td>NaN</td>\n",
       "      <td>190409.34</td>\n",
       "      <td>2</td>\n",
       "      <td>1</td>\n",
       "      <td>1</td>\n",
       "      <td>138361.48</td>\n",
       "      <td>0</td>\n",
       "    </tr>\n",
       "    <tr>\n",
       "      <th>9956</th>\n",
       "      <td>520</td>\n",
       "      <td>France</td>\n",
       "      <td>Female</td>\n",
       "      <td>46</td>\n",
       "      <td>NaN</td>\n",
       "      <td>85216.61</td>\n",
       "      <td>1</td>\n",
       "      <td>1</td>\n",
       "      <td>0</td>\n",
       "      <td>117369.52</td>\n",
       "      <td>1</td>\n",
       "    </tr>\n",
       "    <tr>\n",
       "      <th>9964</th>\n",
       "      <td>479</td>\n",
       "      <td>France</td>\n",
       "      <td>Male</td>\n",
       "      <td>34</td>\n",
       "      <td>NaN</td>\n",
       "      <td>117593.48</td>\n",
       "      <td>2</td>\n",
       "      <td>0</td>\n",
       "      <td>0</td>\n",
       "      <td>113308.29</td>\n",
       "      <td>0</td>\n",
       "    </tr>\n",
       "    <tr>\n",
       "      <th>9985</th>\n",
       "      <td>659</td>\n",
       "      <td>France</td>\n",
       "      <td>Male</td>\n",
       "      <td>36</td>\n",
       "      <td>NaN</td>\n",
       "      <td>123841.49</td>\n",
       "      <td>2</td>\n",
       "      <td>1</td>\n",
       "      <td>0</td>\n",
       "      <td>96833.00</td>\n",
       "      <td>0</td>\n",
       "    </tr>\n",
       "    <tr>\n",
       "      <th>9999</th>\n",
       "      <td>792</td>\n",
       "      <td>France</td>\n",
       "      <td>Female</td>\n",
       "      <td>28</td>\n",
       "      <td>NaN</td>\n",
       "      <td>130142.79</td>\n",
       "      <td>1</td>\n",
       "      <td>1</td>\n",
       "      <td>0</td>\n",
       "      <td>38190.78</td>\n",
       "      <td>0</td>\n",
       "    </tr>\n",
       "  </tbody>\n",
       "</table>\n",
       "<p>909 rows × 11 columns</p>\n",
       "</div>"
      ],
      "text/plain": [
       "      credit_score geography  gender  age  tenure    balance  num_of_products  \\\n",
       "30             591     Spain  Female   39     NaN       0.00                3   \n",
       "48             550   Germany    Male   38     NaN  103391.38                1   \n",
       "51             585   Germany    Male   36     NaN  146050.97                2   \n",
       "53             655   Germany    Male   41     NaN  125561.97                1   \n",
       "60             742   Germany    Male   35     NaN  136857.00                1   \n",
       "...            ...       ...     ...  ...     ...        ...              ...   \n",
       "9944           744   Germany    Male   41     NaN  190409.34                2   \n",
       "9956           520    France  Female   46     NaN   85216.61                1   \n",
       "9964           479    France    Male   34     NaN  117593.48                2   \n",
       "9985           659    France    Male   36     NaN  123841.49                2   \n",
       "9999           792    France  Female   28     NaN  130142.79                1   \n",
       "\n",
       "      has_crcard  is_active_member  estimated_salary  exited  \n",
       "30             1                 0         140469.38       1  \n",
       "48             0                 1          90878.13       0  \n",
       "51             0                 0          86424.57       0  \n",
       "53             0                 0         164040.94       1  \n",
       "60             0                 0          84509.57       0  \n",
       "...          ...               ...               ...     ...  \n",
       "9944           1                 1         138361.48       0  \n",
       "9956           1                 0         117369.52       1  \n",
       "9964           0                 0         113308.29       0  \n",
       "9985           1                 0          96833.00       0  \n",
       "9999           1                 0          38190.78       0  \n",
       "\n",
       "[909 rows x 11 columns]"
      ]
     },
     "execution_count": 12,
     "metadata": {},
     "output_type": "execute_result"
    }
   ],
   "source": [
    "df[df['tenure'].isna()]"
   ]
  },
  {
   "cell_type": "code",
   "execution_count": 13,
   "id": "83e9468b-436c-413e-8ddc-cb3cc5def3b8",
   "metadata": {},
   "outputs": [
    {
     "data": {
      "text/plain": [
       "tenure\n",
       "1.0     952\n",
       "2.0     950\n",
       "8.0     933\n",
       "3.0     928\n",
       "5.0     927\n",
       "7.0     925\n",
       "4.0     885\n",
       "9.0     882\n",
       "6.0     881\n",
       "10.0    446\n",
       "0.0     382\n",
       "Name: count, dtype: int64"
      ]
     },
     "execution_count": 13,
     "metadata": {},
     "output_type": "execute_result"
    }
   ],
   "source": [
    "df['tenure'].value_counts().sort_values(ascending=False)"
   ]
  },
  {
   "cell_type": "code",
   "execution_count": 14,
   "id": "52b73175-9788-4414-b661-95100036f030",
   "metadata": {},
   "outputs": [
    {
     "data": {
      "text/plain": [
       "exited\n",
       "0    726\n",
       "1    183\n",
       "Name: count, dtype: int64"
      ]
     },
     "execution_count": 14,
     "metadata": {},
     "output_type": "execute_result"
    }
   ],
   "source": [
    "df[df['tenure'].isna()]['exited'].value_counts().sort_values(ascending=False)"
   ]
  },
  {
   "cell_type": "markdown",
   "id": "76c80607-afec-4a1c-b590-1c462559a118",
   "metadata": {},
   "source": [
    "* Выявлено: Клиенты, которые пользуются банком либо **`10 лет`**, либо **`0 лет`**, меньше, возможно, пропущенные значения - в основном у таких клиентов."
   ]
  },
  {
   "cell_type": "markdown",
   "id": "4f265ca5-cdd2-4cc3-be94-810042ea3122",
   "metadata": {},
   "source": [
    "**Прежде, чем заполнять или удалять строки, проверим взаимосвязь данных:**"
   ]
  },
  {
   "cell_type": "code",
   "execution_count": 15,
   "id": "02b9ad49-bc43-4794-836c-cfd9d189e5a1",
   "metadata": {},
   "outputs": [
    {
     "data": {
      "text/plain": [
       "(-1.25, 1.25, -1.25, 1.25)"
      ]
     },
     "execution_count": 15,
     "metadata": {},
     "output_type": "execute_result"
    },
    {
     "data": {
      "image/png": "[encoded data removed]",
      "text/plain": [
       "<Figure size 600x600 with 1 Axes>"
      ]
     },
     "metadata": {},
     "output_type": "display_data"
    }
   ],
   "source": [
    "# Построим график с количеством людей, ушедших из банка и оставшихся\n",
    "df['exited'].value_counts().plot(kind='pie', autopct='%1.1f%%', shadow=True, figsize=(6,6))\n",
    "plt.legend([\"Остался с банком\", 'Факт ухода клиента'], fontsize= 10, shadow=True)\n",
    "plt.title('Отношение ушедших клиентов к оставшимся')\n",
    "plt.tight_layout()\n",
    "plt.axis('off')"
   ]
  },
  {
   "cell_type": "markdown",
   "id": "211b0cc0-efe4-4009-914c-82c298903fa8",
   "metadata": {},
   "source": [
    "* Выборка несбалансирована, примерно только **20%** клиентов уходят из банка."
   ]
  },
  {
   "cell_type": "markdown",
   "id": "3d899096-be1d-48d7-99af-42107bdc6846",
   "metadata": {},
   "source": [
    "**Проверим корреляцию Пирсона между параметрами:**"
   ]
  },
  {
   "cell_type": "code",
   "execution_count": 16,
   "id": "d815c10a-e0dd-4b9c-9c2b-9e948e613d8f",
   "metadata": {
    "tags": []
   },
   "outputs": [],
   "source": [
    "df1 = df.drop(['geography', 'gender'], axis=1)"
   ]
  },
  {
   "cell_type": "code",
   "execution_count": 17,
   "id": "e7656f13-9d8f-4a5a-aa82-6fb52030ad7d",
   "metadata": {},
   "outputs": [
    {
     "data": {
      "image/png": "[encoded data removed]",
      "text/plain": [
       "<Figure size 1500x500 with 2 Axes>"
      ]
     },
     "metadata": {},
     "output_type": "display_data"
    }
   ],
   "source": [
    "plt.figure(figsize=(15, 5))\n",
    "plt.title('Матрица зависимости корреляций')\n",
    "\n",
    "sns.heatmap(df1.corr(), annot = True)\n",
    "\n",
    "plt.show()\n"
   ]
  },
  {
   "cell_type": "markdown",
   "id": "5726c48d-a8da-4f51-af76-98b4d7165f89",
   "metadata": {},
   "source": [
    "* Больше всего коррелирует между собой параметры **`age`** и **`exited`**, но не так сильно, всего на **0,29**. Параметр возраста сильнее всего влияет на уход клиента из банка."
   ]
  },
  {
   "cell_type": "markdown",
   "id": "121d0c58-28fc-423b-b951-307205fe788a",
   "metadata": {},
   "source": [
    "**Особой корреляции между остальнымит параметрами и `tenure` нет (менее 0,1), то попробуем заполнить данные медианным значением и проверим полученную корреляцию с остальными параметрами снова:**"
   ]
  },
  {
   "cell_type": "code",
   "execution_count": 18,
   "id": "ff13f116-8cd5-4a5e-aab6-085f02cb3a5e",
   "metadata": {},
   "outputs": [],
   "source": [
    "# создаём новый датасет и заполняем его значениями\n",
    "df_filled = df\n",
    "df_filled['tenure'] = df_filled['tenure'].fillna(df_filled['tenure'].median())"
   ]
  },
  {
   "cell_type": "code",
   "execution_count": 19,
   "id": "9dd4c6ab-752f-48b6-9e54-a8bf9520ab6f",
   "metadata": {},
   "outputs": [
    {
     "data": {
      "text/plain": [
       "tenure\n",
       "5.0     1836\n",
       "1.0      952\n",
       "2.0      950\n",
       "8.0      933\n",
       "3.0      928\n",
       "7.0      925\n",
       "4.0      885\n",
       "9.0      882\n",
       "6.0      881\n",
       "10.0     446\n",
       "0.0      382\n",
       "Name: count, dtype: int64"
      ]
     },
     "execution_count": 19,
     "metadata": {},
     "output_type": "execute_result"
    }
   ],
   "source": [
    "# проверяем количество значений\n",
    "df_filled['tenure'].value_counts().sort_values(ascending=False)"
   ]
  },
  {
   "cell_type": "markdown",
   "id": "b70f08aa-a1ae-4f1d-8514-8d5fd006a96a",
   "metadata": {},
   "source": [
    "**Построим хитмэп коррелляции:**"
   ]
  },
  {
   "cell_type": "code",
   "execution_count": 20,
   "id": "e0fa0295-8d96-4b0e-ab2f-4a44f71dd2de",
   "metadata": {
    "tags": []
   },
   "outputs": [],
   "source": [
    "df_filled1 = df_filled.drop(['geography', 'gender'], axis=1)"
   ]
  },
  {
   "cell_type": "code",
   "execution_count": 21,
   "id": "c4532f89-e68b-481d-bc76-c7fe67f3e22a",
   "metadata": {},
   "outputs": [
    {
     "data": {
      "image/png": "[encoded data removed]",
      "text/plain": [
       "<Figure size 100x500 with 2 Axes>"
      ]
     },
     "metadata": {},
     "output_type": "display_data"
    }
   ],
   "source": [
    "plt.figure(figsize=(1, 5))\n",
    "plt.title('Матрица зависимости корреляции')\n",
    "\n",
    "sns.heatmap(df_filled1.corr()[['tenure']], annot = True)\n",
    "\n",
    "plt.show()\n"
   ]
  },
  {
   "cell_type": "markdown",
   "id": "daa3248c-e648-460c-b1b1-843909fe884d",
   "metadata": {},
   "source": [
    "**Значения коэффициента Пирсона значительно не изменились, можно заменить датасет на новый:**"
   ]
  },
  {
   "cell_type": "code",
   "execution_count": 22,
   "id": "6b59ef71-1399-4b1e-9640-5893c9d32a87",
   "metadata": {},
   "outputs": [],
   "source": [
    "df = df_filled"
   ]
  },
  {
   "cell_type": "markdown",
   "id": "aa533ec0-cc62-40af-8165-7264e857efdc",
   "metadata": {},
   "source": [
    "**Прежде, чем обучать модель, подготовим данные для обработки:**\n",
    "* Применим стандартизацию и OHE, чтобы применить несколько моделей машинного обучения (и не создавать множество датасетов)."
   ]
  },
  {
   "cell_type": "code",
   "execution_count": 23,
   "id": "a36dec61-e954-49e0-a5a9-18ef7eeccd07",
   "metadata": {},
   "outputs": [
    {
     "data": {
      "text/html": [
       "<div>\n",
       "<style scoped>\n",
       "    .dataframe tbody tr th:only-of-type {\n",
       "        vertical-align: middle;\n",
       "    }\n",
       "\n",
       "    .dataframe tbody tr th {\n",
       "        vertical-align: top;\n",
       "    }\n",
       "\n",
       "    .dataframe thead th {\n",
       "        text-align: right;\n",
       "    }\n",
       "</style>\n",
       "<table border=\"1\" class=\"dataframe\">\n",
       "  <thead>\n",
       "    <tr style=\"text-align: right;\">\n",
       "      <th></th>\n",
       "      <th>credit_score</th>\n",
       "      <th>age</th>\n",
       "      <th>tenure</th>\n",
       "      <th>balance</th>\n",
       "      <th>num_of_products</th>\n",
       "      <th>has_crcard</th>\n",
       "      <th>is_active_member</th>\n",
       "      <th>estimated_salary</th>\n",
       "      <th>exited</th>\n",
       "      <th>geography_Germany</th>\n",
       "      <th>geography_Spain</th>\n",
       "      <th>gender_Male</th>\n",
       "    </tr>\n",
       "  </thead>\n",
       "  <tbody>\n",
       "    <tr>\n",
       "      <th>0</th>\n",
       "      <td>619</td>\n",
       "      <td>42</td>\n",
       "      <td>2.0</td>\n",
       "      <td>0.00</td>\n",
       "      <td>1</td>\n",
       "      <td>1</td>\n",
       "      <td>1</td>\n",
       "      <td>101348.88</td>\n",
       "      <td>1</td>\n",
       "      <td>False</td>\n",
       "      <td>False</td>\n",
       "      <td>False</td>\n",
       "    </tr>\n",
       "    <tr>\n",
       "      <th>1</th>\n",
       "      <td>608</td>\n",
       "      <td>41</td>\n",
       "      <td>1.0</td>\n",
       "      <td>83807.86</td>\n",
       "      <td>1</td>\n",
       "      <td>0</td>\n",
       "      <td>1</td>\n",
       "      <td>112542.58</td>\n",
       "      <td>0</td>\n",
       "      <td>False</td>\n",
       "      <td>True</td>\n",
       "      <td>False</td>\n",
       "    </tr>\n",
       "    <tr>\n",
       "      <th>2</th>\n",
       "      <td>502</td>\n",
       "      <td>42</td>\n",
       "      <td>8.0</td>\n",
       "      <td>159660.80</td>\n",
       "      <td>3</td>\n",
       "      <td>1</td>\n",
       "      <td>0</td>\n",
       "      <td>113931.57</td>\n",
       "      <td>1</td>\n",
       "      <td>False</td>\n",
       "      <td>False</td>\n",
       "      <td>False</td>\n",
       "    </tr>\n",
       "    <tr>\n",
       "      <th>3</th>\n",
       "      <td>699</td>\n",
       "      <td>39</td>\n",
       "      <td>1.0</td>\n",
       "      <td>0.00</td>\n",
       "      <td>2</td>\n",
       "      <td>0</td>\n",
       "      <td>0</td>\n",
       "      <td>93826.63</td>\n",
       "      <td>0</td>\n",
       "      <td>False</td>\n",
       "      <td>False</td>\n",
       "      <td>False</td>\n",
       "    </tr>\n",
       "    <tr>\n",
       "      <th>4</th>\n",
       "      <td>850</td>\n",
       "      <td>43</td>\n",
       "      <td>2.0</td>\n",
       "      <td>125510.82</td>\n",
       "      <td>1</td>\n",
       "      <td>1</td>\n",
       "      <td>1</td>\n",
       "      <td>79084.10</td>\n",
       "      <td>0</td>\n",
       "      <td>False</td>\n",
       "      <td>True</td>\n",
       "      <td>False</td>\n",
       "    </tr>\n",
       "    <tr>\n",
       "      <th>5</th>\n",
       "      <td>645</td>\n",
       "      <td>44</td>\n",
       "      <td>8.0</td>\n",
       "      <td>113755.78</td>\n",
       "      <td>2</td>\n",
       "      <td>1</td>\n",
       "      <td>0</td>\n",
       "      <td>149756.71</td>\n",
       "      <td>1</td>\n",
       "      <td>False</td>\n",
       "      <td>True</td>\n",
       "      <td>True</td>\n",
       "    </tr>\n",
       "    <tr>\n",
       "      <th>6</th>\n",
       "      <td>822</td>\n",
       "      <td>50</td>\n",
       "      <td>7.0</td>\n",
       "      <td>0.00</td>\n",
       "      <td>2</td>\n",
       "      <td>1</td>\n",
       "      <td>1</td>\n",
       "      <td>10062.80</td>\n",
       "      <td>0</td>\n",
       "      <td>False</td>\n",
       "      <td>False</td>\n",
       "      <td>True</td>\n",
       "    </tr>\n",
       "    <tr>\n",
       "      <th>7</th>\n",
       "      <td>376</td>\n",
       "      <td>29</td>\n",
       "      <td>4.0</td>\n",
       "      <td>115046.74</td>\n",
       "      <td>4</td>\n",
       "      <td>1</td>\n",
       "      <td>0</td>\n",
       "      <td>119346.88</td>\n",
       "      <td>1</td>\n",
       "      <td>True</td>\n",
       "      <td>False</td>\n",
       "      <td>False</td>\n",
       "    </tr>\n",
       "    <tr>\n",
       "      <th>8</th>\n",
       "      <td>501</td>\n",
       "      <td>44</td>\n",
       "      <td>4.0</td>\n",
       "      <td>142051.07</td>\n",
       "      <td>2</td>\n",
       "      <td>0</td>\n",
       "      <td>1</td>\n",
       "      <td>74940.50</td>\n",
       "      <td>0</td>\n",
       "      <td>False</td>\n",
       "      <td>False</td>\n",
       "      <td>True</td>\n",
       "    </tr>\n",
       "    <tr>\n",
       "      <th>9</th>\n",
       "      <td>684</td>\n",
       "      <td>27</td>\n",
       "      <td>2.0</td>\n",
       "      <td>134603.88</td>\n",
       "      <td>1</td>\n",
       "      <td>1</td>\n",
       "      <td>1</td>\n",
       "      <td>71725.73</td>\n",
       "      <td>0</td>\n",
       "      <td>False</td>\n",
       "      <td>False</td>\n",
       "      <td>True</td>\n",
       "    </tr>\n",
       "  </tbody>\n",
       "</table>\n",
       "</div>"
      ],
      "text/plain": [
       "   credit_score  age  tenure    balance  num_of_products  has_crcard  \\\n",
       "0           619   42     2.0       0.00                1           1   \n",
       "1           608   41     1.0   83807.86                1           0   \n",
       "2           502   42     8.0  159660.80                3           1   \n",
       "3           699   39     1.0       0.00                2           0   \n",
       "4           850   43     2.0  125510.82                1           1   \n",
       "5           645   44     8.0  113755.78                2           1   \n",
       "6           822   50     7.0       0.00                2           1   \n",
       "7           376   29     4.0  115046.74                4           1   \n",
       "8           501   44     4.0  142051.07                2           0   \n",
       "9           684   27     2.0  134603.88                1           1   \n",
       "\n",
       "   is_active_member  estimated_salary  exited  geography_Germany  \\\n",
       "0                 1         101348.88       1              False   \n",
       "1                 1         112542.58       0              False   \n",
       "2                 0         113931.57       1              False   \n",
       "3                 0          93826.63       0              False   \n",
       "4                 1          79084.10       0              False   \n",
       "5                 0         149756.71       1              False   \n",
       "6                 1          10062.80       0              False   \n",
       "7                 0         119346.88       1               True   \n",
       "8                 1          74940.50       0              False   \n",
       "9                 1          71725.73       0              False   \n",
       "\n",
       "   geography_Spain  gender_Male  \n",
       "0            False        False  \n",
       "1             True        False  \n",
       "2            False        False  \n",
       "3            False        False  \n",
       "4             True        False  \n",
       "5             True         True  \n",
       "6            False         True  \n",
       "7            False        False  \n",
       "8            False         True  \n",
       "9            False         True  "
      ]
     },
     "execution_count": 23,
     "metadata": {},
     "output_type": "execute_result"
    }
   ],
   "source": [
    "df = pd.get_dummies(df, drop_first=True)\n",
    "df.head(10)"
   ]
  },
  {
   "cell_type": "markdown",
   "id": "af2501bb-717e-4813-abf8-7aed873d8999",
   "metadata": {},
   "source": [
    "**Прежде, чем масштабировать признаки, необходимо разделить выборки на тестовую, валидационную и тренировочную, и обучить на этих данных стандартизацию:**"
   ]
  },
  {
   "cell_type": "code",
   "execution_count": 24,
   "id": "e03fe8f2-3600-4f19-b1ae-0c6b71e2b8b1",
   "metadata": {},
   "outputs": [],
   "source": [
    "features = df.drop('exited', axis=1)\n",
    "target = df['exited']"
   ]
  },
  {
   "cell_type": "markdown",
   "id": "1f2b8189-32b6-4694-a77b-3dbe935da1db",
   "metadata": {},
   "source": [
    "**Разделим выборки:**\n",
    "* По ранее полученным графикам видно, что количество людей сильно отличается, значит, воспользуемся стратификацией, для более точных предсказаний\n",
    "* Какую часть данных отвести под валидационную выборку, решают в зависимости от количества объектов, признаков и вариативности данных. \n",
    "* Вот два самых распространённых сценария:\n",
    "  * Доступен исходный датасет, а тестовая выборка спрятана. Тогда рекомендуется **75%** данных отвести под обучающую, а **25%** — под валидационную. Соотношение **3:1**.\n",
    "  * Спрятанной тестовой выборки нет. Значит, данные нужно разбить на три части: обучающую, валидационную и тестовую. Размеры тестового и валидационного наборов обычно равны. Исходные данные разбивают в соотношении **3:1:1**. Воспользуемся вторым методом, так как тестовой выборки нет."
   ]
  },
  {
   "cell_type": "code",
   "execution_count": 25,
   "id": "2ad92463-46b0-4a12-ad85-d2336a76c02d",
   "metadata": {},
   "outputs": [],
   "source": [
    "# воспользуемся train_test_split с стратификацией по target\n",
    "df_f_train, df_f_test, df_t_train, df_t_test = train_test_split(features,\n",
    "                                                                target,\n",
    "                                                                test_size=0.2,\n",
    "                                                                random_state=12345, \n",
    "                                                                stratify=target)\n",
    "# воспользуемся train_test_split с стратификацией по target\n",
    "\n",
    "df_f_train, df_f_valid, df_t_train, df_t_valid = train_test_split(df_f_train,\n",
    "                                                                df_t_train,\n",
    "                                                                test_size=0.25,\n",
    "                                                                random_state=12345, \n",
    "                                                                stratify=df_t_train)"
   ]
  },
  {
   "cell_type": "code",
   "execution_count": 26,
   "id": "8f4332a1-80c7-4ee0-9888-1db1c74db1c9",
   "metadata": {},
   "outputs": [
    {
     "name": "stdout",
     "output_type": "stream",
     "text": [
      "Размеры выборок:\n",
      "df_f_train:  (6000, 11)\n",
      "df_f_valid:  (2000, 11)\n",
      "df_f_test:   (2000, 11)\n"
     ]
    }
   ],
   "source": [
    "# выведем размеры получившихся выборок\n",
    "print('Размеры выборок:')\n",
    "print('df_f_train: ', df_f_train.shape)\n",
    "print('df_f_valid: ', df_f_valid.shape)\n",
    "print('df_f_test:  ', df_f_test.shape)"
   ]
  },
  {
   "cell_type": "markdown",
   "id": "1226b860-c129-475e-9cc7-8c1f0b99e522",
   "metadata": {},
   "source": [
    "**Стандартизуем параметры:**"
   ]
  },
  {
   "cell_type": "code",
   "execution_count": 27,
   "id": "bf0a118b-d91b-470c-88a6-328ac296d90f",
   "metadata": {},
   "outputs": [],
   "source": [
    "# необходимые параметры для стандартизации\n",
    "numeric = ['credit_score', 'age', 'tenure', 'balance', 'num_of_products', 'estimated_salary']\n",
    "\n",
    "# обучаем стандартизацию\n",
    "scaler = StandardScaler()\n",
    "scaler.fit(df_f_train[numeric]) \n",
    "df_f_train[numeric] = scaler.transform(df_f_train[numeric])\n",
    "df_f_valid[numeric] = scaler.transform(df_f_valid[numeric])"
   ]
  },
  {
   "cell_type": "markdown",
   "id": "17bb61a4-abcf-491b-ac0b-56362a3ac898",
   "metadata": {},
   "source": [
    "### Вывод"
   ]
  },
  {
   "cell_type": "markdown",
   "id": "3344d2ef-fc45-4cfa-a893-e65034d1f7ce",
   "metadata": {},
   "source": [
    "* Датасет состоит из 10000 строк, часть пропущенных значений заполнена.\n",
    "* Выборка несбалансирована, примерно только **20%** клиентов уходят из банка.\n",
    "* Данные предобратоны, заполнены пропущенные значения и предварительно обучена модель для стандартизации данных и дальнейшего обучения модели, приступим к исследованию моделей машинного обучения:"
   ]
  },
  {
   "cell_type": "markdown",
   "id": "4345bd31-99c5-4377-bb5e-ec455d03a33d",
   "metadata": {},
   "source": [
    "# 2. Исследование задачи"
   ]
  },
  {
   "cell_type": "markdown",
   "id": "340f31b1-17ff-4706-a7ba-c3719495dd38",
   "metadata": {},
   "source": [
    "**Обучим модель без учёта дисбаланса.**\n",
    "\n",
    "Прежде, чем обучать модель, создадим функцию, которая создаёт кривую и выводит значение **`AUC-ROC`**"
   ]
  },
  {
   "cell_type": "code",
   "execution_count": 28,
   "id": "994827e1-54fd-47db-b238-6bc40438f12c",
   "metadata": {},
   "outputs": [],
   "source": [
    "# создаём функцию с построением графика AUC-ROC и расчета площади под кривой\n",
    "\n",
    "def roc_auc_fig(model, features_valid=df_f_valid, target_valid=df_t_valid):\n",
    "    probabilities_valid = model.predict_proba(features_valid)\n",
    "    probabilities_one_valid = probabilities_valid[:, 1]\n",
    "    print('Площадь под кривой ROC: {:.4f}'.format(roc_auc_score(target_valid, probabilities_one_valid)))\n",
    "    fpr, tpr, thresholds = roc_curve(target_valid, probabilities_one_valid) \n",
    "    plt.figure(figsize=(4,4))\n",
    "    plt.plot(fpr, tpr)\n",
    "    plt.plot([0, 1], [0, 1], linestyle='--')\n",
    "    plt.xlim([0.0, 1.0])\n",
    "    plt.ylim([0.0, 1.0])\n",
    "    plt.xlabel('False Positive Rate')\n",
    "    plt.ylabel('True Positive Rate')\n",
    "    plt.title('ROC-кривая')\n",
    "    plt.show()"
   ]
  },
  {
   "cell_type": "markdown",
   "id": "e4ac087d-a012-4b5c-8f6c-c9924c6dcc1f",
   "metadata": {},
   "source": [
    "* Для машинного обучения на тренировочной выборке воспользуемся ранее изученными способами классификации:\n",
    "  * Дерево решений\n",
    "  * Случайный лес\n",
    "  * Логистическая регрессия\n",
    "  * Так же подберём гиперпараметры на валидацонной выборке.\n",
    "\n"
   ]
  },
  {
   "cell_type": "markdown",
   "id": "bef49788-35d8-429d-ab39-5097202ed34f",
   "metadata": {},
   "source": [
    "## 2.1 Дерево решений"
   ]
  },
  {
   "cell_type": "markdown",
   "id": "84c6d827-bea6-4063-8ec2-6c34b3f86969",
   "metadata": {},
   "source": [
    "Рассмотрим одну популярную модель — решающее дерево. Оно может описывать процесс принятия решения почти в любой ситуации. На основе значений признаков формулируются ответы, а затем выстраивается дерево с ответами «Да»/«Нет» и различными вариантами действий:\n",
    "\n",
    "**Сразу подберём лучшие параметры для несбалансированной выборки:**"
   ]
  },
  {
   "cell_type": "code",
   "execution_count": 29,
   "id": "7f50533e-6ebb-4de2-a86b-80539b23850f",
   "metadata": {},
   "outputs": [
    {
     "name": "stderr",
     "output_type": "stream",
     "text": [
      "100%|██████████| 18/18 [00:00<00:00, 25.05it/s]\n"
     ]
    }
   ],
   "source": [
    "best_depth_t = 0\n",
    "f1_best_t = 0\n",
    "\n",
    "for depth in tqdm(range(2, 20)):\n",
    "    model = DecisionTreeClassifier(random_state=12345, max_depth=depth)\n",
    "    model.fit(df_f_train, df_t_train)\n",
    "    predictions_valid = model.predict(df_f_valid)\n",
    "    f1 = f1_score(df_t_valid, predictions_valid)\n",
    "    if f1 > f1_best_t:\n",
    "        best_depth_t = depth\n",
    "        f1_best_t = f1\n",
    "        \n",
    "# сохраним лучшие параметры в словаре\n",
    "tree_best = {'depth':best_depth_t}"
   ]
  },
  {
   "cell_type": "markdown",
   "id": "8b268292-b328-416a-8fe2-6c6763f18293",
   "metadata": {},
   "source": [
    "* Модель обучена, лучше параметры сохранены, проверим метрики качества:"
   ]
  },
  {
   "cell_type": "code",
   "execution_count": 30,
   "id": "5b807dc4-a7a8-4599-9afc-742400284eeb",
   "metadata": {},
   "outputs": [
    {
     "data": {
      "text/html": [
       "<div>\n",
       "<style scoped>\n",
       "    .dataframe tbody tr th:only-of-type {\n",
       "        vertical-align: middle;\n",
       "    }\n",
       "\n",
       "    .dataframe tbody tr th {\n",
       "        vertical-align: top;\n",
       "    }\n",
       "\n",
       "    .dataframe thead th {\n",
       "        text-align: right;\n",
       "    }\n",
       "</style>\n",
       "<table border=\"1\" class=\"dataframe\">\n",
       "  <thead>\n",
       "    <tr style=\"text-align: right;\">\n",
       "      <th></th>\n",
       "      <th>precision</th>\n",
       "      <th>recall</th>\n",
       "      <th>f1-score</th>\n",
       "      <th>support</th>\n",
       "    </tr>\n",
       "  </thead>\n",
       "  <tbody>\n",
       "    <tr>\n",
       "      <th>Non-exited</th>\n",
       "      <td>0.880632</td>\n",
       "      <td>0.944758</td>\n",
       "      <td>0.911569</td>\n",
       "      <td>1593.000</td>\n",
       "    </tr>\n",
       "    <tr>\n",
       "      <th>exited</th>\n",
       "      <td>0.697595</td>\n",
       "      <td>0.498771</td>\n",
       "      <td>0.581662</td>\n",
       "      <td>407.000</td>\n",
       "    </tr>\n",
       "    <tr>\n",
       "      <th>accuracy</th>\n",
       "      <td>0.854000</td>\n",
       "      <td>0.854000</td>\n",
       "      <td>0.854000</td>\n",
       "      <td>0.854</td>\n",
       "    </tr>\n",
       "    <tr>\n",
       "      <th>macro avg</th>\n",
       "      <td>0.789113</td>\n",
       "      <td>0.721765</td>\n",
       "      <td>0.746615</td>\n",
       "      <td>2000.000</td>\n",
       "    </tr>\n",
       "    <tr>\n",
       "      <th>weighted avg</th>\n",
       "      <td>0.843384</td>\n",
       "      <td>0.854000</td>\n",
       "      <td>0.844433</td>\n",
       "      <td>2000.000</td>\n",
       "    </tr>\n",
       "  </tbody>\n",
       "</table>\n",
       "</div>"
      ],
      "text/plain": [
       "              precision    recall  f1-score   support\n",
       "Non-exited     0.880632  0.944758  0.911569  1593.000\n",
       "exited         0.697595  0.498771  0.581662   407.000\n",
       "accuracy       0.854000  0.854000  0.854000     0.854\n",
       "macro avg      0.789113  0.721765  0.746615  2000.000\n",
       "weighted avg   0.843384  0.854000  0.844433  2000.000"
      ]
     },
     "execution_count": 30,
     "metadata": {},
     "output_type": "execute_result"
    }
   ],
   "source": [
    "model = DecisionTreeClassifier(random_state=12345,\n",
    "                               max_depth=best_depth_t)\n",
    "model.fit(df_f_train, df_t_train)\n",
    "predictions_valid = model.predict(df_f_valid)\n",
    "report = classification_report(df_t_valid, predictions_valid, target_names=['Non-exited', 'exited'], output_dict=True)\n",
    "report = pd.DataFrame(report).transpose()\n",
    "report"
   ]
  },
  {
   "cell_type": "code",
   "execution_count": 31,
   "id": "c6521d48-9740-44fa-a5a9-dcc87ea66607",
   "metadata": {},
   "outputs": [
    {
     "name": "stdout",
     "output_type": "stream",
     "text": [
      "Площадь под кривой ROC: 0.8097\n"
     ]
    },
    {
     "data": {
      "image/png": "[encoded data removed]",
      "text/plain": [
       "<Figure size 400x400 with 1 Axes>"
      ]
     },
     "metadata": {},
     "output_type": "display_data"
    }
   ],
   "source": [
    "roc_auc_fig(model)"
   ]
  },
  {
   "cell_type": "markdown",
   "id": "6ed5ba9d-e240-4389-b5d6-5497e2202c9f",
   "metadata": {},
   "source": [
    "**Вывод:**\n",
    "* Значения **`F1`**-меры меньше, чем **0.59** - **0.581662**\n",
    "* Площадь под кривой **`ROC`** - **0.8097**\n",
    "* **Метрики качества не соответствуют необходимому условию.**"
   ]
  },
  {
   "cell_type": "markdown",
   "id": "dec74f5c-0977-4eda-a640-3deaf06a26fa",
   "metadata": {},
   "source": [
    "## 2.2 Случайный лес"
   ]
  },
  {
   "cell_type": "markdown",
   "id": "f7a93c9d-e9c8-4716-b586-e54212bd4d13",
   "metadata": {},
   "source": [
    "Один из алгоритмов классификации — случайный лес (random forest). \n",
    "Алгоритм обучает большое количество независимых друг от друга деревьев, а потом принимает решение на основе голосования.\n",
    "\n",
    "**Сразу подберём лучшие параметры для несбалансированной выборки:**"
   ]
  },
  {
   "cell_type": "code",
   "execution_count": 32,
   "id": "b1bbfdb8-e5ee-414e-a908-d63c81be3154",
   "metadata": {},
   "outputs": [
    {
     "name": "stderr",
     "output_type": "stream",
     "text": [
      "100%|██████████| 5/5 [00:12<00:00,  2.42s/it]\n"
     ]
    }
   ],
   "source": [
    "best_depth_f = 0\n",
    "best_est_f = 0\n",
    "f1_best_f = 0\n",
    "\n",
    "for est in tqdm(range(10, 51, 10)):\n",
    "    for depth in range (2, 11):\n",
    "        model = RandomForestClassifier(random_state=12345, n_estimators=est, max_depth=depth)\n",
    "        model.fit(df_f_train, df_t_train)\n",
    "        predictions_valid = model.predict(df_f_valid)\n",
    "        f1 = f1_score(df_t_valid, predictions_valid)\n",
    "        if f1 > f1_best_f:\n",
    "            best_depth_f = depth\n",
    "            best_est_f = est\n",
    "            f1_best_f = f1\n",
    "            \n",
    "# сохраняем параметры в словаре\n",
    "forest_best = {'depth':best_depth_f, 'n_estimators':best_est_f}"
   ]
  },
  {
   "cell_type": "code",
   "execution_count": 33,
   "id": "effe8c50-543d-4dc1-9e63-89c10f2eeac5",
   "metadata": {},
   "outputs": [
    {
     "data": {
      "text/html": [
       "<div>\n",
       "<style scoped>\n",
       "    .dataframe tbody tr th:only-of-type {\n",
       "        vertical-align: middle;\n",
       "    }\n",
       "\n",
       "    .dataframe tbody tr th {\n",
       "        vertical-align: top;\n",
       "    }\n",
       "\n",
       "    .dataframe thead th {\n",
       "        text-align: right;\n",
       "    }\n",
       "</style>\n",
       "<table border=\"1\" class=\"dataframe\">\n",
       "  <thead>\n",
       "    <tr style=\"text-align: right;\">\n",
       "      <th></th>\n",
       "      <th>precision</th>\n",
       "      <th>recall</th>\n",
       "      <th>f1-score</th>\n",
       "      <th>support</th>\n",
       "    </tr>\n",
       "  </thead>\n",
       "  <tbody>\n",
       "    <tr>\n",
       "      <th>Non-exited</th>\n",
       "      <td>0.869905</td>\n",
       "      <td>0.978029</td>\n",
       "      <td>0.920804</td>\n",
       "      <td>1593.000</td>\n",
       "    </tr>\n",
       "    <tr>\n",
       "      <th>exited</th>\n",
       "      <td>0.832536</td>\n",
       "      <td>0.427518</td>\n",
       "      <td>0.564935</td>\n",
       "      <td>407.000</td>\n",
       "    </tr>\n",
       "    <tr>\n",
       "      <th>accuracy</th>\n",
       "      <td>0.866000</td>\n",
       "      <td>0.866000</td>\n",
       "      <td>0.866000</td>\n",
       "      <td>0.866</td>\n",
       "    </tr>\n",
       "    <tr>\n",
       "      <th>macro avg</th>\n",
       "      <td>0.851220</td>\n",
       "      <td>0.702774</td>\n",
       "      <td>0.742869</td>\n",
       "      <td>2000.000</td>\n",
       "    </tr>\n",
       "    <tr>\n",
       "      <th>weighted avg</th>\n",
       "      <td>0.862300</td>\n",
       "      <td>0.866000</td>\n",
       "      <td>0.848384</td>\n",
       "      <td>2000.000</td>\n",
       "    </tr>\n",
       "  </tbody>\n",
       "</table>\n",
       "</div>"
      ],
      "text/plain": [
       "              precision    recall  f1-score   support\n",
       "Non-exited     0.869905  0.978029  0.920804  1593.000\n",
       "exited         0.832536  0.427518  0.564935   407.000\n",
       "accuracy       0.866000  0.866000  0.866000     0.866\n",
       "macro avg      0.851220  0.702774  0.742869  2000.000\n",
       "weighted avg   0.862300  0.866000  0.848384  2000.000"
      ]
     },
     "execution_count": 33,
     "metadata": {},
     "output_type": "execute_result"
    }
   ],
   "source": [
    "model = RandomForestClassifier(random_state=12345,\n",
    "                               n_estimators=best_est_f,\n",
    "                               max_depth=best_depth_f)\n",
    "model.fit(df_f_train, df_t_train)\n",
    "predictions_valid = model.predict(df_f_valid)\n",
    "report = classification_report(df_t_valid, predictions_valid, target_names=['Non-exited', 'exited'], output_dict=True)\n",
    "report = pd.DataFrame(report).transpose()\n",
    "report"
   ]
  },
  {
   "cell_type": "code",
   "execution_count": 34,
   "id": "7241903e-3739-4463-b6fb-a815eb47bd64",
   "metadata": {},
   "outputs": [
    {
     "name": "stdout",
     "output_type": "stream",
     "text": [
      "Площадь под кривой ROC: 0.8659\n"
     ]
    },
    {
     "data": {
      "image/png": "[encoded data removed]",
      "text/plain": [
       "<Figure size 400x400 with 1 Axes>"
      ]
     },
     "metadata": {},
     "output_type": "display_data"
    }
   ],
   "source": [
    "roc_auc_fig(model)"
   ]
  },
  {
   "cell_type": "markdown",
   "id": "2f9c5511-c735-426e-90a8-28751b12d216",
   "metadata": {},
   "source": [
    "**Вывод:**\n",
    "* Значения **`F1`**-меры меньше, чем **0.59** - **0.564935**\n",
    "* Площадь под кривой **`ROC`** - **0.8659**\n",
    "* **Метрики качества не соответствуют необходимому условию.**"
   ]
  },
  {
   "cell_type": "markdown",
   "id": "2b59946a-c2ae-46c4-845f-eb71390b70b3",
   "metadata": {},
   "source": [
    "## 2.3 Логистическая регрессия"
   ]
  },
  {
   "cell_type": "markdown",
   "id": "3dc25071-a0a8-46e3-a371-38c44f8cb15c",
   "metadata": {},
   "source": [
    "Ещё один алгоритм машинного обучения — логистическая регрессия.\n",
    "\n",
    "Если название и «мимикрирует» под задачу регрессии, всё-таки это алгоритм классификации. Логистическая регрессия:\n",
    "\n",
    "Сначала считает, к какому классу близок объект\n",
    "* В зависимости от ответа выбирает нужный класс: если результат вычисления положительный, то — «1»; отрицательный — «0».\n",
    "* В логистической регрессии параметров мало. Что-либо вызубрить по признакам в формуле не выйдет, поэтому и вероятность переобучения невелика.\n",
    "\n",
    "**Проверим модель:**"
   ]
  },
  {
   "cell_type": "code",
   "execution_count": 35,
   "id": "7e573411-f71b-4e4e-bef1-ecb6adb697e8",
   "metadata": {},
   "outputs": [
    {
     "data": {
      "text/html": [
       "<div>\n",
       "<style scoped>\n",
       "    .dataframe tbody tr th:only-of-type {\n",
       "        vertical-align: middle;\n",
       "    }\n",
       "\n",
       "    .dataframe tbody tr th {\n",
       "        vertical-align: top;\n",
       "    }\n",
       "\n",
       "    .dataframe thead th {\n",
       "        text-align: right;\n",
       "    }\n",
       "</style>\n",
       "<table border=\"1\" class=\"dataframe\">\n",
       "  <thead>\n",
       "    <tr style=\"text-align: right;\">\n",
       "      <th></th>\n",
       "      <th>precision</th>\n",
       "      <th>recall</th>\n",
       "      <th>f1-score</th>\n",
       "      <th>support</th>\n",
       "    </tr>\n",
       "  </thead>\n",
       "  <tbody>\n",
       "    <tr>\n",
       "      <th>Non-exited</th>\n",
       "      <td>0.828526</td>\n",
       "      <td>0.973635</td>\n",
       "      <td>0.895238</td>\n",
       "      <td>1593.0000</td>\n",
       "    </tr>\n",
       "    <tr>\n",
       "      <th>exited</th>\n",
       "      <td>0.671875</td>\n",
       "      <td>0.211302</td>\n",
       "      <td>0.321495</td>\n",
       "      <td>407.0000</td>\n",
       "    </tr>\n",
       "    <tr>\n",
       "      <th>accuracy</th>\n",
       "      <td>0.818500</td>\n",
       "      <td>0.818500</td>\n",
       "      <td>0.818500</td>\n",
       "      <td>0.8185</td>\n",
       "    </tr>\n",
       "    <tr>\n",
       "      <th>macro avg</th>\n",
       "      <td>0.750200</td>\n",
       "      <td>0.592468</td>\n",
       "      <td>0.608367</td>\n",
       "      <td>2000.0000</td>\n",
       "    </tr>\n",
       "    <tr>\n",
       "      <th>weighted avg</th>\n",
       "      <td>0.796647</td>\n",
       "      <td>0.818500</td>\n",
       "      <td>0.778481</td>\n",
       "      <td>2000.0000</td>\n",
       "    </tr>\n",
       "  </tbody>\n",
       "</table>\n",
       "</div>"
      ],
      "text/plain": [
       "              precision    recall  f1-score    support\n",
       "Non-exited     0.828526  0.973635  0.895238  1593.0000\n",
       "exited         0.671875  0.211302  0.321495   407.0000\n",
       "accuracy       0.818500  0.818500  0.818500     0.8185\n",
       "macro avg      0.750200  0.592468  0.608367  2000.0000\n",
       "weighted avg   0.796647  0.818500  0.778481  2000.0000"
      ]
     },
     "execution_count": 35,
     "metadata": {},
     "output_type": "execute_result"
    }
   ],
   "source": [
    "model = LogisticRegression(random_state=12345)\n",
    "model.fit(df_f_train, df_t_train)\n",
    "predictions_valid = model.predict(df_f_valid)\n",
    "\n",
    "report = classification_report(df_t_valid, predictions_valid, target_names=['Non-exited', 'exited'], output_dict=True)\n",
    "report = pd.DataFrame(report).transpose()\n",
    "report\n"
   ]
  },
  {
   "cell_type": "code",
   "execution_count": 36,
   "id": "ed5888ba-90ff-4418-9c8a-c167c21c7d28",
   "metadata": {},
   "outputs": [
    {
     "name": "stdout",
     "output_type": "stream",
     "text": [
      "Площадь под кривой ROC: 0.7876\n"
     ]
    },
    {
     "data": {
      "image/png": "[encoded data removed]",
      "text/plain": [
       "<Figure size 400x400 with 1 Axes>"
      ]
     },
     "metadata": {},
     "output_type": "display_data"
    }
   ],
   "source": [
    "roc_auc_fig(model)"
   ]
  },
  {
   "cell_type": "markdown",
   "id": "f3e7398b-bc01-422c-9042-817c3c9b5da7",
   "metadata": {},
   "source": [
    "**Вывод:**\n",
    "* Значения **`F1`**-меры меньше, чем **0.59** - **0.321495**\n",
    "* Площадь под кривой **`ROC`** - **0.7876**\n",
    "* **Метрики качества не соответствуют необходимому условию.**"
   ]
  },
  {
   "cell_type": "markdown",
   "id": "5c5b1e6c-bc8f-4919-853a-efa47e9a493c",
   "metadata": {},
   "source": [
    "**Создадим таблицу и посмотрим значения метрик F1-меры:**"
   ]
  },
  {
   "cell_type": "code",
   "execution_count": 37,
   "id": "199c9d29-d021-4b0c-b7ac-7670774bb76d",
   "metadata": {},
   "outputs": [
    {
     "data": {
      "text/html": [
       "<div>\n",
       "<style scoped>\n",
       "    .dataframe tbody tr th:only-of-type {\n",
       "        vertical-align: middle;\n",
       "    }\n",
       "\n",
       "    .dataframe tbody tr th {\n",
       "        vertical-align: top;\n",
       "    }\n",
       "\n",
       "    .dataframe thead th {\n",
       "        text-align: right;\n",
       "    }\n",
       "</style>\n",
       "<table border=\"1\" class=\"dataframe\">\n",
       "  <thead>\n",
       "    <tr style=\"text-align: right;\">\n",
       "      <th></th>\n",
       "      <th>model</th>\n",
       "      <th>f1_score</th>\n",
       "    </tr>\n",
       "  </thead>\n",
       "  <tbody>\n",
       "    <tr>\n",
       "      <th>0</th>\n",
       "      <td>tree</td>\n",
       "      <td>0.581662</td>\n",
       "    </tr>\n",
       "    <tr>\n",
       "      <th>1</th>\n",
       "      <td>forest</td>\n",
       "      <td>0.564935</td>\n",
       "    </tr>\n",
       "    <tr>\n",
       "      <th>2</th>\n",
       "      <td>lgr</td>\n",
       "      <td>0.321495</td>\n",
       "    </tr>\n",
       "  </tbody>\n",
       "</table>\n",
       "</div>"
      ],
      "text/plain": [
       "    model  f1_score\n",
       "0    tree  0.581662\n",
       "1  forest  0.564935\n",
       "2     lgr  0.321495"
      ]
     },
     "execution_count": 37,
     "metadata": {},
     "output_type": "execute_result"
    }
   ],
   "source": [
    "f1_lgr = report.loc['exited', 'f1-score']\n",
    "f1_lgr\n",
    "\n",
    "models = ['tree', 'forest', 'lgr']\n",
    "f1_scores = [f1_best_t, f1_best_f, f1_lgr]\n",
    "\n",
    "best_param_model = pd.DataFrame({'model':models, 'f1_score':f1_scores})\n",
    "best_param_model"
   ]
  },
  {
   "cell_type": "code",
   "execution_count": 38,
   "id": "c92ff06d-b928-4401-940e-ded0da3e220d",
   "metadata": {},
   "outputs": [
    {
     "data": {
      "image/png": "[encoded data removed]",
      "text/plain": [
       "<Figure size 400x400 with 1 Axes>"
      ]
     },
     "metadata": {},
     "output_type": "display_data"
    }
   ],
   "source": [
    "best_param_model.plot.bar(x='model', figsize=(4,4), rot=0, fontsize='large')\n",
    "plt.title('Сравнение F1-меры на тестовой выборке', fontsize='x-large')\n",
    "plt.xlabel('Модель', fontsize='x-large')\n",
    "plt.ylabel('F1-мера', fontsize='x-large')\n",
    "plt.show()"
   ]
  },
  {
   "cell_type": "markdown",
   "id": "7a439bdc-9111-4d0a-ba89-3e22ef23c858",
   "metadata": {},
   "source": [
    "### Вывод"
   ]
  },
  {
   "cell_type": "markdown",
   "id": "a062fcdc-a626-436a-85a6-01ca13bf746b",
   "metadata": {},
   "source": [
    "* Самые лучшие значения метрик на несбалансированной выборке получились у модели случайного леса:\n",
    "  * **`F1`**-мера - **0.564935**\n",
    "  * Площадь под кривой **`ROC`** - **0.8659**\n",
    "* **Но значение **`F1`**-меры меньше, чем **0.59**, соответсвенно, нужно провести борьбу с дисбалансом.**"
   ]
  },
  {
   "cell_type": "markdown",
   "id": "ed774f56-f5ca-471e-9877-a851927d6773",
   "metadata": {},
   "source": [
    "# 3.Борьба с дисбалансом"
   ]
  },
  {
   "cell_type": "markdown",
   "id": "9166cb05-462a-41d9-a481-37c77029552b",
   "metadata": {},
   "source": [
    "**Проведем борьбу с дисбалансом классов с помощью нескольких популярных способов:**\n",
    "* Увеличение выборки\n",
    "* Уменьшение выборки\n",
    "* Взвешивание классов\n",
    "* Изменение порога классификации"
   ]
  },
  {
   "cell_type": "markdown",
   "id": "a8f65141-b8ac-40e2-97dd-2991ddfe0274",
   "metadata": {},
   "source": [
    "## Увеличение выборки"
   ]
  },
  {
   "cell_type": "markdown",
   "id": "c26ffb63-3cf3-4436-96ae-60a114e68c5d",
   "metadata": {},
   "source": [
    "Для улучшения качества модели, увеличим обучающую выборку, обучим модель и проверим полученные метрики:"
   ]
  },
  {
   "cell_type": "code",
   "execution_count": 39,
   "id": "511afa4f-d3f9-4ce5-bc44-6b90abcb1bd6",
   "metadata": {},
   "outputs": [],
   "source": [
    "# Создаём функцию, которая увеличивает обучающую выборку и перемешивает ее\n",
    "\n",
    "def upsample(features, target, repeat):\n",
    "    features_zeros = features[target == 0]\n",
    "    features_ones = features[target == 1]\n",
    "    target_zeros = target[target == 0]\n",
    "    target_ones = target[target == 1]\n",
    "    \n",
    "    features_upsampled = pd.concat([features_zeros] + [features_ones] * repeat)\n",
    "    target_upsampled = pd.concat([target_zeros] + [target_ones] * repeat)\n",
    "    \n",
    "    features_upsampled, target_upsampled = shuffle(\n",
    "        features_upsampled, target_upsampled, random_state=12345)\n",
    "    \n",
    "    return features_upsampled, target_upsampled"
   ]
  },
  {
   "cell_type": "markdown",
   "id": "822f5022-ed49-4bc1-9bfe-1d35056b4a2f",
   "metadata": {},
   "source": [
    "Увеличим выборку в 4 раза, так как 20% клиентов уходят из банка (чтобы значения были приблизительно равны):"
   ]
  },
  {
   "cell_type": "code",
   "execution_count": 40,
   "id": "7ffc9f58-c929-4311-af59-bd8ee8c6ab79",
   "metadata": {},
   "outputs": [],
   "source": [
    "df_f_upsampled, df_t_upsampled = upsample(df_f_train, df_t_train, 4)"
   ]
  },
  {
   "cell_type": "markdown",
   "id": "e74723e5-367f-4282-b52d-b0e36fb22848",
   "metadata": {},
   "source": [
    "**Дерево решений**"
   ]
  },
  {
   "cell_type": "markdown",
   "id": "d911b63d-b026-4606-af47-212bf5bce06d",
   "metadata": {},
   "source": [
    "Проверим качество модели на увеличенной обучающей выборке:"
   ]
  },
  {
   "cell_type": "code",
   "execution_count": 41,
   "id": "2a79d431-f280-4077-ad1a-9267c9582150",
   "metadata": {},
   "outputs": [
    {
     "name": "stderr",
     "output_type": "stream",
     "text": [
      "100%|██████████| 18/18 [00:01<00:00, 14.49it/s]\n"
     ]
    }
   ],
   "source": [
    "best_depth_t = 0\n",
    "f1_best_t = 0\n",
    "\n",
    "for depth in tqdm(range(2, 20)):\n",
    "    model = DecisionTreeClassifier(random_state=12345, max_depth=depth)\n",
    "    model.fit(df_f_upsampled, df_t_upsampled)\n",
    "    predictions_valid = model.predict(df_f_valid)\n",
    "    f1 = f1_score(df_t_valid, predictions_valid)\n",
    "    if f1 > f1_best_t:\n",
    "        best_depth_t = depth\n",
    "        f1_best_t = f1"
   ]
  },
  {
   "cell_type": "code",
   "execution_count": 42,
   "id": "7a65e6de-07e0-47b5-8a2b-0ec1ff34e120",
   "metadata": {},
   "outputs": [
    {
     "data": {
      "text/html": [
       "<div>\n",
       "<style scoped>\n",
       "    .dataframe tbody tr th:only-of-type {\n",
       "        vertical-align: middle;\n",
       "    }\n",
       "\n",
       "    .dataframe tbody tr th {\n",
       "        vertical-align: top;\n",
       "    }\n",
       "\n",
       "    .dataframe thead th {\n",
       "        text-align: right;\n",
       "    }\n",
       "</style>\n",
       "<table border=\"1\" class=\"dataframe\">\n",
       "  <thead>\n",
       "    <tr style=\"text-align: right;\">\n",
       "      <th></th>\n",
       "      <th>precision</th>\n",
       "      <th>recall</th>\n",
       "      <th>f1-score</th>\n",
       "      <th>support</th>\n",
       "    </tr>\n",
       "  </thead>\n",
       "  <tbody>\n",
       "    <tr>\n",
       "      <th>Non-exited</th>\n",
       "      <td>0.934109</td>\n",
       "      <td>0.756434</td>\n",
       "      <td>0.835935</td>\n",
       "      <td>1593.0000</td>\n",
       "    </tr>\n",
       "    <tr>\n",
       "      <th>exited</th>\n",
       "      <td>0.453521</td>\n",
       "      <td>0.791155</td>\n",
       "      <td>0.576544</td>\n",
       "      <td>407.0000</td>\n",
       "    </tr>\n",
       "    <tr>\n",
       "      <th>accuracy</th>\n",
       "      <td>0.763500</td>\n",
       "      <td>0.763500</td>\n",
       "      <td>0.763500</td>\n",
       "      <td>0.7635</td>\n",
       "    </tr>\n",
       "    <tr>\n",
       "      <th>macro avg</th>\n",
       "      <td>0.693815</td>\n",
       "      <td>0.773795</td>\n",
       "      <td>0.706240</td>\n",
       "      <td>2000.0000</td>\n",
       "    </tr>\n",
       "    <tr>\n",
       "      <th>weighted avg</th>\n",
       "      <td>0.836309</td>\n",
       "      <td>0.763500</td>\n",
       "      <td>0.783149</td>\n",
       "      <td>2000.0000</td>\n",
       "    </tr>\n",
       "  </tbody>\n",
       "</table>\n",
       "</div>"
      ],
      "text/plain": [
       "              precision    recall  f1-score    support\n",
       "Non-exited     0.934109  0.756434  0.835935  1593.0000\n",
       "exited         0.453521  0.791155  0.576544   407.0000\n",
       "accuracy       0.763500  0.763500  0.763500     0.7635\n",
       "macro avg      0.693815  0.773795  0.706240  2000.0000\n",
       "weighted avg   0.836309  0.763500  0.783149  2000.0000"
      ]
     },
     "execution_count": 42,
     "metadata": {},
     "output_type": "execute_result"
    }
   ],
   "source": [
    "model = DecisionTreeClassifier(random_state=12345,\n",
    "                               max_depth=best_depth_t)\n",
    "model.fit(df_f_upsampled, df_t_upsampled)\n",
    "predictions_valid = model.predict(df_f_valid)\n",
    "report = classification_report(df_t_valid, predictions_valid, target_names=['Non-exited', 'exited'], output_dict=True)\n",
    "report = pd.DataFrame(report).transpose()\n",
    "report"
   ]
  },
  {
   "cell_type": "code",
   "execution_count": 43,
   "id": "6ad9b031-f417-43f6-b339-e0191dffe772",
   "metadata": {},
   "outputs": [
    {
     "name": "stdout",
     "output_type": "stream",
     "text": [
      "Площадь под кривой ROC: 0.8364\n"
     ]
    },
    {
     "data": {
      "image/png": "[encoded data removed]",
      "text/plain": [
       "<Figure size 400x400 with 1 Axes>"
      ]
     },
     "metadata": {},
     "output_type": "display_data"
    }
   ],
   "source": [
    "roc_auc_fig(model)"
   ]
  },
  {
   "cell_type": "markdown",
   "id": "c284a295-54fd-4315-882c-aec12b396790",
   "metadata": {},
   "source": [
    "**Вывод:**\n",
    "​\n",
    "*  Значения F1-меры меньше, чем 0.59 - **0.576544**\n",
    "*  Площадь под кривой ROC - **0.8364**\n",
    "​\n",
    "Метрики качества не соответствуют необходимому условию, но метрики увеличились."
   ]
  },
  {
   "cell_type": "markdown",
   "id": "31e5f090-50d5-4a8f-8e77-7db4da3a99e1",
   "metadata": {},
   "source": [
    "**Случаный лес**"
   ]
  },
  {
   "cell_type": "markdown",
   "id": "b5b7e2f8-4080-4a3a-8e25-18577465e92c",
   "metadata": {},
   "source": [
    "Проверим качество модели на увеличенной обучающей выборке:"
   ]
  },
  {
   "cell_type": "code",
   "execution_count": 44,
   "id": "38b1b497-6dd2-4f7a-a972-466709b1c355",
   "metadata": {},
   "outputs": [
    {
     "name": "stderr",
     "output_type": "stream",
     "text": [
      "100%|██████████| 5/5 [00:16<00:00,  3.36s/it]\n"
     ]
    }
   ],
   "source": [
    "best_depth_f = 0\n",
    "best_est_f = 0\n",
    "f1_best_f = 0\n",
    "\n",
    "for est in tqdm(range(10, 51, 10)):\n",
    "    for depth in range (2, 11):\n",
    "        model = RandomForestClassifier(random_state=12345, n_estimators=est, max_depth=depth)\n",
    "        model.fit(df_f_upsampled, df_t_upsampled)\n",
    "        predictions_valid = model.predict(df_f_valid)\n",
    "        f1 = f1_score(df_t_valid, predictions_valid)\n",
    "        if f1 > f1_best_f:\n",
    "            best_depth_f = depth\n",
    "            best_est_f = est\n",
    "            f1_best_f = f1"
   ]
  },
  {
   "cell_type": "code",
   "execution_count": 45,
   "id": "548c54c6-fda5-473b-a9b6-811cda60e0ea",
   "metadata": {},
   "outputs": [
    {
     "data": {
      "text/html": [
       "<div>\n",
       "<style scoped>\n",
       "    .dataframe tbody tr th:only-of-type {\n",
       "        vertical-align: middle;\n",
       "    }\n",
       "\n",
       "    .dataframe tbody tr th {\n",
       "        vertical-align: top;\n",
       "    }\n",
       "\n",
       "    .dataframe thead th {\n",
       "        text-align: right;\n",
       "    }\n",
       "</style>\n",
       "<table border=\"1\" class=\"dataframe\">\n",
       "  <thead>\n",
       "    <tr style=\"text-align: right;\">\n",
       "      <th></th>\n",
       "      <th>precision</th>\n",
       "      <th>recall</th>\n",
       "      <th>f1-score</th>\n",
       "      <th>support</th>\n",
       "    </tr>\n",
       "  </thead>\n",
       "  <tbody>\n",
       "    <tr>\n",
       "      <th>Non-exited</th>\n",
       "      <td>0.927148</td>\n",
       "      <td>0.846830</td>\n",
       "      <td>0.885171</td>\n",
       "      <td>1593.000</td>\n",
       "    </tr>\n",
       "    <tr>\n",
       "      <th>exited</th>\n",
       "      <td>0.552294</td>\n",
       "      <td>0.739558</td>\n",
       "      <td>0.632353</td>\n",
       "      <td>407.000</td>\n",
       "    </tr>\n",
       "    <tr>\n",
       "      <th>accuracy</th>\n",
       "      <td>0.825000</td>\n",
       "      <td>0.825000</td>\n",
       "      <td>0.825000</td>\n",
       "      <td>0.825</td>\n",
       "    </tr>\n",
       "    <tr>\n",
       "      <th>macro avg</th>\n",
       "      <td>0.739721</td>\n",
       "      <td>0.793194</td>\n",
       "      <td>0.758762</td>\n",
       "      <td>2000.000</td>\n",
       "    </tr>\n",
       "    <tr>\n",
       "      <th>weighted avg</th>\n",
       "      <td>0.850865</td>\n",
       "      <td>0.825000</td>\n",
       "      <td>0.833722</td>\n",
       "      <td>2000.000</td>\n",
       "    </tr>\n",
       "  </tbody>\n",
       "</table>\n",
       "</div>"
      ],
      "text/plain": [
       "              precision    recall  f1-score   support\n",
       "Non-exited     0.927148  0.846830  0.885171  1593.000\n",
       "exited         0.552294  0.739558  0.632353   407.000\n",
       "accuracy       0.825000  0.825000  0.825000     0.825\n",
       "macro avg      0.739721  0.793194  0.758762  2000.000\n",
       "weighted avg   0.850865  0.825000  0.833722  2000.000"
      ]
     },
     "execution_count": 45,
     "metadata": {},
     "output_type": "execute_result"
    }
   ],
   "source": [
    "model = RandomForestClassifier(random_state=12345,\n",
    "                               n_estimators=best_est_f,\n",
    "                               max_depth=best_depth_f)\n",
    "model.fit(df_f_upsampled, df_t_upsampled)\n",
    "predictions_valid = model.predict(df_f_valid)\n",
    "report = classification_report(df_t_valid, predictions_valid, target_names=['Non-exited', 'exited'], output_dict=True)\n",
    "report = pd.DataFrame(report).transpose()\n",
    "report"
   ]
  },
  {
   "cell_type": "code",
   "execution_count": 46,
   "id": "14a3391c-0c4d-4e78-befb-abd504e8e029",
   "metadata": {},
   "outputs": [
    {
     "name": "stdout",
     "output_type": "stream",
     "text": [
      "Площадь под кривой ROC: 0.8679\n"
     ]
    },
    {
     "data": {
      "image/png": "[encoded data removed]",
      "text/plain": [
       "<Figure size 400x400 with 1 Axes>"
      ]
     },
     "metadata": {},
     "output_type": "display_data"
    }
   ],
   "source": [
    "roc_auc_fig(model)"
   ]
  },
  {
   "cell_type": "markdown",
   "id": "71829741-d3ee-4e38-a29a-60dbffb5ab78",
   "metadata": {},
   "source": [
    "**Вывод:**\n",
    "\n",
    "*  Значения F1-меры стало больше, чем 0.59 - **0.632353**\n",
    "*  Площадь под кривой ROC - **0.8679**\n",
    "\n",
    "Метрики качества  соответствуют необходимому условию, такую модель можно использовать дальше."
   ]
  },
  {
   "cell_type": "markdown",
   "id": "c2127d1b-ec9e-415e-adb9-450fbd29013c",
   "metadata": {},
   "source": [
    "**Логистическая регрессия**"
   ]
  },
  {
   "cell_type": "markdown",
   "id": "3f34419f-b35f-44cd-a652-38680a7569e0",
   "metadata": {},
   "source": [
    "Проверим качество модели на увеличенной обучающей выборке:"
   ]
  },
  {
   "cell_type": "code",
   "execution_count": 47,
   "id": "551fc138-dac5-43db-9f0c-555587b51441",
   "metadata": {},
   "outputs": [
    {
     "data": {
      "text/html": [
       "<div>\n",
       "<style scoped>\n",
       "    .dataframe tbody tr th:only-of-type {\n",
       "        vertical-align: middle;\n",
       "    }\n",
       "\n",
       "    .dataframe tbody tr th {\n",
       "        vertical-align: top;\n",
       "    }\n",
       "\n",
       "    .dataframe thead th {\n",
       "        text-align: right;\n",
       "    }\n",
       "</style>\n",
       "<table border=\"1\" class=\"dataframe\">\n",
       "  <thead>\n",
       "    <tr style=\"text-align: right;\">\n",
       "      <th></th>\n",
       "      <th>precision</th>\n",
       "      <th>recall</th>\n",
       "      <th>f1-score</th>\n",
       "      <th>support</th>\n",
       "    </tr>\n",
       "  </thead>\n",
       "  <tbody>\n",
       "    <tr>\n",
       "      <th>Non-exited</th>\n",
       "      <td>0.910484</td>\n",
       "      <td>0.708726</td>\n",
       "      <td>0.797035</td>\n",
       "      <td>1593.0000</td>\n",
       "    </tr>\n",
       "    <tr>\n",
       "      <th>exited</th>\n",
       "      <td>0.389474</td>\n",
       "      <td>0.727273</td>\n",
       "      <td>0.507284</td>\n",
       "      <td>407.0000</td>\n",
       "    </tr>\n",
       "    <tr>\n",
       "      <th>accuracy</th>\n",
       "      <td>0.712500</td>\n",
       "      <td>0.712500</td>\n",
       "      <td>0.712500</td>\n",
       "      <td>0.7125</td>\n",
       "    </tr>\n",
       "    <tr>\n",
       "      <th>macro avg</th>\n",
       "      <td>0.649979</td>\n",
       "      <td>0.717999</td>\n",
       "      <td>0.652159</td>\n",
       "      <td>2000.0000</td>\n",
       "    </tr>\n",
       "    <tr>\n",
       "      <th>weighted avg</th>\n",
       "      <td>0.804458</td>\n",
       "      <td>0.712500</td>\n",
       "      <td>0.738071</td>\n",
       "      <td>2000.0000</td>\n",
       "    </tr>\n",
       "  </tbody>\n",
       "</table>\n",
       "</div>"
      ],
      "text/plain": [
       "              precision    recall  f1-score    support\n",
       "Non-exited     0.910484  0.708726  0.797035  1593.0000\n",
       "exited         0.389474  0.727273  0.507284   407.0000\n",
       "accuracy       0.712500  0.712500  0.712500     0.7125\n",
       "macro avg      0.649979  0.717999  0.652159  2000.0000\n",
       "weighted avg   0.804458  0.712500  0.738071  2000.0000"
      ]
     },
     "execution_count": 47,
     "metadata": {},
     "output_type": "execute_result"
    }
   ],
   "source": [
    "model = LogisticRegression(random_state=12345)\n",
    "model.fit(df_f_upsampled, df_t_upsampled)\n",
    "predictions_valid = model.predict(df_f_valid)\n",
    "\n",
    "report = classification_report(df_t_valid, predictions_valid, target_names=['Non-exited', 'exited'], output_dict=True)\n",
    "report = pd.DataFrame(report).transpose()\n",
    "report"
   ]
  },
  {
   "cell_type": "code",
   "execution_count": 48,
   "id": "146c1195-be6f-4e7c-803c-7619042c6096",
   "metadata": {},
   "outputs": [
    {
     "name": "stdout",
     "output_type": "stream",
     "text": [
      "Площадь под кривой ROC: 0.7919\n"
     ]
    },
    {
     "data": {
      "image/png": "[encoded data removed]",
      "text/plain": [
       "<Figure size 400x400 with 1 Axes>"
      ]
     },
     "metadata": {},
     "output_type": "display_data"
    }
   ],
   "source": [
    "roc_auc_fig(model)"
   ]
  },
  {
   "cell_type": "markdown",
   "id": "54d7e2fb-5116-41ac-8e10-0e29c0e7f04f",
   "metadata": {},
   "source": [
    "**Вывод:**\n",
    "\n",
    "*  Значения F1-меры меньше, чем 0.59 - **0.507284**\n",
    "*  Площадь под кривой ROC - **0.7919**\n",
    "\n",
    "Метрики качества не соответствуют необходимому условию, но увеличились."
   ]
  },
  {
   "cell_type": "markdown",
   "id": "d9e4df67-8b82-4d10-84ad-18ed352b5416",
   "metadata": {},
   "source": [
    "**Вывод**\n",
    "\n",
    "По 2-м моделям машинного обучения необходимое качество модели не достигнуто.\n",
    "\n",
    "Только модель случайного леса смогла достичь метрики F1-меры до необходимых значений, проверим дальнейшие способы борьбы с несбалансированными классами"
   ]
  },
  {
   "cell_type": "markdown",
   "id": "3dbb4b0f-7fec-4091-a2d6-9fe974a84157",
   "metadata": {},
   "source": [
    "## Уменьшение выборки"
   ]
  },
  {
   "cell_type": "markdown",
   "id": "2f365ab4-b358-43d9-bbc2-a086b7e9f893",
   "metadata": {},
   "source": [
    "Для улучшения качества модели, уменьшим обучающую выборку, обучим модель и проверим полученные метрики:"
   ]
  },
  {
   "cell_type": "code",
   "execution_count": 49,
   "id": "6863d298-f46d-48cc-818a-d9cb252a31b6",
   "metadata": {},
   "outputs": [],
   "source": [
    "# Создаём функцию, которая уменьшает обучающую выборку и перемешивает ее\n",
    "\n",
    "def downsample(features, target, fraction):\n",
    "    features_zeros = features[target == 0]\n",
    "    features_ones = features[target == 1]\n",
    "    target_zeros = target[target == 0]\n",
    "    target_ones = target[target == 1]\n",
    "\n",
    "    features_downsampled = pd.concat(\n",
    "        [features_zeros.sample(frac=fraction, random_state=12345)] + [features_ones])\n",
    "    target_downsampled = pd.concat(\n",
    "        [target_zeros.sample(frac=fraction, random_state=12345)] + [target_ones])\n",
    "    \n",
    "    features_downsampled, target_downsampled = shuffle(\n",
    "        features_downsampled, target_downsampled, random_state=12345)\n",
    "    \n",
    "    return features_downsampled, target_downsampled"
   ]
  },
  {
   "cell_type": "markdown",
   "id": "0dbf9d1f-640a-4faf-91fa-fc56f1ea90f1",
   "metadata": {},
   "source": [
    "Уменьшаем выборку в 4 раза, так как 20% клиентов уходят из банка (чтобы значения были приблизительно равны):"
   ]
  },
  {
   "cell_type": "code",
   "execution_count": 50,
   "id": "73ed5ede-90f0-4356-8674-361710be4de0",
   "metadata": {},
   "outputs": [],
   "source": [
    "df_f_downsampled, df_t_downsampled = downsample(df_f_train, df_t_train, 0.25)"
   ]
  },
  {
   "cell_type": "markdown",
   "id": "afd362c8-c6c9-43fc-b5ff-74cc3acf2751",
   "metadata": {},
   "source": [
    "**Дерево решений**"
   ]
  },
  {
   "cell_type": "markdown",
   "id": "b144d9ea-0ed9-41b1-a92c-ad8cb4de1b39",
   "metadata": {},
   "source": [
    "Проверим качество модели на уменьшенной обучающей выборке:"
   ]
  },
  {
   "cell_type": "code",
   "execution_count": 51,
   "id": "db769ed1-5a75-4094-b2fc-53235e1f7fa4",
   "metadata": {
    "tags": []
   },
   "outputs": [
    {
     "name": "stderr",
     "output_type": "stream",
     "text": [
      "100%|██████████| 18/18 [00:00<00:00, 31.15it/s]\n"
     ]
    }
   ],
   "source": [
    "best_depth_t = 0\n",
    "f1_best_t = 0\n",
    "\n",
    "for depth in tqdm(range(2, 20)):\n",
    "    model = DecisionTreeClassifier(random_state=12345, max_depth=depth)\n",
    "    model.fit(df_f_downsampled, df_t_downsampled)\n",
    "    predictions_valid = model.predict(df_f_valid)\n",
    "    f1 = f1_score(df_t_valid, predictions_valid)\n",
    "    if f1 > f1_best_t:\n",
    "        best_depth_t = depth\n",
    "        f1_best_t = f1"
   ]
  },
  {
   "cell_type": "code",
   "execution_count": 52,
   "id": "82f60708-eeac-4dbf-906b-ab986413002c",
   "metadata": {},
   "outputs": [
    {
     "data": {
      "text/html": [
       "<div>\n",
       "<style scoped>\n",
       "    .dataframe tbody tr th:only-of-type {\n",
       "        vertical-align: middle;\n",
       "    }\n",
       "\n",
       "    .dataframe tbody tr th {\n",
       "        vertical-align: top;\n",
       "    }\n",
       "\n",
       "    .dataframe thead th {\n",
       "        text-align: right;\n",
       "    }\n",
       "</style>\n",
       "<table border=\"1\" class=\"dataframe\">\n",
       "  <thead>\n",
       "    <tr style=\"text-align: right;\">\n",
       "      <th></th>\n",
       "      <th>precision</th>\n",
       "      <th>recall</th>\n",
       "      <th>f1-score</th>\n",
       "      <th>support</th>\n",
       "    </tr>\n",
       "  </thead>\n",
       "  <tbody>\n",
       "    <tr>\n",
       "      <th>Non-exited</th>\n",
       "      <td>0.920198</td>\n",
       "      <td>0.817954</td>\n",
       "      <td>0.866068</td>\n",
       "      <td>1593.0000</td>\n",
       "    </tr>\n",
       "    <tr>\n",
       "      <th>exited</th>\n",
       "      <td>0.503425</td>\n",
       "      <td>0.722359</td>\n",
       "      <td>0.593340</td>\n",
       "      <td>407.0000</td>\n",
       "    </tr>\n",
       "    <tr>\n",
       "      <th>accuracy</th>\n",
       "      <td>0.798500</td>\n",
       "      <td>0.798500</td>\n",
       "      <td>0.798500</td>\n",
       "      <td>0.7985</td>\n",
       "    </tr>\n",
       "    <tr>\n",
       "      <th>macro avg</th>\n",
       "      <td>0.711811</td>\n",
       "      <td>0.770156</td>\n",
       "      <td>0.729704</td>\n",
       "      <td>2000.0000</td>\n",
       "    </tr>\n",
       "    <tr>\n",
       "      <th>weighted avg</th>\n",
       "      <td>0.835384</td>\n",
       "      <td>0.798500</td>\n",
       "      <td>0.810568</td>\n",
       "      <td>2000.0000</td>\n",
       "    </tr>\n",
       "  </tbody>\n",
       "</table>\n",
       "</div>"
      ],
      "text/plain": [
       "              precision    recall  f1-score    support\n",
       "Non-exited     0.920198  0.817954  0.866068  1593.0000\n",
       "exited         0.503425  0.722359  0.593340   407.0000\n",
       "accuracy       0.798500  0.798500  0.798500     0.7985\n",
       "macro avg      0.711811  0.770156  0.729704  2000.0000\n",
       "weighted avg   0.835384  0.798500  0.810568  2000.0000"
      ]
     },
     "execution_count": 52,
     "metadata": {},
     "output_type": "execute_result"
    }
   ],
   "source": [
    "model = DecisionTreeClassifier(random_state=12345,\n",
    "                               max_depth=best_depth_t)\n",
    "model.fit(df_f_downsampled, df_t_downsampled)\n",
    "predictions_valid = model.predict(df_f_valid)\n",
    "report = classification_report(df_t_valid, predictions_valid, target_names=['Non-exited', 'exited'], output_dict=True)\n",
    "report = pd.DataFrame(report).transpose()\n",
    "report"
   ]
  },
  {
   "cell_type": "code",
   "execution_count": 53,
   "id": "5f32a2d6-2340-4bc4-9b0a-a22131a5729e",
   "metadata": {},
   "outputs": [
    {
     "name": "stdout",
     "output_type": "stream",
     "text": [
      "Площадь под кривой ROC: 0.8435\n"
     ]
    },
    {
     "data": {
      "image/png": "[encoded data removed]",
      "text/plain": [
       "<Figure size 400x400 with 1 Axes>"
      ]
     },
     "metadata": {},
     "output_type": "display_data"
    }
   ],
   "source": [
    "roc_auc_fig(model)"
   ]
  },
  {
   "cell_type": "markdown",
   "id": "e0fdb626-c285-4b75-a501-a8d37ba35efb",
   "metadata": {},
   "source": [
    "**Вывод:**\n",
    "\n",
    "* Значения F1-меры чуть больше, чем 0.59 - **0.593340**\n",
    "* Площадь под кривой ROC - **0.8435**\n",
    "\n",
    "Метрики качества соответствуют необходимому условию, но метрики увеличились незначительно."
   ]
  },
  {
   "cell_type": "markdown",
   "id": "8800b5d6-85a6-4547-b068-75b6f57a8edc",
   "metadata": {},
   "source": [
    "**Случаный лес**"
   ]
  },
  {
   "cell_type": "markdown",
   "id": "93a0165f-eedd-47d0-a003-a140107f88f3",
   "metadata": {},
   "source": [
    "Проверим качество модели на уменьшенной обучающей выборке:"
   ]
  },
  {
   "cell_type": "code",
   "execution_count": 54,
   "id": "e4047872-b6ff-49ae-a77d-a1f5c84b8bd2",
   "metadata": {},
   "outputs": [
    {
     "name": "stderr",
     "output_type": "stream",
     "text": [
      "100%|██████████| 5/5 [00:07<00:00,  1.51s/it]\n"
     ]
    }
   ],
   "source": [
    "best_depth_f = 0\n",
    "best_est_f = 0\n",
    "f1_best_f = 0\n",
    "\n",
    "for est in tqdm(range(10, 51, 10)):\n",
    "    for depth in range (2, 11):\n",
    "        model = RandomForestClassifier(random_state=12345, n_estimators=est, max_depth=depth)\n",
    "        model.fit(df_f_downsampled, df_t_downsampled)\n",
    "        predictions_valid = model.predict(df_f_valid)\n",
    "        f1 = f1_score(df_t_valid, predictions_valid)\n",
    "        if f1 > f1_best_f:\n",
    "            best_depth_f = depth\n",
    "            best_est_f = est\n",
    "            f1_best_f = f1"
   ]
  },
  {
   "cell_type": "code",
   "execution_count": 55,
   "id": "5a97052f-49e4-4cd1-a5ac-a56bda7cfdcb",
   "metadata": {},
   "outputs": [
    {
     "data": {
      "text/html": [
       "<div>\n",
       "<style scoped>\n",
       "    .dataframe tbody tr th:only-of-type {\n",
       "        vertical-align: middle;\n",
       "    }\n",
       "\n",
       "    .dataframe tbody tr th {\n",
       "        vertical-align: top;\n",
       "    }\n",
       "\n",
       "    .dataframe thead th {\n",
       "        text-align: right;\n",
       "    }\n",
       "</style>\n",
       "<table border=\"1\" class=\"dataframe\">\n",
       "  <thead>\n",
       "    <tr style=\"text-align: right;\">\n",
       "      <th></th>\n",
       "      <th>precision</th>\n",
       "      <th>recall</th>\n",
       "      <th>f1-score</th>\n",
       "      <th>support</th>\n",
       "    </tr>\n",
       "  </thead>\n",
       "  <tbody>\n",
       "    <tr>\n",
       "      <th>Non-exited</th>\n",
       "      <td>0.931408</td>\n",
       "      <td>0.809793</td>\n",
       "      <td>0.866353</td>\n",
       "      <td>1593.000</td>\n",
       "    </tr>\n",
       "    <tr>\n",
       "      <th>exited</th>\n",
       "      <td>0.507317</td>\n",
       "      <td>0.766585</td>\n",
       "      <td>0.610568</td>\n",
       "      <td>407.000</td>\n",
       "    </tr>\n",
       "    <tr>\n",
       "      <th>accuracy</th>\n",
       "      <td>0.801000</td>\n",
       "      <td>0.801000</td>\n",
       "      <td>0.801000</td>\n",
       "      <td>0.801</td>\n",
       "    </tr>\n",
       "    <tr>\n",
       "      <th>macro avg</th>\n",
       "      <td>0.719363</td>\n",
       "      <td>0.788189</td>\n",
       "      <td>0.738460</td>\n",
       "      <td>2000.000</td>\n",
       "    </tr>\n",
       "    <tr>\n",
       "      <th>weighted avg</th>\n",
       "      <td>0.845105</td>\n",
       "      <td>0.801000</td>\n",
       "      <td>0.814301</td>\n",
       "      <td>2000.000</td>\n",
       "    </tr>\n",
       "  </tbody>\n",
       "</table>\n",
       "</div>"
      ],
      "text/plain": [
       "              precision    recall  f1-score   support\n",
       "Non-exited     0.931408  0.809793  0.866353  1593.000\n",
       "exited         0.507317  0.766585  0.610568   407.000\n",
       "accuracy       0.801000  0.801000  0.801000     0.801\n",
       "macro avg      0.719363  0.788189  0.738460  2000.000\n",
       "weighted avg   0.845105  0.801000  0.814301  2000.000"
      ]
     },
     "execution_count": 55,
     "metadata": {},
     "output_type": "execute_result"
    }
   ],
   "source": [
    "model = RandomForestClassifier(random_state=12345,\n",
    "                               n_estimators=best_est_f,\n",
    "                               max_depth=best_depth_f)\n",
    "model.fit(df_f_downsampled, df_t_downsampled)\n",
    "predictions_valid = model.predict(df_f_valid)\n",
    "report = classification_report(df_t_valid, predictions_valid, target_names=['Non-exited', 'exited'], output_dict=True)\n",
    "report = pd.DataFrame(report).transpose()\n",
    "report"
   ]
  },
  {
   "cell_type": "code",
   "execution_count": 56,
   "id": "8af4d005-3cbe-4cd7-ac17-79f2aa36d79f",
   "metadata": {},
   "outputs": [
    {
     "name": "stdout",
     "output_type": "stream",
     "text": [
      "Площадь под кривой ROC: 0.8722\n"
     ]
    },
    {
     "data": {
      "image/png": "[encoded data removed]",
      "text/plain": [
       "<Figure size 400x400 with 1 Axes>"
      ]
     },
     "metadata": {},
     "output_type": "display_data"
    }
   ],
   "source": [
    "roc_auc_fig(model)"
   ]
  },
  {
   "cell_type": "markdown",
   "id": "4edec25c-5f9e-4479-b6a9-0f47225a033d",
   "metadata": {},
   "source": [
    "**Вывод:**\n",
    "\n",
    "* Значения F1-меры больше, чем 0.59 - **0.610568**\n",
    "* Площадь под кривой ROC - **0.8722**\n",
    "\n",
    "Метрики качества соответствуют необходимому условию, такой способ можно использовать для увеличения качества модели."
   ]
  },
  {
   "cell_type": "markdown",
   "id": "6e44022d-f009-467e-af25-41f5cdbc87f6",
   "metadata": {},
   "source": [
    "**Логистическая регрессия**"
   ]
  },
  {
   "cell_type": "markdown",
   "id": "d8d3bcb5-09fd-455b-9410-3b41f532b492",
   "metadata": {},
   "source": [
    "Проверим качество модели на уменьшенной обучающей выборке:"
   ]
  },
  {
   "cell_type": "code",
   "execution_count": 57,
   "id": "46e7d3fa-21c1-479e-95be-7baff5d79e64",
   "metadata": {},
   "outputs": [
    {
     "data": {
      "text/html": [
       "<div>\n",
       "<style scoped>\n",
       "    .dataframe tbody tr th:only-of-type {\n",
       "        vertical-align: middle;\n",
       "    }\n",
       "\n",
       "    .dataframe tbody tr th {\n",
       "        vertical-align: top;\n",
       "    }\n",
       "\n",
       "    .dataframe thead th {\n",
       "        text-align: right;\n",
       "    }\n",
       "</style>\n",
       "<table border=\"1\" class=\"dataframe\">\n",
       "  <thead>\n",
       "    <tr style=\"text-align: right;\">\n",
       "      <th></th>\n",
       "      <th>precision</th>\n",
       "      <th>recall</th>\n",
       "      <th>f1-score</th>\n",
       "      <th>support</th>\n",
       "    </tr>\n",
       "  </thead>\n",
       "  <tbody>\n",
       "    <tr>\n",
       "      <th>Non-exited</th>\n",
       "      <td>0.908944</td>\n",
       "      <td>0.708098</td>\n",
       "      <td>0.796048</td>\n",
       "      <td>1593.000</td>\n",
       "    </tr>\n",
       "    <tr>\n",
       "      <th>exited</th>\n",
       "      <td>0.387352</td>\n",
       "      <td>0.722359</td>\n",
       "      <td>0.504288</td>\n",
       "      <td>407.000</td>\n",
       "    </tr>\n",
       "    <tr>\n",
       "      <th>accuracy</th>\n",
       "      <td>0.711000</td>\n",
       "      <td>0.711000</td>\n",
       "      <td>0.711000</td>\n",
       "      <td>0.711</td>\n",
       "    </tr>\n",
       "    <tr>\n",
       "      <th>macro avg</th>\n",
       "      <td>0.648148</td>\n",
       "      <td>0.715228</td>\n",
       "      <td>0.650168</td>\n",
       "      <td>2000.000</td>\n",
       "    </tr>\n",
       "    <tr>\n",
       "      <th>weighted avg</th>\n",
       "      <td>0.802800</td>\n",
       "      <td>0.711000</td>\n",
       "      <td>0.736675</td>\n",
       "      <td>2000.000</td>\n",
       "    </tr>\n",
       "  </tbody>\n",
       "</table>\n",
       "</div>"
      ],
      "text/plain": [
       "              precision    recall  f1-score   support\n",
       "Non-exited     0.908944  0.708098  0.796048  1593.000\n",
       "exited         0.387352  0.722359  0.504288   407.000\n",
       "accuracy       0.711000  0.711000  0.711000     0.711\n",
       "macro avg      0.648148  0.715228  0.650168  2000.000\n",
       "weighted avg   0.802800  0.711000  0.736675  2000.000"
      ]
     },
     "execution_count": 57,
     "metadata": {},
     "output_type": "execute_result"
    }
   ],
   "source": [
    "model = LogisticRegression(random_state=12345)\n",
    "model.fit(df_f_downsampled, df_t_downsampled)\n",
    "predictions_valid = model.predict(df_f_valid)\n",
    "\n",
    "report = classification_report(df_t_valid, predictions_valid, target_names=['Non-exited', 'exited'], output_dict=True)\n",
    "report = pd.DataFrame(report).transpose()\n",
    "report"
   ]
  },
  {
   "cell_type": "code",
   "execution_count": 58,
   "id": "1c098ac2-c7cf-471f-b025-15a65bc741a9",
   "metadata": {},
   "outputs": [
    {
     "name": "stdout",
     "output_type": "stream",
     "text": [
      "Площадь под кривой ROC: 0.7913\n"
     ]
    },
    {
     "data": {
      "image/png": "[encoded data removed]",
      "text/plain": [
       "<Figure size 400x400 with 1 Axes>"
      ]
     },
     "metadata": {},
     "output_type": "display_data"
    }
   ],
   "source": [
    "roc_auc_fig(model)"
   ]
  },
  {
   "cell_type": "markdown",
   "id": "b6c46ff8-9a8f-43f6-9ce3-54e6e734a450",
   "metadata": {},
   "source": [
    "**Вывод:**\n",
    "\n",
    "* Значения F1-меры меньше, чем 0.59 - **0.504288**\n",
    "* Площадь под кривой ROC - **0.7913**\n",
    "\n",
    "Метрики качества не соответствуют необходимому условию, но метрики увеличились."
   ]
  },
  {
   "cell_type": "markdown",
   "id": "e6c00cc6-a8dc-484a-bd59-8000243f7327",
   "metadata": {},
   "source": [
    "**Вывод**\n",
    "\n",
    "По 1-ой модели машинного обучения необходимое качество модели не достигнуто.\n",
    "\n",
    "Модель дерева решений и случайного леса смогли достичь метрики F1-меры до необходимых значений, причем модель случайного леса показала большее значение. Проверим другие способы борьбы."
   ]
  },
  {
   "cell_type": "markdown",
   "id": "df68e160-8e26-4ed4-a035-43af29d77ba4",
   "metadata": {},
   "source": [
    "## Взвешивание классов"
   ]
  },
  {
   "cell_type": "markdown",
   "id": "55ba0514-4112-4a1a-947e-ee5edc3b4e73",
   "metadata": {},
   "source": [
    "Проверим параметр **class_weight** на логистической регрессии:"
   ]
  },
  {
   "cell_type": "code",
   "execution_count": 59,
   "id": "189fd590-885e-4bf0-882a-53e767e3d8bf",
   "metadata": {},
   "outputs": [
    {
     "data": {
      "text/html": [
       "<div>\n",
       "<style scoped>\n",
       "    .dataframe tbody tr th:only-of-type {\n",
       "        vertical-align: middle;\n",
       "    }\n",
       "\n",
       "    .dataframe tbody tr th {\n",
       "        vertical-align: top;\n",
       "    }\n",
       "\n",
       "    .dataframe thead th {\n",
       "        text-align: right;\n",
       "    }\n",
       "</style>\n",
       "<table border=\"1\" class=\"dataframe\">\n",
       "  <thead>\n",
       "    <tr style=\"text-align: right;\">\n",
       "      <th></th>\n",
       "      <th>precision</th>\n",
       "      <th>recall</th>\n",
       "      <th>f1-score</th>\n",
       "      <th>support</th>\n",
       "    </tr>\n",
       "  </thead>\n",
       "  <tbody>\n",
       "    <tr>\n",
       "      <th>Non-exited</th>\n",
       "      <td>0.910103</td>\n",
       "      <td>0.718142</td>\n",
       "      <td>0.802807</td>\n",
       "      <td>1593.000</td>\n",
       "    </tr>\n",
       "    <tr>\n",
       "      <th>exited</th>\n",
       "      <td>0.395693</td>\n",
       "      <td>0.722359</td>\n",
       "      <td>0.511304</td>\n",
       "      <td>407.000</td>\n",
       "    </tr>\n",
       "    <tr>\n",
       "      <th>accuracy</th>\n",
       "      <td>0.719000</td>\n",
       "      <td>0.719000</td>\n",
       "      <td>0.719000</td>\n",
       "      <td>0.719</td>\n",
       "    </tr>\n",
       "    <tr>\n",
       "      <th>macro avg</th>\n",
       "      <td>0.652898</td>\n",
       "      <td>0.720250</td>\n",
       "      <td>0.657056</td>\n",
       "      <td>2000.000</td>\n",
       "    </tr>\n",
       "    <tr>\n",
       "      <th>weighted avg</th>\n",
       "      <td>0.805421</td>\n",
       "      <td>0.719000</td>\n",
       "      <td>0.743486</td>\n",
       "      <td>2000.000</td>\n",
       "    </tr>\n",
       "  </tbody>\n",
       "</table>\n",
       "</div>"
      ],
      "text/plain": [
       "              precision    recall  f1-score   support\n",
       "Non-exited     0.910103  0.718142  0.802807  1593.000\n",
       "exited         0.395693  0.722359  0.511304   407.000\n",
       "accuracy       0.719000  0.719000  0.719000     0.719\n",
       "macro avg      0.652898  0.720250  0.657056  2000.000\n",
       "weighted avg   0.805421  0.719000  0.743486  2000.000"
      ]
     },
     "execution_count": 59,
     "metadata": {},
     "output_type": "execute_result"
    }
   ],
   "source": [
    "model = LogisticRegression(random_state=12345, solver='liblinear', class_weight='balanced')\n",
    "model.fit(df_f_train, df_t_train)\n",
    "predictions_valid = model.predict(df_f_valid)\n",
    "\n",
    "report = classification_report(df_t_valid, predictions_valid, target_names=['Non-exited', 'exited'], output_dict=True)\n",
    "report = pd.DataFrame(report).transpose()\n",
    "report"
   ]
  },
  {
   "cell_type": "code",
   "execution_count": 60,
   "id": "690e3f03-a77a-484f-90d7-16709aba8cab",
   "metadata": {},
   "outputs": [
    {
     "name": "stdout",
     "output_type": "stream",
     "text": [
      "Площадь под кривой ROC: 0.7918\n"
     ]
    },
    {
     "data": {
      "image/png": "[encoded data removed]",
      "text/plain": [
       "<Figure size 400x400 with 1 Axes>"
      ]
     },
     "metadata": {},
     "output_type": "display_data"
    }
   ],
   "source": [
    "roc_auc_fig(model)"
   ]
  },
  {
   "cell_type": "markdown",
   "id": "466b160f-e439-45aa-abbf-a30e7dcaf5e4",
   "metadata": {},
   "source": [
    "**Вывод:**\n",
    "\n",
    "* Значения F1-меры меньше, чем 0.59 - **0.511304**\n",
    "* Площадь под кривой ROC - **0.7918**\n",
    "\n",
    "Метрики качества не соответствуют необходимому условию, хотя и увеличились, по сравнению с предыдущим исследованием."
   ]
  },
  {
   "cell_type": "markdown",
   "id": "79357850-9388-4f0f-83e4-b3720a476a1b",
   "metadata": {},
   "source": [
    "## Изменение порога"
   ]
  },
  {
   "cell_type": "markdown",
   "id": "ad6a455b-f4ac-442d-90e8-5e39ab7effb7",
   "metadata": {},
   "source": [
    "Чтобы определить ответ: модель вычисляет, к какому классу близок объект, затем сравнивает результат с нулём. Для удобства близость к классам переведём в вероятность классов: модель пытается оценить, насколько вероятен тот или иной класс. У нас всего два класса (ноль и единица). Нам достаточно вероятности класса «1». Число будет от нуля до единицы: если больше 0.5 — объект положительный, меньше — отрицательный.\n",
    "\n",
    "Поменяем значения вероятности класса и проверим, как это повлияет на метрики качества моделей:"
   ]
  },
  {
   "cell_type": "markdown",
   "id": "5bf541fc-c2c2-4874-a335-8b89d1353558",
   "metadata": {},
   "source": [
    "**Дерево решений**"
   ]
  },
  {
   "cell_type": "markdown",
   "id": "3a11ffa6-1d36-4497-9e3b-507c1fda9c87",
   "metadata": {},
   "source": [
    "Проверим качество модели на подборе порога значений классификации:"
   ]
  },
  {
   "cell_type": "code",
   "execution_count": 61,
   "id": "322a169e-837e-40e1-bd06-5aa9fe993205",
   "metadata": {},
   "outputs": [],
   "source": [
    "model = DecisionTreeClassifier(random_state=12345, max_depth=tree_best['depth'])\n",
    "model.fit(df_f_train, df_t_train)\n",
    "probabilities_valid = model.predict_proba(df_f_valid)\n",
    "probabilities_one_valid = probabilities_valid[:, 1]\n",
    "\n",
    "f1_best = 0\n",
    "predicted_best = []\n",
    "for threshold in np.arange(0, 1.1, 0.02):\n",
    "    predicted_valid = probabilities_one_valid > threshold\n",
    "    f1 = f1_score(df_t_valid, predicted_valid)\n",
    "    if f1 > f1_best:\n",
    "        f1_best = f1\n",
    "        predicted_best = predicted_valid"
   ]
  },
  {
   "cell_type": "code",
   "execution_count": 62,
   "id": "e2a18521-988c-44a7-acb6-d89a4840051b",
   "metadata": {},
   "outputs": [
    {
     "data": {
      "text/html": [
       "<div>\n",
       "<style scoped>\n",
       "    .dataframe tbody tr th:only-of-type {\n",
       "        vertical-align: middle;\n",
       "    }\n",
       "\n",
       "    .dataframe tbody tr th {\n",
       "        vertical-align: top;\n",
       "    }\n",
       "\n",
       "    .dataframe thead th {\n",
       "        text-align: right;\n",
       "    }\n",
       "</style>\n",
       "<table border=\"1\" class=\"dataframe\">\n",
       "  <thead>\n",
       "    <tr style=\"text-align: right;\">\n",
       "      <th></th>\n",
       "      <th>precision</th>\n",
       "      <th>recall</th>\n",
       "      <th>f1-score</th>\n",
       "      <th>support</th>\n",
       "    </tr>\n",
       "  </thead>\n",
       "  <tbody>\n",
       "    <tr>\n",
       "      <th>Non-exited</th>\n",
       "      <td>0.893210</td>\n",
       "      <td>0.908349</td>\n",
       "      <td>0.900716</td>\n",
       "      <td>1593.0000</td>\n",
       "    </tr>\n",
       "    <tr>\n",
       "      <th>exited</th>\n",
       "      <td>0.615789</td>\n",
       "      <td>0.574939</td>\n",
       "      <td>0.594663</td>\n",
       "      <td>407.0000</td>\n",
       "    </tr>\n",
       "    <tr>\n",
       "      <th>accuracy</th>\n",
       "      <td>0.840500</td>\n",
       "      <td>0.840500</td>\n",
       "      <td>0.840500</td>\n",
       "      <td>0.8405</td>\n",
       "    </tr>\n",
       "    <tr>\n",
       "      <th>macro avg</th>\n",
       "      <td>0.754500</td>\n",
       "      <td>0.741644</td>\n",
       "      <td>0.747690</td>\n",
       "      <td>2000.0000</td>\n",
       "    </tr>\n",
       "    <tr>\n",
       "      <th>weighted avg</th>\n",
       "      <td>0.836755</td>\n",
       "      <td>0.840500</td>\n",
       "      <td>0.838434</td>\n",
       "      <td>2000.0000</td>\n",
       "    </tr>\n",
       "  </tbody>\n",
       "</table>\n",
       "</div>"
      ],
      "text/plain": [
       "              precision    recall  f1-score    support\n",
       "Non-exited     0.893210  0.908349  0.900716  1593.0000\n",
       "exited         0.615789  0.574939  0.594663   407.0000\n",
       "accuracy       0.840500  0.840500  0.840500     0.8405\n",
       "macro avg      0.754500  0.741644  0.747690  2000.0000\n",
       "weighted avg   0.836755  0.840500  0.838434  2000.0000"
      ]
     },
     "execution_count": 62,
     "metadata": {},
     "output_type": "execute_result"
    }
   ],
   "source": [
    "report = classification_report(df_t_valid, predicted_best, target_names=['Non-exited', 'exited'], output_dict=True)\n",
    "report = pd.DataFrame(report).transpose()\n",
    "report"
   ]
  },
  {
   "cell_type": "code",
   "execution_count": 63,
   "id": "5ad2b8bc-c40e-44b0-8cd8-8f9c8003dda6",
   "metadata": {},
   "outputs": [
    {
     "name": "stdout",
     "output_type": "stream",
     "text": [
      "Площадь под кривой ROC: 0.8097\n"
     ]
    },
    {
     "data": {
      "image/png": "[encoded data removed]",
      "text/plain": [
       "<Figure size 400x400 with 1 Axes>"
      ]
     },
     "metadata": {},
     "output_type": "display_data"
    }
   ],
   "source": [
    "roc_auc_fig(model)"
   ]
  },
  {
   "cell_type": "markdown",
   "id": "8b1152ef-0c54-436d-afee-d5f049b143de",
   "metadata": {},
   "source": [
    "**Вывод:**\n",
    "\n",
    "* Значения F1-меры чуть больше, чем 0.59 - **0.594663**\n",
    "* Площадь под кривой ROC - **0.8097**\n",
    "\n",
    "Метрики качества соответствуют необходимому условию, но метрики увеличились незначительно."
   ]
  },
  {
   "cell_type": "markdown",
   "id": "c623ff5f-e4b0-4850-8b0c-df9ec99b6920",
   "metadata": {},
   "source": [
    "**Случайный лес**"
   ]
  },
  {
   "cell_type": "markdown",
   "id": "e78243b3-1977-4955-a89d-964e2194d6a4",
   "metadata": {},
   "source": [
    "Проверим качество модели на подборе порога значений классификации:"
   ]
  },
  {
   "cell_type": "code",
   "execution_count": 64,
   "id": "82d98dcb-4db7-4e8e-acb5-0272190f659f",
   "metadata": {},
   "outputs": [],
   "source": [
    "model = RandomForestClassifier(random_state=12345, \n",
    "                               max_depth=forest_best['depth'], \n",
    "                               n_estimators=forest_best['n_estimators'])\n",
    "model.fit(df_f_train, df_t_train)\n",
    "probabilities_valid = model.predict_proba(df_f_valid)\n",
    "probabilities_one_valid = probabilities_valid[:, 1]\n",
    "\n",
    "f1_best = 0\n",
    "for threshold in np.arange(0, 1.1, 0.02):\n",
    "    predicted_valid = probabilities_one_valid > threshold\n",
    "    f1 = f1_score(df_t_valid, predicted_valid)\n",
    "    if f1 > f1_best:\n",
    "        f1_best = f1\n",
    "        predicted_best = predicted_valid"
   ]
  },
  {
   "cell_type": "code",
   "execution_count": 65,
   "id": "bec8bd7e-c1bf-4d8b-bc34-f000077c7eab",
   "metadata": {},
   "outputs": [
    {
     "data": {
      "text/html": [
       "<div>\n",
       "<style scoped>\n",
       "    .dataframe tbody tr th:only-of-type {\n",
       "        vertical-align: middle;\n",
       "    }\n",
       "\n",
       "    .dataframe tbody tr th {\n",
       "        vertical-align: top;\n",
       "    }\n",
       "\n",
       "    .dataframe thead th {\n",
       "        text-align: right;\n",
       "    }\n",
       "</style>\n",
       "<table border=\"1\" class=\"dataframe\">\n",
       "  <thead>\n",
       "    <tr style=\"text-align: right;\">\n",
       "      <th></th>\n",
       "      <th>precision</th>\n",
       "      <th>recall</th>\n",
       "      <th>f1-score</th>\n",
       "      <th>support</th>\n",
       "    </tr>\n",
       "  </thead>\n",
       "  <tbody>\n",
       "    <tr>\n",
       "      <th>Non-exited</th>\n",
       "      <td>0.913015</td>\n",
       "      <td>0.889517</td>\n",
       "      <td>0.901113</td>\n",
       "      <td>1593.0000</td>\n",
       "    </tr>\n",
       "    <tr>\n",
       "      <th>exited</th>\n",
       "      <td>0.607143</td>\n",
       "      <td>0.668305</td>\n",
       "      <td>0.636257</td>\n",
       "      <td>407.0000</td>\n",
       "    </tr>\n",
       "    <tr>\n",
       "      <th>accuracy</th>\n",
       "      <td>0.844500</td>\n",
       "      <td>0.844500</td>\n",
       "      <td>0.844500</td>\n",
       "      <td>0.8445</td>\n",
       "    </tr>\n",
       "    <tr>\n",
       "      <th>macro avg</th>\n",
       "      <td>0.760079</td>\n",
       "      <td>0.778911</td>\n",
       "      <td>0.768685</td>\n",
       "      <td>2000.0000</td>\n",
       "    </tr>\n",
       "    <tr>\n",
       "      <th>weighted avg</th>\n",
       "      <td>0.850770</td>\n",
       "      <td>0.844500</td>\n",
       "      <td>0.847215</td>\n",
       "      <td>2000.0000</td>\n",
       "    </tr>\n",
       "  </tbody>\n",
       "</table>\n",
       "</div>"
      ],
      "text/plain": [
       "              precision    recall  f1-score    support\n",
       "Non-exited     0.913015  0.889517  0.901113  1593.0000\n",
       "exited         0.607143  0.668305  0.636257   407.0000\n",
       "accuracy       0.844500  0.844500  0.844500     0.8445\n",
       "macro avg      0.760079  0.778911  0.768685  2000.0000\n",
       "weighted avg   0.850770  0.844500  0.847215  2000.0000"
      ]
     },
     "execution_count": 65,
     "metadata": {},
     "output_type": "execute_result"
    }
   ],
   "source": [
    "report = classification_report(df_t_valid, predicted_best, target_names=['Non-exited', 'exited'], output_dict=True)\n",
    "report = pd.DataFrame(report).transpose()\n",
    "report"
   ]
  },
  {
   "cell_type": "code",
   "execution_count": 66,
   "id": "3519ad12-5cc5-4483-8726-88a3902f27a8",
   "metadata": {},
   "outputs": [
    {
     "name": "stdout",
     "output_type": "stream",
     "text": [
      "Площадь под кривой ROC: 0.8659\n"
     ]
    },
    {
     "data": {
      "image/png": "[encoded data removed]",
      "text/plain": [
       "<Figure size 400x400 with 1 Axes>"
      ]
     },
     "metadata": {},
     "output_type": "display_data"
    }
   ],
   "source": [
    "roc_auc_fig(model)"
   ]
  },
  {
   "cell_type": "markdown",
   "id": "342dbc16-f6a9-483d-ae9d-51e28b78cf31",
   "metadata": {},
   "source": [
    "**Вывод:**\n",
    "\n",
    "* Значения F1-меры стало больше, чем 0.59 - **0.636257**\n",
    "* Площадь под кривой ROC - **0.8659**\n",
    "\n",
    "Метрики качества соответствуют необходимому условию, такую модель можно использовать дальше."
   ]
  },
  {
   "cell_type": "markdown",
   "id": "4d85a306-3f67-4c65-b69b-d194d8def8b3",
   "metadata": {},
   "source": [
    "**Логистическая регрессия**"
   ]
  },
  {
   "cell_type": "code",
   "execution_count": 67,
   "id": "aa01444f-8b0d-4e2f-b361-cedbbfaa6298",
   "metadata": {},
   "outputs": [],
   "source": [
    "model = LogisticRegression(random_state=12345)\n",
    "model.fit(df_f_train, df_t_train)\n",
    "probabilities_valid = model.predict_proba(df_f_valid)\n",
    "probabilities_one_valid = probabilities_valid[:, 1]\n",
    "\n",
    "f1_best = 0\n",
    "for threshold in np.arange(0, 1.1, 0.02):\n",
    "    predicted_valid = probabilities_one_valid > threshold\n",
    "    f1 = f1_score(df_t_valid, predicted_valid)\n",
    "    if f1 > f1_best:\n",
    "        f1_best = f1\n",
    "        predicted_best = predicted_valid"
   ]
  },
  {
   "cell_type": "code",
   "execution_count": 68,
   "id": "cebccf12-ac3e-47e5-983f-e1e6995af3e7",
   "metadata": {},
   "outputs": [
    {
     "data": {
      "text/html": [
       "<div>\n",
       "<style scoped>\n",
       "    .dataframe tbody tr th:only-of-type {\n",
       "        vertical-align: middle;\n",
       "    }\n",
       "\n",
       "    .dataframe tbody tr th {\n",
       "        vertical-align: top;\n",
       "    }\n",
       "\n",
       "    .dataframe thead th {\n",
       "        text-align: right;\n",
       "    }\n",
       "</style>\n",
       "<table border=\"1\" class=\"dataframe\">\n",
       "  <thead>\n",
       "    <tr style=\"text-align: right;\">\n",
       "      <th></th>\n",
       "      <th>precision</th>\n",
       "      <th>recall</th>\n",
       "      <th>f1-score</th>\n",
       "      <th>support</th>\n",
       "    </tr>\n",
       "  </thead>\n",
       "  <tbody>\n",
       "    <tr>\n",
       "      <th>Non-exited</th>\n",
       "      <td>0.900145</td>\n",
       "      <td>0.780917</td>\n",
       "      <td>0.836303</td>\n",
       "      <td>1593.0000</td>\n",
       "    </tr>\n",
       "    <tr>\n",
       "      <th>exited</th>\n",
       "      <td>0.435275</td>\n",
       "      <td>0.660934</td>\n",
       "      <td>0.524878</td>\n",
       "      <td>407.0000</td>\n",
       "    </tr>\n",
       "    <tr>\n",
       "      <th>accuracy</th>\n",
       "      <td>0.756500</td>\n",
       "      <td>0.756500</td>\n",
       "      <td>0.756500</td>\n",
       "      <td>0.7565</td>\n",
       "    </tr>\n",
       "    <tr>\n",
       "      <th>macro avg</th>\n",
       "      <td>0.667710</td>\n",
       "      <td>0.720925</td>\n",
       "      <td>0.680590</td>\n",
       "      <td>2000.0000</td>\n",
       "    </tr>\n",
       "    <tr>\n",
       "      <th>weighted avg</th>\n",
       "      <td>0.805544</td>\n",
       "      <td>0.756500</td>\n",
       "      <td>0.772928</td>\n",
       "      <td>2000.0000</td>\n",
       "    </tr>\n",
       "  </tbody>\n",
       "</table>\n",
       "</div>"
      ],
      "text/plain": [
       "              precision    recall  f1-score    support\n",
       "Non-exited     0.900145  0.780917  0.836303  1593.0000\n",
       "exited         0.435275  0.660934  0.524878   407.0000\n",
       "accuracy       0.756500  0.756500  0.756500     0.7565\n",
       "macro avg      0.667710  0.720925  0.680590  2000.0000\n",
       "weighted avg   0.805544  0.756500  0.772928  2000.0000"
      ]
     },
     "execution_count": 68,
     "metadata": {},
     "output_type": "execute_result"
    }
   ],
   "source": [
    "report = classification_report(df_t_valid, predicted_best, target_names=['Non-exited', 'exited'], output_dict=True)\n",
    "report = pd.DataFrame(report).transpose()\n",
    "report"
   ]
  },
  {
   "cell_type": "code",
   "execution_count": 69,
   "id": "f4cf24b1-4638-4422-8b82-96c17fa03165",
   "metadata": {},
   "outputs": [
    {
     "name": "stdout",
     "output_type": "stream",
     "text": [
      "Площадь под кривой ROC: 0.7876\n"
     ]
    },
    {
     "data": {
      "image/png": "[encoded data removed]",
      "text/plain": [
       "<Figure size 400x400 with 1 Axes>"
      ]
     },
     "metadata": {},
     "output_type": "display_data"
    }
   ],
   "source": [
    "roc_auc_fig(model)"
   ]
  },
  {
   "cell_type": "markdown",
   "id": "3dc13027-786e-46eb-a731-6b4c686fd3e1",
   "metadata": {},
   "source": [
    "**Вывод:**\n",
    "\n",
    "* Значения F1-меры меньше, чем 0.59 - **0.524878**\n",
    "* Площадь под кривой ROC - **0.7876**\n",
    "Метрики качества не соответствуют необходимому условию, но метрики увеличились."
   ]
  },
  {
   "cell_type": "markdown",
   "id": "d11e6d00-4439-4ab5-ae84-22f3ac000dc5",
   "metadata": {},
   "source": [
    "**Вывод:**\n",
    "\n",
    "По 1-ой модели машинного обучения необходимое качество модели не достигнуто.\n",
    "\n",
    "Модель дерева решений и случайного леса смогли достичь метрики F1-меры до необходимых значений, причем модель случайного леса показала большее значение. Воспользуемся моделью случайного леса."
   ]
  },
  {
   "cell_type": "markdown",
   "id": "8f70421f-f7ec-4b94-8bc8-e476b0903c48",
   "metadata": {},
   "source": [
    "## Объединение способов"
   ]
  },
  {
   "cell_type": "markdown",
   "id": "4fb00a20-8571-4b99-bd62-cb23ed78664f",
   "metadata": {},
   "source": [
    "Для дальнейшего тестирования модели, попробуем объединить два способа борьбы с дисбалансом, которые выдали наибольшие значения метрик F1-меры:\n",
    "\n",
    "1. Увеличение выборки\n",
    "2. Подбор вероятности порога классификации\n",
    "\n",
    "Проверим качество модели при объединении двух способов. Если метрика будет выше - можно тестировать модель."
   ]
  },
  {
   "cell_type": "code",
   "execution_count": 70,
   "id": "e36052eb-a706-4884-9a19-7a5ff86c805e",
   "metadata": {},
   "outputs": [
    {
     "name": "stderr",
     "output_type": "stream",
     "text": [
      "100%|██████████| 5/5 [00:16<00:00,  3.34s/it]\n"
     ]
    }
   ],
   "source": [
    "# подбираем гиперпараметры на увеличенной выборке\n",
    "\n",
    "best_depth_f = 0\n",
    "best_est_f = 0\n",
    "f1_best_f = 0\n",
    "\n",
    "for est in tqdm(range(10, 51, 10)):\n",
    "    for depth in range (2, 11):\n",
    "        model = RandomForestClassifier(random_state=12345, n_estimators=est, max_depth=depth)\n",
    "        model.fit(df_f_upsampled, df_t_upsampled)\n",
    "        predictions_valid = model.predict(df_f_valid)\n",
    "        f1 = f1_score(df_t_valid, predictions_valid)\n",
    "        if f1 > f1_best_f:\n",
    "            best_depth_f = depth\n",
    "            best_est_f = est\n",
    "            f1_best_f = f1"
   ]
  },
  {
   "cell_type": "code",
   "execution_count": 71,
   "id": "7a027fa3-0e29-4745-a7c7-efbeda2d2b57",
   "metadata": {
    "tags": []
   },
   "outputs": [],
   "source": [
    "# подбираем порог классификации для обученной модели\n",
    "\n",
    "model = RandomForestClassifier(random_state=12345,\n",
    "                               n_estimators=best_est_f,\n",
    "                               max_depth=best_depth_f)\n",
    "model.fit(df_f_upsampled, df_t_upsampled)\n",
    "probabilities_valid = model.predict_proba(df_f_valid)\n",
    "probabilities_one_valid = probabilities_valid[:, 1]\n",
    "\n",
    "f1_best = 0\n",
    "for threshold in np.arange(0, 1.1, 0.02):\n",
    "    predicted_valid = probabilities_one_valid > threshold\n",
    "    f1 = f1_score(df_t_valid, predicted_valid)\n",
    "    if f1 > f1_best:\n",
    "        f1_best = f1\n",
    "        predicted_best = predicted_valid"
   ]
  },
  {
   "cell_type": "code",
   "execution_count": 72,
   "id": "51c5e665-00a2-48c7-93a8-0f83852fc778",
   "metadata": {
    "tags": []
   },
   "outputs": [
    {
     "data": {
      "text/html": [
       "<div>\n",
       "<style scoped>\n",
       "    .dataframe tbody tr th:only-of-type {\n",
       "        vertical-align: middle;\n",
       "    }\n",
       "\n",
       "    .dataframe tbody tr th {\n",
       "        vertical-align: top;\n",
       "    }\n",
       "\n",
       "    .dataframe thead th {\n",
       "        text-align: right;\n",
       "    }\n",
       "</style>\n",
       "<table border=\"1\" class=\"dataframe\">\n",
       "  <thead>\n",
       "    <tr style=\"text-align: right;\">\n",
       "      <th></th>\n",
       "      <th>precision</th>\n",
       "      <th>recall</th>\n",
       "      <th>f1-score</th>\n",
       "      <th>support</th>\n",
       "    </tr>\n",
       "  </thead>\n",
       "  <tbody>\n",
       "    <tr>\n",
       "      <th>Non-exited</th>\n",
       "      <td>0.923387</td>\n",
       "      <td>0.862524</td>\n",
       "      <td>0.891918</td>\n",
       "      <td>1593.0000</td>\n",
       "    </tr>\n",
       "    <tr>\n",
       "      <th>exited</th>\n",
       "      <td>0.572266</td>\n",
       "      <td>0.719902</td>\n",
       "      <td>0.637650</td>\n",
       "      <td>407.0000</td>\n",
       "    </tr>\n",
       "    <tr>\n",
       "      <th>accuracy</th>\n",
       "      <td>0.833500</td>\n",
       "      <td>0.833500</td>\n",
       "      <td>0.833500</td>\n",
       "      <td>0.8335</td>\n",
       "    </tr>\n",
       "    <tr>\n",
       "      <th>macro avg</th>\n",
       "      <td>0.747826</td>\n",
       "      <td>0.791213</td>\n",
       "      <td>0.764784</td>\n",
       "      <td>2000.0000</td>\n",
       "    </tr>\n",
       "    <tr>\n",
       "      <th>weighted avg</th>\n",
       "      <td>0.851934</td>\n",
       "      <td>0.833500</td>\n",
       "      <td>0.840175</td>\n",
       "      <td>2000.0000</td>\n",
       "    </tr>\n",
       "  </tbody>\n",
       "</table>\n",
       "</div>"
      ],
      "text/plain": [
       "              precision    recall  f1-score    support\n",
       "Non-exited     0.923387  0.862524  0.891918  1593.0000\n",
       "exited         0.572266  0.719902  0.637650   407.0000\n",
       "accuracy       0.833500  0.833500  0.833500     0.8335\n",
       "macro avg      0.747826  0.791213  0.764784  2000.0000\n",
       "weighted avg   0.851934  0.833500  0.840175  2000.0000"
      ]
     },
     "execution_count": 72,
     "metadata": {},
     "output_type": "execute_result"
    }
   ],
   "source": [
    "report = classification_report(df_t_valid, predicted_best, target_names=['Non-exited', 'exited'], output_dict=True)\n",
    "report = pd.DataFrame(report).transpose()\n",
    "report"
   ]
  },
  {
   "cell_type": "code",
   "execution_count": 73,
   "id": "98c95e86-3b05-455f-b104-130393e05ee9",
   "metadata": {
    "tags": []
   },
   "outputs": [
    {
     "name": "stdout",
     "output_type": "stream",
     "text": [
      "Площадь под кривой ROC: 0.8679\n"
     ]
    },
    {
     "data": {
      "image/png": "[encoded data removed]",
      "text/plain": [
       "<Figure size 400x400 with 1 Axes>"
      ]
     },
     "metadata": {},
     "output_type": "display_data"
    }
   ],
   "source": [
    "roc_auc_fig(model)"
   ]
  },
  {
   "cell_type": "markdown",
   "id": "5eb88269-4e41-44b6-97a6-96e2f258fd85",
   "metadata": {},
   "source": [
    "**Вывод:**\n",
    "\n",
    "Метрики модели выросли:\n",
    "\n",
    "* Значения F1-меры больше, чем **0.59** и больше полученных ранее способов - **0.637650**\n",
    "* Площадь под кривой ROC - **0.8679**\n",
    "\n",
    "Данный способ можно тестировать."
   ]
  },
  {
   "cell_type": "markdown",
   "id": "94124978-b3a4-49be-ab07-8d845c215bcc",
   "metadata": {},
   "source": [
    "## Тестирование модели"
   ]
  },
  {
   "cell_type": "markdown",
   "id": "0a4eb610-607e-468b-868a-e84be7d6a3c9",
   "metadata": {
    "tags": []
   },
   "source": [
    "Проведем тестирование модели на тестовой выборке с помощью:\n",
    "\n",
    "1. Модели случайного леса\n",
    "2. Увеличения выборки\n",
    "3. Подбора порога классификации\n",
    "\n",
    "Так как данный способ показал наивысшую метрику качества F1-меры - **0.637650**"
   ]
  },
  {
   "cell_type": "markdown",
   "id": "5a1d8d28-3a7e-4a3a-9659-296de50abaab",
   "metadata": {},
   "source": [
    "Прежде, чем проверять метрики лучшей модели и способа борьбы с дисбалансом, необходимо:\n",
    "\n",
    "* стандартизировать данные в тестовой выборке с помощью ранее обученной модели стандартизации\n",
    "* объединить обучающую и валидационную выборку и увеличить "
   ]
  },
  {
   "cell_type": "code",
   "execution_count": 74,
   "id": "cb895b5d-21a9-4098-8d3f-4a5a23c8fe59",
   "metadata": {
    "tags": []
   },
   "outputs": [],
   "source": [
    "# стандартизируем\n",
    "df_f_test[numeric] = scaler.transform(df_f_test[numeric])"
   ]
  },
  {
   "cell_type": "code",
   "execution_count": 75,
   "id": "8d47cc07-8be8-4ff9-b0e9-22a0221666d5",
   "metadata": {
    "tags": []
   },
   "outputs": [],
   "source": [
    "# объединяем финальные обучающие выборки\n",
    "final_f = pd.concat([df_f_train, df_f_valid])\n",
    "final_t = pd.concat([df_t_train, df_t_valid])"
   ]
  },
  {
   "cell_type": "markdown",
   "id": "a70e84b9-13d9-4685-956d-8bd8042e9866",
   "metadata": {},
   "source": [
    "Проверим дисбаланс классов:"
   ]
  },
  {
   "cell_type": "code",
   "execution_count": 76,
   "id": "6ae0efbc-49e9-4e2f-83be-9a1bb49b711f",
   "metadata": {
    "tags": []
   },
   "outputs": [
    {
     "data": {
      "text/plain": [
       "1630"
      ]
     },
     "metadata": {},
     "output_type": "display_data"
    },
    {
     "data": {
      "text/plain": [
       "8000"
      ]
     },
     "metadata": {},
     "output_type": "display_data"
    }
   ],
   "source": [
    "display(final_t.sum(), final_t.count())"
   ]
  },
  {
   "cell_type": "markdown",
   "id": "ab05ba4c-a347-491f-b39e-7ec3e396e807",
   "metadata": {},
   "source": [
    "Разница чуть меньше, чем в 5 раз.\n",
    "\n",
    "Увеличим выборку примерно в 4 раза и посмотрим результат."
   ]
  },
  {
   "cell_type": "code",
   "execution_count": 77,
   "id": "ed7dc25b-a252-48c8-8958-0167b5785101",
   "metadata": {},
   "outputs": [],
   "source": [
    "# увеличиваем выборку\n",
    "final_f, final_t = upsample(final_f, final_t, 4)"
   ]
  },
  {
   "cell_type": "code",
   "execution_count": 78,
   "id": "ef24482d-e26d-49c6-b93f-3bb57d16ac19",
   "metadata": {},
   "outputs": [],
   "source": [
    "model = RandomForestClassifier(random_state=12345,\n",
    "                               n_estimators=best_est_f,\n",
    "                               max_depth=best_depth_f)\n",
    "model.fit(final_f, final_t)\n",
    "probabilities = model.predict_proba(df_f_test)\n",
    "probabilities_one = probabilities[:, 1]\n",
    "\n",
    "predicted_best = []\n",
    "f1_best = 0\n",
    "for threshold in np.arange(0, 1.1, 0.02):\n",
    "    predicted = probabilities_one > threshold\n",
    "    f1 = f1_score(df_t_test, predicted)\n",
    "    if f1 > f1_best:\n",
    "        f1_best = f1\n",
    "        predicted_best = predicted"
   ]
  },
  {
   "cell_type": "code",
   "execution_count": 79,
   "id": "cf9b7d00-7776-4917-9f97-e2e534855953",
   "metadata": {},
   "outputs": [
    {
     "data": {
      "text/html": [
       "<div>\n",
       "<style scoped>\n",
       "    .dataframe tbody tr th:only-of-type {\n",
       "        vertical-align: middle;\n",
       "    }\n",
       "\n",
       "    .dataframe tbody tr th {\n",
       "        vertical-align: top;\n",
       "    }\n",
       "\n",
       "    .dataframe thead th {\n",
       "        text-align: right;\n",
       "    }\n",
       "</style>\n",
       "<table border=\"1\" class=\"dataframe\">\n",
       "  <thead>\n",
       "    <tr style=\"text-align: right;\">\n",
       "      <th></th>\n",
       "      <th>precision</th>\n",
       "      <th>recall</th>\n",
       "      <th>f1-score</th>\n",
       "      <th>support</th>\n",
       "    </tr>\n",
       "  </thead>\n",
       "  <tbody>\n",
       "    <tr>\n",
       "      <th>Non-exited</th>\n",
       "      <td>0.918758</td>\n",
       "      <td>0.873195</td>\n",
       "      <td>0.895397</td>\n",
       "      <td>1593.0000</td>\n",
       "    </tr>\n",
       "    <tr>\n",
       "      <th>exited</th>\n",
       "      <td>0.584362</td>\n",
       "      <td>0.697789</td>\n",
       "      <td>0.636058</td>\n",
       "      <td>407.0000</td>\n",
       "    </tr>\n",
       "    <tr>\n",
       "      <th>accuracy</th>\n",
       "      <td>0.837500</td>\n",
       "      <td>0.837500</td>\n",
       "      <td>0.837500</td>\n",
       "      <td>0.8375</td>\n",
       "    </tr>\n",
       "    <tr>\n",
       "      <th>macro avg</th>\n",
       "      <td>0.751560</td>\n",
       "      <td>0.785492</td>\n",
       "      <td>0.765728</td>\n",
       "      <td>2000.0000</td>\n",
       "    </tr>\n",
       "    <tr>\n",
       "      <th>weighted avg</th>\n",
       "      <td>0.850709</td>\n",
       "      <td>0.837500</td>\n",
       "      <td>0.842622</td>\n",
       "      <td>2000.0000</td>\n",
       "    </tr>\n",
       "  </tbody>\n",
       "</table>\n",
       "</div>"
      ],
      "text/plain": [
       "              precision    recall  f1-score    support\n",
       "Non-exited     0.918758  0.873195  0.895397  1593.0000\n",
       "exited         0.584362  0.697789  0.636058   407.0000\n",
       "accuracy       0.837500  0.837500  0.837500     0.8375\n",
       "macro avg      0.751560  0.785492  0.765728  2000.0000\n",
       "weighted avg   0.850709  0.837500  0.842622  2000.0000"
      ]
     },
     "execution_count": 79,
     "metadata": {},
     "output_type": "execute_result"
    }
   ],
   "source": [
    "report = classification_report(df_t_test, predicted_best, target_names=['Non-exited', 'exited'], output_dict=True)\n",
    "report = pd.DataFrame(report).transpose()\n",
    "report"
   ]
  },
  {
   "cell_type": "code",
   "execution_count": 80,
   "id": "31cdf545-5316-4d5f-8c96-8f4efb99e350",
   "metadata": {},
   "outputs": [
    {
     "name": "stdout",
     "output_type": "stream",
     "text": [
      "Площадь под кривой ROC: 0.8617\n"
     ]
    },
    {
     "data": {
      "image/png": "[encoded data removed]",
      "text/plain": [
       "<Figure size 400x400 with 1 Axes>"
      ]
     },
     "metadata": {},
     "output_type": "display_data"
    }
   ],
   "source": [
    "roc_auc_fig(model, df_f_test, df_t_test)"
   ]
  },
  {
   "cell_type": "markdown",
   "id": "eb262645-5d6d-4f7a-a6b6-4d90b43e6476",
   "metadata": {},
   "source": [
    "**Вывод:**\n",
    "\n",
    "* Значения F1-меры - **0.636058**\n",
    "* Площадь под кривой ROC - **0.8617**\n",
    "\n",
    "Необходимые метрики достигнуты."
   ]
  },
  {
   "cell_type": "markdown",
   "id": "6cbc36be-d602-4416-b7b1-e2f3c9186cdd",
   "metadata": {},
   "source": [
    "# Общий вывод"
   ]
  },
  {
   "cell_type": "markdown",
   "id": "ffe0e421-38e0-4e83-81ce-f6b13bc955a7",
   "metadata": {
    "tags": []
   },
   "source": [
    "Для полученных данных, чтобы получить наибольшие и необходимые значения F1-меры, необходимо использовать:\n",
    "\n",
    "1. Модель случайного леса\n",
    "2. Увеличение обучающей выборки\n",
    "3. Подбор порога вероятности положительного класса\n",
    "\n",
    "В таком случае метрики на протестированной модели получили данные значения:\n",
    "\n",
    "* F1-мера - **0.636058**\n",
    "* Площадь под кривой ROC - **0.8617**\n",
    "* Полнота - **0.697789**\n",
    "* Точность - **0.584362**"
   ]
  },
  {
   "cell_type": "code",
   "execution_count": null,
   "id": "a820967b-4f9b-49eb-9020-7e9eb7aea572",
   "metadata": {},
   "outputs": [],
   "source": []
  }
 ],
 "metadata": {
  "kernelspec": {
   "display_name": "Python 3 (ipykernel)",
   "language": "python",
   "name": "python3"
  },
  "language_info": {
   "codemirror_mode": {
    "name": "ipython",
    "version": 3
   },
   "file_extension": ".py",
   "mimetype": "text/x-python",
   "name": "python",
   "nbconvert_exporter": "python",
   "pygments_lexer": "ipython3",
   "version": "3.10.9"
  }
 },
 "nbformat": 4,
 "nbformat_minor": 5
}
