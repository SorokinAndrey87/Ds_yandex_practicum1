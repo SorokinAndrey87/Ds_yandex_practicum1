{
 "cells": [
  {
   "cell_type": "markdown",
   "id": "ac4d2464-fc44-48a8-9835-b118a3c8b6bc",
   "metadata": {},
   "source": [
    "# Проект по теме \"Численные методы\""
   ]
  },
  {
   "cell_type": "markdown",
   "id": "0cec7e80-dd32-49b1-97e3-3c850ce03cba",
   "metadata": {},
   "source": [
    "## \"Определение стоимости автомобилей\""
   ]
  },
  {
   "cell_type": "markdown",
   "id": "0030b088-8c6e-4af8-a325-0de9664cb8a0",
   "metadata": {},
   "source": [
    "**Описание проекта**\n",
    "* Компания по продаже б/у автомобилей разрабатывает новую функцию своего приложения. В нём можно автоматически определить рыночную стоимость своего автомобиля.\n",
    "\n",
    "**Цель:** \n",
    "* Необходимо построить модель для определения стоимости автомобилей на основании технических характеристик, комплектаций других данных."
   ]
  },
  {
   "cell_type": "markdown",
   "id": "8c739c17-d71e-410c-9d30-dc4d113be916",
   "metadata": {},
   "source": [
    "**Метрики оптимизации:**\n",
    "* Качество предсказания;\n",
    "* Скорость предсказания;\n",
    "* Время обучения."
   ]
  },
  {
   "cell_type": "markdown",
   "id": "e8a41352-34e2-45c0-9a0b-ffce0e074ad8",
   "metadata": {},
   "source": [
    "**Описание данных**\n",
    "\n",
    "**Признаки**\n",
    "* **`DateCrawled`** — дата скачивания анкеты из базы\n",
    "* **`VehicleType`** — тип автомобильного кузова\n",
    "* **`RegistrationYear`** — год регистрации автомобиля\n",
    "* **`Gearbox`** — тип коробки передач\n",
    "* **`Power`** — мощность (л. с.)\n",
    "* **`Model`** — модель автомобиля\n",
    "* **`Kilometer`** — пробег (км)\n",
    "* **`RegistrationMonth`** — месяц регистрации автомобиля\n",
    "* **`FuelType`** — тип топлива\n",
    "* **`Brand`** — марка автомобиля\n",
    "* **`Repaired`** — была машина в ремонте или нет\n",
    "* **`DateCreated`** — дата создания анкеты\n",
    "* **`NumberOfPictures`** — количество фотографий автомобиля\n",
    "* **`PostalCode`** — почтовый индекс владельца анкеты (пользователя)\n",
    "* **`LastSeen`** — дата последней активности пользователя\n",
    "\n",
    "**Целевой признак**\n",
    "* **`Price`** — цена (евро)"
   ]
  },
  {
   "cell_type": "markdown",
   "id": "2d9d3314-fe44-4432-92c9-2da9e3aa3929",
   "metadata": {},
   "source": [
    "**План выполнения работы:**\n",
    "* 1.Подготовка Данных\n",
    "  * 1.1 Изучение данных\n",
    "  * 1.2 Предобработка данных\n",
    "  * 1.3 Кодирование данных\n",
    "* 2.Обучение моделей\n",
    "* 3.Анализ моделей"
   ]
  },
  {
   "cell_type": "markdown",
   "id": "9bdaf4ae-692b-4dbf-a584-2a6d76b3623c",
   "metadata": {},
   "source": [
    "# 1. Подготовка данных"
   ]
  },
  {
   "cell_type": "markdown",
   "id": "69e51d50-3f9d-4cbf-a03a-c91b960ab437",
   "metadata": {
    "tags": []
   },
   "source": [
    "### 1.1 Изучение данных"
   ]
  },
  {
   "cell_type": "code",
   "execution_count": 1,
   "id": "9dbe245f-324c-4cc6-8ab8-ca75798cb369",
   "metadata": {},
   "outputs": [],
   "source": [
    "import pandas as pd\n",
    "import numpy as np\n",
    "import seaborn as sns\n",
    "import matplotlib.pyplot as plt\n",
    "import category_encoders as ce\n",
    "import time\n",
    "import os\n",
    "\n",
    "from scipy import stats as st\n",
    "from IPython.display import display\n",
    "from numpy.random import RandomState\n",
    "from scipy import stats\n",
    "\n",
    "from sklearn.tree import DecisionTreeRegressor\n",
    "from sklearn.preprocessing import StandardScaler, OneHotEncoder, OrdinalEncoder\n",
    "from sklearn.model_selection import train_test_split, cross_val_score, GridSearchCV\n",
    "from sklearn.linear_model import LinearRegression\n",
    "from sklearn.ensemble import GradientBoostingRegressor\n",
    "from sklearn.metrics import make_scorer\n",
    "from sklearn.metrics import mean_squared_error as mse\n",
    "from catboost import CatBoostRegressor\n",
    "from datetime import datetime\n",
    "from lightgbm import LGBMRegressor\n",
    "\n",
    "\n",
    "\n",
    "%matplotlib inline\n",
    "\n",
    "import warnings\n",
    "warnings.filterwarnings('ignore')  # \"error\", \"ignore\", \"always\", \"default\", \"module\" or \"once\""
   ]
  },
  {
   "cell_type": "code",
   "execution_count": 2,
   "id": "f29fe12e-76b0-4384-974c-94df5414a5ee",
   "metadata": {},
   "outputs": [],
   "source": [
    "pth1 = 'C:/Users/copok/Documents/Проекты/Яндекс Практикум/11 Определение стоимости автомобилей/autos.csv'\n",
    "pth2 = '/datasets/autos.csv'\n",
    "\n",
    "if os.path.exists(pth1):\n",
    "    df = pd.read_csv(pth1)\n",
    "elif os.path.exists(pth2):\n",
    "    df= pd.read_csv(pth2)\n",
    "else:\n",
    "    print('Something is wrong')"
   ]
  },
  {
   "cell_type": "code",
   "execution_count": 3,
   "id": "366b7834-d75c-4fc5-b3d1-ff62d58867a1",
   "metadata": {},
   "outputs": [],
   "source": [
    "def get_data_info(data):\n",
    "    display(data.sample(5))\n",
    "    print('-'*50)\n",
    "    display(data.info()) \n",
    "    print('-'*50)\n",
    "    display(data.isnull().sum()) \n",
    "    print('-'*50)\n",
    "    display(data.describe())\n",
    "    print('-'*50)\n",
    "    print('Количество дубликатов:', sum(data.duplicated()))"
   ]
  },
  {
   "cell_type": "code",
   "execution_count": 4,
   "id": "e5e5b1b6-0370-4071-8793-a866458c85f1",
   "metadata": {},
   "outputs": [
    {
     "data": {
      "text/html": [
       "<div>\n",
       "<style scoped>\n",
       "    .dataframe tbody tr th:only-of-type {\n",
       "        vertical-align: middle;\n",
       "    }\n",
       "\n",
       "    .dataframe tbody tr th {\n",
       "        vertical-align: top;\n",
       "    }\n",
       "\n",
       "    .dataframe thead th {\n",
       "        text-align: right;\n",
       "    }\n",
       "</style>\n",
       "<table border=\"1\" class=\"dataframe\">\n",
       "  <thead>\n",
       "    <tr style=\"text-align: right;\">\n",
       "      <th></th>\n",
       "      <th>DateCrawled</th>\n",
       "      <th>Price</th>\n",
       "      <th>VehicleType</th>\n",
       "      <th>RegistrationYear</th>\n",
       "      <th>Gearbox</th>\n",
       "      <th>Power</th>\n",
       "      <th>Model</th>\n",
       "      <th>Kilometer</th>\n",
       "      <th>RegistrationMonth</th>\n",
       "      <th>FuelType</th>\n",
       "      <th>Brand</th>\n",
       "      <th>Repaired</th>\n",
       "      <th>DateCreated</th>\n",
       "      <th>NumberOfPictures</th>\n",
       "      <th>PostalCode</th>\n",
       "      <th>LastSeen</th>\n",
       "    </tr>\n",
       "  </thead>\n",
       "  <tbody>\n",
       "    <tr>\n",
       "      <th>58093</th>\n",
       "      <td>2016-03-30 13:50:15</td>\n",
       "      <td>5950</td>\n",
       "      <td>sedan</td>\n",
       "      <td>2003</td>\n",
       "      <td>manual</td>\n",
       "      <td>150</td>\n",
       "      <td>a3</td>\n",
       "      <td>150000</td>\n",
       "      <td>10</td>\n",
       "      <td>petrol</td>\n",
       "      <td>audi</td>\n",
       "      <td>no</td>\n",
       "      <td>2016-03-30 00:00:00</td>\n",
       "      <td>0</td>\n",
       "      <td>96132</td>\n",
       "      <td>2016-04-07 04:44:47</td>\n",
       "    </tr>\n",
       "    <tr>\n",
       "      <th>129874</th>\n",
       "      <td>2016-03-23 00:36:57</td>\n",
       "      <td>6000</td>\n",
       "      <td>bus</td>\n",
       "      <td>2003</td>\n",
       "      <td>manual</td>\n",
       "      <td>136</td>\n",
       "      <td>touran</td>\n",
       "      <td>100000</td>\n",
       "      <td>8</td>\n",
       "      <td>gasoline</td>\n",
       "      <td>volkswagen</td>\n",
       "      <td>no</td>\n",
       "      <td>2016-03-22 00:00:00</td>\n",
       "      <td>0</td>\n",
       "      <td>94327</td>\n",
       "      <td>2016-04-05 03:17:12</td>\n",
       "    </tr>\n",
       "    <tr>\n",
       "      <th>157469</th>\n",
       "      <td>2016-03-12 18:51:01</td>\n",
       "      <td>1400</td>\n",
       "      <td>sedan</td>\n",
       "      <td>1999</td>\n",
       "      <td>manual</td>\n",
       "      <td>0</td>\n",
       "      <td>bora</td>\n",
       "      <td>125000</td>\n",
       "      <td>12</td>\n",
       "      <td>petrol</td>\n",
       "      <td>volkswagen</td>\n",
       "      <td>no</td>\n",
       "      <td>2016-03-12 00:00:00</td>\n",
       "      <td>0</td>\n",
       "      <td>79100</td>\n",
       "      <td>2016-03-16 00:46:54</td>\n",
       "    </tr>\n",
       "    <tr>\n",
       "      <th>258404</th>\n",
       "      <td>2016-03-06 15:38:14</td>\n",
       "      <td>1199</td>\n",
       "      <td>coupe</td>\n",
       "      <td>1997</td>\n",
       "      <td>manual</td>\n",
       "      <td>125</td>\n",
       "      <td>a3</td>\n",
       "      <td>150000</td>\n",
       "      <td>4</td>\n",
       "      <td>petrol</td>\n",
       "      <td>audi</td>\n",
       "      <td>no</td>\n",
       "      <td>2016-03-06 00:00:00</td>\n",
       "      <td>0</td>\n",
       "      <td>32832</td>\n",
       "      <td>2016-03-08 16:16:34</td>\n",
       "    </tr>\n",
       "    <tr>\n",
       "      <th>218865</th>\n",
       "      <td>2016-03-23 10:43:34</td>\n",
       "      <td>19800</td>\n",
       "      <td>convertible</td>\n",
       "      <td>2013</td>\n",
       "      <td>manual</td>\n",
       "      <td>122</td>\n",
       "      <td>eos</td>\n",
       "      <td>30000</td>\n",
       "      <td>0</td>\n",
       "      <td>petrol</td>\n",
       "      <td>volkswagen</td>\n",
       "      <td>no</td>\n",
       "      <td>2016-03-23 00:00:00</td>\n",
       "      <td>0</td>\n",
       "      <td>92318</td>\n",
       "      <td>2016-04-07 10:16:30</td>\n",
       "    </tr>\n",
       "  </tbody>\n",
       "</table>\n",
       "</div>"
      ],
      "text/plain": [
       "                DateCrawled  Price  VehicleType  RegistrationYear Gearbox  \\\n",
       "58093   2016-03-30 13:50:15   5950        sedan              2003  manual   \n",
       "129874  2016-03-23 00:36:57   6000          bus              2003  manual   \n",
       "157469  2016-03-12 18:51:01   1400        sedan              1999  manual   \n",
       "258404  2016-03-06 15:38:14   1199        coupe              1997  manual   \n",
       "218865  2016-03-23 10:43:34  19800  convertible              2013  manual   \n",
       "\n",
       "        Power   Model  Kilometer  RegistrationMonth  FuelType       Brand  \\\n",
       "58093     150      a3     150000                 10    petrol        audi   \n",
       "129874    136  touran     100000                  8  gasoline  volkswagen   \n",
       "157469      0    bora     125000                 12    petrol  volkswagen   \n",
       "258404    125      a3     150000                  4    petrol        audi   \n",
       "218865    122     eos      30000                  0    petrol  volkswagen   \n",
       "\n",
       "       Repaired          DateCreated  NumberOfPictures  PostalCode  \\\n",
       "58093        no  2016-03-30 00:00:00                 0       96132   \n",
       "129874       no  2016-03-22 00:00:00                 0       94327   \n",
       "157469       no  2016-03-12 00:00:00                 0       79100   \n",
       "258404       no  2016-03-06 00:00:00                 0       32832   \n",
       "218865       no  2016-03-23 00:00:00                 0       92318   \n",
       "\n",
       "                   LastSeen  \n",
       "58093   2016-04-07 04:44:47  \n",
       "129874  2016-04-05 03:17:12  \n",
       "157469  2016-03-16 00:46:54  \n",
       "258404  2016-03-08 16:16:34  \n",
       "218865  2016-04-07 10:16:30  "
      ]
     },
     "metadata": {},
     "output_type": "display_data"
    },
    {
     "name": "stdout",
     "output_type": "stream",
     "text": [
      "--------------------------------------------------\n",
      "<class 'pandas.core.frame.DataFrame'>\n",
      "RangeIndex: 354369 entries, 0 to 354368\n",
      "Data columns (total 16 columns):\n",
      " #   Column             Non-Null Count   Dtype \n",
      "---  ------             --------------   ----- \n",
      " 0   DateCrawled        354369 non-null  object\n",
      " 1   Price              354369 non-null  int64 \n",
      " 2   VehicleType        316879 non-null  object\n",
      " 3   RegistrationYear   354369 non-null  int64 \n",
      " 4   Gearbox            334536 non-null  object\n",
      " 5   Power              354369 non-null  int64 \n",
      " 6   Model              334664 non-null  object\n",
      " 7   Kilometer          354369 non-null  int64 \n",
      " 8   RegistrationMonth  354369 non-null  int64 \n",
      " 9   FuelType           321474 non-null  object\n",
      " 10  Brand              354369 non-null  object\n",
      " 11  Repaired           283215 non-null  object\n",
      " 12  DateCreated        354369 non-null  object\n",
      " 13  NumberOfPictures   354369 non-null  int64 \n",
      " 14  PostalCode         354369 non-null  int64 \n",
      " 15  LastSeen           354369 non-null  object\n",
      "dtypes: int64(7), object(9)\n",
      "memory usage: 43.3+ MB\n"
     ]
    },
    {
     "data": {
      "text/plain": [
       "None"
      ]
     },
     "metadata": {},
     "output_type": "display_data"
    },
    {
     "name": "stdout",
     "output_type": "stream",
     "text": [
      "--------------------------------------------------\n"
     ]
    },
    {
     "data": {
      "text/plain": [
       "DateCrawled              0\n",
       "Price                    0\n",
       "VehicleType          37490\n",
       "RegistrationYear         0\n",
       "Gearbox              19833\n",
       "Power                    0\n",
       "Model                19705\n",
       "Kilometer                0\n",
       "RegistrationMonth        0\n",
       "FuelType             32895\n",
       "Brand                    0\n",
       "Repaired             71154\n",
       "DateCreated              0\n",
       "NumberOfPictures         0\n",
       "PostalCode               0\n",
       "LastSeen                 0\n",
       "dtype: int64"
      ]
     },
     "metadata": {},
     "output_type": "display_data"
    },
    {
     "name": "stdout",
     "output_type": "stream",
     "text": [
      "--------------------------------------------------\n"
     ]
    },
    {
     "data": {
      "text/html": [
       "<div>\n",
       "<style scoped>\n",
       "    .dataframe tbody tr th:only-of-type {\n",
       "        vertical-align: middle;\n",
       "    }\n",
       "\n",
       "    .dataframe tbody tr th {\n",
       "        vertical-align: top;\n",
       "    }\n",
       "\n",
       "    .dataframe thead th {\n",
       "        text-align: right;\n",
       "    }\n",
       "</style>\n",
       "<table border=\"1\" class=\"dataframe\">\n",
       "  <thead>\n",
       "    <tr style=\"text-align: right;\">\n",
       "      <th></th>\n",
       "      <th>Price</th>\n",
       "      <th>RegistrationYear</th>\n",
       "      <th>Power</th>\n",
       "      <th>Kilometer</th>\n",
       "      <th>RegistrationMonth</th>\n",
       "      <th>NumberOfPictures</th>\n",
       "      <th>PostalCode</th>\n",
       "    </tr>\n",
       "  </thead>\n",
       "  <tbody>\n",
       "    <tr>\n",
       "      <th>count</th>\n",
       "      <td>354369.000000</td>\n",
       "      <td>354369.000000</td>\n",
       "      <td>354369.000000</td>\n",
       "      <td>354369.000000</td>\n",
       "      <td>354369.000000</td>\n",
       "      <td>354369.0</td>\n",
       "      <td>354369.000000</td>\n",
       "    </tr>\n",
       "    <tr>\n",
       "      <th>mean</th>\n",
       "      <td>4416.656776</td>\n",
       "      <td>2004.234448</td>\n",
       "      <td>110.094337</td>\n",
       "      <td>128211.172535</td>\n",
       "      <td>5.714645</td>\n",
       "      <td>0.0</td>\n",
       "      <td>50508.689087</td>\n",
       "    </tr>\n",
       "    <tr>\n",
       "      <th>std</th>\n",
       "      <td>4514.158514</td>\n",
       "      <td>90.227958</td>\n",
       "      <td>189.850405</td>\n",
       "      <td>37905.341530</td>\n",
       "      <td>3.726421</td>\n",
       "      <td>0.0</td>\n",
       "      <td>25783.096248</td>\n",
       "    </tr>\n",
       "    <tr>\n",
       "      <th>min</th>\n",
       "      <td>0.000000</td>\n",
       "      <td>1000.000000</td>\n",
       "      <td>0.000000</td>\n",
       "      <td>5000.000000</td>\n",
       "      <td>0.000000</td>\n",
       "      <td>0.0</td>\n",
       "      <td>1067.000000</td>\n",
       "    </tr>\n",
       "    <tr>\n",
       "      <th>25%</th>\n",
       "      <td>1050.000000</td>\n",
       "      <td>1999.000000</td>\n",
       "      <td>69.000000</td>\n",
       "      <td>125000.000000</td>\n",
       "      <td>3.000000</td>\n",
       "      <td>0.0</td>\n",
       "      <td>30165.000000</td>\n",
       "    </tr>\n",
       "    <tr>\n",
       "      <th>50%</th>\n",
       "      <td>2700.000000</td>\n",
       "      <td>2003.000000</td>\n",
       "      <td>105.000000</td>\n",
       "      <td>150000.000000</td>\n",
       "      <td>6.000000</td>\n",
       "      <td>0.0</td>\n",
       "      <td>49413.000000</td>\n",
       "    </tr>\n",
       "    <tr>\n",
       "      <th>75%</th>\n",
       "      <td>6400.000000</td>\n",
       "      <td>2008.000000</td>\n",
       "      <td>143.000000</td>\n",
       "      <td>150000.000000</td>\n",
       "      <td>9.000000</td>\n",
       "      <td>0.0</td>\n",
       "      <td>71083.000000</td>\n",
       "    </tr>\n",
       "    <tr>\n",
       "      <th>max</th>\n",
       "      <td>20000.000000</td>\n",
       "      <td>9999.000000</td>\n",
       "      <td>20000.000000</td>\n",
       "      <td>150000.000000</td>\n",
       "      <td>12.000000</td>\n",
       "      <td>0.0</td>\n",
       "      <td>99998.000000</td>\n",
       "    </tr>\n",
       "  </tbody>\n",
       "</table>\n",
       "</div>"
      ],
      "text/plain": [
       "               Price  RegistrationYear          Power      Kilometer  \\\n",
       "count  354369.000000     354369.000000  354369.000000  354369.000000   \n",
       "mean     4416.656776       2004.234448     110.094337  128211.172535   \n",
       "std      4514.158514         90.227958     189.850405   37905.341530   \n",
       "min         0.000000       1000.000000       0.000000    5000.000000   \n",
       "25%      1050.000000       1999.000000      69.000000  125000.000000   \n",
       "50%      2700.000000       2003.000000     105.000000  150000.000000   \n",
       "75%      6400.000000       2008.000000     143.000000  150000.000000   \n",
       "max     20000.000000       9999.000000   20000.000000  150000.000000   \n",
       "\n",
       "       RegistrationMonth  NumberOfPictures     PostalCode  \n",
       "count      354369.000000          354369.0  354369.000000  \n",
       "mean            5.714645               0.0   50508.689087  \n",
       "std             3.726421               0.0   25783.096248  \n",
       "min             0.000000               0.0    1067.000000  \n",
       "25%             3.000000               0.0   30165.000000  \n",
       "50%             6.000000               0.0   49413.000000  \n",
       "75%             9.000000               0.0   71083.000000  \n",
       "max            12.000000               0.0   99998.000000  "
      ]
     },
     "metadata": {},
     "output_type": "display_data"
    },
    {
     "name": "stdout",
     "output_type": "stream",
     "text": [
      "--------------------------------------------------\n",
      "Количество дубликатов: 4\n"
     ]
    }
   ],
   "source": [
    "get_data_info(df)"
   ]
  },
  {
   "cell_type": "markdown",
   "id": "47224212-3051-425b-aba2-1569ab8d3c5f",
   "metadata": {},
   "source": [
    "* Данные загружены в **df 354369 строк**\n",
    "* Имеются пропуски в столбцах тип кузова, тип кпп, модель, тип топлива и была ли машина в ремонте\n",
    "* Есть 4 дубликката\n"
   ]
  },
  {
   "cell_type": "markdown",
   "id": "eb6d6399-ae2e-427e-8693-6f2f2e7d66ad",
   "metadata": {},
   "source": [
    "### 1.2 Предобработка данных"
   ]
  },
  {
   "cell_type": "markdown",
   "id": "b8beeab1-c164-49db-a4df-0e30a0b61c11",
   "metadata": {},
   "source": [
    "**Сначало избавимся от дублокатов**"
   ]
  },
  {
   "cell_type": "code",
   "execution_count": 5,
   "id": "1940549f-86f7-4b76-a864-eebaa971daa5",
   "metadata": {},
   "outputs": [
    {
     "name": "stdout",
     "output_type": "stream",
     "text": [
      "Количество дубликатов: 0\n"
     ]
    }
   ],
   "source": [
    "df = df.drop_duplicates()\n",
    "print('Количество дубликатов:', sum(df.duplicated()))"
   ]
  },
  {
   "cell_type": "code",
   "execution_count": 6,
   "id": "31d15c3b-60c9-48a8-adac-29d4849d900e",
   "metadata": {},
   "outputs": [
    {
     "data": {
      "text/html": [
       "<div>\n",
       "<style scoped>\n",
       "    .dataframe tbody tr th:only-of-type {\n",
       "        vertical-align: middle;\n",
       "    }\n",
       "\n",
       "    .dataframe tbody tr th {\n",
       "        vertical-align: top;\n",
       "    }\n",
       "\n",
       "    .dataframe thead th {\n",
       "        text-align: right;\n",
       "    }\n",
       "</style>\n",
       "<table border=\"1\" class=\"dataframe\">\n",
       "  <thead>\n",
       "    <tr style=\"text-align: right;\">\n",
       "      <th></th>\n",
       "      <th>datecrawled</th>\n",
       "      <th>price</th>\n",
       "      <th>vehicletype</th>\n",
       "      <th>registrationyear</th>\n",
       "      <th>gearbox</th>\n",
       "      <th>power</th>\n",
       "      <th>model</th>\n",
       "      <th>kilometer</th>\n",
       "      <th>registrationmonth</th>\n",
       "      <th>fueltype</th>\n",
       "      <th>brand</th>\n",
       "      <th>repaired</th>\n",
       "      <th>datecreated</th>\n",
       "      <th>numberofpictures</th>\n",
       "      <th>postalcode</th>\n",
       "      <th>lastseen</th>\n",
       "    </tr>\n",
       "  </thead>\n",
       "  <tbody>\n",
       "    <tr>\n",
       "      <th>0</th>\n",
       "      <td>2016-03-24 11:52:17</td>\n",
       "      <td>480</td>\n",
       "      <td>NaN</td>\n",
       "      <td>1993</td>\n",
       "      <td>manual</td>\n",
       "      <td>0</td>\n",
       "      <td>golf</td>\n",
       "      <td>150000</td>\n",
       "      <td>0</td>\n",
       "      <td>petrol</td>\n",
       "      <td>volkswagen</td>\n",
       "      <td>NaN</td>\n",
       "      <td>2016-03-24 00:00:00</td>\n",
       "      <td>0</td>\n",
       "      <td>70435</td>\n",
       "      <td>2016-04-07 03:16:57</td>\n",
       "    </tr>\n",
       "    <tr>\n",
       "      <th>1</th>\n",
       "      <td>2016-03-24 10:58:45</td>\n",
       "      <td>18300</td>\n",
       "      <td>coupe</td>\n",
       "      <td>2011</td>\n",
       "      <td>manual</td>\n",
       "      <td>190</td>\n",
       "      <td>NaN</td>\n",
       "      <td>125000</td>\n",
       "      <td>5</td>\n",
       "      <td>gasoline</td>\n",
       "      <td>audi</td>\n",
       "      <td>yes</td>\n",
       "      <td>2016-03-24 00:00:00</td>\n",
       "      <td>0</td>\n",
       "      <td>66954</td>\n",
       "      <td>2016-04-07 01:46:50</td>\n",
       "    </tr>\n",
       "    <tr>\n",
       "      <th>2</th>\n",
       "      <td>2016-03-14 12:52:21</td>\n",
       "      <td>9800</td>\n",
       "      <td>suv</td>\n",
       "      <td>2004</td>\n",
       "      <td>auto</td>\n",
       "      <td>163</td>\n",
       "      <td>grand</td>\n",
       "      <td>125000</td>\n",
       "      <td>8</td>\n",
       "      <td>gasoline</td>\n",
       "      <td>jeep</td>\n",
       "      <td>NaN</td>\n",
       "      <td>2016-03-14 00:00:00</td>\n",
       "      <td>0</td>\n",
       "      <td>90480</td>\n",
       "      <td>2016-04-05 12:47:46</td>\n",
       "    </tr>\n",
       "    <tr>\n",
       "      <th>3</th>\n",
       "      <td>2016-03-17 16:54:04</td>\n",
       "      <td>1500</td>\n",
       "      <td>small</td>\n",
       "      <td>2001</td>\n",
       "      <td>manual</td>\n",
       "      <td>75</td>\n",
       "      <td>golf</td>\n",
       "      <td>150000</td>\n",
       "      <td>6</td>\n",
       "      <td>petrol</td>\n",
       "      <td>volkswagen</td>\n",
       "      <td>no</td>\n",
       "      <td>2016-03-17 00:00:00</td>\n",
       "      <td>0</td>\n",
       "      <td>91074</td>\n",
       "      <td>2016-03-17 17:40:17</td>\n",
       "    </tr>\n",
       "    <tr>\n",
       "      <th>4</th>\n",
       "      <td>2016-03-31 17:25:20</td>\n",
       "      <td>3600</td>\n",
       "      <td>small</td>\n",
       "      <td>2008</td>\n",
       "      <td>manual</td>\n",
       "      <td>69</td>\n",
       "      <td>fabia</td>\n",
       "      <td>90000</td>\n",
       "      <td>7</td>\n",
       "      <td>gasoline</td>\n",
       "      <td>skoda</td>\n",
       "      <td>no</td>\n",
       "      <td>2016-03-31 00:00:00</td>\n",
       "      <td>0</td>\n",
       "      <td>60437</td>\n",
       "      <td>2016-04-06 10:17:21</td>\n",
       "    </tr>\n",
       "  </tbody>\n",
       "</table>\n",
       "</div>"
      ],
      "text/plain": [
       "           datecrawled  price vehicletype  registrationyear gearbox  power  \\\n",
       "0  2016-03-24 11:52:17    480         NaN              1993  manual      0   \n",
       "1  2016-03-24 10:58:45  18300       coupe              2011  manual    190   \n",
       "2  2016-03-14 12:52:21   9800         suv              2004    auto    163   \n",
       "3  2016-03-17 16:54:04   1500       small              2001  manual     75   \n",
       "4  2016-03-31 17:25:20   3600       small              2008  manual     69   \n",
       "\n",
       "   model  kilometer  registrationmonth  fueltype       brand repaired  \\\n",
       "0   golf     150000                  0    petrol  volkswagen      NaN   \n",
       "1    NaN     125000                  5  gasoline        audi      yes   \n",
       "2  grand     125000                  8  gasoline        jeep      NaN   \n",
       "3   golf     150000                  6    petrol  volkswagen       no   \n",
       "4  fabia      90000                  7  gasoline       skoda       no   \n",
       "\n",
       "           datecreated  numberofpictures  postalcode             lastseen  \n",
       "0  2016-03-24 00:00:00                 0       70435  2016-04-07 03:16:57  \n",
       "1  2016-03-24 00:00:00                 0       66954  2016-04-07 01:46:50  \n",
       "2  2016-03-14 00:00:00                 0       90480  2016-04-05 12:47:46  \n",
       "3  2016-03-17 00:00:00                 0       91074  2016-03-17 17:40:17  \n",
       "4  2016-03-31 00:00:00                 0       60437  2016-04-06 10:17:21  "
      ]
     },
     "execution_count": 6,
     "metadata": {},
     "output_type": "execute_result"
    }
   ],
   "source": [
    "# воспользуемся методом str.lower() для приведения названий столбцов к нижнему регистру\n",
    "df.columns = df.columns.str.lower()\n",
    "df.head()"
   ]
  },
  {
   "cell_type": "markdown",
   "id": "0125ff1c-5856-40cf-a827-51220fecbf6e",
   "metadata": {},
   "source": [
    "**Ознакомимся с содержимым признаков.**"
   ]
  },
  {
   "cell_type": "markdown",
   "id": "1b952101-27d6-4353-bc09-44c2bc7bde80",
   "metadata": {},
   "source": [
    "**Price**"
   ]
  },
  {
   "cell_type": "code",
   "execution_count": 7,
   "id": "d6672d9d-d553-435b-ad77-1cf9548ef5d5",
   "metadata": {},
   "outputs": [
    {
     "data": {
      "image/png": "[encoded data removed]",
      "text/plain": [
       "<Figure size 1000x500 with 1 Axes>"
      ]
     },
     "metadata": {},
     "output_type": "display_data"
    }
   ],
   "source": [
    "fig, ax = plt.subplots(figsize=(10, 5))\n",
    "sns.distplot(df['price'], bins= 100)\n",
    "ax.set_title('Распределение по Цене')\n",
    "plt.xlabel('Цена')\n",
    "plt.ylabel('Плотность частоты');\n",
    "plt.show()"
   ]
  },
  {
   "cell_type": "markdown",
   "id": "e4dfa983-c8e0-445a-96c2-c545e25f8000",
   "metadata": {},
   "source": [
    "* Замечаем, что есть нулевые и околонулевые значения."
   ]
  },
  {
   "cell_type": "code",
   "execution_count": 8,
   "id": "ccf0512b-1c24-4193-9b98-efc5a14a2150",
   "metadata": {},
   "outputs": [
    {
     "data": {
      "text/plain": [
       "datecrawled          19448\n",
       "price                19448\n",
       "vehicletype          12828\n",
       "registrationyear     19448\n",
       "gearbox              14889\n",
       "power                19448\n",
       "model                16107\n",
       "kilometer            19448\n",
       "registrationmonth    19448\n",
       "fueltype             13314\n",
       "brand                19448\n",
       "repaired              9899\n",
       "datecreated          19448\n",
       "numberofpictures     19448\n",
       "postalcode           19448\n",
       "lastseen             19448\n",
       "dtype: int64"
      ]
     },
     "execution_count": 8,
     "metadata": {},
     "output_type": "execute_result"
    }
   ],
   "source": [
    "df.query('price <= 200').count()"
   ]
  },
  {
   "cell_type": "markdown",
   "id": "6536ed7a-03f3-4fbb-af0d-7179a5764c15",
   "metadata": {},
   "source": [
    "19448* Установим минимальный ценник в 100 евро. Значения ниже будем отсеивать. В нашем случае это 19448 из 354369 или ~5.5%. Приемлимо."
   ]
  },
  {
   "cell_type": "code",
   "execution_count": 9,
   "id": "7e92c54f-ba97-4f08-ad66-3c5783a9a228",
   "metadata": {},
   "outputs": [],
   "source": [
    "df = df.query('price >= 200')"
   ]
  },
  {
   "cell_type": "markdown",
   "id": "9c3067c9-b7fd-4675-913f-bf7acb73aa3c",
   "metadata": {},
   "source": [
    "**Тип автомобильного кузова. VehicleType.**"
   ]
  },
  {
   "cell_type": "markdown",
   "id": "47f32691-5858-48e3-b608-1ecf0b028402",
   "metadata": {},
   "source": [
    "* тип кузова заменим на 'unknown' т.к пропущено 37490 строк это 10,5% от df"
   ]
  },
  {
   "cell_type": "code",
   "execution_count": 10,
   "id": "eadf0b3c-caa8-4286-8e64-6a5738cebeb9",
   "metadata": {},
   "outputs": [],
   "source": [
    "df['vehicletype'] = df['vehicletype'].fillna('unknown')"
   ]
  },
  {
   "cell_type": "markdown",
   "id": "9727d14d-0715-4066-8651-6a2b70252bb3",
   "metadata": {},
   "source": [
    "**Год регистрации автомобиля. RegistrationYear.**"
   ]
  },
  {
   "cell_type": "code",
   "execution_count": 11,
   "id": "77e30022-9443-4aee-8798-4c3f72c43861",
   "metadata": {},
   "outputs": [
    {
     "data": {
      "text/plain": [
       "array([1993, 2011, 2004, 2001, 2008, 1995, 2014, 1998, 2005, 1910, 2016,\n",
       "       2007, 2009, 2002, 2018, 1997, 1990, 2017, 1981, 2003, 1994, 1991,\n",
       "       1984, 2006, 1999, 2012, 2010, 2000, 1992, 2013, 1996, 1989, 2015,\n",
       "       1985, 1982, 1976, 1983, 1973, 1969, 1971, 1987, 1988, 1980, 1970,\n",
       "       1986, 1965, 1945, 1925, 1974, 1979, 1955, 1978, 1972, 1968, 1977,\n",
       "       1961, 1966, 1975, 1963, 1964, 1960, 1958, 1967, 1956, 3200, 1941,\n",
       "       9999, 8888, 1500, 2200, 4100, 1962, 1929, 1957, 1940, 2066, 1949,\n",
       "       2019, 1937, 1951, 1800, 1959, 1953, 1954, 1234, 5300, 9000, 2900,\n",
       "       6000, 5900, 1000, 5911, 1400, 5000, 4000, 1948, 1952, 8500, 1932,\n",
       "       1950, 3700, 3800, 4800, 1942, 7000, 1935, 1933, 1936, 3000, 1923,\n",
       "       2290, 1930, 1001, 9450, 1944, 2500, 1943, 1938, 1934, 1928, 5555,\n",
       "       1600, 1111, 1039, 2800, 1931, 4500, 1602, 7800, 1947, 1927, 7100,\n",
       "       1300, 8200, 1946], dtype=int64)"
      ]
     },
     "execution_count": 11,
     "metadata": {},
     "output_type": "execute_result"
    }
   ],
   "source": [
    "df['registrationyear'].unique()"
   ]
  },
  {
   "cell_type": "code",
   "execution_count": 12,
   "id": "ee2b3fc4-ae6b-4081-ad4a-906c4ddb4e33",
   "metadata": {},
   "outputs": [],
   "source": [
    "#df.query('registrationyear < 1980 or registrationyear > 2020')\n",
    "df = df.query('registrationyear >= 1980 and registrationyear <= 2020')"
   ]
  },
  {
   "cell_type": "code",
   "execution_count": 13,
   "id": "ab5ea1de-77c2-4904-8715-55b79708b982",
   "metadata": {
    "tags": []
   },
   "outputs": [
    {
     "data": {
      "image/png": "[encoded data removed]",
      "text/plain": [
       "<Figure size 1000x500 with 1 Axes>"
      ]
     },
     "metadata": {},
     "output_type": "display_data"
    }
   ],
   "source": [
    "sns.set()\n",
    "fig, ax = plt.subplots(figsize=(10, 5))\n",
    "sns.distplot(df['registrationyear'], bins=len(df['registrationyear'].unique()))\n",
    "ax.set_title('Распределение по году')\n",
    "plt.ylabel('Плотность частоты');"
   ]
  },
  {
   "cell_type": "markdown",
   "id": "d98d933b-e1cb-4f33-90dd-6af3759a2b11",
   "metadata": {},
   "source": [
    "* Замечаем очень много невероятных значений - больше 2019 года т.к актуальные данные заканчиваются 2019г и меньше 1886 Т.к. первый автомобиль был создан в 1886 году \n",
    "* Нужно отсеивать.\n",
    "* Опотным путем выбрал интервал с 1980-2020гг\n",
    "* Отсеели 3137 строк что меньше 1%"
   ]
  },
  {
   "cell_type": "markdown",
   "id": "887e502e-69a1-4e6c-9832-c9f7dbcf5986",
   "metadata": {},
   "source": [
    "**Тип коробки передач. Gearbox.**"
   ]
  },
  {
   "cell_type": "markdown",
   "id": "afa337f7-87f6-458b-87f2-04aa9eb94747",
   "metadata": {},
   "source": [
    "Пропущены значений 19833 это много так что заменим пропуски на 'unknown' "
   ]
  },
  {
   "cell_type": "code",
   "execution_count": 14,
   "id": "d4ebe87d-9b8c-4e1f-a1e5-4380944ce86a",
   "metadata": {},
   "outputs": [],
   "source": [
    "df['gearbox'] = df['gearbox'].fillna('unknown')"
   ]
  },
  {
   "cell_type": "markdown",
   "id": "fe10f686-bd97-4dd5-9ad2-7c17ff790ffe",
   "metadata": {},
   "source": [
    "**Мощность (л. с.). Power**"
   ]
  },
  {
   "cell_type": "code",
   "execution_count": 15,
   "id": "4a3a3eb9-360c-4c41-a20f-d833d36469f3",
   "metadata": {},
   "outputs": [
    {
     "data": {
      "text/plain": [
       "count    333803.000000\n",
       "mean        112.400416\n",
       "std         186.549152\n",
       "min           0.000000\n",
       "25%          73.000000\n",
       "50%         105.000000\n",
       "75%         143.000000\n",
       "max       20000.000000\n",
       "Name: power, dtype: float64"
      ]
     },
     "execution_count": 15,
     "metadata": {},
     "output_type": "execute_result"
    }
   ],
   "source": [
    "df['power'].describe()"
   ]
  },
  {
   "cell_type": "markdown",
   "id": "3b470cbd-c18f-4c93-8272-559b846f2bb0",
   "metadata": {},
   "source": [
    "* Исходя из логики мы понимаем что мощность не может быть равна 0 и не может привышать(если это конечно не спорткар) 600л.с\n",
    "* Так что возьмен интервал от 1 до 600л.с\n"
   ]
  },
  {
   "cell_type": "code",
   "execution_count": 16,
   "id": "7fc3974a-ba89-4edd-a3e9-ba244b77fdf7",
   "metadata": {},
   "outputs": [],
   "source": [
    "#df.query('power < 30 or power > 600')\n",
    "# такмх строк 35116 примерно 10% многовато но и работать с такими данными нельзя так что убираем\n",
    "df = df.query('power >= 30 and power <= 600')"
   ]
  },
  {
   "cell_type": "markdown",
   "id": "b9d9185d-71b1-438d-af42-27ab7532eea6",
   "metadata": {},
   "source": [
    "**Модель автомобиля. Model.**"
   ]
  },
  {
   "cell_type": "markdown",
   "id": "078cdeae-a2a9-4f61-9a7b-2c953196ef5a",
   "metadata": {},
   "source": [
    "Неопределенных значений 19705. Заменим пропуски на значение \"unknown\"."
   ]
  },
  {
   "cell_type": "code",
   "execution_count": 17,
   "id": "f0a5e93f-1f39-4124-b58d-ff997876492e",
   "metadata": {},
   "outputs": [],
   "source": [
    "df['model'] = df['model'].fillna('unknown')"
   ]
  },
  {
   "cell_type": "markdown",
   "id": "23387938-d09b-457b-b492-2f82775a9a21",
   "metadata": {},
   "source": [
    "**Пробег. Kilometer.**"
   ]
  },
  {
   "cell_type": "markdown",
   "id": "31996e78-051c-4786-a385-9342529014fa",
   "metadata": {},
   "source": [
    "С этими данными все хорошо, пропусков нет"
   ]
  },
  {
   "cell_type": "markdown",
   "id": "1ce3b3a1-cab6-4bfb-a6ad-9dc97f775c3e",
   "metadata": {},
   "source": [
    "**Месяц регистрации автомобиля. RegistrationMonth.**"
   ]
  },
  {
   "cell_type": "code",
   "execution_count": 18,
   "id": "89883bde-869b-47a6-a158-b497bb07d0b7",
   "metadata": {},
   "outputs": [
    {
     "data": {
      "text/plain": [
       "array([ 5,  8,  6,  7, 10,  0, 12, 11,  2,  3,  1,  4,  9], dtype=int64)"
      ]
     },
     "execution_count": 18,
     "metadata": {},
     "output_type": "execute_result"
    }
   ],
   "source": [
    "df['registrationmonth'].unique()"
   ]
  },
  {
   "cell_type": "markdown",
   "id": "54032ad3-e69e-4d39-a7b0-e77fe7933c06",
   "metadata": {},
   "source": [
    "* Значение 0 в логику не вкладывается.\n",
    "* Посмотрим сколько таких данных и примем решение что с ними делать"
   ]
  },
  {
   "cell_type": "code",
   "execution_count": 19,
   "id": "21996940-c172-4ec2-bef7-41490031db75",
   "metadata": {},
   "outputs": [
    {
     "data": {
      "text/plain": [
       "datecrawled          18735\n",
       "price                18735\n",
       "vehicletype          18735\n",
       "registrationyear     18735\n",
       "gearbox              18735\n",
       "power                18735\n",
       "model                18735\n",
       "kilometer            18735\n",
       "registrationmonth    18735\n",
       "fueltype             14009\n",
       "brand                18735\n",
       "repaired              9483\n",
       "datecreated          18735\n",
       "numberofpictures     18735\n",
       "postalcode           18735\n",
       "lastseen             18735\n",
       "dtype: int64"
      ]
     },
     "execution_count": 19,
     "metadata": {},
     "output_type": "execute_result"
    }
   ],
   "source": [
    "df.query('registrationmonth == 0').count()"
   ]
  },
  {
   "cell_type": "markdown",
   "id": "482d6d12-eede-46dd-b544-8a71929418db",
   "metadata": {},
   "source": [
    "19708 строк. Многовато попробуем заменить на 1.  После чего данные год регистрации и месяц регистрации приведем к одной дате и **рассчитаем возраст** автомобиля на момент создания анкеты."
   ]
  },
  {
   "cell_type": "code",
   "execution_count": 20,
   "id": "7e2184ad-3a45-4888-a0a7-c6629d14f4ea",
   "metadata": {},
   "outputs": [],
   "source": [
    "df['registrationmonth'] = df['registrationmonth'].replace(0, 1)"
   ]
  },
  {
   "cell_type": "markdown",
   "id": "6f226371-e6b0-4347-948a-738f69974d52",
   "metadata": {},
   "source": [
    "**Расчет возраста автомобиля на момент публикации**"
   ]
  },
  {
   "cell_type": "markdown",
   "id": "f57347bf-1491-488e-9282-df4e668529a9",
   "metadata": {},
   "source": [
    "На основании года и месяца регистрации найдем дату регистрации. Отталвиваясь от этой даты и даты создания анкеты найдем возраст машины. Округлим до целых. Т.к. при покупке автомобиля пользователи, обычно, смотрят именно на целое число лет, дроби их не интересуют, поэтому ими мы можем пренебречь."
   ]
  },
  {
   "cell_type": "code",
   "execution_count": 21,
   "id": "cab820bf-e271-4d76-a8ac-62fc04931768",
   "metadata": {},
   "outputs": [],
   "source": [
    "def gen_date(row):\n",
    "    return datetime(row['registrationyear'], row['registrationmonth'], 1)"
   ]
  },
  {
   "cell_type": "code",
   "execution_count": 22,
   "id": "4f91d9b9-2d13-4862-9ea0-5c7755b01f67",
   "metadata": {},
   "outputs": [
    {
     "name": "stdout",
     "output_type": "stream",
     "text": [
      "CPU times: total: 3.61 s\n",
      "Wall time: 3.6 s\n"
     ]
    }
   ],
   "source": [
    "%%time\n",
    "df['reg_date'] = df.apply(gen_date, axis = 1)"
   ]
  },
  {
   "cell_type": "code",
   "execution_count": 23,
   "id": "671abc5b-d72d-4668-898b-bf3ff6d5e366",
   "metadata": {},
   "outputs": [],
   "source": [
    "df['datecreated'] = pd.to_datetime(df['datecreated'])"
   ]
  },
  {
   "cell_type": "code",
   "execution_count": 24,
   "id": "71bdaa50-fe02-4e17-bb26-2a90fdf5ae29",
   "metadata": {},
   "outputs": [],
   "source": [
    "df['age'] = df['datecreated'] - df['reg_date']\n",
    "df['age'] = df['age']/np.timedelta64(1,'Y')"
   ]
  },
  {
   "cell_type": "code",
   "execution_count": 25,
   "id": "7aa382b1-2d89-4eb1-8b9c-71636e23f658",
   "metadata": {},
   "outputs": [],
   "source": [
    "df['age'] = round(df['age'], 0)"
   ]
  },
  {
   "cell_type": "code",
   "execution_count": 26,
   "id": "541bcce0-65d2-4d60-88af-d351fd517d09",
   "metadata": {},
   "outputs": [
    {
     "data": {
      "image/png": "[encoded data removed]",
      "text/plain": [
       "<Figure size 1000x500 with 1 Axes>"
      ]
     },
     "metadata": {},
     "output_type": "display_data"
    }
   ],
   "source": [
    "sns.set()\n",
    "fig, ax = plt.subplots(figsize=(10,5))\n",
    "sns.distplot(df['age'], bins=len(df['age'].unique()))\n",
    "ax.set_title('Распределение по возрасту')\n",
    "plt.ylabel('Плотность частоты');"
   ]
  },
  {
   "cell_type": "markdown",
   "id": "d0a33f6b-084f-4a66-86d8-ce92616a7b0e",
   "metadata": {},
   "source": [
    "Проверяем отрицательные значения возраста - дата публикации раньше даты регистрации."
   ]
  },
  {
   "cell_type": "code",
   "execution_count": 27,
   "id": "1be16c5d-173f-4b34-98b3-7587cd7dd1fe",
   "metadata": {},
   "outputs": [
    {
     "name": "stdout",
     "output_type": "stream",
     "text": [
      "Колличество аномальных значений: 4 %\n"
     ]
    }
   ],
   "source": [
    "print('Колличество аномальных значений:',\n",
    "      round(df[df['age'] < 0].shape[0] / df.shape[0] * 100),'%')"
   ]
  },
  {
   "cell_type": "markdown",
   "id": "039db2e9-2234-4f6f-b1f2-224bf99ee963",
   "metadata": {},
   "source": [
    "Значений много (~4%), но избавиться от них нужно"
   ]
  },
  {
   "cell_type": "code",
   "execution_count": 28,
   "id": "6cf56fd2-2099-4872-bea6-6db97a21e51e",
   "metadata": {},
   "outputs": [],
   "source": [
    "df = df.query('age >=0')"
   ]
  },
  {
   "cell_type": "code",
   "execution_count": 29,
   "id": "871ad275-376e-4fd8-892b-ef1b0b20b3fa",
   "metadata": {},
   "outputs": [
    {
     "name": "stdout",
     "output_type": "stream",
     "text": [
      "Колличество аномальных значений: 0 %\n"
     ]
    }
   ],
   "source": [
    "print('Колличество аномальных значений:',\n",
    "      round(df[df['age'] < 0].shape[0] / df.shape[0] * 100),'%')"
   ]
  },
  {
   "cell_type": "markdown",
   "id": "aa13ade7-3da0-4d52-989b-f7be9f33dbec",
   "metadata": {},
   "source": [
    "**Тип топлива. FuelType.**"
   ]
  },
  {
   "cell_type": "markdown",
   "id": "6e9195b2-0b27-4106-b1d9-d084053dd902",
   "metadata": {},
   "source": [
    "Неопределенных значений 32895. Заменим пропуски на значение \"unknown\"."
   ]
  },
  {
   "cell_type": "code",
   "execution_count": 30,
   "id": "bc642de0-31c4-45af-ab6f-8e2218b7baa6",
   "metadata": {},
   "outputs": [],
   "source": [
    "df['fueltype'] = df['fueltype'].fillna('unknown')"
   ]
  },
  {
   "cell_type": "markdown",
   "id": "52387796-753c-45dc-a3cf-10a4da684fd8",
   "metadata": {},
   "source": [
    "**Марка автомобиля. Brand.**"
   ]
  },
  {
   "cell_type": "markdown",
   "id": "13bb556c-d558-4034-9623-8dc79eaa60d2",
   "metadata": {},
   "source": [
    "Здесь всё ок. пропусков нет"
   ]
  },
  {
   "cell_type": "markdown",
   "id": "971158b9-f97c-4d46-93c2-640ec43e1500",
   "metadata": {},
   "source": [
    "**Была машина в ремонте или нет. Repaired.**"
   ]
  },
  {
   "cell_type": "markdown",
   "id": "9b6e3b0c-6c37-4a35-a3d8-62d5d4b518d5",
   "metadata": {},
   "source": [
    "71154 неизвестных значений. Удалять столько - затея плохая. Заменим пропуски на значение \"unknown\"."
   ]
  },
  {
   "cell_type": "code",
   "execution_count": 31,
   "id": "2bbc97c5-7707-4094-b06d-e4be925cf2d9",
   "metadata": {},
   "outputs": [],
   "source": [
    "df['repaired'] = df['repaired'].fillna('unknown')"
   ]
  },
  {
   "cell_type": "markdown",
   "id": "30b95b42-d56a-4798-98e9-f613b24331c5",
   "metadata": {},
   "source": [
    "**Количество фотографий автомобиля. NumberOfPictures.**"
   ]
  },
  {
   "cell_type": "code",
   "execution_count": 32,
   "id": "d0412fec-7e2d-4ed6-ae10-12f65311173e",
   "metadata": {},
   "outputs": [
    {
     "name": "stdout",
     "output_type": "stream",
     "text": [
      "Колличество значений: 0 %\n"
     ]
    }
   ],
   "source": [
    "print('Колличество значений:',\n",
    "      round(df[df['numberofpictures'] > 0].shape[0] / df.shape[0] * 100),'%')"
   ]
  },
  {
   "cell_type": "markdown",
   "id": "85183bf3-26ee-4aee-9c25-c1e463dc2647",
   "metadata": {},
   "source": [
    "Избавимся от этого столбца. Т.к все значения павны нулю."
   ]
  },
  {
   "cell_type": "markdown",
   "id": "960dc143-4531-4bf9-8a28-da292f9d354d",
   "metadata": {},
   "source": [
    "**Почтовый индекс владельца анкеты (пользователя). PostalCode.**"
   ]
  },
  {
   "cell_type": "code",
   "execution_count": 33,
   "id": "7aa7a597-9485-4832-a8c0-3046105f0c1e",
   "metadata": {},
   "outputs": [
    {
     "data": {
      "text/plain": [
       "postalcode\n",
       "10115    798\n",
       "65428    501\n",
       "66333    269\n",
       "60311    260\n",
       "52525    245\n",
       "        ... \n",
       "83546      1\n",
       "74937      1\n",
       "17248      1\n",
       "31039      1\n",
       "95691      1\n",
       "Name: count, Length: 8109, dtype: int64"
      ]
     },
     "execution_count": 33,
     "metadata": {},
     "output_type": "execute_result"
    }
   ],
   "source": [
    "df['postalcode'].value_counts()"
   ]
  },
  {
   "cell_type": "markdown",
   "id": "4c739933-212c-4486-a419-9c6e06e5f233",
   "metadata": {},
   "source": [
    "Избавимся и от этого столбца"
   ]
  },
  {
   "cell_type": "code",
   "execution_count": 34,
   "id": "01403005-7173-462a-a612-87739f7d911c",
   "metadata": {},
   "outputs": [
    {
     "data": {
      "text/html": [
       "<div>\n",
       "<style scoped>\n",
       "    .dataframe tbody tr th:only-of-type {\n",
       "        vertical-align: middle;\n",
       "    }\n",
       "\n",
       "    .dataframe tbody tr th {\n",
       "        vertical-align: top;\n",
       "    }\n",
       "\n",
       "    .dataframe thead th {\n",
       "        text-align: right;\n",
       "    }\n",
       "</style>\n",
       "<table border=\"1\" class=\"dataframe\">\n",
       "  <thead>\n",
       "    <tr style=\"text-align: right;\">\n",
       "      <th></th>\n",
       "      <th>datecrawled</th>\n",
       "      <th>price</th>\n",
       "      <th>vehicletype</th>\n",
       "      <th>registrationyear</th>\n",
       "      <th>gearbox</th>\n",
       "      <th>power</th>\n",
       "      <th>model</th>\n",
       "      <th>kilometer</th>\n",
       "      <th>registrationmonth</th>\n",
       "      <th>fueltype</th>\n",
       "      <th>brand</th>\n",
       "      <th>repaired</th>\n",
       "      <th>datecreated</th>\n",
       "      <th>numberofpictures</th>\n",
       "      <th>postalcode</th>\n",
       "      <th>lastseen</th>\n",
       "      <th>reg_date</th>\n",
       "      <th>age</th>\n",
       "    </tr>\n",
       "  </thead>\n",
       "  <tbody>\n",
       "    <tr>\n",
       "      <th>37823</th>\n",
       "      <td>2016-03-23 15:45:19</td>\n",
       "      <td>1500</td>\n",
       "      <td>sedan</td>\n",
       "      <td>1991</td>\n",
       "      <td>manual</td>\n",
       "      <td>90</td>\n",
       "      <td>golf</td>\n",
       "      <td>150000</td>\n",
       "      <td>11</td>\n",
       "      <td>petrol</td>\n",
       "      <td>volkswagen</td>\n",
       "      <td>no</td>\n",
       "      <td>2016-03-23</td>\n",
       "      <td>0</td>\n",
       "      <td>72218</td>\n",
       "      <td>2016-04-05 18:18:14</td>\n",
       "      <td>1991-11-01</td>\n",
       "      <td>24.0</td>\n",
       "    </tr>\n",
       "    <tr>\n",
       "      <th>182071</th>\n",
       "      <td>2016-03-12 17:06:19</td>\n",
       "      <td>14999</td>\n",
       "      <td>suv</td>\n",
       "      <td>2009</td>\n",
       "      <td>auto</td>\n",
       "      <td>140</td>\n",
       "      <td>tiguan</td>\n",
       "      <td>150000</td>\n",
       "      <td>10</td>\n",
       "      <td>gasoline</td>\n",
       "      <td>volkswagen</td>\n",
       "      <td>no</td>\n",
       "      <td>2016-03-12</td>\n",
       "      <td>0</td>\n",
       "      <td>55494</td>\n",
       "      <td>2016-04-06 18:44:44</td>\n",
       "      <td>2009-10-01</td>\n",
       "      <td>6.0</td>\n",
       "    </tr>\n",
       "    <tr>\n",
       "      <th>78100</th>\n",
       "      <td>2016-03-20 11:55:08</td>\n",
       "      <td>1899</td>\n",
       "      <td>wagon</td>\n",
       "      <td>1999</td>\n",
       "      <td>manual</td>\n",
       "      <td>116</td>\n",
       "      <td>golf</td>\n",
       "      <td>150000</td>\n",
       "      <td>10</td>\n",
       "      <td>petrol</td>\n",
       "      <td>volkswagen</td>\n",
       "      <td>no</td>\n",
       "      <td>2016-03-20</td>\n",
       "      <td>0</td>\n",
       "      <td>34225</td>\n",
       "      <td>2016-03-20 11:55:08</td>\n",
       "      <td>1999-10-01</td>\n",
       "      <td>16.0</td>\n",
       "    </tr>\n",
       "    <tr>\n",
       "      <th>147462</th>\n",
       "      <td>2016-03-16 12:37:40</td>\n",
       "      <td>8999</td>\n",
       "      <td>sedan</td>\n",
       "      <td>2008</td>\n",
       "      <td>manual</td>\n",
       "      <td>109</td>\n",
       "      <td>c_reihe</td>\n",
       "      <td>90000</td>\n",
       "      <td>2</td>\n",
       "      <td>gasoline</td>\n",
       "      <td>volvo</td>\n",
       "      <td>no</td>\n",
       "      <td>2016-03-16</td>\n",
       "      <td>0</td>\n",
       "      <td>64750</td>\n",
       "      <td>2016-04-06 06:16:25</td>\n",
       "      <td>2008-02-01</td>\n",
       "      <td>8.0</td>\n",
       "    </tr>\n",
       "    <tr>\n",
       "      <th>230213</th>\n",
       "      <td>2016-03-11 18:59:27</td>\n",
       "      <td>4500</td>\n",
       "      <td>sedan</td>\n",
       "      <td>2007</td>\n",
       "      <td>manual</td>\n",
       "      <td>163</td>\n",
       "      <td>3er</td>\n",
       "      <td>150000</td>\n",
       "      <td>7</td>\n",
       "      <td>gasoline</td>\n",
       "      <td>bmw</td>\n",
       "      <td>unknown</td>\n",
       "      <td>2016-03-11</td>\n",
       "      <td>0</td>\n",
       "      <td>18573</td>\n",
       "      <td>2016-03-11 18:59:27</td>\n",
       "      <td>2007-07-01</td>\n",
       "      <td>9.0</td>\n",
       "    </tr>\n",
       "  </tbody>\n",
       "</table>\n",
       "</div>"
      ],
      "text/plain": [
       "                datecrawled  price vehicletype  registrationyear gearbox  \\\n",
       "37823   2016-03-23 15:45:19   1500       sedan              1991  manual   \n",
       "182071  2016-03-12 17:06:19  14999         suv              2009    auto   \n",
       "78100   2016-03-20 11:55:08   1899       wagon              1999  manual   \n",
       "147462  2016-03-16 12:37:40   8999       sedan              2008  manual   \n",
       "230213  2016-03-11 18:59:27   4500       sedan              2007  manual   \n",
       "\n",
       "        power    model  kilometer  registrationmonth  fueltype       brand  \\\n",
       "37823      90     golf     150000                 11    petrol  volkswagen   \n",
       "182071    140   tiguan     150000                 10  gasoline  volkswagen   \n",
       "78100     116     golf     150000                 10    petrol  volkswagen   \n",
       "147462    109  c_reihe      90000                  2  gasoline       volvo   \n",
       "230213    163      3er     150000                  7  gasoline         bmw   \n",
       "\n",
       "       repaired datecreated  numberofpictures  postalcode  \\\n",
       "37823        no  2016-03-23                 0       72218   \n",
       "182071       no  2016-03-12                 0       55494   \n",
       "78100        no  2016-03-20                 0       34225   \n",
       "147462       no  2016-03-16                 0       64750   \n",
       "230213  unknown  2016-03-11                 0       18573   \n",
       "\n",
       "                   lastseen   reg_date   age  \n",
       "37823   2016-04-05 18:18:14 1991-11-01  24.0  \n",
       "182071  2016-04-06 18:44:44 2009-10-01   6.0  \n",
       "78100   2016-03-20 11:55:08 1999-10-01  16.0  \n",
       "147462  2016-04-06 06:16:25 2008-02-01   8.0  \n",
       "230213  2016-03-11 18:59:27 2007-07-01   9.0  "
      ]
     },
     "metadata": {},
     "output_type": "display_data"
    },
    {
     "name": "stdout",
     "output_type": "stream",
     "text": [
      "--------------------------------------------------\n",
      "<class 'pandas.core.frame.DataFrame'>\n",
      "Index: 288889 entries, 1 to 354368\n",
      "Data columns (total 18 columns):\n",
      " #   Column             Non-Null Count   Dtype         \n",
      "---  ------             --------------   -----         \n",
      " 0   datecrawled        288889 non-null  object        \n",
      " 1   price              288889 non-null  int64         \n",
      " 2   vehicletype        288889 non-null  object        \n",
      " 3   registrationyear   288889 non-null  int64         \n",
      " 4   gearbox            288889 non-null  object        \n",
      " 5   power              288889 non-null  int64         \n",
      " 6   model              288889 non-null  object        \n",
      " 7   kilometer          288889 non-null  int64         \n",
      " 8   registrationmonth  288889 non-null  int64         \n",
      " 9   fueltype           288889 non-null  object        \n",
      " 10  brand              288889 non-null  object        \n",
      " 11  repaired           288889 non-null  object        \n",
      " 12  datecreated        288889 non-null  datetime64[ns]\n",
      " 13  numberofpictures   288889 non-null  int64         \n",
      " 14  postalcode         288889 non-null  int64         \n",
      " 15  lastseen           288889 non-null  object        \n",
      " 16  reg_date           288889 non-null  datetime64[ns]\n",
      " 17  age                288889 non-null  float64       \n",
      "dtypes: datetime64[ns](2), float64(1), int64(7), object(8)\n",
      "memory usage: 41.9+ MB\n"
     ]
    },
    {
     "data": {
      "text/plain": [
       "None"
      ]
     },
     "metadata": {},
     "output_type": "display_data"
    },
    {
     "name": "stdout",
     "output_type": "stream",
     "text": [
      "--------------------------------------------------\n"
     ]
    },
    {
     "data": {
      "text/plain": [
       "datecrawled          0\n",
       "price                0\n",
       "vehicletype          0\n",
       "registrationyear     0\n",
       "gearbox              0\n",
       "power                0\n",
       "model                0\n",
       "kilometer            0\n",
       "registrationmonth    0\n",
       "fueltype             0\n",
       "brand                0\n",
       "repaired             0\n",
       "datecreated          0\n",
       "numberofpictures     0\n",
       "postalcode           0\n",
       "lastseen             0\n",
       "reg_date             0\n",
       "age                  0\n",
       "dtype: int64"
      ]
     },
     "metadata": {},
     "output_type": "display_data"
    },
    {
     "name": "stdout",
     "output_type": "stream",
     "text": [
      "--------------------------------------------------\n"
     ]
    },
    {
     "data": {
      "text/html": [
       "<div>\n",
       "<style scoped>\n",
       "    .dataframe tbody tr th:only-of-type {\n",
       "        vertical-align: middle;\n",
       "    }\n",
       "\n",
       "    .dataframe tbody tr th {\n",
       "        vertical-align: top;\n",
       "    }\n",
       "\n",
       "    .dataframe thead th {\n",
       "        text-align: right;\n",
       "    }\n",
       "</style>\n",
       "<table border=\"1\" class=\"dataframe\">\n",
       "  <thead>\n",
       "    <tr style=\"text-align: right;\">\n",
       "      <th></th>\n",
       "      <th>price</th>\n",
       "      <th>registrationyear</th>\n",
       "      <th>power</th>\n",
       "      <th>kilometer</th>\n",
       "      <th>registrationmonth</th>\n",
       "      <th>datecreated</th>\n",
       "      <th>numberofpictures</th>\n",
       "      <th>postalcode</th>\n",
       "      <th>reg_date</th>\n",
       "      <th>age</th>\n",
       "    </tr>\n",
       "  </thead>\n",
       "  <tbody>\n",
       "    <tr>\n",
       "      <th>count</th>\n",
       "      <td>288889.000000</td>\n",
       "      <td>288889.000000</td>\n",
       "      <td>288889.000000</td>\n",
       "      <td>288889.000000</td>\n",
       "      <td>288889.000000</td>\n",
       "      <td>288889</td>\n",
       "      <td>288889.0</td>\n",
       "      <td>288889.000000</td>\n",
       "      <td>288889</td>\n",
       "      <td>288889.000000</td>\n",
       "    </tr>\n",
       "    <tr>\n",
       "      <th>mean</th>\n",
       "      <td>4902.194133</td>\n",
       "      <td>2003.082333</td>\n",
       "      <td>121.504031</td>\n",
       "      <td>128586.689005</td>\n",
       "      <td>6.060909</td>\n",
       "      <td>2016-03-20 19:23:21.536229888</td>\n",
       "      <td>0.0</td>\n",
       "      <td>51300.396945</td>\n",
       "      <td>2003-07-03 12:08:59.085946496</td>\n",
       "      <td>12.717369</td>\n",
       "    </tr>\n",
       "    <tr>\n",
       "      <th>min</th>\n",
       "      <td>200.000000</td>\n",
       "      <td>1980.000000</td>\n",
       "      <td>30.000000</td>\n",
       "      <td>5000.000000</td>\n",
       "      <td>1.000000</td>\n",
       "      <td>2015-03-20 00:00:00</td>\n",
       "      <td>0.0</td>\n",
       "      <td>1067.000000</td>\n",
       "      <td>1980-01-01 00:00:00</td>\n",
       "      <td>-0.000000</td>\n",
       "    </tr>\n",
       "    <tr>\n",
       "      <th>25%</th>\n",
       "      <td>1400.000000</td>\n",
       "      <td>1999.000000</td>\n",
       "      <td>80.000000</td>\n",
       "      <td>125000.000000</td>\n",
       "      <td>3.000000</td>\n",
       "      <td>2016-03-13 00:00:00</td>\n",
       "      <td>0.0</td>\n",
       "      <td>30982.000000</td>\n",
       "      <td>1999-08-01 00:00:00</td>\n",
       "      <td>9.000000</td>\n",
       "    </tr>\n",
       "    <tr>\n",
       "      <th>50%</th>\n",
       "      <td>3200.000000</td>\n",
       "      <td>2003.000000</td>\n",
       "      <td>114.000000</td>\n",
       "      <td>150000.000000</td>\n",
       "      <td>6.000000</td>\n",
       "      <td>2016-03-21 00:00:00</td>\n",
       "      <td>0.0</td>\n",
       "      <td>50354.000000</td>\n",
       "      <td>2003-08-01 00:00:00</td>\n",
       "      <td>13.000000</td>\n",
       "    </tr>\n",
       "    <tr>\n",
       "      <th>75%</th>\n",
       "      <td>6999.000000</td>\n",
       "      <td>2007.000000</td>\n",
       "      <td>150.000000</td>\n",
       "      <td>150000.000000</td>\n",
       "      <td>9.000000</td>\n",
       "      <td>2016-03-29 00:00:00</td>\n",
       "      <td>0.0</td>\n",
       "      <td>72108.000000</td>\n",
       "      <td>2007-09-01 00:00:00</td>\n",
       "      <td>17.000000</td>\n",
       "    </tr>\n",
       "    <tr>\n",
       "      <th>max</th>\n",
       "      <td>20000.000000</td>\n",
       "      <td>2016.000000</td>\n",
       "      <td>600.000000</td>\n",
       "      <td>150000.000000</td>\n",
       "      <td>12.000000</td>\n",
       "      <td>2016-04-07 00:00:00</td>\n",
       "      <td>0.0</td>\n",
       "      <td>99998.000000</td>\n",
       "      <td>2016-10-01 00:00:00</td>\n",
       "      <td>36.000000</td>\n",
       "    </tr>\n",
       "    <tr>\n",
       "      <th>std</th>\n",
       "      <td>4599.046787</td>\n",
       "      <td>5.827053</td>\n",
       "      <td>53.497575</td>\n",
       "      <td>36387.745326</td>\n",
       "      <td>3.478647</td>\n",
       "      <td>NaN</td>\n",
       "      <td>0.0</td>\n",
       "      <td>25737.646714</td>\n",
       "      <td>NaN</td>\n",
       "      <td>5.841682</td>\n",
       "    </tr>\n",
       "  </tbody>\n",
       "</table>\n",
       "</div>"
      ],
      "text/plain": [
       "               price  registrationyear          power      kilometer  \\\n",
       "count  288889.000000     288889.000000  288889.000000  288889.000000   \n",
       "mean     4902.194133       2003.082333     121.504031  128586.689005   \n",
       "min       200.000000       1980.000000      30.000000    5000.000000   \n",
       "25%      1400.000000       1999.000000      80.000000  125000.000000   \n",
       "50%      3200.000000       2003.000000     114.000000  150000.000000   \n",
       "75%      6999.000000       2007.000000     150.000000  150000.000000   \n",
       "max     20000.000000       2016.000000     600.000000  150000.000000   \n",
       "std      4599.046787          5.827053      53.497575   36387.745326   \n",
       "\n",
       "       registrationmonth                    datecreated  numberofpictures  \\\n",
       "count      288889.000000                         288889          288889.0   \n",
       "mean            6.060909  2016-03-20 19:23:21.536229888               0.0   \n",
       "min             1.000000            2015-03-20 00:00:00               0.0   \n",
       "25%             3.000000            2016-03-13 00:00:00               0.0   \n",
       "50%             6.000000            2016-03-21 00:00:00               0.0   \n",
       "75%             9.000000            2016-03-29 00:00:00               0.0   \n",
       "max            12.000000            2016-04-07 00:00:00               0.0   \n",
       "std             3.478647                            NaN               0.0   \n",
       "\n",
       "          postalcode                       reg_date            age  \n",
       "count  288889.000000                         288889  288889.000000  \n",
       "mean    51300.396945  2003-07-03 12:08:59.085946496      12.717369  \n",
       "min      1067.000000            1980-01-01 00:00:00      -0.000000  \n",
       "25%     30982.000000            1999-08-01 00:00:00       9.000000  \n",
       "50%     50354.000000            2003-08-01 00:00:00      13.000000  \n",
       "75%     72108.000000            2007-09-01 00:00:00      17.000000  \n",
       "max     99998.000000            2016-10-01 00:00:00      36.000000  \n",
       "std     25737.646714                            NaN       5.841682  "
      ]
     },
     "metadata": {},
     "output_type": "display_data"
    },
    {
     "name": "stdout",
     "output_type": "stream",
     "text": [
      "--------------------------------------------------\n",
      "Количество дубликатов: 0\n"
     ]
    }
   ],
   "source": [
    "get_data_info(df)"
   ]
  },
  {
   "cell_type": "markdown",
   "id": "eb71208c-691b-4fb3-a37e-2ee8f2f588a0",
   "metadata": {},
   "source": [
    "* Данных осталось  288889 строк\n",
    "* Пропусков нет\n",
    "* Дубликатов нет"
   ]
  },
  {
   "cell_type": "markdown",
   "id": "6cd0cd2e-bc0c-4058-a656-fa285bd8dc67",
   "metadata": {},
   "source": [
    "**Удаление Избыточных признаков**"
   ]
  },
  {
   "cell_type": "code",
   "execution_count": 35,
   "id": "8e198f9e-d1d2-4a92-bd11-b077878736f2",
   "metadata": {},
   "outputs": [
    {
     "data": {
      "text/plain": [
       "Index(['datecrawled', 'price', 'vehicletype', 'registrationyear', 'gearbox',\n",
       "       'power', 'model', 'kilometer', 'registrationmonth', 'fueltype', 'brand',\n",
       "       'repaired', 'datecreated', 'numberofpictures', 'postalcode', 'lastseen',\n",
       "       'reg_date', 'age'],\n",
       "      dtype='object')"
      ]
     },
     "execution_count": 35,
     "metadata": {},
     "output_type": "execute_result"
    }
   ],
   "source": [
    "df.columns"
   ]
  },
  {
   "cell_type": "markdown",
   "id": "2ab5aafe-f89a-43ed-96dc-8cc2eef3c160",
   "metadata": {},
   "source": [
    "Принимаем решение избавиться от следующих столбцов:\n",
    "* **`DateCrawled`**\n",
    "* **`RegistrationYear`**\n",
    "* **`RegistrationMonth`**\n",
    "* **`DateCreated`**\n",
    "* **`NumberOfPictures`**\n",
    "* **`PostalCode`**\n",
    "* **`LastSeen`**\n",
    "* **`reg_date`**"
   ]
  },
  {
   "cell_type": "code",
   "execution_count": 36,
   "id": "8b0ce951-5702-4d81-aea8-37ffd30df0c2",
   "metadata": {},
   "outputs": [],
   "source": [
    "df = df.drop([\n",
    "    'datecrawled',\n",
    "    'registrationyear',\n",
    "    'registrationmonth',\n",
    "    'datecreated',\n",
    "    'numberofpictures',\n",
    "    'postalcode',\n",
    "    'lastseen',\n",
    "    'reg_date'\n",
    "], axis=1)"
   ]
  },
  {
   "cell_type": "markdown",
   "id": "d93e183a-de82-4a21-957f-504ca084c026",
   "metadata": {},
   "source": [
    "**Матрица корреляции**"
   ]
  },
  {
   "cell_type": "code",
   "execution_count": 37,
   "id": "b7e607e6-4b76-4c60-8825-22b0dc7da2f7",
   "metadata": {
    "tags": []
   },
   "outputs": [],
   "source": [
    "df1 = df.drop(['vehicletype', 'gearbox', 'model', 'fueltype', 'brand', 'repaired'], axis=1)"
   ]
  },
  {
   "cell_type": "code",
   "execution_count": 38,
   "id": "8d16086c-fefc-4d5a-bf46-d12ee938d970",
   "metadata": {},
   "outputs": [
    {
     "data": {
      "text/html": [
       "<div>\n",
       "<style scoped>\n",
       "    .dataframe tbody tr th:only-of-type {\n",
       "        vertical-align: middle;\n",
       "    }\n",
       "\n",
       "    .dataframe tbody tr th {\n",
       "        vertical-align: top;\n",
       "    }\n",
       "\n",
       "    .dataframe thead th {\n",
       "        text-align: right;\n",
       "    }\n",
       "</style>\n",
       "<table border=\"1\" class=\"dataframe\">\n",
       "  <thead>\n",
       "    <tr style=\"text-align: right;\">\n",
       "      <th></th>\n",
       "      <th>price</th>\n",
       "      <th>power</th>\n",
       "      <th>kilometer</th>\n",
       "      <th>age</th>\n",
       "    </tr>\n",
       "  </thead>\n",
       "  <tbody>\n",
       "    <tr>\n",
       "      <th>price</th>\n",
       "      <td>1.000000</td>\n",
       "      <td>0.511070</td>\n",
       "      <td>-0.393653</td>\n",
       "      <td>-0.581076</td>\n",
       "    </tr>\n",
       "    <tr>\n",
       "      <th>power</th>\n",
       "      <td>0.511070</td>\n",
       "      <td>1.000000</td>\n",
       "      <td>0.100760</td>\n",
       "      <td>-0.131335</td>\n",
       "    </tr>\n",
       "    <tr>\n",
       "      <th>kilometer</th>\n",
       "      <td>-0.393653</td>\n",
       "      <td>0.100760</td>\n",
       "      <td>1.000000</td>\n",
       "      <td>0.382146</td>\n",
       "    </tr>\n",
       "    <tr>\n",
       "      <th>age</th>\n",
       "      <td>-0.581076</td>\n",
       "      <td>-0.131335</td>\n",
       "      <td>0.382146</td>\n",
       "      <td>1.000000</td>\n",
       "    </tr>\n",
       "  </tbody>\n",
       "</table>\n",
       "</div>"
      ],
      "text/plain": [
       "              price     power  kilometer       age\n",
       "price      1.000000  0.511070  -0.393653 -0.581076\n",
       "power      0.511070  1.000000   0.100760 -0.131335\n",
       "kilometer -0.393653  0.100760   1.000000  0.382146\n",
       "age       -0.581076 -0.131335   0.382146  1.000000"
      ]
     },
     "execution_count": 38,
     "metadata": {},
     "output_type": "execute_result"
    }
   ],
   "source": [
    "df1.corr()"
   ]
  },
  {
   "cell_type": "code",
   "execution_count": 39,
   "id": "a89d868e-9f8d-4689-b81d-fe91b16a6d74",
   "metadata": {
    "tags": []
   },
   "outputs": [
    {
     "data": {
      "image/png": "[encoded data removed]",
      "text/plain": [
       "<Figure size 1000x500 with 2 Axes>"
      ]
     },
     "metadata": {},
     "output_type": "display_data"
    }
   ],
   "source": [
    "sns.set()\n",
    "fig, ax = plt.subplots(figsize=(10, 5))\n",
    "sns.heatmap(df1.corr(), annot = True)\n",
    "ax.set_title('Матрица корреляций зависимости фичей');"
   ]
  },
  {
   "cell_type": "markdown",
   "id": "a3474763-1041-49d5-9986-1100161721de",
   "metadata": {},
   "source": [
    "* Нет значений, сильно коррелирующих между собой (больше 0.7), но некоторые параметры, коррелируют с целевым параметром сильнее, это может улучшить качество модели."
   ]
  },
  {
   "cell_type": "code",
   "execution_count": 40,
   "id": "cc0580c9",
   "metadata": {
    "scrolled": true
   },
   "outputs": [
    {
     "data": {
      "text/plain": [
       "2.0"
      ]
     },
     "execution_count": 40,
     "metadata": {},
     "output_type": "execute_result"
    }
   ],
   "source": [
    "6 / 3"
   ]
  },
  {
   "cell_type": "markdown",
   "id": "8f77edae-515c-4d7d-a8eb-52238db16921",
   "metadata": {},
   "source": [
    "### Вывод"
   ]
  },
  {
   "cell_type": "markdown",
   "id": "da6ad770-3e42-4bf4-9ea3-45a5f677fc2b",
   "metadata": {},
   "source": [
    "**Обнаружили пропуски в следующих колонках:**\n",
    "* **`VehicleType`** - **37490**\n",
    "* **`Gearbox`** -     **19833**\n",
    "* **`Model`** -       **19705**\n",
    "* **`FuelType`** -    **32895**\n",
    "* **`Repaired`** -    **71154**\n",
    "\n",
    "**Проанализировали признаки:**\n",
    "* Цена (евро). **`Price`**. - Установили минимальный ценник в **200** евро. Значения ниже будем отсеивать. В нашем случае это **19448** из **354369** или **~5.5%**. Приемлимо..\n",
    "* Тип автомобильного кузова. **`VehicleType`** .  Неизвестно **37490** значений. Это чуть больше **10%** от всей нашей выборки. Удалять не будем. Заменили пропуски на значение **\"unknown\"**.\n",
    "* Год регистрации автомобиля. **`RegistrationYear`** . Замечаем очень много невероятных значений - больше **2019** года т.к актуальные данные заканчиваются **2019г** и меньше **1886** Т.к. первый автомобиль был создан в 1886 году.Нужно отсеивать.Опотным путем выбрал интервал с **1980-2020гг**. Отсеели **3137** строк что меньше **1%**\n",
    "* Тип коробки передач. **`Gearbox`** . - **19833** неизвестных значений. Заменили пропуски на значение **\"unknown\"**.\n",
    "* Мощность (л. с.). **`Power`** . Исходя из логики мы понимаем что мощность не может быть равна 0 и не может привышать(если это конечно не спорткар) 600л.с\n",
    "Так что взяли интервал **от 30 до 600л.с** такмх строк **35116** примерно **10%** многовато но и работать с такими данными нельзя так что убирали.\n",
    "* Модель автомобиля. **`Model`** . - Неопределенных значений **19705**. Заменим пропуски на значение **\"unknown\"**.\n",
    "* Пробег. **`Kilometer`** . - Здесь всё хорошо.\n",
    "* Месяц регистрации автомобиля. **`RegistrationMonth`** .  Значение 0 в логику не вкладывается. Заменили его на 1. После чего данные год регистрации и месяц регистрации привели к одной дате и рассчитали возраст автомобиля на момент создания анкеты.\n",
    "* Расчет возраста автомобиля на момент публикации\n",
    "  * На основании года и месяца регистрации найдем дату регистрации.\n",
    "  * Отталвиваясь от этой даты и даты создания анкеты найдем возраст машины. \n",
    "  * Округлим до целых. Т.к. при покупке автомобиля пользователи, обычно, смотрят именно на целое число лет, дроби их не интересуют, поэтому ими мы можем пренебречь. \n",
    "  * Значений много **(~4%)**, но избавиться от них нужно.\n",
    "* Тип топлива. **`FuelType`** . - Неопределенных значений **32895**. Заменим пропуски на значение **\"unknown\"**.\n",
    "* Марка автомобиля. **`Brand`** . - Здесь всё ок.\n",
    "* Была машина в ремонте или нет. **`Repaired`** . **71154** неизвестных значений. Удалять столько - затея плохая. Заменим пропуски на значение **\"unknown\"**.\n",
    "* Количество фотографий автомобиля. **`NumberOfPictures`** . Избавились от этого столбца.\n",
    "* Почтовый индекс владельца анкеты (пользователя). **`PostalCode`** . Избавились и от этого столбца\n",
    "\n",
    "* Приняли решение избавиться от следующих столбцов:\n",
    "  * **`DateCrawled`**\n",
    "  * **`RegistrationYear`**\n",
    "  * **`RegistrationMonth`**\n",
    "  * **`DateCreated`**\n",
    "  * **`NumberOfPictures`**\n",
    "  * **`PostalCode`**\n",
    "  * **`LastSeen`**\n",
    "  * **`reg_date`**\n",
    "\n",
    "\n",
    "* На входе у нас было **354369** наблюдений, после предобработки осталось - **291515**. Нам пришлось избавилиться от **18%** данных.\n",
    "\n",
    "* Нет значений, сильно коррелирующих между собой (**больше 0.7**), но некоторые параметры, коррелируют с целевым параметром сильнее, это может улучшить качество модели."
   ]
  },
  {
   "cell_type": "markdown",
   "id": "cd5884d6-3351-46b0-8cbf-f450f41aa90a",
   "metadata": {},
   "source": [
    "### 1.3 Кодирование данных"
   ]
  },
  {
   "cell_type": "markdown",
   "id": "e24414c8-85e2-4d54-86a3-800a8192fee7",
   "metadata": {},
   "source": [
    "**Прежде чем приступить к кодировке наших данных, разделим нашу выборку на тестовую и обучающую.**"
   ]
  },
  {
   "cell_type": "code",
   "execution_count": 41,
   "id": "eec6f22f-8cb0-491c-9f55-c99864d0f345",
   "metadata": {},
   "outputs": [],
   "source": [
    "features = df.drop('price', axis=1)\n",
    "target = df['price']"
   ]
  },
  {
   "cell_type": "code",
   "execution_count": 42,
   "id": "c69e54ae-6818-4e84-bb82-c1ffec3e29e3",
   "metadata": {},
   "outputs": [],
   "source": [
    "X_train, X_test, y_train, y_test = train_test_split(features,\n",
    "                                                    target,\n",
    "                                                    test_size=0.2,\n",
    "                                                    random_state=12345, \n",
    "                                                    )"
   ]
  },
  {
   "cell_type": "code",
   "execution_count": 43,
   "id": "cadd2139-1d61-4c25-a161-497f4b78edd3",
   "metadata": {},
   "outputs": [
    {
     "data": {
      "text/plain": [
       "((231111, 9), (57778, 9))"
      ]
     },
     "execution_count": 43,
     "metadata": {},
     "output_type": "execute_result"
    }
   ],
   "source": [
    "X_train.shape, X_test.shape"
   ]
  },
  {
   "cell_type": "code",
   "execution_count": 44,
   "id": "e0b4821a-6c19-4f42-9988-a2db5271225e",
   "metadata": {},
   "outputs": [],
   "source": [
    "X_train, X_valid, y_train, y_valid = train_test_split(X_train,\n",
    "                                                      y_train,\n",
    "                                                      test_size=0.25,\n",
    "                                                      random_state=12345, \n",
    "                                                      )"
   ]
  },
  {
   "cell_type": "code",
   "execution_count": 45,
   "id": "aa928312-722f-4ba6-8db9-153ce30c8d95",
   "metadata": {},
   "outputs": [
    {
     "data": {
      "text/plain": [
       "((173333, 9), (173333,), (57778, 9), (57778,), (57778, 9), (57778,))"
      ]
     },
     "execution_count": 45,
     "metadata": {},
     "output_type": "execute_result"
    }
   ],
   "source": [
    "X_train.shape,y_train.shape, X_valid.shape, y_valid.shape, X_test.shape, y_test.shape"
   ]
  },
  {
   "cell_type": "markdown",
   "id": "6ba53e70-4c6a-43c1-a9aa-fff3fbffb98a",
   "metadata": {},
   "source": [
    "**Теперь перекодируем категориальные признаки.**"
   ]
  },
  {
   "cell_type": "code",
   "execution_count": 46,
   "id": "ef7e04c8-cc58-48a5-a248-c6c24ff08466",
   "metadata": {},
   "outputs": [
    {
     "name": "stdout",
     "output_type": "stream",
     "text": [
      "['vehicletype', 'gearbox', 'model', 'fueltype', 'brand', 'repaired']\n"
     ]
    }
   ],
   "source": [
    "ohe_features_lm = X_train.select_dtypes(include='object').columns.to_list()\n",
    "print(ohe_features_lm)"
   ]
  },
  {
   "cell_type": "code",
   "execution_count": 47,
   "id": "c5b78cf8-ea9a-4b08-924e-a6afff3e8321",
   "metadata": {},
   "outputs": [
    {
     "data": {
      "text/plain": [
       "['power', 'kilometer', 'age']"
      ]
     },
     "execution_count": 47,
     "metadata": {},
     "output_type": "execute_result"
    }
   ],
   "source": [
    "num_features = X_train.select_dtypes(exclude='object').columns.to_list()\n",
    "num_features"
   ]
  },
  {
   "cell_type": "markdown",
   "id": "92ef7877-be75-4454-a799-da6ed743d9b5",
   "metadata": {},
   "source": [
    "**Кодирование OneHotEncoder**"
   ]
  },
  {
   "cell_type": "code",
   "execution_count": 48,
   "id": "20169d87-7710-4007-b776-15796b7dd137",
   "metadata": {},
   "outputs": [],
   "source": [
    "X_train_lm = X_train.copy()\n",
    "X_test_lm = X_test.copy()\n",
    "X_valid_lm = X_valid.copy()"
   ]
  },
  {
   "cell_type": "code",
   "execution_count": 49,
   "id": "7f2cc5ff-3fa2-4630-b2ef-0224c76ac23c",
   "metadata": {},
   "outputs": [
    {
     "data": {
      "text/html": [
       "<div>\n",
       "<style scoped>\n",
       "    .dataframe tbody tr th:only-of-type {\n",
       "        vertical-align: middle;\n",
       "    }\n",
       "\n",
       "    .dataframe tbody tr th {\n",
       "        vertical-align: top;\n",
       "    }\n",
       "\n",
       "    .dataframe thead th {\n",
       "        text-align: right;\n",
       "    }\n",
       "</style>\n",
       "<table border=\"1\" class=\"dataframe\">\n",
       "  <thead>\n",
       "    <tr style=\"text-align: right;\">\n",
       "      <th></th>\n",
       "      <th>power</th>\n",
       "      <th>kilometer</th>\n",
       "      <th>age</th>\n",
       "      <th>vehicletype_convertible</th>\n",
       "      <th>vehicletype_coupe</th>\n",
       "      <th>vehicletype_other</th>\n",
       "      <th>vehicletype_sedan</th>\n",
       "      <th>vehicletype_small</th>\n",
       "      <th>vehicletype_suv</th>\n",
       "      <th>vehicletype_unknown</th>\n",
       "      <th>...</th>\n",
       "      <th>brand_smart</th>\n",
       "      <th>brand_sonstige_autos</th>\n",
       "      <th>brand_subaru</th>\n",
       "      <th>brand_suzuki</th>\n",
       "      <th>brand_toyota</th>\n",
       "      <th>brand_trabant</th>\n",
       "      <th>brand_volkswagen</th>\n",
       "      <th>brand_volvo</th>\n",
       "      <th>repaired_unknown</th>\n",
       "      <th>repaired_yes</th>\n",
       "    </tr>\n",
       "  </thead>\n",
       "  <tbody>\n",
       "    <tr>\n",
       "      <th>195582</th>\n",
       "      <td>0.177526</td>\n",
       "      <td>0.587413</td>\n",
       "      <td>-0.807189</td>\n",
       "      <td>1.0</td>\n",
       "      <td>0.0</td>\n",
       "      <td>0.0</td>\n",
       "      <td>0.0</td>\n",
       "      <td>0.0</td>\n",
       "      <td>0.0</td>\n",
       "      <td>0.0</td>\n",
       "      <td>...</td>\n",
       "      <td>0.0</td>\n",
       "      <td>0.0</td>\n",
       "      <td>0.0</td>\n",
       "      <td>0.0</td>\n",
       "      <td>0.0</td>\n",
       "      <td>0.0</td>\n",
       "      <td>0.0</td>\n",
       "      <td>0.0</td>\n",
       "      <td>0.0</td>\n",
       "      <td>0.0</td>\n",
       "    </tr>\n",
       "    <tr>\n",
       "      <th>129188</th>\n",
       "      <td>-0.553910</td>\n",
       "      <td>-0.785425</td>\n",
       "      <td>-0.807189</td>\n",
       "      <td>0.0</td>\n",
       "      <td>0.0</td>\n",
       "      <td>0.0</td>\n",
       "      <td>0.0</td>\n",
       "      <td>1.0</td>\n",
       "      <td>0.0</td>\n",
       "      <td>0.0</td>\n",
       "      <td>...</td>\n",
       "      <td>0.0</td>\n",
       "      <td>0.0</td>\n",
       "      <td>0.0</td>\n",
       "      <td>1.0</td>\n",
       "      <td>0.0</td>\n",
       "      <td>0.0</td>\n",
       "      <td>0.0</td>\n",
       "      <td>0.0</td>\n",
       "      <td>0.0</td>\n",
       "      <td>0.0</td>\n",
       "    </tr>\n",
       "    <tr>\n",
       "      <th>14402</th>\n",
       "      <td>-0.103795</td>\n",
       "      <td>0.587413</td>\n",
       "      <td>0.218846</td>\n",
       "      <td>0.0</td>\n",
       "      <td>0.0</td>\n",
       "      <td>0.0</td>\n",
       "      <td>1.0</td>\n",
       "      <td>0.0</td>\n",
       "      <td>0.0</td>\n",
       "      <td>0.0</td>\n",
       "      <td>...</td>\n",
       "      <td>0.0</td>\n",
       "      <td>0.0</td>\n",
       "      <td>0.0</td>\n",
       "      <td>0.0</td>\n",
       "      <td>0.0</td>\n",
       "      <td>0.0</td>\n",
       "      <td>0.0</td>\n",
       "      <td>0.0</td>\n",
       "      <td>0.0</td>\n",
       "      <td>0.0</td>\n",
       "    </tr>\n",
       "    <tr>\n",
       "      <th>203316</th>\n",
       "      <td>-0.610174</td>\n",
       "      <td>-0.099006</td>\n",
       "      <td>1.073875</td>\n",
       "      <td>0.0</td>\n",
       "      <td>0.0</td>\n",
       "      <td>0.0</td>\n",
       "      <td>1.0</td>\n",
       "      <td>0.0</td>\n",
       "      <td>0.0</td>\n",
       "      <td>0.0</td>\n",
       "      <td>...</td>\n",
       "      <td>0.0</td>\n",
       "      <td>1.0</td>\n",
       "      <td>0.0</td>\n",
       "      <td>0.0</td>\n",
       "      <td>0.0</td>\n",
       "      <td>0.0</td>\n",
       "      <td>0.0</td>\n",
       "      <td>0.0</td>\n",
       "      <td>1.0</td>\n",
       "      <td>0.0</td>\n",
       "    </tr>\n",
       "    <tr>\n",
       "      <th>248200</th>\n",
       "      <td>-0.066286</td>\n",
       "      <td>0.587413</td>\n",
       "      <td>0.560857</td>\n",
       "      <td>0.0</td>\n",
       "      <td>0.0</td>\n",
       "      <td>0.0</td>\n",
       "      <td>1.0</td>\n",
       "      <td>0.0</td>\n",
       "      <td>0.0</td>\n",
       "      <td>0.0</td>\n",
       "      <td>...</td>\n",
       "      <td>0.0</td>\n",
       "      <td>0.0</td>\n",
       "      <td>0.0</td>\n",
       "      <td>0.0</td>\n",
       "      <td>0.0</td>\n",
       "      <td>0.0</td>\n",
       "      <td>0.0</td>\n",
       "      <td>0.0</td>\n",
       "      <td>0.0</td>\n",
       "      <td>0.0</td>\n",
       "    </tr>\n",
       "  </tbody>\n",
       "</table>\n",
       "<p>5 rows × 308 columns</p>\n",
       "</div>"
      ],
      "text/plain": [
       "           power  kilometer       age  vehicletype_convertible  \\\n",
       "195582  0.177526   0.587413 -0.807189                      1.0   \n",
       "129188 -0.553910  -0.785425 -0.807189                      0.0   \n",
       "14402  -0.103795   0.587413  0.218846                      0.0   \n",
       "203316 -0.610174  -0.099006  1.073875                      0.0   \n",
       "248200 -0.066286   0.587413  0.560857                      0.0   \n",
       "\n",
       "        vehicletype_coupe  vehicletype_other  vehicletype_sedan  \\\n",
       "195582                0.0                0.0                0.0   \n",
       "129188                0.0                0.0                0.0   \n",
       "14402                 0.0                0.0                1.0   \n",
       "203316                0.0                0.0                1.0   \n",
       "248200                0.0                0.0                1.0   \n",
       "\n",
       "        vehicletype_small  vehicletype_suv  vehicletype_unknown  ...  \\\n",
       "195582                0.0              0.0                  0.0  ...   \n",
       "129188                1.0              0.0                  0.0  ...   \n",
       "14402                 0.0              0.0                  0.0  ...   \n",
       "203316                0.0              0.0                  0.0  ...   \n",
       "248200                0.0              0.0                  0.0  ...   \n",
       "\n",
       "        brand_smart  brand_sonstige_autos  brand_subaru  brand_suzuki  \\\n",
       "195582          0.0                   0.0           0.0           0.0   \n",
       "129188          0.0                   0.0           0.0           1.0   \n",
       "14402           0.0                   0.0           0.0           0.0   \n",
       "203316          0.0                   1.0           0.0           0.0   \n",
       "248200          0.0                   0.0           0.0           0.0   \n",
       "\n",
       "        brand_toyota  brand_trabant  brand_volkswagen  brand_volvo  \\\n",
       "195582           0.0            0.0               0.0          0.0   \n",
       "129188           0.0            0.0               0.0          0.0   \n",
       "14402            0.0            0.0               0.0          0.0   \n",
       "203316           0.0            0.0               0.0          0.0   \n",
       "248200           0.0            0.0               0.0          0.0   \n",
       "\n",
       "        repaired_unknown  repaired_yes  \n",
       "195582               0.0           0.0  \n",
       "129188               0.0           0.0  \n",
       "14402                0.0           0.0  \n",
       "203316               1.0           0.0  \n",
       "248200               0.0           0.0  \n",
       "\n",
       "[5 rows x 308 columns]"
      ]
     },
     "execution_count": 49,
     "metadata": {},
     "output_type": "execute_result"
    }
   ],
   "source": [
    "# drop='first' удаляет первый признак из закодированных:\n",
    "# таким образом обходим dummy-ловушку\n",
    "# задаём handle_unknown='ignore':\n",
    "# игнорируется ранее невстречающиеся значения признака (при transform)\n",
    "enc_ohe = OneHotEncoder(drop='first', handle_unknown='ignore', sparse=False)\n",
    "\n",
    "# обучаем энкодер на заданных категориальных признаках тренировочной выборки\n",
    "enc_ohe.fit(X_train_lm[ohe_features_lm])\n",
    "\n",
    "# добавляем закодированные признаки в X_train_ohe\n",
    "# encoder_ohe.get_feature_names_out() позволяет получить названия колонок\n",
    "X_train_lm[enc_ohe.get_feature_names_out()] = enc_ohe.transform(X_train_lm[ohe_features_lm])\n",
    "\n",
    "# удаляем незакодированные категориальные признаки (изначальные колонки)\n",
    "X_train_lm = X_train_lm.drop(ohe_features_lm, axis=1)\n",
    "\n",
    "# создаём скелер\n",
    "scaler = StandardScaler()\n",
    "\n",
    "# обучаем его на численных признаках тренировочной выборки, трансформируем её же\n",
    "X_train_lm[num_features] = scaler.fit_transform(X_train_lm[num_features])\n",
    "\n",
    "# смотрим на результат\n",
    "X_train_lm.head()"
   ]
  },
  {
   "cell_type": "code",
   "execution_count": 50,
   "id": "f4908179-419f-4f0a-866b-5606d8756491",
   "metadata": {},
   "outputs": [
    {
     "data": {
      "text/html": [
       "<div>\n",
       "<style scoped>\n",
       "    .dataframe tbody tr th:only-of-type {\n",
       "        vertical-align: middle;\n",
       "    }\n",
       "\n",
       "    .dataframe tbody tr th {\n",
       "        vertical-align: top;\n",
       "    }\n",
       "\n",
       "    .dataframe thead th {\n",
       "        text-align: right;\n",
       "    }\n",
       "</style>\n",
       "<table border=\"1\" class=\"dataframe\">\n",
       "  <thead>\n",
       "    <tr style=\"text-align: right;\">\n",
       "      <th></th>\n",
       "      <th>power</th>\n",
       "      <th>kilometer</th>\n",
       "      <th>age</th>\n",
       "      <th>vehicletype_convertible</th>\n",
       "      <th>vehicletype_coupe</th>\n",
       "      <th>vehicletype_other</th>\n",
       "      <th>vehicletype_sedan</th>\n",
       "      <th>vehicletype_small</th>\n",
       "      <th>vehicletype_suv</th>\n",
       "      <th>vehicletype_unknown</th>\n",
       "      <th>...</th>\n",
       "      <th>brand_smart</th>\n",
       "      <th>brand_sonstige_autos</th>\n",
       "      <th>brand_subaru</th>\n",
       "      <th>brand_suzuki</th>\n",
       "      <th>brand_toyota</th>\n",
       "      <th>brand_trabant</th>\n",
       "      <th>brand_volkswagen</th>\n",
       "      <th>brand_volvo</th>\n",
       "      <th>repaired_unknown</th>\n",
       "      <th>repaired_yes</th>\n",
       "    </tr>\n",
       "  </thead>\n",
       "  <tbody>\n",
       "    <tr>\n",
       "      <th>68208</th>\n",
       "      <td>-0.103795</td>\n",
       "      <td>0.587413</td>\n",
       "      <td>-0.294172</td>\n",
       "      <td>0.0</td>\n",
       "      <td>0.0</td>\n",
       "      <td>0.0</td>\n",
       "      <td>1.0</td>\n",
       "      <td>0.0</td>\n",
       "      <td>0.0</td>\n",
       "      <td>0.0</td>\n",
       "      <td>...</td>\n",
       "      <td>0.0</td>\n",
       "      <td>0.0</td>\n",
       "      <td>0.0</td>\n",
       "      <td>0.0</td>\n",
       "      <td>0.0</td>\n",
       "      <td>0.0</td>\n",
       "      <td>0.0</td>\n",
       "      <td>0.0</td>\n",
       "      <td>0.0</td>\n",
       "      <td>0.0</td>\n",
       "    </tr>\n",
       "    <tr>\n",
       "      <th>129691</th>\n",
       "      <td>-0.103795</td>\n",
       "      <td>0.587413</td>\n",
       "      <td>0.902869</td>\n",
       "      <td>0.0</td>\n",
       "      <td>0.0</td>\n",
       "      <td>0.0</td>\n",
       "      <td>0.0</td>\n",
       "      <td>0.0</td>\n",
       "      <td>0.0</td>\n",
       "      <td>0.0</td>\n",
       "      <td>...</td>\n",
       "      <td>0.0</td>\n",
       "      <td>0.0</td>\n",
       "      <td>0.0</td>\n",
       "      <td>0.0</td>\n",
       "      <td>0.0</td>\n",
       "      <td>0.0</td>\n",
       "      <td>0.0</td>\n",
       "      <td>0.0</td>\n",
       "      <td>1.0</td>\n",
       "      <td>0.0</td>\n",
       "    </tr>\n",
       "    <tr>\n",
       "      <th>12287</th>\n",
       "      <td>-1.154062</td>\n",
       "      <td>-0.785425</td>\n",
       "      <td>1.928904</td>\n",
       "      <td>0.0</td>\n",
       "      <td>0.0</td>\n",
       "      <td>0.0</td>\n",
       "      <td>0.0</td>\n",
       "      <td>1.0</td>\n",
       "      <td>0.0</td>\n",
       "      <td>0.0</td>\n",
       "      <td>...</td>\n",
       "      <td>0.0</td>\n",
       "      <td>0.0</td>\n",
       "      <td>0.0</td>\n",
       "      <td>0.0</td>\n",
       "      <td>0.0</td>\n",
       "      <td>0.0</td>\n",
       "      <td>0.0</td>\n",
       "      <td>0.0</td>\n",
       "      <td>0.0</td>\n",
       "      <td>0.0</td>\n",
       "    </tr>\n",
       "    <tr>\n",
       "      <th>146546</th>\n",
       "      <td>-0.366362</td>\n",
       "      <td>0.587413</td>\n",
       "      <td>0.047840</td>\n",
       "      <td>0.0</td>\n",
       "      <td>0.0</td>\n",
       "      <td>0.0</td>\n",
       "      <td>1.0</td>\n",
       "      <td>0.0</td>\n",
       "      <td>0.0</td>\n",
       "      <td>0.0</td>\n",
       "      <td>...</td>\n",
       "      <td>0.0</td>\n",
       "      <td>0.0</td>\n",
       "      <td>0.0</td>\n",
       "      <td>0.0</td>\n",
       "      <td>0.0</td>\n",
       "      <td>0.0</td>\n",
       "      <td>1.0</td>\n",
       "      <td>0.0</td>\n",
       "      <td>0.0</td>\n",
       "      <td>0.0</td>\n",
       "    </tr>\n",
       "    <tr>\n",
       "      <th>207937</th>\n",
       "      <td>-1.154062</td>\n",
       "      <td>0.587413</td>\n",
       "      <td>0.389852</td>\n",
       "      <td>0.0</td>\n",
       "      <td>0.0</td>\n",
       "      <td>0.0</td>\n",
       "      <td>0.0</td>\n",
       "      <td>1.0</td>\n",
       "      <td>0.0</td>\n",
       "      <td>0.0</td>\n",
       "      <td>...</td>\n",
       "      <td>0.0</td>\n",
       "      <td>0.0</td>\n",
       "      <td>0.0</td>\n",
       "      <td>0.0</td>\n",
       "      <td>0.0</td>\n",
       "      <td>0.0</td>\n",
       "      <td>0.0</td>\n",
       "      <td>0.0</td>\n",
       "      <td>0.0</td>\n",
       "      <td>0.0</td>\n",
       "    </tr>\n",
       "  </tbody>\n",
       "</table>\n",
       "<p>5 rows × 308 columns</p>\n",
       "</div>"
      ],
      "text/plain": [
       "           power  kilometer       age  vehicletype_convertible  \\\n",
       "68208  -0.103795   0.587413 -0.294172                      0.0   \n",
       "129691 -0.103795   0.587413  0.902869                      0.0   \n",
       "12287  -1.154062  -0.785425  1.928904                      0.0   \n",
       "146546 -0.366362   0.587413  0.047840                      0.0   \n",
       "207937 -1.154062   0.587413  0.389852                      0.0   \n",
       "\n",
       "        vehicletype_coupe  vehicletype_other  vehicletype_sedan  \\\n",
       "68208                 0.0                0.0                1.0   \n",
       "129691                0.0                0.0                0.0   \n",
       "12287                 0.0                0.0                0.0   \n",
       "146546                0.0                0.0                1.0   \n",
       "207937                0.0                0.0                0.0   \n",
       "\n",
       "        vehicletype_small  vehicletype_suv  vehicletype_unknown  ...  \\\n",
       "68208                 0.0              0.0                  0.0  ...   \n",
       "129691                0.0              0.0                  0.0  ...   \n",
       "12287                 1.0              0.0                  0.0  ...   \n",
       "146546                0.0              0.0                  0.0  ...   \n",
       "207937                1.0              0.0                  0.0  ...   \n",
       "\n",
       "        brand_smart  brand_sonstige_autos  brand_subaru  brand_suzuki  \\\n",
       "68208           0.0                   0.0           0.0           0.0   \n",
       "129691          0.0                   0.0           0.0           0.0   \n",
       "12287           0.0                   0.0           0.0           0.0   \n",
       "146546          0.0                   0.0           0.0           0.0   \n",
       "207937          0.0                   0.0           0.0           0.0   \n",
       "\n",
       "        brand_toyota  brand_trabant  brand_volkswagen  brand_volvo  \\\n",
       "68208            0.0            0.0               0.0          0.0   \n",
       "129691           0.0            0.0               0.0          0.0   \n",
       "12287            0.0            0.0               0.0          0.0   \n",
       "146546           0.0            0.0               1.0          0.0   \n",
       "207937           0.0            0.0               0.0          0.0   \n",
       "\n",
       "        repaired_unknown  repaired_yes  \n",
       "68208                0.0           0.0  \n",
       "129691               1.0           0.0  \n",
       "12287                0.0           0.0  \n",
       "146546               0.0           0.0  \n",
       "207937               0.0           0.0  \n",
       "\n",
       "[5 rows x 308 columns]"
      ]
     },
     "execution_count": 50,
     "metadata": {},
     "output_type": "execute_result"
    }
   ],
   "source": [
    "# энкодером, который обучен на ТРЕНИРОВОЧНОЙ ВЫБОРКЕ, кодируем валидационную\n",
    "X_valid_lm[\n",
    "    enc_ohe.get_feature_names_out()\n",
    "] = enc_ohe.transform(X_valid_lm[ohe_features_lm])\n",
    "\n",
    "X_valid_lm = X_valid_lm.drop(ohe_features_lm, axis=1)\n",
    "\n",
    "# скелером, который обучен на ТРЕНИРОВОЧНОЙ ВЫБОРКЕ, масштабируем валидационную\n",
    "X_valid_lm[num_features] = scaler.transform(\n",
    "    X_valid_lm[num_features]\n",
    ")\n",
    "\n",
    "# смотрим на результат\n",
    "X_valid_lm.head()"
   ]
  },
  {
   "cell_type": "code",
   "execution_count": 51,
   "id": "8f2e2100-d3bf-4def-a5f3-760ca76c6bd2",
   "metadata": {},
   "outputs": [
    {
     "data": {
      "text/html": [
       "<div>\n",
       "<style scoped>\n",
       "    .dataframe tbody tr th:only-of-type {\n",
       "        vertical-align: middle;\n",
       "    }\n",
       "\n",
       "    .dataframe tbody tr th {\n",
       "        vertical-align: top;\n",
       "    }\n",
       "\n",
       "    .dataframe thead th {\n",
       "        text-align: right;\n",
       "    }\n",
       "</style>\n",
       "<table border=\"1\" class=\"dataframe\">\n",
       "  <thead>\n",
       "    <tr style=\"text-align: right;\">\n",
       "      <th></th>\n",
       "      <th>power</th>\n",
       "      <th>kilometer</th>\n",
       "      <th>age</th>\n",
       "      <th>vehicletype_convertible</th>\n",
       "      <th>vehicletype_coupe</th>\n",
       "      <th>vehicletype_other</th>\n",
       "      <th>vehicletype_sedan</th>\n",
       "      <th>vehicletype_small</th>\n",
       "      <th>vehicletype_suv</th>\n",
       "      <th>vehicletype_unknown</th>\n",
       "      <th>...</th>\n",
       "      <th>brand_smart</th>\n",
       "      <th>brand_sonstige_autos</th>\n",
       "      <th>brand_subaru</th>\n",
       "      <th>brand_suzuki</th>\n",
       "      <th>brand_toyota</th>\n",
       "      <th>brand_trabant</th>\n",
       "      <th>brand_volkswagen</th>\n",
       "      <th>brand_volvo</th>\n",
       "      <th>repaired_unknown</th>\n",
       "      <th>repaired_yes</th>\n",
       "    </tr>\n",
       "  </thead>\n",
       "  <tbody>\n",
       "    <tr>\n",
       "      <th>337491</th>\n",
       "      <td>-0.272588</td>\n",
       "      <td>0.587413</td>\n",
       "      <td>0.389852</td>\n",
       "      <td>0.0</td>\n",
       "      <td>0.0</td>\n",
       "      <td>0.0</td>\n",
       "      <td>1.0</td>\n",
       "      <td>0.0</td>\n",
       "      <td>0.0</td>\n",
       "      <td>0.0</td>\n",
       "      <td>...</td>\n",
       "      <td>0.0</td>\n",
       "      <td>0.0</td>\n",
       "      <td>0.0</td>\n",
       "      <td>0.0</td>\n",
       "      <td>0.0</td>\n",
       "      <td>0.0</td>\n",
       "      <td>0.0</td>\n",
       "      <td>0.0</td>\n",
       "      <td>0.0</td>\n",
       "      <td>0.0</td>\n",
       "    </tr>\n",
       "    <tr>\n",
       "      <th>168163</th>\n",
       "      <td>0.346319</td>\n",
       "      <td>0.587413</td>\n",
       "      <td>-1.320207</td>\n",
       "      <td>0.0</td>\n",
       "      <td>0.0</td>\n",
       "      <td>0.0</td>\n",
       "      <td>0.0</td>\n",
       "      <td>0.0</td>\n",
       "      <td>0.0</td>\n",
       "      <td>0.0</td>\n",
       "      <td>...</td>\n",
       "      <td>0.0</td>\n",
       "      <td>0.0</td>\n",
       "      <td>0.0</td>\n",
       "      <td>0.0</td>\n",
       "      <td>0.0</td>\n",
       "      <td>0.0</td>\n",
       "      <td>0.0</td>\n",
       "      <td>0.0</td>\n",
       "      <td>0.0</td>\n",
       "      <td>0.0</td>\n",
       "    </tr>\n",
       "    <tr>\n",
       "      <th>240846</th>\n",
       "      <td>-1.266591</td>\n",
       "      <td>-1.059992</td>\n",
       "      <td>1.415887</td>\n",
       "      <td>0.0</td>\n",
       "      <td>0.0</td>\n",
       "      <td>0.0</td>\n",
       "      <td>0.0</td>\n",
       "      <td>1.0</td>\n",
       "      <td>0.0</td>\n",
       "      <td>0.0</td>\n",
       "      <td>...</td>\n",
       "      <td>0.0</td>\n",
       "      <td>0.0</td>\n",
       "      <td>0.0</td>\n",
       "      <td>0.0</td>\n",
       "      <td>0.0</td>\n",
       "      <td>0.0</td>\n",
       "      <td>1.0</td>\n",
       "      <td>0.0</td>\n",
       "      <td>1.0</td>\n",
       "      <td>0.0</td>\n",
       "    </tr>\n",
       "    <tr>\n",
       "      <th>186621</th>\n",
       "      <td>0.533866</td>\n",
       "      <td>0.587413</td>\n",
       "      <td>1.415887</td>\n",
       "      <td>0.0</td>\n",
       "      <td>0.0</td>\n",
       "      <td>0.0</td>\n",
       "      <td>1.0</td>\n",
       "      <td>0.0</td>\n",
       "      <td>0.0</td>\n",
       "      <td>0.0</td>\n",
       "      <td>...</td>\n",
       "      <td>0.0</td>\n",
       "      <td>0.0</td>\n",
       "      <td>0.0</td>\n",
       "      <td>0.0</td>\n",
       "      <td>0.0</td>\n",
       "      <td>0.0</td>\n",
       "      <td>0.0</td>\n",
       "      <td>0.0</td>\n",
       "      <td>0.0</td>\n",
       "      <td>0.0</td>\n",
       "    </tr>\n",
       "    <tr>\n",
       "      <th>342475</th>\n",
       "      <td>-0.591419</td>\n",
       "      <td>0.587413</td>\n",
       "      <td>-0.294172</td>\n",
       "      <td>0.0</td>\n",
       "      <td>0.0</td>\n",
       "      <td>0.0</td>\n",
       "      <td>0.0</td>\n",
       "      <td>0.0</td>\n",
       "      <td>0.0</td>\n",
       "      <td>0.0</td>\n",
       "      <td>...</td>\n",
       "      <td>0.0</td>\n",
       "      <td>0.0</td>\n",
       "      <td>0.0</td>\n",
       "      <td>0.0</td>\n",
       "      <td>0.0</td>\n",
       "      <td>0.0</td>\n",
       "      <td>0.0</td>\n",
       "      <td>0.0</td>\n",
       "      <td>1.0</td>\n",
       "      <td>0.0</td>\n",
       "    </tr>\n",
       "  </tbody>\n",
       "</table>\n",
       "<p>5 rows × 308 columns</p>\n",
       "</div>"
      ],
      "text/plain": [
       "           power  kilometer       age  vehicletype_convertible  \\\n",
       "337491 -0.272588   0.587413  0.389852                      0.0   \n",
       "168163  0.346319   0.587413 -1.320207                      0.0   \n",
       "240846 -1.266591  -1.059992  1.415887                      0.0   \n",
       "186621  0.533866   0.587413  1.415887                      0.0   \n",
       "342475 -0.591419   0.587413 -0.294172                      0.0   \n",
       "\n",
       "        vehicletype_coupe  vehicletype_other  vehicletype_sedan  \\\n",
       "337491                0.0                0.0                1.0   \n",
       "168163                0.0                0.0                0.0   \n",
       "240846                0.0                0.0                0.0   \n",
       "186621                0.0                0.0                1.0   \n",
       "342475                0.0                0.0                0.0   \n",
       "\n",
       "        vehicletype_small  vehicletype_suv  vehicletype_unknown  ...  \\\n",
       "337491                0.0              0.0                  0.0  ...   \n",
       "168163                0.0              0.0                  0.0  ...   \n",
       "240846                1.0              0.0                  0.0  ...   \n",
       "186621                0.0              0.0                  0.0  ...   \n",
       "342475                0.0              0.0                  0.0  ...   \n",
       "\n",
       "        brand_smart  brand_sonstige_autos  brand_subaru  brand_suzuki  \\\n",
       "337491          0.0                   0.0           0.0           0.0   \n",
       "168163          0.0                   0.0           0.0           0.0   \n",
       "240846          0.0                   0.0           0.0           0.0   \n",
       "186621          0.0                   0.0           0.0           0.0   \n",
       "342475          0.0                   0.0           0.0           0.0   \n",
       "\n",
       "        brand_toyota  brand_trabant  brand_volkswagen  brand_volvo  \\\n",
       "337491           0.0            0.0               0.0          0.0   \n",
       "168163           0.0            0.0               0.0          0.0   \n",
       "240846           0.0            0.0               1.0          0.0   \n",
       "186621           0.0            0.0               0.0          0.0   \n",
       "342475           0.0            0.0               0.0          0.0   \n",
       "\n",
       "        repaired_unknown  repaired_yes  \n",
       "337491               0.0           0.0  \n",
       "168163               0.0           0.0  \n",
       "240846               1.0           0.0  \n",
       "186621               0.0           0.0  \n",
       "342475               1.0           0.0  \n",
       "\n",
       "[5 rows x 308 columns]"
      ]
     },
     "execution_count": 51,
     "metadata": {},
     "output_type": "execute_result"
    }
   ],
   "source": [
    "#энкодером, который обучен на ТРЕНИРОВОЧНОЙ ВЫБОРКЕ, кодируем тестовую\n",
    "X_test_lm[\n",
    "    enc_ohe.get_feature_names_out()\n",
    "] = enc_ohe.transform(X_test_lm[ohe_features_lm])\n",
    "\n",
    "X_test_lm = X_test_lm.drop(ohe_features_lm, axis=1)\n",
    "\n",
    "# скелером, который обучен на ТРЕНИРОВОЧНОЙ ВЫБОРКЕ, масштабируем тестовую\n",
    "X_test_lm[num_features] = scaler.transform(\n",
    "    X_test_lm[num_features]\n",
    ")\n",
    "\n",
    "# смотрим на результат\n",
    "X_test_lm.head()"
   ]
  },
  {
   "cell_type": "markdown",
   "id": "96c0c377-3672-4c59-8849-13fd7bf7027d",
   "metadata": {},
   "source": [
    "**Кодирование OrdinalEncoder**"
   ]
  },
  {
   "cell_type": "code",
   "execution_count": 52,
   "id": "b04c82da-c074-477a-9dbe-2eb1eb71a5d2",
   "metadata": {},
   "outputs": [],
   "source": [
    "ce_ord = ce.OrdinalEncoder(cols = ['vehicletype', 'gearbox', 'model', 'fueltype', 'brand', 'repaired'])\n",
    "X_train = ce_ord.fit_transform(X_train)\n",
    "X_test = ce_ord.transform(X_test)\n",
    "X_valid = ce_ord.transform(X_valid)"
   ]
  },
  {
   "cell_type": "code",
   "execution_count": 53,
   "id": "7290d724-5d63-4283-a970-59710ef2e40c",
   "metadata": {},
   "outputs": [],
   "source": [
    "numeric = ['power','kilometer','age']\n",
    "scaler = StandardScaler()\n",
    "scaler.fit(X_train[numeric])\n",
    "X_train[numeric] = scaler.transform(X_train[numeric])\n",
    "X_test[numeric] = scaler.transform(X_test[numeric])\n",
    "X_valid[numeric]= scaler.transform(X_valid[numeric])"
   ]
  },
  {
   "cell_type": "markdown",
   "id": "495bf0ed-c64f-4b80-abe7-3a80d1899d8b",
   "metadata": {},
   "source": [
    "### 2.Обучение моделей"
   ]
  },
  {
   "cell_type": "markdown",
   "id": "c01b5176-d557-4bcf-93a3-2695a917bebb",
   "metadata": {},
   "source": [
    "**Прежде чем приступим к обучению модели, напишем функцию  RMSE и сделаем оценку для кросс-валидации**"
   ]
  },
  {
   "cell_type": "code",
   "execution_count": 54,
   "id": "be443bfe-4d0c-450c-8caa-ccf03e50bb48",
   "metadata": {},
   "outputs": [],
   "source": [
    "def RMSE(target,predictions):\n",
    "    MSE = mean_squared_error(target, predictions)\n",
    "    return MSE ** 0.5\n",
    "RMSE_score = make_scorer(RMSE, greater_is_better=False)"
   ]
  },
  {
   "cell_type": "markdown",
   "id": "b04f4c6d-7317-41d0-8afc-1b081766b9e4",
   "metadata": {},
   "source": [
    "#### LinearRegression"
   ]
  },
  {
   "cell_type": "code",
   "execution_count": 55,
   "id": "32ea9745-433f-4893-b4a1-b7f30d2ddbed",
   "metadata": {},
   "outputs": [],
   "source": [
    "model_lr = LinearRegression().fit(X_train_lm, y_train)"
   ]
  },
  {
   "cell_type": "code",
   "execution_count": 56,
   "id": "4e0df7b4-0702-4dd5-8203-6dbfc574bdaa",
   "metadata": {},
   "outputs": [
    {
     "name": "stdout",
     "output_type": "stream",
     "text": [
      "CPU times: total: 16.3 s\n",
      "Wall time: 1min 6s\n"
     ]
    },
    {
     "data": {
      "text/plain": [
       "{'copy_X': True, 'fit_intercept': True}"
      ]
     },
     "execution_count": 56,
     "metadata": {},
     "output_type": "execute_result"
    }
   ],
   "source": [
    "%%time\n",
    "parameters = {'fit_intercept':[True,False], 'copy_X':[True, False]}\n",
    "grid = GridSearchCV(model_lr,parameters, cv=4, scoring = RMSE_score, n_jobs=-1)\n",
    "grid.fit(X_train_lm, y_train)\n",
    "grid.best_params_"
   ]
  },
  {
   "cell_type": "code",
   "execution_count": 57,
   "id": "c71a5d43-6264-489d-b488-91e1b51e6808",
   "metadata": {},
   "outputs": [
    {
     "name": "stdout",
     "output_type": "stream",
     "text": [
      "CPU times: total: 12.7 s\n",
      "Wall time: 3.95 s\n"
     ]
    }
   ],
   "source": [
    "%%time\n",
    "lr_train = LinearRegression(**grid.best_params_).fit(X_train_lm, y_train)"
   ]
  },
  {
   "cell_type": "code",
   "execution_count": 58,
   "id": "1aef6766-60ce-42dd-8738-00d5aeb85c58",
   "metadata": {},
   "outputs": [
    {
     "name": "stdout",
     "output_type": "stream",
     "text": [
      "CPU times: total: 469 ms\n",
      "Wall time: 359 ms\n"
     ]
    }
   ],
   "source": [
    "%%time\n",
    "lr_pred = lr_train.predict(X_valid_lm)"
   ]
  },
  {
   "cell_type": "code",
   "execution_count": 59,
   "id": "bc399345-0136-40b6-93af-469469d3c935",
   "metadata": {},
   "outputs": [
    {
     "name": "stdout",
     "output_type": "stream",
     "text": [
      "LinearRegression RMSE: 2374.06\n"
     ]
    }
   ],
   "source": [
    "rmse_lr = np.sqrt(mse(y_valid, lr_pred))\n",
    "print(\"LinearRegression RMSE: %.2f\" % rmse_lr) "
   ]
  },
  {
   "cell_type": "markdown",
   "id": "30215e2e-9b92-4317-bf3b-40b8da2a060d",
   "metadata": {},
   "source": [
    "#### LGBM модель"
   ]
  },
  {
   "cell_type": "code",
   "execution_count": 60,
   "id": "81d834e2-7e81-486e-a3ba-8b005ab45ffe",
   "metadata": {},
   "outputs": [],
   "source": [
    "lgbm_params = {\n",
    "    'n_estimators': [10,50,100],\n",
    "    'max_depth': [15,50],\n",
    "    'num_leaves': [10,20,31],\n",
    "    'learning_rate': [0.1]\n",
    "}\n",
    "lgbm_reg_model = LGBMRegressor(random_state=42) "
   ]
  },
  {
   "cell_type": "code",
   "execution_count": 61,
   "id": "2249a539-4858-49fc-982d-0d7b11e59e58",
   "metadata": {},
   "outputs": [
    {
     "name": "stdout",
     "output_type": "stream",
     "text": [
      "CPU times: total: 3.7 s\n",
      "Wall time: 19.6 s\n"
     ]
    },
    {
     "data": {
      "text/plain": [
       "{'learning_rate': 0.1, 'max_depth': 15, 'n_estimators': 10, 'num_leaves': 10}"
      ]
     },
     "execution_count": 61,
     "metadata": {},
     "output_type": "execute_result"
    }
   ],
   "source": [
    "%%time\n",
    "lgbm_model = GridSearchCV(lgbm_reg_model,\n",
    "                             lgbm_params,\n",
    "                             cv=4,\n",
    "                             scoring = RMSE_score,\n",
    "                             n_jobs=-1,\n",
    "                             verbose=False).fit(X_train, y_train)\n",
    "lgbm_model.best_params_"
   ]
  },
  {
   "cell_type": "code",
   "execution_count": 62,
   "id": "89b28ea6-8824-435b-8ddd-4edec5c29c6e",
   "metadata": {},
   "outputs": [
    {
     "name": "stdout",
     "output_type": "stream",
     "text": [
      "CPU times: total: 938 ms\n",
      "Wall time: 242 ms\n"
     ]
    }
   ],
   "source": [
    "%%time\n",
    "lgbm_train = LGBMRegressor(**lgbm_model.best_params_).fit(X_train, y_train)"
   ]
  },
  {
   "cell_type": "code",
   "execution_count": 63,
   "id": "e164cfaf-e404-4c97-8728-5b61b1daeb7d",
   "metadata": {},
   "outputs": [
    {
     "name": "stdout",
     "output_type": "stream",
     "text": [
      "CPU times: total: 93.8 ms\n",
      "Wall time: 42.7 ms\n"
     ]
    }
   ],
   "source": [
    "%%time\n",
    "lgbm_pred = lgbm_train.predict(X_valid)"
   ]
  },
  {
   "cell_type": "code",
   "execution_count": 64,
   "id": "f6122831-7ecc-45d3-b03f-cfbb262f3f80",
   "metadata": {},
   "outputs": [
    {
     "name": "stdout",
     "output_type": "stream",
     "text": [
      "LGBMRegressor RMSE: 2782.71\n"
     ]
    }
   ],
   "source": [
    "rmse_lgbm = np.sqrt(mse(y_valid, lgbm_pred))\n",
    "print(\"LGBMRegressor RMSE: %.2f\" % rmse_lgbm) "
   ]
  },
  {
   "cell_type": "markdown",
   "id": "40eeadbd-0af6-4c4a-b21f-1110a7161650",
   "metadata": {},
   "source": [
    "####  CatBoost"
   ]
  },
  {
   "cell_type": "code",
   "execution_count": 65,
   "id": "e5f5f17b-3a97-4b65-a016-10e8eebe7aab",
   "metadata": {},
   "outputs": [],
   "source": [
    "catboost_params = {\n",
    "    'learning_rate': [0.1],\n",
    "    'iterations': [50, 100, 200],\n",
    "    'max_depth': [2, 4, 6]\n",
    "}\n",
    "catboost_model = CatBoostRegressor(random_state=42,silent=True)"
   ]
  },
  {
   "cell_type": "code",
   "execution_count": 66,
   "id": "a4ea6463-a496-4c3f-8f45-a362971d0451",
   "metadata": {},
   "outputs": [
    {
     "name": "stdout",
     "output_type": "stream",
     "text": [
      "CPU times: total: 3.97 s\n",
      "Wall time: 39.6 s\n"
     ]
    },
    {
     "data": {
      "text/plain": [
       "{'iterations': 50, 'learning_rate': 0.1, 'max_depth': 2}"
      ]
     },
     "execution_count": 66,
     "metadata": {},
     "output_type": "execute_result"
    }
   ],
   "source": [
    "%%time\n",
    "cat_model = GridSearchCV(catboost_model, param_grid = catboost_params, cv = 4, n_jobs=-1, scoring=RMSE_score).fit(X_train, y_train)\n",
    "\n",
    "cat_model.best_params_"
   ]
  },
  {
   "cell_type": "code",
   "execution_count": 67,
   "id": "77b0bf7a-491a-4fd0-a037-304423cb71d7",
   "metadata": {},
   "outputs": [
    {
     "name": "stdout",
     "output_type": "stream",
     "text": [
      "CPU times: total: 2.98 s\n",
      "Wall time: 634 ms\n"
     ]
    }
   ],
   "source": [
    "%%time\n",
    "cat_train = CatBoostRegressor(**cat_model.best_params_,  logging_level='Silent').fit(X_train, y_train)"
   ]
  },
  {
   "cell_type": "code",
   "execution_count": 68,
   "id": "513426dc-7195-47f4-b7af-0d4ab1d72060",
   "metadata": {},
   "outputs": [
    {
     "name": "stdout",
     "output_type": "stream",
     "text": [
      "CPU times: total: 15.6 ms\n",
      "Wall time: 11.1 ms\n"
     ]
    }
   ],
   "source": [
    "%%time\n",
    "cat_pred = cat_train.predict(X_valid)"
   ]
  },
  {
   "cell_type": "code",
   "execution_count": 69,
   "id": "a00724c6-55cd-496b-a2d0-f05c8c6bf19d",
   "metadata": {},
   "outputs": [
    {
     "name": "stdout",
     "output_type": "stream",
     "text": [
      "CatBoostRegressor RMSE: 2245.44\n"
     ]
    }
   ],
   "source": [
    "cat_rmse = np.sqrt(mse(y_valid,cat_pred))\n",
    "print(\"CatBoostRegressor RMSE: %.2f\" % cat_rmse) "
   ]
  },
  {
   "cell_type": "markdown",
   "id": "ca15776f-c9d3-4727-a07c-6a439f0bb693",
   "metadata": {},
   "source": [
    "#### DecisionTree"
   ]
  },
  {
   "cell_type": "code",
   "execution_count": 70,
   "id": "ed4db944-8203-4d00-8c46-2df572e05507",
   "metadata": {},
   "outputs": [],
   "source": [
    "DT_model = DecisionTreeRegressor(random_state=42)\n",
    "treeregressor_params = {'max_depth':range (1,10), 'min_samples_split':range(2,6), 'min_samples_leaf':range(1,10) }"
   ]
  },
  {
   "cell_type": "code",
   "execution_count": 71,
   "id": "01e794d5-cea1-4bc9-b138-926d266f615d",
   "metadata": {},
   "outputs": [
    {
     "name": "stdout",
     "output_type": "stream",
     "text": [
      "CPU times: total: 1min 2s\n",
      "Wall time: 2min 7s\n"
     ]
    },
    {
     "data": {
      "text/plain": [
       "{'max_depth': 1, 'min_samples_leaf': 1, 'min_samples_split': 2}"
      ]
     },
     "execution_count": 71,
     "metadata": {},
     "output_type": "execute_result"
    }
   ],
   "source": [
    "%%time\n",
    "DT_model = GridSearchCV(DT_model , param_grid = treeregressor_params, cv=5,\n",
    "                                            scoring = RMSE_score, n_jobs=-1)\n",
    "DT_model.fit(X_train,y_train)\n",
    "DT_model.best_params_"
   ]
  },
  {
   "cell_type": "code",
   "execution_count": 72,
   "id": "f041a5b7-075c-4d09-a6cb-262d84e49049",
   "metadata": {},
   "outputs": [
    {
     "name": "stdout",
     "output_type": "stream",
     "text": [
      "CPU times: total: 93.8 ms\n",
      "Wall time: 85.6 ms\n"
     ]
    }
   ],
   "source": [
    "%%time\n",
    "DT_train = DecisionTreeRegressor(**DT_model.best_params_).fit(X_train, y_train)"
   ]
  },
  {
   "cell_type": "code",
   "execution_count": 73,
   "id": "822b0bc8-aac6-4f95-bcf2-0c3992d50945",
   "metadata": {},
   "outputs": [
    {
     "name": "stdout",
     "output_type": "stream",
     "text": [
      "CPU times: total: 15.6 ms\n",
      "Wall time: 13.2 ms\n"
     ]
    }
   ],
   "source": [
    "%%time\n",
    "DT_pred = DT_train.predict(X_valid)"
   ]
  },
  {
   "cell_type": "code",
   "execution_count": 74,
   "id": "2867e7b1-5bd3-44a0-a3ad-87a18f028093",
   "metadata": {},
   "outputs": [
    {
     "name": "stdout",
     "output_type": "stream",
     "text": [
      "DecisionTreeRegressor RMSE: 3593.29\n"
     ]
    }
   ],
   "source": [
    "DT_rmse = np.sqrt(mse(y_valid, DT_pred))\n",
    "print(\"DecisionTreeRegressor RMSE: %.2f\" % DT_rmse) "
   ]
  },
  {
   "cell_type": "markdown",
   "id": "8c6a083d-2c71-46a0-b748-2df8ab1a744c",
   "metadata": {},
   "source": [
    "### 3. Анализ моделей"
   ]
  },
  {
   "cell_type": "code",
   "execution_count": 75,
   "id": "93a43084-01ea-43da-94da-929bc7549e34",
   "metadata": {},
   "outputs": [
    {
     "name": "stdout",
     "output_type": "stream",
     "text": [
      "LinearRegression:\n",
      "RMSE:2374.06, скорость предсказания: 260 ms, время обучения: 2.87 s\n",
      "LightGBM:\n",
      "RMSE:2782.71, скорость предсказания: 96.8 ms, время обучения: 540 ms\n",
      "Catboost:\n",
      "RMSE:2245.44, скорость предсказания: 13 ms, время обучения: 3.27 s\n",
      "DecisionTree:\n",
      "RMSE:3593.29, скорость предсказания: 16.7 ms, время обучения: 542 ms\n"
     ]
    }
   ],
   "source": [
    "print('LinearRegression:', end = '')\n",
    "print()\n",
    "print(f'RMSE:{rmse_lr.round(2)}, скорость предсказания: 260 ms, время обучения: 2.87 s')\n",
    "print('LightGBM:', end = '')\n",
    "print()\n",
    "print(f'RMSE:{rmse_lgbm.round(2)}, скорость предсказания: 96.8 ms, время обучения: 540 ms')\n",
    "print('Catboost:', end = '')\n",
    "print()\n",
    "print(f'RMSE:{cat_rmse.round(2)}, скорость предсказания: 13 ms, время обучения: 3.27 s')\n",
    "print('DecisionTree:', end = '')\n",
    "print()\n",
    "print(f'RMSE:{DT_rmse.round(2)}, скорость предсказания: 16.7 ms, время обучения: 542 ms')"
   ]
  },
  {
   "cell_type": "markdown",
   "id": "9b13555d-c4d5-4194-a2cc-5d5ad05d58bb",
   "metadata": {},
   "source": [
    "#### Вывод"
   ]
  },
  {
   "cell_type": "markdown",
   "id": "254d09d1-7073-44b6-a91b-60a47574e5d6",
   "metadata": {},
   "source": [
    "* **Обучение на валидационной выборке**\n",
    "* **`RMSE`**\n",
    "  * `LinearRegression` 2374.06\n",
    "  * `LightGBM:` 2782.71\n",
    "  * **`CatBoost:` 2245.44**\n",
    "  * `DecisionTrees:` 3593.29\n",
    " \n",
    "* **время обучения:**\n",
    "  * `LinearRegression` 2.87 s\n",
    "  * **`LightGBM:` 540 ms**\n",
    "  * `CatBoost:` 3.27 s\n",
    "  * `DecisionTrees:` 542 ms\n",
    "  \n",
    "* **время предсказания** \n",
    "  * `LinearRegression`  260 ms\n",
    "  * `LightGBM:` 96.8 ms\n",
    "  * **`CatBoost:`13 ms**\n",
    "  * `DecisionTrees:` 16.7 ms"
   ]
  },
  {
   "cell_type": "markdown",
   "id": "43d332a5-7698-4816-b08f-b376acab95c9",
   "metadata": {},
   "source": [
    "**Для данной задачи лучшая для заказчика в плане качества предсказания, скорости предсказания, времени обучения - модель `CatBoost`.**"
   ]
  },
  {
   "cell_type": "markdown",
   "id": "94d0d064-0984-42ec-89e6-2d18335bafb7",
   "metadata": {},
   "source": [
    "**Проверим на тестовой выборке**"
   ]
  },
  {
   "cell_type": "code",
   "execution_count": 76,
   "id": "380bf419-5ff5-4fad-871e-bf1a542195cd",
   "metadata": {},
   "outputs": [
    {
     "name": "stdout",
     "output_type": "stream",
     "text": [
      "CPU times: total: 31.2 ms\n",
      "Wall time: 17.5 ms\n"
     ]
    }
   ],
   "source": [
    "%%time\n",
    "final_cat_pred = cat_train.predict(X_test)"
   ]
  },
  {
   "cell_type": "code",
   "execution_count": 77,
   "id": "4bea4101-c8e9-4b37-a5d6-2cb48ec2704e",
   "metadata": {},
   "outputs": [
    {
     "name": "stdout",
     "output_type": "stream",
     "text": [
      "CatBoostRegressor RMSE: 2259.40\n"
     ]
    }
   ],
   "source": [
    "final_cat_rmse = np.sqrt(mse(y_test, final_cat_pred))\n",
    "print(\"CatBoostRegressor RMSE: %.2f\" % final_cat_rmse)"
   ]
  },
  {
   "cell_type": "markdown",
   "id": "30671b3d-5775-416d-8b5d-e945670b8816",
   "metadata": {},
   "source": [
    "#### Общий вывод"
   ]
  },
  {
   "cell_type": "markdown",
   "id": "a4e85a7b-b82b-42fa-a051-ef3be7ab8322",
   "metadata": {},
   "source": [
    "1. Были загружены и переработаны  данные\n",
    "2. Были перекодированы и стандартизированы данные. Произвели раделение df на тренировачную и тестовую выборки.\n",
    "3. Были обучены на тренировачной выборки различные модели машинного обучения.\n",
    "4. Проанализировав полученные данные было принято решение использовать модель **`CatBoost`**\n",
    "* **Обучение на валидационной выборке**\n",
    "* **`RMSE`**\n",
    "  * `LinearRegression` 2374.06\n",
    "  * `LightGBM:` 2782.71\n",
    "  * **`CatBoost:` 2245.44**\n",
    "  * `DecisionTrees:` 3593.29\n",
    " \n",
    "* **время обучения:**\n",
    "  * `LinearRegression` 2.87 s\n",
    "  * **`LightGBM:` 540 ms**\n",
    "  * `CatBoost:` 3.27 s\n",
    "  * `DecisionTrees:` 542 ms\n",
    "  \n",
    "* **время предсказания** \n",
    "  * `LinearRegression`  260 ms\n",
    "  * `LightGBM:` 96.8 ms\n",
    "  * **`CatBoost:`13 ms**\n",
    "  * `DecisionTrees:` 16.7 ms\n",
    "  \n",
    "5. Протестировав модель **`CatBoost`** на тестовой выборке получили следующий результат:\n",
    "* **`RMSE`** - **2259.40**\n",
    "* **`временя предсказания`** - **9.29 ms.**\n",
    "\n",
    "**Что полность удовлетворяет условию заказчика а иммено подобрать оптимальную модель у которой метрика `RMSE` будет менше значения в 2500.**"
   ]
  },
  {
   "cell_type": "code",
   "execution_count": null,
   "id": "deb22c12-fb25-4f09-a559-ef22dd276212",
   "metadata": {},
   "outputs": [],
   "source": []
  },
  {
   "cell_type": "code",
   "execution_count": null,
   "id": "dacac982-ff63-4857-8fe7-ece4712edf5f",
   "metadata": {},
   "outputs": [],
   "source": []
  },
  {
   "cell_type": "code",
   "execution_count": null,
   "id": "a702237c-f3c5-4ec8-9a19-71a9a95189a5",
   "metadata": {},
   "outputs": [],
   "source": []
  }
 ],
 "metadata": {
  "ExecuteTimeLog": [
   {
    "duration": 1305,
    "start_time": "2023-02-28T18:28:02.075Z"
   },
   {
    "duration": 0,
    "start_time": "2023-02-28T18:28:03.383Z"
   },
   {
    "duration": 0,
    "start_time": "2023-02-28T18:28:03.384Z"
   },
   {
    "duration": 0,
    "start_time": "2023-02-28T18:28:03.386Z"
   },
   {
    "duration": 0,
    "start_time": "2023-02-28T18:28:03.387Z"
   },
   {
    "duration": 0,
    "start_time": "2023-02-28T18:28:03.388Z"
   },
   {
    "duration": 9,
    "start_time": "2023-02-28T18:28:03.483Z"
   },
   {
    "duration": 9,
    "start_time": "2023-02-28T18:28:03.663Z"
   },
   {
    "duration": 11,
    "start_time": "2023-02-28T18:28:04.114Z"
   },
   {
    "duration": 13,
    "start_time": "2023-02-28T18:28:11.887Z"
   },
   {
    "duration": 2933,
    "start_time": "2023-02-28T18:28:22.983Z"
   },
   {
    "duration": 208,
    "start_time": "2023-02-28T18:28:27.704Z"
   },
   {
    "duration": 2931,
    "start_time": "2023-02-28T18:28:30.203Z"
   },
   {
    "duration": 907,
    "start_time": "2023-02-28T18:28:33.137Z"
   },
   {
    "duration": 1014,
    "start_time": "2023-02-28T18:28:34.045Z"
   },
   {
    "duration": 19,
    "start_time": "2023-02-28T18:28:35.061Z"
   },
   {
    "duration": 1534,
    "start_time": "2023-02-28T18:28:35.082Z"
   },
   {
    "duration": 31,
    "start_time": "2023-02-28T18:28:36.618Z"
   },
   {
    "duration": 61,
    "start_time": "2023-02-28T18:28:36.650Z"
   },
   {
    "duration": 20,
    "start_time": "2023-02-28T18:28:36.713Z"
   },
   {
    "duration": 20,
    "start_time": "2023-02-28T18:28:36.735Z"
   },
   {
    "duration": 91,
    "start_time": "2023-02-28T18:28:36.757Z"
   },
   {
    "duration": 29,
    "start_time": "2023-02-28T18:28:36.850Z"
   },
   {
    "duration": 31,
    "start_time": "2023-02-28T18:28:36.881Z"
   },
   {
    "duration": 85,
    "start_time": "2023-02-28T18:28:36.915Z"
   },
   {
    "duration": 22,
    "start_time": "2023-02-28T18:28:37.002Z"
   },
   {
    "duration": 24,
    "start_time": "2023-02-28T18:28:37.027Z"
   },
   {
    "duration": 34,
    "start_time": "2023-02-28T18:28:37.160Z"
   },
   {
    "duration": 6,
    "start_time": "2023-02-28T18:28:37.450Z"
   },
   {
    "duration": 3,
    "start_time": "2023-02-28T18:28:38.210Z"
   },
   {
    "duration": 3081,
    "start_time": "2023-02-28T18:28:38.420Z"
   },
   {
    "duration": 80,
    "start_time": "2023-02-28T18:28:41.504Z"
   },
   {
    "duration": 20,
    "start_time": "2023-02-28T18:28:41.585Z"
   },
   {
    "duration": 7,
    "start_time": "2023-02-28T18:28:41.607Z"
   },
   {
    "duration": 1541,
    "start_time": "2023-02-28T18:28:41.615Z"
   },
   {
    "duration": 6,
    "start_time": "2023-02-28T18:28:46.804Z"
   },
   {
    "duration": 29,
    "start_time": "2023-02-28T18:28:55.443Z"
   },
   {
    "duration": 2938,
    "start_time": "2023-02-28T20:02:33.243Z"
   },
   {
    "duration": 2131,
    "start_time": "2023-02-28T20:02:36.183Z"
   },
   {
    "duration": 1068,
    "start_time": "2023-02-28T20:02:38.316Z"
   },
   {
    "duration": 807,
    "start_time": "2023-02-28T20:02:39.386Z"
   },
   {
    "duration": 919,
    "start_time": "2023-02-28T20:02:40.195Z"
   },
   {
    "duration": 14,
    "start_time": "2023-02-28T20:02:41.116Z"
   },
   {
    "duration": 1606,
    "start_time": "2023-02-28T20:02:41.132Z"
   },
   {
    "duration": 23,
    "start_time": "2023-02-28T20:02:42.740Z"
   },
   {
    "duration": 53,
    "start_time": "2023-02-28T20:02:42.764Z"
   },
   {
    "duration": 18,
    "start_time": "2023-02-28T20:02:42.819Z"
   },
   {
    "duration": 9,
    "start_time": "2023-02-28T20:02:42.839Z"
   },
   {
    "duration": 128,
    "start_time": "2023-02-28T20:02:42.849Z"
   },
   {
    "duration": 25,
    "start_time": "2023-02-28T20:02:42.979Z"
   },
   {
    "duration": 16,
    "start_time": "2023-02-28T20:02:43.006Z"
   },
   {
    "duration": 62,
    "start_time": "2023-02-28T20:02:43.024Z"
   },
   {
    "duration": 17,
    "start_time": "2023-02-28T20:02:43.087Z"
   },
   {
    "duration": 6,
    "start_time": "2023-02-28T20:02:43.106Z"
   },
   {
    "duration": 26,
    "start_time": "2023-02-28T20:02:43.114Z"
   },
   {
    "duration": 5,
    "start_time": "2023-02-28T20:02:43.142Z"
   },
   {
    "duration": 3,
    "start_time": "2023-02-28T20:02:43.149Z"
   },
   {
    "duration": 3452,
    "start_time": "2023-02-28T20:02:43.185Z"
   },
   {
    "duration": 90,
    "start_time": "2023-02-28T20:02:46.640Z"
   },
   {
    "duration": 11,
    "start_time": "2023-02-28T20:02:46.732Z"
   },
   {
    "duration": 4,
    "start_time": "2023-02-28T20:02:46.744Z"
   },
   {
    "duration": 1653,
    "start_time": "2023-02-28T20:02:46.750Z"
   },
   {
    "duration": 74,
    "start_time": "2023-02-28T20:02:50.182Z"
   },
   {
    "duration": 81,
    "start_time": "2023-02-28T20:02:57.502Z"
   },
   {
    "duration": 60,
    "start_time": "2023-02-28T20:03:02.788Z"
   },
   {
    "duration": 55,
    "start_time": "2023-02-28T20:03:12.479Z"
   },
   {
    "duration": 7,
    "start_time": "2023-02-28T20:03:26.488Z"
   },
   {
    "duration": 38,
    "start_time": "2023-02-28T20:03:53.928Z"
   },
   {
    "duration": 41,
    "start_time": "2023-02-28T20:07:56.795Z"
   },
   {
    "duration": 132,
    "start_time": "2023-02-28T20:07:56.952Z"
   },
   {
    "duration": 25,
    "start_time": "2023-02-28T20:08:03.016Z"
   },
   {
    "duration": 16,
    "start_time": "2023-02-28T20:08:07.099Z"
   },
   {
    "duration": 7,
    "start_time": "2023-02-28T20:08:14.052Z"
   },
   {
    "duration": 1250,
    "start_time": "2023-02-28T20:08:16.144Z"
   },
   {
    "duration": 18,
    "start_time": "2023-02-28T20:08:24.020Z"
   },
   {
    "duration": 5,
    "start_time": "2023-02-28T20:08:45.620Z"
   },
   {
    "duration": 2091,
    "start_time": "2023-02-28T20:09:40.319Z"
   },
   {
    "duration": 1828,
    "start_time": "2023-02-28T20:09:42.413Z"
   },
   {
    "duration": 779,
    "start_time": "2023-02-28T20:09:44.243Z"
   },
   {
    "duration": 817,
    "start_time": "2023-02-28T20:09:45.024Z"
   },
   {
    "duration": 875,
    "start_time": "2023-02-28T20:09:45.843Z"
   },
   {
    "duration": 13,
    "start_time": "2023-02-28T20:09:46.719Z"
   },
   {
    "duration": 1683,
    "start_time": "2023-02-28T20:09:46.734Z"
   },
   {
    "duration": 24,
    "start_time": "2023-02-28T20:09:48.419Z"
   },
   {
    "duration": 60,
    "start_time": "2023-02-28T20:09:48.445Z"
   },
   {
    "duration": 18,
    "start_time": "2023-02-28T20:09:48.507Z"
   },
   {
    "duration": 70,
    "start_time": "2023-02-28T20:09:48.526Z"
   },
   {
    "duration": 54,
    "start_time": "2023-02-28T20:09:48.598Z"
   },
   {
    "duration": 32,
    "start_time": "2023-02-28T20:09:48.654Z"
   },
   {
    "duration": 15,
    "start_time": "2023-02-28T20:09:48.688Z"
   },
   {
    "duration": 41,
    "start_time": "2023-02-28T20:09:48.705Z"
   },
   {
    "duration": 15,
    "start_time": "2023-02-28T20:09:48.748Z"
   },
   {
    "duration": 29,
    "start_time": "2023-02-28T20:09:48.765Z"
   },
   {
    "duration": 27,
    "start_time": "2023-02-28T20:09:48.795Z"
   },
   {
    "duration": 5,
    "start_time": "2023-02-28T20:09:48.824Z"
   },
   {
    "duration": 12,
    "start_time": "2023-02-28T20:09:48.830Z"
   },
   {
    "duration": 3413,
    "start_time": "2023-02-28T20:09:48.844Z"
   },
   {
    "duration": 90,
    "start_time": "2023-02-28T20:09:52.259Z"
   },
   {
    "duration": 11,
    "start_time": "2023-02-28T20:09:52.351Z"
   },
   {
    "duration": 4,
    "start_time": "2023-02-28T20:09:52.363Z"
   },
   {
    "duration": 1317,
    "start_time": "2023-02-28T20:09:52.385Z"
   },
   {
    "duration": 11,
    "start_time": "2023-02-28T20:09:53.704Z"
   },
   {
    "duration": 48,
    "start_time": "2023-02-28T20:09:53.716Z"
   },
   {
    "duration": 33,
    "start_time": "2023-02-28T20:09:53.768Z"
   },
   {
    "duration": 18,
    "start_time": "2023-02-28T20:09:53.803Z"
   },
   {
    "duration": 13,
    "start_time": "2023-02-28T20:09:53.822Z"
   },
   {
    "duration": 558,
    "start_time": "2023-02-28T20:09:53.837Z"
   },
   {
    "duration": 4,
    "start_time": "2023-02-28T20:09:54.397Z"
   },
   {
    "duration": 33,
    "start_time": "2023-02-28T20:09:54.402Z"
   },
   {
    "duration": 28,
    "start_time": "2023-02-28T20:09:54.437Z"
   },
   {
    "duration": 330,
    "start_time": "2023-02-28T20:09:54.467Z"
   },
   {
    "duration": 20,
    "start_time": "2023-02-28T20:09:54.799Z"
   },
   {
    "duration": 65,
    "start_time": "2023-02-28T20:09:54.820Z"
   },
   {
    "duration": 817,
    "start_time": "2023-02-28T20:09:54.887Z"
   },
   {
    "duration": 62,
    "start_time": "2023-02-28T20:09:55.706Z"
   },
   {
    "duration": 5,
    "start_time": "2023-02-28T20:10:02.624Z"
   },
   {
    "duration": 6,
    "start_time": "2023-02-28T20:10:15.340Z"
   },
   {
    "duration": 132,
    "start_time": "2023-02-28T20:10:23.462Z"
   },
   {
    "duration": 9,
    "start_time": "2023-02-28T20:10:26.052Z"
   },
   {
    "duration": 86,
    "start_time": "2023-03-04T07:29:14.682Z"
   },
   {
    "duration": 13,
    "start_time": "2023-03-04T07:29:21.977Z"
   },
   {
    "duration": 2967,
    "start_time": "2023-03-04T07:39:47.572Z"
   },
   {
    "duration": 2908,
    "start_time": "2023-03-04T07:39:50.541Z"
   },
   {
    "duration": 1163,
    "start_time": "2023-03-04T07:39:53.451Z"
   },
   {
    "duration": 3,
    "start_time": "2023-03-04T07:39:54.616Z"
   },
   {
    "duration": 896,
    "start_time": "2023-03-04T07:39:54.621Z"
   },
   {
    "duration": 1008,
    "start_time": "2023-03-04T07:39:55.519Z"
   },
   {
    "duration": 65,
    "start_time": "2023-03-04T07:39:56.530Z"
   },
   {
    "duration": 1732,
    "start_time": "2023-03-04T07:39:56.597Z"
   },
   {
    "duration": 31,
    "start_time": "2023-03-04T07:39:58.331Z"
   },
   {
    "duration": 69,
    "start_time": "2023-03-04T07:39:58.365Z"
   },
   {
    "duration": 18,
    "start_time": "2023-03-04T07:39:58.436Z"
   },
   {
    "duration": 12,
    "start_time": "2023-03-04T07:39:58.456Z"
   },
   {
    "duration": 68,
    "start_time": "2023-03-04T07:39:58.469Z"
   },
   {
    "duration": 1430,
    "start_time": "2023-03-04T07:39:58.539Z"
   },
   {
    "duration": 36,
    "start_time": "2023-03-04T07:39:59.970Z"
   },
   {
    "duration": 45,
    "start_time": "2023-03-04T07:40:00.011Z"
   },
   {
    "duration": 63,
    "start_time": "2023-03-04T07:40:00.057Z"
   },
   {
    "duration": 16,
    "start_time": "2023-03-04T07:40:00.121Z"
   },
   {
    "duration": 29,
    "start_time": "2023-03-04T07:40:00.139Z"
   },
   {
    "duration": 44,
    "start_time": "2023-03-04T07:40:00.169Z"
   },
   {
    "duration": 15,
    "start_time": "2023-03-04T07:40:00.215Z"
   },
   {
    "duration": 21,
    "start_time": "2023-03-04T07:40:00.231Z"
   },
   {
    "duration": 3194,
    "start_time": "2023-03-04T07:40:00.254Z"
   },
   {
    "duration": 92,
    "start_time": "2023-03-04T07:40:03.450Z"
   },
   {
    "duration": 18,
    "start_time": "2023-03-04T07:40:03.543Z"
   },
   {
    "duration": 79,
    "start_time": "2023-03-04T07:40:03.562Z"
   },
   {
    "duration": 1497,
    "start_time": "2023-03-04T07:40:03.643Z"
   },
   {
    "duration": 13,
    "start_time": "2023-03-04T07:40:05.143Z"
   },
   {
    "duration": 113,
    "start_time": "2023-03-04T07:40:05.157Z"
   },
   {
    "duration": 6,
    "start_time": "2023-03-04T07:40:05.272Z"
   },
   {
    "duration": 54,
    "start_time": "2023-03-04T07:40:05.280Z"
   },
   {
    "duration": 39,
    "start_time": "2023-03-04T07:40:05.336Z"
   },
   {
    "duration": 6,
    "start_time": "2023-03-04T07:40:05.377Z"
   },
   {
    "duration": 41,
    "start_time": "2023-03-04T07:40:05.385Z"
   },
   {
    "duration": 734,
    "start_time": "2023-03-04T07:40:05.428Z"
   },
   {
    "duration": 5,
    "start_time": "2023-03-04T07:40:06.164Z"
   },
   {
    "duration": 74,
    "start_time": "2023-03-04T07:40:06.170Z"
   },
   {
    "duration": 32,
    "start_time": "2023-03-04T07:40:06.246Z"
   },
   {
    "duration": 476,
    "start_time": "2023-03-04T07:40:06.280Z"
   },
   {
    "duration": 3,
    "start_time": "2023-03-04T07:40:06.758Z"
   },
   {
    "duration": 27,
    "start_time": "2023-03-04T07:40:06.763Z"
   },
   {
    "duration": 6,
    "start_time": "2023-03-04T07:40:15.669Z"
   },
   {
    "duration": 13,
    "start_time": "2023-03-04T07:40:20.964Z"
   },
   {
    "duration": 12,
    "start_time": "2023-03-04T07:40:28.864Z"
   },
   {
    "duration": 6,
    "start_time": "2023-03-04T07:40:31.020Z"
   },
   {
    "duration": 243,
    "start_time": "2023-03-04T07:40:37.661Z"
   }
  ],
  "kernelspec": {
   "display_name": "Python 3 (ipykernel)",
   "language": "python",
   "name": "python3"
  },
  "language_info": {
   "codemirror_mode": {
    "name": "ipython",
    "version": 3
   },
   "file_extension": ".py",
   "mimetype": "text/x-python",
   "name": "python",
   "nbconvert_exporter": "python",
   "pygments_lexer": "ipython3",
   "version": "3.10.9"
  },
  "toc": {
   "base_numbering": 1,
   "nav_menu": {},
   "number_sections": true,
   "sideBar": true,
   "skip_h1_title": true,
   "title_cell": "Table of Contents",
   "title_sidebar": "Contents",
   "toc_cell": false,
   "toc_position": {
    "height": "calc(100% - 180px)",
    "left": "10px",
    "top": "150px",
    "width": "305px"
   },
   "toc_section_display": true,
   "toc_window_display": false
  }
 },
 "nbformat": 4,
 "nbformat_minor": 5
}
