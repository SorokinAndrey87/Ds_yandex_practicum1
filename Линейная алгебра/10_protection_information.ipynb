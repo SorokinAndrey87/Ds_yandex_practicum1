{
 "cells": [
  {
   "cell_type": "markdown",
   "metadata": {},
   "source": [
    "# Проект по Линейной алгебре"
   ]
  },
  {
   "cell_type": "markdown",
   "metadata": {},
   "source": [
    "## Защита персональных данных клиентов"
   ]
  },
  {
   "cell_type": "markdown",
   "metadata": {},
   "source": [
    "**Описание проекта**\n",
    "* Вам нужно защитить данные клиентов страховой компании «Хоть потоп». \n",
    "* Разработайте такой метод преобразования данных, чтобы по ним было сложно восстановить персональную информацию. \n",
    "* Обоснуйте корректность его работы.\n",
    "* Нужно защитить данные, чтобы при преобразовании качество моделей машинного обучения не ухудшилось. \n",
    "* Подбирать наилучшую модель не требуется."
   ]
  },
  {
   "cell_type": "markdown",
   "metadata": {},
   "source": [
    "**План работы**\n",
    "1. **Загрузка данных**\n",
    "2. **Умножение матриц**\n",
    "3. **Алгоритм преобразования**\n",
    "4. **Проверка алгоритма**\n",
    "5. **Общий вывод:**"
   ]
  },
  {
   "cell_type": "markdown",
   "metadata": {},
   "source": [
    "## 1.Загрузка данных"
   ]
  },
  {
   "cell_type": "code",
   "execution_count": 1,
   "metadata": {
    "tags": []
   },
   "outputs": [],
   "source": [
    "import pandas as pd\n",
    "import numpy as np\n",
    "import matplotlib.pyplot as plt\n",
    "import seaborn as sns\n",
    "from sklearn.metrics import r2_score\n",
    "from sklearn.preprocessing import StandardScaler\n",
    "from sklearn.linear_model import LinearRegression\n",
    "sns.set(style=\"darkgrid\")\n",
    "import os"
   ]
  },
  {
   "cell_type": "code",
   "execution_count": 2,
   "metadata": {
    "tags": []
   },
   "outputs": [],
   "source": [
    "pth1 = 'C:/Users/copok/Documents/Проекты/Яндекс Практикум/10 Линейная алгебра/insurance.csv'\n",
    "pth2 = '/datasets/insurance.csv'\n",
    "\n",
    "if os.path.exists(pth1):\n",
    "    df = pd.read_csv(pth1)\n",
    "elif os.path.exists(pth2):\n",
    "    df= pd.read_csv(pth2)\n",
    "else:\n",
    "    print('Something is wrong')"
   ]
  },
  {
   "cell_type": "code",
   "execution_count": 3,
   "metadata": {
    "tags": []
   },
   "outputs": [],
   "source": [
    "def first_view(df):\n",
    "    df.info()\n",
    "    display(df.head(10))\n",
    "    print('Количество дублированных строк:', sum(df.duplicated()))\n",
    "    return display(df.isnull().sum())"
   ]
  },
  {
   "cell_type": "code",
   "execution_count": 4,
   "metadata": {
    "tags": []
   },
   "outputs": [
    {
     "name": "stdout",
     "output_type": "stream",
     "text": [
      "<class 'pandas.core.frame.DataFrame'>\n",
      "RangeIndex: 5000 entries, 0 to 4999\n",
      "Data columns (total 5 columns):\n",
      " #   Column             Non-Null Count  Dtype  \n",
      "---  ------             --------------  -----  \n",
      " 0   Пол                5000 non-null   int64  \n",
      " 1   Возраст            5000 non-null   float64\n",
      " 2   Зарплата           5000 non-null   float64\n",
      " 3   Члены семьи        5000 non-null   int64  \n",
      " 4   Страховые выплаты  5000 non-null   int64  \n",
      "dtypes: float64(2), int64(3)\n",
      "memory usage: 195.4 KB\n"
     ]
    },
    {
     "data": {
      "text/html": [
       "<div>\n",
       "<style scoped>\n",
       "    .dataframe tbody tr th:only-of-type {\n",
       "        vertical-align: middle;\n",
       "    }\n",
       "\n",
       "    .dataframe tbody tr th {\n",
       "        vertical-align: top;\n",
       "    }\n",
       "\n",
       "    .dataframe thead th {\n",
       "        text-align: right;\n",
       "    }\n",
       "</style>\n",
       "<table border=\"1\" class=\"dataframe\">\n",
       "  <thead>\n",
       "    <tr style=\"text-align: right;\">\n",
       "      <th></th>\n",
       "      <th>Пол</th>\n",
       "      <th>Возраст</th>\n",
       "      <th>Зарплата</th>\n",
       "      <th>Члены семьи</th>\n",
       "      <th>Страховые выплаты</th>\n",
       "    </tr>\n",
       "  </thead>\n",
       "  <tbody>\n",
       "    <tr>\n",
       "      <th>0</th>\n",
       "      <td>1</td>\n",
       "      <td>41.0</td>\n",
       "      <td>49600.0</td>\n",
       "      <td>1</td>\n",
       "      <td>0</td>\n",
       "    </tr>\n",
       "    <tr>\n",
       "      <th>1</th>\n",
       "      <td>0</td>\n",
       "      <td>46.0</td>\n",
       "      <td>38000.0</td>\n",
       "      <td>1</td>\n",
       "      <td>1</td>\n",
       "    </tr>\n",
       "    <tr>\n",
       "      <th>2</th>\n",
       "      <td>0</td>\n",
       "      <td>29.0</td>\n",
       "      <td>21000.0</td>\n",
       "      <td>0</td>\n",
       "      <td>0</td>\n",
       "    </tr>\n",
       "    <tr>\n",
       "      <th>3</th>\n",
       "      <td>0</td>\n",
       "      <td>21.0</td>\n",
       "      <td>41700.0</td>\n",
       "      <td>2</td>\n",
       "      <td>0</td>\n",
       "    </tr>\n",
       "    <tr>\n",
       "      <th>4</th>\n",
       "      <td>1</td>\n",
       "      <td>28.0</td>\n",
       "      <td>26100.0</td>\n",
       "      <td>0</td>\n",
       "      <td>0</td>\n",
       "    </tr>\n",
       "    <tr>\n",
       "      <th>5</th>\n",
       "      <td>1</td>\n",
       "      <td>43.0</td>\n",
       "      <td>41000.0</td>\n",
       "      <td>2</td>\n",
       "      <td>1</td>\n",
       "    </tr>\n",
       "    <tr>\n",
       "      <th>6</th>\n",
       "      <td>1</td>\n",
       "      <td>39.0</td>\n",
       "      <td>39700.0</td>\n",
       "      <td>2</td>\n",
       "      <td>0</td>\n",
       "    </tr>\n",
       "    <tr>\n",
       "      <th>7</th>\n",
       "      <td>1</td>\n",
       "      <td>25.0</td>\n",
       "      <td>38600.0</td>\n",
       "      <td>4</td>\n",
       "      <td>0</td>\n",
       "    </tr>\n",
       "    <tr>\n",
       "      <th>8</th>\n",
       "      <td>1</td>\n",
       "      <td>36.0</td>\n",
       "      <td>49700.0</td>\n",
       "      <td>1</td>\n",
       "      <td>0</td>\n",
       "    </tr>\n",
       "    <tr>\n",
       "      <th>9</th>\n",
       "      <td>1</td>\n",
       "      <td>32.0</td>\n",
       "      <td>51700.0</td>\n",
       "      <td>1</td>\n",
       "      <td>0</td>\n",
       "    </tr>\n",
       "  </tbody>\n",
       "</table>\n",
       "</div>"
      ],
      "text/plain": [
       "   Пол  Возраст  Зарплата  Члены семьи  Страховые выплаты\n",
       "0    1     41.0   49600.0            1                  0\n",
       "1    0     46.0   38000.0            1                  1\n",
       "2    0     29.0   21000.0            0                  0\n",
       "3    0     21.0   41700.0            2                  0\n",
       "4    1     28.0   26100.0            0                  0\n",
       "5    1     43.0   41000.0            2                  1\n",
       "6    1     39.0   39700.0            2                  0\n",
       "7    1     25.0   38600.0            4                  0\n",
       "8    1     36.0   49700.0            1                  0\n",
       "9    1     32.0   51700.0            1                  0"
      ]
     },
     "metadata": {},
     "output_type": "display_data"
    },
    {
     "name": "stdout",
     "output_type": "stream",
     "text": [
      "Количество дублированных строк: 153\n"
     ]
    },
    {
     "data": {
      "text/plain": [
       "Пол                  0\n",
       "Возраст              0\n",
       "Зарплата             0\n",
       "Члены семьи          0\n",
       "Страховые выплаты    0\n",
       "dtype: int64"
      ]
     },
     "metadata": {},
     "output_type": "display_data"
    }
   ],
   "source": [
    "first_view(df)"
   ]
  },
  {
   "cell_type": "markdown",
   "metadata": {},
   "source": [
    "* Данные соответствуют описанию. Пропусков нет.\n",
    "* Есть 153 дубликата(3%) оставим как есть это недалжно повлиять на работу.\n"
   ]
  },
  {
   "cell_type": "markdown",
   "metadata": {},
   "source": [
    "**Построим гистограммы, чтобы увидеть распределения по признакам.** "
   ]
  },
  {
   "cell_type": "code",
   "execution_count": 5,
   "metadata": {},
   "outputs": [
    {
     "data": {
      "image/png": "[encoded data removed]",
      "text/plain": [
       "<Figure size 1000x500 with 1 Axes>"
      ]
     },
     "metadata": {},
     "output_type": "display_data"
    }
   ],
   "source": [
    "sns.set()\n",
    "fig, ax = plt.subplots(figsize=(10, 5))\n",
    "sns.countplot(x='Члены семьи', data=df, palette='coolwarm')\n",
    "ax.set_title('Распределение по количеству членов семьи')\n",
    "plt.ylabel('Количество');"
   ]
  },
  {
   "cell_type": "code",
   "execution_count": 6,
   "metadata": {},
   "outputs": [
    {
     "data": {
      "image/png": "[encoded data removed]",
      "text/plain": [
       "<Figure size 800x300 with 1 Axes>"
      ]
     },
     "metadata": {},
     "output_type": "display_data"
    }
   ],
   "source": [
    "fig, ax = plt.subplots(figsize=(8, 3))\n",
    "sns.countplot(y='Пол', data=df)\n",
    "ax.set_title('Распределение по полу')\n",
    "plt.xlabel('Количество');"
   ]
  },
  {
   "cell_type": "code",
   "execution_count": 7,
   "metadata": {},
   "outputs": [
    {
     "data": {
      "image/png": "[encoded data removed]",
      "text/plain": [
       "<Figure size 800x300 with 1 Axes>"
      ]
     },
     "metadata": {},
     "output_type": "display_data"
    }
   ],
   "source": [
    "fig, ax = plt.subplots(figsize=(8, 3))\n",
    "sns.countplot(y='Страховые выплаты', data=df)\n",
    "ax.set_title('Распределение по количеству страховых выплат')\n",
    "plt.xlabel('Количество');"
   ]
  },
  {
   "cell_type": "code",
   "execution_count": 8,
   "metadata": {},
   "outputs": [
    {
     "name": "stderr",
     "output_type": "stream",
     "text": [
      "C:\\Users\\copok\\AppData\\Local\\Temp\\ipykernel_4244\\2950593471.py:3: UserWarning: \n",
      "\n",
      "`distplot` is a deprecated function and will be removed in seaborn v0.14.0.\n",
      "\n",
      "Please adapt your code to use either `displot` (a figure-level function with\n",
      "similar flexibility) or `histplot` (an axes-level function for histograms).\n",
      "\n",
      "For a guide to updating your code to use the new functions, please see\n",
      "https://gist.github.com/mwaskom/de44147ed2974457ad6372750bbe5751\n",
      "\n",
      "  sns.distplot(df['Возраст'], bins=len(df['Возраст'].unique()))\n"
     ]
    },
    {
     "data": {
      "image/png": "[encoded data removed]",
      "text/plain": [
       "<Figure size 1500x500 with 1 Axes>"
      ]
     },
     "metadata": {},
     "output_type": "display_data"
    }
   ],
   "source": [
    "sns.set()\n",
    "fig, ax = plt.subplots(figsize=(15, 5))\n",
    "sns.distplot(df['Возраст'], bins=len(df['Возраст'].unique()))\n",
    "ax.set_title('Распределение по возрасту')\n",
    "plt.ylabel('Плотность частоты');"
   ]
  },
  {
   "cell_type": "code",
   "execution_count": 9,
   "metadata": {},
   "outputs": [
    {
     "name": "stderr",
     "output_type": "stream",
     "text": [
      "C:\\Users\\copok\\AppData\\Local\\Temp\\ipykernel_4244\\2113733624.py:2: UserWarning: \n",
      "\n",
      "`distplot` is a deprecated function and will be removed in seaborn v0.14.0.\n",
      "\n",
      "Please adapt your code to use either `displot` (a figure-level function with\n",
      "similar flexibility) or `histplot` (an axes-level function for histograms).\n",
      "\n",
      "For a guide to updating your code to use the new functions, please see\n",
      "https://gist.github.com/mwaskom/de44147ed2974457ad6372750bbe5751\n",
      "\n",
      "  sns.distplot(df['Зарплата'])\n"
     ]
    },
    {
     "data": {
      "image/png": "[encoded data removed]",
      "text/plain": [
       "<Figure size 1500x500 with 1 Axes>"
      ]
     },
     "metadata": {},
     "output_type": "display_data"
    }
   ],
   "source": [
    "fig, ax = plt.subplots(figsize=(15, 5))\n",
    "sns.distplot(df['Зарплата'])\n",
    "ax.set_title('Распределение по зарплате')\n",
    "plt.ylabel('Плотность частоты');"
   ]
  },
  {
   "cell_type": "markdown",
   "metadata": {},
   "source": [
    "* Признаки распределены без аномалий\n",
    "* Данные готовы для дальнейших исследований"
   ]
  },
  {
   "cell_type": "markdown",
   "metadata": {},
   "source": [
    "## 2.Умножение матриц"
   ]
  },
  {
   "cell_type": "markdown",
   "metadata": {},
   "source": [
    "Обозначения:\n",
    "\n",
    "- $X$ — матрица признаков (нулевой столбец состоит из единиц)\n",
    "\n",
    "- $y$ — вектор целевого признака\n",
    "\n",
    "- $P$ — матрица, на которую умножаются признаки\n",
    "\n",
    "- $w$ — вектор весов линейной регрессии (нулевой элемент равен сдвигу)"
   ]
  },
  {
   "cell_type": "markdown",
   "metadata": {},
   "source": [
    "Предсказания:\n",
    "\n",
    "$$\n",
    "a = Xw\n",
    "$$\n",
    "\n",
    "Задача обучения:\n",
    "\n",
    "$$\n",
    "w = \\arg\\min_w MSE(Xw, y)\n",
    "$$\n",
    "\n",
    "Формула обучения:\n",
    "\n",
    "$$\n",
    "w = (X^T X)^{-1} X^T y\n",
    "$$"
   ]
  },
  {
   "cell_type": "markdown",
   "metadata": {},
   "source": [
    "### **Умножение признаков на обратимую матрицу, изменится ли качество лин. регрессии?**"
   ]
  },
  {
   "cell_type": "markdown",
   "metadata": {},
   "source": [
    "**Ответ:** Не изменится.\n",
    "\n",
    "**Обоснование:**\n",
    "\n",
    "Предсказания:\n",
    "$$\n",
    "a = Xw\n",
    "$$\n",
    "\n",
    "Задача обучения:\n",
    "$$\n",
    "w = \\arg\\min_w MSE(Xw, y)\n",
    "$$\n",
    "\n",
    " \n",
    "Формула обучения:\n",
    "$$\n",
    "w = (X^T X)^{-1} X^T y\n",
    "$$\n",
    "Вместо **X** подставим **XP**, где **P** - обратимая квадратная матрица со случайными числами.\n",
    "$$\n",
    "Z = XP\n",
    "$$\n",
    "$$\n",
    "w(Z) = ((XP)^{T}XP)^{-1}(XP)^{T}y\n",
    "$$\n",
    "Используем формулу:\n",
    "$$\n",
    "(AB)^{T} = B^{T}A^{T}\n",
    "$$\n",
    "$$\n",
    "w(Z) = (P^{T}X^{T}XP)^{-1}P^{T}X^{T}y\n",
    "$$\n",
    "\n",
    "Используем формулу(она работает для квадратных обратимых матриц):\n",
    "$$\n",
    "(AB)^{-1} = B^{-1}A^{-1}\n",
    "$$\n",
    "\n",
    "Обращаем внимание что $$P^{T},X^{T},X,P$$  \n",
    "**являются квадратными.**\n",
    "\n",
    " Преобразуем то что в скобке.\n",
    " \n",
    " $$ w(Z)= P^{-1}(P^{T}X^{T}X)^{-1}P^{T}X^{T}y$$\n",
    " $$ w(Z) = P^{-1}(X^{T}X)^{-1}(P^{T})^{-1}P^{T}X^{T}y$$\n",
    " \n",
    "Помним также что умножение матрицы на обратную матрицу равно единичной матрице, а умножение любой матрицы на единичную равно этой самой матрице.\n",
    "\n",
    "$$ w(Z) = P^{-1}(X^{T}X)^{-1}X^{T}y$$\n",
    "\n",
    "Подставим w(Z) в формулу предсказаний.\n",
    "\n",
    "$$ a(Z) = XPP^{-1}(X^{T}X)^{-1})X^{T}y$$\n",
    "$$ a(Z) = X(X^{T}X)^{-1}X^{T}y$$\n",
    "\n",
    "**Результат не изменился, что и требовалось доказать.**"
   ]
  },
  {
   "cell_type": "markdown",
   "metadata": {},
   "source": [
    "#### Вывод\n"
   ]
  },
  {
   "cell_type": "markdown",
   "metadata": {},
   "source": [
    "Мы доказали с помощью матричных преобразований что предсказания линейной регресии при умножении матрицы признаков на другую матрицу (с размерностью 4x4, так как нам требуется в итоге матрица 5000x4) не изменятся."
   ]
  },
  {
   "cell_type": "markdown",
   "metadata": {},
   "source": [
    "## 3.Алгоритм преобразования"
   ]
  },
  {
   "cell_type": "markdown",
   "metadata": {},
   "source": [
    "**Алгоритм**\n",
    "\n",
    "Умножим матрицу признаков на матрицу **4x4**, так как количество столбцов матрицы **A** должно быть равно количеству строк матрицы **B** при умножении, а матрица полученная после умножения будет иметь количество строк матрицы **A** и количество столбцов матрицы**B**.\n",
    "\n",
    "Саму матрицу **B** сгенерируем с помощью метода библиотеки **`numpy np.random.normal()`**, где первый аргумент среднее нормального распределения, второй стандартное отклонение, третий - размерность матрицы."
   ]
  },
  {
   "cell_type": "markdown",
   "metadata": {},
   "source": [
    "**Обоснование**\n",
    "\n",
    "**Создадим переменные для признаков и целевого признака.**"
   ]
  },
  {
   "cell_type": "code",
   "execution_count": 10,
   "metadata": {},
   "outputs": [],
   "source": [
    "# <создадим переменные для признаков и целевого признака>\n",
    "features = df.drop('Страховые выплаты', axis=1)\n",
    "target = df['Страховые выплаты']"
   ]
  },
  {
   "cell_type": "markdown",
   "metadata": {},
   "source": [
    "**Создадим обратимую квадратную матрицу со случайными числами размерностью 4x4, умножим наши признаки на нее и полученную матрицу сделаем датафреймом.**"
   ]
  },
  {
   "cell_type": "code",
   "execution_count": 11,
   "metadata": {},
   "outputs": [
    {
     "data": {
      "text/html": [
       "<div>\n",
       "<style scoped>\n",
       "    .dataframe tbody tr th:only-of-type {\n",
       "        vertical-align: middle;\n",
       "    }\n",
       "\n",
       "    .dataframe tbody tr th {\n",
       "        vertical-align: top;\n",
       "    }\n",
       "\n",
       "    .dataframe thead th {\n",
       "        text-align: right;\n",
       "    }\n",
       "</style>\n",
       "<table border=\"1\" class=\"dataframe\">\n",
       "  <thead>\n",
       "    <tr style=\"text-align: right;\">\n",
       "      <th></th>\n",
       "      <th>Пол</th>\n",
       "      <th>Возраст</th>\n",
       "      <th>Зарплата</th>\n",
       "      <th>Члены семьи</th>\n",
       "    </tr>\n",
       "  </thead>\n",
       "  <tbody>\n",
       "    <tr>\n",
       "      <th>0</th>\n",
       "      <td>41682.843074</td>\n",
       "      <td>-22876.614494</td>\n",
       "      <td>89854.564699</td>\n",
       "      <td>25046.808453</td>\n",
       "    </tr>\n",
       "    <tr>\n",
       "      <th>1</th>\n",
       "      <td>31914.767172</td>\n",
       "      <td>-17536.851314</td>\n",
       "      <td>68855.772184</td>\n",
       "      <td>19207.160383</td>\n",
       "    </tr>\n",
       "    <tr>\n",
       "      <th>2</th>\n",
       "      <td>17632.121066</td>\n",
       "      <td>-9693.670086</td>\n",
       "      <td>38054.700386</td>\n",
       "      <td>10618.127861</td>\n",
       "    </tr>\n",
       "    <tr>\n",
       "      <th>3</th>\n",
       "      <td>35062.423768</td>\n",
       "      <td>-19226.238830</td>\n",
       "      <td>75532.151112</td>\n",
       "      <td>21043.536010</td>\n",
       "    </tr>\n",
       "    <tr>\n",
       "      <th>4</th>\n",
       "      <td>21925.054413</td>\n",
       "      <td>-12040.956144</td>\n",
       "      <td>47287.495603</td>\n",
       "      <td>13186.499880</td>\n",
       "    </tr>\n",
       "    <tr>\n",
       "      <th>...</th>\n",
       "      <td>...</td>\n",
       "      <td>...</td>\n",
       "      <td>...</td>\n",
       "      <td>...</td>\n",
       "    </tr>\n",
       "    <tr>\n",
       "      <th>4995</th>\n",
       "      <td>30003.964476</td>\n",
       "      <td>-16465.977365</td>\n",
       "      <td>64674.503134</td>\n",
       "      <td>18027.793392</td>\n",
       "    </tr>\n",
       "    <tr>\n",
       "      <th>4996</th>\n",
       "      <td>44048.566016</td>\n",
       "      <td>-24164.417592</td>\n",
       "      <td>94918.876413</td>\n",
       "      <td>26450.597577</td>\n",
       "    </tr>\n",
       "    <tr>\n",
       "      <th>4997</th>\n",
       "      <td>28500.111047</td>\n",
       "      <td>-15631.715279</td>\n",
       "      <td>61407.215883</td>\n",
       "      <td>17111.171731</td>\n",
       "    </tr>\n",
       "    <tr>\n",
       "      <th>4998</th>\n",
       "      <td>27487.805681</td>\n",
       "      <td>-15077.953035</td>\n",
       "      <td>59236.470131</td>\n",
       "      <td>16508.924086</td>\n",
       "    </tr>\n",
       "    <tr>\n",
       "      <th>4999</th>\n",
       "      <td>34126.993982</td>\n",
       "      <td>-18721.834604</td>\n",
       "      <td>73544.842024</td>\n",
       "      <td>20495.509023</td>\n",
       "    </tr>\n",
       "  </tbody>\n",
       "</table>\n",
       "<p>5000 rows × 4 columns</p>\n",
       "</div>"
      ],
      "text/plain": [
       "               Пол       Возраст      Зарплата   Члены семьи\n",
       "0     41682.843074 -22876.614494  89854.564699  25046.808453\n",
       "1     31914.767172 -17536.851314  68855.772184  19207.160383\n",
       "2     17632.121066  -9693.670086  38054.700386  10618.127861\n",
       "3     35062.423768 -19226.238830  75532.151112  21043.536010\n",
       "4     21925.054413 -12040.956144  47287.495603  13186.499880\n",
       "...            ...           ...           ...           ...\n",
       "4995  30003.964476 -16465.977365  64674.503134  18027.793392\n",
       "4996  44048.566016 -24164.417592  94918.876413  26450.597577\n",
       "4997  28500.111047 -15631.715279  61407.215883  17111.171731\n",
       "4998  27487.805681 -15077.953035  59236.470131  16508.924086\n",
       "4999  34126.993982 -18721.834604  73544.842024  20495.509023\n",
       "\n",
       "[5000 rows x 4 columns]"
      ]
     },
     "execution_count": 11,
     "metadata": {},
     "output_type": "execute_result"
    }
   ],
   "source": [
    "random_matrix = np.random.normal(size=(4, 4))\n",
    "features_transformed = pd.DataFrame(features.values @ random_matrix, index = features.index, columns = features.columns)\n",
    "features_transformed"
   ]
  },
  {
   "cell_type": "markdown",
   "metadata": {},
   "source": [
    "**Проверим что матрица обратима.**"
   ]
  },
  {
   "cell_type": "code",
   "execution_count": 12,
   "metadata": {},
   "outputs": [
    {
     "data": {
      "text/plain": [
       "array([[-0.37045393, -0.79436202, -0.34122551,  0.76951383],\n",
       "       [ 0.52528503,  0.07204104,  0.05270275,  0.31912224],\n",
       "       [ 0.45470866,  0.51560894,  1.07776978, -0.74242965],\n",
       "       [-0.53493175, -0.46031791, -1.27016679,  1.67432932]])"
      ]
     },
     "execution_count": 12,
     "metadata": {},
     "output_type": "execute_result"
    }
   ],
   "source": [
    "np.linalg.inv(random_matrix)"
   ]
  },
  {
   "cell_type": "markdown",
   "metadata": {},
   "source": [
    "#### Вывод"
   ]
  },
  {
   "cell_type": "markdown",
   "metadata": {},
   "source": [
    "Мы преобразовали признаки и в следующем шаге проверим что метрика качества линейной регресии не изменится после преобразований."
   ]
  },
  {
   "cell_type": "markdown",
   "metadata": {},
   "source": [
    "## 4.Проверка алгоритма"
   ]
  },
  {
   "cell_type": "markdown",
   "metadata": {},
   "source": [
    "**Проверим качество линейной регресии на непреобразованных данных:**"
   ]
  },
  {
   "cell_type": "code",
   "execution_count": 13,
   "metadata": {},
   "outputs": [
    {
     "name": "stdout",
     "output_type": "stream",
     "text": [
      "R2 на исходных признаках: 0.4249\n"
     ]
    }
   ],
   "source": [
    "# <Создадим модель лин. регрессии>\n",
    "model = LinearRegression().fit(features, target)\n",
    "\n",
    "# <обучаем модель> \n",
    "predictions = model.predict(features)\n",
    "\n",
    "# <метрика качества коэффициент детерминации>\n",
    "print('R2 на исходных признаках:','{:.4f}'.format(r2_score(target,predictions)))"
   ]
  },
  {
   "cell_type": "markdown",
   "metadata": {},
   "source": [
    "**Проверим качество линейной регресии на преобразованных данных:**"
   ]
  },
  {
   "cell_type": "code",
   "execution_count": 14,
   "metadata": {},
   "outputs": [
    {
     "name": "stdout",
     "output_type": "stream",
     "text": [
      "R2 на преобразованных признаках: 0.4249\n"
     ]
    }
   ],
   "source": [
    "# <Создадим модель лин. регрессии>\n",
    "model = LinearRegression().fit(features_transformed, target)\n",
    "\n",
    "# <обучаем модель> \n",
    "predictions = model.predict(features_transformed)\n",
    "\n",
    "# <метрика качества коэффициент детерминации>\n",
    "print('R2 на преобразованных признаках:','{:.4f}'.format(r2_score(target,predictions)))"
   ]
  },
  {
   "cell_type": "markdown",
   "metadata": {},
   "source": [
    "**Качество модели по двум наборам признаков совпадает.**"
   ]
  },
  {
   "cell_type": "markdown",
   "metadata": {},
   "source": [
    "## 5.Общий вывод:"
   ]
  },
  {
   "cell_type": "markdown",
   "metadata": {},
   "source": [
    "Проведенные исследования позволили сделать следующие выводы:\n",
    "\n",
    "* Умножив признаки на обратимую матрицу, качество линейной регрессии не меняется. Это обусловленно тем, что **Веса** изменились под новые значения, т.е. признаки исходной матрицы и преобразованной выражаются через коэффициенты(**веса w**), поэтому качество линейной регресии не изменилось\n",
    "\n",
    "* Качество метрики **R2** для 2 матриц признаков: до преобразования и после **равны**."
   ]
  },
  {
   "cell_type": "code",
   "execution_count": null,
   "metadata": {},
   "outputs": [],
   "source": []
  }
 ],
 "metadata": {
  "ExecuteTimeLog": [
   {
    "duration": 58,
    "start_time": "2023-02-11T17:17:53.187Z"
   },
   {
    "duration": 1543,
    "start_time": "2023-02-11T17:17:56.006Z"
   },
   {
    "duration": 41,
    "start_time": "2023-02-11T17:17:57.551Z"
   },
   {
    "duration": 126,
    "start_time": "2023-02-11T17:18:44.955Z"
   },
   {
    "duration": 41,
    "start_time": "2023-02-11T17:19:22.459Z"
   },
   {
    "duration": 111,
    "start_time": "2023-02-11T17:19:45.837Z"
   },
   {
    "duration": 9,
    "start_time": "2023-02-11T17:20:15.015Z"
   },
   {
    "duration": 27,
    "start_time": "2023-02-11T17:20:36.525Z"
   },
   {
    "duration": 5,
    "start_time": "2023-02-11T17:21:52.244Z"
   },
   {
    "duration": 17,
    "start_time": "2023-02-11T17:21:52.848Z"
   },
   {
    "duration": 1558,
    "start_time": "2023-02-11T17:22:27.708Z"
   },
   {
    "duration": 4,
    "start_time": "2023-02-11T17:24:50.680Z"
   },
   {
    "duration": 8,
    "start_time": "2023-02-11T17:24:59.209Z"
   },
   {
    "duration": 7,
    "start_time": "2023-02-11T17:25:47.663Z"
   },
   {
    "duration": 12,
    "start_time": "2023-02-11T17:27:37.842Z"
   },
   {
    "duration": 16,
    "start_time": "2023-02-11T17:27:56.980Z"
   }
  ],
  "kernelspec": {
   "display_name": "Python 3 (ipykernel)",
   "language": "python",
   "name": "python3"
  },
  "language_info": {
   "codemirror_mode": {
    "name": "ipython",
    "version": 3
   },
   "file_extension": ".py",
   "mimetype": "text/x-python",
   "name": "python",
   "nbconvert_exporter": "python",
   "pygments_lexer": "ipython3",
   "version": "3.10.9"
  },
  "toc": {
   "base_numbering": 1,
   "nav_menu": {},
   "number_sections": true,
   "sideBar": true,
   "skip_h1_title": true,
   "title_cell": "Содержание",
   "title_sidebar": "Contents",
   "toc_cell": true,
   "toc_position": {
    "height": "calc(100% - 180px)",
    "left": "10px",
    "top": "150px",
    "width": "165px"
   },
   "toc_section_display": true,
   "toc_window_display": true
  }
 },
 "nbformat": 4,
 "nbformat_minor": 4
}
