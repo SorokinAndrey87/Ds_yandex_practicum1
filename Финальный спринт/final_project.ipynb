{
 "cells": [
  {
   "cell_type": "markdown",
   "id": "83497938-258b-4b3f-a09c-58441cd7cd46",
   "metadata": {},
   "source": [
    "# Финальный проект"
   ]
  },
  {
   "cell_type": "markdown",
   "id": "51c6b898-3c40-4189-b39a-84ba6742b9b7",
   "metadata": {},
   "source": [
    "## Постановка задачи исследования и загрузка данных."
   ]
  },
  {
   "cell_type": "markdown",
   "id": "60385b0e-9f2a-459a-afdd-0897661490f6",
   "metadata": {},
   "source": [
    "Чтобы оптимизировать производственные расходы, металлургический комбинат ООО «Так закаляем сталь» решил уменьшить потребление электроэнергии на этапе обработки стали. Вам предстоит построить модель, которая предскажет температуру стали."
   ]
  },
  {
   "cell_type": "markdown",
   "id": "6445705c-317b-456d-b3d1-addba83f87a3",
   "metadata": {},
   "source": [
    "### Описание этапа обработки"
   ]
  },
  {
   "cell_type": "markdown",
   "id": "c159f273-3bc3-4495-a80b-d48dc32dbd42",
   "metadata": {},
   "source": [
    "Сталь обрабатывают в металлическом ковше вместимостью около 100 тонн. Чтобы ковш выдерживал высокие температуры, изнутри его облицовывают огнеупорным кирпичом. Расплавленную сталь заливают в ковш и подогревают до нужной температуры графитовыми электродами. Они установлены в крышке ковша. \n",
    "\n",
    "Из сплава выводится сера (десульфурация), добавлением примесей корректируется химический состав и отбираются пробы. Сталь легируют — изменяют её состав — подавая куски сплава из бункера для сыпучих материалов или проволоку через специальный трайб-аппарат (англ. tribe, «масса»).\n",
    "\n",
    "Перед тем как первый раз ввести легирующие добавки, измеряют температуру стали и производят её химический анализ. Потом температуру на несколько минут повышают, добавляют легирующие материалы и продувают сплав инертным газом. Затем его перемешивают и снова проводят измерения. Такой цикл повторяется до достижения целевого химического состава и оптимальной температуры плавки.\n",
    "\n",
    "Тогда расплавленная сталь отправляется на доводку металла или поступает в машину непрерывной разливки. Оттуда готовый продукт выходит в виде заготовок-слябов (англ. *slab*, «плита»)."
   ]
  },
  {
   "cell_type": "markdown",
   "id": "bf9b5159-08df-4823-8afa-6955df0563f4",
   "metadata": {},
   "source": [
    "**Описание данных**\n",
    "\n",
    "Данные состоят из файлов, полученных из разных источников:\n",
    "* `data_arc_new.csv` — данные об электродах;\n",
    "* `data_bulk_new.csv` — данные о подаче сыпучих материалов (объём);\n",
    "* `data_bulk_time_new.csv` — данные о подаче сыпучих материалов (время);\n",
    "* `data_gas_new.csv` — данные о продувке сплава газом;\n",
    "* `data_temp_new.csv` — результаты измерения температуры;\n",
    "* `data_wire_new.csv` — данные о проволочных материалах (объём);\n",
    "* `data_wire_time_new.csv` — данные о проволочных материалах (время).\n",
    "\n",
    "Во всех файлах столбец `key` содержит номер партии. В файлах может быть несколько строк с одинаковым значением `key`: они соответствуют разным итерациям обработки."
   ]
  },
  {
   "cell_type": "markdown",
   "id": "af3bb3cd-fb22-4c74-afdf-28f7b7249589",
   "metadata": {},
   "source": [
    "### План проекта"
   ]
  },
  {
   "cell_type": "markdown",
   "id": "f935d5bc-f2e1-4d24-939a-00a8d86bc59a",
   "metadata": {},
   "source": [
    "Для получения модели с необходимыми метриками, необходимо сделать следующие шаги:\n",
    "* Провести исследовательский анализ данных таблиц, построить графики, рассмотреть значения, сделать выводы.\n",
    "* Удалить из таблиц аномальные значения, ошибки. Уточнить, является ли это ошибкой. Рассчитать новые значения.\n",
    "* Объединить таблицы в итоговую, на основе которой будут использовать модель.\n",
    "* Исключить строки, в которых отсутствует целевое значение.\n",
    "* Заполнить пропуски, где необходимо.\n",
    "* Разделить выборку на тестовую и тренировочную.\n",
    "* Обучить модель и рассмотреть полученные метрики."
   ]
  },
  {
   "cell_type": "markdown",
   "id": "0bae3406-0a95-4b21-b9ec-3f2b69c1ec07",
   "metadata": {},
   "source": [
    "## Загрузка библиотек и данных"
   ]
  },
  {
   "cell_type": "code",
   "execution_count": 1,
   "id": "6c20a1d0-dff9-4806-8b13-a93030e4058d",
   "metadata": {},
   "outputs": [],
   "source": [
    "import pandas as pd\n",
    "import numpy as np \n",
    "import seaborn as sns \n",
    "import matplotlib.pyplot as plt\n",
    "from termcolor import colored\n",
    "pd.options.display.max_columns = None # полностью отображаем столбцы\n",
    "\n",
    "from sklearn.model_selection import train_test_split, GridSearchCV\n",
    "from sklearn.metrics import mean_absolute_error\n",
    "from sklearn.ensemble import RandomForestRegressor\n",
    "from sklearn.tree import DecisionTreeRegressor\n",
    "import lightgbm as lgb\n",
    "from catboost import CatBoostRegressor\n",
    "from sklearn.dummy import DummyRegressor\n",
    "\n",
    "from time import time\n",
    "\n",
    "from sklearn.utils import shuffle\n",
    "\n",
    "RANDOM_STATE = 150523\n",
    "\n",
    "import warnings\n",
    "warnings.filterwarnings('ignore')"
   ]
  },
  {
   "cell_type": "code",
   "execution_count": 2,
   "id": "2bbeb48c-1d21-4670-8958-29d84144927e",
   "metadata": {},
   "outputs": [],
   "source": [
    "try:\n",
    "    df_arc_new = pd.read_csv('C:/Users/copok/Documents/Проекты/Яндекс практикум/Финальный проект/data_arc_new.csv')\n",
    "    df_bulk_new = pd.read_csv('C:/Users/copok/Documents/Проекты/Яндекс практикум/Финальный проект/data_bulk_new.csv')\n",
    "    df_bulk_time_new = pd.read_csv('C:/Users/copok/Documents/Проекты/Яндекс практикум/Финальный проект/data_bulk_time_new.csv')\n",
    "    df_gas_new = pd.read_csv('C:/Users/copok/Documents/Проекты/Яндекс практикум/Финальный проект/data_gas_new.csv')\n",
    "    df_temp_new = pd.read_csv('C:/Users/copok/Documents/Проекты/Яндекс практикум/Финальный проект/data_temp_new.csv')\n",
    "    df_wire_new = pd.read_csv('C:/Users/copok/Documents/Проекты/Яндекс практикум/Финальный проект/data_wire_new.csv')\n",
    "    df_wire_time_new = pd.read_csv('C:/Users/copok/Documents/Проекты/Яндекс практикум/Финальный проект/data_wire_time_new.csv')\n",
    "except:\n",
    "    df_arc_new  = pd.read_csv('/datasets/data_arc_new.csv')\n",
    "    df_bulk_new = pd.read_csv('/datasets/data_bulk_new.csv')\n",
    "    df_bulk_time_new  = pd.read_csv('/datasets/data_bulk_time_new.csv')\n",
    "    df_gas_new  = pd.read_csv('/datasets/data_gas_new.csv')\n",
    "    df_temp_new = pd.read_csv('/datasets/data_temp_new.csv')\n",
    "    df_wire_new  = pd.read_csv('/datasets/data_wire_new.csv')\n",
    "    df_wire_time_new  = pd.read_csv('/datasets/data_wire_time_new.csv')\n",
    "    "
   ]
  },
  {
   "cell_type": "markdown",
   "id": "d71c7c14-1415-41dc-9d0a-96986b2eb914",
   "metadata": {},
   "source": [
    "## Исследование данных"
   ]
  },
  {
   "cell_type": "code",
   "execution_count": 3,
   "id": "fc674432-ee64-4a3c-8ec7-fc1c602df8cb",
   "metadata": {},
   "outputs": [],
   "source": [
    "# создадим словарь с датасетами\n",
    "df_dict = {\n",
    "    'Данные об электродах':df_arc_new, \n",
    "    'Данные о подаче сыпучих материалов (объём)':df_bulk_new, \n",
    "    'Данные о подаче сыпучих материалов (время)':df_bulk_time_new,\n",
    "    'Данные о продувке сплава газом':df_gas_new,\n",
    "    'Результаты измерения температуры':df_temp_new,\n",
    "    'Данные о проволочных материалах (объём)':df_wire_new,\n",
    "    'Данные о проволочных материалах (время)':df_wire_time_new\n",
    "}"
   ]
  },
  {
   "cell_type": "markdown",
   "id": "363adede-eaa1-450b-95c2-f6674f253aa7",
   "metadata": {},
   "source": [
    "#### Рассмотрим данные:"
   ]
  },
  {
   "cell_type": "code",
   "execution_count": 4,
   "id": "8c254ed4-e409-43ef-8c07-acc618fb2456",
   "metadata": {},
   "outputs": [
    {
     "name": "stdout",
     "output_type": "stream",
     "text": [
      "\u001b[1m\u001b[31mДанные об электродах\u001b[0m\n"
     ]
    },
    {
     "data": {
      "text/html": [
       "<div>\n",
       "<style scoped>\n",
       "    .dataframe tbody tr th:only-of-type {\n",
       "        vertical-align: middle;\n",
       "    }\n",
       "\n",
       "    .dataframe tbody tr th {\n",
       "        vertical-align: top;\n",
       "    }\n",
       "\n",
       "    .dataframe thead th {\n",
       "        text-align: right;\n",
       "    }\n",
       "</style>\n",
       "<table border=\"1\" class=\"dataframe\">\n",
       "  <thead>\n",
       "    <tr style=\"text-align: right;\">\n",
       "      <th></th>\n",
       "      <th>key</th>\n",
       "      <th>Начало нагрева дугой</th>\n",
       "      <th>Конец нагрева дугой</th>\n",
       "      <th>Активная мощность</th>\n",
       "      <th>Реактивная мощность</th>\n",
       "    </tr>\n",
       "  </thead>\n",
       "  <tbody>\n",
       "    <tr>\n",
       "      <th>7412</th>\n",
       "      <td>1610</td>\n",
       "      <td>2019-07-02 20:03:03</td>\n",
       "      <td>2019-07-02 20:05:19</td>\n",
       "      <td>0.648397</td>\n",
       "      <td>0.415632</td>\n",
       "    </tr>\n",
       "    <tr>\n",
       "      <th>6549</th>\n",
       "      <td>1426</td>\n",
       "      <td>2019-06-26 00:13:36</td>\n",
       "      <td>2019-06-26 00:15:22</td>\n",
       "      <td>0.425882</td>\n",
       "      <td>0.261151</td>\n",
       "    </tr>\n",
       "    <tr>\n",
       "      <th>5253</th>\n",
       "      <td>1140</td>\n",
       "      <td>2019-06-15 23:47:00</td>\n",
       "      <td>2019-06-15 23:51:07</td>\n",
       "      <td>0.573220</td>\n",
       "      <td>0.382626</td>\n",
       "    </tr>\n",
       "    <tr>\n",
       "      <th>827</th>\n",
       "      <td>175</td>\n",
       "      <td>2019-05-10 07:10:16</td>\n",
       "      <td>2019-05-10 07:12:13</td>\n",
       "      <td>0.637423</td>\n",
       "      <td>0.431990</td>\n",
       "    </tr>\n",
       "    <tr>\n",
       "      <th>2336</th>\n",
       "      <td>501</td>\n",
       "      <td>2019-05-22 17:01:35</td>\n",
       "      <td>2019-05-22 17:02:42</td>\n",
       "      <td>0.885021</td>\n",
       "      <td>0.614966</td>\n",
       "    </tr>\n",
       "    <tr>\n",
       "      <th>8560</th>\n",
       "      <td>1864</td>\n",
       "      <td>2019-07-11 14:12:15</td>\n",
       "      <td>2019-07-11 14:14:03</td>\n",
       "      <td>0.447374</td>\n",
       "      <td>0.389160</td>\n",
       "    </tr>\n",
       "    <tr>\n",
       "      <th>9808</th>\n",
       "      <td>2124</td>\n",
       "      <td>2019-07-28 07:56:02</td>\n",
       "      <td>2019-07-28 07:58:19</td>\n",
       "      <td>0.559517</td>\n",
       "      <td>0.442356</td>\n",
       "    </tr>\n",
       "    <tr>\n",
       "      <th>11567</th>\n",
       "      <td>2521</td>\n",
       "      <td>2019-08-11 06:46:23</td>\n",
       "      <td>2019-08-11 06:50:38</td>\n",
       "      <td>0.622708</td>\n",
       "      <td>0.464328</td>\n",
       "    </tr>\n",
       "    <tr>\n",
       "      <th>208</th>\n",
       "      <td>45</td>\n",
       "      <td>2019-05-05 03:06:09</td>\n",
       "      <td>2019-05-05 03:08:13</td>\n",
       "      <td>0.339542</td>\n",
       "      <td>0.271451</td>\n",
       "    </tr>\n",
       "    <tr>\n",
       "      <th>4971</th>\n",
       "      <td>1073</td>\n",
       "      <td>2019-06-13 17:11:36</td>\n",
       "      <td>2019-06-13 17:14:37</td>\n",
       "      <td>0.319470</td>\n",
       "      <td>0.197474</td>\n",
       "    </tr>\n",
       "  </tbody>\n",
       "</table>\n",
       "</div>"
      ],
      "text/plain": [
       "        key Начало нагрева дугой  Конец нагрева дугой  Активная мощность  \\\n",
       "7412   1610  2019-07-02 20:03:03  2019-07-02 20:05:19           0.648397   \n",
       "6549   1426  2019-06-26 00:13:36  2019-06-26 00:15:22           0.425882   \n",
       "5253   1140  2019-06-15 23:47:00  2019-06-15 23:51:07           0.573220   \n",
       "827     175  2019-05-10 07:10:16  2019-05-10 07:12:13           0.637423   \n",
       "2336    501  2019-05-22 17:01:35  2019-05-22 17:02:42           0.885021   \n",
       "8560   1864  2019-07-11 14:12:15  2019-07-11 14:14:03           0.447374   \n",
       "9808   2124  2019-07-28 07:56:02  2019-07-28 07:58:19           0.559517   \n",
       "11567  2521  2019-08-11 06:46:23  2019-08-11 06:50:38           0.622708   \n",
       "208      45  2019-05-05 03:06:09  2019-05-05 03:08:13           0.339542   \n",
       "4971   1073  2019-06-13 17:11:36  2019-06-13 17:14:37           0.319470   \n",
       "\n",
       "       Реактивная мощность  \n",
       "7412              0.415632  \n",
       "6549              0.261151  \n",
       "5253              0.382626  \n",
       "827               0.431990  \n",
       "2336              0.614966  \n",
       "8560              0.389160  \n",
       "9808              0.442356  \n",
       "11567             0.464328  \n",
       "208               0.271451  \n",
       "4971              0.197474  "
      ]
     },
     "metadata": {},
     "output_type": "display_data"
    },
    {
     "name": "stdout",
     "output_type": "stream",
     "text": [
      "<class 'pandas.core.frame.DataFrame'>\n",
      "RangeIndex: 14876 entries, 0 to 14875\n",
      "Data columns (total 5 columns):\n",
      " #   Column                Non-Null Count  Dtype  \n",
      "---  ------                --------------  -----  \n",
      " 0   key                   14876 non-null  int64  \n",
      " 1   Начало нагрева дугой  14876 non-null  object \n",
      " 2   Конец нагрева дугой   14876 non-null  object \n",
      " 3   Активная мощность     14876 non-null  float64\n",
      " 4   Реактивная мощность   14876 non-null  float64\n",
      "dtypes: float64(2), int64(1), object(2)\n",
      "memory usage: 581.2+ KB\n"
     ]
    },
    {
     "data": {
      "text/plain": [
       "None"
      ]
     },
     "metadata": {},
     "output_type": "display_data"
    },
    {
     "name": "stdout",
     "output_type": "stream",
     "text": [
      "++++++++++++++++++++++++++++++++++++++++++++++++++\n",
      "\u001b[1m\u001b[31mДанные о подаче сыпучих материалов (объём)\u001b[0m\n"
     ]
    },
    {
     "data": {
      "text/html": [
       "<div>\n",
       "<style scoped>\n",
       "    .dataframe tbody tr th:only-of-type {\n",
       "        vertical-align: middle;\n",
       "    }\n",
       "\n",
       "    .dataframe tbody tr th {\n",
       "        vertical-align: top;\n",
       "    }\n",
       "\n",
       "    .dataframe thead th {\n",
       "        text-align: right;\n",
       "    }\n",
       "</style>\n",
       "<table border=\"1\" class=\"dataframe\">\n",
       "  <thead>\n",
       "    <tr style=\"text-align: right;\">\n",
       "      <th></th>\n",
       "      <th>key</th>\n",
       "      <th>Bulk 1</th>\n",
       "      <th>Bulk 2</th>\n",
       "      <th>Bulk 3</th>\n",
       "      <th>Bulk 4</th>\n",
       "      <th>Bulk 5</th>\n",
       "      <th>Bulk 6</th>\n",
       "      <th>Bulk 7</th>\n",
       "      <th>Bulk 8</th>\n",
       "      <th>Bulk 9</th>\n",
       "      <th>Bulk 10</th>\n",
       "      <th>Bulk 11</th>\n",
       "      <th>Bulk 12</th>\n",
       "      <th>Bulk 13</th>\n",
       "      <th>Bulk 14</th>\n",
       "      <th>Bulk 15</th>\n",
       "    </tr>\n",
       "  </thead>\n",
       "  <tbody>\n",
       "    <tr>\n",
       "      <th>3</th>\n",
       "      <td>4</td>\n",
       "      <td>NaN</td>\n",
       "      <td>NaN</td>\n",
       "      <td>NaN</td>\n",
       "      <td>81.0</td>\n",
       "      <td>NaN</td>\n",
       "      <td>NaN</td>\n",
       "      <td>NaN</td>\n",
       "      <td>NaN</td>\n",
       "      <td>NaN</td>\n",
       "      <td>NaN</td>\n",
       "      <td>NaN</td>\n",
       "      <td>207.0</td>\n",
       "      <td>NaN</td>\n",
       "      <td>153.0</td>\n",
       "      <td>154.0</td>\n",
       "    </tr>\n",
       "    <tr>\n",
       "      <th>2225</th>\n",
       "      <td>2305</td>\n",
       "      <td>NaN</td>\n",
       "      <td>NaN</td>\n",
       "      <td>NaN</td>\n",
       "      <td>NaN</td>\n",
       "      <td>NaN</td>\n",
       "      <td>NaN</td>\n",
       "      <td>NaN</td>\n",
       "      <td>NaN</td>\n",
       "      <td>NaN</td>\n",
       "      <td>NaN</td>\n",
       "      <td>22.0</td>\n",
       "      <td>685.0</td>\n",
       "      <td>NaN</td>\n",
       "      <td>199.0</td>\n",
       "      <td>206.0</td>\n",
       "    </tr>\n",
       "    <tr>\n",
       "      <th>25</th>\n",
       "      <td>26</td>\n",
       "      <td>NaN</td>\n",
       "      <td>NaN</td>\n",
       "      <td>67.0</td>\n",
       "      <td>NaN</td>\n",
       "      <td>NaN</td>\n",
       "      <td>NaN</td>\n",
       "      <td>NaN</td>\n",
       "      <td>NaN</td>\n",
       "      <td>NaN</td>\n",
       "      <td>NaN</td>\n",
       "      <td>NaN</td>\n",
       "      <td>NaN</td>\n",
       "      <td>NaN</td>\n",
       "      <td>NaN</td>\n",
       "      <td>NaN</td>\n",
       "    </tr>\n",
       "    <tr>\n",
       "      <th>2921</th>\n",
       "      <td>3029</td>\n",
       "      <td>NaN</td>\n",
       "      <td>NaN</td>\n",
       "      <td>NaN</td>\n",
       "      <td>NaN</td>\n",
       "      <td>NaN</td>\n",
       "      <td>66.0</td>\n",
       "      <td>NaN</td>\n",
       "      <td>NaN</td>\n",
       "      <td>NaN</td>\n",
       "      <td>NaN</td>\n",
       "      <td>NaN</td>\n",
       "      <td>208.0</td>\n",
       "      <td>NaN</td>\n",
       "      <td>152.0</td>\n",
       "      <td>106.0</td>\n",
       "    </tr>\n",
       "    <tr>\n",
       "      <th>1039</th>\n",
       "      <td>1085</td>\n",
       "      <td>NaN</td>\n",
       "      <td>NaN</td>\n",
       "      <td>NaN</td>\n",
       "      <td>NaN</td>\n",
       "      <td>NaN</td>\n",
       "      <td>NaN</td>\n",
       "      <td>NaN</td>\n",
       "      <td>NaN</td>\n",
       "      <td>NaN</td>\n",
       "      <td>NaN</td>\n",
       "      <td>NaN</td>\n",
       "      <td>NaN</td>\n",
       "      <td>NaN</td>\n",
       "      <td>152.0</td>\n",
       "      <td>NaN</td>\n",
       "    </tr>\n",
       "    <tr>\n",
       "      <th>618</th>\n",
       "      <td>648</td>\n",
       "      <td>54.0</td>\n",
       "      <td>NaN</td>\n",
       "      <td>NaN</td>\n",
       "      <td>106.0</td>\n",
       "      <td>NaN</td>\n",
       "      <td>NaN</td>\n",
       "      <td>NaN</td>\n",
       "      <td>NaN</td>\n",
       "      <td>NaN</td>\n",
       "      <td>NaN</td>\n",
       "      <td>NaN</td>\n",
       "      <td>462.0</td>\n",
       "      <td>NaN</td>\n",
       "      <td>256.0</td>\n",
       "      <td>NaN</td>\n",
       "    </tr>\n",
       "    <tr>\n",
       "      <th>1744</th>\n",
       "      <td>1805</td>\n",
       "      <td>NaN</td>\n",
       "      <td>NaN</td>\n",
       "      <td>NaN</td>\n",
       "      <td>76.0</td>\n",
       "      <td>NaN</td>\n",
       "      <td>NaN</td>\n",
       "      <td>NaN</td>\n",
       "      <td>NaN</td>\n",
       "      <td>NaN</td>\n",
       "      <td>NaN</td>\n",
       "      <td>NaN</td>\n",
       "      <td>206.0</td>\n",
       "      <td>NaN</td>\n",
       "      <td>101.0</td>\n",
       "      <td>104.0</td>\n",
       "    </tr>\n",
       "    <tr>\n",
       "      <th>2103</th>\n",
       "      <td>2175</td>\n",
       "      <td>NaN</td>\n",
       "      <td>NaN</td>\n",
       "      <td>81.0</td>\n",
       "      <td>NaN</td>\n",
       "      <td>NaN</td>\n",
       "      <td>NaN</td>\n",
       "      <td>NaN</td>\n",
       "      <td>NaN</td>\n",
       "      <td>NaN</td>\n",
       "      <td>NaN</td>\n",
       "      <td>NaN</td>\n",
       "      <td>422.0</td>\n",
       "      <td>NaN</td>\n",
       "      <td>214.0</td>\n",
       "      <td>218.0</td>\n",
       "    </tr>\n",
       "    <tr>\n",
       "      <th>2085</th>\n",
       "      <td>2157</td>\n",
       "      <td>NaN</td>\n",
       "      <td>NaN</td>\n",
       "      <td>99.0</td>\n",
       "      <td>67.0</td>\n",
       "      <td>NaN</td>\n",
       "      <td>NaN</td>\n",
       "      <td>NaN</td>\n",
       "      <td>NaN</td>\n",
       "      <td>NaN</td>\n",
       "      <td>61.0</td>\n",
       "      <td>NaN</td>\n",
       "      <td>329.0</td>\n",
       "      <td>NaN</td>\n",
       "      <td>196.0</td>\n",
       "      <td>190.0</td>\n",
       "    </tr>\n",
       "    <tr>\n",
       "      <th>2204</th>\n",
       "      <td>2284</td>\n",
       "      <td>NaN</td>\n",
       "      <td>NaN</td>\n",
       "      <td>142.0</td>\n",
       "      <td>NaN</td>\n",
       "      <td>NaN</td>\n",
       "      <td>NaN</td>\n",
       "      <td>NaN</td>\n",
       "      <td>NaN</td>\n",
       "      <td>NaN</td>\n",
       "      <td>NaN</td>\n",
       "      <td>NaN</td>\n",
       "      <td>263.0</td>\n",
       "      <td>NaN</td>\n",
       "      <td>192.0</td>\n",
       "      <td>104.0</td>\n",
       "    </tr>\n",
       "  </tbody>\n",
       "</table>\n",
       "</div>"
      ],
      "text/plain": [
       "       key  Bulk 1  Bulk 2  Bulk 3  Bulk 4  Bulk 5  Bulk 6  Bulk 7  Bulk 8  \\\n",
       "3        4     NaN     NaN     NaN    81.0     NaN     NaN     NaN     NaN   \n",
       "2225  2305     NaN     NaN     NaN     NaN     NaN     NaN     NaN     NaN   \n",
       "25      26     NaN     NaN    67.0     NaN     NaN     NaN     NaN     NaN   \n",
       "2921  3029     NaN     NaN     NaN     NaN     NaN    66.0     NaN     NaN   \n",
       "1039  1085     NaN     NaN     NaN     NaN     NaN     NaN     NaN     NaN   \n",
       "618    648    54.0     NaN     NaN   106.0     NaN     NaN     NaN     NaN   \n",
       "1744  1805     NaN     NaN     NaN    76.0     NaN     NaN     NaN     NaN   \n",
       "2103  2175     NaN     NaN    81.0     NaN     NaN     NaN     NaN     NaN   \n",
       "2085  2157     NaN     NaN    99.0    67.0     NaN     NaN     NaN     NaN   \n",
       "2204  2284     NaN     NaN   142.0     NaN     NaN     NaN     NaN     NaN   \n",
       "\n",
       "      Bulk 9  Bulk 10  Bulk 11  Bulk 12  Bulk 13  Bulk 14  Bulk 15  \n",
       "3        NaN      NaN      NaN    207.0      NaN    153.0    154.0  \n",
       "2225     NaN      NaN     22.0    685.0      NaN    199.0    206.0  \n",
       "25       NaN      NaN      NaN      NaN      NaN      NaN      NaN  \n",
       "2921     NaN      NaN      NaN    208.0      NaN    152.0    106.0  \n",
       "1039     NaN      NaN      NaN      NaN      NaN    152.0      NaN  \n",
       "618      NaN      NaN      NaN    462.0      NaN    256.0      NaN  \n",
       "1744     NaN      NaN      NaN    206.0      NaN    101.0    104.0  \n",
       "2103     NaN      NaN      NaN    422.0      NaN    214.0    218.0  \n",
       "2085     NaN     61.0      NaN    329.0      NaN    196.0    190.0  \n",
       "2204     NaN      NaN      NaN    263.0      NaN    192.0    104.0  "
      ]
     },
     "metadata": {},
     "output_type": "display_data"
    },
    {
     "name": "stdout",
     "output_type": "stream",
     "text": [
      "<class 'pandas.core.frame.DataFrame'>\n",
      "RangeIndex: 3129 entries, 0 to 3128\n",
      "Data columns (total 16 columns):\n",
      " #   Column   Non-Null Count  Dtype  \n",
      "---  ------   --------------  -----  \n",
      " 0   key      3129 non-null   int64  \n",
      " 1   Bulk 1   252 non-null    float64\n",
      " 2   Bulk 2   22 non-null     float64\n",
      " 3   Bulk 3   1298 non-null   float64\n",
      " 4   Bulk 4   1014 non-null   float64\n",
      " 5   Bulk 5   77 non-null     float64\n",
      " 6   Bulk 6   576 non-null    float64\n",
      " 7   Bulk 7   25 non-null     float64\n",
      " 8   Bulk 8   1 non-null      float64\n",
      " 9   Bulk 9   19 non-null     float64\n",
      " 10  Bulk 10  176 non-null    float64\n",
      " 11  Bulk 11  177 non-null    float64\n",
      " 12  Bulk 12  2450 non-null   float64\n",
      " 13  Bulk 13  18 non-null     float64\n",
      " 14  Bulk 14  2806 non-null   float64\n",
      " 15  Bulk 15  2248 non-null   float64\n",
      "dtypes: float64(15), int64(1)\n",
      "memory usage: 391.2 KB\n"
     ]
    },
    {
     "data": {
      "text/plain": [
       "None"
      ]
     },
     "metadata": {},
     "output_type": "display_data"
    },
    {
     "name": "stdout",
     "output_type": "stream",
     "text": [
      "++++++++++++++++++++++++++++++++++++++++++++++++++\n",
      "\u001b[1m\u001b[31mДанные о подаче сыпучих материалов (время)\u001b[0m\n"
     ]
    },
    {
     "data": {
      "text/html": [
       "<div>\n",
       "<style scoped>\n",
       "    .dataframe tbody tr th:only-of-type {\n",
       "        vertical-align: middle;\n",
       "    }\n",
       "\n",
       "    .dataframe tbody tr th {\n",
       "        vertical-align: top;\n",
       "    }\n",
       "\n",
       "    .dataframe thead th {\n",
       "        text-align: right;\n",
       "    }\n",
       "</style>\n",
       "<table border=\"1\" class=\"dataframe\">\n",
       "  <thead>\n",
       "    <tr style=\"text-align: right;\">\n",
       "      <th></th>\n",
       "      <th>key</th>\n",
       "      <th>Bulk 1</th>\n",
       "      <th>Bulk 2</th>\n",
       "      <th>Bulk 3</th>\n",
       "      <th>Bulk 4</th>\n",
       "      <th>Bulk 5</th>\n",
       "      <th>Bulk 6</th>\n",
       "      <th>Bulk 7</th>\n",
       "      <th>Bulk 8</th>\n",
       "      <th>Bulk 9</th>\n",
       "      <th>Bulk 10</th>\n",
       "      <th>Bulk 11</th>\n",
       "      <th>Bulk 12</th>\n",
       "      <th>Bulk 13</th>\n",
       "      <th>Bulk 14</th>\n",
       "      <th>Bulk 15</th>\n",
       "    </tr>\n",
       "  </thead>\n",
       "  <tbody>\n",
       "    <tr>\n",
       "      <th>1402</th>\n",
       "      <td>1456</td>\n",
       "      <td>NaN</td>\n",
       "      <td>NaN</td>\n",
       "      <td>2019-06-27 06:46:17</td>\n",
       "      <td>NaN</td>\n",
       "      <td>NaN</td>\n",
       "      <td>NaN</td>\n",
       "      <td>NaN</td>\n",
       "      <td>NaN</td>\n",
       "      <td>NaN</td>\n",
       "      <td>NaN</td>\n",
       "      <td>NaN</td>\n",
       "      <td>2019-06-27 06:43:23</td>\n",
       "      <td>NaN</td>\n",
       "      <td>2019-06-27 06:39:33</td>\n",
       "      <td>2019-06-27 06:33:54</td>\n",
       "    </tr>\n",
       "    <tr>\n",
       "      <th>284</th>\n",
       "      <td>303</td>\n",
       "      <td>2019-05-15 04:41:54</td>\n",
       "      <td>NaN</td>\n",
       "      <td>2019-05-15 04:58:21</td>\n",
       "      <td>NaN</td>\n",
       "      <td>NaN</td>\n",
       "      <td>NaN</td>\n",
       "      <td>NaN</td>\n",
       "      <td>NaN</td>\n",
       "      <td>NaN</td>\n",
       "      <td>NaN</td>\n",
       "      <td>NaN</td>\n",
       "      <td>2019-05-15 04:52:26</td>\n",
       "      <td>NaN</td>\n",
       "      <td>2019-05-15 04:41:54</td>\n",
       "      <td>2019-05-15 04:29:48</td>\n",
       "    </tr>\n",
       "    <tr>\n",
       "      <th>1011</th>\n",
       "      <td>1056</td>\n",
       "      <td>NaN</td>\n",
       "      <td>NaN</td>\n",
       "      <td>NaN</td>\n",
       "      <td>2019-06-13 01:21:48</td>\n",
       "      <td>NaN</td>\n",
       "      <td>NaN</td>\n",
       "      <td>NaN</td>\n",
       "      <td>NaN</td>\n",
       "      <td>NaN</td>\n",
       "      <td>NaN</td>\n",
       "      <td>NaN</td>\n",
       "      <td>NaN</td>\n",
       "      <td>NaN</td>\n",
       "      <td>NaN</td>\n",
       "      <td>NaN</td>\n",
       "    </tr>\n",
       "    <tr>\n",
       "      <th>2428</th>\n",
       "      <td>2520</td>\n",
       "      <td>NaN</td>\n",
       "      <td>NaN</td>\n",
       "      <td>NaN</td>\n",
       "      <td>NaN</td>\n",
       "      <td>NaN</td>\n",
       "      <td>2019-08-11 06:12:21</td>\n",
       "      <td>NaN</td>\n",
       "      <td>NaN</td>\n",
       "      <td>NaN</td>\n",
       "      <td>NaN</td>\n",
       "      <td>2019-08-11 06:04:28</td>\n",
       "      <td>NaN</td>\n",
       "      <td>NaN</td>\n",
       "      <td>2019-08-11 05:51:24</td>\n",
       "      <td>NaN</td>\n",
       "    </tr>\n",
       "    <tr>\n",
       "      <th>28</th>\n",
       "      <td>29</td>\n",
       "      <td>NaN</td>\n",
       "      <td>NaN</td>\n",
       "      <td>2019-05-04 10:22:45</td>\n",
       "      <td>NaN</td>\n",
       "      <td>NaN</td>\n",
       "      <td>NaN</td>\n",
       "      <td>NaN</td>\n",
       "      <td>NaN</td>\n",
       "      <td>NaN</td>\n",
       "      <td>NaN</td>\n",
       "      <td>NaN</td>\n",
       "      <td>2019-05-04 10:33:44</td>\n",
       "      <td>NaN</td>\n",
       "      <td>2019-05-04 10:30:52</td>\n",
       "      <td>2019-05-04 10:22:45</td>\n",
       "    </tr>\n",
       "    <tr>\n",
       "      <th>1146</th>\n",
       "      <td>1194</td>\n",
       "      <td>NaN</td>\n",
       "      <td>NaN</td>\n",
       "      <td>2019-06-17 16:27:44</td>\n",
       "      <td>2019-06-17 16:27:44</td>\n",
       "      <td>NaN</td>\n",
       "      <td>NaN</td>\n",
       "      <td>NaN</td>\n",
       "      <td>NaN</td>\n",
       "      <td>NaN</td>\n",
       "      <td>NaN</td>\n",
       "      <td>NaN</td>\n",
       "      <td>2019-06-17 16:27:44</td>\n",
       "      <td>NaN</td>\n",
       "      <td>2019-06-17 16:27:44</td>\n",
       "      <td>2019-06-17 16:37:53</td>\n",
       "    </tr>\n",
       "    <tr>\n",
       "      <th>123</th>\n",
       "      <td>136</td>\n",
       "      <td>2019-05-08 20:35:02</td>\n",
       "      <td>NaN</td>\n",
       "      <td>2019-05-08 20:35:02</td>\n",
       "      <td>NaN</td>\n",
       "      <td>NaN</td>\n",
       "      <td>NaN</td>\n",
       "      <td>NaN</td>\n",
       "      <td>NaN</td>\n",
       "      <td>NaN</td>\n",
       "      <td>NaN</td>\n",
       "      <td>NaN</td>\n",
       "      <td>2019-05-08 20:35:02</td>\n",
       "      <td>NaN</td>\n",
       "      <td>2019-05-08 20:29:26</td>\n",
       "      <td>2019-05-08 20:24:30</td>\n",
       "    </tr>\n",
       "    <tr>\n",
       "      <th>163</th>\n",
       "      <td>177</td>\n",
       "      <td>NaN</td>\n",
       "      <td>NaN</td>\n",
       "      <td>NaN</td>\n",
       "      <td>2019-05-10 09:55:10</td>\n",
       "      <td>NaN</td>\n",
       "      <td>NaN</td>\n",
       "      <td>NaN</td>\n",
       "      <td>NaN</td>\n",
       "      <td>NaN</td>\n",
       "      <td>NaN</td>\n",
       "      <td>NaN</td>\n",
       "      <td>2019-05-10 09:52:52</td>\n",
       "      <td>NaN</td>\n",
       "      <td>2019-05-10 09:46:53</td>\n",
       "      <td>2019-05-10 09:41:08</td>\n",
       "    </tr>\n",
       "    <tr>\n",
       "      <th>2191</th>\n",
       "      <td>2270</td>\n",
       "      <td>NaN</td>\n",
       "      <td>NaN</td>\n",
       "      <td>NaN</td>\n",
       "      <td>NaN</td>\n",
       "      <td>NaN</td>\n",
       "      <td>NaN</td>\n",
       "      <td>NaN</td>\n",
       "      <td>NaN</td>\n",
       "      <td>NaN</td>\n",
       "      <td>2019-08-02 03:17:23</td>\n",
       "      <td>NaN</td>\n",
       "      <td>2019-08-02 03:17:23</td>\n",
       "      <td>NaN</td>\n",
       "      <td>2019-08-02 03:22:17</td>\n",
       "      <td>2019-08-02 03:17:23</td>\n",
       "    </tr>\n",
       "    <tr>\n",
       "      <th>2124</th>\n",
       "      <td>2200</td>\n",
       "      <td>NaN</td>\n",
       "      <td>NaN</td>\n",
       "      <td>2019-07-30 20:41:25</td>\n",
       "      <td>NaN</td>\n",
       "      <td>NaN</td>\n",
       "      <td>NaN</td>\n",
       "      <td>NaN</td>\n",
       "      <td>NaN</td>\n",
       "      <td>NaN</td>\n",
       "      <td>NaN</td>\n",
       "      <td>NaN</td>\n",
       "      <td>2019-07-30 20:39:40</td>\n",
       "      <td>NaN</td>\n",
       "      <td>2019-07-30 20:32:13</td>\n",
       "      <td>2019-07-30 20:28:17</td>\n",
       "    </tr>\n",
       "  </tbody>\n",
       "</table>\n",
       "</div>"
      ],
      "text/plain": [
       "       key               Bulk 1 Bulk 2               Bulk 3  \\\n",
       "1402  1456                  NaN    NaN  2019-06-27 06:46:17   \n",
       "284    303  2019-05-15 04:41:54    NaN  2019-05-15 04:58:21   \n",
       "1011  1056                  NaN    NaN                  NaN   \n",
       "2428  2520                  NaN    NaN                  NaN   \n",
       "28      29                  NaN    NaN  2019-05-04 10:22:45   \n",
       "1146  1194                  NaN    NaN  2019-06-17 16:27:44   \n",
       "123    136  2019-05-08 20:35:02    NaN  2019-05-08 20:35:02   \n",
       "163    177                  NaN    NaN                  NaN   \n",
       "2191  2270                  NaN    NaN                  NaN   \n",
       "2124  2200                  NaN    NaN  2019-07-30 20:41:25   \n",
       "\n",
       "                   Bulk 4 Bulk 5               Bulk 6 Bulk 7 Bulk 8 Bulk 9  \\\n",
       "1402                  NaN    NaN                  NaN    NaN    NaN    NaN   \n",
       "284                   NaN    NaN                  NaN    NaN    NaN    NaN   \n",
       "1011  2019-06-13 01:21:48    NaN                  NaN    NaN    NaN    NaN   \n",
       "2428                  NaN    NaN  2019-08-11 06:12:21    NaN    NaN    NaN   \n",
       "28                    NaN    NaN                  NaN    NaN    NaN    NaN   \n",
       "1146  2019-06-17 16:27:44    NaN                  NaN    NaN    NaN    NaN   \n",
       "123                   NaN    NaN                  NaN    NaN    NaN    NaN   \n",
       "163   2019-05-10 09:55:10    NaN                  NaN    NaN    NaN    NaN   \n",
       "2191                  NaN    NaN                  NaN    NaN    NaN    NaN   \n",
       "2124                  NaN    NaN                  NaN    NaN    NaN    NaN   \n",
       "\n",
       "                  Bulk 10              Bulk 11              Bulk 12 Bulk 13  \\\n",
       "1402                  NaN                  NaN  2019-06-27 06:43:23     NaN   \n",
       "284                   NaN                  NaN  2019-05-15 04:52:26     NaN   \n",
       "1011                  NaN                  NaN                  NaN     NaN   \n",
       "2428                  NaN  2019-08-11 06:04:28                  NaN     NaN   \n",
       "28                    NaN                  NaN  2019-05-04 10:33:44     NaN   \n",
       "1146                  NaN                  NaN  2019-06-17 16:27:44     NaN   \n",
       "123                   NaN                  NaN  2019-05-08 20:35:02     NaN   \n",
       "163                   NaN                  NaN  2019-05-10 09:52:52     NaN   \n",
       "2191  2019-08-02 03:17:23                  NaN  2019-08-02 03:17:23     NaN   \n",
       "2124                  NaN                  NaN  2019-07-30 20:39:40     NaN   \n",
       "\n",
       "                  Bulk 14              Bulk 15  \n",
       "1402  2019-06-27 06:39:33  2019-06-27 06:33:54  \n",
       "284   2019-05-15 04:41:54  2019-05-15 04:29:48  \n",
       "1011                  NaN                  NaN  \n",
       "2428  2019-08-11 05:51:24                  NaN  \n",
       "28    2019-05-04 10:30:52  2019-05-04 10:22:45  \n",
       "1146  2019-06-17 16:27:44  2019-06-17 16:37:53  \n",
       "123   2019-05-08 20:29:26  2019-05-08 20:24:30  \n",
       "163   2019-05-10 09:46:53  2019-05-10 09:41:08  \n",
       "2191  2019-08-02 03:22:17  2019-08-02 03:17:23  \n",
       "2124  2019-07-30 20:32:13  2019-07-30 20:28:17  "
      ]
     },
     "metadata": {},
     "output_type": "display_data"
    },
    {
     "name": "stdout",
     "output_type": "stream",
     "text": [
      "<class 'pandas.core.frame.DataFrame'>\n",
      "RangeIndex: 3129 entries, 0 to 3128\n",
      "Data columns (total 16 columns):\n",
      " #   Column   Non-Null Count  Dtype \n",
      "---  ------   --------------  ----- \n",
      " 0   key      3129 non-null   int64 \n",
      " 1   Bulk 1   252 non-null    object\n",
      " 2   Bulk 2   22 non-null     object\n",
      " 3   Bulk 3   1298 non-null   object\n",
      " 4   Bulk 4   1014 non-null   object\n",
      " 5   Bulk 5   77 non-null     object\n",
      " 6   Bulk 6   576 non-null    object\n",
      " 7   Bulk 7   25 non-null     object\n",
      " 8   Bulk 8   1 non-null      object\n",
      " 9   Bulk 9   19 non-null     object\n",
      " 10  Bulk 10  176 non-null    object\n",
      " 11  Bulk 11  177 non-null    object\n",
      " 12  Bulk 12  2450 non-null   object\n",
      " 13  Bulk 13  18 non-null     object\n",
      " 14  Bulk 14  2806 non-null   object\n",
      " 15  Bulk 15  2248 non-null   object\n",
      "dtypes: int64(1), object(15)\n",
      "memory usage: 391.2+ KB\n"
     ]
    },
    {
     "data": {
      "text/plain": [
       "None"
      ]
     },
     "metadata": {},
     "output_type": "display_data"
    },
    {
     "name": "stdout",
     "output_type": "stream",
     "text": [
      "++++++++++++++++++++++++++++++++++++++++++++++++++\n",
      "\u001b[1m\u001b[31mДанные о продувке сплава газом\u001b[0m\n"
     ]
    },
    {
     "data": {
      "text/html": [
       "<div>\n",
       "<style scoped>\n",
       "    .dataframe tbody tr th:only-of-type {\n",
       "        vertical-align: middle;\n",
       "    }\n",
       "\n",
       "    .dataframe tbody tr th {\n",
       "        vertical-align: top;\n",
       "    }\n",
       "\n",
       "    .dataframe thead th {\n",
       "        text-align: right;\n",
       "    }\n",
       "</style>\n",
       "<table border=\"1\" class=\"dataframe\">\n",
       "  <thead>\n",
       "    <tr style=\"text-align: right;\">\n",
       "      <th></th>\n",
       "      <th>key</th>\n",
       "      <th>Газ 1</th>\n",
       "    </tr>\n",
       "  </thead>\n",
       "  <tbody>\n",
       "    <tr>\n",
       "      <th>1687</th>\n",
       "      <td>1690</td>\n",
       "      <td>10.860076</td>\n",
       "    </tr>\n",
       "    <tr>\n",
       "      <th>2543</th>\n",
       "      <td>2546</td>\n",
       "      <td>7.847271</td>\n",
       "    </tr>\n",
       "    <tr>\n",
       "      <th>1155</th>\n",
       "      <td>1158</td>\n",
       "      <td>4.652906</td>\n",
       "    </tr>\n",
       "    <tr>\n",
       "      <th>3069</th>\n",
       "      <td>3072</td>\n",
       "      <td>5.219002</td>\n",
       "    </tr>\n",
       "    <tr>\n",
       "      <th>1066</th>\n",
       "      <td>1069</td>\n",
       "      <td>25.255937</td>\n",
       "    </tr>\n",
       "    <tr>\n",
       "      <th>3185</th>\n",
       "      <td>3188</td>\n",
       "      <td>14.723426</td>\n",
       "    </tr>\n",
       "    <tr>\n",
       "      <th>2003</th>\n",
       "      <td>2006</td>\n",
       "      <td>10.544135</td>\n",
       "    </tr>\n",
       "    <tr>\n",
       "      <th>64</th>\n",
       "      <td>65</td>\n",
       "      <td>19.874645</td>\n",
       "    </tr>\n",
       "    <tr>\n",
       "      <th>2646</th>\n",
       "      <td>2649</td>\n",
       "      <td>11.129456</td>\n",
       "    </tr>\n",
       "    <tr>\n",
       "      <th>1527</th>\n",
       "      <td>1530</td>\n",
       "      <td>24.721267</td>\n",
       "    </tr>\n",
       "  </tbody>\n",
       "</table>\n",
       "</div>"
      ],
      "text/plain": [
       "       key      Газ 1\n",
       "1687  1690  10.860076\n",
       "2543  2546   7.847271\n",
       "1155  1158   4.652906\n",
       "3069  3072   5.219002\n",
       "1066  1069  25.255937\n",
       "3185  3188  14.723426\n",
       "2003  2006  10.544135\n",
       "64      65  19.874645\n",
       "2646  2649  11.129456\n",
       "1527  1530  24.721267"
      ]
     },
     "metadata": {},
     "output_type": "display_data"
    },
    {
     "name": "stdout",
     "output_type": "stream",
     "text": [
      "<class 'pandas.core.frame.DataFrame'>\n",
      "RangeIndex: 3239 entries, 0 to 3238\n",
      "Data columns (total 2 columns):\n",
      " #   Column  Non-Null Count  Dtype  \n",
      "---  ------  --------------  -----  \n",
      " 0   key     3239 non-null   int64  \n",
      " 1   Газ 1   3239 non-null   float64\n",
      "dtypes: float64(1), int64(1)\n",
      "memory usage: 50.7 KB\n"
     ]
    },
    {
     "data": {
      "text/plain": [
       "None"
      ]
     },
     "metadata": {},
     "output_type": "display_data"
    },
    {
     "name": "stdout",
     "output_type": "stream",
     "text": [
      "++++++++++++++++++++++++++++++++++++++++++++++++++\n",
      "\u001b[1m\u001b[31mРезультаты измерения температуры\u001b[0m\n"
     ]
    },
    {
     "data": {
      "text/html": [
       "<div>\n",
       "<style scoped>\n",
       "    .dataframe tbody tr th:only-of-type {\n",
       "        vertical-align: middle;\n",
       "    }\n",
       "\n",
       "    .dataframe tbody tr th {\n",
       "        vertical-align: top;\n",
       "    }\n",
       "\n",
       "    .dataframe thead th {\n",
       "        text-align: right;\n",
       "    }\n",
       "</style>\n",
       "<table border=\"1\" class=\"dataframe\">\n",
       "  <thead>\n",
       "    <tr style=\"text-align: right;\">\n",
       "      <th></th>\n",
       "      <th>key</th>\n",
       "      <th>Время замера</th>\n",
       "      <th>Температура</th>\n",
       "    </tr>\n",
       "  </thead>\n",
       "  <tbody>\n",
       "    <tr>\n",
       "      <th>14994</th>\n",
       "      <td>2679</td>\n",
       "      <td>2019-08-17 07:17:26</td>\n",
       "      <td>NaN</td>\n",
       "    </tr>\n",
       "    <tr>\n",
       "      <th>4629</th>\n",
       "      <td>823</td>\n",
       "      <td>2019-06-04 15:34:12</td>\n",
       "      <td>1590.0</td>\n",
       "    </tr>\n",
       "    <tr>\n",
       "      <th>2603</th>\n",
       "      <td>460</td>\n",
       "      <td>2019-05-21 02:04:08</td>\n",
       "      <td>1614.0</td>\n",
       "    </tr>\n",
       "    <tr>\n",
       "      <th>12775</th>\n",
       "      <td>2284</td>\n",
       "      <td>2019-08-02 16:00:29</td>\n",
       "      <td>1579.0</td>\n",
       "    </tr>\n",
       "    <tr>\n",
       "      <th>5897</th>\n",
       "      <td>1049</td>\n",
       "      <td>2019-06-12 20:18:54</td>\n",
       "      <td>1594.0</td>\n",
       "    </tr>\n",
       "    <tr>\n",
       "      <th>13632</th>\n",
       "      <td>2440</td>\n",
       "      <td>2019-08-08 10:49:04</td>\n",
       "      <td>1584.0</td>\n",
       "    </tr>\n",
       "    <tr>\n",
       "      <th>2635</th>\n",
       "      <td>466</td>\n",
       "      <td>2019-05-21 07:30:41</td>\n",
       "      <td>1568.0</td>\n",
       "    </tr>\n",
       "    <tr>\n",
       "      <th>2274</th>\n",
       "      <td>405</td>\n",
       "      <td>2019-05-19 01:58:40</td>\n",
       "      <td>1593.0</td>\n",
       "    </tr>\n",
       "    <tr>\n",
       "      <th>14730</th>\n",
       "      <td>2635</td>\n",
       "      <td>2019-08-15 15:50:13</td>\n",
       "      <td>NaN</td>\n",
       "    </tr>\n",
       "    <tr>\n",
       "      <th>8924</th>\n",
       "      <td>1595</td>\n",
       "      <td>2019-07-02 07:54:14</td>\n",
       "      <td>1573.0</td>\n",
       "    </tr>\n",
       "  </tbody>\n",
       "</table>\n",
       "</div>"
      ],
      "text/plain": [
       "        key         Время замера  Температура\n",
       "14994  2679  2019-08-17 07:17:26          NaN\n",
       "4629    823  2019-06-04 15:34:12       1590.0\n",
       "2603    460  2019-05-21 02:04:08       1614.0\n",
       "12775  2284  2019-08-02 16:00:29       1579.0\n",
       "5897   1049  2019-06-12 20:18:54       1594.0\n",
       "13632  2440  2019-08-08 10:49:04       1584.0\n",
       "2635    466  2019-05-21 07:30:41       1568.0\n",
       "2274    405  2019-05-19 01:58:40       1593.0\n",
       "14730  2635  2019-08-15 15:50:13          NaN\n",
       "8924   1595  2019-07-02 07:54:14       1573.0"
      ]
     },
     "metadata": {},
     "output_type": "display_data"
    },
    {
     "name": "stdout",
     "output_type": "stream",
     "text": [
      "<class 'pandas.core.frame.DataFrame'>\n",
      "RangeIndex: 18092 entries, 0 to 18091\n",
      "Data columns (total 3 columns):\n",
      " #   Column        Non-Null Count  Dtype  \n",
      "---  ------        --------------  -----  \n",
      " 0   key           18092 non-null  int64  \n",
      " 1   Время замера  18092 non-null  object \n",
      " 2   Температура   14665 non-null  float64\n",
      "dtypes: float64(1), int64(1), object(1)\n",
      "memory usage: 424.2+ KB\n"
     ]
    },
    {
     "data": {
      "text/plain": [
       "None"
      ]
     },
     "metadata": {},
     "output_type": "display_data"
    },
    {
     "name": "stdout",
     "output_type": "stream",
     "text": [
      "++++++++++++++++++++++++++++++++++++++++++++++++++\n",
      "\u001b[1m\u001b[31mДанные о проволочных материалах (объём)\u001b[0m\n"
     ]
    },
    {
     "data": {
      "text/html": [
       "<div>\n",
       "<style scoped>\n",
       "    .dataframe tbody tr th:only-of-type {\n",
       "        vertical-align: middle;\n",
       "    }\n",
       "\n",
       "    .dataframe tbody tr th {\n",
       "        vertical-align: top;\n",
       "    }\n",
       "\n",
       "    .dataframe thead th {\n",
       "        text-align: right;\n",
       "    }\n",
       "</style>\n",
       "<table border=\"1\" class=\"dataframe\">\n",
       "  <thead>\n",
       "    <tr style=\"text-align: right;\">\n",
       "      <th></th>\n",
       "      <th>key</th>\n",
       "      <th>Wire 1</th>\n",
       "      <th>Wire 2</th>\n",
       "      <th>Wire 3</th>\n",
       "      <th>Wire 4</th>\n",
       "      <th>Wire 5</th>\n",
       "      <th>Wire 6</th>\n",
       "      <th>Wire 7</th>\n",
       "      <th>Wire 8</th>\n",
       "      <th>Wire 9</th>\n",
       "    </tr>\n",
       "  </thead>\n",
       "  <tbody>\n",
       "    <tr>\n",
       "      <th>1020</th>\n",
       "      <td>1080</td>\n",
       "      <td>73.101601</td>\n",
       "      <td>NaN</td>\n",
       "      <td>NaN</td>\n",
       "      <td>NaN</td>\n",
       "      <td>NaN</td>\n",
       "      <td>NaN</td>\n",
       "      <td>NaN</td>\n",
       "      <td>NaN</td>\n",
       "      <td>NaN</td>\n",
       "    </tr>\n",
       "    <tr>\n",
       "      <th>2964</th>\n",
       "      <td>3123</td>\n",
       "      <td>62.899201</td>\n",
       "      <td>70.272796</td>\n",
       "      <td>NaN</td>\n",
       "      <td>NaN</td>\n",
       "      <td>NaN</td>\n",
       "      <td>NaN</td>\n",
       "      <td>NaN</td>\n",
       "      <td>NaN</td>\n",
       "      <td>NaN</td>\n",
       "    </tr>\n",
       "    <tr>\n",
       "      <th>2461</th>\n",
       "      <td>2588</td>\n",
       "      <td>98.017921</td>\n",
       "      <td>NaN</td>\n",
       "      <td>NaN</td>\n",
       "      <td>NaN</td>\n",
       "      <td>NaN</td>\n",
       "      <td>NaN</td>\n",
       "      <td>NaN</td>\n",
       "      <td>NaN</td>\n",
       "      <td>NaN</td>\n",
       "    </tr>\n",
       "    <tr>\n",
       "      <th>1558</th>\n",
       "      <td>1637</td>\n",
       "      <td>71.089195</td>\n",
       "      <td>60.169201</td>\n",
       "      <td>NaN</td>\n",
       "      <td>NaN</td>\n",
       "      <td>NaN</td>\n",
       "      <td>NaN</td>\n",
       "      <td>NaN</td>\n",
       "      <td>NaN</td>\n",
       "      <td>NaN</td>\n",
       "    </tr>\n",
       "    <tr>\n",
       "      <th>3080</th>\n",
       "      <td>3241</td>\n",
       "      <td>63.117595</td>\n",
       "      <td>NaN</td>\n",
       "      <td>NaN</td>\n",
       "      <td>NaN</td>\n",
       "      <td>NaN</td>\n",
       "      <td>NaN</td>\n",
       "      <td>NaN</td>\n",
       "      <td>NaN</td>\n",
       "      <td>NaN</td>\n",
       "    </tr>\n",
       "    <tr>\n",
       "      <th>1434</th>\n",
       "      <td>1506</td>\n",
       "      <td>90.230397</td>\n",
       "      <td>60.169201</td>\n",
       "      <td>NaN</td>\n",
       "      <td>NaN</td>\n",
       "      <td>NaN</td>\n",
       "      <td>NaN</td>\n",
       "      <td>NaN</td>\n",
       "      <td>NaN</td>\n",
       "      <td>NaN</td>\n",
       "    </tr>\n",
       "    <tr>\n",
       "      <th>24</th>\n",
       "      <td>25</td>\n",
       "      <td>127.065117</td>\n",
       "      <td>64.588157</td>\n",
       "      <td>NaN</td>\n",
       "      <td>NaN</td>\n",
       "      <td>NaN</td>\n",
       "      <td>NaN</td>\n",
       "      <td>NaN</td>\n",
       "      <td>NaN</td>\n",
       "      <td>NaN</td>\n",
       "    </tr>\n",
       "    <tr>\n",
       "      <th>1490</th>\n",
       "      <td>1569</td>\n",
       "      <td>114.051601</td>\n",
       "      <td>35.136398</td>\n",
       "      <td>NaN</td>\n",
       "      <td>NaN</td>\n",
       "      <td>NaN</td>\n",
       "      <td>NaN</td>\n",
       "      <td>NaN</td>\n",
       "      <td>NaN</td>\n",
       "      <td>NaN</td>\n",
       "    </tr>\n",
       "    <tr>\n",
       "      <th>412</th>\n",
       "      <td>444</td>\n",
       "      <td>168.339600</td>\n",
       "      <td>NaN</td>\n",
       "      <td>NaN</td>\n",
       "      <td>NaN</td>\n",
       "      <td>NaN</td>\n",
       "      <td>NaN</td>\n",
       "      <td>NaN</td>\n",
       "      <td>NaN</td>\n",
       "      <td>NaN</td>\n",
       "    </tr>\n",
       "    <tr>\n",
       "      <th>3061</th>\n",
       "      <td>3222</td>\n",
       "      <td>25.072321</td>\n",
       "      <td>NaN</td>\n",
       "      <td>NaN</td>\n",
       "      <td>NaN</td>\n",
       "      <td>NaN</td>\n",
       "      <td>NaN</td>\n",
       "      <td>NaN</td>\n",
       "      <td>NaN</td>\n",
       "      <td>NaN</td>\n",
       "    </tr>\n",
       "  </tbody>\n",
       "</table>\n",
       "</div>"
      ],
      "text/plain": [
       "       key      Wire 1     Wire 2  Wire 3  Wire 4  Wire 5  Wire 6  Wire 7  \\\n",
       "1020  1080   73.101601        NaN     NaN     NaN     NaN     NaN     NaN   \n",
       "2964  3123   62.899201  70.272796     NaN     NaN     NaN     NaN     NaN   \n",
       "2461  2588   98.017921        NaN     NaN     NaN     NaN     NaN     NaN   \n",
       "1558  1637   71.089195  60.169201     NaN     NaN     NaN     NaN     NaN   \n",
       "3080  3241   63.117595        NaN     NaN     NaN     NaN     NaN     NaN   \n",
       "1434  1506   90.230397  60.169201     NaN     NaN     NaN     NaN     NaN   \n",
       "24      25  127.065117  64.588157     NaN     NaN     NaN     NaN     NaN   \n",
       "1490  1569  114.051601  35.136398     NaN     NaN     NaN     NaN     NaN   \n",
       "412    444  168.339600        NaN     NaN     NaN     NaN     NaN     NaN   \n",
       "3061  3222   25.072321        NaN     NaN     NaN     NaN     NaN     NaN   \n",
       "\n",
       "      Wire 8  Wire 9  \n",
       "1020     NaN     NaN  \n",
       "2964     NaN     NaN  \n",
       "2461     NaN     NaN  \n",
       "1558     NaN     NaN  \n",
       "3080     NaN     NaN  \n",
       "1434     NaN     NaN  \n",
       "24       NaN     NaN  \n",
       "1490     NaN     NaN  \n",
       "412      NaN     NaN  \n",
       "3061     NaN     NaN  "
      ]
     },
     "metadata": {},
     "output_type": "display_data"
    },
    {
     "name": "stdout",
     "output_type": "stream",
     "text": [
      "<class 'pandas.core.frame.DataFrame'>\n",
      "RangeIndex: 3081 entries, 0 to 3080\n",
      "Data columns (total 10 columns):\n",
      " #   Column  Non-Null Count  Dtype  \n",
      "---  ------  --------------  -----  \n",
      " 0   key     3081 non-null   int64  \n",
      " 1   Wire 1  3055 non-null   float64\n",
      " 2   Wire 2  1079 non-null   float64\n",
      " 3   Wire 3  63 non-null     float64\n",
      " 4   Wire 4  14 non-null     float64\n",
      " 5   Wire 5  1 non-null      float64\n",
      " 6   Wire 6  73 non-null     float64\n",
      " 7   Wire 7  11 non-null     float64\n",
      " 8   Wire 8  19 non-null     float64\n",
      " 9   Wire 9  29 non-null     float64\n",
      "dtypes: float64(9), int64(1)\n",
      "memory usage: 240.8 KB\n"
     ]
    },
    {
     "data": {
      "text/plain": [
       "None"
      ]
     },
     "metadata": {},
     "output_type": "display_data"
    },
    {
     "name": "stdout",
     "output_type": "stream",
     "text": [
      "++++++++++++++++++++++++++++++++++++++++++++++++++\n",
      "\u001b[1m\u001b[31mДанные о проволочных материалах (время)\u001b[0m\n"
     ]
    },
    {
     "data": {
      "text/html": [
       "<div>\n",
       "<style scoped>\n",
       "    .dataframe tbody tr th:only-of-type {\n",
       "        vertical-align: middle;\n",
       "    }\n",
       "\n",
       "    .dataframe tbody tr th {\n",
       "        vertical-align: top;\n",
       "    }\n",
       "\n",
       "    .dataframe thead th {\n",
       "        text-align: right;\n",
       "    }\n",
       "</style>\n",
       "<table border=\"1\" class=\"dataframe\">\n",
       "  <thead>\n",
       "    <tr style=\"text-align: right;\">\n",
       "      <th></th>\n",
       "      <th>key</th>\n",
       "      <th>Wire 1</th>\n",
       "      <th>Wire 2</th>\n",
       "      <th>Wire 3</th>\n",
       "      <th>Wire 4</th>\n",
       "      <th>Wire 5</th>\n",
       "      <th>Wire 6</th>\n",
       "      <th>Wire 7</th>\n",
       "      <th>Wire 8</th>\n",
       "      <th>Wire 9</th>\n",
       "    </tr>\n",
       "  </thead>\n",
       "  <tbody>\n",
       "    <tr>\n",
       "      <th>964</th>\n",
       "      <td>1024</td>\n",
       "      <td>2019-06-11 22:49:00</td>\n",
       "      <td>NaN</td>\n",
       "      <td>NaN</td>\n",
       "      <td>NaN</td>\n",
       "      <td>NaN</td>\n",
       "      <td>NaN</td>\n",
       "      <td>NaN</td>\n",
       "      <td>NaN</td>\n",
       "      <td>NaN</td>\n",
       "    </tr>\n",
       "    <tr>\n",
       "      <th>384</th>\n",
       "      <td>416</td>\n",
       "      <td>2019-05-19 09:08:51</td>\n",
       "      <td>2019-05-19 08:56:42</td>\n",
       "      <td>NaN</td>\n",
       "      <td>NaN</td>\n",
       "      <td>NaN</td>\n",
       "      <td>NaN</td>\n",
       "      <td>NaN</td>\n",
       "      <td>NaN</td>\n",
       "      <td>NaN</td>\n",
       "    </tr>\n",
       "    <tr>\n",
       "      <th>2528</th>\n",
       "      <td>2661</td>\n",
       "      <td>2019-08-16 18:42:57</td>\n",
       "      <td>NaN</td>\n",
       "      <td>NaN</td>\n",
       "      <td>NaN</td>\n",
       "      <td>NaN</td>\n",
       "      <td>NaN</td>\n",
       "      <td>NaN</td>\n",
       "      <td>NaN</td>\n",
       "      <td>NaN</td>\n",
       "    </tr>\n",
       "    <tr>\n",
       "      <th>7</th>\n",
       "      <td>8</td>\n",
       "      <td>2019-05-03 15:01:30</td>\n",
       "      <td>NaN</td>\n",
       "      <td>NaN</td>\n",
       "      <td>NaN</td>\n",
       "      <td>NaN</td>\n",
       "      <td>NaN</td>\n",
       "      <td>NaN</td>\n",
       "      <td>NaN</td>\n",
       "      <td>NaN</td>\n",
       "    </tr>\n",
       "    <tr>\n",
       "      <th>1312</th>\n",
       "      <td>1383</td>\n",
       "      <td>2019-06-24 16:07:49</td>\n",
       "      <td>2019-06-24 16:02:08</td>\n",
       "      <td>NaN</td>\n",
       "      <td>NaN</td>\n",
       "      <td>NaN</td>\n",
       "      <td>NaN</td>\n",
       "      <td>NaN</td>\n",
       "      <td>NaN</td>\n",
       "      <td>NaN</td>\n",
       "    </tr>\n",
       "    <tr>\n",
       "      <th>2602</th>\n",
       "      <td>2736</td>\n",
       "      <td>2019-08-19 04:46:49</td>\n",
       "      <td>2019-08-19 04:43:35</td>\n",
       "      <td>NaN</td>\n",
       "      <td>NaN</td>\n",
       "      <td>NaN</td>\n",
       "      <td>NaN</td>\n",
       "      <td>NaN</td>\n",
       "      <td>NaN</td>\n",
       "      <td>NaN</td>\n",
       "    </tr>\n",
       "    <tr>\n",
       "      <th>1714</th>\n",
       "      <td>1801</td>\n",
       "      <td>2019-07-09 06:52:55</td>\n",
       "      <td>NaN</td>\n",
       "      <td>NaN</td>\n",
       "      <td>NaN</td>\n",
       "      <td>NaN</td>\n",
       "      <td>NaN</td>\n",
       "      <td>NaN</td>\n",
       "      <td>NaN</td>\n",
       "      <td>NaN</td>\n",
       "    </tr>\n",
       "    <tr>\n",
       "      <th>2749</th>\n",
       "      <td>2902</td>\n",
       "      <td>2019-08-25 18:45:46</td>\n",
       "      <td>NaN</td>\n",
       "      <td>NaN</td>\n",
       "      <td>NaN</td>\n",
       "      <td>NaN</td>\n",
       "      <td>NaN</td>\n",
       "      <td>NaN</td>\n",
       "      <td>NaN</td>\n",
       "      <td>NaN</td>\n",
       "    </tr>\n",
       "    <tr>\n",
       "      <th>2980</th>\n",
       "      <td>3139</td>\n",
       "      <td>2019-09-03 03:23:27</td>\n",
       "      <td>NaN</td>\n",
       "      <td>NaN</td>\n",
       "      <td>NaN</td>\n",
       "      <td>NaN</td>\n",
       "      <td>NaN</td>\n",
       "      <td>NaN</td>\n",
       "      <td>NaN</td>\n",
       "      <td>NaN</td>\n",
       "    </tr>\n",
       "    <tr>\n",
       "      <th>1032</th>\n",
       "      <td>1092</td>\n",
       "      <td>2019-06-14 07:57:51</td>\n",
       "      <td>NaN</td>\n",
       "      <td>NaN</td>\n",
       "      <td>NaN</td>\n",
       "      <td>NaN</td>\n",
       "      <td>NaN</td>\n",
       "      <td>NaN</td>\n",
       "      <td>NaN</td>\n",
       "      <td>NaN</td>\n",
       "    </tr>\n",
       "  </tbody>\n",
       "</table>\n",
       "</div>"
      ],
      "text/plain": [
       "       key               Wire 1               Wire 2 Wire 3 Wire 4 Wire 5  \\\n",
       "964   1024  2019-06-11 22:49:00                  NaN    NaN    NaN    NaN   \n",
       "384    416  2019-05-19 09:08:51  2019-05-19 08:56:42    NaN    NaN    NaN   \n",
       "2528  2661  2019-08-16 18:42:57                  NaN    NaN    NaN    NaN   \n",
       "7        8  2019-05-03 15:01:30                  NaN    NaN    NaN    NaN   \n",
       "1312  1383  2019-06-24 16:07:49  2019-06-24 16:02:08    NaN    NaN    NaN   \n",
       "2602  2736  2019-08-19 04:46:49  2019-08-19 04:43:35    NaN    NaN    NaN   \n",
       "1714  1801  2019-07-09 06:52:55                  NaN    NaN    NaN    NaN   \n",
       "2749  2902  2019-08-25 18:45:46                  NaN    NaN    NaN    NaN   \n",
       "2980  3139  2019-09-03 03:23:27                  NaN    NaN    NaN    NaN   \n",
       "1032  1092  2019-06-14 07:57:51                  NaN    NaN    NaN    NaN   \n",
       "\n",
       "     Wire 6 Wire 7 Wire 8 Wire 9  \n",
       "964     NaN    NaN    NaN    NaN  \n",
       "384     NaN    NaN    NaN    NaN  \n",
       "2528    NaN    NaN    NaN    NaN  \n",
       "7       NaN    NaN    NaN    NaN  \n",
       "1312    NaN    NaN    NaN    NaN  \n",
       "2602    NaN    NaN    NaN    NaN  \n",
       "1714    NaN    NaN    NaN    NaN  \n",
       "2749    NaN    NaN    NaN    NaN  \n",
       "2980    NaN    NaN    NaN    NaN  \n",
       "1032    NaN    NaN    NaN    NaN  "
      ]
     },
     "metadata": {},
     "output_type": "display_data"
    },
    {
     "name": "stdout",
     "output_type": "stream",
     "text": [
      "<class 'pandas.core.frame.DataFrame'>\n",
      "RangeIndex: 3081 entries, 0 to 3080\n",
      "Data columns (total 10 columns):\n",
      " #   Column  Non-Null Count  Dtype \n",
      "---  ------  --------------  ----- \n",
      " 0   key     3081 non-null   int64 \n",
      " 1   Wire 1  3055 non-null   object\n",
      " 2   Wire 2  1079 non-null   object\n",
      " 3   Wire 3  63 non-null     object\n",
      " 4   Wire 4  14 non-null     object\n",
      " 5   Wire 5  1 non-null      object\n",
      " 6   Wire 6  73 non-null     object\n",
      " 7   Wire 7  11 non-null     object\n",
      " 8   Wire 8  19 non-null     object\n",
      " 9   Wire 9  29 non-null     object\n",
      "dtypes: int64(1), object(9)\n",
      "memory usage: 240.8+ KB\n"
     ]
    },
    {
     "data": {
      "text/plain": [
       "None"
      ]
     },
     "metadata": {},
     "output_type": "display_data"
    },
    {
     "name": "stdout",
     "output_type": "stream",
     "text": [
      "++++++++++++++++++++++++++++++++++++++++++++++++++\n"
     ]
    }
   ],
   "source": [
    "for data in df_dict:\n",
    "    print(colored(data, \"red\", attrs=[\"bold\"]))\n",
    "    display(df_dict[data].sample(10))\n",
    "    display(df_dict[data].info())\n",
    "    print('+'* 50)"
   ]
  },
  {
   "cell_type": "markdown",
   "id": "2f16f0bc-7f6d-4a1f-bc8f-257a315b02bd",
   "metadata": {},
   "source": [
    "### Из данных видно:"
   ]
  },
  {
   "cell_type": "markdown",
   "id": "b4008219-5d51-48e9-9abf-e4dfd0787a39",
   "metadata": {},
   "source": [
    "* В таблице **`data_arc_new.csv:`**\n",
    "  * Содержатся данные об электродах, то есть нагреве сырья, времени начала нагрева и конце, а также мощностях. \n",
    "  * Исходя из данных мощностей можно рассчитать полную мощность, а при умножении полной мощности на время нагрева получим энергию которая будет дополнительной фичей в модели. \n",
    "  * Пропусков в таблице нет.\n",
    "* В таблицах **`data_bulk.csv` ,`data_bulk_time.csv`, `data_wire.csv`, `data_wire_time.csv:`**\n",
    "  * Cодержатся данные о подаче примесей для корректировки химического состава , времени подачи, а так же их объём. \n",
    "  * Как видно из данных - в таких таблицах много пропусков, так как, скорее всего, какая-либо примесь могла просто не добавляться. \n",
    "  * Такие пропуски можно заполнить нулями.\n",
    "* В таблице **`data_gas.csv:`**\n",
    "  * Cодержатся данные о подаче о продувке сплава газом. \n",
    "  * Как видно из данных, пропусков нет. \n",
    "  * Временных промежутков нет, то есть данные только об общем подаче газа на один ковш.\n",
    "* В таблице **`data_temp.csv:`**\n",
    "  * Cодержатся данные о результаты измерения температуры.\n",
    "  * В данной таблице содержится целевая метрика, необходимая для исследования - конечная температура. \n",
    "  * В таблице много пропусков целевой метрики, скорее всего такие строки придется отбросить, чтобы не искажать исследование."
   ]
  },
  {
   "cell_type": "markdown",
   "id": "cfb9873c-f194-44e9-bcfb-8b5ee1c65dd9",
   "metadata": {},
   "source": [
    "#### Исследуем данные:"
   ]
  },
  {
   "cell_type": "code",
   "execution_count": 5,
   "id": "e90f9a7d-a67a-45dc-8628-aeb78faa4625",
   "metadata": {},
   "outputs": [
    {
     "name": "stdout",
     "output_type": "stream",
     "text": [
      "\u001b[1m\u001b[31mДанные об электродах\u001b[0m\n"
     ]
    },
    {
     "data": {
      "text/html": [
       "<div>\n",
       "<style scoped>\n",
       "    .dataframe tbody tr th:only-of-type {\n",
       "        vertical-align: middle;\n",
       "    }\n",
       "\n",
       "    .dataframe tbody tr th {\n",
       "        vertical-align: top;\n",
       "    }\n",
       "\n",
       "    .dataframe thead th {\n",
       "        text-align: right;\n",
       "    }\n",
       "</style>\n",
       "<table border=\"1\" class=\"dataframe\">\n",
       "  <thead>\n",
       "    <tr style=\"text-align: right;\">\n",
       "      <th></th>\n",
       "      <th>count</th>\n",
       "      <th>mean</th>\n",
       "      <th>std</th>\n",
       "      <th>min</th>\n",
       "      <th>25%</th>\n",
       "      <th>50%</th>\n",
       "      <th>75%</th>\n",
       "      <th>max</th>\n",
       "    </tr>\n",
       "  </thead>\n",
       "  <tbody>\n",
       "    <tr>\n",
       "      <th>Активная мощность</th>\n",
       "      <td>14876.0</td>\n",
       "      <td>0.662752</td>\n",
       "      <td>0.258885</td>\n",
       "      <td>0.223120</td>\n",
       "      <td>0.467115</td>\n",
       "      <td>0.599587</td>\n",
       "      <td>0.830070</td>\n",
       "      <td>1.463773</td>\n",
       "    </tr>\n",
       "    <tr>\n",
       "      <th>Реактивная мощность</th>\n",
       "      <td>14876.0</td>\n",
       "      <td>0.438986</td>\n",
       "      <td>5.873485</td>\n",
       "      <td>-715.479924</td>\n",
       "      <td>0.337175</td>\n",
       "      <td>0.441639</td>\n",
       "      <td>0.608201</td>\n",
       "      <td>1.270284</td>\n",
       "    </tr>\n",
       "  </tbody>\n",
       "</table>\n",
       "</div>"
      ],
      "text/plain": [
       "                       count      mean       std         min       25%  \\\n",
       "Активная мощность    14876.0  0.662752  0.258885    0.223120  0.467115   \n",
       "Реактивная мощность  14876.0  0.438986  5.873485 -715.479924  0.337175   \n",
       "\n",
       "                          50%       75%       max  \n",
       "Активная мощность    0.599587  0.830070  1.463773  \n",
       "Реактивная мощность  0.441639  0.608201  1.270284  "
      ]
     },
     "metadata": {},
     "output_type": "display_data"
    },
    {
     "name": "stdout",
     "output_type": "stream",
     "text": [
      "++++++++++++++++++++++++++++++++++++++++++++++++++\n",
      "\u001b[1m\u001b[31mДанные о подаче сыпучих материалов (объём)\u001b[0m\n"
     ]
    },
    {
     "data": {
      "text/html": [
       "<div>\n",
       "<style scoped>\n",
       "    .dataframe tbody tr th:only-of-type {\n",
       "        vertical-align: middle;\n",
       "    }\n",
       "\n",
       "    .dataframe tbody tr th {\n",
       "        vertical-align: top;\n",
       "    }\n",
       "\n",
       "    .dataframe thead th {\n",
       "        text-align: right;\n",
       "    }\n",
       "</style>\n",
       "<table border=\"1\" class=\"dataframe\">\n",
       "  <thead>\n",
       "    <tr style=\"text-align: right;\">\n",
       "      <th></th>\n",
       "      <th>count</th>\n",
       "      <th>mean</th>\n",
       "      <th>std</th>\n",
       "      <th>min</th>\n",
       "      <th>25%</th>\n",
       "      <th>50%</th>\n",
       "      <th>75%</th>\n",
       "      <th>max</th>\n",
       "    </tr>\n",
       "  </thead>\n",
       "  <tbody>\n",
       "    <tr>\n",
       "      <th>Bulk 1</th>\n",
       "      <td>252.0</td>\n",
       "      <td>39.242063</td>\n",
       "      <td>18.277654</td>\n",
       "      <td>10.0</td>\n",
       "      <td>27.00</td>\n",
       "      <td>31.0</td>\n",
       "      <td>46.00</td>\n",
       "      <td>185.0</td>\n",
       "    </tr>\n",
       "    <tr>\n",
       "      <th>Bulk 2</th>\n",
       "      <td>22.0</td>\n",
       "      <td>253.045455</td>\n",
       "      <td>21.180578</td>\n",
       "      <td>228.0</td>\n",
       "      <td>242.00</td>\n",
       "      <td>251.5</td>\n",
       "      <td>257.75</td>\n",
       "      <td>325.0</td>\n",
       "    </tr>\n",
       "    <tr>\n",
       "      <th>Bulk 3</th>\n",
       "      <td>1298.0</td>\n",
       "      <td>113.879045</td>\n",
       "      <td>75.483494</td>\n",
       "      <td>6.0</td>\n",
       "      <td>58.00</td>\n",
       "      <td>97.5</td>\n",
       "      <td>152.00</td>\n",
       "      <td>454.0</td>\n",
       "    </tr>\n",
       "    <tr>\n",
       "      <th>Bulk 4</th>\n",
       "      <td>1014.0</td>\n",
       "      <td>104.394477</td>\n",
       "      <td>48.184126</td>\n",
       "      <td>12.0</td>\n",
       "      <td>72.00</td>\n",
       "      <td>102.0</td>\n",
       "      <td>133.00</td>\n",
       "      <td>281.0</td>\n",
       "    </tr>\n",
       "    <tr>\n",
       "      <th>Bulk 5</th>\n",
       "      <td>77.0</td>\n",
       "      <td>107.025974</td>\n",
       "      <td>81.790646</td>\n",
       "      <td>11.0</td>\n",
       "      <td>70.00</td>\n",
       "      <td>86.0</td>\n",
       "      <td>132.00</td>\n",
       "      <td>603.0</td>\n",
       "    </tr>\n",
       "    <tr>\n",
       "      <th>Bulk 6</th>\n",
       "      <td>576.0</td>\n",
       "      <td>118.925347</td>\n",
       "      <td>72.057776</td>\n",
       "      <td>17.0</td>\n",
       "      <td>69.75</td>\n",
       "      <td>100.0</td>\n",
       "      <td>157.00</td>\n",
       "      <td>503.0</td>\n",
       "    </tr>\n",
       "    <tr>\n",
       "      <th>Bulk 7</th>\n",
       "      <td>25.0</td>\n",
       "      <td>305.600000</td>\n",
       "      <td>191.022904</td>\n",
       "      <td>47.0</td>\n",
       "      <td>155.00</td>\n",
       "      <td>298.0</td>\n",
       "      <td>406.00</td>\n",
       "      <td>772.0</td>\n",
       "    </tr>\n",
       "    <tr>\n",
       "      <th>Bulk 8</th>\n",
       "      <td>1.0</td>\n",
       "      <td>49.000000</td>\n",
       "      <td>NaN</td>\n",
       "      <td>49.0</td>\n",
       "      <td>49.00</td>\n",
       "      <td>49.0</td>\n",
       "      <td>49.00</td>\n",
       "      <td>49.0</td>\n",
       "    </tr>\n",
       "    <tr>\n",
       "      <th>Bulk 9</th>\n",
       "      <td>19.0</td>\n",
       "      <td>76.315789</td>\n",
       "      <td>21.720581</td>\n",
       "      <td>63.0</td>\n",
       "      <td>66.00</td>\n",
       "      <td>68.0</td>\n",
       "      <td>70.50</td>\n",
       "      <td>147.0</td>\n",
       "    </tr>\n",
       "    <tr>\n",
       "      <th>Bulk 10</th>\n",
       "      <td>176.0</td>\n",
       "      <td>83.284091</td>\n",
       "      <td>26.060347</td>\n",
       "      <td>24.0</td>\n",
       "      <td>64.00</td>\n",
       "      <td>86.5</td>\n",
       "      <td>102.00</td>\n",
       "      <td>159.0</td>\n",
       "    </tr>\n",
       "    <tr>\n",
       "      <th>Bulk 11</th>\n",
       "      <td>177.0</td>\n",
       "      <td>76.819209</td>\n",
       "      <td>59.655365</td>\n",
       "      <td>8.0</td>\n",
       "      <td>25.00</td>\n",
       "      <td>64.0</td>\n",
       "      <td>106.00</td>\n",
       "      <td>313.0</td>\n",
       "    </tr>\n",
       "    <tr>\n",
       "      <th>Bulk 12</th>\n",
       "      <td>2450.0</td>\n",
       "      <td>260.471020</td>\n",
       "      <td>120.649269</td>\n",
       "      <td>53.0</td>\n",
       "      <td>204.00</td>\n",
       "      <td>208.0</td>\n",
       "      <td>316.00</td>\n",
       "      <td>1849.0</td>\n",
       "    </tr>\n",
       "    <tr>\n",
       "      <th>Bulk 13</th>\n",
       "      <td>18.0</td>\n",
       "      <td>181.111111</td>\n",
       "      <td>46.088009</td>\n",
       "      <td>151.0</td>\n",
       "      <td>153.25</td>\n",
       "      <td>155.5</td>\n",
       "      <td>203.50</td>\n",
       "      <td>305.0</td>\n",
       "    </tr>\n",
       "    <tr>\n",
       "      <th>Bulk 14</th>\n",
       "      <td>2806.0</td>\n",
       "      <td>170.284747</td>\n",
       "      <td>65.868652</td>\n",
       "      <td>16.0</td>\n",
       "      <td>119.00</td>\n",
       "      <td>151.0</td>\n",
       "      <td>205.75</td>\n",
       "      <td>636.0</td>\n",
       "    </tr>\n",
       "    <tr>\n",
       "      <th>Bulk 15</th>\n",
       "      <td>2248.0</td>\n",
       "      <td>160.513345</td>\n",
       "      <td>51.765319</td>\n",
       "      <td>1.0</td>\n",
       "      <td>105.00</td>\n",
       "      <td>160.0</td>\n",
       "      <td>205.00</td>\n",
       "      <td>405.0</td>\n",
       "    </tr>\n",
       "  </tbody>\n",
       "</table>\n",
       "</div>"
      ],
      "text/plain": [
       "          count        mean         std    min     25%    50%     75%     max\n",
       "Bulk 1    252.0   39.242063   18.277654   10.0   27.00   31.0   46.00   185.0\n",
       "Bulk 2     22.0  253.045455   21.180578  228.0  242.00  251.5  257.75   325.0\n",
       "Bulk 3   1298.0  113.879045   75.483494    6.0   58.00   97.5  152.00   454.0\n",
       "Bulk 4   1014.0  104.394477   48.184126   12.0   72.00  102.0  133.00   281.0\n",
       "Bulk 5     77.0  107.025974   81.790646   11.0   70.00   86.0  132.00   603.0\n",
       "Bulk 6    576.0  118.925347   72.057776   17.0   69.75  100.0  157.00   503.0\n",
       "Bulk 7     25.0  305.600000  191.022904   47.0  155.00  298.0  406.00   772.0\n",
       "Bulk 8      1.0   49.000000         NaN   49.0   49.00   49.0   49.00    49.0\n",
       "Bulk 9     19.0   76.315789   21.720581   63.0   66.00   68.0   70.50   147.0\n",
       "Bulk 10   176.0   83.284091   26.060347   24.0   64.00   86.5  102.00   159.0\n",
       "Bulk 11   177.0   76.819209   59.655365    8.0   25.00   64.0  106.00   313.0\n",
       "Bulk 12  2450.0  260.471020  120.649269   53.0  204.00  208.0  316.00  1849.0\n",
       "Bulk 13    18.0  181.111111   46.088009  151.0  153.25  155.5  203.50   305.0\n",
       "Bulk 14  2806.0  170.284747   65.868652   16.0  119.00  151.0  205.75   636.0\n",
       "Bulk 15  2248.0  160.513345   51.765319    1.0  105.00  160.0  205.00   405.0"
      ]
     },
     "metadata": {},
     "output_type": "display_data"
    },
    {
     "name": "stdout",
     "output_type": "stream",
     "text": [
      "++++++++++++++++++++++++++++++++++++++++++++++++++\n",
      "\u001b[1m\u001b[31mДанные о подаче сыпучих материалов (время)\u001b[0m\n"
     ]
    },
    {
     "data": {
      "text/html": [
       "<div>\n",
       "<style scoped>\n",
       "    .dataframe tbody tr th:only-of-type {\n",
       "        vertical-align: middle;\n",
       "    }\n",
       "\n",
       "    .dataframe tbody tr th {\n",
       "        vertical-align: top;\n",
       "    }\n",
       "\n",
       "    .dataframe thead th {\n",
       "        text-align: right;\n",
       "    }\n",
       "</style>\n",
       "<table border=\"1\" class=\"dataframe\">\n",
       "  <thead>\n",
       "    <tr style=\"text-align: right;\">\n",
       "      <th></th>\n",
       "      <th>count</th>\n",
       "      <th>unique</th>\n",
       "      <th>top</th>\n",
       "      <th>freq</th>\n",
       "    </tr>\n",
       "  </thead>\n",
       "  <tbody>\n",
       "    <tr>\n",
       "      <th>Bulk 1</th>\n",
       "      <td>252</td>\n",
       "      <td>252</td>\n",
       "      <td>2019-05-03 17:42:46</td>\n",
       "      <td>1</td>\n",
       "    </tr>\n",
       "    <tr>\n",
       "      <th>Bulk 2</th>\n",
       "      <td>22</td>\n",
       "      <td>22</td>\n",
       "      <td>2019-05-07 15:39:35</td>\n",
       "      <td>1</td>\n",
       "    </tr>\n",
       "    <tr>\n",
       "      <th>Bulk 3</th>\n",
       "      <td>1298</td>\n",
       "      <td>1298</td>\n",
       "      <td>2019-05-03 20:40:25</td>\n",
       "      <td>1</td>\n",
       "    </tr>\n",
       "    <tr>\n",
       "      <th>Bulk 4</th>\n",
       "      <td>1014</td>\n",
       "      <td>1014</td>\n",
       "      <td>2019-05-03 11:28:48</td>\n",
       "      <td>1</td>\n",
       "    </tr>\n",
       "    <tr>\n",
       "      <th>Bulk 5</th>\n",
       "      <td>77</td>\n",
       "      <td>77</td>\n",
       "      <td>2019-05-07 15:19:17</td>\n",
       "      <td>1</td>\n",
       "    </tr>\n",
       "    <tr>\n",
       "      <th>Bulk 6</th>\n",
       "      <td>576</td>\n",
       "      <td>576</td>\n",
       "      <td>2019-05-03 19:09:15</td>\n",
       "      <td>1</td>\n",
       "    </tr>\n",
       "    <tr>\n",
       "      <th>Bulk 7</th>\n",
       "      <td>25</td>\n",
       "      <td>25</td>\n",
       "      <td>2019-05-07 18:11:01</td>\n",
       "      <td>1</td>\n",
       "    </tr>\n",
       "    <tr>\n",
       "      <th>Bulk 8</th>\n",
       "      <td>1</td>\n",
       "      <td>1</td>\n",
       "      <td>2019-07-08 17:14:53</td>\n",
       "      <td>1</td>\n",
       "    </tr>\n",
       "    <tr>\n",
       "      <th>Bulk 9</th>\n",
       "      <td>19</td>\n",
       "      <td>19</td>\n",
       "      <td>2019-05-14 11:57:58</td>\n",
       "      <td>1</td>\n",
       "    </tr>\n",
       "    <tr>\n",
       "      <th>Bulk 10</th>\n",
       "      <td>176</td>\n",
       "      <td>176</td>\n",
       "      <td>2019-05-06 07:54:02</td>\n",
       "      <td>1</td>\n",
       "    </tr>\n",
       "    <tr>\n",
       "      <th>Bulk 11</th>\n",
       "      <td>177</td>\n",
       "      <td>177</td>\n",
       "      <td>2019-05-05 23:43:24</td>\n",
       "      <td>1</td>\n",
       "    </tr>\n",
       "    <tr>\n",
       "      <th>Bulk 12</th>\n",
       "      <td>2450</td>\n",
       "      <td>2450</td>\n",
       "      <td>2019-05-03 11:24:31</td>\n",
       "      <td>1</td>\n",
       "    </tr>\n",
       "    <tr>\n",
       "      <th>Bulk 13</th>\n",
       "      <td>18</td>\n",
       "      <td>18</td>\n",
       "      <td>2019-05-05 02:10:21</td>\n",
       "      <td>1</td>\n",
       "    </tr>\n",
       "    <tr>\n",
       "      <th>Bulk 14</th>\n",
       "      <td>2806</td>\n",
       "      <td>2806</td>\n",
       "      <td>2019-05-03 11:14:50</td>\n",
       "      <td>1</td>\n",
       "    </tr>\n",
       "    <tr>\n",
       "      <th>Bulk 15</th>\n",
       "      <td>2248</td>\n",
       "      <td>2248</td>\n",
       "      <td>2019-05-03 11:10:43</td>\n",
       "      <td>1</td>\n",
       "    </tr>\n",
       "  </tbody>\n",
       "</table>\n",
       "</div>"
      ],
      "text/plain": [
       "        count unique                  top freq\n",
       "Bulk 1    252    252  2019-05-03 17:42:46    1\n",
       "Bulk 2     22     22  2019-05-07 15:39:35    1\n",
       "Bulk 3   1298   1298  2019-05-03 20:40:25    1\n",
       "Bulk 4   1014   1014  2019-05-03 11:28:48    1\n",
       "Bulk 5     77     77  2019-05-07 15:19:17    1\n",
       "Bulk 6    576    576  2019-05-03 19:09:15    1\n",
       "Bulk 7     25     25  2019-05-07 18:11:01    1\n",
       "Bulk 8      1      1  2019-07-08 17:14:53    1\n",
       "Bulk 9     19     19  2019-05-14 11:57:58    1\n",
       "Bulk 10   176    176  2019-05-06 07:54:02    1\n",
       "Bulk 11   177    177  2019-05-05 23:43:24    1\n",
       "Bulk 12  2450   2450  2019-05-03 11:24:31    1\n",
       "Bulk 13    18     18  2019-05-05 02:10:21    1\n",
       "Bulk 14  2806   2806  2019-05-03 11:14:50    1\n",
       "Bulk 15  2248   2248  2019-05-03 11:10:43    1"
      ]
     },
     "metadata": {},
     "output_type": "display_data"
    },
    {
     "name": "stdout",
     "output_type": "stream",
     "text": [
      "++++++++++++++++++++++++++++++++++++++++++++++++++\n",
      "\u001b[1m\u001b[31mДанные о продувке сплава газом\u001b[0m\n"
     ]
    },
    {
     "data": {
      "text/html": [
       "<div>\n",
       "<style scoped>\n",
       "    .dataframe tbody tr th:only-of-type {\n",
       "        vertical-align: middle;\n",
       "    }\n",
       "\n",
       "    .dataframe tbody tr th {\n",
       "        vertical-align: top;\n",
       "    }\n",
       "\n",
       "    .dataframe thead th {\n",
       "        text-align: right;\n",
       "    }\n",
       "</style>\n",
       "<table border=\"1\" class=\"dataframe\">\n",
       "  <thead>\n",
       "    <tr style=\"text-align: right;\">\n",
       "      <th></th>\n",
       "      <th>count</th>\n",
       "      <th>mean</th>\n",
       "      <th>std</th>\n",
       "      <th>min</th>\n",
       "      <th>25%</th>\n",
       "      <th>50%</th>\n",
       "      <th>75%</th>\n",
       "      <th>max</th>\n",
       "    </tr>\n",
       "  </thead>\n",
       "  <tbody>\n",
       "    <tr>\n",
       "      <th>Газ 1</th>\n",
       "      <td>3239.0</td>\n",
       "      <td>11.002062</td>\n",
       "      <td>6.220327</td>\n",
       "      <td>0.008399</td>\n",
       "      <td>7.043089</td>\n",
       "      <td>9.836267</td>\n",
       "      <td>13.769915</td>\n",
       "      <td>77.99504</td>\n",
       "    </tr>\n",
       "  </tbody>\n",
       "</table>\n",
       "</div>"
      ],
      "text/plain": [
       "        count       mean       std       min       25%       50%        75%  \\\n",
       "Газ 1  3239.0  11.002062  6.220327  0.008399  7.043089  9.836267  13.769915   \n",
       "\n",
       "            max  \n",
       "Газ 1  77.99504  "
      ]
     },
     "metadata": {},
     "output_type": "display_data"
    },
    {
     "name": "stdout",
     "output_type": "stream",
     "text": [
      "++++++++++++++++++++++++++++++++++++++++++++++++++\n",
      "\u001b[1m\u001b[31mРезультаты измерения температуры\u001b[0m\n"
     ]
    },
    {
     "data": {
      "text/html": [
       "<div>\n",
       "<style scoped>\n",
       "    .dataframe tbody tr th:only-of-type {\n",
       "        vertical-align: middle;\n",
       "    }\n",
       "\n",
       "    .dataframe tbody tr th {\n",
       "        vertical-align: top;\n",
       "    }\n",
       "\n",
       "    .dataframe thead th {\n",
       "        text-align: right;\n",
       "    }\n",
       "</style>\n",
       "<table border=\"1\" class=\"dataframe\">\n",
       "  <thead>\n",
       "    <tr style=\"text-align: right;\">\n",
       "      <th></th>\n",
       "      <th>count</th>\n",
       "      <th>mean</th>\n",
       "      <th>std</th>\n",
       "      <th>min</th>\n",
       "      <th>25%</th>\n",
       "      <th>50%</th>\n",
       "      <th>75%</th>\n",
       "      <th>max</th>\n",
       "    </tr>\n",
       "  </thead>\n",
       "  <tbody>\n",
       "    <tr>\n",
       "      <th>Температура</th>\n",
       "      <td>14665.0</td>\n",
       "      <td>1590.722741</td>\n",
       "      <td>20.394381</td>\n",
       "      <td>1191.0</td>\n",
       "      <td>1580.0</td>\n",
       "      <td>1590.0</td>\n",
       "      <td>1599.0</td>\n",
       "      <td>1705.0</td>\n",
       "    </tr>\n",
       "  </tbody>\n",
       "</table>\n",
       "</div>"
      ],
      "text/plain": [
       "               count         mean        std     min     25%     50%     75%  \\\n",
       "Температура  14665.0  1590.722741  20.394381  1191.0  1580.0  1590.0  1599.0   \n",
       "\n",
       "                max  \n",
       "Температура  1705.0  "
      ]
     },
     "metadata": {},
     "output_type": "display_data"
    },
    {
     "name": "stdout",
     "output_type": "stream",
     "text": [
      "++++++++++++++++++++++++++++++++++++++++++++++++++\n",
      "\u001b[1m\u001b[31mДанные о проволочных материалах (объём)\u001b[0m\n"
     ]
    },
    {
     "data": {
      "text/html": [
       "<div>\n",
       "<style scoped>\n",
       "    .dataframe tbody tr th:only-of-type {\n",
       "        vertical-align: middle;\n",
       "    }\n",
       "\n",
       "    .dataframe tbody tr th {\n",
       "        vertical-align: top;\n",
       "    }\n",
       "\n",
       "    .dataframe thead th {\n",
       "        text-align: right;\n",
       "    }\n",
       "</style>\n",
       "<table border=\"1\" class=\"dataframe\">\n",
       "  <thead>\n",
       "    <tr style=\"text-align: right;\">\n",
       "      <th></th>\n",
       "      <th>count</th>\n",
       "      <th>mean</th>\n",
       "      <th>std</th>\n",
       "      <th>min</th>\n",
       "      <th>25%</th>\n",
       "      <th>50%</th>\n",
       "      <th>75%</th>\n",
       "      <th>max</th>\n",
       "    </tr>\n",
       "  </thead>\n",
       "  <tbody>\n",
       "    <tr>\n",
       "      <th>Wire 1</th>\n",
       "      <td>3055.0</td>\n",
       "      <td>100.895853</td>\n",
       "      <td>42.012518</td>\n",
       "      <td>1.918800</td>\n",
       "      <td>72.115684</td>\n",
       "      <td>100.158234</td>\n",
       "      <td>126.060483</td>\n",
       "      <td>330.314424</td>\n",
       "    </tr>\n",
       "    <tr>\n",
       "      <th>Wire 2</th>\n",
       "      <td>1079.0</td>\n",
       "      <td>50.577323</td>\n",
       "      <td>39.320216</td>\n",
       "      <td>0.030160</td>\n",
       "      <td>20.193680</td>\n",
       "      <td>40.142956</td>\n",
       "      <td>70.227558</td>\n",
       "      <td>282.780152</td>\n",
       "    </tr>\n",
       "    <tr>\n",
       "      <th>Wire 3</th>\n",
       "      <td>63.0</td>\n",
       "      <td>189.482681</td>\n",
       "      <td>99.513444</td>\n",
       "      <td>0.144144</td>\n",
       "      <td>95.135044</td>\n",
       "      <td>235.194977</td>\n",
       "      <td>276.252014</td>\n",
       "      <td>385.008668</td>\n",
       "    </tr>\n",
       "    <tr>\n",
       "      <th>Wire 4</th>\n",
       "      <td>14.0</td>\n",
       "      <td>57.442841</td>\n",
       "      <td>28.824667</td>\n",
       "      <td>24.148801</td>\n",
       "      <td>40.807002</td>\n",
       "      <td>45.234282</td>\n",
       "      <td>76.124619</td>\n",
       "      <td>113.231044</td>\n",
       "    </tr>\n",
       "    <tr>\n",
       "      <th>Wire 5</th>\n",
       "      <td>1.0</td>\n",
       "      <td>15.132000</td>\n",
       "      <td>NaN</td>\n",
       "      <td>15.132000</td>\n",
       "      <td>15.132000</td>\n",
       "      <td>15.132000</td>\n",
       "      <td>15.132000</td>\n",
       "      <td>15.132000</td>\n",
       "    </tr>\n",
       "    <tr>\n",
       "      <th>Wire 6</th>\n",
       "      <td>73.0</td>\n",
       "      <td>48.016974</td>\n",
       "      <td>33.919845</td>\n",
       "      <td>0.034320</td>\n",
       "      <td>25.053600</td>\n",
       "      <td>42.076324</td>\n",
       "      <td>64.212723</td>\n",
       "      <td>180.454575</td>\n",
       "    </tr>\n",
       "    <tr>\n",
       "      <th>Wire 7</th>\n",
       "      <td>11.0</td>\n",
       "      <td>10.039007</td>\n",
       "      <td>8.610584</td>\n",
       "      <td>0.234208</td>\n",
       "      <td>6.762756</td>\n",
       "      <td>9.017009</td>\n",
       "      <td>11.886057</td>\n",
       "      <td>32.847674</td>\n",
       "    </tr>\n",
       "    <tr>\n",
       "      <th>Wire 8</th>\n",
       "      <td>19.0</td>\n",
       "      <td>53.625193</td>\n",
       "      <td>16.881728</td>\n",
       "      <td>45.076721</td>\n",
       "      <td>46.094879</td>\n",
       "      <td>46.279999</td>\n",
       "      <td>48.089603</td>\n",
       "      <td>102.762401</td>\n",
       "    </tr>\n",
       "    <tr>\n",
       "      <th>Wire 9</th>\n",
       "      <td>29.0</td>\n",
       "      <td>34.155752</td>\n",
       "      <td>19.931616</td>\n",
       "      <td>4.622800</td>\n",
       "      <td>22.058401</td>\n",
       "      <td>30.066399</td>\n",
       "      <td>43.862003</td>\n",
       "      <td>90.053604</td>\n",
       "    </tr>\n",
       "  </tbody>\n",
       "</table>\n",
       "</div>"
      ],
      "text/plain": [
       "         count        mean        std        min        25%         50%  \\\n",
       "Wire 1  3055.0  100.895853  42.012518   1.918800  72.115684  100.158234   \n",
       "Wire 2  1079.0   50.577323  39.320216   0.030160  20.193680   40.142956   \n",
       "Wire 3    63.0  189.482681  99.513444   0.144144  95.135044  235.194977   \n",
       "Wire 4    14.0   57.442841  28.824667  24.148801  40.807002   45.234282   \n",
       "Wire 5     1.0   15.132000        NaN  15.132000  15.132000   15.132000   \n",
       "Wire 6    73.0   48.016974  33.919845   0.034320  25.053600   42.076324   \n",
       "Wire 7    11.0   10.039007   8.610584   0.234208   6.762756    9.017009   \n",
       "Wire 8    19.0   53.625193  16.881728  45.076721  46.094879   46.279999   \n",
       "Wire 9    29.0   34.155752  19.931616   4.622800  22.058401   30.066399   \n",
       "\n",
       "               75%         max  \n",
       "Wire 1  126.060483  330.314424  \n",
       "Wire 2   70.227558  282.780152  \n",
       "Wire 3  276.252014  385.008668  \n",
       "Wire 4   76.124619  113.231044  \n",
       "Wire 5   15.132000   15.132000  \n",
       "Wire 6   64.212723  180.454575  \n",
       "Wire 7   11.886057   32.847674  \n",
       "Wire 8   48.089603  102.762401  \n",
       "Wire 9   43.862003   90.053604  "
      ]
     },
     "metadata": {},
     "output_type": "display_data"
    },
    {
     "name": "stdout",
     "output_type": "stream",
     "text": [
      "++++++++++++++++++++++++++++++++++++++++++++++++++\n",
      "\u001b[1m\u001b[31mДанные о проволочных материалах (время)\u001b[0m\n"
     ]
    },
    {
     "data": {
      "text/html": [
       "<div>\n",
       "<style scoped>\n",
       "    .dataframe tbody tr th:only-of-type {\n",
       "        vertical-align: middle;\n",
       "    }\n",
       "\n",
       "    .dataframe tbody tr th {\n",
       "        vertical-align: top;\n",
       "    }\n",
       "\n",
       "    .dataframe thead th {\n",
       "        text-align: right;\n",
       "    }\n",
       "</style>\n",
       "<table border=\"1\" class=\"dataframe\">\n",
       "  <thead>\n",
       "    <tr style=\"text-align: right;\">\n",
       "      <th></th>\n",
       "      <th>count</th>\n",
       "      <th>unique</th>\n",
       "      <th>top</th>\n",
       "      <th>freq</th>\n",
       "    </tr>\n",
       "  </thead>\n",
       "  <tbody>\n",
       "    <tr>\n",
       "      <th>Wire 1</th>\n",
       "      <td>3055</td>\n",
       "      <td>3055</td>\n",
       "      <td>2019-05-03 11:06:19</td>\n",
       "      <td>1</td>\n",
       "    </tr>\n",
       "    <tr>\n",
       "      <th>Wire 2</th>\n",
       "      <td>1079</td>\n",
       "      <td>1079</td>\n",
       "      <td>2019-05-03 13:15:34</td>\n",
       "      <td>1</td>\n",
       "    </tr>\n",
       "    <tr>\n",
       "      <th>Wire 3</th>\n",
       "      <td>63</td>\n",
       "      <td>63</td>\n",
       "      <td>2019-05-04 04:34:27</td>\n",
       "      <td>1</td>\n",
       "    </tr>\n",
       "    <tr>\n",
       "      <th>Wire 4</th>\n",
       "      <td>14</td>\n",
       "      <td>14</td>\n",
       "      <td>2019-05-07 15:19:17</td>\n",
       "      <td>1</td>\n",
       "    </tr>\n",
       "    <tr>\n",
       "      <th>Wire 5</th>\n",
       "      <td>1</td>\n",
       "      <td>1</td>\n",
       "      <td>2019-08-13 06:14:30</td>\n",
       "      <td>1</td>\n",
       "    </tr>\n",
       "    <tr>\n",
       "      <th>Wire 6</th>\n",
       "      <td>73</td>\n",
       "      <td>73</td>\n",
       "      <td>2019-05-07 14:46:05</td>\n",
       "      <td>1</td>\n",
       "    </tr>\n",
       "    <tr>\n",
       "      <th>Wire 7</th>\n",
       "      <td>11</td>\n",
       "      <td>11</td>\n",
       "      <td>2019-07-27 05:49:05</td>\n",
       "      <td>1</td>\n",
       "    </tr>\n",
       "    <tr>\n",
       "      <th>Wire 8</th>\n",
       "      <td>19</td>\n",
       "      <td>19</td>\n",
       "      <td>2019-05-14 11:29:24</td>\n",
       "      <td>1</td>\n",
       "    </tr>\n",
       "    <tr>\n",
       "      <th>Wire 9</th>\n",
       "      <td>29</td>\n",
       "      <td>29</td>\n",
       "      <td>2019-05-04 17:21:27</td>\n",
       "      <td>1</td>\n",
       "    </tr>\n",
       "  </tbody>\n",
       "</table>\n",
       "</div>"
      ],
      "text/plain": [
       "       count unique                  top freq\n",
       "Wire 1  3055   3055  2019-05-03 11:06:19    1\n",
       "Wire 2  1079   1079  2019-05-03 13:15:34    1\n",
       "Wire 3    63     63  2019-05-04 04:34:27    1\n",
       "Wire 4    14     14  2019-05-07 15:19:17    1\n",
       "Wire 5     1      1  2019-08-13 06:14:30    1\n",
       "Wire 6    73     73  2019-05-07 14:46:05    1\n",
       "Wire 7    11     11  2019-07-27 05:49:05    1\n",
       "Wire 8    19     19  2019-05-14 11:29:24    1\n",
       "Wire 9    29     29  2019-05-04 17:21:27    1"
      ]
     },
     "metadata": {},
     "output_type": "display_data"
    },
    {
     "name": "stdout",
     "output_type": "stream",
     "text": [
      "++++++++++++++++++++++++++++++++++++++++++++++++++\n"
     ]
    }
   ],
   "source": [
    "for data in df_dict:\n",
    "    print(colored(data, \"red\", attrs=[\"bold\"]))\n",
    "    display(df_dict[data].drop('key', axis=1).describe().T)\n",
    "    print('+'* 50)"
   ]
  },
  {
   "cell_type": "markdown",
   "id": "fb4df200-2831-4744-a7e9-72dc01095e17",
   "metadata": {},
   "source": [
    "#### Рассмотрим графики:"
   ]
  },
  {
   "cell_type": "code",
   "execution_count": 6,
   "id": "f8e25edd-d0b2-4b68-b3b5-5d1a3cde4a62",
   "metadata": {},
   "outputs": [
    {
     "data": {
      "image/png": "[encoded data removed]",
      "text/plain": [
       "<Figure size 1500x200 with 1 Axes>"
      ]
     },
     "metadata": {},
     "output_type": "display_data"
    },
    {
     "data": {
      "image/png": "[encoded data removed]",
      "text/plain": [
       "<Figure size 1500x200 with 1 Axes>"
      ]
     },
     "metadata": {},
     "output_type": "display_data"
    }
   ],
   "source": [
    "plt.figure(figsize=(15, 2))\n",
    "df_arc_new.boxplot('Активная мощность', vert=False)\n",
    "plt.show()\n",
    "\n",
    "plt.figure(figsize=(15, 2))\n",
    "df_arc_new.boxplot('Реактивная мощность', vert=False)\n",
    "plt.show()"
   ]
  },
  {
   "cell_type": "markdown",
   "id": "4121ddea-08c7-4e88-9b09-f55413798c2c",
   "metadata": {},
   "source": [
    "* Сразу видно, что есть выброс в столбце реактивной мощности. \n",
    "* Удалим строку и посмотрим график:"
   ]
  },
  {
   "cell_type": "code",
   "execution_count": 7,
   "id": "202adc0f-803d-4b12-9a51-e04cd608bea5",
   "metadata": {},
   "outputs": [],
   "source": [
    "df_arc_new = df_arc_new[df_arc_new['Реактивная мощность']>=0]"
   ]
  },
  {
   "cell_type": "code",
   "execution_count": 8,
   "id": "f8f1332f-6cee-4468-93ab-1469b9ec7870",
   "metadata": {},
   "outputs": [
    {
     "data": {
      "image/png": "[encoded data removed]",
      "text/plain": [
       "<Figure size 1500x200 with 1 Axes>"
      ]
     },
     "metadata": {},
     "output_type": "display_data"
    }
   ],
   "source": [
    "plt.figure(figsize=(15, 2))\n",
    "df_arc_new.boxplot('Реактивная мощность', vert=False)\n",
    "plt.show()"
   ]
  },
  {
   "cell_type": "markdown",
   "id": "12a1cd2f-c94c-48ba-8597-0dd58c0fbff5",
   "metadata": {},
   "source": [
    "**Рассмотрим плотность распределения:**"
   ]
  },
  {
   "cell_type": "code",
   "execution_count": 9,
   "id": "f71a2fd6-3a22-43d5-a57f-ae850c7ca8d2",
   "metadata": {},
   "outputs": [
    {
     "data": {
      "image/png": "[encoded data removed]",
      "text/plain": [
       "<Figure size 1200x600 with 1 Axes>"
      ]
     },
     "metadata": {},
     "output_type": "display_data"
    },
    {
     "data": {
      "image/png": "[encoded data removed]",
      "text/plain": [
       "<Figure size 1200x600 with 1 Axes>"
      ]
     },
     "metadata": {},
     "output_type": "display_data"
    }
   ],
   "source": [
    "plt.figure(figsize=(12,6))\n",
    "sns.histplot(df_arc_new['Активная мощность'], kde=True, line_kws={'linewidth':4})\n",
    "plt.show()\n",
    "\n",
    "plt.figure(figsize=(12,6))\n",
    "sns.histplot(df_arc_new['Реактивная мощность'], kde=True, line_kws={'linewidth':4})\n",
    "plt.show()"
   ]
  },
  {
   "cell_type": "markdown",
   "id": "a0345d82-f88e-4247-8a17-52703bcf7742",
   "metadata": {},
   "source": [
    "* Как видно из графиков, есть значения, которые уходят от нормального распределения. \n",
    "* У заказчика необходимо выяснить, являются ли эти значения выбросами или такая подача мощностей была необходима для очистки стали."
   ]
  },
  {
   "cell_type": "markdown",
   "id": "b4cd6b34-6630-4a96-9c7f-053fad0dc0d2",
   "metadata": {},
   "source": [
    "#### Рассмотрим таблицы подачи материалов при плавке:"
   ]
  },
  {
   "cell_type": "code",
   "execution_count": 10,
   "id": "08fa1097-b549-4c1f-b404-b01ff5115108",
   "metadata": {},
   "outputs": [
    {
     "data": {
      "image/png": "[encoded data removed]",
      "text/plain": [
       "<Figure size 1000x1000 with 1 Axes>"
      ]
     },
     "metadata": {},
     "output_type": "display_data"
    }
   ],
   "source": [
    "plt.figure(figsize=(10, 10))\n",
    "df_bulk_new.boxplot([col for col in df_bulk_new.columns if col != 'key'], vert=False)\n",
    "plt.show()"
   ]
  },
  {
   "cell_type": "code",
   "execution_count": 11,
   "id": "63d2baca-7fd2-4649-b8c4-4bc3295763ad",
   "metadata": {},
   "outputs": [
    {
     "data": {
      "image/png": "[encoded data removed]",
      "text/plain": [
       "<Figure size 1000x1000 with 1 Axes>"
      ]
     },
     "metadata": {},
     "output_type": "display_data"
    }
   ],
   "source": [
    "plt.figure(figsize=(10, 10))\n",
    "df_wire_new.boxplot([col for col in df_wire_new.columns if col != 'key'])\n",
    "plt.show()"
   ]
  },
  {
   "cell_type": "markdown",
   "id": "a13d760d-fb79-4b7d-97eb-2cce35da21b4",
   "metadata": {},
   "source": [
    "**Из боксплотов следует:**"
   ]
  },
  {
   "cell_type": "markdown",
   "id": "e13e9c91-a8a2-4e80-a4f6-48e3356a8102",
   "metadata": {},
   "source": [
    "* В таблице `df_bulk_new:`\n",
    "  * Почти все столбцы с небольшимы выбросами (данные за усами)\n",
    "  * `Bulk 8` добавляли лишь единожды. Возможно такими данными можно пренебречь.\n",
    "  * `Bulk 12` есть аномально большое значение. Думаю такую строку можно исключить, чтобы не исказить модель.\n",
    "* В таблице `df_wire_new:`\n",
    "  * Почти все столбцы с небольшимы выбросами (данные за усами).\n",
    "  * В `Wire 1` и `Wire 2` есть аномальные значения. Думаю такие строки можно исключить, чтобы не исказить модель.\n",
    "  * `Wire 5` добавляли лишь единожды. Возможно такими данными можно пренебречь.\n",
    "* Общий итог:\n",
    "  * Есть некоторые материалы, которые добавляли очень редко, нужно рассмотреть, как повлияет исключение таких столбцов на модель.\n",
    "  * Нужно выбрать максимальное количество материала, которое добавляют и исключить данные по столбцам, которые будут считаться выбросами.\n",
    "  * Пропуска можно заполнить значением 0\n",
    "  * Нужно уточнить - можно ли использовать итоговый объём по столбцам и так же проверить, как повлияет это на итоговую модель."
   ]
  },
  {
   "cell_type": "markdown",
   "id": "55bafbae-776a-42ef-99b0-8064a115d63f",
   "metadata": {},
   "source": [
    "#### Рассмотрим подачу газа:"
   ]
  },
  {
   "cell_type": "code",
   "execution_count": 12,
   "id": "44a11506-c9c7-4c30-bb33-5d5f98ba757d",
   "metadata": {},
   "outputs": [
    {
     "data": {
      "image/png": "[encoded data removed]",
      "text/plain": [
       "<Figure size 1500x200 with 1 Axes>"
      ]
     },
     "metadata": {},
     "output_type": "display_data"
    }
   ],
   "source": [
    "plt.figure(figsize=(15, 2))\n",
    "df_gas_new.boxplot('Газ 1', vert=False)\n",
    "plt.show()"
   ]
  },
  {
   "cell_type": "code",
   "execution_count": 13,
   "id": "18a0475e-7a00-4332-83bf-39b39e40f9bf",
   "metadata": {},
   "outputs": [
    {
     "data": {
      "image/png": "[encoded data removed]",
      "text/plain": [
       "<Figure size 1500x800 with 1 Axes>"
      ]
     },
     "metadata": {},
     "output_type": "display_data"
    }
   ],
   "source": [
    "plt.figure(figsize=(15,8))\n",
    "sns.histplot(df_gas_new['Газ 1'], kde=True, line_kws={'linewidth':5})\n",
    "plt.show()"
   ]
  },
  {
   "cell_type": "markdown",
   "id": "7a9871de-b68b-44a0-8c11-9d33fcff1b75",
   "metadata": {},
   "source": [
    "**Исходя из графиков:**\n",
    "* В подаче газа есть выбросы, предположительно значения выше 40.\n",
    "* Может это реальные данные. Нужно уточнить у заказчика."
   ]
  },
  {
   "cell_type": "markdown",
   "id": "54ce6979-104e-49dd-a8b7-b012d1dc5acd",
   "metadata": {},
   "source": [
    "#### Рассмотрим измерение температуры:"
   ]
  },
  {
   "cell_type": "code",
   "execution_count": 14,
   "id": "6a84657d-5647-41b2-b298-1ecb7ce992e2",
   "metadata": {},
   "outputs": [
    {
     "data": {
      "image/png": "[encoded data removed]",
      "text/plain": [
       "<Figure size 1500x200 with 1 Axes>"
      ]
     },
     "metadata": {},
     "output_type": "display_data"
    }
   ],
   "source": [
    "plt.figure(figsize=(15, 2))\n",
    "df_temp_new.boxplot('Температура', vert=False)\n",
    "plt.show()"
   ]
  },
  {
   "cell_type": "code",
   "execution_count": 15,
   "id": "8738f32d-167d-4473-9e91-56c896d25f7e",
   "metadata": {},
   "outputs": [
    {
     "data": {
      "image/png": "[encoded data removed]",
      "text/plain": [
       "<Figure size 1500x800 with 1 Axes>"
      ]
     },
     "metadata": {},
     "output_type": "display_data"
    }
   ],
   "source": [
    "plt.figure(figsize=(15,8))\n",
    "sns.histplot(df_temp_new['Температура'], kde=True, line_kws={'linewidth':5})\n",
    "plt.show()"
   ]
  },
  {
   "cell_type": "markdown",
   "id": "73a6394c-efaa-487f-9fd8-fba29e4b5753",
   "metadata": {},
   "source": [
    "**Исходя из графиков:**\n",
    "* Температура плавления стали от 1300 до 1500. \n",
    "* Eсть значения, которые значительно ниже, думаю их нужно будет убрать.\n",
    "* Значения выше 1300 можно оставить."
   ]
  },
  {
   "cell_type": "markdown",
   "id": "0abd3797-ece4-4e27-9afa-dd89cc611895",
   "metadata": {},
   "source": [
    "### Общий вывод:"
   ]
  },
  {
   "cell_type": "markdown",
   "id": "3a7aaf79-2316-4c12-a4ab-f11095416913",
   "metadata": {},
   "source": [
    "Исходя из исследования выше:\n",
    "* В некоторых таблицах есть данные, которые можно посчитать за выбросы.\n",
    "* В целевом значении есть пустые строки.\n",
    "* Есть некоторые материалы для плавления, которые добавляли очень редко, нужно рассмотреть, как повлияет исключение таких столбцов на модель.\n",
    "* Нужно выбрать максимальное количество материала, которое добавляют и исключить данные по столбцам, которые будут считаться выбросами.\n",
    "* В таблицах добавления материалов пропуска можно заполнить значением 0\n",
    "* Нужно уточнить - можно ли использовать итоговый объём по материалам и так же проверить, как повлияет это на итоговую модель.\n",
    "* В подаче газа есть выбросы, предположительно значения выше 40. Может это реальные данные. Нужно уточнить у заказчика.\n",
    "* В температуре есть значения сильно ниже плавления стали ими можно пренебречь, как аномальными, значения выше 1300 можно оставить."
   ]
  },
  {
   "cell_type": "markdown",
   "id": "d22fa338-9c2e-4bd6-9d2b-777237ef0156",
   "metadata": {},
   "source": [
    "## Список вопросов заказчику:"
   ]
  },
  {
   "cell_type": "markdown",
   "id": "d49baa02-5bbb-414e-b58a-3ff94260a5bc",
   "metadata": {},
   "source": [
    "**Прежде, чем объединять таблицы и заполнять пропуски/удалять аномалии/добавлять параметры, необходимо уточнить следующие вопросы:**\n",
    "* При добавлении материалов, какие значения можно считать выбросами? Стоит ли исключить те строки, в которых значения уходят за нормальное распределение и ящиков с усами?\n",
    "* Для добавления дополнительных параметров: стоит рассчитать общую мощность или лучше уже рассчитать энергию (мощность на дельту времени)? Или даже оба параметра оставить?\n",
    "* Можно ли исключить те материалы, которые добавляли слишком редко? Или лучше взять общее количество материала по отдельности: Bulk и Wire, а может вообще общую сумму по ковшу?\n",
    "* Если в целевой метрике нет значений - стоит ли их заполнять медианной по ковшу? Просто их приблизительно 700, что сильно уменьшает количество данных. Но, думаю, может произойти утечка данных из-за того, что будем первое измерение оставлять.\n",
    "* Может, стоит добавить еще дополнительные параметры - количество нагревов, например, или количество различных добавок по столбцам Wire и Bulk? Или стоит просто рассмотреть все способы и уже просто удалять те столбцы, которые будут сильно коррелировать с остальными или выдавать низкую метрику?\n",
    "* Что еще стоит рассмотреть в таких данных? Что добавить и что удалить?\n",
    "* Прошу так же рассмотреть исследование и дать замечания. А так же, по возможности, дополнить выводы."
   ]
  },
  {
   "cell_type": "markdown",
   "id": "75496d70-b7b0-488f-af1d-d08b59d41287",
   "metadata": {},
   "source": [
    "Для начала переменуем датафрейммы для упрощения написания кода"
   ]
  },
  {
   "cell_type": "code",
   "execution_count": 16,
   "id": "218f9110-6642-425b-a68d-7d2f7d6a9626",
   "metadata": {},
   "outputs": [],
   "source": [
    "df_arc = df_arc_new\n",
    "df_bulk = df_bulk_new\n",
    "df_bulk_time = df_bulk_time_new\n",
    "df_gas = df_gas_new\n",
    "df_temp = df_temp_new\n",
    "df_wire = df_wire_new\n",
    "df_wire_time = df_wire_time_new"
   ]
  },
  {
   "cell_type": "markdown",
   "id": "3c29b7a7-6f03-4d8a-a912-794394be9c24",
   "metadata": {},
   "source": [
    "# Предобработка данных"
   ]
  },
  {
   "cell_type": "markdown",
   "id": "437510a3-3251-4f19-b2a6-b72efa14839e",
   "metadata": {},
   "source": [
    "## Выбросы, пропуски, ненужные строки, замена типа данных"
   ]
  },
  {
   "cell_type": "markdown",
   "id": "9ee8b9d7-bb3b-4628-a262-558512ad4698",
   "metadata": {},
   "source": [
    "#### Таблица с инертным газом"
   ]
  },
  {
   "cell_type": "markdown",
   "id": "500d8432-ace3-44b0-9866-70716a466cbf",
   "metadata": {},
   "source": [
    "Переименуем столбец Газ 1 в английский эквивалент."
   ]
  },
  {
   "cell_type": "code",
   "execution_count": 17,
   "id": "e1a62dc8-f2dc-4c8c-99ea-d21bc29b3a60",
   "metadata": {},
   "outputs": [
    {
     "data": {
      "text/html": [
       "<div>\n",
       "<style scoped>\n",
       "    .dataframe tbody tr th:only-of-type {\n",
       "        vertical-align: middle;\n",
       "    }\n",
       "\n",
       "    .dataframe tbody tr th {\n",
       "        vertical-align: top;\n",
       "    }\n",
       "\n",
       "    .dataframe thead th {\n",
       "        text-align: right;\n",
       "    }\n",
       "</style>\n",
       "<table border=\"1\" class=\"dataframe\">\n",
       "  <thead>\n",
       "    <tr style=\"text-align: right;\">\n",
       "      <th></th>\n",
       "      <th>key</th>\n",
       "      <th>gas_amount</th>\n",
       "    </tr>\n",
       "  </thead>\n",
       "  <tbody>\n",
       "    <tr>\n",
       "      <th>0</th>\n",
       "      <td>1</td>\n",
       "      <td>29.749986</td>\n",
       "    </tr>\n",
       "    <tr>\n",
       "      <th>1</th>\n",
       "      <td>2</td>\n",
       "      <td>12.555561</td>\n",
       "    </tr>\n",
       "    <tr>\n",
       "      <th>2</th>\n",
       "      <td>3</td>\n",
       "      <td>28.554793</td>\n",
       "    </tr>\n",
       "    <tr>\n",
       "      <th>3</th>\n",
       "      <td>4</td>\n",
       "      <td>18.841219</td>\n",
       "    </tr>\n",
       "    <tr>\n",
       "      <th>4</th>\n",
       "      <td>5</td>\n",
       "      <td>5.413692</td>\n",
       "    </tr>\n",
       "  </tbody>\n",
       "</table>\n",
       "</div>"
      ],
      "text/plain": [
       "   key  gas_amount\n",
       "0    1   29.749986\n",
       "1    2   12.555561\n",
       "2    3   28.554793\n",
       "3    4   18.841219\n",
       "4    5    5.413692"
      ]
     },
     "execution_count": 17,
     "metadata": {},
     "output_type": "execute_result"
    }
   ],
   "source": [
    "df_gas = df_gas.rename(columns = {'Газ 1': 'gas_amount'})\n",
    "df_gas.head()"
   ]
  },
  {
   "cell_type": "markdown",
   "id": "518330e1-82b2-4b23-87bf-376832c74c99",
   "metadata": {},
   "source": [
    "#### Переведем время из `object` в `datetime`"
   ]
  },
  {
   "cell_type": "code",
   "execution_count": 18,
   "id": "0d46304b-f305-40d1-9343-5d09de4c4978",
   "metadata": {},
   "outputs": [],
   "source": [
    "df_arc['Начало нагрева дугой'] = pd.to_datetime(df_arc['Начало нагрева дугой'])\n",
    "df_arc['Конец нагрева дугой'] = pd.to_datetime(df_arc['Конец нагрева дугой'])\n",
    "df_temp['Время замера'] = pd.to_datetime(df_temp['Время замера'])\n",
    "\n",
    "df_bulk_time['Bulk 1'] = pd.to_datetime(df_bulk_time['Bulk 1'])\n",
    "df_bulk_time['Bulk 2'] = pd.to_datetime(df_bulk_time['Bulk 2'])\n",
    "df_bulk_time['Bulk 3'] = pd.to_datetime(df_bulk_time['Bulk 3'])\n",
    "df_bulk_time['Bulk 4'] = pd.to_datetime(df_bulk_time['Bulk 4'])\n",
    "df_bulk_time['Bulk 5'] = pd.to_datetime(df_bulk_time['Bulk 5'])\n",
    "df_bulk_time['Bulk 6'] = pd.to_datetime(df_bulk_time['Bulk 6'])\n",
    "df_bulk_time['Bulk 7'] = pd.to_datetime(df_bulk_time['Bulk 7'])\n",
    "df_bulk_time['Bulk 8'] = pd.to_datetime(df_bulk_time['Bulk 8'])\n",
    "df_bulk_time['Bulk 9'] = pd.to_datetime(df_bulk_time['Bulk 9'])\n",
    "df_bulk_time['Bulk 10'] = pd.to_datetime(df_bulk_time['Bulk 10'])\n",
    "df_bulk_time['Bulk 11'] = pd.to_datetime(df_bulk_time['Bulk 11'])\n",
    "df_bulk_time['Bulk 12'] = pd.to_datetime(df_bulk_time['Bulk 12'])\n",
    "df_bulk_time['Bulk 13'] = pd.to_datetime(df_bulk_time['Bulk 13'])\n",
    "df_bulk_time['Bulk 14'] = pd.to_datetime(df_bulk_time['Bulk 14'])\n",
    "df_bulk_time['Bulk 15'] = pd.to_datetime(df_bulk_time['Bulk 15'])\n",
    "\n",
    "df_wire_time['Wire 1'] = pd.to_datetime(df_wire_time['Wire 1'])\n",
    "df_wire_time['Wire 2'] = pd.to_datetime(df_wire_time['Wire 2'])\n",
    "df_wire_time['Wire 3'] = pd.to_datetime(df_wire_time['Wire 3'])\n",
    "df_wire_time['Wire 4'] = pd.to_datetime(df_wire_time['Wire 4'])\n",
    "df_wire_time['Wire 5'] = pd.to_datetime(df_wire_time['Wire 5'])\n",
    "df_wire_time['Wire 6'] = pd.to_datetime(df_wire_time['Wire 6'])\n",
    "df_wire_time['Wire 7'] = pd.to_datetime(df_wire_time['Wire 7'])\n",
    "df_wire_time['Wire 8'] = pd.to_datetime(df_wire_time['Wire 8'])\n",
    "df_wire_time['Wire 9'] = pd.to_datetime(df_wire_time['Wire 9'])\n"
   ]
  },
  {
   "cell_type": "code",
   "execution_count": 19,
   "id": "de269173-b836-497a-8eb9-1b2d7045d649",
   "metadata": {},
   "outputs": [
    {
     "name": "stdout",
     "output_type": "stream",
     "text": [
      "<class 'pandas.core.frame.DataFrame'>\n",
      "RangeIndex: 18092 entries, 0 to 18091\n",
      "Data columns (total 3 columns):\n",
      " #   Column        Non-Null Count  Dtype         \n",
      "---  ------        --------------  -----         \n",
      " 0   key           18092 non-null  int64         \n",
      " 1   Время замера  18092 non-null  datetime64[ns]\n",
      " 2   Температура   14665 non-null  float64       \n",
      "dtypes: datetime64[ns](1), float64(1), int64(1)\n",
      "memory usage: 424.2 KB\n"
     ]
    }
   ],
   "source": [
    "df_temp.info()"
   ]
  },
  {
   "cell_type": "markdown",
   "id": "22842ae4-703f-47e9-9a83-cd702626d696",
   "metadata": {},
   "source": [
    "#### Температура"
   ]
  },
  {
   "cell_type": "markdown",
   "id": "31e68e24-430d-40fa-aaaf-c2a7bd60f47b",
   "metadata": {},
   "source": [
    "* Необходимо оставить только те пиртии, у которых есть первичная и конечная температуры. \n",
    "* Убирем все партии, в которых есть только одна запись."
   ]
  },
  {
   "cell_type": "code",
   "execution_count": 20,
   "id": "05d6ed18-0654-46da-a1fd-5225be03b098",
   "metadata": {},
   "outputs": [
    {
     "data": {
      "text/plain": [
       "Температура\n",
       "1     741\n",
       "5     688\n",
       "6     580\n",
       "4     395\n",
       "7     388\n",
       "8     152\n",
       "3     136\n",
       "9      66\n",
       "2      32\n",
       "10     21\n",
       "11      7\n",
       "12      3\n",
       "13      2\n",
       "14      2\n",
       "16      2\n",
       "17      1\n",
       "Name: count, dtype: int64"
      ]
     },
     "execution_count": 20,
     "metadata": {},
     "output_type": "execute_result"
    }
   ],
   "source": [
    "temp = df_temp.groupby('key')['Температура'].count().reset_index()\n",
    "temp['Температура'].value_counts()"
   ]
  },
  {
   "cell_type": "markdown",
   "id": "1fce83b4-aa78-4192-9ec5-27006d121c3f",
   "metadata": {},
   "source": [
    "* 741 партия имеет только 1 замер температуры."
   ]
  },
  {
   "cell_type": "code",
   "execution_count": 21,
   "id": "ac45a9c6-91d8-41fb-b95f-ad4e43b0b6f8",
   "metadata": {},
   "outputs": [
    {
     "data": {
      "text/plain": [
       "192      195\n",
       "276      279\n",
       "2477    2500\n",
       "2478    2501\n",
       "2479    2502\n",
       "        ... \n",
       "3211    3237\n",
       "3212    3238\n",
       "3213    3239\n",
       "3214    3240\n",
       "3215    3241\n",
       "Name: key, Length: 741, dtype: int64"
      ]
     },
     "execution_count": 21,
     "metadata": {},
     "output_type": "execute_result"
    }
   ],
   "source": [
    "temp_1 = temp.loc[temp['Температура'] == 1,'key']\n",
    "temp_1"
   ]
  },
  {
   "cell_type": "markdown",
   "id": "a58adb69-2c8b-442b-8d0b-a6f06e1330c3",
   "metadata": {},
   "source": [
    "* Удаляем строки, `key` которых находится в значениях temp_1."
   ]
  },
  {
   "cell_type": "code",
   "execution_count": 22,
   "id": "b1c91ff6-7345-4838-8169-c659b4fbd9cf",
   "metadata": {},
   "outputs": [
    {
     "data": {
      "text/html": [
       "<div>\n",
       "<style scoped>\n",
       "    .dataframe tbody tr th:only-of-type {\n",
       "        vertical-align: middle;\n",
       "    }\n",
       "\n",
       "    .dataframe tbody tr th {\n",
       "        vertical-align: top;\n",
       "    }\n",
       "\n",
       "    .dataframe thead th {\n",
       "        text-align: right;\n",
       "    }\n",
       "</style>\n",
       "<table border=\"1\" class=\"dataframe\">\n",
       "  <thead>\n",
       "    <tr style=\"text-align: right;\">\n",
       "      <th></th>\n",
       "      <th>key</th>\n",
       "      <th>Время замера</th>\n",
       "      <th>Температура</th>\n",
       "    </tr>\n",
       "  </thead>\n",
       "  <tbody>\n",
       "    <tr>\n",
       "      <th>0</th>\n",
       "      <td>1</td>\n",
       "      <td>2019-05-03 11:02:04</td>\n",
       "      <td>1571.0</td>\n",
       "    </tr>\n",
       "    <tr>\n",
       "      <th>1</th>\n",
       "      <td>1</td>\n",
       "      <td>2019-05-03 11:07:18</td>\n",
       "      <td>1604.0</td>\n",
       "    </tr>\n",
       "    <tr>\n",
       "      <th>2</th>\n",
       "      <td>1</td>\n",
       "      <td>2019-05-03 11:11:34</td>\n",
       "      <td>1618.0</td>\n",
       "    </tr>\n",
       "    <tr>\n",
       "      <th>3</th>\n",
       "      <td>1</td>\n",
       "      <td>2019-05-03 11:18:04</td>\n",
       "      <td>1601.0</td>\n",
       "    </tr>\n",
       "    <tr>\n",
       "      <th>4</th>\n",
       "      <td>1</td>\n",
       "      <td>2019-05-03 11:25:59</td>\n",
       "      <td>1606.0</td>\n",
       "    </tr>\n",
       "    <tr>\n",
       "      <th>...</th>\n",
       "      <td>...</td>\n",
       "      <td>...</td>\n",
       "      <td>...</td>\n",
       "    </tr>\n",
       "    <tr>\n",
       "      <th>13921</th>\n",
       "      <td>2499</td>\n",
       "      <td>2019-08-10 13:33:21</td>\n",
       "      <td>1569.0</td>\n",
       "    </tr>\n",
       "    <tr>\n",
       "      <th>13922</th>\n",
       "      <td>2499</td>\n",
       "      <td>2019-08-10 13:41:34</td>\n",
       "      <td>1604.0</td>\n",
       "    </tr>\n",
       "    <tr>\n",
       "      <th>13923</th>\n",
       "      <td>2499</td>\n",
       "      <td>2019-08-10 13:46:28</td>\n",
       "      <td>1593.0</td>\n",
       "    </tr>\n",
       "    <tr>\n",
       "      <th>13924</th>\n",
       "      <td>2499</td>\n",
       "      <td>2019-08-10 13:54:56</td>\n",
       "      <td>1588.0</td>\n",
       "    </tr>\n",
       "    <tr>\n",
       "      <th>13925</th>\n",
       "      <td>2499</td>\n",
       "      <td>2019-08-10 13:58:58</td>\n",
       "      <td>1603.0</td>\n",
       "    </tr>\n",
       "  </tbody>\n",
       "</table>\n",
       "<p>13924 rows × 3 columns</p>\n",
       "</div>"
      ],
      "text/plain": [
       "        key        Время замера  Температура\n",
       "0         1 2019-05-03 11:02:04       1571.0\n",
       "1         1 2019-05-03 11:07:18       1604.0\n",
       "2         1 2019-05-03 11:11:34       1618.0\n",
       "3         1 2019-05-03 11:18:04       1601.0\n",
       "4         1 2019-05-03 11:25:59       1606.0\n",
       "...     ...                 ...          ...\n",
       "13921  2499 2019-08-10 13:33:21       1569.0\n",
       "13922  2499 2019-08-10 13:41:34       1604.0\n",
       "13923  2499 2019-08-10 13:46:28       1593.0\n",
       "13924  2499 2019-08-10 13:54:56       1588.0\n",
       "13925  2499 2019-08-10 13:58:58       1603.0\n",
       "\n",
       "[13924 rows x 3 columns]"
      ]
     },
     "execution_count": 22,
     "metadata": {},
     "output_type": "execute_result"
    }
   ],
   "source": [
    "df_temp_upd = df_temp.copy()\n",
    "df_temp_upd = df_temp_upd.drop(df_temp_upd[df_temp_upd['key'].isin(temp_1.values)].index)\n",
    "\n",
    "df_temp_upd"
   ]
  },
  {
   "cell_type": "markdown",
   "id": "a870de0e-366d-42c1-9811-09ece7e721d6",
   "metadata": {},
   "source": [
    "* Создаим список партий и пробежимся по нему выбирая первую и последнюю температуру."
   ]
  },
  {
   "cell_type": "code",
   "execution_count": 23,
   "id": "b5038f47-6c3c-4611-854b-3afed7d26073",
   "metadata": {},
   "outputs": [],
   "source": [
    "keys = df_temp_upd['key'].unique()"
   ]
  },
  {
   "cell_type": "code",
   "execution_count": 24,
   "id": "c83317b5-3fd1-496a-b5b1-656eb7be9c96",
   "metadata": {},
   "outputs": [],
   "source": [
    "temp_start_end = pd.DataFrame(columns=['key','temp_start', 'temp_end'])\n",
    "\n",
    "i = 0\n",
    "for key in keys:\n",
    "    \n",
    "    row = df_temp_upd.query('key == @key').reset_index()\n",
    "    start = row['Температура'].tolist()[0]\n",
    "    end = row['Температура'].tolist()[-1]\n",
    "    \n",
    "    temp_start_end.loc[i, 'key'] = key\n",
    "    temp_start_end.loc[i, 'temp_start'] = start\n",
    "    temp_start_end.loc[i, 'temp_end'] = end\n",
    "    \n",
    "    i += 1\n"
   ]
  },
  {
   "cell_type": "code",
   "execution_count": 25,
   "id": "cf0dfe01-7082-49b8-aeb4-ed05af7f51ef",
   "metadata": {},
   "outputs": [
    {
     "data": {
      "text/html": [
       "<div>\n",
       "<style scoped>\n",
       "    .dataframe tbody tr th:only-of-type {\n",
       "        vertical-align: middle;\n",
       "    }\n",
       "\n",
       "    .dataframe tbody tr th {\n",
       "        vertical-align: top;\n",
       "    }\n",
       "\n",
       "    .dataframe thead th {\n",
       "        text-align: right;\n",
       "    }\n",
       "</style>\n",
       "<table border=\"1\" class=\"dataframe\">\n",
       "  <thead>\n",
       "    <tr style=\"text-align: right;\">\n",
       "      <th></th>\n",
       "      <th>key</th>\n",
       "      <th>temp_start</th>\n",
       "      <th>temp_end</th>\n",
       "    </tr>\n",
       "  </thead>\n",
       "  <tbody>\n",
       "    <tr>\n",
       "      <th>0</th>\n",
       "      <td>1</td>\n",
       "      <td>1571.0</td>\n",
       "      <td>1613.0</td>\n",
       "    </tr>\n",
       "    <tr>\n",
       "      <th>1</th>\n",
       "      <td>2</td>\n",
       "      <td>1581.0</td>\n",
       "      <td>1602.0</td>\n",
       "    </tr>\n",
       "    <tr>\n",
       "      <th>2</th>\n",
       "      <td>3</td>\n",
       "      <td>1596.0</td>\n",
       "      <td>1599.0</td>\n",
       "    </tr>\n",
       "    <tr>\n",
       "      <th>3</th>\n",
       "      <td>4</td>\n",
       "      <td>1601.0</td>\n",
       "      <td>1625.0</td>\n",
       "    </tr>\n",
       "    <tr>\n",
       "      <th>4</th>\n",
       "      <td>5</td>\n",
       "      <td>1576.0</td>\n",
       "      <td>1602.0</td>\n",
       "    </tr>\n",
       "    <tr>\n",
       "      <th>...</th>\n",
       "      <td>...</td>\n",
       "      <td>...</td>\n",
       "      <td>...</td>\n",
       "    </tr>\n",
       "    <tr>\n",
       "      <th>2470</th>\n",
       "      <td>2495</td>\n",
       "      <td>1570.0</td>\n",
       "      <td>1591.0</td>\n",
       "    </tr>\n",
       "    <tr>\n",
       "      <th>2471</th>\n",
       "      <td>2496</td>\n",
       "      <td>1554.0</td>\n",
       "      <td>1591.0</td>\n",
       "    </tr>\n",
       "    <tr>\n",
       "      <th>2472</th>\n",
       "      <td>2497</td>\n",
       "      <td>1571.0</td>\n",
       "      <td>1589.0</td>\n",
       "    </tr>\n",
       "    <tr>\n",
       "      <th>2473</th>\n",
       "      <td>2498</td>\n",
       "      <td>1591.0</td>\n",
       "      <td>1594.0</td>\n",
       "    </tr>\n",
       "    <tr>\n",
       "      <th>2474</th>\n",
       "      <td>2499</td>\n",
       "      <td>1569.0</td>\n",
       "      <td>1603.0</td>\n",
       "    </tr>\n",
       "  </tbody>\n",
       "</table>\n",
       "<p>2475 rows × 3 columns</p>\n",
       "</div>"
      ],
      "text/plain": [
       "       key temp_start temp_end\n",
       "0        1     1571.0   1613.0\n",
       "1        2     1581.0   1602.0\n",
       "2        3     1596.0   1599.0\n",
       "3        4     1601.0   1625.0\n",
       "4        5     1576.0   1602.0\n",
       "...    ...        ...      ...\n",
       "2470  2495     1570.0   1591.0\n",
       "2471  2496     1554.0   1591.0\n",
       "2472  2497     1571.0   1589.0\n",
       "2473  2498     1591.0   1594.0\n",
       "2474  2499     1569.0   1603.0\n",
       "\n",
       "[2475 rows x 3 columns]"
      ]
     },
     "execution_count": 25,
     "metadata": {},
     "output_type": "execute_result"
    }
   ],
   "source": [
    "temp_start_end"
   ]
  },
  {
   "cell_type": "code",
   "execution_count": 26,
   "id": "78c17c6b-e0c6-46e1-b7fb-d167470e339f",
   "metadata": {},
   "outputs": [
    {
     "data": {
      "text/plain": [
       "key           0\n",
       "temp_start    0\n",
       "temp_end      0\n",
       "dtype: int64"
      ]
     },
     "execution_count": 26,
     "metadata": {},
     "output_type": "execute_result"
    }
   ],
   "source": [
    "temp_start_end.isna().sum()"
   ]
  },
  {
   "cell_type": "markdown",
   "id": "77d155dd-c92e-470f-814f-37ca54a50a3e",
   "metadata": {},
   "source": [
    "* Готово. \n",
    "* Все пропуски так же удалены. \n",
    "* Проверим случайную партию из нового датасета и исходного."
   ]
  },
  {
   "cell_type": "code",
   "execution_count": 27,
   "id": "f0e9cd89-fa74-41d7-9c77-23d15bedba89",
   "metadata": {},
   "outputs": [
    {
     "data": {
      "text/html": [
       "<div>\n",
       "<style scoped>\n",
       "    .dataframe tbody tr th:only-of-type {\n",
       "        vertical-align: middle;\n",
       "    }\n",
       "\n",
       "    .dataframe tbody tr th {\n",
       "        vertical-align: top;\n",
       "    }\n",
       "\n",
       "    .dataframe thead th {\n",
       "        text-align: right;\n",
       "    }\n",
       "</style>\n",
       "<table border=\"1\" class=\"dataframe\">\n",
       "  <thead>\n",
       "    <tr style=\"text-align: right;\">\n",
       "      <th></th>\n",
       "      <th>key</th>\n",
       "      <th>temp_start</th>\n",
       "      <th>temp_end</th>\n",
       "    </tr>\n",
       "  </thead>\n",
       "  <tbody>\n",
       "    <tr>\n",
       "      <th>181</th>\n",
       "      <td>184</td>\n",
       "      <td>1548.0</td>\n",
       "      <td>1599.0</td>\n",
       "    </tr>\n",
       "  </tbody>\n",
       "</table>\n",
       "</div>"
      ],
      "text/plain": [
       "     key temp_start temp_end\n",
       "181  184     1548.0   1599.0"
      ]
     },
     "execution_count": 27,
     "metadata": {},
     "output_type": "execute_result"
    }
   ],
   "source": [
    "temp_start_end[temp_start_end['key'] == 184]"
   ]
  },
  {
   "cell_type": "code",
   "execution_count": 28,
   "id": "c9a81c8f-e6c0-42a4-a39d-c6ab41bd79d7",
   "metadata": {},
   "outputs": [
    {
     "data": {
      "text/html": [
       "<div>\n",
       "<style scoped>\n",
       "    .dataframe tbody tr th:only-of-type {\n",
       "        vertical-align: middle;\n",
       "    }\n",
       "\n",
       "    .dataframe tbody tr th {\n",
       "        vertical-align: top;\n",
       "    }\n",
       "\n",
       "    .dataframe thead th {\n",
       "        text-align: right;\n",
       "    }\n",
       "</style>\n",
       "<table border=\"1\" class=\"dataframe\">\n",
       "  <thead>\n",
       "    <tr style=\"text-align: right;\">\n",
       "      <th></th>\n",
       "      <th>key</th>\n",
       "      <th>Время замера</th>\n",
       "      <th>Температура</th>\n",
       "    </tr>\n",
       "  </thead>\n",
       "  <tbody>\n",
       "    <tr>\n",
       "      <th>1050</th>\n",
       "      <td>184</td>\n",
       "      <td>2019-05-10 15:22:40</td>\n",
       "      <td>1548.0</td>\n",
       "    </tr>\n",
       "    <tr>\n",
       "      <th>1051</th>\n",
       "      <td>184</td>\n",
       "      <td>2019-05-10 15:28:16</td>\n",
       "      <td>1558.0</td>\n",
       "    </tr>\n",
       "    <tr>\n",
       "      <th>1052</th>\n",
       "      <td>184</td>\n",
       "      <td>2019-05-10 15:36:17</td>\n",
       "      <td>1576.0</td>\n",
       "    </tr>\n",
       "    <tr>\n",
       "      <th>1053</th>\n",
       "      <td>184</td>\n",
       "      <td>2019-05-10 15:41:52</td>\n",
       "      <td>1569.0</td>\n",
       "    </tr>\n",
       "    <tr>\n",
       "      <th>1054</th>\n",
       "      <td>184</td>\n",
       "      <td>2019-05-10 15:49:23</td>\n",
       "      <td>1599.0</td>\n",
       "    </tr>\n",
       "  </tbody>\n",
       "</table>\n",
       "</div>"
      ],
      "text/plain": [
       "      key        Время замера  Температура\n",
       "1050  184 2019-05-10 15:22:40       1548.0\n",
       "1051  184 2019-05-10 15:28:16       1558.0\n",
       "1052  184 2019-05-10 15:36:17       1576.0\n",
       "1053  184 2019-05-10 15:41:52       1569.0\n",
       "1054  184 2019-05-10 15:49:23       1599.0"
      ]
     },
     "execution_count": 28,
     "metadata": {},
     "output_type": "execute_result"
    }
   ],
   "source": [
    "df_temp_upd[df_temp_upd['key'] == 184]"
   ]
  },
  {
   "cell_type": "markdown",
   "id": "b2d12e77-cff2-476a-b316-fa9cdb7db5a3",
   "metadata": {},
   "source": [
    "Хорошо. Мы нашли первую фичу и целевой признак temp_end."
   ]
  },
  {
   "cell_type": "markdown",
   "id": "f1e0c1e7-61a0-4c64-b325-b8eb0ab17b8a",
   "metadata": {},
   "source": [
    "#### Сумарное время работы электродов"
   ]
  },
  {
   "cell_type": "markdown",
   "id": "f343fa70-07dc-45e6-80cd-64ca8580b735",
   "metadata": {},
   "source": [
    "* Считаем время работы электрода на каждой итерации.\n",
    "* Вычитаем из времени окончания нагрева время начала. \n",
    "* Результат записываем в столбец `\"heating_time\"(Время нагрева)`.\n",
    "* Затем группируем таблицу по key и складываем полученные значения нового столбца."
   ]
  },
  {
   "cell_type": "code",
   "execution_count": 29,
   "id": "09dd1a18-7fc6-413a-88ef-e878dc71804e",
   "metadata": {},
   "outputs": [
    {
     "data": {
      "text/html": [
       "<div>\n",
       "<style scoped>\n",
       "    .dataframe tbody tr th:only-of-type {\n",
       "        vertical-align: middle;\n",
       "    }\n",
       "\n",
       "    .dataframe tbody tr th {\n",
       "        vertical-align: top;\n",
       "    }\n",
       "\n",
       "    .dataframe thead th {\n",
       "        text-align: right;\n",
       "    }\n",
       "</style>\n",
       "<table border=\"1\" class=\"dataframe\">\n",
       "  <thead>\n",
       "    <tr style=\"text-align: right;\">\n",
       "      <th></th>\n",
       "      <th>key</th>\n",
       "      <th>heating_time_sec</th>\n",
       "    </tr>\n",
       "  </thead>\n",
       "  <tbody>\n",
       "    <tr>\n",
       "      <th>0</th>\n",
       "      <td>1</td>\n",
       "      <td>1098</td>\n",
       "    </tr>\n",
       "    <tr>\n",
       "      <th>1</th>\n",
       "      <td>2</td>\n",
       "      <td>811</td>\n",
       "    </tr>\n",
       "    <tr>\n",
       "      <th>2</th>\n",
       "      <td>3</td>\n",
       "      <td>655</td>\n",
       "    </tr>\n",
       "    <tr>\n",
       "      <th>3</th>\n",
       "      <td>4</td>\n",
       "      <td>741</td>\n",
       "    </tr>\n",
       "    <tr>\n",
       "      <th>4</th>\n",
       "      <td>5</td>\n",
       "      <td>869</td>\n",
       "    </tr>\n",
       "    <tr>\n",
       "      <th>...</th>\n",
       "      <td>...</td>\n",
       "      <td>...</td>\n",
       "    </tr>\n",
       "    <tr>\n",
       "      <th>3209</th>\n",
       "      <td>3237</td>\n",
       "      <td>909</td>\n",
       "    </tr>\n",
       "    <tr>\n",
       "      <th>3210</th>\n",
       "      <td>3238</td>\n",
       "      <td>546</td>\n",
       "    </tr>\n",
       "    <tr>\n",
       "      <th>3211</th>\n",
       "      <td>3239</td>\n",
       "      <td>1216</td>\n",
       "    </tr>\n",
       "    <tr>\n",
       "      <th>3212</th>\n",
       "      <td>3240</td>\n",
       "      <td>839</td>\n",
       "    </tr>\n",
       "    <tr>\n",
       "      <th>3213</th>\n",
       "      <td>3241</td>\n",
       "      <td>659</td>\n",
       "    </tr>\n",
       "  </tbody>\n",
       "</table>\n",
       "<p>3214 rows × 2 columns</p>\n",
       "</div>"
      ],
      "text/plain": [
       "       key  heating_time_sec\n",
       "0        1              1098\n",
       "1        2               811\n",
       "2        3               655\n",
       "3        4               741\n",
       "4        5               869\n",
       "...    ...               ...\n",
       "3209  3237               909\n",
       "3210  3238               546\n",
       "3211  3239              1216\n",
       "3212  3240               839\n",
       "3213  3241               659\n",
       "\n",
       "[3214 rows x 2 columns]"
      ]
     },
     "execution_count": 29,
     "metadata": {},
     "output_type": "execute_result"
    }
   ],
   "source": [
    "df_ht = df_arc[['key', 'Начало нагрева дугой', 'Конец нагрева дугой']]\n",
    "\n",
    "df_ht['heating_time_sec'] = df_ht['Конец нагрева дугой'] - df_ht['Начало нагрева дугой']\n",
    "\n",
    "df_ht_sum = df_ht.groupby('key')['heating_time_sec'].sum().reset_index()\n",
    "df_ht_sum['heating_time_sec'] = df_ht_sum['heating_time_sec'].apply(pd.Timedelta.total_seconds).astype('int')\n",
    "\n",
    "df_ht_sum"
   ]
  },
  {
   "cell_type": "markdown",
   "id": "6d1cf541-c01d-4f4a-a3f6-26809649c1af",
   "metadata": {},
   "source": [
    "#### Расчет полной мощности"
   ]
  },
  {
   "cell_type": "markdown",
   "id": "fb36ef63-f84b-483b-816a-0dd0d06404c7",
   "metadata": {},
   "source": [
    "Расчмтывать будем по формуле\n",
    "$$ S = \\sqrt{P^2+Q^2} $$\n",
    "где S - полная мощность, P - активная мощность, Q - реактивная мощность."
   ]
  },
  {
   "cell_type": "code",
   "execution_count": 30,
   "id": "2b41e0fb-a79c-45f4-ab0c-d708a074001c",
   "metadata": {},
   "outputs": [
    {
     "data": {
      "text/html": [
       "<div>\n",
       "<style scoped>\n",
       "    .dataframe tbody tr th:only-of-type {\n",
       "        vertical-align: middle;\n",
       "    }\n",
       "\n",
       "    .dataframe tbody tr th {\n",
       "        vertical-align: top;\n",
       "    }\n",
       "\n",
       "    .dataframe thead th {\n",
       "        text-align: right;\n",
       "    }\n",
       "</style>\n",
       "<table border=\"1\" class=\"dataframe\">\n",
       "  <thead>\n",
       "    <tr style=\"text-align: right;\">\n",
       "      <th></th>\n",
       "      <th>key</th>\n",
       "      <th>Начало нагрева дугой</th>\n",
       "      <th>Конец нагрева дугой</th>\n",
       "      <th>active_power</th>\n",
       "      <th>reactive_power</th>\n",
       "      <th>full_power</th>\n",
       "    </tr>\n",
       "  </thead>\n",
       "  <tbody>\n",
       "    <tr>\n",
       "      <th>0</th>\n",
       "      <td>1</td>\n",
       "      <td>2019-05-03 11:02:14</td>\n",
       "      <td>2019-05-03 11:06:02</td>\n",
       "      <td>0.305130</td>\n",
       "      <td>0.211253</td>\n",
       "      <td>0.371123</td>\n",
       "    </tr>\n",
       "    <tr>\n",
       "      <th>1</th>\n",
       "      <td>1</td>\n",
       "      <td>2019-05-03 11:07:28</td>\n",
       "      <td>2019-05-03 11:10:33</td>\n",
       "      <td>0.765658</td>\n",
       "      <td>0.477438</td>\n",
       "      <td>0.902319</td>\n",
       "    </tr>\n",
       "    <tr>\n",
       "      <th>2</th>\n",
       "      <td>1</td>\n",
       "      <td>2019-05-03 11:11:44</td>\n",
       "      <td>2019-05-03 11:14:36</td>\n",
       "      <td>0.580313</td>\n",
       "      <td>0.430460</td>\n",
       "      <td>0.722536</td>\n",
       "    </tr>\n",
       "    <tr>\n",
       "      <th>3</th>\n",
       "      <td>1</td>\n",
       "      <td>2019-05-03 11:18:14</td>\n",
       "      <td>2019-05-03 11:24:19</td>\n",
       "      <td>0.518496</td>\n",
       "      <td>0.379979</td>\n",
       "      <td>0.642824</td>\n",
       "    </tr>\n",
       "    <tr>\n",
       "      <th>4</th>\n",
       "      <td>1</td>\n",
       "      <td>2019-05-03 11:26:09</td>\n",
       "      <td>2019-05-03 11:28:37</td>\n",
       "      <td>0.867133</td>\n",
       "      <td>0.643691</td>\n",
       "      <td>1.079934</td>\n",
       "    </tr>\n",
       "    <tr>\n",
       "      <th>...</th>\n",
       "      <td>...</td>\n",
       "      <td>...</td>\n",
       "      <td>...</td>\n",
       "      <td>...</td>\n",
       "      <td>...</td>\n",
       "      <td>...</td>\n",
       "    </tr>\n",
       "    <tr>\n",
       "      <th>14871</th>\n",
       "      <td>3241</td>\n",
       "      <td>2019-09-06 16:49:05</td>\n",
       "      <td>2019-09-06 16:51:42</td>\n",
       "      <td>0.439735</td>\n",
       "      <td>0.299579</td>\n",
       "      <td>0.532085</td>\n",
       "    </tr>\n",
       "    <tr>\n",
       "      <th>14872</th>\n",
       "      <td>3241</td>\n",
       "      <td>2019-09-06 16:55:11</td>\n",
       "      <td>2019-09-06 16:58:11</td>\n",
       "      <td>0.646498</td>\n",
       "      <td>0.458240</td>\n",
       "      <td>0.792429</td>\n",
       "    </tr>\n",
       "    <tr>\n",
       "      <th>14873</th>\n",
       "      <td>3241</td>\n",
       "      <td>2019-09-06 17:06:48</td>\n",
       "      <td>2019-09-06 17:09:52</td>\n",
       "      <td>1.039726</td>\n",
       "      <td>0.769302</td>\n",
       "      <td>1.293389</td>\n",
       "    </tr>\n",
       "    <tr>\n",
       "      <th>14874</th>\n",
       "      <td>3241</td>\n",
       "      <td>2019-09-06 17:21:58</td>\n",
       "      <td>2019-09-06 17:22:55</td>\n",
       "      <td>0.530267</td>\n",
       "      <td>0.361543</td>\n",
       "      <td>0.641792</td>\n",
       "    </tr>\n",
       "    <tr>\n",
       "      <th>14875</th>\n",
       "      <td>3241</td>\n",
       "      <td>2019-09-06 17:24:54</td>\n",
       "      <td>2019-09-06 17:26:15</td>\n",
       "      <td>0.389057</td>\n",
       "      <td>0.251347</td>\n",
       "      <td>0.463185</td>\n",
       "    </tr>\n",
       "  </tbody>\n",
       "</table>\n",
       "<p>14875 rows × 6 columns</p>\n",
       "</div>"
      ],
      "text/plain": [
       "        key Начало нагрева дугой Конец нагрева дугой  active_power  \\\n",
       "0         1  2019-05-03 11:02:14 2019-05-03 11:06:02      0.305130   \n",
       "1         1  2019-05-03 11:07:28 2019-05-03 11:10:33      0.765658   \n",
       "2         1  2019-05-03 11:11:44 2019-05-03 11:14:36      0.580313   \n",
       "3         1  2019-05-03 11:18:14 2019-05-03 11:24:19      0.518496   \n",
       "4         1  2019-05-03 11:26:09 2019-05-03 11:28:37      0.867133   \n",
       "...     ...                  ...                 ...           ...   \n",
       "14871  3241  2019-09-06 16:49:05 2019-09-06 16:51:42      0.439735   \n",
       "14872  3241  2019-09-06 16:55:11 2019-09-06 16:58:11      0.646498   \n",
       "14873  3241  2019-09-06 17:06:48 2019-09-06 17:09:52      1.039726   \n",
       "14874  3241  2019-09-06 17:21:58 2019-09-06 17:22:55      0.530267   \n",
       "14875  3241  2019-09-06 17:24:54 2019-09-06 17:26:15      0.389057   \n",
       "\n",
       "       reactive_power  full_power  \n",
       "0            0.211253    0.371123  \n",
       "1            0.477438    0.902319  \n",
       "2            0.430460    0.722536  \n",
       "3            0.379979    0.642824  \n",
       "4            0.643691    1.079934  \n",
       "...               ...         ...  \n",
       "14871        0.299579    0.532085  \n",
       "14872        0.458240    0.792429  \n",
       "14873        0.769302    1.293389  \n",
       "14874        0.361543    0.641792  \n",
       "14875        0.251347    0.463185  \n",
       "\n",
       "[14875 rows x 6 columns]"
      ]
     },
     "execution_count": 30,
     "metadata": {},
     "output_type": "execute_result"
    }
   ],
   "source": [
    "df_arc['full_power'] = np.sqrt(df_arc['Активная мощность']**2 + df_arc['Реактивная мощность']**2) \n",
    "df_arc= df_arc.rename(columns = {'Активная мощность':'active_power', 'Реактивная мощность':'reactive_power'})\n",
    "\n",
    "df_arc"
   ]
  },
  {
   "cell_type": "markdown",
   "id": "33c16fe1-150f-4095-b662-e76dac107bae",
   "metadata": {},
   "source": [
    "* Оставим нужные столбцы и сразу сгруппируем по `key`."
   ]
  },
  {
   "cell_type": "code",
   "execution_count": 31,
   "id": "6e2bc2a3-1944-443f-b75e-11d4676e0b98",
   "metadata": {},
   "outputs": [],
   "source": [
    "df_arc_upd = df_arc"
   ]
  },
  {
   "cell_type": "code",
   "execution_count": 32,
   "id": "7e16a726-4028-4708-9d62-4bb6b2937063",
   "metadata": {},
   "outputs": [
    {
     "data": {
      "text/html": [
       "<div>\n",
       "<style scoped>\n",
       "    .dataframe tbody tr th:only-of-type {\n",
       "        vertical-align: middle;\n",
       "    }\n",
       "\n",
       "    .dataframe tbody tr th {\n",
       "        vertical-align: top;\n",
       "    }\n",
       "\n",
       "    .dataframe thead th {\n",
       "        text-align: right;\n",
       "    }\n",
       "</style>\n",
       "<table border=\"1\" class=\"dataframe\">\n",
       "  <thead>\n",
       "    <tr style=\"text-align: right;\">\n",
       "      <th></th>\n",
       "      <th>active_power</th>\n",
       "      <th>reactive_power</th>\n",
       "      <th>full_power</th>\n",
       "    </tr>\n",
       "    <tr>\n",
       "      <th>key</th>\n",
       "      <th></th>\n",
       "      <th></th>\n",
       "      <th></th>\n",
       "    </tr>\n",
       "  </thead>\n",
       "  <tbody>\n",
       "    <tr>\n",
       "      <th>1</th>\n",
       "      <td>3.036730</td>\n",
       "      <td>2.142821</td>\n",
       "      <td>3.718736</td>\n",
       "    </tr>\n",
       "    <tr>\n",
       "      <th>2</th>\n",
       "      <td>2.139408</td>\n",
       "      <td>1.453357</td>\n",
       "      <td>2.588349</td>\n",
       "    </tr>\n",
       "    <tr>\n",
       "      <th>3</th>\n",
       "      <td>4.063641</td>\n",
       "      <td>2.937457</td>\n",
       "      <td>5.019223</td>\n",
       "    </tr>\n",
       "    <tr>\n",
       "      <th>4</th>\n",
       "      <td>2.706489</td>\n",
       "      <td>2.056992</td>\n",
       "      <td>3.400038</td>\n",
       "    </tr>\n",
       "    <tr>\n",
       "      <th>5</th>\n",
       "      <td>2.252950</td>\n",
       "      <td>1.687991</td>\n",
       "      <td>2.816980</td>\n",
       "    </tr>\n",
       "    <tr>\n",
       "      <th>...</th>\n",
       "      <td>...</td>\n",
       "      <td>...</td>\n",
       "      <td>...</td>\n",
       "    </tr>\n",
       "    <tr>\n",
       "      <th>3237</th>\n",
       "      <td>2.541872</td>\n",
       "      <td>2.025417</td>\n",
       "      <td>3.250657</td>\n",
       "    </tr>\n",
       "    <tr>\n",
       "      <th>3238</th>\n",
       "      <td>1.374821</td>\n",
       "      <td>1.038103</td>\n",
       "      <td>1.723937</td>\n",
       "    </tr>\n",
       "    <tr>\n",
       "      <th>3239</th>\n",
       "      <td>4.848005</td>\n",
       "      <td>3.541541</td>\n",
       "      <td>6.014480</td>\n",
       "    </tr>\n",
       "    <tr>\n",
       "      <th>3240</th>\n",
       "      <td>3.317679</td>\n",
       "      <td>2.373552</td>\n",
       "      <td>4.082920</td>\n",
       "    </tr>\n",
       "    <tr>\n",
       "      <th>3241</th>\n",
       "      <td>3.045283</td>\n",
       "      <td>2.140011</td>\n",
       "      <td>3.722880</td>\n",
       "    </tr>\n",
       "  </tbody>\n",
       "</table>\n",
       "<p>3214 rows × 3 columns</p>\n",
       "</div>"
      ],
      "text/plain": [
       "      active_power  reactive_power  full_power\n",
       "key                                           \n",
       "1         3.036730        2.142821    3.718736\n",
       "2         2.139408        1.453357    2.588349\n",
       "3         4.063641        2.937457    5.019223\n",
       "4         2.706489        2.056992    3.400038\n",
       "5         2.252950        1.687991    2.816980\n",
       "...            ...             ...         ...\n",
       "3237      2.541872        2.025417    3.250657\n",
       "3238      1.374821        1.038103    1.723937\n",
       "3239      4.848005        3.541541    6.014480\n",
       "3240      3.317679        2.373552    4.082920\n",
       "3241      3.045283        2.140011    3.722880\n",
       "\n",
       "[3214 rows x 3 columns]"
      ]
     },
     "execution_count": 32,
     "metadata": {},
     "output_type": "execute_result"
    }
   ],
   "source": [
    "df_arc_upd = df_arc_upd[['key','active_power','reactive_power','full_power']]\n",
    "df_arc_upd = df_arc_upd.groupby('key')[['active_power','reactive_power','full_power']].sum()\n",
    "\n",
    "df_arc_upd"
   ]
  },
  {
   "cell_type": "markdown",
   "id": "6e14d860-afca-42a6-b7e9-95bd6638633e",
   "metadata": {},
   "source": [
    "#### Количество проволоки"
   ]
  },
  {
   "cell_type": "markdown",
   "id": "5f553550-f065-4ad0-866c-6ecd8857252c",
   "metadata": {},
   "source": [
    "* Заменим пропуски 0\n",
    "* Найдем общий вес затраченной проволоки для каждой партии."
   ]
  },
  {
   "cell_type": "code",
   "execution_count": 33,
   "id": "b9a1d630-5601-4085-a21e-24fa3a21cde7",
   "metadata": {},
   "outputs": [],
   "source": [
    "df_wire = df_wire.fillna(0)"
   ]
  },
  {
   "cell_type": "code",
   "execution_count": 34,
   "id": "9c1cbde9-dccb-4f93-ade7-54614763b7dd",
   "metadata": {},
   "outputs": [],
   "source": [
    "df_wire['wire_full'] = (df_wire['Wire 1'] + df_wire['Wire 2'] + df_wire['Wire 3'] + df_wire['Wire 4'] +\n",
    "                        df_wire['Wire 5'] + df_wire['Wire 6'] + df_wire['Wire 7'] + df_wire['Wire 8'] + \n",
    "                        df_wire['Wire 9'])"
   ]
  },
  {
   "cell_type": "code",
   "execution_count": 35,
   "id": "4619b8d6-a5bf-4569-ad46-53081bfc24cf",
   "metadata": {},
   "outputs": [
    {
     "data": {
      "text/html": [
       "<div>\n",
       "<style scoped>\n",
       "    .dataframe tbody tr th:only-of-type {\n",
       "        vertical-align: middle;\n",
       "    }\n",
       "\n",
       "    .dataframe tbody tr th {\n",
       "        vertical-align: top;\n",
       "    }\n",
       "\n",
       "    .dataframe thead th {\n",
       "        text-align: right;\n",
       "    }\n",
       "</style>\n",
       "<table border=\"1\" class=\"dataframe\">\n",
       "  <thead>\n",
       "    <tr style=\"text-align: right;\">\n",
       "      <th></th>\n",
       "      <th>key</th>\n",
       "      <th>Wire 1</th>\n",
       "      <th>Wire 2</th>\n",
       "      <th>Wire 3</th>\n",
       "      <th>Wire 4</th>\n",
       "      <th>Wire 5</th>\n",
       "      <th>Wire 6</th>\n",
       "      <th>Wire 7</th>\n",
       "      <th>Wire 8</th>\n",
       "      <th>Wire 9</th>\n",
       "      <th>wire_full</th>\n",
       "    </tr>\n",
       "  </thead>\n",
       "  <tbody>\n",
       "    <tr>\n",
       "      <th>2212</th>\n",
       "      <td>2323</td>\n",
       "      <td>114.135842</td>\n",
       "      <td>0.000000</td>\n",
       "      <td>0.0</td>\n",
       "      <td>0.0</td>\n",
       "      <td>0.0</td>\n",
       "      <td>0.0</td>\n",
       "      <td>0.0</td>\n",
       "      <td>0.0</td>\n",
       "      <td>0.0</td>\n",
       "      <td>114.135842</td>\n",
       "    </tr>\n",
       "    <tr>\n",
       "      <th>1540</th>\n",
       "      <td>1619</td>\n",
       "      <td>155.141998</td>\n",
       "      <td>45.179680</td>\n",
       "      <td>0.0</td>\n",
       "      <td>0.0</td>\n",
       "      <td>0.0</td>\n",
       "      <td>0.0</td>\n",
       "      <td>0.0</td>\n",
       "      <td>0.0</td>\n",
       "      <td>0.0</td>\n",
       "      <td>200.321678</td>\n",
       "    </tr>\n",
       "    <tr>\n",
       "      <th>338</th>\n",
       "      <td>365</td>\n",
       "      <td>196.793999</td>\n",
       "      <td>0.000000</td>\n",
       "      <td>0.0</td>\n",
       "      <td>0.0</td>\n",
       "      <td>0.0</td>\n",
       "      <td>0.0</td>\n",
       "      <td>0.0</td>\n",
       "      <td>0.0</td>\n",
       "      <td>0.0</td>\n",
       "      <td>196.793999</td>\n",
       "    </tr>\n",
       "    <tr>\n",
       "      <th>2496</th>\n",
       "      <td>2623</td>\n",
       "      <td>56.085121</td>\n",
       "      <td>52.146641</td>\n",
       "      <td>0.0</td>\n",
       "      <td>0.0</td>\n",
       "      <td>0.0</td>\n",
       "      <td>0.0</td>\n",
       "      <td>0.0</td>\n",
       "      <td>0.0</td>\n",
       "      <td>0.0</td>\n",
       "      <td>108.231762</td>\n",
       "    </tr>\n",
       "    <tr>\n",
       "      <th>1611</th>\n",
       "      <td>1691</td>\n",
       "      <td>105.066002</td>\n",
       "      <td>50.095760</td>\n",
       "      <td>0.0</td>\n",
       "      <td>0.0</td>\n",
       "      <td>0.0</td>\n",
       "      <td>0.0</td>\n",
       "      <td>0.0</td>\n",
       "      <td>0.0</td>\n",
       "      <td>0.0</td>\n",
       "      <td>155.161762</td>\n",
       "    </tr>\n",
       "  </tbody>\n",
       "</table>\n",
       "</div>"
      ],
      "text/plain": [
       "       key      Wire 1     Wire 2  Wire 3  Wire 4  Wire 5  Wire 6  Wire 7  \\\n",
       "2212  2323  114.135842   0.000000     0.0     0.0     0.0     0.0     0.0   \n",
       "1540  1619  155.141998  45.179680     0.0     0.0     0.0     0.0     0.0   \n",
       "338    365  196.793999   0.000000     0.0     0.0     0.0     0.0     0.0   \n",
       "2496  2623   56.085121  52.146641     0.0     0.0     0.0     0.0     0.0   \n",
       "1611  1691  105.066002  50.095760     0.0     0.0     0.0     0.0     0.0   \n",
       "\n",
       "      Wire 8  Wire 9   wire_full  \n",
       "2212     0.0     0.0  114.135842  \n",
       "1540     0.0     0.0  200.321678  \n",
       "338      0.0     0.0  196.793999  \n",
       "2496     0.0     0.0  108.231762  \n",
       "1611     0.0     0.0  155.161762  "
      ]
     },
     "execution_count": 35,
     "metadata": {},
     "output_type": "execute_result"
    }
   ],
   "source": [
    "df_wire.sample(5)"
   ]
  },
  {
   "cell_type": "code",
   "execution_count": 36,
   "id": "9b7928c7-c0e4-4d6e-a8cb-8db8cb2381b6",
   "metadata": {},
   "outputs": [
    {
     "data": {
      "text/html": [
       "<div>\n",
       "<style scoped>\n",
       "    .dataframe tbody tr th:only-of-type {\n",
       "        vertical-align: middle;\n",
       "    }\n",
       "\n",
       "    .dataframe tbody tr th {\n",
       "        vertical-align: top;\n",
       "    }\n",
       "\n",
       "    .dataframe thead th {\n",
       "        text-align: right;\n",
       "    }\n",
       "</style>\n",
       "<table border=\"1\" class=\"dataframe\">\n",
       "  <thead>\n",
       "    <tr style=\"text-align: right;\">\n",
       "      <th></th>\n",
       "      <th>key</th>\n",
       "      <th>wire_full</th>\n",
       "    </tr>\n",
       "  </thead>\n",
       "  <tbody>\n",
       "    <tr>\n",
       "      <th>2934</th>\n",
       "      <td>3093</td>\n",
       "      <td>127.176397</td>\n",
       "    </tr>\n",
       "    <tr>\n",
       "      <th>125</th>\n",
       "      <td>141</td>\n",
       "      <td>135.638881</td>\n",
       "    </tr>\n",
       "    <tr>\n",
       "      <th>2420</th>\n",
       "      <td>2547</td>\n",
       "      <td>117.634392</td>\n",
       "    </tr>\n",
       "    <tr>\n",
       "      <th>577</th>\n",
       "      <td>613</td>\n",
       "      <td>151.070404</td>\n",
       "    </tr>\n",
       "    <tr>\n",
       "      <th>2893</th>\n",
       "      <td>3052</td>\n",
       "      <td>60.278397</td>\n",
       "    </tr>\n",
       "  </tbody>\n",
       "</table>\n",
       "</div>"
      ],
      "text/plain": [
       "       key   wire_full\n",
       "2934  3093  127.176397\n",
       "125    141  135.638881\n",
       "2420  2547  117.634392\n",
       "577    613  151.070404\n",
       "2893  3052   60.278397"
      ]
     },
     "execution_count": 36,
     "metadata": {},
     "output_type": "execute_result"
    }
   ],
   "source": [
    "df_wire_upd = df_wire[['key','wire_full']]\n",
    "\n",
    "df_wire_upd.sample(5)"
   ]
  },
  {
   "cell_type": "markdown",
   "id": "9b5cf791-6872-4e99-8185-7acbd4cc43f7",
   "metadata": {},
   "source": [
    "#### Подача сухих веществ"
   ]
  },
  {
   "cell_type": "markdown",
   "id": "3a16ff8e-44ac-4242-aacc-8ba07d5a28bd",
   "metadata": {},
   "source": [
    "* Заменим пропуски 0\n",
    "* Найдем по аналогии с проволокой общий вес сухих веществ для каждой партии."
   ]
  },
  {
   "cell_type": "code",
   "execution_count": 37,
   "id": "2cca0522-a634-4cb6-bcf5-750245b91536",
   "metadata": {},
   "outputs": [],
   "source": [
    "df_bulk = df_bulk.fillna(0)"
   ]
  },
  {
   "cell_type": "code",
   "execution_count": 38,
   "id": "10602c03-ba9f-4bda-9ae0-fc4601dc295e",
   "metadata": {},
   "outputs": [],
   "source": [
    "df_bulk['bulk_full'] = (df_bulk['Bulk 1'] + df_bulk['Bulk 2'] + df_bulk['Bulk 3'] + df_bulk['Bulk 4'] +\n",
    "                        df_bulk['Bulk 5'] + df_bulk['Bulk 6'] + df_bulk['Bulk 7'] + df_bulk['Bulk 8'] +\n",
    "                        df_bulk['Bulk 9'] + df_bulk['Bulk 10'] + df_bulk['Bulk 11'] + df_bulk['Bulk 12'] + \n",
    "                        df_bulk['Bulk 13'] + df_bulk['Bulk 14'] + df_bulk['Bulk 15'])"
   ]
  },
  {
   "cell_type": "code",
   "execution_count": 39,
   "id": "394bc22f-9f1f-4dc4-a32e-f8c22212e7ce",
   "metadata": {},
   "outputs": [
    {
     "data": {
      "text/html": [
       "<div>\n",
       "<style scoped>\n",
       "    .dataframe tbody tr th:only-of-type {\n",
       "        vertical-align: middle;\n",
       "    }\n",
       "\n",
       "    .dataframe tbody tr th {\n",
       "        vertical-align: top;\n",
       "    }\n",
       "\n",
       "    .dataframe thead th {\n",
       "        text-align: right;\n",
       "    }\n",
       "</style>\n",
       "<table border=\"1\" class=\"dataframe\">\n",
       "  <thead>\n",
       "    <tr style=\"text-align: right;\">\n",
       "      <th></th>\n",
       "      <th>key</th>\n",
       "      <th>Bulk 1</th>\n",
       "      <th>Bulk 2</th>\n",
       "      <th>Bulk 3</th>\n",
       "      <th>Bulk 4</th>\n",
       "      <th>Bulk 5</th>\n",
       "      <th>Bulk 6</th>\n",
       "      <th>Bulk 7</th>\n",
       "      <th>Bulk 8</th>\n",
       "      <th>Bulk 9</th>\n",
       "      <th>Bulk 10</th>\n",
       "      <th>Bulk 11</th>\n",
       "      <th>Bulk 12</th>\n",
       "      <th>Bulk 13</th>\n",
       "      <th>Bulk 14</th>\n",
       "      <th>Bulk 15</th>\n",
       "      <th>bulk_full</th>\n",
       "    </tr>\n",
       "  </thead>\n",
       "  <tbody>\n",
       "    <tr>\n",
       "      <th>2727</th>\n",
       "      <td>2830</td>\n",
       "      <td>0.0</td>\n",
       "      <td>0.0</td>\n",
       "      <td>112.0</td>\n",
       "      <td>0.0</td>\n",
       "      <td>0.0</td>\n",
       "      <td>0.0</td>\n",
       "      <td>0.0</td>\n",
       "      <td>0.0</td>\n",
       "      <td>0.0</td>\n",
       "      <td>0.0</td>\n",
       "      <td>0.0</td>\n",
       "      <td>208.0</td>\n",
       "      <td>0.0</td>\n",
       "      <td>102.0</td>\n",
       "      <td>104.0</td>\n",
       "      <td>526.0</td>\n",
       "    </tr>\n",
       "    <tr>\n",
       "      <th>3078</th>\n",
       "      <td>3188</td>\n",
       "      <td>28.0</td>\n",
       "      <td>0.0</td>\n",
       "      <td>92.0</td>\n",
       "      <td>0.0</td>\n",
       "      <td>0.0</td>\n",
       "      <td>0.0</td>\n",
       "      <td>0.0</td>\n",
       "      <td>0.0</td>\n",
       "      <td>0.0</td>\n",
       "      <td>0.0</td>\n",
       "      <td>0.0</td>\n",
       "      <td>514.0</td>\n",
       "      <td>0.0</td>\n",
       "      <td>250.0</td>\n",
       "      <td>0.0</td>\n",
       "      <td>884.0</td>\n",
       "    </tr>\n",
       "    <tr>\n",
       "      <th>2291</th>\n",
       "      <td>2374</td>\n",
       "      <td>0.0</td>\n",
       "      <td>0.0</td>\n",
       "      <td>0.0</td>\n",
       "      <td>0.0</td>\n",
       "      <td>0.0</td>\n",
       "      <td>77.0</td>\n",
       "      <td>0.0</td>\n",
       "      <td>0.0</td>\n",
       "      <td>0.0</td>\n",
       "      <td>0.0</td>\n",
       "      <td>0.0</td>\n",
       "      <td>0.0</td>\n",
       "      <td>0.0</td>\n",
       "      <td>223.0</td>\n",
       "      <td>0.0</td>\n",
       "      <td>300.0</td>\n",
       "    </tr>\n",
       "    <tr>\n",
       "      <th>35</th>\n",
       "      <td>36</td>\n",
       "      <td>0.0</td>\n",
       "      <td>0.0</td>\n",
       "      <td>0.0</td>\n",
       "      <td>115.0</td>\n",
       "      <td>0.0</td>\n",
       "      <td>0.0</td>\n",
       "      <td>0.0</td>\n",
       "      <td>0.0</td>\n",
       "      <td>0.0</td>\n",
       "      <td>0.0</td>\n",
       "      <td>0.0</td>\n",
       "      <td>204.0</td>\n",
       "      <td>0.0</td>\n",
       "      <td>153.0</td>\n",
       "      <td>155.0</td>\n",
       "      <td>627.0</td>\n",
       "    </tr>\n",
       "    <tr>\n",
       "      <th>408</th>\n",
       "      <td>434</td>\n",
       "      <td>0.0</td>\n",
       "      <td>0.0</td>\n",
       "      <td>0.0</td>\n",
       "      <td>123.0</td>\n",
       "      <td>0.0</td>\n",
       "      <td>0.0</td>\n",
       "      <td>0.0</td>\n",
       "      <td>0.0</td>\n",
       "      <td>0.0</td>\n",
       "      <td>0.0</td>\n",
       "      <td>0.0</td>\n",
       "      <td>458.0</td>\n",
       "      <td>0.0</td>\n",
       "      <td>313.0</td>\n",
       "      <td>154.0</td>\n",
       "      <td>1048.0</td>\n",
       "    </tr>\n",
       "    <tr>\n",
       "      <th>868</th>\n",
       "      <td>904</td>\n",
       "      <td>0.0</td>\n",
       "      <td>0.0</td>\n",
       "      <td>201.0</td>\n",
       "      <td>0.0</td>\n",
       "      <td>0.0</td>\n",
       "      <td>0.0</td>\n",
       "      <td>0.0</td>\n",
       "      <td>0.0</td>\n",
       "      <td>0.0</td>\n",
       "      <td>0.0</td>\n",
       "      <td>0.0</td>\n",
       "      <td>411.0</td>\n",
       "      <td>0.0</td>\n",
       "      <td>256.0</td>\n",
       "      <td>205.0</td>\n",
       "      <td>1073.0</td>\n",
       "    </tr>\n",
       "    <tr>\n",
       "      <th>1064</th>\n",
       "      <td>1111</td>\n",
       "      <td>0.0</td>\n",
       "      <td>0.0</td>\n",
       "      <td>0.0</td>\n",
       "      <td>0.0</td>\n",
       "      <td>0.0</td>\n",
       "      <td>0.0</td>\n",
       "      <td>0.0</td>\n",
       "      <td>0.0</td>\n",
       "      <td>0.0</td>\n",
       "      <td>0.0</td>\n",
       "      <td>0.0</td>\n",
       "      <td>256.0</td>\n",
       "      <td>0.0</td>\n",
       "      <td>99.0</td>\n",
       "      <td>203.0</td>\n",
       "      <td>558.0</td>\n",
       "    </tr>\n",
       "    <tr>\n",
       "      <th>2058</th>\n",
       "      <td>2130</td>\n",
       "      <td>0.0</td>\n",
       "      <td>0.0</td>\n",
       "      <td>64.0</td>\n",
       "      <td>0.0</td>\n",
       "      <td>0.0</td>\n",
       "      <td>0.0</td>\n",
       "      <td>0.0</td>\n",
       "      <td>0.0</td>\n",
       "      <td>0.0</td>\n",
       "      <td>117.0</td>\n",
       "      <td>0.0</td>\n",
       "      <td>364.0</td>\n",
       "      <td>0.0</td>\n",
       "      <td>109.0</td>\n",
       "      <td>226.0</td>\n",
       "      <td>880.0</td>\n",
       "    </tr>\n",
       "    <tr>\n",
       "      <th>2920</th>\n",
       "      <td>3028</td>\n",
       "      <td>0.0</td>\n",
       "      <td>0.0</td>\n",
       "      <td>0.0</td>\n",
       "      <td>0.0</td>\n",
       "      <td>0.0</td>\n",
       "      <td>0.0</td>\n",
       "      <td>0.0</td>\n",
       "      <td>0.0</td>\n",
       "      <td>0.0</td>\n",
       "      <td>0.0</td>\n",
       "      <td>0.0</td>\n",
       "      <td>256.0</td>\n",
       "      <td>0.0</td>\n",
       "      <td>150.0</td>\n",
       "      <td>156.0</td>\n",
       "      <td>562.0</td>\n",
       "    </tr>\n",
       "    <tr>\n",
       "      <th>1038</th>\n",
       "      <td>1084</td>\n",
       "      <td>0.0</td>\n",
       "      <td>0.0</td>\n",
       "      <td>18.0</td>\n",
       "      <td>0.0</td>\n",
       "      <td>0.0</td>\n",
       "      <td>0.0</td>\n",
       "      <td>0.0</td>\n",
       "      <td>0.0</td>\n",
       "      <td>0.0</td>\n",
       "      <td>0.0</td>\n",
       "      <td>76.0</td>\n",
       "      <td>206.0</td>\n",
       "      <td>0.0</td>\n",
       "      <td>100.0</td>\n",
       "      <td>105.0</td>\n",
       "      <td>505.0</td>\n",
       "    </tr>\n",
       "  </tbody>\n",
       "</table>\n",
       "</div>"
      ],
      "text/plain": [
       "       key  Bulk 1  Bulk 2  Bulk 3  Bulk 4  Bulk 5  Bulk 6  Bulk 7  Bulk 8  \\\n",
       "2727  2830     0.0     0.0   112.0     0.0     0.0     0.0     0.0     0.0   \n",
       "3078  3188    28.0     0.0    92.0     0.0     0.0     0.0     0.0     0.0   \n",
       "2291  2374     0.0     0.0     0.0     0.0     0.0    77.0     0.0     0.0   \n",
       "35      36     0.0     0.0     0.0   115.0     0.0     0.0     0.0     0.0   \n",
       "408    434     0.0     0.0     0.0   123.0     0.0     0.0     0.0     0.0   \n",
       "868    904     0.0     0.0   201.0     0.0     0.0     0.0     0.0     0.0   \n",
       "1064  1111     0.0     0.0     0.0     0.0     0.0     0.0     0.0     0.0   \n",
       "2058  2130     0.0     0.0    64.0     0.0     0.0     0.0     0.0     0.0   \n",
       "2920  3028     0.0     0.0     0.0     0.0     0.0     0.0     0.0     0.0   \n",
       "1038  1084     0.0     0.0    18.0     0.0     0.0     0.0     0.0     0.0   \n",
       "\n",
       "      Bulk 9  Bulk 10  Bulk 11  Bulk 12  Bulk 13  Bulk 14  Bulk 15  bulk_full  \n",
       "2727     0.0      0.0      0.0    208.0      0.0    102.0    104.0      526.0  \n",
       "3078     0.0      0.0      0.0    514.0      0.0    250.0      0.0      884.0  \n",
       "2291     0.0      0.0      0.0      0.0      0.0    223.0      0.0      300.0  \n",
       "35       0.0      0.0      0.0    204.0      0.0    153.0    155.0      627.0  \n",
       "408      0.0      0.0      0.0    458.0      0.0    313.0    154.0     1048.0  \n",
       "868      0.0      0.0      0.0    411.0      0.0    256.0    205.0     1073.0  \n",
       "1064     0.0      0.0      0.0    256.0      0.0     99.0    203.0      558.0  \n",
       "2058     0.0    117.0      0.0    364.0      0.0    109.0    226.0      880.0  \n",
       "2920     0.0      0.0      0.0    256.0      0.0    150.0    156.0      562.0  \n",
       "1038     0.0      0.0     76.0    206.0      0.0    100.0    105.0      505.0  "
      ]
     },
     "execution_count": 39,
     "metadata": {},
     "output_type": "execute_result"
    }
   ],
   "source": [
    "df_bulk.sample(10)"
   ]
  },
  {
   "cell_type": "code",
   "execution_count": 40,
   "id": "7933f3a6-6d22-48bd-9d69-b58f916f4cbe",
   "metadata": {},
   "outputs": [
    {
     "data": {
      "text/html": [
       "<div>\n",
       "<style scoped>\n",
       "    .dataframe tbody tr th:only-of-type {\n",
       "        vertical-align: middle;\n",
       "    }\n",
       "\n",
       "    .dataframe tbody tr th {\n",
       "        vertical-align: top;\n",
       "    }\n",
       "\n",
       "    .dataframe thead th {\n",
       "        text-align: right;\n",
       "    }\n",
       "</style>\n",
       "<table border=\"1\" class=\"dataframe\">\n",
       "  <thead>\n",
       "    <tr style=\"text-align: right;\">\n",
       "      <th></th>\n",
       "      <th>key</th>\n",
       "      <th>bulk_full</th>\n",
       "    </tr>\n",
       "  </thead>\n",
       "  <tbody>\n",
       "    <tr>\n",
       "      <th>1175</th>\n",
       "      <td>1224</td>\n",
       "      <td>912.0</td>\n",
       "    </tr>\n",
       "    <tr>\n",
       "      <th>689</th>\n",
       "      <td>722</td>\n",
       "      <td>739.0</td>\n",
       "    </tr>\n",
       "    <tr>\n",
       "      <th>900</th>\n",
       "      <td>939</td>\n",
       "      <td>623.0</td>\n",
       "    </tr>\n",
       "    <tr>\n",
       "      <th>948</th>\n",
       "      <td>993</td>\n",
       "      <td>896.0</td>\n",
       "    </tr>\n",
       "    <tr>\n",
       "      <th>1242</th>\n",
       "      <td>1292</td>\n",
       "      <td>765.0</td>\n",
       "    </tr>\n",
       "  </tbody>\n",
       "</table>\n",
       "</div>"
      ],
      "text/plain": [
       "       key  bulk_full\n",
       "1175  1224      912.0\n",
       "689    722      739.0\n",
       "900    939      623.0\n",
       "948    993      896.0\n",
       "1242  1292      765.0"
      ]
     },
     "execution_count": 40,
     "metadata": {},
     "output_type": "execute_result"
    }
   ],
   "source": [
    "df_bulk_upd = df_bulk[['key','bulk_full']]\n",
    "\n",
    "df_bulk_upd.sample(5)"
   ]
  },
  {
   "cell_type": "markdown",
   "id": "2c17c411-be4c-4e69-bd54-01771a434f93",
   "metadata": {},
   "source": [
    "### Объединение таблиц"
   ]
  },
  {
   "cell_type": "markdown",
   "id": "f8921004-0141-48ad-83d2-e502032073ca",
   "metadata": {},
   "source": [
    "* Назовем итоговую таблицу `df_full`."
   ]
  },
  {
   "cell_type": "code",
   "execution_count": 41,
   "id": "b33c614f-841d-49c7-81cf-527445beaefa",
   "metadata": {},
   "outputs": [
    {
     "data": {
      "text/html": [
       "<div>\n",
       "<style scoped>\n",
       "    .dataframe tbody tr th:only-of-type {\n",
       "        vertical-align: middle;\n",
       "    }\n",
       "\n",
       "    .dataframe tbody tr th {\n",
       "        vertical-align: top;\n",
       "    }\n",
       "\n",
       "    .dataframe thead th {\n",
       "        text-align: right;\n",
       "    }\n",
       "</style>\n",
       "<table border=\"1\" class=\"dataframe\">\n",
       "  <thead>\n",
       "    <tr style=\"text-align: right;\">\n",
       "      <th></th>\n",
       "      <th>key</th>\n",
       "      <th>temp_start</th>\n",
       "      <th>temp_end</th>\n",
       "    </tr>\n",
       "  </thead>\n",
       "  <tbody>\n",
       "    <tr>\n",
       "      <th>0</th>\n",
       "      <td>1</td>\n",
       "      <td>1571.0</td>\n",
       "      <td>1613.0</td>\n",
       "    </tr>\n",
       "    <tr>\n",
       "      <th>1</th>\n",
       "      <td>2</td>\n",
       "      <td>1581.0</td>\n",
       "      <td>1602.0</td>\n",
       "    </tr>\n",
       "    <tr>\n",
       "      <th>2</th>\n",
       "      <td>3</td>\n",
       "      <td>1596.0</td>\n",
       "      <td>1599.0</td>\n",
       "    </tr>\n",
       "    <tr>\n",
       "      <th>3</th>\n",
       "      <td>4</td>\n",
       "      <td>1601.0</td>\n",
       "      <td>1625.0</td>\n",
       "    </tr>\n",
       "    <tr>\n",
       "      <th>4</th>\n",
       "      <td>5</td>\n",
       "      <td>1576.0</td>\n",
       "      <td>1602.0</td>\n",
       "    </tr>\n",
       "    <tr>\n",
       "      <th>...</th>\n",
       "      <td>...</td>\n",
       "      <td>...</td>\n",
       "      <td>...</td>\n",
       "    </tr>\n",
       "    <tr>\n",
       "      <th>2470</th>\n",
       "      <td>2495</td>\n",
       "      <td>1570.0</td>\n",
       "      <td>1591.0</td>\n",
       "    </tr>\n",
       "    <tr>\n",
       "      <th>2471</th>\n",
       "      <td>2496</td>\n",
       "      <td>1554.0</td>\n",
       "      <td>1591.0</td>\n",
       "    </tr>\n",
       "    <tr>\n",
       "      <th>2472</th>\n",
       "      <td>2497</td>\n",
       "      <td>1571.0</td>\n",
       "      <td>1589.0</td>\n",
       "    </tr>\n",
       "    <tr>\n",
       "      <th>2473</th>\n",
       "      <td>2498</td>\n",
       "      <td>1591.0</td>\n",
       "      <td>1594.0</td>\n",
       "    </tr>\n",
       "    <tr>\n",
       "      <th>2474</th>\n",
       "      <td>2499</td>\n",
       "      <td>1569.0</td>\n",
       "      <td>1603.0</td>\n",
       "    </tr>\n",
       "  </tbody>\n",
       "</table>\n",
       "<p>2475 rows × 3 columns</p>\n",
       "</div>"
      ],
      "text/plain": [
       "       key temp_start temp_end\n",
       "0        1     1571.0   1613.0\n",
       "1        2     1581.0   1602.0\n",
       "2        3     1596.0   1599.0\n",
       "3        4     1601.0   1625.0\n",
       "4        5     1576.0   1602.0\n",
       "...    ...        ...      ...\n",
       "2470  2495     1570.0   1591.0\n",
       "2471  2496     1554.0   1591.0\n",
       "2472  2497     1571.0   1589.0\n",
       "2473  2498     1591.0   1594.0\n",
       "2474  2499     1569.0   1603.0\n",
       "\n",
       "[2475 rows x 3 columns]"
      ]
     },
     "execution_count": 41,
     "metadata": {},
     "output_type": "execute_result"
    }
   ],
   "source": [
    "df_full = temp_start_end.copy()\n",
    "\n",
    "df_full"
   ]
  },
  {
   "cell_type": "markdown",
   "id": "11f95c5f-95a7-4306-80a4-3b2b10bb0959",
   "metadata": {},
   "source": [
    "Присоединяем данные о работе электродов."
   ]
  },
  {
   "cell_type": "code",
   "execution_count": 42,
   "id": "a219b1ba-b560-43ba-be93-30b90de9d964",
   "metadata": {},
   "outputs": [
    {
     "data": {
      "text/html": [
       "<div>\n",
       "<style scoped>\n",
       "    .dataframe tbody tr th:only-of-type {\n",
       "        vertical-align: middle;\n",
       "    }\n",
       "\n",
       "    .dataframe tbody tr th {\n",
       "        vertical-align: top;\n",
       "    }\n",
       "\n",
       "    .dataframe thead th {\n",
       "        text-align: right;\n",
       "    }\n",
       "</style>\n",
       "<table border=\"1\" class=\"dataframe\">\n",
       "  <thead>\n",
       "    <tr style=\"text-align: right;\">\n",
       "      <th></th>\n",
       "      <th>key</th>\n",
       "      <th>temp_start</th>\n",
       "      <th>temp_end</th>\n",
       "      <th>active_power</th>\n",
       "      <th>reactive_power</th>\n",
       "      <th>full_power</th>\n",
       "    </tr>\n",
       "  </thead>\n",
       "  <tbody>\n",
       "    <tr>\n",
       "      <th>2092</th>\n",
       "      <td>2111</td>\n",
       "      <td>1607.0</td>\n",
       "      <td>1590.0</td>\n",
       "      <td>3.444591</td>\n",
       "      <td>2.699485</td>\n",
       "      <td>4.381331</td>\n",
       "    </tr>\n",
       "    <tr>\n",
       "      <th>2018</th>\n",
       "      <td>2036</td>\n",
       "      <td>1597.0</td>\n",
       "      <td>1596.0</td>\n",
       "      <td>1.855377</td>\n",
       "      <td>1.361075</td>\n",
       "      <td>2.301155</td>\n",
       "    </tr>\n",
       "    <tr>\n",
       "      <th>1907</th>\n",
       "      <td>1924</td>\n",
       "      <td>1568.0</td>\n",
       "      <td>1596.0</td>\n",
       "      <td>4.602882</td>\n",
       "      <td>3.572729</td>\n",
       "      <td>5.828430</td>\n",
       "    </tr>\n",
       "    <tr>\n",
       "      <th>1668</th>\n",
       "      <td>1685</td>\n",
       "      <td>1574.0</td>\n",
       "      <td>1589.0</td>\n",
       "      <td>4.563226</td>\n",
       "      <td>3.337872</td>\n",
       "      <td>5.659666</td>\n",
       "    </tr>\n",
       "    <tr>\n",
       "      <th>2469</th>\n",
       "      <td>2494</td>\n",
       "      <td>1585.0</td>\n",
       "      <td>1591.0</td>\n",
       "      <td>1.504776</td>\n",
       "      <td>1.102095</td>\n",
       "      <td>1.865880</td>\n",
       "    </tr>\n",
       "  </tbody>\n",
       "</table>\n",
       "</div>"
      ],
      "text/plain": [
       "       key temp_start temp_end  active_power  reactive_power  full_power\n",
       "2092  2111     1607.0   1590.0      3.444591        2.699485    4.381331\n",
       "2018  2036     1597.0   1596.0      1.855377        1.361075    2.301155\n",
       "1907  1924     1568.0   1596.0      4.602882        3.572729    5.828430\n",
       "1668  1685     1574.0   1589.0      4.563226        3.337872    5.659666\n",
       "2469  2494     1585.0   1591.0      1.504776        1.102095    1.865880"
      ]
     },
     "execution_count": 42,
     "metadata": {},
     "output_type": "execute_result"
    }
   ],
   "source": [
    "df_full = df_full.merge(df_arc_upd, on='key')\n",
    "df_full.sample(5)"
   ]
  },
  {
   "cell_type": "markdown",
   "id": "a3687adc-6262-4a82-b33b-de837c427843",
   "metadata": {},
   "source": [
    "Количество инертного газа."
   ]
  },
  {
   "cell_type": "code",
   "execution_count": 43,
   "id": "77b70273-8626-48ac-937f-f9a392e4355b",
   "metadata": {},
   "outputs": [
    {
     "data": {
      "text/html": [
       "<div>\n",
       "<style scoped>\n",
       "    .dataframe tbody tr th:only-of-type {\n",
       "        vertical-align: middle;\n",
       "    }\n",
       "\n",
       "    .dataframe tbody tr th {\n",
       "        vertical-align: top;\n",
       "    }\n",
       "\n",
       "    .dataframe thead th {\n",
       "        text-align: right;\n",
       "    }\n",
       "</style>\n",
       "<table border=\"1\" class=\"dataframe\">\n",
       "  <thead>\n",
       "    <tr style=\"text-align: right;\">\n",
       "      <th></th>\n",
       "      <th>key</th>\n",
       "      <th>temp_start</th>\n",
       "      <th>temp_end</th>\n",
       "      <th>active_power</th>\n",
       "      <th>reactive_power</th>\n",
       "      <th>full_power</th>\n",
       "      <th>gas_amount</th>\n",
       "    </tr>\n",
       "  </thead>\n",
       "  <tbody>\n",
       "    <tr>\n",
       "      <th>2064</th>\n",
       "      <td>2084</td>\n",
       "      <td>1560.0</td>\n",
       "      <td>1596.0</td>\n",
       "      <td>2.132401</td>\n",
       "      <td>1.568311</td>\n",
       "      <td>2.649124</td>\n",
       "      <td>10.898872</td>\n",
       "    </tr>\n",
       "    <tr>\n",
       "      <th>1947</th>\n",
       "      <td>1966</td>\n",
       "      <td>1527.0</td>\n",
       "      <td>1578.0</td>\n",
       "      <td>3.377053</td>\n",
       "      <td>2.391140</td>\n",
       "      <td>4.141400</td>\n",
       "      <td>18.710089</td>\n",
       "    </tr>\n",
       "    <tr>\n",
       "      <th>369</th>\n",
       "      <td>377</td>\n",
       "      <td>1634.0</td>\n",
       "      <td>1648.0</td>\n",
       "      <td>1.391220</td>\n",
       "      <td>1.003030</td>\n",
       "      <td>1.715801</td>\n",
       "      <td>5.937243</td>\n",
       "    </tr>\n",
       "    <tr>\n",
       "      <th>1626</th>\n",
       "      <td>1645</td>\n",
       "      <td>1585.0</td>\n",
       "      <td>1591.0</td>\n",
       "      <td>4.587558</td>\n",
       "      <td>3.493540</td>\n",
       "      <td>5.769012</td>\n",
       "      <td>15.014276</td>\n",
       "    </tr>\n",
       "    <tr>\n",
       "      <th>2206</th>\n",
       "      <td>2227</td>\n",
       "      <td>1592.0</td>\n",
       "      <td>1595.0</td>\n",
       "      <td>2.194527</td>\n",
       "      <td>1.492324</td>\n",
       "      <td>2.653897</td>\n",
       "      <td>12.308052</td>\n",
       "    </tr>\n",
       "  </tbody>\n",
       "</table>\n",
       "</div>"
      ],
      "text/plain": [
       "       key temp_start temp_end  active_power  reactive_power  full_power  \\\n",
       "2064  2084     1560.0   1596.0      2.132401        1.568311    2.649124   \n",
       "1947  1966     1527.0   1578.0      3.377053        2.391140    4.141400   \n",
       "369    377     1634.0   1648.0      1.391220        1.003030    1.715801   \n",
       "1626  1645     1585.0   1591.0      4.587558        3.493540    5.769012   \n",
       "2206  2227     1592.0   1595.0      2.194527        1.492324    2.653897   \n",
       "\n",
       "      gas_amount  \n",
       "2064   10.898872  \n",
       "1947   18.710089  \n",
       "369     5.937243  \n",
       "1626   15.014276  \n",
       "2206   12.308052  "
      ]
     },
     "execution_count": 43,
     "metadata": {},
     "output_type": "execute_result"
    }
   ],
   "source": [
    "df_full = df_full.merge(df_gas, on='key')\n",
    "df_full.sample(5)"
   ]
  },
  {
   "cell_type": "markdown",
   "id": "e5235bcc-0665-4be0-9d2d-36e44bbf9f30",
   "metadata": {},
   "source": [
    "Общее время нагрева."
   ]
  },
  {
   "cell_type": "code",
   "execution_count": 44,
   "id": "9e78939d-6d10-48b8-8714-cec196df2b4c",
   "metadata": {},
   "outputs": [
    {
     "data": {
      "text/html": [
       "<div>\n",
       "<style scoped>\n",
       "    .dataframe tbody tr th:only-of-type {\n",
       "        vertical-align: middle;\n",
       "    }\n",
       "\n",
       "    .dataframe tbody tr th {\n",
       "        vertical-align: top;\n",
       "    }\n",
       "\n",
       "    .dataframe thead th {\n",
       "        text-align: right;\n",
       "    }\n",
       "</style>\n",
       "<table border=\"1\" class=\"dataframe\">\n",
       "  <thead>\n",
       "    <tr style=\"text-align: right;\">\n",
       "      <th></th>\n",
       "      <th>key</th>\n",
       "      <th>temp_start</th>\n",
       "      <th>temp_end</th>\n",
       "      <th>active_power</th>\n",
       "      <th>reactive_power</th>\n",
       "      <th>full_power</th>\n",
       "      <th>gas_amount</th>\n",
       "      <th>heating_time_sec</th>\n",
       "    </tr>\n",
       "  </thead>\n",
       "  <tbody>\n",
       "    <tr>\n",
       "      <th>1730</th>\n",
       "      <td>1749</td>\n",
       "      <td>1606.0</td>\n",
       "      <td>1612.0</td>\n",
       "      <td>4.582827</td>\n",
       "      <td>3.227286</td>\n",
       "      <td>5.611452</td>\n",
       "      <td>9.712806</td>\n",
       "      <td>874</td>\n",
       "    </tr>\n",
       "    <tr>\n",
       "      <th>840</th>\n",
       "      <td>856</td>\n",
       "      <td>1568.0</td>\n",
       "      <td>1575.0</td>\n",
       "      <td>4.983029</td>\n",
       "      <td>3.435216</td>\n",
       "      <td>6.061871</td>\n",
       "      <td>12.670113</td>\n",
       "      <td>896</td>\n",
       "    </tr>\n",
       "    <tr>\n",
       "      <th>445</th>\n",
       "      <td>454</td>\n",
       "      <td>1592.0</td>\n",
       "      <td>1591.0</td>\n",
       "      <td>3.879890</td>\n",
       "      <td>2.788381</td>\n",
       "      <td>4.779789</td>\n",
       "      <td>12.784949</td>\n",
       "      <td>869</td>\n",
       "    </tr>\n",
       "    <tr>\n",
       "      <th>1796</th>\n",
       "      <td>1815</td>\n",
       "      <td>1608.0</td>\n",
       "      <td>1583.0</td>\n",
       "      <td>2.495622</td>\n",
       "      <td>2.012187</td>\n",
       "      <td>3.206688</td>\n",
       "      <td>6.996337</td>\n",
       "      <td>839</td>\n",
       "    </tr>\n",
       "    <tr>\n",
       "      <th>425</th>\n",
       "      <td>434</td>\n",
       "      <td>1615.0</td>\n",
       "      <td>1594.0</td>\n",
       "      <td>5.186012</td>\n",
       "      <td>3.868012</td>\n",
       "      <td>6.473083</td>\n",
       "      <td>26.548905</td>\n",
       "      <td>916</td>\n",
       "    </tr>\n",
       "  </tbody>\n",
       "</table>\n",
       "</div>"
      ],
      "text/plain": [
       "       key temp_start temp_end  active_power  reactive_power  full_power  \\\n",
       "1730  1749     1606.0   1612.0      4.582827        3.227286    5.611452   \n",
       "840    856     1568.0   1575.0      4.983029        3.435216    6.061871   \n",
       "445    454     1592.0   1591.0      3.879890        2.788381    4.779789   \n",
       "1796  1815     1608.0   1583.0      2.495622        2.012187    3.206688   \n",
       "425    434     1615.0   1594.0      5.186012        3.868012    6.473083   \n",
       "\n",
       "      gas_amount  heating_time_sec  \n",
       "1730    9.712806               874  \n",
       "840    12.670113               896  \n",
       "445    12.784949               869  \n",
       "1796    6.996337               839  \n",
       "425    26.548905               916  "
      ]
     },
     "execution_count": 44,
     "metadata": {},
     "output_type": "execute_result"
    }
   ],
   "source": [
    "df_full = df_full.merge(df_ht_sum, on='key')\n",
    "df_full.sample(5)"
   ]
  },
  {
   "cell_type": "markdown",
   "id": "bd121aef-9ece-400f-a690-38410e09d7cc",
   "metadata": {},
   "source": [
    "Количество проволоки."
   ]
  },
  {
   "cell_type": "code",
   "execution_count": 45,
   "id": "60d1897c-2f85-4f57-a98b-5868db935d02",
   "metadata": {},
   "outputs": [
    {
     "data": {
      "text/html": [
       "<div>\n",
       "<style scoped>\n",
       "    .dataframe tbody tr th:only-of-type {\n",
       "        vertical-align: middle;\n",
       "    }\n",
       "\n",
       "    .dataframe tbody tr th {\n",
       "        vertical-align: top;\n",
       "    }\n",
       "\n",
       "    .dataframe thead th {\n",
       "        text-align: right;\n",
       "    }\n",
       "</style>\n",
       "<table border=\"1\" class=\"dataframe\">\n",
       "  <thead>\n",
       "    <tr style=\"text-align: right;\">\n",
       "      <th></th>\n",
       "      <th>key</th>\n",
       "      <th>temp_start</th>\n",
       "      <th>temp_end</th>\n",
       "      <th>active_power</th>\n",
       "      <th>reactive_power</th>\n",
       "      <th>full_power</th>\n",
       "      <th>gas_amount</th>\n",
       "      <th>heating_time_sec</th>\n",
       "      <th>wire_full</th>\n",
       "    </tr>\n",
       "  </thead>\n",
       "  <tbody>\n",
       "    <tr>\n",
       "      <th>537</th>\n",
       "      <td>575</td>\n",
       "      <td>1562.0</td>\n",
       "      <td>1591.0</td>\n",
       "      <td>1.705407</td>\n",
       "      <td>1.188154</td>\n",
       "      <td>2.079358</td>\n",
       "      <td>6.696740</td>\n",
       "      <td>668</td>\n",
       "      <td>145.426316</td>\n",
       "    </tr>\n",
       "    <tr>\n",
       "      <th>715</th>\n",
       "      <td>765</td>\n",
       "      <td>1652.0</td>\n",
       "      <td>1596.0</td>\n",
       "      <td>1.182207</td>\n",
       "      <td>0.916670</td>\n",
       "      <td>1.497809</td>\n",
       "      <td>5.458366</td>\n",
       "      <td>224</td>\n",
       "      <td>80.776797</td>\n",
       "    </tr>\n",
       "    <tr>\n",
       "      <th>1139</th>\n",
       "      <td>1210</td>\n",
       "      <td>1581.0</td>\n",
       "      <td>1588.0</td>\n",
       "      <td>2.204575</td>\n",
       "      <td>1.632876</td>\n",
       "      <td>2.744885</td>\n",
       "      <td>5.941391</td>\n",
       "      <td>450</td>\n",
       "      <td>67.953598</td>\n",
       "    </tr>\n",
       "    <tr>\n",
       "      <th>401</th>\n",
       "      <td>436</td>\n",
       "      <td>1593.0</td>\n",
       "      <td>1575.0</td>\n",
       "      <td>1.232722</td>\n",
       "      <td>0.765612</td>\n",
       "      <td>1.451178</td>\n",
       "      <td>7.100680</td>\n",
       "      <td>267</td>\n",
       "      <td>36.220081</td>\n",
       "    </tr>\n",
       "    <tr>\n",
       "      <th>1507</th>\n",
       "      <td>1589</td>\n",
       "      <td>1598.0</td>\n",
       "      <td>1621.0</td>\n",
       "      <td>3.084405</td>\n",
       "      <td>2.193066</td>\n",
       "      <td>3.788054</td>\n",
       "      <td>9.096814</td>\n",
       "      <td>735</td>\n",
       "      <td>170.024414</td>\n",
       "    </tr>\n",
       "  </tbody>\n",
       "</table>\n",
       "</div>"
      ],
      "text/plain": [
       "       key temp_start temp_end  active_power  reactive_power  full_power  \\\n",
       "537    575     1562.0   1591.0      1.705407        1.188154    2.079358   \n",
       "715    765     1652.0   1596.0      1.182207        0.916670    1.497809   \n",
       "1139  1210     1581.0   1588.0      2.204575        1.632876    2.744885   \n",
       "401    436     1593.0   1575.0      1.232722        0.765612    1.451178   \n",
       "1507  1589     1598.0   1621.0      3.084405        2.193066    3.788054   \n",
       "\n",
       "      gas_amount  heating_time_sec   wire_full  \n",
       "537     6.696740               668  145.426316  \n",
       "715     5.458366               224   80.776797  \n",
       "1139    5.941391               450   67.953598  \n",
       "401     7.100680               267   36.220081  \n",
       "1507    9.096814               735  170.024414  "
      ]
     },
     "execution_count": 45,
     "metadata": {},
     "output_type": "execute_result"
    }
   ],
   "source": [
    "df_full = df_full.merge(df_wire_upd, on='key')\n",
    "df_full.sample(5)"
   ]
  },
  {
   "cell_type": "markdown",
   "id": "04c0f9c4-d10b-4046-95ca-eae987e00169",
   "metadata": {},
   "source": [
    "Количество сыпучих добавок."
   ]
  },
  {
   "cell_type": "code",
   "execution_count": 46,
   "id": "900e6e89-aea7-4a52-903e-65556f3ce415",
   "metadata": {},
   "outputs": [
    {
     "data": {
      "text/html": [
       "<div>\n",
       "<style scoped>\n",
       "    .dataframe tbody tr th:only-of-type {\n",
       "        vertical-align: middle;\n",
       "    }\n",
       "\n",
       "    .dataframe tbody tr th {\n",
       "        vertical-align: top;\n",
       "    }\n",
       "\n",
       "    .dataframe thead th {\n",
       "        text-align: right;\n",
       "    }\n",
       "</style>\n",
       "<table border=\"1\" class=\"dataframe\">\n",
       "  <thead>\n",
       "    <tr style=\"text-align: right;\">\n",
       "      <th></th>\n",
       "      <th>key</th>\n",
       "      <th>temp_start</th>\n",
       "      <th>temp_end</th>\n",
       "      <th>active_power</th>\n",
       "      <th>reactive_power</th>\n",
       "      <th>full_power</th>\n",
       "      <th>gas_amount</th>\n",
       "      <th>heating_time_sec</th>\n",
       "      <th>wire_full</th>\n",
       "      <th>bulk_full</th>\n",
       "    </tr>\n",
       "  </thead>\n",
       "  <tbody>\n",
       "    <tr>\n",
       "      <th>1839</th>\n",
       "      <td>1964</td>\n",
       "      <td>1540.0</td>\n",
       "      <td>1575.0</td>\n",
       "      <td>4.461346</td>\n",
       "      <td>2.976758</td>\n",
       "      <td>5.365609</td>\n",
       "      <td>12.226091</td>\n",
       "      <td>1233</td>\n",
       "      <td>50.057281</td>\n",
       "      <td>533.0</td>\n",
       "    </tr>\n",
       "    <tr>\n",
       "      <th>323</th>\n",
       "      <td>362</td>\n",
       "      <td>1581.0</td>\n",
       "      <td>1592.0</td>\n",
       "      <td>3.224507</td>\n",
       "      <td>2.464910</td>\n",
       "      <td>4.059876</td>\n",
       "      <td>5.441219</td>\n",
       "      <td>564</td>\n",
       "      <td>115.268402</td>\n",
       "      <td>651.0</td>\n",
       "    </tr>\n",
       "    <tr>\n",
       "      <th>502</th>\n",
       "      <td>549</td>\n",
       "      <td>1594.0</td>\n",
       "      <td>1587.0</td>\n",
       "      <td>1.449184</td>\n",
       "      <td>1.180530</td>\n",
       "      <td>1.869819</td>\n",
       "      <td>15.931603</td>\n",
       "      <td>830</td>\n",
       "      <td>88.384393</td>\n",
       "      <td>1046.0</td>\n",
       "    </tr>\n",
       "    <tr>\n",
       "      <th>1656</th>\n",
       "      <td>1774</td>\n",
       "      <td>1620.0</td>\n",
       "      <td>1597.0</td>\n",
       "      <td>1.412080</td>\n",
       "      <td>1.019235</td>\n",
       "      <td>1.744876</td>\n",
       "      <td>2.525262</td>\n",
       "      <td>245</td>\n",
       "      <td>67.064400</td>\n",
       "      <td>29.0</td>\n",
       "    </tr>\n",
       "    <tr>\n",
       "      <th>1182</th>\n",
       "      <td>1274</td>\n",
       "      <td>1583.0</td>\n",
       "      <td>1591.0</td>\n",
       "      <td>4.314708</td>\n",
       "      <td>3.394599</td>\n",
       "      <td>5.497225</td>\n",
       "      <td>7.957930</td>\n",
       "      <td>833</td>\n",
       "      <td>78.155998</td>\n",
       "      <td>585.0</td>\n",
       "    </tr>\n",
       "  </tbody>\n",
       "</table>\n",
       "</div>"
      ],
      "text/plain": [
       "       key temp_start temp_end  active_power  reactive_power  full_power  \\\n",
       "1839  1964     1540.0   1575.0      4.461346        2.976758    5.365609   \n",
       "323    362     1581.0   1592.0      3.224507        2.464910    4.059876   \n",
       "502    549     1594.0   1587.0      1.449184        1.180530    1.869819   \n",
       "1656  1774     1620.0   1597.0      1.412080        1.019235    1.744876   \n",
       "1182  1274     1583.0   1591.0      4.314708        3.394599    5.497225   \n",
       "\n",
       "      gas_amount  heating_time_sec   wire_full  bulk_full  \n",
       "1839   12.226091              1233   50.057281      533.0  \n",
       "323     5.441219               564  115.268402      651.0  \n",
       "502    15.931603               830   88.384393     1046.0  \n",
       "1656    2.525262               245   67.064400       29.0  \n",
       "1182    7.957930               833   78.155998      585.0  "
      ]
     },
     "execution_count": 46,
     "metadata": {},
     "output_type": "execute_result"
    }
   ],
   "source": [
    "df_full = df_full.merge(df_bulk_upd, on='key')\n",
    "df_full.sample(5)"
   ]
  },
  {
   "cell_type": "markdown",
   "id": "240a7e08-7760-415b-80c3-f951afdb7fea",
   "metadata": {},
   "source": [
    "Проверяем информацию о таблице."
   ]
  },
  {
   "cell_type": "code",
   "execution_count": 47,
   "id": "f7c607be-1555-481c-8c2d-311d1f46e1ac",
   "metadata": {},
   "outputs": [
    {
     "name": "stdout",
     "output_type": "stream",
     "text": [
      "<class 'pandas.core.frame.DataFrame'>\n",
      "RangeIndex: 2329 entries, 0 to 2328\n",
      "Data columns (total 10 columns):\n",
      " #   Column            Non-Null Count  Dtype  \n",
      "---  ------            --------------  -----  \n",
      " 0   key               2329 non-null   object \n",
      " 1   temp_start        2329 non-null   object \n",
      " 2   temp_end          2329 non-null   object \n",
      " 3   active_power      2329 non-null   float64\n",
      " 4   reactive_power    2329 non-null   float64\n",
      " 5   full_power        2329 non-null   float64\n",
      " 6   gas_amount        2329 non-null   float64\n",
      " 7   heating_time_sec  2329 non-null   int32  \n",
      " 8   wire_full         2329 non-null   float64\n",
      " 9   bulk_full         2329 non-null   float64\n",
      "dtypes: float64(6), int32(1), object(3)\n",
      "memory usage: 173.0+ KB\n"
     ]
    }
   ],
   "source": [
    "df_full.info()"
   ]
  },
  {
   "cell_type": "markdown",
   "id": "06a0a072-3490-420e-b42f-8e408af8fc2d",
   "metadata": {},
   "source": [
    "Переводим оставшиеся столбцы в int64."
   ]
  },
  {
   "cell_type": "code",
   "execution_count": 48,
   "id": "f738bc20-d291-4c0e-bd38-48bee74db79b",
   "metadata": {},
   "outputs": [],
   "source": [
    "df_full['temp_start'] = df_full['temp_start'].astype('int64')\n",
    "df_full['temp_end'] = df_full['temp_end'].astype('int64')"
   ]
  },
  {
   "cell_type": "markdown",
   "id": "b1d337de-2233-40ae-b141-8d59dd7b6581",
   "metadata": {},
   "source": [
    "И еще раз смотрим на данные."
   ]
  },
  {
   "cell_type": "code",
   "execution_count": 49,
   "id": "ba11727d-afe4-42ff-a566-8bf2f0d7b456",
   "metadata": {},
   "outputs": [
    {
     "data": {
      "text/html": [
       "<div>\n",
       "<style scoped>\n",
       "    .dataframe tbody tr th:only-of-type {\n",
       "        vertical-align: middle;\n",
       "    }\n",
       "\n",
       "    .dataframe tbody tr th {\n",
       "        vertical-align: top;\n",
       "    }\n",
       "\n",
       "    .dataframe thead th {\n",
       "        text-align: right;\n",
       "    }\n",
       "</style>\n",
       "<table border=\"1\" class=\"dataframe\">\n",
       "  <thead>\n",
       "    <tr style=\"text-align: right;\">\n",
       "      <th></th>\n",
       "      <th>count</th>\n",
       "      <th>mean</th>\n",
       "      <th>std</th>\n",
       "      <th>min</th>\n",
       "      <th>25%</th>\n",
       "      <th>50%</th>\n",
       "      <th>75%</th>\n",
       "      <th>max</th>\n",
       "    </tr>\n",
       "  </thead>\n",
       "  <tbody>\n",
       "    <tr>\n",
       "      <th>temp_start</th>\n",
       "      <td>2329.0</td>\n",
       "      <td>1586.718763</td>\n",
       "      <td>28.290792</td>\n",
       "      <td>1191.000000</td>\n",
       "      <td>1571.000000</td>\n",
       "      <td>1587.000000</td>\n",
       "      <td>1603.000000</td>\n",
       "      <td>1660.000000</td>\n",
       "    </tr>\n",
       "    <tr>\n",
       "      <th>temp_end</th>\n",
       "      <td>2329.0</td>\n",
       "      <td>1593.365393</td>\n",
       "      <td>11.200915</td>\n",
       "      <td>1541.000000</td>\n",
       "      <td>1587.000000</td>\n",
       "      <td>1593.000000</td>\n",
       "      <td>1598.000000</td>\n",
       "      <td>1653.000000</td>\n",
       "    </tr>\n",
       "    <tr>\n",
       "      <th>active_power</th>\n",
       "      <td>2329.0</td>\n",
       "      <td>3.125033</td>\n",
       "      <td>1.221007</td>\n",
       "      <td>0.267676</td>\n",
       "      <td>2.293900</td>\n",
       "      <td>3.035365</td>\n",
       "      <td>3.834300</td>\n",
       "      <td>12.375636</td>\n",
       "    </tr>\n",
       "    <tr>\n",
       "      <th>reactive_power</th>\n",
       "      <td>2329.0</td>\n",
       "      <td>2.300522</td>\n",
       "      <td>0.903968</td>\n",
       "      <td>0.196228</td>\n",
       "      <td>1.669572</td>\n",
       "      <td>2.225398</td>\n",
       "      <td>2.829159</td>\n",
       "      <td>8.949049</td>\n",
       "    </tr>\n",
       "    <tr>\n",
       "      <th>full_power</th>\n",
       "      <td>2329.0</td>\n",
       "      <td>3.884654</td>\n",
       "      <td>1.518157</td>\n",
       "      <td>0.331897</td>\n",
       "      <td>2.843058</td>\n",
       "      <td>3.767499</td>\n",
       "      <td>4.769421</td>\n",
       "      <td>15.288271</td>\n",
       "    </tr>\n",
       "    <tr>\n",
       "      <th>gas_amount</th>\n",
       "      <td>2329.0</td>\n",
       "      <td>11.375600</td>\n",
       "      <td>6.392041</td>\n",
       "      <td>0.008399</td>\n",
       "      <td>7.282948</td>\n",
       "      <td>10.100950</td>\n",
       "      <td>14.216688</td>\n",
       "      <td>77.995040</td>\n",
       "    </tr>\n",
       "    <tr>\n",
       "      <th>heating_time_sec</th>\n",
       "      <td>2329.0</td>\n",
       "      <td>807.600687</td>\n",
       "      <td>340.897332</td>\n",
       "      <td>57.000000</td>\n",
       "      <td>581.000000</td>\n",
       "      <td>778.000000</td>\n",
       "      <td>993.000000</td>\n",
       "      <td>4189.000000</td>\n",
       "    </tr>\n",
       "    <tr>\n",
       "      <th>wire_full</th>\n",
       "      <td>2329.0</td>\n",
       "      <td>125.208530</td>\n",
       "      <td>63.683386</td>\n",
       "      <td>1.918800</td>\n",
       "      <td>89.013596</td>\n",
       "      <td>116.101440</td>\n",
       "      <td>151.568558</td>\n",
       "      <td>568.777664</td>\n",
       "    </tr>\n",
       "    <tr>\n",
       "      <th>bulk_full</th>\n",
       "      <td>2329.0</td>\n",
       "      <td>609.630313</td>\n",
       "      <td>287.599678</td>\n",
       "      <td>19.000000</td>\n",
       "      <td>440.000000</td>\n",
       "      <td>609.000000</td>\n",
       "      <td>795.000000</td>\n",
       "      <td>3235.000000</td>\n",
       "    </tr>\n",
       "  </tbody>\n",
       "</table>\n",
       "</div>"
      ],
      "text/plain": [
       "                   count         mean         std          min          25%  \\\n",
       "temp_start        2329.0  1586.718763   28.290792  1191.000000  1571.000000   \n",
       "temp_end          2329.0  1593.365393   11.200915  1541.000000  1587.000000   \n",
       "active_power      2329.0     3.125033    1.221007     0.267676     2.293900   \n",
       "reactive_power    2329.0     2.300522    0.903968     0.196228     1.669572   \n",
       "full_power        2329.0     3.884654    1.518157     0.331897     2.843058   \n",
       "gas_amount        2329.0    11.375600    6.392041     0.008399     7.282948   \n",
       "heating_time_sec  2329.0   807.600687  340.897332    57.000000   581.000000   \n",
       "wire_full         2329.0   125.208530   63.683386     1.918800    89.013596   \n",
       "bulk_full         2329.0   609.630313  287.599678    19.000000   440.000000   \n",
       "\n",
       "                          50%          75%          max  \n",
       "temp_start        1587.000000  1603.000000  1660.000000  \n",
       "temp_end          1593.000000  1598.000000  1653.000000  \n",
       "active_power         3.035365     3.834300    12.375636  \n",
       "reactive_power       2.225398     2.829159     8.949049  \n",
       "full_power           3.767499     4.769421    15.288271  \n",
       "gas_amount          10.100950    14.216688    77.995040  \n",
       "heating_time_sec   778.000000   993.000000  4189.000000  \n",
       "wire_full          116.101440   151.568558   568.777664  \n",
       "bulk_full          609.000000   795.000000  3235.000000  "
      ]
     },
     "execution_count": 49,
     "metadata": {},
     "output_type": "execute_result"
    }
   ],
   "source": [
    "df_full.describe().T"
   ]
  },
  {
   "cell_type": "markdown",
   "id": "3ad82bb8-c961-49cb-873d-ee54ccce4c92",
   "metadata": {},
   "source": [
    "Посмотрим на зависимости."
   ]
  },
  {
   "cell_type": "code",
   "execution_count": 50,
   "id": "c7467dac-a71b-4551-9774-a08a80d146cf",
   "metadata": {},
   "outputs": [
    {
     "data": {
      "text/html": [
       "<div>\n",
       "<style scoped>\n",
       "    .dataframe tbody tr th:only-of-type {\n",
       "        vertical-align: middle;\n",
       "    }\n",
       "\n",
       "    .dataframe tbody tr th {\n",
       "        vertical-align: top;\n",
       "    }\n",
       "\n",
       "    .dataframe thead th {\n",
       "        text-align: right;\n",
       "    }\n",
       "</style>\n",
       "<table border=\"1\" class=\"dataframe\">\n",
       "  <thead>\n",
       "    <tr style=\"text-align: right;\">\n",
       "      <th></th>\n",
       "      <th>key</th>\n",
       "      <th>temp_start</th>\n",
       "      <th>temp_end</th>\n",
       "      <th>active_power</th>\n",
       "      <th>reactive_power</th>\n",
       "      <th>full_power</th>\n",
       "      <th>gas_amount</th>\n",
       "      <th>heating_time_sec</th>\n",
       "      <th>wire_full</th>\n",
       "      <th>bulk_full</th>\n",
       "    </tr>\n",
       "  </thead>\n",
       "  <tbody>\n",
       "    <tr>\n",
       "      <th>key</th>\n",
       "      <td>1.000000</td>\n",
       "      <td>-0.019186</td>\n",
       "      <td>-0.097242</td>\n",
       "      <td>-0.023422</td>\n",
       "      <td>-0.021349</td>\n",
       "      <td>-0.022668</td>\n",
       "      <td>-0.043486</td>\n",
       "      <td>-0.029519</td>\n",
       "      <td>0.002886</td>\n",
       "      <td>-0.026203</td>\n",
       "    </tr>\n",
       "    <tr>\n",
       "      <th>temp_start</th>\n",
       "      <td>-0.019186</td>\n",
       "      <td>1.000000</td>\n",
       "      <td>0.252443</td>\n",
       "      <td>-0.119724</td>\n",
       "      <td>-0.120394</td>\n",
       "      <td>-0.120201</td>\n",
       "      <td>0.037341</td>\n",
       "      <td>-0.304995</td>\n",
       "      <td>0.104003</td>\n",
       "      <td>-0.077137</td>\n",
       "    </tr>\n",
       "    <tr>\n",
       "      <th>temp_end</th>\n",
       "      <td>-0.097242</td>\n",
       "      <td>0.252443</td>\n",
       "      <td>1.000000</td>\n",
       "      <td>0.177339</td>\n",
       "      <td>0.171878</td>\n",
       "      <td>0.175668</td>\n",
       "      <td>0.059160</td>\n",
       "      <td>0.278716</td>\n",
       "      <td>0.061061</td>\n",
       "      <td>0.222658</td>\n",
       "    </tr>\n",
       "    <tr>\n",
       "      <th>active_power</th>\n",
       "      <td>-0.023422</td>\n",
       "      <td>-0.119724</td>\n",
       "      <td>0.177339</td>\n",
       "      <td>1.000000</td>\n",
       "      <td>0.992424</td>\n",
       "      <td>0.999030</td>\n",
       "      <td>0.370985</td>\n",
       "      <td>0.721249</td>\n",
       "      <td>0.167982</td>\n",
       "      <td>0.388297</td>\n",
       "    </tr>\n",
       "    <tr>\n",
       "      <th>reactive_power</th>\n",
       "      <td>-0.021349</td>\n",
       "      <td>-0.120394</td>\n",
       "      <td>0.171878</td>\n",
       "      <td>0.992424</td>\n",
       "      <td>1.000000</td>\n",
       "      <td>0.996868</td>\n",
       "      <td>0.367954</td>\n",
       "      <td>0.713422</td>\n",
       "      <td>0.167753</td>\n",
       "      <td>0.384299</td>\n",
       "    </tr>\n",
       "    <tr>\n",
       "      <th>full_power</th>\n",
       "      <td>-0.022668</td>\n",
       "      <td>-0.120201</td>\n",
       "      <td>0.175668</td>\n",
       "      <td>0.999030</td>\n",
       "      <td>0.996868</td>\n",
       "      <td>1.000000</td>\n",
       "      <td>0.370555</td>\n",
       "      <td>0.719734</td>\n",
       "      <td>0.168215</td>\n",
       "      <td>0.387519</td>\n",
       "    </tr>\n",
       "    <tr>\n",
       "      <th>gas_amount</th>\n",
       "      <td>-0.043486</td>\n",
       "      <td>0.037341</td>\n",
       "      <td>0.059160</td>\n",
       "      <td>0.370985</td>\n",
       "      <td>0.367954</td>\n",
       "      <td>0.370555</td>\n",
       "      <td>1.000000</td>\n",
       "      <td>0.396306</td>\n",
       "      <td>0.215411</td>\n",
       "      <td>0.314006</td>\n",
       "    </tr>\n",
       "    <tr>\n",
       "      <th>heating_time_sec</th>\n",
       "      <td>-0.029519</td>\n",
       "      <td>-0.304995</td>\n",
       "      <td>0.278716</td>\n",
       "      <td>0.721249</td>\n",
       "      <td>0.713422</td>\n",
       "      <td>0.719734</td>\n",
       "      <td>0.396306</td>\n",
       "      <td>1.000000</td>\n",
       "      <td>0.091965</td>\n",
       "      <td>0.551844</td>\n",
       "    </tr>\n",
       "    <tr>\n",
       "      <th>wire_full</th>\n",
       "      <td>0.002886</td>\n",
       "      <td>0.104003</td>\n",
       "      <td>0.061061</td>\n",
       "      <td>0.167982</td>\n",
       "      <td>0.167753</td>\n",
       "      <td>0.168215</td>\n",
       "      <td>0.215411</td>\n",
       "      <td>0.091965</td>\n",
       "      <td>1.000000</td>\n",
       "      <td>0.007119</td>\n",
       "    </tr>\n",
       "    <tr>\n",
       "      <th>bulk_full</th>\n",
       "      <td>-0.026203</td>\n",
       "      <td>-0.077137</td>\n",
       "      <td>0.222658</td>\n",
       "      <td>0.388297</td>\n",
       "      <td>0.384299</td>\n",
       "      <td>0.387519</td>\n",
       "      <td>0.314006</td>\n",
       "      <td>0.551844</td>\n",
       "      <td>0.007119</td>\n",
       "      <td>1.000000</td>\n",
       "    </tr>\n",
       "  </tbody>\n",
       "</table>\n",
       "</div>"
      ],
      "text/plain": [
       "                       key  temp_start  temp_end  active_power  \\\n",
       "key               1.000000   -0.019186 -0.097242     -0.023422   \n",
       "temp_start       -0.019186    1.000000  0.252443     -0.119724   \n",
       "temp_end         -0.097242    0.252443  1.000000      0.177339   \n",
       "active_power     -0.023422   -0.119724  0.177339      1.000000   \n",
       "reactive_power   -0.021349   -0.120394  0.171878      0.992424   \n",
       "full_power       -0.022668   -0.120201  0.175668      0.999030   \n",
       "gas_amount       -0.043486    0.037341  0.059160      0.370985   \n",
       "heating_time_sec -0.029519   -0.304995  0.278716      0.721249   \n",
       "wire_full         0.002886    0.104003  0.061061      0.167982   \n",
       "bulk_full        -0.026203   -0.077137  0.222658      0.388297   \n",
       "\n",
       "                  reactive_power  full_power  gas_amount  heating_time_sec  \\\n",
       "key                    -0.021349   -0.022668   -0.043486         -0.029519   \n",
       "temp_start             -0.120394   -0.120201    0.037341         -0.304995   \n",
       "temp_end                0.171878    0.175668    0.059160          0.278716   \n",
       "active_power            0.992424    0.999030    0.370985          0.721249   \n",
       "reactive_power          1.000000    0.996868    0.367954          0.713422   \n",
       "full_power              0.996868    1.000000    0.370555          0.719734   \n",
       "gas_amount              0.367954    0.370555    1.000000          0.396306   \n",
       "heating_time_sec        0.713422    0.719734    0.396306          1.000000   \n",
       "wire_full               0.167753    0.168215    0.215411          0.091965   \n",
       "bulk_full               0.384299    0.387519    0.314006          0.551844   \n",
       "\n",
       "                  wire_full  bulk_full  \n",
       "key                0.002886  -0.026203  \n",
       "temp_start         0.104003  -0.077137  \n",
       "temp_end           0.061061   0.222658  \n",
       "active_power       0.167982   0.388297  \n",
       "reactive_power     0.167753   0.384299  \n",
       "full_power         0.168215   0.387519  \n",
       "gas_amount         0.215411   0.314006  \n",
       "heating_time_sec   0.091965   0.551844  \n",
       "wire_full          1.000000   0.007119  \n",
       "bulk_full          0.007119   1.000000  "
      ]
     },
     "execution_count": 50,
     "metadata": {},
     "output_type": "execute_result"
    }
   ],
   "source": [
    "corr = df_full.corr()\n",
    "corr"
   ]
  },
  {
   "cell_type": "code",
   "execution_count": 51,
   "id": "142edcd5-4bc2-4136-845f-cbac2aa3843b",
   "metadata": {},
   "outputs": [
    {
     "data": {
      "text/html": [
       "<style type=\"text/css\">\n",
       "#T_32462_row0_col0, #T_32462_row1_col1, #T_32462_row2_col2, #T_32462_row3_col3, #T_32462_row3_col5, #T_32462_row4_col4, #T_32462_row4_col5, #T_32462_row5_col3, #T_32462_row5_col4, #T_32462_row5_col5, #T_32462_row6_col6, #T_32462_row7_col7, #T_32462_row8_col8, #T_32462_row9_col9 {\n",
       "  background-color: #b40426;\n",
       "  color: #f1f1f1;\n",
       "}\n",
       "#T_32462_row0_col1 {\n",
       "  background-color: #82a6fb;\n",
       "  color: #f1f1f1;\n",
       "}\n",
       "#T_32462_row0_col2, #T_32462_row0_col6, #T_32462_row0_col8, #T_32462_row1_col3, #T_32462_row1_col4, #T_32462_row1_col5, #T_32462_row1_col7, #T_32462_row1_col9, #T_32462_row2_col0, #T_32462_row7_col1 {\n",
       "  background-color: #3b4cc0;\n",
       "  color: #f1f1f1;\n",
       "}\n",
       "#T_32462_row0_col3, #T_32462_row0_col4, #T_32462_row0_col5, #T_32462_row7_col8 {\n",
       "  background-color: #5572df;\n",
       "  color: #f1f1f1;\n",
       "}\n",
       "#T_32462_row0_col7, #T_32462_row6_col8 {\n",
       "  background-color: #80a3fa;\n",
       "  color: #f1f1f1;\n",
       "}\n",
       "#T_32462_row0_col9, #T_32462_row6_col0 {\n",
       "  background-color: #4961d2;\n",
       "  color: #f1f1f1;\n",
       "}\n",
       "#T_32462_row1_col0 {\n",
       "  background-color: #506bda;\n",
       "  color: #f1f1f1;\n",
       "}\n",
       "#T_32462_row1_col2 {\n",
       "  background-color: #a5c3fe;\n",
       "  color: #000000;\n",
       "}\n",
       "#T_32462_row1_col6 {\n",
       "  background-color: #516ddb;\n",
       "  color: #f1f1f1;\n",
       "}\n",
       "#T_32462_row1_col8, #T_32462_row2_col6 {\n",
       "  background-color: #5977e3;\n",
       "  color: #f1f1f1;\n",
       "}\n",
       "#T_32462_row2_col1, #T_32462_row4_col9 {\n",
       "  background-color: #c9d7f0;\n",
       "  color: #000000;\n",
       "}\n",
       "#T_32462_row2_col3, #T_32462_row2_col5, #T_32462_row6_col1 {\n",
       "  background-color: #92b4fe;\n",
       "  color: #000000;\n",
       "}\n",
       "#T_32462_row2_col4 {\n",
       "  background-color: #90b2fe;\n",
       "  color: #000000;\n",
       "}\n",
       "#T_32462_row2_col7 {\n",
       "  background-color: #cedaeb;\n",
       "  color: #000000;\n",
       "}\n",
       "#T_32462_row2_col8 {\n",
       "  background-color: #4b64d5;\n",
       "  color: #f1f1f1;\n",
       "}\n",
       "#T_32462_row2_col9 {\n",
       "  background-color: #97b8ff;\n",
       "  color: #000000;\n",
       "}\n",
       "#T_32462_row3_col0, #T_32462_row4_col0, #T_32462_row5_col0 {\n",
       "  background-color: #4f69d9;\n",
       "  color: #f1f1f1;\n",
       "}\n",
       "#T_32462_row3_col1, #T_32462_row4_col1, #T_32462_row5_col1, #T_32462_row6_col2, #T_32462_row8_col2 {\n",
       "  background-color: #6788ee;\n",
       "  color: #f1f1f1;\n",
       "}\n",
       "#T_32462_row3_col2 {\n",
       "  background-color: #8db0fe;\n",
       "  color: #000000;\n",
       "}\n",
       "#T_32462_row3_col4, #T_32462_row4_col3 {\n",
       "  background-color: #b50927;\n",
       "  color: #f1f1f1;\n",
       "}\n",
       "#T_32462_row3_col6, #T_32462_row5_col6 {\n",
       "  background-color: #bfd3f6;\n",
       "  color: #000000;\n",
       "}\n",
       "#T_32462_row3_col7, #T_32462_row5_col7 {\n",
       "  background-color: #f08a6c;\n",
       "  color: #f1f1f1;\n",
       "}\n",
       "#T_32462_row3_col8, #T_32462_row4_col8, #T_32462_row5_col8 {\n",
       "  background-color: #6f92f3;\n",
       "  color: #f1f1f1;\n",
       "}\n",
       "#T_32462_row3_col9, #T_32462_row5_col9 {\n",
       "  background-color: #cad8ef;\n",
       "  color: #000000;\n",
       "}\n",
       "#T_32462_row4_col2 {\n",
       "  background-color: #8badfd;\n",
       "  color: #000000;\n",
       "}\n",
       "#T_32462_row4_col6 {\n",
       "  background-color: #bed2f6;\n",
       "  color: #000000;\n",
       "}\n",
       "#T_32462_row4_col7 {\n",
       "  background-color: #f18d6f;\n",
       "  color: #f1f1f1;\n",
       "}\n",
       "#T_32462_row5_col2, #T_32462_row8_col6 {\n",
       "  background-color: #8caffe;\n",
       "  color: #000000;\n",
       "}\n",
       "#T_32462_row6_col3, #T_32462_row6_col5 {\n",
       "  background-color: #ccd9ed;\n",
       "  color: #000000;\n",
       "}\n",
       "#T_32462_row6_col4 {\n",
       "  background-color: #cbd8ee;\n",
       "  color: #000000;\n",
       "}\n",
       "#T_32462_row6_col7 {\n",
       "  background-color: #e6d7cf;\n",
       "  color: #000000;\n",
       "}\n",
       "#T_32462_row6_col9 {\n",
       "  background-color: #b3cdfb;\n",
       "  color: #000000;\n",
       "}\n",
       "#T_32462_row7_col0 {\n",
       "  background-color: #4c66d6;\n",
       "  color: #f1f1f1;\n",
       "}\n",
       "#T_32462_row7_col2, #T_32462_row9_col6 {\n",
       "  background-color: #adc9fd;\n",
       "  color: #000000;\n",
       "}\n",
       "#T_32462_row7_col3 {\n",
       "  background-color: #f4987a;\n",
       "  color: #000000;\n",
       "}\n",
       "#T_32462_row7_col4 {\n",
       "  background-color: #f59c7d;\n",
       "  color: #000000;\n",
       "}\n",
       "#T_32462_row7_col5 {\n",
       "  background-color: #f49a7b;\n",
       "  color: #000000;\n",
       "}\n",
       "#T_32462_row7_col6 {\n",
       "  background-color: #c6d6f1;\n",
       "  color: #000000;\n",
       "}\n",
       "#T_32462_row7_col9 {\n",
       "  background-color: #efcebd;\n",
       "  color: #000000;\n",
       "}\n",
       "#T_32462_row8_col0 {\n",
       "  background-color: #5673e0;\n",
       "  color: #f1f1f1;\n",
       "}\n",
       "#T_32462_row8_col1 {\n",
       "  background-color: #a3c2fe;\n",
       "  color: #000000;\n",
       "}\n",
       "#T_32462_row8_col3, #T_32462_row8_col4, #T_32462_row8_col5 {\n",
       "  background-color: #8fb1fe;\n",
       "  color: #000000;\n",
       "}\n",
       "#T_32462_row8_col7 {\n",
       "  background-color: #9fbfff;\n",
       "  color: #000000;\n",
       "}\n",
       "#T_32462_row8_col9 {\n",
       "  background-color: #536edd;\n",
       "  color: #f1f1f1;\n",
       "}\n",
       "#T_32462_row9_col0 {\n",
       "  background-color: #4e68d8;\n",
       "  color: #f1f1f1;\n",
       "}\n",
       "#T_32462_row9_col1 {\n",
       "  background-color: #7295f4;\n",
       "  color: #f1f1f1;\n",
       "}\n",
       "#T_32462_row9_col2 {\n",
       "  background-color: #9bbcff;\n",
       "  color: #000000;\n",
       "}\n",
       "#T_32462_row9_col3, #T_32462_row9_col5 {\n",
       "  background-color: #d1dae9;\n",
       "  color: #000000;\n",
       "}\n",
       "#T_32462_row9_col4 {\n",
       "  background-color: #cfdaea;\n",
       "  color: #000000;\n",
       "}\n",
       "#T_32462_row9_col7 {\n",
       "  background-color: #f7ba9f;\n",
       "  color: #000000;\n",
       "}\n",
       "#T_32462_row9_col8 {\n",
       "  background-color: #3c4ec2;\n",
       "  color: #f1f1f1;\n",
       "}\n",
       "</style>\n",
       "<table id=\"T_32462\">\n",
       "  <thead>\n",
       "    <tr>\n",
       "      <th class=\"blank level0\" >&nbsp;</th>\n",
       "      <th id=\"T_32462_level0_col0\" class=\"col_heading level0 col0\" >key</th>\n",
       "      <th id=\"T_32462_level0_col1\" class=\"col_heading level0 col1\" >temp_start</th>\n",
       "      <th id=\"T_32462_level0_col2\" class=\"col_heading level0 col2\" >temp_end</th>\n",
       "      <th id=\"T_32462_level0_col3\" class=\"col_heading level0 col3\" >active_power</th>\n",
       "      <th id=\"T_32462_level0_col4\" class=\"col_heading level0 col4\" >reactive_power</th>\n",
       "      <th id=\"T_32462_level0_col5\" class=\"col_heading level0 col5\" >full_power</th>\n",
       "      <th id=\"T_32462_level0_col6\" class=\"col_heading level0 col6\" >gas_amount</th>\n",
       "      <th id=\"T_32462_level0_col7\" class=\"col_heading level0 col7\" >heating_time_sec</th>\n",
       "      <th id=\"T_32462_level0_col8\" class=\"col_heading level0 col8\" >wire_full</th>\n",
       "      <th id=\"T_32462_level0_col9\" class=\"col_heading level0 col9\" >bulk_full</th>\n",
       "    </tr>\n",
       "  </thead>\n",
       "  <tbody>\n",
       "    <tr>\n",
       "      <th id=\"T_32462_level0_row0\" class=\"row_heading level0 row0\" >key</th>\n",
       "      <td id=\"T_32462_row0_col0\" class=\"data row0 col0\" >1.000000</td>\n",
       "      <td id=\"T_32462_row0_col1\" class=\"data row0 col1\" >-0.019186</td>\n",
       "      <td id=\"T_32462_row0_col2\" class=\"data row0 col2\" >-0.097242</td>\n",
       "      <td id=\"T_32462_row0_col3\" class=\"data row0 col3\" >-0.023422</td>\n",
       "      <td id=\"T_32462_row0_col4\" class=\"data row0 col4\" >-0.021349</td>\n",
       "      <td id=\"T_32462_row0_col5\" class=\"data row0 col5\" >-0.022668</td>\n",
       "      <td id=\"T_32462_row0_col6\" class=\"data row0 col6\" >-0.043486</td>\n",
       "      <td id=\"T_32462_row0_col7\" class=\"data row0 col7\" >-0.029519</td>\n",
       "      <td id=\"T_32462_row0_col8\" class=\"data row0 col8\" >0.002886</td>\n",
       "      <td id=\"T_32462_row0_col9\" class=\"data row0 col9\" >-0.026203</td>\n",
       "    </tr>\n",
       "    <tr>\n",
       "      <th id=\"T_32462_level0_row1\" class=\"row_heading level0 row1\" >temp_start</th>\n",
       "      <td id=\"T_32462_row1_col0\" class=\"data row1 col0\" >-0.019186</td>\n",
       "      <td id=\"T_32462_row1_col1\" class=\"data row1 col1\" >1.000000</td>\n",
       "      <td id=\"T_32462_row1_col2\" class=\"data row1 col2\" >0.252443</td>\n",
       "      <td id=\"T_32462_row1_col3\" class=\"data row1 col3\" >-0.119724</td>\n",
       "      <td id=\"T_32462_row1_col4\" class=\"data row1 col4\" >-0.120394</td>\n",
       "      <td id=\"T_32462_row1_col5\" class=\"data row1 col5\" >-0.120201</td>\n",
       "      <td id=\"T_32462_row1_col6\" class=\"data row1 col6\" >0.037341</td>\n",
       "      <td id=\"T_32462_row1_col7\" class=\"data row1 col7\" >-0.304995</td>\n",
       "      <td id=\"T_32462_row1_col8\" class=\"data row1 col8\" >0.104003</td>\n",
       "      <td id=\"T_32462_row1_col9\" class=\"data row1 col9\" >-0.077137</td>\n",
       "    </tr>\n",
       "    <tr>\n",
       "      <th id=\"T_32462_level0_row2\" class=\"row_heading level0 row2\" >temp_end</th>\n",
       "      <td id=\"T_32462_row2_col0\" class=\"data row2 col0\" >-0.097242</td>\n",
       "      <td id=\"T_32462_row2_col1\" class=\"data row2 col1\" >0.252443</td>\n",
       "      <td id=\"T_32462_row2_col2\" class=\"data row2 col2\" >1.000000</td>\n",
       "      <td id=\"T_32462_row2_col3\" class=\"data row2 col3\" >0.177339</td>\n",
       "      <td id=\"T_32462_row2_col4\" class=\"data row2 col4\" >0.171878</td>\n",
       "      <td id=\"T_32462_row2_col5\" class=\"data row2 col5\" >0.175668</td>\n",
       "      <td id=\"T_32462_row2_col6\" class=\"data row2 col6\" >0.059160</td>\n",
       "      <td id=\"T_32462_row2_col7\" class=\"data row2 col7\" >0.278716</td>\n",
       "      <td id=\"T_32462_row2_col8\" class=\"data row2 col8\" >0.061061</td>\n",
       "      <td id=\"T_32462_row2_col9\" class=\"data row2 col9\" >0.222658</td>\n",
       "    </tr>\n",
       "    <tr>\n",
       "      <th id=\"T_32462_level0_row3\" class=\"row_heading level0 row3\" >active_power</th>\n",
       "      <td id=\"T_32462_row3_col0\" class=\"data row3 col0\" >-0.023422</td>\n",
       "      <td id=\"T_32462_row3_col1\" class=\"data row3 col1\" >-0.119724</td>\n",
       "      <td id=\"T_32462_row3_col2\" class=\"data row3 col2\" >0.177339</td>\n",
       "      <td id=\"T_32462_row3_col3\" class=\"data row3 col3\" >1.000000</td>\n",
       "      <td id=\"T_32462_row3_col4\" class=\"data row3 col4\" >0.992424</td>\n",
       "      <td id=\"T_32462_row3_col5\" class=\"data row3 col5\" >0.999030</td>\n",
       "      <td id=\"T_32462_row3_col6\" class=\"data row3 col6\" >0.370985</td>\n",
       "      <td id=\"T_32462_row3_col7\" class=\"data row3 col7\" >0.721249</td>\n",
       "      <td id=\"T_32462_row3_col8\" class=\"data row3 col8\" >0.167982</td>\n",
       "      <td id=\"T_32462_row3_col9\" class=\"data row3 col9\" >0.388297</td>\n",
       "    </tr>\n",
       "    <tr>\n",
       "      <th id=\"T_32462_level0_row4\" class=\"row_heading level0 row4\" >reactive_power</th>\n",
       "      <td id=\"T_32462_row4_col0\" class=\"data row4 col0\" >-0.021349</td>\n",
       "      <td id=\"T_32462_row4_col1\" class=\"data row4 col1\" >-0.120394</td>\n",
       "      <td id=\"T_32462_row4_col2\" class=\"data row4 col2\" >0.171878</td>\n",
       "      <td id=\"T_32462_row4_col3\" class=\"data row4 col3\" >0.992424</td>\n",
       "      <td id=\"T_32462_row4_col4\" class=\"data row4 col4\" >1.000000</td>\n",
       "      <td id=\"T_32462_row4_col5\" class=\"data row4 col5\" >0.996868</td>\n",
       "      <td id=\"T_32462_row4_col6\" class=\"data row4 col6\" >0.367954</td>\n",
       "      <td id=\"T_32462_row4_col7\" class=\"data row4 col7\" >0.713422</td>\n",
       "      <td id=\"T_32462_row4_col8\" class=\"data row4 col8\" >0.167753</td>\n",
       "      <td id=\"T_32462_row4_col9\" class=\"data row4 col9\" >0.384299</td>\n",
       "    </tr>\n",
       "    <tr>\n",
       "      <th id=\"T_32462_level0_row5\" class=\"row_heading level0 row5\" >full_power</th>\n",
       "      <td id=\"T_32462_row5_col0\" class=\"data row5 col0\" >-0.022668</td>\n",
       "      <td id=\"T_32462_row5_col1\" class=\"data row5 col1\" >-0.120201</td>\n",
       "      <td id=\"T_32462_row5_col2\" class=\"data row5 col2\" >0.175668</td>\n",
       "      <td id=\"T_32462_row5_col3\" class=\"data row5 col3\" >0.999030</td>\n",
       "      <td id=\"T_32462_row5_col4\" class=\"data row5 col4\" >0.996868</td>\n",
       "      <td id=\"T_32462_row5_col5\" class=\"data row5 col5\" >1.000000</td>\n",
       "      <td id=\"T_32462_row5_col6\" class=\"data row5 col6\" >0.370555</td>\n",
       "      <td id=\"T_32462_row5_col7\" class=\"data row5 col7\" >0.719734</td>\n",
       "      <td id=\"T_32462_row5_col8\" class=\"data row5 col8\" >0.168215</td>\n",
       "      <td id=\"T_32462_row5_col9\" class=\"data row5 col9\" >0.387519</td>\n",
       "    </tr>\n",
       "    <tr>\n",
       "      <th id=\"T_32462_level0_row6\" class=\"row_heading level0 row6\" >gas_amount</th>\n",
       "      <td id=\"T_32462_row6_col0\" class=\"data row6 col0\" >-0.043486</td>\n",
       "      <td id=\"T_32462_row6_col1\" class=\"data row6 col1\" >0.037341</td>\n",
       "      <td id=\"T_32462_row6_col2\" class=\"data row6 col2\" >0.059160</td>\n",
       "      <td id=\"T_32462_row6_col3\" class=\"data row6 col3\" >0.370985</td>\n",
       "      <td id=\"T_32462_row6_col4\" class=\"data row6 col4\" >0.367954</td>\n",
       "      <td id=\"T_32462_row6_col5\" class=\"data row6 col5\" >0.370555</td>\n",
       "      <td id=\"T_32462_row6_col6\" class=\"data row6 col6\" >1.000000</td>\n",
       "      <td id=\"T_32462_row6_col7\" class=\"data row6 col7\" >0.396306</td>\n",
       "      <td id=\"T_32462_row6_col8\" class=\"data row6 col8\" >0.215411</td>\n",
       "      <td id=\"T_32462_row6_col9\" class=\"data row6 col9\" >0.314006</td>\n",
       "    </tr>\n",
       "    <tr>\n",
       "      <th id=\"T_32462_level0_row7\" class=\"row_heading level0 row7\" >heating_time_sec</th>\n",
       "      <td id=\"T_32462_row7_col0\" class=\"data row7 col0\" >-0.029519</td>\n",
       "      <td id=\"T_32462_row7_col1\" class=\"data row7 col1\" >-0.304995</td>\n",
       "      <td id=\"T_32462_row7_col2\" class=\"data row7 col2\" >0.278716</td>\n",
       "      <td id=\"T_32462_row7_col3\" class=\"data row7 col3\" >0.721249</td>\n",
       "      <td id=\"T_32462_row7_col4\" class=\"data row7 col4\" >0.713422</td>\n",
       "      <td id=\"T_32462_row7_col5\" class=\"data row7 col5\" >0.719734</td>\n",
       "      <td id=\"T_32462_row7_col6\" class=\"data row7 col6\" >0.396306</td>\n",
       "      <td id=\"T_32462_row7_col7\" class=\"data row7 col7\" >1.000000</td>\n",
       "      <td id=\"T_32462_row7_col8\" class=\"data row7 col8\" >0.091965</td>\n",
       "      <td id=\"T_32462_row7_col9\" class=\"data row7 col9\" >0.551844</td>\n",
       "    </tr>\n",
       "    <tr>\n",
       "      <th id=\"T_32462_level0_row8\" class=\"row_heading level0 row8\" >wire_full</th>\n",
       "      <td id=\"T_32462_row8_col0\" class=\"data row8 col0\" >0.002886</td>\n",
       "      <td id=\"T_32462_row8_col1\" class=\"data row8 col1\" >0.104003</td>\n",
       "      <td id=\"T_32462_row8_col2\" class=\"data row8 col2\" >0.061061</td>\n",
       "      <td id=\"T_32462_row8_col3\" class=\"data row8 col3\" >0.167982</td>\n",
       "      <td id=\"T_32462_row8_col4\" class=\"data row8 col4\" >0.167753</td>\n",
       "      <td id=\"T_32462_row8_col5\" class=\"data row8 col5\" >0.168215</td>\n",
       "      <td id=\"T_32462_row8_col6\" class=\"data row8 col6\" >0.215411</td>\n",
       "      <td id=\"T_32462_row8_col7\" class=\"data row8 col7\" >0.091965</td>\n",
       "      <td id=\"T_32462_row8_col8\" class=\"data row8 col8\" >1.000000</td>\n",
       "      <td id=\"T_32462_row8_col9\" class=\"data row8 col9\" >0.007119</td>\n",
       "    </tr>\n",
       "    <tr>\n",
       "      <th id=\"T_32462_level0_row9\" class=\"row_heading level0 row9\" >bulk_full</th>\n",
       "      <td id=\"T_32462_row9_col0\" class=\"data row9 col0\" >-0.026203</td>\n",
       "      <td id=\"T_32462_row9_col1\" class=\"data row9 col1\" >-0.077137</td>\n",
       "      <td id=\"T_32462_row9_col2\" class=\"data row9 col2\" >0.222658</td>\n",
       "      <td id=\"T_32462_row9_col3\" class=\"data row9 col3\" >0.388297</td>\n",
       "      <td id=\"T_32462_row9_col4\" class=\"data row9 col4\" >0.384299</td>\n",
       "      <td id=\"T_32462_row9_col5\" class=\"data row9 col5\" >0.387519</td>\n",
       "      <td id=\"T_32462_row9_col6\" class=\"data row9 col6\" >0.314006</td>\n",
       "      <td id=\"T_32462_row9_col7\" class=\"data row9 col7\" >0.551844</td>\n",
       "      <td id=\"T_32462_row9_col8\" class=\"data row9 col8\" >0.007119</td>\n",
       "      <td id=\"T_32462_row9_col9\" class=\"data row9 col9\" >1.000000</td>\n",
       "    </tr>\n",
       "  </tbody>\n",
       "</table>\n"
      ],
      "text/plain": [
       "<pandas.io.formats.style.Styler at 0x21b84868a60>"
      ]
     },
     "execution_count": 51,
     "metadata": {},
     "output_type": "execute_result"
    }
   ],
   "source": [
    "corr.style.background_gradient(cmap='coolwarm')"
   ]
  },
  {
   "cell_type": "markdown",
   "id": "3f111898-90a2-4da0-8590-36090147fb2d",
   "metadata": {},
   "source": [
    "* На финальную температуру заметно влияет затраченная мощность, длительность нагрева и начальная температура. Что, в целом, логично.\n",
    "* Корреляция не обнаружена между финальной температурой и двумя признаками: объемом инертного газа и количеством потраченной проволоки.\n",
    "* Данные готовы для машинного обучения. Составляем выводы и обучаем модели."
   ]
  },
  {
   "cell_type": "markdown",
   "id": "ed481713-f52a-4762-bff4-8882bf17ee4f",
   "metadata": {},
   "source": [
    "### Вывод"
   ]
  },
  {
   "cell_type": "markdown",
   "id": "a86f7fe8-6a10-44e1-b51a-867f350ab7c6",
   "metadata": {},
   "source": [
    "* Провели этап подготовки данных.\n",
    "* Очистили температуру от ненужных записей, перевели количество сыпучих добавок и затраченной проволоки в суммарный объем. Перевели данные в удобный вид.\n",
    "* Добавили две новые фичи: полная мощность, время нагрева.\n",
    "* Соединили таблицы в один датасет `df_full`.\n",
    "* Замечены корреляции между целевым признаком и параметрами работы электродов. \n",
    "* Количество добавок и газа практически не влияет на изменение финальной температуры.\n",
    "\n",
    "**Переходим к машинному обучению.**"
   ]
  },
  {
   "cell_type": "markdown",
   "id": "46926a79-c54a-41bc-baf6-9e47e5492289",
   "metadata": {},
   "source": [
    "## Машинное обучение"
   ]
  },
  {
   "cell_type": "markdown",
   "id": "2ebececb-a554-4d05-8348-61b7f51c3ec5",
   "metadata": {},
   "source": [
    "* Финальные данные содержат **2329 записей**. \n",
    "* Мы будем использовать две выборки: `обучающую` и `тестовую`.\n",
    "* Валидация будет проводиться `кросс-валидацией` на обучающих данных."
   ]
  },
  {
   "cell_type": "markdown",
   "id": "444abcff-8fed-4333-9d3e-be9923717ede",
   "metadata": {},
   "source": [
    "Для моделирования, рассмотрим несколько деревянных моделей и бустинговые модели, основанные на дереве решений:\n",
    "* Дерево решений\n",
    "* Случайный лес\n",
    "* LightGBM\n",
    "* CatBoost"
   ]
  },
  {
   "cell_type": "markdown",
   "id": "432f60b3",
   "metadata": {},
   "source": [
    "<b>Комментарий студента: поправил</b></font>"
   ]
  },
  {
   "cell_type": "markdown",
   "id": "90c86e75-9a2e-447b-9b6d-f4c539fdcee2",
   "metadata": {},
   "source": [
    "* Разделим датасет на тренировочную и тестовую "
   ]
  },
  {
   "cell_type": "code",
   "execution_count": 52,
   "id": "cafb8239-7464-4b6c-b61d-0a14c234bd02",
   "metadata": {},
   "outputs": [],
   "source": [
    "features = df_full.drop(['key','temp_end'], axis=1)\n",
    "target = df_full['temp_end']\n",
    "\n",
    "X_train, X_test, y_train, y_test = train_test_split(features, target, test_size=.25, random_state=RANDOM_STATE)"
   ]
  },
  {
   "cell_type": "markdown",
   "id": "5b6856c7",
   "metadata": {},
   "source": [
    "<b>Комментарий студента: поправил</b></font>"
   ]
  },
  {
   "cell_type": "code",
   "execution_count": 53,
   "id": "bf7bb450-8dc0-4db3-a1c1-f38b557e7b35",
   "metadata": {},
   "outputs": [
    {
     "name": "stdout",
     "output_type": "stream",
     "text": [
      "(1746, 8) (583, 8) (1746,) (583,)\n"
     ]
    }
   ],
   "source": [
    "print(X_train.shape, X_test.shape, y_train.shape, y_test.shape)"
   ]
  },
  {
   "cell_type": "markdown",
   "id": "93d15c1e-9383-40bf-8b74-a9abb84e4f30",
   "metadata": {},
   "source": [
    "Хорошо, данные готовы"
   ]
  },
  {
   "cell_type": "markdown",
   "id": "ece711bf-af3a-48cc-9b57-fc214d7a3064",
   "metadata": {},
   "source": [
    "#### Проверка модели на адекватность"
   ]
  },
  {
   "cell_type": "markdown",
   "id": "1e0d432d-700c-47a3-83ba-03f46b162523",
   "metadata": {},
   "source": [
    "Обучим дамми модельку предсказывать медианные значения температуры и посмотрим на ее метрики."
   ]
  },
  {
   "cell_type": "code",
   "execution_count": 54,
   "id": "b8157ef3-7e0d-4d7a-9cb7-73f4d1451dfa",
   "metadata": {},
   "outputs": [
    {
     "name": "stdout",
     "output_type": "stream",
     "text": [
      "MAE Dummy: 8.025728987993139\n"
     ]
    }
   ],
   "source": [
    "dummy_regr = DummyRegressor(strategy=\"median\")\n",
    "dummy_regr.fit(X_train, y_train)\n",
    "predicted_dummy = dummy_regr.predict(X_test)\n",
    "\n",
    "mae_on_dummy = mean_absolute_error(y_test, predicted_dummy)\n",
    "print('MAE Dummy:',mae_on_dummy)"
   ]
  },
  {
   "cell_type": "markdown",
   "id": "089234ce-d8f1-4877-ba78-6f4561cee0f5",
   "metadata": {},
   "source": [
    "* Если дамми дала такой результат, значит, мы движемся в верном направлении.\n",
    "\n",
    "**Посмотрим на нормальные модели.**"
   ]
  },
  {
   "cell_type": "markdown",
   "id": "1bf83e09-acfa-44c2-8406-a1868fb42327",
   "metadata": {},
   "source": [
    "Создадим заготовку для результатов."
   ]
  },
  {
   "cell_type": "code",
   "execution_count": 55,
   "id": "cbb205e1-ff20-4799-89cb-7a33ca2d751a",
   "metadata": {},
   "outputs": [],
   "source": [
    "analisys = pd.DataFrame({'model':[], 'MAE_model':[], 'MAE_on_train':[]})\n",
    "all_models = []"
   ]
  },
  {
   "cell_type": "markdown",
   "id": "e188f3e1-efd3-4b17-9b14-4040db34c33d",
   "metadata": {},
   "source": [
    "Cоздадим функцию для подбора параметров"
   ]
  },
  {
   "cell_type": "code",
   "execution_count": 56,
   "id": "31b110a6-a962-42a9-9c7e-2bbe79a4b23b",
   "metadata": {},
   "outputs": [],
   "source": [
    "def train_model(model, parameters):\n",
    "    \n",
    "    model_random = GridSearchCV(estimator=model,\n",
    "                                param_grid=parameters, # используем параметры\n",
    "                                scoring='neg_mean_absolute_error', # используем необходимую метрику\n",
    "                                cv=5, \n",
    "                                verbose=1)\n",
    "\n",
    "    # посмотрим время обучения \n",
    "    start = time()\n",
    "    model_random.fit(X_train, y_train)\n",
    "    print('GridSearchCV подбирал параметры %.2f секунд' %(time() - start))\n",
    "    \n",
    "    # высчитаем метрики\n",
    "    mae = model_random.best_score_ * -1\n",
    "    mae_on_train = mean_absolute_error(y_train, model_random.predict(X_train))\n",
    "    \n",
    "    print('Лучшие параметры:', model_random.best_params_)\n",
    "    print('MAE обученной модели:', mae)\n",
    "    print('MAE на тренировочной выборке:', mae_on_train)\n",
    "    \n",
    "    # заполним все таблицы    \n",
    "    all_models.append(model_random)\n",
    "    row = []\n",
    "    row.extend([model, mae, mae_on_train])\n",
    "    analisys.loc[len(analisys.index)] = row\n",
    "    \n",
    "    return model_random"
   ]
  },
  {
   "cell_type": "markdown",
   "id": "49ae7e02-d03e-468f-aea1-b917e525934b",
   "metadata": {},
   "source": [
    "#### Дерево решений"
   ]
  },
  {
   "cell_type": "code",
   "execution_count": 57,
   "id": "e166f288-5f6e-48f7-82f3-adb16fcaad58",
   "metadata": {},
   "outputs": [
    {
     "name": "stdout",
     "output_type": "stream",
     "text": [
      "Fitting 5 folds for each of 9 candidates, totalling 45 fits\n",
      "GridSearchCV подбирал параметры 0.96 секунд\n",
      "Лучшие параметры: {'max_depth': 3}\n",
      "MAE обученной модели: 7.594314472535052\n",
      "MAE на тренировочной выборке: 7.285474565398215\n"
     ]
    }
   ],
   "source": [
    "ran_grid_tree = {\"max_depth\": list(range(3, 12))}\n",
    "\n",
    "dtr = DecisionTreeRegressor(random_state = RANDOM_STATE)\n",
    "\n",
    "dtr_random = train_model(dtr, ran_grid_tree)"
   ]
  },
  {
   "cell_type": "markdown",
   "id": "652a1f3f",
   "metadata": {},
   "source": [
    "<b>Комментарий студента: поправил</b></font>"
   ]
  },
  {
   "cell_type": "markdown",
   "id": "85d61d6f-cf9e-4623-8086-44f7fdf12f54",
   "metadata": {},
   "source": [
    "#### Случайный лес"
   ]
  },
  {
   "cell_type": "code",
   "execution_count": 58,
   "id": "bbeaafc7-db89-4562-a1de-637dbbc88e07",
   "metadata": {},
   "outputs": [
    {
     "name": "stdout",
     "output_type": "stream",
     "text": [
      "Fitting 5 folds for each of 28 candidates, totalling 140 fits\n",
      "GridSearchCV подбирал параметры 68.74 секунд\n",
      "Лучшие параметры: {'max_depth': 8, 'n_estimators': 200}\n",
      "MAE обученной модели: 6.863618032919336\n",
      "MAE на тренировочной выборке: 4.938243526540954\n"
     ]
    }
   ],
   "source": [
    "ran_grid_forest = {\n",
    "    'max_depth': list(range(2, 9)),\n",
    "    'n_estimators': [50, 100, 200, 300]\n",
    "}\n",
    "\n",
    "rfr = RandomForestRegressor(random_state = RANDOM_STATE, n_jobs=-1)\n",
    "\n",
    "rfr_random = train_model(rfr, ran_grid_forest)"
   ]
  },
  {
   "cell_type": "markdown",
   "id": "cd301c35-0977-49db-8f53-2362778a1943",
   "metadata": {},
   "source": [
    "#### LightGBM"
   ]
  },
  {
   "cell_type": "code",
   "execution_count": 59,
   "id": "37332f73-2f74-4f75-9edb-52adee6222b2",
   "metadata": {},
   "outputs": [
    {
     "name": "stdout",
     "output_type": "stream",
     "text": [
      "Fitting 5 folds for each of 15 candidates, totalling 75 fits\n",
      "GridSearchCV подбирал параметры 3.82 секунд\n",
      "Лучшие параметры: {'learning_rate': 0.1, 'max_depth': 5}\n",
      "MAE обученной модели: 6.949617377643638\n",
      "MAE на тренировочной выборке: 4.979554053662066\n"
     ]
    }
   ],
   "source": [
    "rand_lgbm_param = {\n",
    "    'max_depth': [5, 10, 15, 25, 35],\n",
    "    'learning_rate': [0.01, 0.1, 0.15]\n",
    "}\n",
    "\n",
    "gbm = lgb.LGBMRegressor(boosting_type='gbdt',\n",
    "                         objective = 'regression'\n",
    "                         )\n",
    "\n",
    "gbm_random = train_model(gbm, rand_lgbm_param)"
   ]
  },
  {
   "cell_type": "markdown",
   "id": "93eb2fd9-c715-42ea-bee4-bb76511420df",
   "metadata": {},
   "source": [
    "#### CatBoost"
   ]
  },
  {
   "cell_type": "code",
   "execution_count": 60,
   "id": "2918c43c-2b35-4a93-9256-5ce6948835a9",
   "metadata": {
    "scrolled": true
   },
   "outputs": [
    {
     "name": "stdout",
     "output_type": "stream",
     "text": [
      "Fitting 5 folds for each of 12 candidates, totalling 60 fits\n",
      "GridSearchCV подбирал параметры 96.47 секунд\n",
      "Лучшие параметры: {'learning_rate': 0.01, 'max_depth': 6}\n",
      "MAE обученной модели: 6.859570645212678\n",
      "MAE на тренировочной выборке: 5.678535890967894\n"
     ]
    }
   ],
   "source": [
    "rand_cat_param = {\n",
    "    'max_depth': [3, 4, 5, 6, 7, 8],\n",
    "    'learning_rate': [0.01, 0.1]\n",
    "}\n",
    "\n",
    "cat = CatBoostRegressor(random_state = RANDOM_STATE, verbose=False) \n",
    "\n",
    "cat_random = train_model(cat, rand_cat_param)"
   ]
  },
  {
   "cell_type": "markdown",
   "id": "f8b3b4a8-8c0b-4e92-a4eb-640496ad14ab",
   "metadata": {
    "tags": []
   },
   "source": [
    "#### Рассмотрим метрики на графиках:"
   ]
  },
  {
   "cell_type": "code",
   "execution_count": 61,
   "id": "cac11cca-8fbd-433c-9a2e-10c19a7974b2",
   "metadata": {},
   "outputs": [
    {
     "data": {
      "text/html": [
       "<div>\n",
       "<style scoped>\n",
       "    .dataframe tbody tr th:only-of-type {\n",
       "        vertical-align: middle;\n",
       "    }\n",
       "\n",
       "    .dataframe tbody tr th {\n",
       "        vertical-align: top;\n",
       "    }\n",
       "\n",
       "    .dataframe thead th {\n",
       "        text-align: right;\n",
       "    }\n",
       "</style>\n",
       "<table border=\"1\" class=\"dataframe\">\n",
       "  <thead>\n",
       "    <tr style=\"text-align: right;\">\n",
       "      <th></th>\n",
       "      <th>model</th>\n",
       "      <th>MAE_model</th>\n",
       "      <th>MAE_on_train</th>\n",
       "      <th>names</th>\n",
       "    </tr>\n",
       "  </thead>\n",
       "  <tbody>\n",
       "    <tr>\n",
       "      <th>0</th>\n",
       "      <td>DecisionTreeRegressor(random_state=150523)</td>\n",
       "      <td>7.594314</td>\n",
       "      <td>7.285475</td>\n",
       "      <td>DecisionTree</td>\n",
       "    </tr>\n",
       "    <tr>\n",
       "      <th>1</th>\n",
       "      <td>RandomForestRegressor(n_jobs=-1, random_state=...</td>\n",
       "      <td>6.863618</td>\n",
       "      <td>4.938244</td>\n",
       "      <td>RandomForest</td>\n",
       "    </tr>\n",
       "    <tr>\n",
       "      <th>2</th>\n",
       "      <td>LGBMRegressor(objective='regression')</td>\n",
       "      <td>6.949617</td>\n",
       "      <td>4.979554</td>\n",
       "      <td>LightGBM</td>\n",
       "    </tr>\n",
       "    <tr>\n",
       "      <th>3</th>\n",
       "      <td>&lt;catboost.core.CatBoostRegressor object at 0x0...</td>\n",
       "      <td>6.859571</td>\n",
       "      <td>5.678536</td>\n",
       "      <td>CatBoost</td>\n",
       "    </tr>\n",
       "  </tbody>\n",
       "</table>\n",
       "</div>"
      ],
      "text/plain": [
       "                                               model  MAE_model  MAE_on_train  \\\n",
       "0         DecisionTreeRegressor(random_state=150523)   7.594314      7.285475   \n",
       "1  RandomForestRegressor(n_jobs=-1, random_state=...   6.863618      4.938244   \n",
       "2              LGBMRegressor(objective='regression')   6.949617      4.979554   \n",
       "3  <catboost.core.CatBoostRegressor object at 0x0...   6.859571      5.678536   \n",
       "\n",
       "          names  \n",
       "0  DecisionTree  \n",
       "1  RandomForest  \n",
       "2      LightGBM  \n",
       "3      CatBoost  "
      ]
     },
     "metadata": {},
     "output_type": "display_data"
    }
   ],
   "source": [
    "all_names = pd.DataFrame({'names':['DecisionTree', 'RandomForest', 'LightGBM', 'CatBoost']})\n",
    "analisys = pd.concat([analisys, all_names], axis=1, join='inner')\n",
    "display(analisys)"
   ]
  },
  {
   "cell_type": "code",
   "execution_count": 62,
   "id": "7e06eeae-673e-49eb-9d04-7a60d27a0d07",
   "metadata": {},
   "outputs": [
    {
     "data": {
      "image/png": "[encoded data removed]",
      "text/plain": [
       "<Figure size 800x400 with 1 Axes>"
      ]
     },
     "metadata": {},
     "output_type": "display_data"
    },
    {
     "data": {
      "image/png": "[encoded data removed]",
      "text/plain": [
       "<Figure size 800x400 with 1 Axes>"
      ]
     },
     "metadata": {},
     "output_type": "display_data"
    }
   ],
   "source": [
    "analisys.plot.bar(y='MAE_model', x='names', rot = 45, figsize=(8,4), color='blue')\n",
    "plt.title('Сравнение метрик моделей', fontsize='x-large')\n",
    "plt.xlabel('Модель')\n",
    "plt.show()\n",
    "\n",
    "analisys.plot.bar(y='MAE_on_train', x='names', rot = 45, figsize=(8,4), color='green')\n",
    "plt.title('Сравнение метрик на обучающей выборке', fontsize='x-large')\n",
    "plt.xlabel('Модель')\n",
    "plt.show()"
   ]
  },
  {
   "cell_type": "markdown",
   "id": "790f85da-6f6e-4fb5-97ec-bbd4bb61fc2a",
   "metadata": {},
   "source": [
    "**Вывод:**\n",
    "* Из полученных моделей наилучше всего показала себя модель `CatBoost`с параметрами `learning_rate: 0.01`, `max_depth: 6`.\n",
    "\n",
    "**Данную модель можно использовать в тестировании.**"
   ]
  },
  {
   "cell_type": "markdown",
   "id": "ea7d887a",
   "metadata": {},
   "source": [
    "<b>Комментарий студента: поправил</b></font>"
   ]
  },
  {
   "cell_type": "markdown",
   "id": "f8993b56-9be2-4bdb-9d00-1b3c2264276d",
   "metadata": {},
   "source": [
    "## Тестирование модели:"
   ]
  },
  {
   "cell_type": "markdown",
   "id": "8e95b868-631f-4d7f-88f5-42d24139c3fa",
   "metadata": {},
   "source": [
    "Воспользуемся обученной моделью и посмотрим метрики на тестовой выборке:"
   ]
  },
  {
   "cell_type": "code",
   "execution_count": 63,
   "id": "d2bad3f2-5084-4c59-9fd6-4f16624fd003",
   "metadata": {},
   "outputs": [
    {
     "name": "stdout",
     "output_type": "stream",
     "text": [
      "MAE на тестовой выборке при использовании GridSearchCV: 6.621725985297926\n",
      "CPU times: total: 46.9 ms\n",
      "Wall time: 7.06 ms\n"
     ]
    }
   ],
   "source": [
    "%%time\n",
    "predicted = cat_random.predict(X_test)\n",
    "mae_on_test = mean_absolute_error(y_test, predicted)\n",
    "print('MAE на тестовой выборке при использовании GridSearchCV:', mae_on_test)"
   ]
  },
  {
   "cell_type": "markdown",
   "id": "e3b6e5ab-3528-4861-bb1e-5cb9a3fea438",
   "metadata": {},
   "source": [
    "* Итоговая метрика ниже 6.8. \n",
    "* Модель можно использовать."
   ]
  },
  {
   "cell_type": "markdown",
   "id": "071c76e7",
   "metadata": {},
   "source": [
    "**Рассмотрим важность параметров:**"
   ]
  },
  {
   "cell_type": "code",
   "execution_count": 64,
   "id": "6a61a819",
   "metadata": {},
   "outputs": [
    {
     "data": {
      "image/png": "[encoded data removed]",
      "text/plain": [
       "<Figure size 1500x500 with 1 Axes>"
      ]
     },
     "metadata": {},
     "output_type": "display_data"
    }
   ],
   "source": [
    "features = pd.Series(cat_random.best_estimator_.feature_importances_, index= X_train.columns)\n",
    "\n",
    "plt.figure(figsize=(15,5))\n",
    "features.plot.bar()\n",
    "plt.show()\n"
   ]
  },
  {
   "cell_type": "markdown",
   "id": "4105947a-26d8-4f6e-9c0f-d2d4716faacc",
   "metadata": {},
   "source": [
    "**Как видно из графика, для итоговой метрики наиболее важны параметры:**\n",
    "\n",
    "* Время нагрева и первое измерение температуры"
   ]
  },
  {
   "cell_type": "markdown",
   "id": "afcf9898-5622-47a9-ab7c-12d98bc8e8bc",
   "metadata": {
    "tags": []
   },
   "source": [
    "## Вывод"
   ]
  },
  {
   "cell_type": "markdown",
   "id": "db57875a-7f5c-4e8c-8d38-b302b9ab396b",
   "metadata": {},
   "source": [
    "* На данном этапе было протестировано 5 моделей: дамми болванка, дерево решений, случайный лес, LightGBM и CatBoost.\n",
    "* Для тестирования была выбрана модель `CatBoost` с параметрами `learning_rate: 0.01`, `max_depth: 6`\n",
    "* Удалось достигнуть эталона порога МАЕ задания \n",
    "\n",
    "\n"
   ]
  },
  {
   "cell_type": "markdown",
   "id": "def680af",
   "metadata": {},
   "source": [
    "<b>Комментарий студента: поправил</b></font>"
   ]
  },
  {
   "cell_type": "markdown",
   "id": "839ed942-b834-4b33-8e1d-bcc2ed784864",
   "metadata": {},
   "source": [
    "# Финальный отчет"
   ]
  },
  {
   "cell_type": "markdown",
   "id": "168c5576-09c4-4b8d-a520-e6329a525cb3",
   "metadata": {},
   "source": [
    "**Целью проекта является создание модели для подсчета темпиратуры**\n",
    "\n",
    "В процессе выполнения задачи была проделана следующая работа:\n",
    "* Были изучены о обработаны данные\n",
    "* Подобрали и создали новые признаки для обучения модели\n",
    "* Объеденили данные в один датасет\n",
    "* Подобрали оптимальную модель\n",
    "\n",
    "Основная трудность в работе это выбросы и малое количество наблюдений. Так же недостаточность параметров: при таком малом количестве наблюдений стоит так же запрашивать у заказчика дополнительные данные, чтобы еще лучше предсказывать метрику.\n",
    "\n",
    "Итоговая модель:\n",
    "* `CatBoost` с параметрами `learning_rate: 0.01`, `max_depth: 6` с покзателем метрики **`MAE=6.621`**\n",
    "\n",
    "**Цель проекта выполнена, удалось достичь результата МАЕ < 6.8**"
   ]
  },
  {
   "cell_type": "markdown",
   "id": "82d8603d",
   "metadata": {},
   "source": [
    "### Анализ выполнения плана"
   ]
  },
  {
   "cell_type": "markdown",
   "id": "3858ff10",
   "metadata": {},
   "source": [
    "Первоначальный план был следующим:\n",
    "\n",
    "**1. Предобработка данных**\n",
    "\n",
    "Перевод даты в datetime формат, обработка выбросов (Реактивная мощность, сыпучие вещества, инетный газ), заполнение пропусков при необходимости). Решить вопрос о недостающих данных после общения с Тимлидом (найти, удалить, заполнить)\n",
    "\n",
    "**2. Подбор необходимых фич**\n",
    "\n",
    "Нужны ли нам все столбцы Bulk и Wire, В большую часть сплавов добавляют лишь некоторые. Необходимо определиться с группировкой по времени - нужна ли она.\n",
    "\n",
    "**3. Объединение данных в одну таблицу**\n",
    "\n",
    "Выделение целевого и учебных признаков. Скалирование данных при необходимости.\n",
    "\n",
    "**4. Подбор и обучение моделей**\n",
    "\n",
    "Тестирование дамми болванки, деление сета на 2 выборки, подбор гиперпараметров и валидация моделей.\n",
    "\n",
    "**5. Выбор и тестирование финальной модели**\n",
    "\n",
    "Проверка модели на тестовой выборке. Описание результатов.\n",
    "\n",
    "В целом структура плана была сохранена. За время обучения мы научились правильно выстраивать план работы. В финальном проекте я применил все полученные навыки.\n",
    "\n",
    "Выбросы,  я не удалял и не менял. Отклоняющиеся значения были обусловлены технологическим процессом, а не ошибками измерений. Я пытался построить модель, максимально приближенную к реальным условиям.\n",
    "Таблицы bulk и wire не имели корреляции с финальной температурой, но остались в финальной версии обучающих данных."
   ]
  },
  {
   "cell_type": "markdown",
   "id": "d666a91e",
   "metadata": {},
   "source": [
    "### Трудности проекта"
   ]
  },
  {
   "cell_type": "markdown",
   "id": "c6aba67f",
   "metadata": {},
   "source": [
    "* Постановка задачи и первичная обработка данных\n",
    "  * Я провел анализ и собрал все вопросы в отдельный блок. Консультация ТимЛида дала на все ответы. Благодарю за понятные и полные комментарии.\n",
    "* Основная трудность в работе это выбросы и малое количество наблюдений. Так же недостаточность параметров: при таком малом количестве наблюдений стоит так же запрашивать у заказчика дополнительные данные, чтобы еще лучше предсказывать метрику.  "
   ]
  },
  {
   "cell_type": "markdown",
   "id": "35d8bcb6",
   "metadata": {},
   "source": [
    "### Ключевые шаги решения"
   ]
  },
  {
   "cell_type": "markdown",
   "id": "053901cd",
   "metadata": {},
   "source": [
    "Ключевые шаги решения\n",
    "\n",
    "**1. Разумная постановка задачи**\n",
    "\n",
    "Сначала продумать и прописать - что и как считать, затем уже писать код. В противном случае, мысли могут уйти в сторону.\n",
    "\n",
    "**2. Качественная предобработка данных**\n",
    "\n",
    "Оставлять или удалять выбросы. Какие фичи добавить и сгенерировать. Скалировать ли данные. Как обрабатывать пропуски. Все эти пункты влияют на качество работы модели.\n",
    "В этом проекте я оставил данные практически в исходном виде. Повторю, что не видел смысла обрабатывать выбросы, потому что они являлись следствием технологического процесса.\n",
    "\n",
    "**3. Машинное обучение и подбор гиперпараметров**\n",
    "* На данном этапе было протестировано 5 моделей: дамми болванка, дерево решений, случайный лес, LightGBM и CatBoost.\n",
    "* Для подбора гипервараметров исрользовался `GridSearchCV`\n",
    "\n",
    "\n",
    "**4. Конкретные шаги проекта**\n",
    "\n",
    "Чем лучше данные, тем качественнее работает модель. Ключевым шагом этой работы стало создание df_full. Сборного датасета с финальными фичами, на котором обучались модели. Удалось достичь метрики МАЕ < 6.8 пунктов на тестовой выборке. "
   ]
  },
  {
   "cell_type": "markdown",
   "id": "12aec5cd",
   "metadata": {},
   "source": [
    "### Итоговая модель"
   ]
  },
  {
   "cell_type": "markdown",
   "id": "a12a846d",
   "metadata": {},
   "source": [
    "**`CatBoost`**.\n",
    "\n",
    "`МАЕ` на тестовой выборке = **6.621**. Время предсказания = **2.73 ms**.\n",
    "\n",
    "\n",
    "Рекомендую модель в продакшн. Она отвечает требованиям по качеству и скорости работи. Можно следить за температурой в режиме практически реального времени."
   ]
  },
  {
   "cell_type": "markdown",
   "id": "32865d8a",
   "metadata": {},
   "source": [
    "### Общий вывод"
   ]
  },
  {
   "cell_type": "markdown",
   "id": "6480c006",
   "metadata": {},
   "source": [
    "* Целью проекта было создание модели для подсчета температуры. Цель успешно выполнена.\n",
    "* Решены задачи - глубокая предобработка данных, создание новых признаков, машинное обучение.\n",
    "* Финальная и рекомендованная модель - CatBoost, mae тестовой выборки 6.621, время предсказания 2.73 ms.\n",
    "\n",
    "**Заключительный штрих - применение feature_importance_**"
   ]
  },
  {
   "cell_type": "code",
   "execution_count": 65,
   "id": "56699575-d44e-4a0a-98fe-0f3c19d5399c",
   "metadata": {},
   "outputs": [
    {
     "data": {
      "image/png": "[encoded data removed]",
      "text/plain": [
       "<Figure size 800x500 with 1 Axes>"
      ]
     },
     "metadata": {},
     "output_type": "display_data"
    }
   ],
   "source": [
    "feat_importances = pd.Series(cat_random.best_estimator_.feature_importances_, index=X_train.columns)\n",
    "\n",
    "plt.figure(figsize=(8,5))\n",
    "feat_importances.nlargest(20).plot(kind='barh', color='gray')\n",
    "\n",
    "plt.title('Важность признакость в модели CatBoost', size=18, y=1.02);"
   ]
  },
  {
   "cell_type": "markdown",
   "id": "2cd49578",
   "metadata": {},
   "source": [
    "* Больше остальных на предсказание финальной температуры влияют начальная температура и  время между первым и последним замером температуры(**heating_time**).\n",
    "* Именно в это время происходят добавки присадок и максимальные энергозатраты."
   ]
  },
  {
   "cell_type": "code",
   "execution_count": null,
   "id": "d25d02f9",
   "metadata": {},
   "outputs": [],
   "source": []
  },
  {
   "cell_type": "code",
   "execution_count": null,
   "id": "89874744-e22d-45df-aecd-4da00bf8c988",
   "metadata": {},
   "outputs": [],
   "source": []
  }
 ],
 "metadata": {
  "ExecuteTimeLog": [
   {
    "duration": 1660,
    "start_time": "2023-05-16T08:54:59.226Z"
   },
   {
    "duration": 1359,
    "start_time": "2023-05-16T08:55:00.891Z"
   },
   {
    "duration": 12,
    "start_time": "2023-05-16T08:55:55.727Z"
   },
   {
    "duration": 245,
    "start_time": "2023-05-16T08:55:57.014Z"
   },
   {
    "duration": 255,
    "start_time": "2023-05-16T08:56:28.990Z"
   },
   {
    "duration": 297,
    "start_time": "2023-05-16T08:56:41.473Z"
   },
   {
    "duration": 5,
    "start_time": "2023-05-16T08:56:45.858Z"
   },
   {
    "duration": 138,
    "start_time": "2023-05-16T08:56:47.494Z"
   },
   {
    "duration": 945,
    "start_time": "2023-05-16T08:56:51.258Z"
   },
   {
    "duration": 387,
    "start_time": "2023-05-16T08:56:54.782Z"
   },
   {
    "duration": 330,
    "start_time": "2023-05-16T08:56:56.507Z"
   },
   {
    "duration": 248,
    "start_time": "2023-05-16T08:57:08.456Z"
   },
   {
    "duration": 443,
    "start_time": "2023-05-16T08:57:08.708Z"
   },
   {
    "duration": 135,
    "start_time": "2023-05-16T08:57:11.213Z"
   },
   {
    "duration": 934,
    "start_time": "2023-05-16T08:57:11.666Z"
   },
   {
    "duration": 1122,
    "start_time": "2023-05-19T11:26:35.408Z"
   },
   {
    "duration": 647,
    "start_time": "2023-05-19T11:26:36.532Z"
   },
   {
    "duration": 3,
    "start_time": "2023-05-19T11:26:37.180Z"
   },
   {
    "duration": 174,
    "start_time": "2023-05-19T11:26:37.185Z"
   },
   {
    "duration": 217,
    "start_time": "2023-05-19T11:26:37.361Z"
   },
   {
    "duration": 244,
    "start_time": "2023-05-19T11:26:37.579Z"
   },
   {
    "duration": 5,
    "start_time": "2023-05-19T11:26:37.824Z"
   },
   {
    "duration": 115,
    "start_time": "2023-05-19T11:26:37.831Z"
   },
   {
    "duration": 902,
    "start_time": "2023-05-19T11:26:37.948Z"
   },
   {
    "duration": 299,
    "start_time": "2023-05-19T11:26:38.852Z"
   },
   {
    "duration": 237,
    "start_time": "2023-05-19T11:26:39.153Z"
   },
   {
    "duration": 203,
    "start_time": "2023-05-19T11:26:39.392Z"
   },
   {
    "duration": 321,
    "start_time": "2023-05-19T11:26:39.597Z"
   },
   {
    "duration": 111,
    "start_time": "2023-05-19T11:26:39.921Z"
   },
   {
    "duration": 776,
    "start_time": "2023-05-19T11:26:40.034Z"
   },
   {
    "duration": 3,
    "start_time": "2023-05-19T11:26:40.812Z"
   },
   {
    "duration": 14,
    "start_time": "2023-05-19T11:26:40.816Z"
   },
   {
    "duration": 11,
    "start_time": "2023-05-19T11:26:40.831Z"
   },
   {
    "duration": 58,
    "start_time": "2023-05-19T11:26:40.844Z"
   },
   {
    "duration": 11,
    "start_time": "2023-05-19T11:26:40.904Z"
   },
   {
    "duration": 11,
    "start_time": "2023-05-19T11:26:40.916Z"
   },
   {
    "duration": 13,
    "start_time": "2023-05-19T11:26:40.929Z"
   },
   {
    "duration": 22,
    "start_time": "2023-05-19T11:26:40.943Z"
   },
   {
    "duration": 9,
    "start_time": "2023-05-19T11:26:40.967Z"
   },
   {
    "duration": 7090,
    "start_time": "2023-05-19T11:26:40.977Z"
   },
   {
    "duration": 9,
    "start_time": "2023-05-19T11:26:48.068Z"
   },
   {
    "duration": 40,
    "start_time": "2023-05-19T11:26:48.079Z"
   },
   {
    "duration": 13,
    "start_time": "2023-05-19T11:26:48.121Z"
   },
   {
    "duration": 23,
    "start_time": "2023-05-19T11:26:48.136Z"
   },
   {
    "duration": 360,
    "start_time": "2023-05-19T11:26:48.161Z"
   },
   {
    "duration": 16,
    "start_time": "2023-05-19T11:26:48.522Z"
   },
   {
    "duration": 17,
    "start_time": "2023-05-19T11:26:48.540Z"
   },
   {
    "duration": 22,
    "start_time": "2023-05-19T11:26:48.559Z"
   },
   {
    "duration": 3,
    "start_time": "2023-05-19T11:26:48.583Z"
   },
   {
    "duration": 8,
    "start_time": "2023-05-19T11:26:48.588Z"
   },
   {
    "duration": 39,
    "start_time": "2023-05-19T11:26:48.597Z"
   },
   {
    "duration": 22,
    "start_time": "2023-05-19T11:26:48.637Z"
   },
   {
    "duration": 23,
    "start_time": "2023-05-19T11:26:48.660Z"
   },
   {
    "duration": 28,
    "start_time": "2023-05-19T11:26:48.684Z"
   },
   {
    "duration": 68,
    "start_time": "2023-05-19T11:26:48.714Z"
   },
   {
    "duration": 33,
    "start_time": "2023-05-19T11:26:48.786Z"
   },
   {
    "duration": 13,
    "start_time": "2023-05-19T11:26:48.820Z"
   },
   {
    "duration": 28,
    "start_time": "2023-05-19T11:26:48.835Z"
   },
   {
    "duration": 36,
    "start_time": "2023-05-19T11:26:48.865Z"
   },
   {
    "duration": 17,
    "start_time": "2023-05-19T11:26:48.903Z"
   },
   {
    "duration": 31,
    "start_time": "2023-05-19T11:26:48.922Z"
   },
   {
    "duration": 19,
    "start_time": "2023-05-19T11:26:48.954Z"
   },
   {
    "duration": 14,
    "start_time": "2023-05-19T11:26:48.975Z"
   },
   {
    "duration": 6,
    "start_time": "2023-05-19T11:26:48.991Z"
   },
   {
    "duration": 45,
    "start_time": "2023-05-19T11:26:48.999Z"
   },
   {
    "duration": 23,
    "start_time": "2023-05-19T11:26:49.046Z"
   },
   {
    "duration": 189,
    "start_time": "2023-05-19T11:26:49.070Z"
   },
   {
    "duration": 1428,
    "start_time": "2023-05-19T20:10:32.854Z"
   },
   {
    "duration": 935,
    "start_time": "2023-05-19T20:10:34.284Z"
   },
   {
    "duration": 3,
    "start_time": "2023-05-19T20:10:35.220Z"
   },
   {
    "duration": 163,
    "start_time": "2023-05-19T20:10:35.225Z"
   },
   {
    "duration": 222,
    "start_time": "2023-05-19T20:10:35.390Z"
   },
   {
    "duration": 268,
    "start_time": "2023-05-19T20:10:35.614Z"
   },
   {
    "duration": 5,
    "start_time": "2023-05-19T20:10:35.883Z"
   },
   {
    "duration": 127,
    "start_time": "2023-05-19T20:10:35.889Z"
   },
   {
    "duration": 862,
    "start_time": "2023-05-19T20:10:36.018Z"
   },
   {
    "duration": 295,
    "start_time": "2023-05-19T20:10:36.882Z"
   },
   {
    "duration": 219,
    "start_time": "2023-05-19T20:10:37.179Z"
   },
   {
    "duration": 183,
    "start_time": "2023-05-19T20:10:37.399Z"
   },
   {
    "duration": 291,
    "start_time": "2023-05-19T20:10:37.584Z"
   },
   {
    "duration": 105,
    "start_time": "2023-05-19T20:10:37.877Z"
   },
   {
    "duration": 880,
    "start_time": "2023-05-19T20:10:37.984Z"
   },
   {
    "duration": 2,
    "start_time": "2023-05-19T20:10:38.866Z"
   },
   {
    "duration": 8,
    "start_time": "2023-05-19T20:10:38.874Z"
   },
   {
    "duration": 7,
    "start_time": "2023-05-19T20:10:38.883Z"
   },
   {
    "duration": 68,
    "start_time": "2023-05-19T20:10:38.891Z"
   },
   {
    "duration": 14,
    "start_time": "2023-05-19T20:10:38.961Z"
   },
   {
    "duration": 9,
    "start_time": "2023-05-19T20:10:38.976Z"
   },
   {
    "duration": 7,
    "start_time": "2023-05-19T20:10:38.986Z"
   },
   {
    "duration": 23,
    "start_time": "2023-05-19T20:10:38.994Z"
   },
   {
    "duration": 2,
    "start_time": "2023-05-19T20:10:39.019Z"
   },
   {
    "duration": 5681,
    "start_time": "2023-05-19T20:10:39.023Z"
   },
   {
    "duration": 9,
    "start_time": "2023-05-19T20:10:44.706Z"
   },
   {
    "duration": 7,
    "start_time": "2023-05-19T20:10:44.716Z"
   },
   {
    "duration": 11,
    "start_time": "2023-05-19T20:10:44.728Z"
   },
   {
    "duration": 10,
    "start_time": "2023-05-19T20:10:44.740Z"
   },
   {
    "duration": 372,
    "start_time": "2023-05-19T20:10:44.751Z"
   },
   {
    "duration": 17,
    "start_time": "2023-05-19T20:10:45.125Z"
   },
   {
    "duration": 3,
    "start_time": "2023-05-19T20:10:45.143Z"
   },
   {
    "duration": 36,
    "start_time": "2023-05-19T20:10:45.147Z"
   },
   {
    "duration": 2,
    "start_time": "2023-05-19T20:10:45.185Z"
   },
   {
    "duration": 6,
    "start_time": "2023-05-19T20:10:45.189Z"
   },
   {
    "duration": 31,
    "start_time": "2023-05-19T20:10:45.197Z"
   },
   {
    "duration": 10,
    "start_time": "2023-05-19T20:10:45.230Z"
   },
   {
    "duration": 3,
    "start_time": "2023-05-19T20:10:45.242Z"
   },
   {
    "duration": 11,
    "start_time": "2023-05-19T20:10:45.247Z"
   },
   {
    "duration": 48,
    "start_time": "2023-05-19T20:10:45.260Z"
   },
   {
    "duration": 8,
    "start_time": "2023-05-19T20:10:45.310Z"
   },
   {
    "duration": 10,
    "start_time": "2023-05-19T20:10:45.320Z"
   },
   {
    "duration": 30,
    "start_time": "2023-05-19T20:10:45.332Z"
   },
   {
    "duration": 24,
    "start_time": "2023-05-19T20:10:45.363Z"
   },
   {
    "duration": 15,
    "start_time": "2023-05-19T20:10:45.389Z"
   },
   {
    "duration": 33,
    "start_time": "2023-05-19T20:10:45.406Z"
   },
   {
    "duration": 43,
    "start_time": "2023-05-19T20:10:45.441Z"
   },
   {
    "duration": 14,
    "start_time": "2023-05-19T20:10:45.486Z"
   },
   {
    "duration": 5,
    "start_time": "2023-05-19T20:10:45.502Z"
   },
   {
    "duration": 33,
    "start_time": "2023-05-19T20:10:45.509Z"
   },
   {
    "duration": 35,
    "start_time": "2023-05-19T20:10:45.543Z"
   },
   {
    "duration": 145,
    "start_time": "2023-05-19T20:10:45.579Z"
   },
   {
    "duration": 293,
    "start_time": "2023-05-19T20:10:45.725Z"
   },
   {
    "duration": 5,
    "start_time": "2023-05-19T20:10:46.020Z"
   },
   {
    "duration": 6,
    "start_time": "2023-05-19T20:10:46.026Z"
   },
   {
    "duration": 8,
    "start_time": "2023-05-19T20:10:46.033Z"
   },
   {
    "duration": 7,
    "start_time": "2023-05-19T20:10:46.043Z"
   },
   {
    "duration": 6,
    "start_time": "2023-05-19T20:10:46.056Z"
   },
   {
    "duration": 463,
    "start_time": "2023-05-19T20:10:46.063Z"
   },
   {
    "duration": 24542,
    "start_time": "2023-05-19T20:10:46.528Z"
   },
   {
    "duration": 0,
    "start_time": "2023-05-19T20:11:11.072Z"
   },
   {
    "duration": 0,
    "start_time": "2023-05-19T20:11:11.075Z"
   },
   {
    "duration": 0,
    "start_time": "2023-05-19T20:11:11.076Z"
   },
   {
    "duration": 0,
    "start_time": "2023-05-19T20:11:11.077Z"
   },
   {
    "duration": 0,
    "start_time": "2023-05-19T20:11:11.078Z"
   },
   {
    "duration": 1110,
    "start_time": "2023-05-19T20:11:18.189Z"
   },
   {
    "duration": 203,
    "start_time": "2023-05-19T20:11:19.301Z"
   },
   {
    "duration": 4,
    "start_time": "2023-05-19T20:11:19.506Z"
   },
   {
    "duration": 165,
    "start_time": "2023-05-19T20:11:19.512Z"
   },
   {
    "duration": 228,
    "start_time": "2023-05-19T20:11:19.678Z"
   },
   {
    "duration": 242,
    "start_time": "2023-05-19T20:11:19.908Z"
   },
   {
    "duration": 5,
    "start_time": "2023-05-19T20:11:20.152Z"
   },
   {
    "duration": 111,
    "start_time": "2023-05-19T20:11:20.159Z"
   },
   {
    "duration": 794,
    "start_time": "2023-05-19T20:11:20.275Z"
   },
   {
    "duration": 295,
    "start_time": "2023-05-19T20:11:21.072Z"
   },
   {
    "duration": 219,
    "start_time": "2023-05-19T20:11:21.369Z"
   },
   {
    "duration": 185,
    "start_time": "2023-05-19T20:11:21.590Z"
   },
   {
    "duration": 277,
    "start_time": "2023-05-19T20:11:21.776Z"
   },
   {
    "duration": 104,
    "start_time": "2023-05-19T20:11:22.055Z"
   },
   {
    "duration": 754,
    "start_time": "2023-05-19T20:11:22.161Z"
   },
   {
    "duration": 3,
    "start_time": "2023-05-19T20:11:22.917Z"
   },
   {
    "duration": 9,
    "start_time": "2023-05-19T20:11:22.922Z"
   },
   {
    "duration": 6,
    "start_time": "2023-05-19T20:11:22.933Z"
   },
   {
    "duration": 68,
    "start_time": "2023-05-19T20:11:22.940Z"
   },
   {
    "duration": 10,
    "start_time": "2023-05-19T20:11:23.009Z"
   },
   {
    "duration": 9,
    "start_time": "2023-05-19T20:11:23.020Z"
   },
   {
    "duration": 6,
    "start_time": "2023-05-19T20:11:23.031Z"
   },
   {
    "duration": 37,
    "start_time": "2023-05-19T20:11:23.039Z"
   },
   {
    "duration": 3,
    "start_time": "2023-05-19T20:11:23.078Z"
   },
   {
    "duration": 5467,
    "start_time": "2023-05-19T20:11:23.082Z"
   },
   {
    "duration": 9,
    "start_time": "2023-05-19T20:11:28.551Z"
   },
   {
    "duration": 16,
    "start_time": "2023-05-19T20:11:28.562Z"
   },
   {
    "duration": 8,
    "start_time": "2023-05-19T20:11:28.582Z"
   },
   {
    "duration": 8,
    "start_time": "2023-05-19T20:11:28.592Z"
   },
   {
    "duration": 350,
    "start_time": "2023-05-19T20:11:28.602Z"
   },
   {
    "duration": 22,
    "start_time": "2023-05-19T20:11:28.954Z"
   },
   {
    "duration": 4,
    "start_time": "2023-05-19T20:11:28.977Z"
   },
   {
    "duration": 15,
    "start_time": "2023-05-19T20:11:28.982Z"
   },
   {
    "duration": 3,
    "start_time": "2023-05-19T20:11:28.998Z"
   },
   {
    "duration": 7,
    "start_time": "2023-05-19T20:11:29.003Z"
   },
   {
    "duration": 13,
    "start_time": "2023-05-19T20:11:29.011Z"
   },
   {
    "duration": 9,
    "start_time": "2023-05-19T20:11:29.025Z"
   },
   {
    "duration": 4,
    "start_time": "2023-05-19T20:11:29.035Z"
   },
   {
    "duration": 37,
    "start_time": "2023-05-19T20:11:29.040Z"
   },
   {
    "duration": 25,
    "start_time": "2023-05-19T20:11:29.078Z"
   },
   {
    "duration": 8,
    "start_time": "2023-05-19T20:11:29.105Z"
   },
   {
    "duration": 9,
    "start_time": "2023-05-19T20:11:29.114Z"
   },
   {
    "duration": 14,
    "start_time": "2023-05-19T20:11:29.124Z"
   },
   {
    "duration": 39,
    "start_time": "2023-05-19T20:11:29.140Z"
   },
   {
    "duration": 15,
    "start_time": "2023-05-19T20:11:29.180Z"
   },
   {
    "duration": 15,
    "start_time": "2023-05-19T20:11:29.196Z"
   },
   {
    "duration": 17,
    "start_time": "2023-05-19T20:11:29.213Z"
   },
   {
    "duration": 10,
    "start_time": "2023-05-19T20:11:29.231Z"
   },
   {
    "duration": 35,
    "start_time": "2023-05-19T20:11:29.243Z"
   },
   {
    "duration": 34,
    "start_time": "2023-05-19T20:11:29.279Z"
   },
   {
    "duration": 14,
    "start_time": "2023-05-19T20:11:29.315Z"
   },
   {
    "duration": 145,
    "start_time": "2023-05-19T20:11:29.330Z"
   },
   {
    "duration": 271,
    "start_time": "2023-05-19T20:11:29.477Z"
   },
   {
    "duration": 6,
    "start_time": "2023-05-19T20:11:29.749Z"
   },
   {
    "duration": 5,
    "start_time": "2023-05-19T20:11:29.756Z"
   },
   {
    "duration": 14,
    "start_time": "2023-05-19T20:11:29.762Z"
   },
   {
    "duration": 6,
    "start_time": "2023-05-19T20:11:29.777Z"
   },
   {
    "duration": 5,
    "start_time": "2023-05-19T20:11:29.784Z"
   },
   {
    "duration": 476,
    "start_time": "2023-05-19T20:11:29.791Z"
   },
   {
    "duration": 77952,
    "start_time": "2023-05-19T20:11:30.269Z"
   },
   {
    "duration": 70262,
    "start_time": "2023-05-19T20:12:48.223Z"
   },
   {
    "duration": 178850,
    "start_time": "2023-05-19T20:13:58.486Z"
   },
   {
    "duration": 13,
    "start_time": "2023-05-19T20:16:57.337Z"
   },
   {
    "duration": 289,
    "start_time": "2023-05-19T20:16:57.351Z"
   },
   {
    "duration": 38,
    "start_time": "2023-05-19T20:16:57.641Z"
   },
   {
    "duration": 6,
    "start_time": "2023-05-19T20:18:00.905Z"
   },
   {
    "duration": 5,
    "start_time": "2023-05-19T20:18:02.793Z"
   },
   {
    "duration": 5,
    "start_time": "2023-05-19T20:18:04.269Z"
   },
   {
    "duration": 5,
    "start_time": "2023-05-19T20:18:06.249Z"
   },
   {
    "duration": 4,
    "start_time": "2023-05-19T20:19:50.119Z"
   },
   {
    "duration": 1420,
    "start_time": "2023-05-19T20:22:39.982Z"
   },
   {
    "duration": 205,
    "start_time": "2023-05-19T20:22:41.404Z"
   },
   {
    "duration": 3,
    "start_time": "2023-05-19T20:22:41.610Z"
   },
   {
    "duration": 162,
    "start_time": "2023-05-19T20:22:41.615Z"
   },
   {
    "duration": 206,
    "start_time": "2023-05-19T20:22:41.778Z"
   },
   {
    "duration": 241,
    "start_time": "2023-05-19T20:22:41.986Z"
   },
   {
    "duration": 4,
    "start_time": "2023-05-19T20:22:42.228Z"
   },
   {
    "duration": 111,
    "start_time": "2023-05-19T20:22:42.234Z"
   },
   {
    "duration": 1019,
    "start_time": "2023-05-19T20:22:42.346Z"
   },
   {
    "duration": 286,
    "start_time": "2023-05-19T20:22:43.368Z"
   },
   {
    "duration": 214,
    "start_time": "2023-05-19T20:22:43.656Z"
   },
   {
    "duration": 128,
    "start_time": "2023-05-19T20:22:43.871Z"
   },
   {
    "duration": 338,
    "start_time": "2023-05-19T20:22:44.002Z"
   },
   {
    "duration": 111,
    "start_time": "2023-05-19T20:22:44.341Z"
   },
   {
    "duration": 847,
    "start_time": "2023-05-19T20:22:44.453Z"
   },
   {
    "duration": 2,
    "start_time": "2023-05-19T20:22:45.302Z"
   },
   {
    "duration": 11,
    "start_time": "2023-05-19T20:22:45.306Z"
   },
   {
    "duration": 20,
    "start_time": "2023-05-19T20:22:45.319Z"
   },
   {
    "duration": 58,
    "start_time": "2023-05-19T20:22:45.340Z"
   },
   {
    "duration": 10,
    "start_time": "2023-05-19T20:22:45.399Z"
   },
   {
    "duration": 7,
    "start_time": "2023-05-19T20:22:45.410Z"
   },
   {
    "duration": 6,
    "start_time": "2023-05-19T20:22:45.418Z"
   },
   {
    "duration": 13,
    "start_time": "2023-05-19T20:22:45.425Z"
   },
   {
    "duration": 2,
    "start_time": "2023-05-19T20:22:45.440Z"
   },
   {
    "duration": 5612,
    "start_time": "2023-05-19T20:22:45.444Z"
   },
   {
    "duration": 8,
    "start_time": "2023-05-19T20:22:51.058Z"
   },
   {
    "duration": 5,
    "start_time": "2023-05-19T20:22:51.074Z"
   },
   {
    "duration": 7,
    "start_time": "2023-05-19T20:22:51.082Z"
   },
   {
    "duration": 25,
    "start_time": "2023-05-19T20:22:51.091Z"
   },
   {
    "duration": 313,
    "start_time": "2023-05-19T20:22:51.118Z"
   },
   {
    "duration": 16,
    "start_time": "2023-05-19T20:22:51.433Z"
   },
   {
    "duration": 2,
    "start_time": "2023-05-19T20:22:51.450Z"
   },
   {
    "duration": 31,
    "start_time": "2023-05-19T20:22:51.453Z"
   },
   {
    "duration": 2,
    "start_time": "2023-05-19T20:22:51.485Z"
   },
   {
    "duration": 8,
    "start_time": "2023-05-19T20:22:51.489Z"
   },
   {
    "duration": 13,
    "start_time": "2023-05-19T20:22:51.498Z"
   },
   {
    "duration": 8,
    "start_time": "2023-05-19T20:22:51.513Z"
   },
   {
    "duration": 8,
    "start_time": "2023-05-19T20:22:51.522Z"
   },
   {
    "duration": 6,
    "start_time": "2023-05-19T20:22:51.532Z"
   },
   {
    "duration": 45,
    "start_time": "2023-05-19T20:22:51.539Z"
   },
   {
    "duration": 8,
    "start_time": "2023-05-19T20:22:51.585Z"
   },
   {
    "duration": 15,
    "start_time": "2023-05-19T20:22:51.594Z"
   },
   {
    "duration": 12,
    "start_time": "2023-05-19T20:22:51.611Z"
   },
   {
    "duration": 17,
    "start_time": "2023-05-19T20:22:51.625Z"
   },
   {
    "duration": 40,
    "start_time": "2023-05-19T20:22:51.643Z"
   },
   {
    "duration": 14,
    "start_time": "2023-05-19T20:22:51.684Z"
   },
   {
    "duration": 16,
    "start_time": "2023-05-19T20:22:51.700Z"
   },
   {
    "duration": 10,
    "start_time": "2023-05-19T20:22:51.717Z"
   },
   {
    "duration": 5,
    "start_time": "2023-05-19T20:22:51.728Z"
   },
   {
    "duration": 54,
    "start_time": "2023-05-19T20:22:51.734Z"
   },
   {
    "duration": 14,
    "start_time": "2023-05-19T20:22:51.790Z"
   },
   {
    "duration": 51,
    "start_time": "2023-05-19T20:22:51.806Z"
   },
   {
    "duration": 19,
    "start_time": "2023-05-19T20:22:51.859Z"
   },
   {
    "duration": 5,
    "start_time": "2023-05-19T20:22:51.879Z"
   },
   {
    "duration": 6,
    "start_time": "2023-05-19T20:22:51.885Z"
   },
   {
    "duration": 4,
    "start_time": "2023-05-19T20:22:51.893Z"
   },
   {
    "duration": 5,
    "start_time": "2023-05-19T20:22:51.898Z"
   },
   {
    "duration": 449,
    "start_time": "2023-05-19T20:22:51.904Z"
   },
   {
    "duration": 77837,
    "start_time": "2023-05-19T20:22:52.355Z"
   },
   {
    "duration": 50883,
    "start_time": "2023-05-19T20:24:10.194Z"
   },
   {
    "duration": 176224,
    "start_time": "2023-05-19T20:25:01.078Z"
   },
   {
    "duration": 11,
    "start_time": "2023-05-19T20:27:57.311Z"
   },
   {
    "duration": 288,
    "start_time": "2023-05-19T20:27:57.324Z"
   },
   {
    "duration": 6,
    "start_time": "2023-05-19T20:27:57.614Z"
   },
   {
    "duration": 45,
    "start_time": "2023-05-19T20:27:57.623Z"
   },
   {
    "duration": 39,
    "start_time": "2023-05-19T20:30:14.122Z"
   },
   {
    "duration": 5,
    "start_time": "2023-05-19T20:30:23.139Z"
   },
   {
    "duration": 252,
    "start_time": "2023-05-19T21:41:17.871Z"
   },
   {
    "duration": 238,
    "start_time": "2023-05-19T21:41:18.125Z"
   },
   {
    "duration": 4,
    "start_time": "2023-05-19T21:41:18.364Z"
   },
   {
    "duration": 188,
    "start_time": "2023-05-19T21:41:18.370Z"
   },
   {
    "duration": 207,
    "start_time": "2023-05-19T21:41:18.561Z"
   },
   {
    "duration": 222,
    "start_time": "2023-05-19T21:41:18.770Z"
   },
   {
    "duration": 5,
    "start_time": "2023-05-19T21:41:18.993Z"
   },
   {
    "duration": 102,
    "start_time": "2023-05-19T21:41:19.000Z"
   },
   {
    "duration": 841,
    "start_time": "2023-05-19T21:41:19.104Z"
   },
   {
    "duration": 380,
    "start_time": "2023-05-19T21:41:19.947Z"
   },
   {
    "duration": 225,
    "start_time": "2023-05-19T21:41:20.328Z"
   },
   {
    "duration": 114,
    "start_time": "2023-05-19T21:41:20.554Z"
   },
   {
    "duration": 291,
    "start_time": "2023-05-19T21:41:20.670Z"
   },
   {
    "duration": 114,
    "start_time": "2023-05-19T21:41:20.965Z"
   },
   {
    "duration": 714,
    "start_time": "2023-05-19T21:41:21.081Z"
   },
   {
    "duration": 3,
    "start_time": "2023-05-19T21:41:21.796Z"
   },
   {
    "duration": 11,
    "start_time": "2023-05-19T21:41:21.801Z"
   },
   {
    "duration": 2,
    "start_time": "2023-05-19T21:41:21.814Z"
   },
   {
    "duration": 64,
    "start_time": "2023-05-19T21:41:21.818Z"
   },
   {
    "duration": 9,
    "start_time": "2023-05-19T21:41:21.884Z"
   },
   {
    "duration": 8,
    "start_time": "2023-05-19T21:41:21.895Z"
   },
   {
    "duration": 7,
    "start_time": "2023-05-19T21:41:21.904Z"
   },
   {
    "duration": 27,
    "start_time": "2023-05-19T21:41:21.913Z"
   },
   {
    "duration": 16,
    "start_time": "2023-05-19T21:41:21.942Z"
   },
   {
    "duration": 5822,
    "start_time": "2023-05-19T21:41:21.959Z"
   },
   {
    "duration": 10,
    "start_time": "2023-05-19T21:41:27.782Z"
   },
   {
    "duration": 7,
    "start_time": "2023-05-19T21:41:27.793Z"
   },
   {
    "duration": 12,
    "start_time": "2023-05-19T21:41:27.802Z"
   },
   {
    "duration": 9,
    "start_time": "2023-05-19T21:41:27.816Z"
   },
   {
    "duration": 359,
    "start_time": "2023-05-19T21:41:27.826Z"
   },
   {
    "duration": 16,
    "start_time": "2023-05-19T21:41:28.186Z"
   },
   {
    "duration": 3,
    "start_time": "2023-05-19T21:41:28.204Z"
   },
   {
    "duration": 14,
    "start_time": "2023-05-19T21:41:28.209Z"
   },
   {
    "duration": 4,
    "start_time": "2023-05-19T21:41:28.225Z"
   },
   {
    "duration": 7,
    "start_time": "2023-05-19T21:41:28.258Z"
   },
   {
    "duration": 14,
    "start_time": "2023-05-19T21:41:28.267Z"
   },
   {
    "duration": 9,
    "start_time": "2023-05-19T21:41:28.283Z"
   },
   {
    "duration": 5,
    "start_time": "2023-05-19T21:41:28.293Z"
   },
   {
    "duration": 8,
    "start_time": "2023-05-19T21:41:28.299Z"
   },
   {
    "duration": 54,
    "start_time": "2023-05-19T21:41:28.309Z"
   },
   {
    "duration": 8,
    "start_time": "2023-05-19T21:41:28.367Z"
   },
   {
    "duration": 10,
    "start_time": "2023-05-19T21:41:28.376Z"
   },
   {
    "duration": 19,
    "start_time": "2023-05-19T21:41:28.388Z"
   },
   {
    "duration": 14,
    "start_time": "2023-05-19T21:41:28.409Z"
   },
   {
    "duration": 38,
    "start_time": "2023-05-19T21:41:28.425Z"
   },
   {
    "duration": 17,
    "start_time": "2023-05-19T21:41:28.465Z"
   },
   {
    "duration": 50,
    "start_time": "2023-05-19T21:41:28.483Z"
   },
   {
    "duration": 10,
    "start_time": "2023-05-19T21:41:28.535Z"
   },
   {
    "duration": 4,
    "start_time": "2023-05-19T21:41:28.547Z"
   },
   {
    "duration": 32,
    "start_time": "2023-05-19T21:41:28.552Z"
   },
   {
    "duration": 13,
    "start_time": "2023-05-19T21:41:28.586Z"
   },
   {
    "duration": 23,
    "start_time": "2023-05-19T21:41:28.601Z"
   },
   {
    "duration": 11,
    "start_time": "2023-05-19T21:41:28.625Z"
   },
   {
    "duration": 19,
    "start_time": "2023-05-19T21:41:28.638Z"
   },
   {
    "duration": 5,
    "start_time": "2023-05-19T21:41:28.659Z"
   },
   {
    "duration": 6,
    "start_time": "2023-05-19T21:41:28.666Z"
   },
   {
    "duration": 9,
    "start_time": "2023-05-19T21:41:28.674Z"
   },
   {
    "duration": 442,
    "start_time": "2023-05-19T21:41:28.685Z"
   },
   {
    "duration": 184346,
    "start_time": "2023-05-19T21:41:29.128Z"
   },
   {
    "duration": 0,
    "start_time": "2023-05-19T21:44:33.476Z"
   },
   {
    "duration": 49,
    "start_time": "2023-05-20T07:10:58.636Z"
   },
   {
    "duration": 1652,
    "start_time": "2023-05-20T07:11:20.789Z"
   },
   {
    "duration": 570,
    "start_time": "2023-05-20T07:11:22.443Z"
   },
   {
    "duration": 4,
    "start_time": "2023-05-20T07:11:23.015Z"
   },
   {
    "duration": 178,
    "start_time": "2023-05-20T07:11:23.021Z"
   },
   {
    "duration": 323,
    "start_time": "2023-05-20T07:11:23.200Z"
   },
   {
    "duration": 306,
    "start_time": "2023-05-20T07:11:23.525Z"
   },
   {
    "duration": 5,
    "start_time": "2023-05-20T07:11:23.833Z"
   },
   {
    "duration": 134,
    "start_time": "2023-05-20T07:11:23.840Z"
   },
   {
    "duration": 995,
    "start_time": "2023-05-20T07:11:23.975Z"
   },
   {
    "duration": 323,
    "start_time": "2023-05-20T07:11:24.973Z"
   },
   {
    "duration": 254,
    "start_time": "2023-05-20T07:11:25.298Z"
   },
   {
    "duration": 129,
    "start_time": "2023-05-20T07:11:25.556Z"
   },
   {
    "duration": 320,
    "start_time": "2023-05-20T07:11:25.688Z"
   },
   {
    "duration": 151,
    "start_time": "2023-05-20T07:11:26.010Z"
   },
   {
    "duration": 898,
    "start_time": "2023-05-20T07:11:26.163Z"
   },
   {
    "duration": 4,
    "start_time": "2023-05-20T07:11:27.063Z"
   },
   {
    "duration": 10,
    "start_time": "2023-05-20T07:11:27.069Z"
   },
   {
    "duration": 3,
    "start_time": "2023-05-20T07:11:27.081Z"
   },
   {
    "duration": 74,
    "start_time": "2023-05-20T07:11:27.086Z"
   },
   {
    "duration": 11,
    "start_time": "2023-05-20T07:11:27.162Z"
   },
   {
    "duration": 9,
    "start_time": "2023-05-20T07:11:27.174Z"
   },
   {
    "duration": 6,
    "start_time": "2023-05-20T07:11:27.184Z"
   },
   {
    "duration": 16,
    "start_time": "2023-05-20T07:11:27.191Z"
   },
   {
    "duration": 3,
    "start_time": "2023-05-20T07:11:27.209Z"
   },
   {
    "duration": 6337,
    "start_time": "2023-05-20T07:11:27.213Z"
   },
   {
    "duration": 17,
    "start_time": "2023-05-20T07:11:33.551Z"
   },
   {
    "duration": 10,
    "start_time": "2023-05-20T07:11:33.570Z"
   },
   {
    "duration": 16,
    "start_time": "2023-05-20T07:11:33.585Z"
   },
   {
    "duration": 17,
    "start_time": "2023-05-20T07:11:33.603Z"
   },
   {
    "duration": 370,
    "start_time": "2023-05-20T07:11:33.622Z"
   },
   {
    "duration": 17,
    "start_time": "2023-05-20T07:11:33.994Z"
   },
   {
    "duration": 3,
    "start_time": "2023-05-20T07:11:34.013Z"
   },
   {
    "duration": 15,
    "start_time": "2023-05-20T07:11:34.017Z"
   },
   {
    "duration": 4,
    "start_time": "2023-05-20T07:11:34.057Z"
   },
   {
    "duration": 9,
    "start_time": "2023-05-20T07:11:34.063Z"
   },
   {
    "duration": 21,
    "start_time": "2023-05-20T07:11:34.073Z"
   },
   {
    "duration": 16,
    "start_time": "2023-05-20T07:11:34.096Z"
   },
   {
    "duration": 11,
    "start_time": "2023-05-20T07:11:34.114Z"
   },
   {
    "duration": 8,
    "start_time": "2023-05-20T07:11:34.127Z"
   },
   {
    "duration": 51,
    "start_time": "2023-05-20T07:11:34.136Z"
   },
   {
    "duration": 8,
    "start_time": "2023-05-20T07:11:34.189Z"
   },
   {
    "duration": 13,
    "start_time": "2023-05-20T07:11:34.199Z"
   },
   {
    "duration": 16,
    "start_time": "2023-05-20T07:11:34.213Z"
   },
   {
    "duration": 16,
    "start_time": "2023-05-20T07:11:34.256Z"
   },
   {
    "duration": 16,
    "start_time": "2023-05-20T07:11:34.273Z"
   },
   {
    "duration": 18,
    "start_time": "2023-05-20T07:11:34.290Z"
   },
   {
    "duration": 50,
    "start_time": "2023-05-20T07:11:34.309Z"
   },
   {
    "duration": 11,
    "start_time": "2023-05-20T07:11:34.361Z"
   },
   {
    "duration": 4,
    "start_time": "2023-05-20T07:11:34.374Z"
   },
   {
    "duration": 39,
    "start_time": "2023-05-20T07:11:34.380Z"
   },
   {
    "duration": 43,
    "start_time": "2023-05-20T07:11:34.421Z"
   },
   {
    "duration": 90,
    "start_time": "2023-05-20T07:11:34.466Z"
   },
   {
    "duration": 7,
    "start_time": "2023-05-20T07:11:34.558Z"
   },
   {
    "duration": 12,
    "start_time": "2023-05-20T07:11:34.567Z"
   },
   {
    "duration": 6,
    "start_time": "2023-05-20T07:11:34.581Z"
   },
   {
    "duration": 5,
    "start_time": "2023-05-20T07:11:34.589Z"
   },
   {
    "duration": 5,
    "start_time": "2023-05-20T07:11:34.596Z"
   },
   {
    "duration": 489,
    "start_time": "2023-05-20T07:11:34.603Z"
   },
   {
    "duration": 83748,
    "start_time": "2023-05-20T07:11:35.094Z"
   },
   {
    "duration": 1604213,
    "start_time": "2023-05-20T07:12:58.845Z"
   },
   {
    "duration": 0,
    "start_time": "2023-05-20T07:39:43.061Z"
   },
   {
    "duration": 0,
    "start_time": "2023-05-20T07:39:43.063Z"
   },
   {
    "duration": 0,
    "start_time": "2023-05-20T07:39:43.065Z"
   },
   {
    "duration": 0,
    "start_time": "2023-05-20T07:39:43.066Z"
   },
   {
    "duration": 0,
    "start_time": "2023-05-20T07:39:43.067Z"
   },
   {
    "duration": 1620,
    "start_time": "2023-05-20T07:39:52.481Z"
   },
   {
    "duration": 212,
    "start_time": "2023-05-20T07:39:54.103Z"
   },
   {
    "duration": 4,
    "start_time": "2023-05-20T07:39:54.317Z"
   },
   {
    "duration": 290,
    "start_time": "2023-05-20T07:39:54.323Z"
   },
   {
    "duration": 261,
    "start_time": "2023-05-20T07:39:54.615Z"
   },
   {
    "duration": 356,
    "start_time": "2023-05-20T07:39:54.878Z"
   },
   {
    "duration": 6,
    "start_time": "2023-05-20T07:39:55.236Z"
   },
   {
    "duration": 149,
    "start_time": "2023-05-20T07:39:55.259Z"
   },
   {
    "duration": 1339,
    "start_time": "2023-05-20T07:39:55.410Z"
   },
   {
    "duration": 364,
    "start_time": "2023-05-20T07:39:56.756Z"
   },
   {
    "duration": 291,
    "start_time": "2023-05-20T07:39:57.122Z"
   },
   {
    "duration": 129,
    "start_time": "2023-05-20T07:39:57.416Z"
   },
   {
    "duration": 328,
    "start_time": "2023-05-20T07:39:57.547Z"
   },
   {
    "duration": 146,
    "start_time": "2023-05-20T07:39:57.880Z"
   },
   {
    "duration": 1264,
    "start_time": "2023-05-20T07:39:58.029Z"
   },
   {
    "duration": 4,
    "start_time": "2023-05-20T07:39:59.295Z"
   },
   {
    "duration": 9,
    "start_time": "2023-05-20T07:39:59.301Z"
   },
   {
    "duration": 3,
    "start_time": "2023-05-20T07:39:59.312Z"
   },
   {
    "duration": 109,
    "start_time": "2023-05-20T07:39:59.317Z"
   },
   {
    "duration": 16,
    "start_time": "2023-05-20T07:39:59.428Z"
   },
   {
    "duration": 21,
    "start_time": "2023-05-20T07:39:59.446Z"
   },
   {
    "duration": 8,
    "start_time": "2023-05-20T07:39:59.470Z"
   },
   {
    "duration": 21,
    "start_time": "2023-05-20T07:39:59.481Z"
   },
   {
    "duration": 5,
    "start_time": "2023-05-20T07:39:59.504Z"
   },
   {
    "duration": 6544,
    "start_time": "2023-05-20T07:39:59.512Z"
   },
   {
    "duration": 11,
    "start_time": "2023-05-20T07:40:06.059Z"
   },
   {
    "duration": 10,
    "start_time": "2023-05-20T07:40:06.085Z"
   },
   {
    "duration": 17,
    "start_time": "2023-05-20T07:40:06.098Z"
   },
   {
    "duration": 25,
    "start_time": "2023-05-20T07:40:06.117Z"
   },
   {
    "duration": 374,
    "start_time": "2023-05-20T07:40:06.144Z"
   },
   {
    "duration": 19,
    "start_time": "2023-05-20T07:40:06.520Z"
   },
   {
    "duration": 16,
    "start_time": "2023-05-20T07:40:06.541Z"
   },
   {
    "duration": 18,
    "start_time": "2023-05-20T07:40:06.560Z"
   },
   {
    "duration": 3,
    "start_time": "2023-05-20T07:40:06.580Z"
   },
   {
    "duration": 31,
    "start_time": "2023-05-20T07:40:06.585Z"
   },
   {
    "duration": 38,
    "start_time": "2023-05-20T07:40:06.619Z"
   },
   {
    "duration": 10,
    "start_time": "2023-05-20T07:40:06.658Z"
   },
   {
    "duration": 10,
    "start_time": "2023-05-20T07:40:06.670Z"
   },
   {
    "duration": 12,
    "start_time": "2023-05-20T07:40:06.683Z"
   },
   {
    "duration": 28,
    "start_time": "2023-05-20T07:40:06.696Z"
   },
   {
    "duration": 34,
    "start_time": "2023-05-20T07:40:06.729Z"
   },
   {
    "duration": 12,
    "start_time": "2023-05-20T07:40:06.765Z"
   },
   {
    "duration": 17,
    "start_time": "2023-05-20T07:40:06.779Z"
   },
   {
    "duration": 20,
    "start_time": "2023-05-20T07:40:06.798Z"
   },
   {
    "duration": 24,
    "start_time": "2023-05-20T07:40:06.857Z"
   },
   {
    "duration": 19,
    "start_time": "2023-05-20T07:40:06.882Z"
   },
   {
    "duration": 55,
    "start_time": "2023-05-20T07:40:06.903Z"
   },
   {
    "duration": 17,
    "start_time": "2023-05-20T07:40:06.960Z"
   },
   {
    "duration": 7,
    "start_time": "2023-05-20T07:40:06.979Z"
   },
   {
    "duration": 75,
    "start_time": "2023-05-20T07:40:06.989Z"
   },
   {
    "duration": 23,
    "start_time": "2023-05-20T07:40:07.066Z"
   },
   {
    "duration": 82,
    "start_time": "2023-05-20T07:40:07.090Z"
   },
   {
    "duration": 9,
    "start_time": "2023-05-20T07:40:07.175Z"
   },
   {
    "duration": 5,
    "start_time": "2023-05-20T07:40:07.186Z"
   },
   {
    "duration": 7,
    "start_time": "2023-05-20T07:40:07.193Z"
   },
   {
    "duration": 9,
    "start_time": "2023-05-20T07:40:07.201Z"
   },
   {
    "duration": 8,
    "start_time": "2023-05-20T07:40:07.213Z"
   },
   {
    "duration": 520,
    "start_time": "2023-05-20T07:40:07.256Z"
   },
   {
    "duration": 86401,
    "start_time": "2023-05-20T07:40:07.778Z"
   },
   {
    "duration": 1787498,
    "start_time": "2023-05-20T07:41:34.181Z"
   },
   {
    "duration": 0,
    "start_time": "2023-05-20T08:11:21.680Z"
   },
   {
    "duration": 0,
    "start_time": "2023-05-20T08:11:21.681Z"
   },
   {
    "duration": 0,
    "start_time": "2023-05-20T08:11:21.682Z"
   },
   {
    "duration": 0,
    "start_time": "2023-05-20T08:11:21.684Z"
   },
   {
    "duration": 0,
    "start_time": "2023-05-20T08:11:21.685Z"
   },
   {
    "duration": 1523,
    "start_time": "2023-05-20T08:11:31.150Z"
   },
   {
    "duration": 205,
    "start_time": "2023-05-20T08:11:32.675Z"
   },
   {
    "duration": 4,
    "start_time": "2023-05-20T08:11:32.881Z"
   },
   {
    "duration": 193,
    "start_time": "2023-05-20T08:11:32.886Z"
   },
   {
    "duration": 246,
    "start_time": "2023-05-20T08:11:33.082Z"
   },
   {
    "duration": 286,
    "start_time": "2023-05-20T08:11:33.330Z"
   },
   {
    "duration": 6,
    "start_time": "2023-05-20T08:11:33.617Z"
   },
   {
    "duration": 153,
    "start_time": "2023-05-20T08:11:33.625Z"
   },
   {
    "duration": 1091,
    "start_time": "2023-05-20T08:11:33.780Z"
   },
   {
    "duration": 323,
    "start_time": "2023-05-20T08:11:34.873Z"
   },
   {
    "duration": 261,
    "start_time": "2023-05-20T08:11:35.197Z"
   },
   {
    "duration": 130,
    "start_time": "2023-05-20T08:11:35.460Z"
   },
   {
    "duration": 323,
    "start_time": "2023-05-20T08:11:35.592Z"
   },
   {
    "duration": 155,
    "start_time": "2023-05-20T08:11:35.918Z"
   },
   {
    "duration": 877,
    "start_time": "2023-05-20T08:11:36.075Z"
   },
   {
    "duration": 3,
    "start_time": "2023-05-20T08:11:36.955Z"
   },
   {
    "duration": 12,
    "start_time": "2023-05-20T08:11:36.960Z"
   },
   {
    "duration": 5,
    "start_time": "2023-05-20T08:11:36.974Z"
   },
   {
    "duration": 75,
    "start_time": "2023-05-20T08:11:36.981Z"
   },
   {
    "duration": 11,
    "start_time": "2023-05-20T08:11:37.058Z"
   },
   {
    "duration": 9,
    "start_time": "2023-05-20T08:11:37.071Z"
   },
   {
    "duration": 7,
    "start_time": "2023-05-20T08:11:37.082Z"
   },
   {
    "duration": 19,
    "start_time": "2023-05-20T08:11:37.091Z"
   },
   {
    "duration": 4,
    "start_time": "2023-05-20T08:11:37.112Z"
   },
   {
    "duration": 6407,
    "start_time": "2023-05-20T08:11:37.118Z"
   },
   {
    "duration": 10,
    "start_time": "2023-05-20T08:11:43.527Z"
   },
   {
    "duration": 18,
    "start_time": "2023-05-20T08:11:43.539Z"
   },
   {
    "duration": 10,
    "start_time": "2023-05-20T08:11:43.559Z"
   },
   {
    "duration": 11,
    "start_time": "2023-05-20T08:11:43.571Z"
   },
   {
    "duration": 381,
    "start_time": "2023-05-20T08:11:43.584Z"
   },
   {
    "duration": 17,
    "start_time": "2023-05-20T08:11:43.966Z"
   },
   {
    "duration": 14,
    "start_time": "2023-05-20T08:11:43.985Z"
   },
   {
    "duration": 17,
    "start_time": "2023-05-20T08:11:44.008Z"
   },
   {
    "duration": 3,
    "start_time": "2023-05-20T08:11:44.028Z"
   },
   {
    "duration": 30,
    "start_time": "2023-05-20T08:11:44.033Z"
   },
   {
    "duration": 28,
    "start_time": "2023-05-20T08:11:44.066Z"
   },
   {
    "duration": 10,
    "start_time": "2023-05-20T08:11:44.096Z"
   },
   {
    "duration": 5,
    "start_time": "2023-05-20T08:11:44.108Z"
   },
   {
    "duration": 14,
    "start_time": "2023-05-20T08:11:44.115Z"
   },
   {
    "duration": 39,
    "start_time": "2023-05-20T08:11:44.131Z"
   },
   {
    "duration": 10,
    "start_time": "2023-05-20T08:11:44.174Z"
   },
   {
    "duration": 22,
    "start_time": "2023-05-20T08:11:44.185Z"
   },
   {
    "duration": 22,
    "start_time": "2023-05-20T08:11:44.209Z"
   },
   {
    "duration": 32,
    "start_time": "2023-05-20T08:11:44.233Z"
   },
   {
    "duration": 17,
    "start_time": "2023-05-20T08:11:44.267Z"
   },
   {
    "duration": 24,
    "start_time": "2023-05-20T08:11:44.286Z"
   },
   {
    "duration": 20,
    "start_time": "2023-05-20T08:11:44.313Z"
   },
   {
    "duration": 14,
    "start_time": "2023-05-20T08:11:44.357Z"
   },
   {
    "duration": 6,
    "start_time": "2023-05-20T08:11:44.373Z"
   },
   {
    "duration": 34,
    "start_time": "2023-05-20T08:11:44.380Z"
   },
   {
    "duration": 42,
    "start_time": "2023-05-20T08:11:44.416Z"
   },
   {
    "duration": 63,
    "start_time": "2023-05-20T08:11:44.459Z"
   },
   {
    "duration": 8,
    "start_time": "2023-05-20T08:11:44.524Z"
   },
   {
    "duration": 25,
    "start_time": "2023-05-20T08:11:44.534Z"
   },
   {
    "duration": 14,
    "start_time": "2023-05-20T08:11:44.561Z"
   },
   {
    "duration": 12,
    "start_time": "2023-05-20T08:11:44.577Z"
   },
   {
    "duration": 8,
    "start_time": "2023-05-20T08:11:44.592Z"
   },
   {
    "duration": 475,
    "start_time": "2023-05-20T08:11:44.602Z"
   },
   {
    "duration": 82618,
    "start_time": "2023-05-20T08:11:45.079Z"
   },
   {
    "duration": 1614,
    "start_time": "2023-05-21T11:18:42.875Z"
   },
   {
    "duration": 241,
    "start_time": "2023-05-21T11:18:44.491Z"
   },
   {
    "duration": 3,
    "start_time": "2023-05-21T11:18:44.734Z"
   },
   {
    "duration": 171,
    "start_time": "2023-05-21T11:18:44.739Z"
   },
   {
    "duration": 251,
    "start_time": "2023-05-21T11:18:44.913Z"
   },
   {
    "duration": 249,
    "start_time": "2023-05-21T11:18:45.166Z"
   },
   {
    "duration": 5,
    "start_time": "2023-05-21T11:18:45.417Z"
   },
   {
    "duration": 126,
    "start_time": "2023-05-21T11:18:45.424Z"
   },
   {
    "duration": 910,
    "start_time": "2023-05-21T11:18:45.560Z"
   },
   {
    "duration": 315,
    "start_time": "2023-05-21T11:18:46.474Z"
   },
   {
    "duration": 248,
    "start_time": "2023-05-21T11:18:46.790Z"
   },
   {
    "duration": 129,
    "start_time": "2023-05-21T11:18:47.040Z"
   },
   {
    "duration": 308,
    "start_time": "2023-05-21T11:18:47.171Z"
   },
   {
    "duration": 116,
    "start_time": "2023-05-21T11:18:47.482Z"
   },
   {
    "duration": 939,
    "start_time": "2023-05-21T11:18:47.600Z"
   },
   {
    "duration": 21,
    "start_time": "2023-05-21T11:18:48.541Z"
   },
   {
    "duration": 9,
    "start_time": "2023-05-21T11:18:48.567Z"
   },
   {
    "duration": 9,
    "start_time": "2023-05-21T11:18:48.578Z"
   },
   {
    "duration": 57,
    "start_time": "2023-05-21T11:18:48.589Z"
   },
   {
    "duration": 18,
    "start_time": "2023-05-21T11:18:48.648Z"
   },
   {
    "duration": 8,
    "start_time": "2023-05-21T11:18:48.667Z"
   },
   {
    "duration": 6,
    "start_time": "2023-05-21T11:18:48.676Z"
   },
   {
    "duration": 14,
    "start_time": "2023-05-21T11:18:48.683Z"
   },
   {
    "duration": 2,
    "start_time": "2023-05-21T11:18:48.699Z"
   },
   {
    "duration": 6305,
    "start_time": "2023-05-21T11:18:48.703Z"
   },
   {
    "duration": 9,
    "start_time": "2023-05-21T11:18:55.010Z"
   },
   {
    "duration": 10,
    "start_time": "2023-05-21T11:18:55.020Z"
   },
   {
    "duration": 32,
    "start_time": "2023-05-21T11:18:55.032Z"
   },
   {
    "duration": 9,
    "start_time": "2023-05-21T11:18:55.066Z"
   },
   {
    "duration": 359,
    "start_time": "2023-05-21T11:18:55.077Z"
   },
   {
    "duration": 26,
    "start_time": "2023-05-21T11:18:55.437Z"
   },
   {
    "duration": 3,
    "start_time": "2023-05-21T11:18:55.464Z"
   },
   {
    "duration": 19,
    "start_time": "2023-05-21T11:18:55.468Z"
   },
   {
    "duration": 3,
    "start_time": "2023-05-21T11:18:55.488Z"
   },
   {
    "duration": 18,
    "start_time": "2023-05-21T11:18:55.493Z"
   },
   {
    "duration": 23,
    "start_time": "2023-05-21T11:18:55.513Z"
   },
   {
    "duration": 22,
    "start_time": "2023-05-21T11:18:55.537Z"
   },
   {
    "duration": 6,
    "start_time": "2023-05-21T11:18:55.562Z"
   },
   {
    "duration": 8,
    "start_time": "2023-05-21T11:18:55.569Z"
   },
   {
    "duration": 30,
    "start_time": "2023-05-21T11:18:55.579Z"
   },
   {
    "duration": 8,
    "start_time": "2023-05-21T11:18:55.613Z"
   },
   {
    "duration": 11,
    "start_time": "2023-05-21T11:18:55.622Z"
   },
   {
    "duration": 22,
    "start_time": "2023-05-21T11:18:55.650Z"
   },
   {
    "duration": 18,
    "start_time": "2023-05-21T11:18:55.674Z"
   },
   {
    "duration": 14,
    "start_time": "2023-05-21T11:18:55.693Z"
   },
   {
    "duration": 16,
    "start_time": "2023-05-21T11:18:55.709Z"
   },
   {
    "duration": 25,
    "start_time": "2023-05-21T11:18:55.750Z"
   },
   {
    "duration": 12,
    "start_time": "2023-05-21T11:18:55.777Z"
   },
   {
    "duration": 5,
    "start_time": "2023-05-21T11:18:55.791Z"
   },
   {
    "duration": 61,
    "start_time": "2023-05-21T11:18:55.797Z"
   },
   {
    "duration": 15,
    "start_time": "2023-05-21T11:18:55.860Z"
   },
   {
    "duration": 65,
    "start_time": "2023-05-21T11:18:55.877Z"
   },
   {
    "duration": 13,
    "start_time": "2023-05-21T11:18:55.943Z"
   },
   {
    "duration": 6,
    "start_time": "2023-05-21T11:18:55.964Z"
   },
   {
    "duration": 7,
    "start_time": "2023-05-21T11:18:55.971Z"
   },
   {
    "duration": 6,
    "start_time": "2023-05-21T11:18:55.979Z"
   },
   {
    "duration": 12,
    "start_time": "2023-05-21T11:18:55.986Z"
   },
   {
    "duration": 473,
    "start_time": "2023-05-21T11:18:55.999Z"
   },
   {
    "duration": 220548,
    "start_time": "2023-05-21T11:18:56.473Z"
   },
   {
    "duration": 7,
    "start_time": "2023-05-21T11:22:37.023Z"
   },
   {
    "duration": 2043,
    "start_time": "2023-05-25T10:52:13.453Z"
   },
   {
    "duration": 703,
    "start_time": "2023-05-25T10:52:15.499Z"
   },
   {
    "duration": 4,
    "start_time": "2023-05-25T10:52:16.205Z"
   },
   {
    "duration": 290,
    "start_time": "2023-05-25T10:52:16.212Z"
   },
   {
    "duration": 273,
    "start_time": "2023-05-25T10:52:16.504Z"
   },
   {
    "duration": 263,
    "start_time": "2023-05-25T10:52:16.779Z"
   },
   {
    "duration": 5,
    "start_time": "2023-05-25T10:52:17.044Z"
   },
   {
    "duration": 133,
    "start_time": "2023-05-25T10:52:17.050Z"
   },
   {
    "duration": 911,
    "start_time": "2023-05-25T10:52:17.185Z"
   },
   {
    "duration": 337,
    "start_time": "2023-05-25T10:52:18.099Z"
   },
   {
    "duration": 255,
    "start_time": "2023-05-25T10:52:18.438Z"
   },
   {
    "duration": 125,
    "start_time": "2023-05-25T10:52:18.694Z"
   },
   {
    "duration": 330,
    "start_time": "2023-05-25T10:52:18.820Z"
   },
   {
    "duration": 126,
    "start_time": "2023-05-25T10:52:19.152Z"
   },
   {
    "duration": 923,
    "start_time": "2023-05-25T10:52:19.280Z"
   },
   {
    "duration": 3,
    "start_time": "2023-05-25T10:52:20.205Z"
   },
   {
    "duration": 40,
    "start_time": "2023-05-25T10:52:20.210Z"
   },
   {
    "duration": 21,
    "start_time": "2023-05-25T10:52:20.252Z"
   },
   {
    "duration": 70,
    "start_time": "2023-05-25T10:52:20.275Z"
   },
   {
    "duration": 11,
    "start_time": "2023-05-25T10:52:20.347Z"
   },
   {
    "duration": 22,
    "start_time": "2023-05-25T10:52:20.360Z"
   },
   {
    "duration": 10,
    "start_time": "2023-05-25T10:52:20.384Z"
   },
   {
    "duration": 32,
    "start_time": "2023-05-25T10:52:20.395Z"
   },
   {
    "duration": 4,
    "start_time": "2023-05-25T10:52:20.430Z"
   },
   {
    "duration": 6228,
    "start_time": "2023-05-25T10:52:20.436Z"
   },
   {
    "duration": 16,
    "start_time": "2023-05-25T10:52:26.666Z"
   },
   {
    "duration": 13,
    "start_time": "2023-05-25T10:52:26.684Z"
   },
   {
    "duration": 26,
    "start_time": "2023-05-25T10:52:26.701Z"
   },
   {
    "duration": 22,
    "start_time": "2023-05-25T10:52:26.729Z"
   },
   {
    "duration": 380,
    "start_time": "2023-05-25T10:52:26.753Z"
   },
   {
    "duration": 17,
    "start_time": "2023-05-25T10:52:27.136Z"
   },
   {
    "duration": 16,
    "start_time": "2023-05-25T10:52:27.155Z"
   },
   {
    "duration": 49,
    "start_time": "2023-05-25T10:52:27.173Z"
   },
   {
    "duration": 19,
    "start_time": "2023-05-25T10:52:27.224Z"
   },
   {
    "duration": 66,
    "start_time": "2023-05-25T10:52:27.245Z"
   },
   {
    "duration": 53,
    "start_time": "2023-05-25T10:52:27.312Z"
   },
   {
    "duration": 19,
    "start_time": "2023-05-25T10:52:27.366Z"
   },
   {
    "duration": 22,
    "start_time": "2023-05-25T10:52:27.387Z"
   },
   {
    "duration": 22,
    "start_time": "2023-05-25T10:52:27.410Z"
   },
   {
    "duration": 43,
    "start_time": "2023-05-25T10:52:27.434Z"
   },
   {
    "duration": 10,
    "start_time": "2023-05-25T10:52:27.479Z"
   },
   {
    "duration": 17,
    "start_time": "2023-05-25T10:52:27.491Z"
   },
   {
    "duration": 25,
    "start_time": "2023-05-25T10:52:27.509Z"
   },
   {
    "duration": 17,
    "start_time": "2023-05-25T10:52:27.535Z"
   },
   {
    "duration": 33,
    "start_time": "2023-05-25T10:52:27.554Z"
   },
   {
    "duration": 17,
    "start_time": "2023-05-25T10:52:27.589Z"
   },
   {
    "duration": 19,
    "start_time": "2023-05-25T10:52:27.608Z"
   },
   {
    "duration": 48,
    "start_time": "2023-05-25T10:52:27.629Z"
   },
   {
    "duration": 6,
    "start_time": "2023-05-25T10:52:27.680Z"
   },
   {
    "duration": 48,
    "start_time": "2023-05-25T10:52:27.689Z"
   },
   {
    "duration": 33,
    "start_time": "2023-05-25T10:52:27.740Z"
   },
   {
    "duration": 74,
    "start_time": "2023-05-25T10:52:27.775Z"
   },
   {
    "duration": 24,
    "start_time": "2023-05-25T10:52:27.851Z"
   },
   {
    "duration": 17,
    "start_time": "2023-05-25T10:52:27.878Z"
   },
   {
    "duration": 19,
    "start_time": "2023-05-25T10:52:27.897Z"
   },
   {
    "duration": 19,
    "start_time": "2023-05-25T10:52:27.918Z"
   },
   {
    "duration": 16,
    "start_time": "2023-05-25T10:52:27.939Z"
   },
   {
    "duration": 484,
    "start_time": "2023-05-25T10:52:27.957Z"
   },
   {
    "duration": 87163,
    "start_time": "2023-05-25T10:52:28.443Z"
   },
   {
    "duration": 72680,
    "start_time": "2023-05-25T10:53:55.608Z"
   },
   {
    "duration": 233550,
    "start_time": "2023-05-25T10:55:08.290Z"
   },
   {
    "duration": 16,
    "start_time": "2023-05-25T10:59:01.842Z"
   },
   {
    "duration": 355,
    "start_time": "2023-05-25T10:59:01.860Z"
   },
   {
    "duration": 6,
    "start_time": "2023-05-25T10:59:02.217Z"
   },
   {
    "duration": 186,
    "start_time": "2023-05-25T10:59:02.225Z"
   },
   {
    "duration": 95,
    "start_time": "2023-05-25T10:59:02.413Z"
   },
   {
    "duration": 0,
    "start_time": "2023-05-25T10:59:02.510Z"
   },
   {
    "duration": 4,
    "start_time": "2023-05-25T11:15:18.347Z"
   },
   {
    "duration": 5,
    "start_time": "2023-05-25T11:15:31.943Z"
   },
   {
    "duration": 8,
    "start_time": "2023-05-25T11:15:37.561Z"
   },
   {
    "duration": 9,
    "start_time": "2023-05-25T11:16:48.493Z"
   },
   {
    "duration": 7,
    "start_time": "2023-05-25T11:17:00.538Z"
   },
   {
    "duration": 170,
    "start_time": "2023-05-25T11:20:34.988Z"
   },
   {
    "duration": 222,
    "start_time": "2023-05-25T11:28:05.865Z"
   }
  ],
  "kernelspec": {
   "display_name": "Python 3 (ipykernel)",
   "language": "python",
   "name": "python3"
  },
  "language_info": {
   "codemirror_mode": {
    "name": "ipython",
    "version": 3
   },
   "file_extension": ".py",
   "mimetype": "text/x-python",
   "name": "python",
   "nbconvert_exporter": "python",
   "pygments_lexer": "ipython3",
   "version": "3.10.9"
  },
  "toc": {
   "base_numbering": 1,
   "nav_menu": {},
   "number_sections": true,
   "sideBar": true,
   "skip_h1_title": true,
   "title_cell": "Table of Contents",
   "title_sidebar": "Contents",
   "toc_cell": false,
   "toc_position": {},
   "toc_section_display": true,
   "toc_window_display": false
  }
 },
 "nbformat": 4,
 "nbformat_minor": 5
}
